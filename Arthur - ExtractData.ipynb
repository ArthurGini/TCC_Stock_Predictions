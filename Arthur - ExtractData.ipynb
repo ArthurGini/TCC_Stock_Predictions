{
 "cells": [
  {
   "cell_type": "code",
   "execution_count": 1,
   "id": "efffa3df-1a49-44e8-99e2-b6f90e989e63",
   "metadata": {},
   "outputs": [],
   "source": [
    "lista_acoes = ['BOVA11.SA']               \n",
    "init_extract_date = '2010-6-30'\n",
    "end_extract_date = '2021-11-10'\n",
    "lookback = 5\n",
    "\n",
    "str_colunas_sem=['1','2','3','4']"
   ]
  },
  {
   "cell_type": "code",
   "execution_count": 2,
   "id": "6327ec85-ceed-4f51-8150-9e4bb406ceb4",
   "metadata": {},
   "outputs": [],
   "source": [
    "# Ingerindo dados do IBOVA \n",
    "from pandas_datareader._utils import RemoteDataError\n",
    "import pandas as pd\n",
    "from pandas_datareader import data as wb \n",
    "\n",
    "df = pd.DataFrame()\n",
    "try:\n",
    "    data = wb.DataReader(lista_acoes[0], data_source ='yahoo', start = init_extract_date, end=end_extract_date)['Adj Close']\n",
    "except RemoteDataError:\n",
    "    print('yahoo fora do ar')"
   ]
  },
  {
   "cell_type": "code",
   "execution_count": 3,
   "metadata": {},
   "outputs": [],
   "source": [
    "# Transformar series.series em DF\n",
    "\t# Gerar outro df com MACD\n",
    "\t# https://technical-analysis-library-in-python.readthedocs.io/en/latest/ta.html#ta.trend.MACD\n",
    "\n",
    "# Exemplo de uso do TA:\n",
    "# https://www.youtube.com/watch?v=s3KIV-WaNuQ\n",
    "\n",
    "df = pd.DataFrame([data])"
   ]
  },
  {
   "cell_type": "code",
   "execution_count": 4,
   "metadata": {},
   "outputs": [],
   "source": [
    "df = data.to_frame().T"
   ]
  },
  {
   "cell_type": "code",
   "execution_count": 5,
   "metadata": {},
   "outputs": [],
   "source": [
    "df = pd.DataFrame(data, columns=['date','close'])"
   ]
  },
  {
   "cell_type": "code",
   "execution_count": 6,
   "metadata": {},
   "outputs": [
    {
     "data": {
      "text/html": [
       "<div>\n",
       "<style scoped>\n",
       "    .dataframe tbody tr th:only-of-type {\n",
       "        vertical-align: middle;\n",
       "    }\n",
       "\n",
       "    .dataframe tbody tr th {\n",
       "        vertical-align: top;\n",
       "    }\n",
       "\n",
       "    .dataframe thead th {\n",
       "        text-align: right;\n",
       "    }\n",
       "</style>\n",
       "<table border=\"1\" class=\"dataframe\">\n",
       "  <thead>\n",
       "    <tr style=\"text-align: right;\">\n",
       "      <th></th>\n",
       "      <th>date</th>\n",
       "      <th>close</th>\n",
       "    </tr>\n",
       "  </thead>\n",
       "  <tbody>\n",
       "  </tbody>\n",
       "</table>\n",
       "</div>"
      ],
      "text/plain": [
       "Empty DataFrame\n",
       "Columns: [date, close]\n",
       "Index: []"
      ]
     },
     "execution_count": 6,
     "metadata": {},
     "output_type": "execute_result"
    }
   ],
   "source": [
    "df.head()"
   ]
  },
  {
   "cell_type": "code",
   "execution_count": 7,
   "id": "53b9630e-4c15-44ec-b857-2891e96179ac",
   "metadata": {},
   "outputs": [
    {
     "data": {
      "text/plain": [
       "date     0.0\n",
       "close    0.0\n",
       "dtype: float64"
      ]
     },
     "execution_count": 7,
     "metadata": {},
     "output_type": "execute_result"
    }
   ],
   "source": [
    "df.isna().sum()"
   ]
  },
  {
   "cell_type": "code",
   "execution_count": 8,
   "metadata": {},
   "outputs": [
    {
     "ename": "TypeError",
     "evalue": "'Index' object is not callable",
     "output_type": "error",
     "traceback": [
      "\u001b[1;31m---------------------------------------------------------------------------\u001b[0m",
      "\u001b[1;31mTypeError\u001b[0m                                 Traceback (most recent call last)",
      "\u001b[1;32m~\\AppData\\Local\\Temp/ipykernel_7088/1201517044.py\u001b[0m in \u001b[0;36m<module>\u001b[1;34m\u001b[0m\n\u001b[1;32m----> 1\u001b[1;33m \u001b[1;32mfor\u001b[0m \u001b[0mcol\u001b[0m \u001b[1;32min\u001b[0m \u001b[0mdf\u001b[0m\u001b[1;33m.\u001b[0m\u001b[0mcolumns\u001b[0m\u001b[1;33m(\u001b[0m\u001b[1;33m)\u001b[0m\u001b[1;33m:\u001b[0m\u001b[1;33m\u001b[0m\u001b[1;33m\u001b[0m\u001b[0m\n\u001b[0m\u001b[0;32m      2\u001b[0m                 \u001b[0mprint\u001b[0m\u001b[1;33m(\u001b[0m\u001b[0mcol\u001b[0m\u001b[1;33m)\u001b[0m\u001b[1;33m\u001b[0m\u001b[1;33m\u001b[0m\u001b[0m\n",
      "\u001b[1;31mTypeError\u001b[0m: 'Index' object is not callable"
     ]
    }
   ],
   "source": [
    "for col in df.columns():\n",
    "\t\tprint(col)"
   ]
  },
  {
   "cell_type": "code",
   "execution_count": null,
   "metadata": {},
   "outputs": [
    {
     "ename": "InvalidIndexError",
     "evalue": "('date', 'close')",
     "output_type": "error",
     "traceback": [
      "\u001b[1;31m---------------------------------------------------------------------------\u001b[0m",
      "\u001b[1;31mInvalidIndexError\u001b[0m                         Traceback (most recent call last)",
      "\u001b[1;32m~\\AppData\\Local\\Temp/ipykernel_11984/2044958916.py\u001b[0m in \u001b[0;36m<module>\u001b[1;34m\u001b[0m\n\u001b[1;32m----> 1\u001b[1;33m \u001b[0mdf\u001b[0m \u001b[1;33m=\u001b[0m \u001b[0mdf\u001b[0m\u001b[1;33m[\u001b[0m\u001b[1;34m'date'\u001b[0m\u001b[1;33m,\u001b[0m\u001b[1;34m'close'\u001b[0m\u001b[1;33m]\u001b[0m\u001b[1;33m\u001b[0m\u001b[1;33m\u001b[0m\u001b[0m\n\u001b[0m",
      "\u001b[1;32m~\\.conda\\envs\\pystock\\lib\\site-packages\\pandas\\core\\series.py\u001b[0m in \u001b[0;36m__getitem__\u001b[1;34m(self, key)\u001b[0m\n\u001b[0;32m    946\u001b[0m             \u001b[1;32mtry\u001b[0m\u001b[1;33m:\u001b[0m\u001b[1;33m\u001b[0m\u001b[1;33m\u001b[0m\u001b[0m\n\u001b[0;32m    947\u001b[0m                 \u001b[1;31m# For labels that don't resolve as scalars like tuples and frozensets\u001b[0m\u001b[1;33m\u001b[0m\u001b[1;33m\u001b[0m\u001b[1;33m\u001b[0m\u001b[0m\n\u001b[1;32m--> 948\u001b[1;33m                 \u001b[0mresult\u001b[0m \u001b[1;33m=\u001b[0m \u001b[0mself\u001b[0m\u001b[1;33m.\u001b[0m\u001b[0m_get_value\u001b[0m\u001b[1;33m(\u001b[0m\u001b[0mkey\u001b[0m\u001b[1;33m)\u001b[0m\u001b[1;33m\u001b[0m\u001b[1;33m\u001b[0m\u001b[0m\n\u001b[0m\u001b[0;32m    949\u001b[0m \u001b[1;33m\u001b[0m\u001b[0m\n\u001b[0;32m    950\u001b[0m                 \u001b[1;32mreturn\u001b[0m \u001b[0mresult\u001b[0m\u001b[1;33m\u001b[0m\u001b[1;33m\u001b[0m\u001b[0m\n",
      "\u001b[1;32m~\\.conda\\envs\\pystock\\lib\\site-packages\\pandas\\core\\series.py\u001b[0m in \u001b[0;36m_get_value\u001b[1;34m(self, label, takeable)\u001b[0m\n\u001b[0;32m   1049\u001b[0m \u001b[1;33m\u001b[0m\u001b[0m\n\u001b[0;32m   1050\u001b[0m         \u001b[1;31m# Similar to Index.get_value, but we do not fall back to positional\u001b[0m\u001b[1;33m\u001b[0m\u001b[1;33m\u001b[0m\u001b[1;33m\u001b[0m\u001b[0m\n\u001b[1;32m-> 1051\u001b[1;33m         \u001b[0mloc\u001b[0m \u001b[1;33m=\u001b[0m \u001b[0mself\u001b[0m\u001b[1;33m.\u001b[0m\u001b[0mindex\u001b[0m\u001b[1;33m.\u001b[0m\u001b[0mget_loc\u001b[0m\u001b[1;33m(\u001b[0m\u001b[0mlabel\u001b[0m\u001b[1;33m)\u001b[0m\u001b[1;33m\u001b[0m\u001b[1;33m\u001b[0m\u001b[0m\n\u001b[0m\u001b[0;32m   1052\u001b[0m         \u001b[1;32mreturn\u001b[0m \u001b[0mself\u001b[0m\u001b[1;33m.\u001b[0m\u001b[0mindex\u001b[0m\u001b[1;33m.\u001b[0m\u001b[0m_get_values_for_loc\u001b[0m\u001b[1;33m(\u001b[0m\u001b[0mself\u001b[0m\u001b[1;33m,\u001b[0m \u001b[0mloc\u001b[0m\u001b[1;33m,\u001b[0m \u001b[0mlabel\u001b[0m\u001b[1;33m)\u001b[0m\u001b[1;33m\u001b[0m\u001b[1;33m\u001b[0m\u001b[0m\n\u001b[0;32m   1053\u001b[0m \u001b[1;33m\u001b[0m\u001b[0m\n",
      "\u001b[1;32m~\\.conda\\envs\\pystock\\lib\\site-packages\\pandas\\core\\indexes\\datetimes.py\u001b[0m in \u001b[0;36mget_loc\u001b[1;34m(self, key, method, tolerance)\u001b[0m\n\u001b[0;32m    661\u001b[0m         \"\"\"\n\u001b[0;32m    662\u001b[0m         \u001b[1;32mif\u001b[0m \u001b[1;32mnot\u001b[0m \u001b[0mis_scalar\u001b[0m\u001b[1;33m(\u001b[0m\u001b[0mkey\u001b[0m\u001b[1;33m)\u001b[0m\u001b[1;33m:\u001b[0m\u001b[1;33m\u001b[0m\u001b[1;33m\u001b[0m\u001b[0m\n\u001b[1;32m--> 663\u001b[1;33m             \u001b[1;32mraise\u001b[0m \u001b[0mInvalidIndexError\u001b[0m\u001b[1;33m(\u001b[0m\u001b[0mkey\u001b[0m\u001b[1;33m)\u001b[0m\u001b[1;33m\u001b[0m\u001b[1;33m\u001b[0m\u001b[0m\n\u001b[0m\u001b[0;32m    664\u001b[0m \u001b[1;33m\u001b[0m\u001b[0m\n\u001b[0;32m    665\u001b[0m         \u001b[0morig_key\u001b[0m \u001b[1;33m=\u001b[0m \u001b[0mkey\u001b[0m\u001b[1;33m\u001b[0m\u001b[1;33m\u001b[0m\u001b[0m\n",
      "\u001b[1;31mInvalidIndexError\u001b[0m: ('date', 'close')"
     ]
    }
   ],
   "source": [
    "df = df['date','close']"
   ]
  },
  {
   "cell_type": "code",
   "execution_count": null,
   "metadata": {},
   "outputs": [],
   "source": [
    "df = pd.DataFrame(df)\n"
   ]
  },
  {
   "cell_type": "code",
   "execution_count": null,
   "id": "47935bb7-0233-4630-956e-21952282d3ba",
   "metadata": {},
   "outputs": [
    {
     "data": {
      "text/plain": [
       "<bound method NDFrame.head of Date\n",
       "2010-06-30     60.369999\n",
       "2010-07-01     60.619999\n",
       "2010-07-02     60.900002\n",
       "2010-07-05     60.389999\n",
       "2010-07-06     61.599998\n",
       "                 ...    \n",
       "2021-11-04     99.650002\n",
       "2021-11-05    100.809998\n",
       "2021-11-08    100.830002\n",
       "2021-11-09    101.389999\n",
       "2021-11-10    102.019997\n",
       "Name: Adj Close, Length: 2816, dtype: float64>"
      ]
     },
     "execution_count": 11,
     "metadata": {},
     "output_type": "execute_result"
    }
   ],
   "source": [
    "df.head"
   ]
  },
  {
   "cell_type": "code",
   "execution_count": null,
   "id": "6da86ddb-8c05-4ce6-93ef-871daec45edd",
   "metadata": {},
   "outputs": [
    {
     "ename": "NameError",
     "evalue": "name 'df_macd' is not defined",
     "output_type": "error",
     "traceback": [
      "\u001b[1;31m---------------------------------------------------------------------------\u001b[0m",
      "\u001b[1;31mNameError\u001b[0m                                 Traceback (most recent call last)",
      "\u001b[1;32m~\\AppData\\Local\\Temp/ipykernel_11984/3705804931.py\u001b[0m in \u001b[0;36m<module>\u001b[1;34m\u001b[0m\n\u001b[0;32m      2\u001b[0m \u001b[1;32mfrom\u001b[0m \u001b[0mta\u001b[0m \u001b[1;32mimport\u001b[0m \u001b[0mtrend\u001b[0m\u001b[1;33m\u001b[0m\u001b[1;33m\u001b[0m\u001b[0m\n\u001b[0;32m      3\u001b[0m \u001b[1;33m\u001b[0m\u001b[0m\n\u001b[1;32m----> 4\u001b[1;33m \u001b[0mdf_macd\u001b[0m \u001b[1;33m=\u001b[0m \u001b[0mtrend\u001b[0m\u001b[1;33m.\u001b[0m\u001b[0mmacd\u001b[0m\u001b[1;33m(\u001b[0m\u001b[0mdf_macd\u001b[0m\u001b[1;33m.\u001b[0m\u001b[0miloc\u001b[0m\u001b[1;33m[\u001b[0m\u001b[1;36m0\u001b[0m\u001b[1;33m]\u001b[0m\u001b[1;33m,\u001b[0m\u001b[0mwindow_fast\u001b[0m \u001b[1;33m=\u001b[0m \u001b[1;36m26\u001b[0m\u001b[1;33m,\u001b[0m \u001b[0mwindow_sign\u001b[0m \u001b[1;33m=\u001b[0m \u001b[1;36m9\u001b[0m\u001b[1;33m,\u001b[0m \u001b[0mfillna\u001b[0m \u001b[1;33m=\u001b[0m \u001b[1;32mTrue\u001b[0m\u001b[1;33m)\u001b[0m\u001b[1;33m\u001b[0m\u001b[1;33m\u001b[0m\u001b[0m\n\u001b[0m\u001b[0;32m      5\u001b[0m \u001b[1;33m\u001b[0m\u001b[0m\n\u001b[0;32m      6\u001b[0m \u001b[1;31m# df_macd = trend.macd(df_acoes)\u001b[0m\u001b[1;33m\u001b[0m\u001b[1;33m\u001b[0m\u001b[1;33m\u001b[0m\u001b[0m\n",
      "\u001b[1;31mNameError\u001b[0m: name 'df_macd' is not defined"
     ]
    }
   ],
   "source": [
    "# Pegando o indicador MACD\n",
    "from ta import trend \n",
    "\n",
    "df_macd = trend.macd(df_macd.iloc[0],window_fast = 26, window_sign = 9, fillna = True)\n",
    "\n",
    "# df_macd = trend.macd(df_acoes)"
   ]
  },
  {
   "cell_type": "code",
   "execution_count": null,
   "id": "2c0fa262-f924-45e9-8a55-2911e8f5223f",
   "metadata": {},
   "outputs": [
    {
     "data": {
      "text/plain": [
       "Index(['BOVA11.SA'], dtype='object')"
      ]
     },
     "execution_count": 29,
     "metadata": {},
     "output_type": "execute_result"
    }
   ],
   "source": [
    "df_acoes.columns"
   ]
  },
  {
   "cell_type": "code",
   "execution_count": null,
   "id": "1d6a4a44-652a-4783-b6fb-74ce731ddb26",
   "metadata": {},
   "outputs": [
    {
     "data": {
      "text/plain": [
       "<AxesSubplot:xlabel='Date'>"
      ]
     },
     "execution_count": 30,
     "metadata": {},
     "output_type": "execute_result"
    },
    {
     "data": {
      "image/png": "[encoded data removed]",
      "text/plain": [
       "<Figure size 1080x576 with 1 Axes>"
      ]
     },
     "metadata": {
      "needs_background": "light"
     },
     "output_type": "display_data"
    }
   ],
   "source": [
    "(df_acoes / df_acoes.iloc[0] * 100).plot(figsize=(15,8))"
   ]
  },
  {
   "cell_type": "code",
   "execution_count": null,
   "id": "97caa221-141f-44f2-a287-792157cceb90",
   "metadata": {},
   "outputs": [],
   "source": [
    "# Separando dados para cada linha 5 dias (Entrada para o modelo)\n",
    "# lookback = Dias a olhar para tras \n",
    "dates = df_acoes.index\n",
    "separados={}\n",
    "for acao in df_acoes:\n",
    "    prices = list(df_acoes[acao].values)\n",
    "    counter_ = -1\n",
    "    price_series = []\n",
    "    for day in dates:\n",
    "        counter_ += 1\n",
    "        # if counter_ % 1000 == 0: print(counter_)\n",
    "        if counter_ >= lookback:\n",
    "            price_series.append(prices[counter_-lookback:counter_])\n",
    "            #print(prices[counter_-lookback:counter_])\n",
    "\n",
    "    separados[acao]=pd.DataFrame(price_series) "
   ]
  },
  {
   "cell_type": "code",
   "execution_count": null,
   "id": "64964341-5308-478c-997d-0aab22bb9ade",
   "metadata": {},
   "outputs": [
    {
     "data": {
      "text/plain": [
       "{'BOVA11.SA':                0           1           2           3           4\n",
       " 0      60.369999   60.619999   60.900002   60.389999   61.599998\n",
       " 1      60.619999   60.900002   60.389999   61.599998   62.799999\n",
       " 2      60.900002   60.389999   61.599998   62.799999   63.099998\n",
       " 3      60.389999   61.599998   62.799999   63.099998   62.500000\n",
       " 4      61.599998   62.799999   63.099998   62.500000   63.250000\n",
       " ...          ...         ...         ...         ...         ...\n",
       " 2806  102.400002  100.610001   99.680000  101.519997  102.000000\n",
       " 2807  100.610001   99.680000  101.519997  102.000000   99.650002\n",
       " 2808   99.680000  101.519997  102.000000   99.650002  100.809998\n",
       " 2809  101.519997  102.000000   99.650002  100.809998  100.830002\n",
       " 2810  102.000000   99.650002  100.809998  100.830002  101.389999\n",
       " \n",
       " [2811 rows x 5 columns]}"
      ]
     },
     "execution_count": 32,
     "metadata": {},
     "output_type": "execute_result"
    }
   ],
   "source": [
    "separados"
   ]
  },
  {
   "cell_type": "code",
   "execution_count": null,
   "id": "5fc7f981-b246-4148-9c8f-b8de1c2e2a54",
   "metadata": {},
   "outputs": [],
   "source": [
    "import copy\n",
    "aux=copy.deepcopy(separados)"
   ]
  },
  {
   "cell_type": "code",
   "execution_count": null,
   "id": "1830aea2-2a9b-426f-9a5b-72918b94e3b6",
   "metadata": {},
   "outputs": [
    {
     "data": {
      "text/plain": [
       "{'BOVA11.SA':                0           1           2           3           4\n",
       " 0      60.369999   60.619999   60.900002   60.389999   61.599998\n",
       " 1      60.619999   60.900002   60.389999   61.599998   62.799999\n",
       " 2      60.900002   60.389999   61.599998   62.799999   63.099998\n",
       " 3      60.389999   61.599998   62.799999   63.099998   62.500000\n",
       " 4      61.599998   62.799999   63.099998   62.500000   63.250000\n",
       " ...          ...         ...         ...         ...         ...\n",
       " 2806  102.400002  100.610001   99.680000  101.519997  102.000000\n",
       " 2807  100.610001   99.680000  101.519997  102.000000   99.650002\n",
       " 2808   99.680000  101.519997  102.000000   99.650002  100.809998\n",
       " 2809  101.519997  102.000000   99.650002  100.809998  100.830002\n",
       " 2810  102.000000   99.650002  100.809998  100.830002  101.389999\n",
       " \n",
       " [2811 rows x 5 columns]}"
      ]
     },
     "execution_count": 34,
     "metadata": {},
     "output_type": "execute_result"
    }
   ],
   "source": [
    "aux"
   ]
  },
  {
   "cell_type": "code",
   "execution_count": null,
   "id": "99cc7b72-daaf-427a-afed-9df72424b390",
   "metadata": {},
   "outputs": [],
   "source": [
    "import numpy as np\n",
    "# Normalizando a base de dados:\n",
    "# Implementando o ROC manualmente\n",
    "# Rate of Change\n",
    "# TODO: Ver de implementar quantecon para mais indicadores técnicos\n",
    "porcentagens={}\n",
    "for acao in aux:\n",
    "    #print(aux[acao])\n",
    "    resultados=[]\n",
    "    for item in aux[acao].itertuples():\n",
    "        row=[]\n",
    "        for x in range (1,lookback+1):\n",
    "            row.append(item[x])\n",
    "        arr=np.array(row)\n",
    "        #print (arr)\n",
    "        cont=0\n",
    "        porcentagem=[]\n",
    "        for j in range (1,lookback):\n",
    "            resp=((arr[j] / arr[0] * 100))-100\n",
    "            #print (resp)\n",
    "            #print (\"\\n\",arr[j])\n",
    "            porcentagem.append(resp)\n",
    "\n",
    "        #print(\"\\n\")\n",
    "        resultados.append(porcentagem)\n",
    "        porcentagens[acao]=pd.DataFrame(columns=str_colunas_sem,data=resultados)"
   ]
  },
  {
   "cell_type": "code",
   "execution_count": null,
   "id": "b3dd133f-6451-4fee-8a9b-572e2aac3a55",
   "metadata": {},
   "outputs": [
    {
     "data": {
      "text/plain": [
       "{'BOVA11.SA':              1         2         3         4\n",
       " 0     0.414113  0.877924  0.033130  2.037435\n",
       " 1     0.461898 -0.379412  1.616627  3.596173\n",
       " 2    -0.837442  1.149420  3.119865  3.612474\n",
       " 3     2.003641  3.990727  4.487496  3.493957\n",
       " 4     1.948053  2.435065  1.461041  2.678574\n",
       " ...        ...       ...       ...       ...\n",
       " 2806 -1.748048 -2.656251 -0.859380 -0.390626\n",
       " 2807 -0.924362  0.904479  1.381572 -0.954179\n",
       " 2808  1.845903  2.327448 -0.030095  1.133625\n",
       " 2809  0.472817 -1.841997 -0.699369 -0.679664\n",
       " 2810 -2.303920 -1.166669 -1.147057 -0.598040\n",
       " \n",
       " [2811 rows x 4 columns]}"
      ]
     },
     "execution_count": 36,
     "metadata": {},
     "output_type": "execute_result"
    }
   ],
   "source": [
    "porcentagens"
   ]
  },
  {
   "cell_type": "code",
   "execution_count": null,
   "id": "721f6991-18ce-4349-86bc-9a0add376098",
   "metadata": {},
   "outputs": [],
   "source": [
    "df = pd.DataFrame([porcentagens])"
   ]
  },
  {
   "cell_type": "code",
   "execution_count": null,
   "id": "5e84edfb-45a5-4387-8a31-5bf188cebb4a",
   "metadata": {},
   "outputs": [
    {
     "data": {
      "text/plain": [
       "{'BOVA11.SA':              1         2         3         4\n",
       " 0     0.414113  0.877924  0.033130  2.037435\n",
       " 1     0.461898 -0.379412  1.616627  3.596173\n",
       " 2    -0.837442  1.149420  3.119865  3.612474\n",
       " 3     2.003641  3.990727  4.487496  3.493957\n",
       " 4     1.948053  2.435065  1.461041  2.678574\n",
       " ...        ...       ...       ...       ...\n",
       " 2806 -1.748048 -2.656251 -0.859380 -0.390626\n",
       " 2807 -0.924362  0.904479  1.381572 -0.954179\n",
       " 2808  1.845903  2.327448 -0.030095  1.133625\n",
       " 2809  0.472817 -1.841997 -0.699369 -0.679664\n",
       " 2810 -2.303920 -1.166669 -1.147057 -0.598040\n",
       " \n",
       " [2811 rows x 4 columns]}"
      ]
     },
     "execution_count": 38,
     "metadata": {},
     "output_type": "execute_result"
    }
   ],
   "source": [
    "porcentagens"
   ]
  },
  {
   "cell_type": "code",
   "execution_count": null,
   "id": "f311607a-934a-46e4-ab33-d16ba083d564",
   "metadata": {},
   "outputs": [
    {
     "data": {
      "text/plain": [
       "dict_keys(['BOVA11.SA'])"
      ]
     },
     "execution_count": 39,
     "metadata": {},
     "output_type": "execute_result"
    }
   ],
   "source": [
    "porcentagens.keys()"
   ]
  },
  {
   "cell_type": "code",
   "execution_count": null,
   "id": "cf4c4d2f-1242-436a-a0c6-9b4e46be8f3b",
   "metadata": {},
   "outputs": [],
   "source": [
    "# df = pd.DataFrame.from_dict(porcentagens,orient='index',columns=['teste'])\n",
    "# Transformando dict em dataframe [quebrado]\n",
    "df = pd.DataFrame(list(porcentagens.items()), columns=['DateValue','teste'])"
   ]
  },
  {
   "cell_type": "code",
   "execution_count": null,
   "id": "5457c249-6f7d-4885-a9db-933280114492",
   "metadata": {},
   "outputs": [
    {
     "data": {
      "text/plain": [
       "DateValue    1\n",
       "teste        1\n",
       "dtype: int64"
      ]
     },
     "execution_count": 41,
     "metadata": {},
     "output_type": "execute_result"
    }
   ],
   "source": [
    "df.count()"
   ]
  },
  {
   "cell_type": "code",
   "execution_count": null,
   "id": "49dfc794-b284-4bb0-93d7-ca4f01e3138e",
   "metadata": {},
   "outputs": [
    {
     "data": {
      "text/html": [
       "<div>\n",
       "<style scoped>\n",
       "    .dataframe tbody tr th:only-of-type {\n",
       "        vertical-align: middle;\n",
       "    }\n",
       "\n",
       "    .dataframe tbody tr th {\n",
       "        vertical-align: top;\n",
       "    }\n",
       "\n",
       "    .dataframe thead th {\n",
       "        text-align: right;\n",
       "    }\n",
       "</style>\n",
       "<table border=\"1\" class=\"dataframe\">\n",
       "  <thead>\n",
       "    <tr style=\"text-align: right;\">\n",
       "      <th></th>\n",
       "      <th>DateValue</th>\n",
       "      <th>teste</th>\n",
       "    </tr>\n",
       "  </thead>\n",
       "  <tbody>\n",
       "    <tr>\n",
       "      <th>0</th>\n",
       "      <td>BOVA11.SA</td>\n",
       "      <td>1         2         3         4\n",
       "0...</td>\n",
       "    </tr>\n",
       "  </tbody>\n",
       "</table>\n",
       "</div>"
      ],
      "text/plain": [
       "   DateValue                                              teste\n",
       "0  BOVA11.SA               1         2         3         4\n",
       "0..."
      ]
     },
     "execution_count": 42,
     "metadata": {},
     "output_type": "execute_result"
    }
   ],
   "source": [
    "df.head()"
   ]
  },
  {
   "cell_type": "code",
   "execution_count": null,
   "id": "aa742626-1f45-4a63-9ff3-d8e2859ccd75",
   "metadata": {},
   "outputs": [
    {
     "data": {
      "text/plain": [
       "{'BOVA11.SA':              1         2         3         4\n",
       " 0     0.414113  0.877924  0.033130  2.037435\n",
       " 1     0.461898 -0.379412  1.616627  3.596173\n",
       " 2    -0.837442  1.149420  3.119865  3.612474\n",
       " 3     2.003641  3.990727  4.487496  3.493957\n",
       " 4     1.948053  2.435065  1.461041  2.678574\n",
       " ...        ...       ...       ...       ...\n",
       " 2806 -1.748048 -2.656251 -0.859380 -0.390626\n",
       " 2807 -0.924362  0.904479  1.381572 -0.954179\n",
       " 2808  1.845903  2.327448 -0.030095  1.133625\n",
       " 2809  0.472817 -1.841997 -0.699369 -0.679664\n",
       " 2810 -2.303920 -1.166669 -1.147057 -0.598040\n",
       " \n",
       " [2811 rows x 4 columns]}"
      ]
     },
     "execution_count": 43,
     "metadata": {},
     "output_type": "execute_result"
    }
   ],
   "source": [
    "porcentagens"
   ]
  },
  {
   "cell_type": "code",
   "execution_count": null,
   "id": "221460bc-2c86-42fc-a110-912f87a45ee4",
   "metadata": {},
   "outputs": [
    {
     "ename": "TypeError",
     "evalue": "a bytes-like object is required, not 'str'",
     "output_type": "error",
     "traceback": [
      "\u001b[1;31m---------------------------------------------------------------------------\u001b[0m",
      "\u001b[1;31mTypeError\u001b[0m                                 Traceback (most recent call last)",
      "\u001b[1;32m~\\AppData\\Local\\Temp/ipykernel_6364/3483997613.py\u001b[0m in \u001b[0;36m<module>\u001b[1;34m\u001b[0m\n\u001b[0;32m      4\u001b[0m     \u001b[0mw\u001b[0m \u001b[1;33m=\u001b[0m \u001b[0mcsv\u001b[0m\u001b[1;33m.\u001b[0m\u001b[0mwriter\u001b[0m\u001b[1;33m(\u001b[0m\u001b[0mf\u001b[0m\u001b[1;33m)\u001b[0m\u001b[1;33m\u001b[0m\u001b[1;33m\u001b[0m\u001b[0m\n\u001b[0;32m      5\u001b[0m     \u001b[1;31m# w.writerow(porcentagens.keys())\u001b[0m\u001b[1;33m\u001b[0m\u001b[1;33m\u001b[0m\u001b[1;33m\u001b[0m\u001b[0m\n\u001b[1;32m----> 6\u001b[1;33m     \u001b[0mw\u001b[0m\u001b[1;33m.\u001b[0m\u001b[0mwriterow\u001b[0m\u001b[1;33m(\u001b[0m\u001b[0mporcentagens\u001b[0m\u001b[1;33m.\u001b[0m\u001b[0mvalues\u001b[0m\u001b[1;33m(\u001b[0m\u001b[1;33m)\u001b[0m\u001b[1;33m)\u001b[0m\u001b[1;33m\u001b[0m\u001b[1;33m\u001b[0m\u001b[0m\n\u001b[0m",
      "\u001b[1;31mTypeError\u001b[0m: a bytes-like object is required, not 'str'"
     ]
    }
   ],
   "source": [
    "import csv\n",
    "# tentando salvar o dict em csv\n",
    "with open('ibovRoc.csv','wb') as f:\n",
    "    w = csv.writer(f)\n",
    "    # w.writerow(porcentagens.keys())\n",
    "    w.writerow(porcentagens.values())"
   ]
  },
  {
   "cell_type": "code",
   "execution_count": null,
   "id": "2c2ed3ca-be17-4e83-91ea-d77f1c993f96",
   "metadata": {},
   "outputs": [
    {
     "data": {
      "text/plain": [
       "1"
      ]
     },
     "execution_count": 43,
     "metadata": {},
     "output_type": "execute_result"
    }
   ],
   "source": [
    "len(porcentagens)"
   ]
  },
  {
   "cell_type": "code",
   "execution_count": null,
   "id": "3a6553d1-ef94-423b-91a1-8e19ac8febd6",
   "metadata": {},
   "outputs": [],
   "source": []
  }
 ],
 "metadata": {
  "interpreter": {
   "hash": "8949756f31a89c949d21dc88cc29a9a975f9c9df810132ca4a98332ae1fc2efb"
  },
  "kernelspec": {
   "display_name": "Python 3.8.12 64-bit ('pystock': conda)",
   "name": "python3"
  },
  "language_info": {
   "codemirror_mode": {
    "name": "ipython",
    "version": 3
   },
   "file_extension": ".py",
   "mimetype": "text/x-python",
   "name": "python",
   "nbconvert_exporter": "python",
   "pygments_lexer": "ipython3",
   "version": "3.8.12"
  }
 },
 "nbformat": 4,
 "nbformat_minor": 5
}
