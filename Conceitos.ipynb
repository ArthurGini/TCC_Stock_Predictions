{
 "cells": [
  {
   "cell_type": "code",
   "execution_count": null,
   "metadata": {},
   "outputs": [],
   "source": []
  },
  {
   "cell_type": "markdown",
   "metadata": {},
   "source": [
    "# Base de treino"
   ]
  },
  {
   "cell_type": "markdown",
   "metadata": {},
   "source": [
    "Colunas: 'Unnamed: 0', 'ibova_1', 'ibova_2', 'ibova_3', 'ibova_4','ibova_5','oil_1', 'oil_2', 'oil_3', 'oil_4', 'oil_5', 'usd_1','usd_2', 'usd_3','usd_4', 'usd_5'"
   ]
  },
  {
   "cell_type": "markdown",
   "metadata": {},
   "source": [
    "# Modelo"
   ]
  },
  {
   "cell_type": "markdown",
   "metadata": {},
   "source": [
    "### Ativação: Softmax"
   ]
  },
  {
   "cell_type": "markdown",
   "metadata": {},
   "source": [
    "É uma generalização de função logistica para multiplas dimenções\n",
    "Ele normaliza a saida da rede para uma distribuição de probabilidade baseada no axioma de \"Luce's choice\"\n",
    "Setando os componentes de 0 a 1"
   ]
  },
  {
   "cell_type": "markdown",
   "metadata": {},
   "source": [
    "### Otimizador: Adam"
   ]
  },
  {
   "cell_type": "markdown",
   "metadata": {},
   "source": [
    "Estocastico gradiente descendente que atualiza os pesos iterativamente na base de treinamento"
   ]
  }
 ],
 "metadata": {
  "language_info": {
   "name": "python"
  },
  "orig_nbformat": 4
 },
 "nbformat": 4,
 "nbformat_minor": 2
}
