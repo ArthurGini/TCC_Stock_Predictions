{
 "cells": [
  {
   "cell_type": "code",
   "execution_count": null,
   "metadata": {},
   "outputs": [],
   "source": [
    "from sklearn.metrics import mean_squared_error, mean_absolute_percentage_error\n",
    "\n",
    "import numpy as np\n",
    "import math\n",
    "import pathlib\n",
    "import pandas as pd\n",
    "import os\n",
    "\n",
    "from tensorflow import keras\n",
    "\n",
    "import plotly.express as px\n",
    "import plotly.graph_objects as go\n",
    "\n",
    "import datetime\n"
   ]
  },
  {
   "cell_type": "code",
   "execution_count": null,
   "metadata": {},
   "outputs": [],
   "source": [
    "# Continuar desenvolvimento:\n",
    "# https://plotly.com/python/line-charts/#line-plots-with-column-encoding-color\n",
    "\n",
    "def show_copare_prediction():\n",
    "\tfig = px.line(df, x='index', y='predictions', title='Ibova predito')\n",
    "\tfig.add_scatter(x=df['index'], y=df['real_values'], mode='lines')\n",
    "\tfig.show()\n",
    "\n",
    "def show_distribution_error():\n",
    "\tfig = px.histogram(df,x='error', )\n",
    "\tfig.show()\n",
    "\n",
    "\n",
    "def RMSE(Y_actual,Y_Predicted):\n",
    "\n",
    "\trmse = mean_squared_error(Y_actual, Y_Predicted, squared = False)\n",
    "\treturn rmse\n",
    "\n",
    "\n",
    "def MAPE(actual, predicted) -> float:\n",
    "\treturn round(np.mean(np.abs(( actual - predicted) / actual)) * 100, 2)\n",
    "\n"
   ]
  },
  {
   "cell_type": "code",
   "execution_count": null,
   "metadata": {},
   "outputs": [],
   "source": [
    "# Reading DF teste\n",
    "PATH_TESTE = '../Data/3_Gold/Teste_all_stocks.csv'\n",
    "DF_TESTE = pd.read_csv(PATH_TESTE, sep=\",\")\n",
    "test_dataset = DF_TESTE\n",
    "\n",
    "test_dataset = test_dataset.drop(['oil_5','usd_5','abev_5','jbs_5','petr_5','vale_5',],axis=1)\n",
    "test_labels = test_dataset.pop('ibova_5')"
   ]
  },
  {
   "cell_type": "code",
   "execution_count": null,
   "metadata": {},
   "outputs": [],
   "source": [
    "TYPE_MODEL = 'CNN'\n",
    "# MODELS_PATH = f'../Experiments/Models/{TYPE_MODEL}/'\n",
    "MODELS_PATH = f'../Experiments/Models/{TYPE_MODEL}/'\n",
    "SAVE_TIME = datetime.datetime.strftime(datetime.datetime.now(), \"%y_%m_%d_%Hh%Mm%S\")\n",
    "\n",
    "models = os.listdir(MODELS_PATH)\n",
    "\n",
    "# Carregando os modelos \n",
    "df_results = pd.DataFrame(columns=['path_model','MAPE','RMSE','model_type'])\n",
    "\n",
    "for id, model_path in enumerate(models):\n",
    "\tprint(model_path)\n",
    "\n",
    "\tmodel = keras.models.load_model(f'../Experiments/Models/{TYPE_MODEL}/{model_path}')\n",
    "\t# Model\\Models\\MLP\n",
    "\ttest_predictions = model.predict(test_dataset).flatten()\n",
    "\n",
    "\t# Definindo o Dfs\n",
    "\tdf_predic = pd.DataFrame(test_predictions, columns=['predictions'])\n",
    "\tdf_predic = df_predic.reset_index()\n",
    "\n",
    "\tdf_label = pd.DataFrame(test_labels.values, columns=['real_values'])\n",
    "\tdf_label = df_label.reset_index()\n",
    "\n",
    "\t# Validação da quantidade de resultados\n",
    "\t# predict_len = len(test_predictions)\n",
    "\t# print(f'Predict len: {predict_len}')\n",
    "\n",
    "\terror = test_predictions - test_labels\n",
    "\tdf_error = pd.DataFrame(error.values, columns=['error'])\n",
    "\tdf_error = df_error.reset_index()\n",
    "\n",
    "\t# Merging Df\n",
    "\tdf = df_predic.merge(df_label)\n",
    "\tdf = df.merge(df_error)\n",
    "\n",
    "\t# Teste \n",
    "\t# df.loc[id,'model_type'] = TYPE_MODEL\n",
    "\t# df.to_csv(f'Predictions_{TYPE_MODEL}_{SAVE_TIME}.csv',header=True,)\n",
    "\t# exit()\n",
    "\n",
    "\t# Get metrics and saving results\n",
    "\tmape = MAPE(df['real_values'], df['predictions'])\n",
    "\trmse = RMSE(df['real_values'], df['predictions'])\n",
    "\tprint(mape)\n",
    "\tprint(rmse)\n",
    "\n",
    "\tdf_results.loc[id,'path_model'] = model_path\n",
    "\tdf_results.loc[id,'MAPE'] = mape\n",
    "\tdf_results.loc[id,'RMSE'] = rmse\n",
    "\tdf_results.loc[id,'model_type'] = TYPE_MODEL\n",
    "\t# df_results = df_results.reset_index()\n"
   ]
  },
  {
   "cell_type": "code",
   "execution_count": null,
   "metadata": {},
   "outputs": [],
   "source": [
    "df_results.to_csv(f'Indicators_{TYPE_MODEL}_{SAVE_TIME}.csv',header=True,)\n",
    "# df_results = None"
   ]
  },
  {
   "cell_type": "code",
   "execution_count": null,
   "metadata": {},
   "outputs": [],
   "source": [
    "show_copare_prediction()"
   ]
  },
  {
   "cell_type": "code",
   "execution_count": null,
   "metadata": {},
   "outputs": [],
   "source": [
    "show_distribution_error()"
   ]
  }
 ],
 "metadata": {
  "kernelspec": {
   "display_name": "Python 3.8.12 ('pystock')",
   "language": "python",
   "name": "python3"
  },
  "language_info": {
   "codemirror_mode": {
    "name": "ipython",
    "version": 3
   },
   "file_extension": ".py",
   "mimetype": "text/x-python",
   "name": "python",
   "nbconvert_exporter": "python",
   "pygments_lexer": "ipython3",
   "version": "3.8.13"
  },
  "orig_nbformat": 4,
  "vscode": {
   "interpreter": {
    "hash": "bc0c8eb905859abd75b389576d87e2ac71c748b72952270660ecc130aeb3e651"
   }
  }
 },
 "nbformat": 4,
 "nbformat_minor": 2
}
