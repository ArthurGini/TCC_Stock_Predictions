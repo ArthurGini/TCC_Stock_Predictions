{
 "cells": [
  {
   "cell_type": "code",
   "execution_count": 7,
   "metadata": {},
   "outputs": [
    {
     "data": {
      "application/javascript": "\n            setTimeout(function() {\n                var nbb_cell_id = 7;\n                var nbb_unformatted_code = \"# Usei como base esse tutorial:\\n# https://colab.research.google.com/github/tensorflow/docs-l10n/blob/master/site/pt-br/tutorials/keras/regression.ipynb#scrollTo=f-OHX4DiXd8x\\n\\n\\n# Ja li tudo\\n# https://boostedml.com/2020/04/1-d-convolutional-neural-networks-for-time-series-basic-intuition.html\\n\\n# How do I use make a convolutional layer for tabular (1-D) features?\\n# https://stackoverflow.com/questions/59756806/tensorflow-how-do-i-use-make-a-convolutional-layer-for-tabular-1-d-features\\n\\n# TODO: Fiquei de verificar:\\n# https://machinelearningmastery.com/cnn-models-for-human-activity-recognition-time-series-classification/\";\n                var nbb_formatted_code = \"# Usei como base esse tutorial:\\n# https://colab.research.google.com/github/tensorflow/docs-l10n/blob/master/site/pt-br/tutorials/keras/regression.ipynb#scrollTo=f-OHX4DiXd8x\\n\\n\\n# Ja li tudo\\n# https://boostedml.com/2020/04/1-d-convolutional-neural-networks-for-time-series-basic-intuition.html\\n\\n# How do I use make a convolutional layer for tabular (1-D) features?\\n# https://stackoverflow.com/questions/59756806/tensorflow-how-do-i-use-make-a-convolutional-layer-for-tabular-1-d-features\\n\\n# TODO: Fiquei de verificar:\\n# https://machinelearningmastery.com/cnn-models-for-human-activity-recognition-time-series-classification/\";\n                var nbb_cells = Jupyter.notebook.get_cells();\n                for (var i = 0; i < nbb_cells.length; ++i) {\n                    if (nbb_cells[i].input_prompt_number == nbb_cell_id) {\n                        if (nbb_cells[i].get_text() == nbb_unformatted_code) {\n                             nbb_cells[i].set_text(nbb_formatted_code);\n                        }\n                        break;\n                    }\n                }\n            }, 500);\n            ",
      "text/plain": [
       "<IPython.core.display.Javascript object>"
      ]
     },
     "metadata": {},
     "output_type": "display_data"
    }
   ],
   "source": [
    "# Usei como base esse tutorial:\n",
    "# https://colab.research.google.com/github/tensorflow/docs-l10n/blob/master/site/pt-br/tutorials/keras/regression.ipynb#scrollTo=f-OHX4DiXd8x\n",
    "\n",
    "\n",
    "# Ja li tudo\n",
    "# https://boostedml.com/2020/04/1-d-convolutional-neural-networks-for-time-series-basic-intuition.html\n",
    "\n",
    "# How do I use make a convolutional layer for tabular (1-D) features?\n",
    "# https://stackoverflow.com/questions/59756806/tensorflow-how-do-i-use-make-a-convolutional-layer-for-tabular-1-d-features\n",
    "\n",
    "# TODO: Fiquei de verificar:\n",
    "# https://machinelearningmastery.com/cnn-models-for-human-activity-recognition-time-series-classification/"
   ]
  },
  {
   "cell_type": "code",
   "execution_count": 8,
   "metadata": {},
   "outputs": [
    {
     "name": "stdout",
     "output_type": "stream",
     "text": [
      "The nb_black extension is already loaded. To reload it, use:\n",
      "  %reload_ext nb_black\n",
      "The lab_black extension is already loaded. To reload it, use:\n",
      "  %reload_ext lab_black\n"
     ]
    },
    {
     "data": {
      "application/javascript": "\n            setTimeout(function() {\n                var nbb_cell_id = 8;\n                var nbb_unformatted_code = \"%load_ext nb_black\\n%load_ext lab_black\";\n                var nbb_formatted_code = \"%load_ext nb_black\\n%load_ext lab_black\";\n                var nbb_cells = Jupyter.notebook.get_cells();\n                for (var i = 0; i < nbb_cells.length; ++i) {\n                    if (nbb_cells[i].input_prompt_number == nbb_cell_id) {\n                        if (nbb_cells[i].get_text() == nbb_unformatted_code) {\n                             nbb_cells[i].set_text(nbb_formatted_code);\n                        }\n                        break;\n                    }\n                }\n            }, 500);\n            ",
      "text/plain": [
       "<IPython.core.display.Javascript object>"
      ]
     },
     "metadata": {},
     "output_type": "display_data"
    }
   ],
   "source": [
    "%load_ext nb_black\n",
    "%load_ext lab_black"
   ]
  },
  {
   "cell_type": "markdown",
   "metadata": {},
   "source": [
    "# Lendo Dfs"
   ]
  },
  {
   "cell_type": "code",
   "execution_count": 9,
   "metadata": {},
   "outputs": [
    {
     "data": {
      "application/javascript": "\n            setTimeout(function() {\n                var nbb_cell_id = 9;\n                var nbb_unformatted_code = \"import pathlib\\nimport datetime\\n\\nimport matplotlib.pyplot as plt\\nimport pandas as pd\\nimport seaborn as sns\\n\\nimport tensorflow as tf\\nimport datetime\\n\\nfrom tensorflow import keras\\nfrom tensorflow.keras import layers\\n\\nfrom keras.callbacks import ModelCheckpoint\\nimport keras_tuner as kt\\n\\n# 80%\\nPATH_TREINO = \\\"../Data/3_Gold/2_Treino_all_stocks_80.csv\\\"\\nDF_TREINO = pd.read_csv(PATH_TREINO, sep=\\\",\\\")\\ntrain_dataset = DF_TREINO\\ntrain_dataset = train_dataset.drop(\\n    [\\n        \\\"oil_5\\\",\\n        \\\"usd_5\\\",\\n        # \\\"abev_5\\\",\\n        # \\\"jbs_5\\\",\\n        \\\"petr_5\\\",\\n        \\\"vale_5\\\",\\n    ],\\n    axis=1,\\n)\\ntrain_labels = train_dataset.pop(\\\"ibova_5\\\")\\n\\n# 20%\\nPATH_TESTE = \\\"../Data/3_Gold/2_Teste_all_stocks.csv\\\"\\nDF_TESTE = pd.read_csv(PATH_TESTE, sep=\\\",\\\")\\ntest_dataset = DF_TESTE\\ntest_dataset = test_dataset.drop(\\n    [\\n        \\\"oil_5\\\",\\n        \\\"usd_5\\\",\\n        # \\\"abev_5\\\",\\n        # \\\"jbs_5\\\",\\n        \\\"petr_5\\\",\\n        \\\"vale_5\\\",\\n    ],\\n    axis=1,\\n)\\ntest_labels = test_dataset.pop(\\\"ibova_5\\\")\\n\\n# 20%\\nPATH_VALIDACAO = \\\"../Data/3_Gold/2_Validacao_all_stocks.csv\\\"\\nDF_VALIDACAO = pd.read_csv(PATH_VALIDACAO, sep=\\\",\\\")\\nvalidacao_dataset = DF_VALIDACAO\\nvalidacao_dataset = validacao_dataset.drop(\\n    [\\n        \\\"oil_5\\\",\\n        \\\"usd_5\\\",\\n        # \\\"abev_5\\\",\\n        # \\\"jbs_5\\\",\\n        \\\"petr_5\\\",\\n        \\\"vale_5\\\",\\n    ],\\n    axis=1,\\n)\\nvalidacao_labels = validacao_dataset.pop(\\\"ibova_5\\\")\\n\\n\\\"\\\"\\\"\\n\\tResultado\\n\\\"\\\"\\\"\\n\\nlist_activation = []\\nlist_best_epoch = []\\nlist_best_model_path = []\\nlist_hp_unit_1 = []\\nlist_hp_unit_2 = []\\nlist_hp_unit_3 = []\\nlist_hp_unit_4 = []\\nlist_kernel_size_1 = []\\nlist_kernel_size_2 = []\\nlist_learning_rate = []\\nlist_n_filter_1 = []\\nlist_n_filter_2 = []\\nlist_val_mae = []\\nlist_val_mse = []\\n\\n\\ndf_results = pd.DataFrame(\\n    columns=[\\n        \\\"best_epoch\\\",\\n        \\\"val_mae\\\",\\n        \\\"val_mse\\\",\\n        \\\"n_filter_1\\\",\\n        \\\"n_filter_2\\\",\\n        \\\"kernel_size_1\\\",\\n        \\\"kernel_size_2\\\",\\n        \\\"learning_rate\\\",\\n        \\\"activation\\\",\\n    ]\\n)\";\n                var nbb_formatted_code = \"import pathlib\\nimport datetime\\n\\nimport matplotlib.pyplot as plt\\nimport pandas as pd\\nimport seaborn as sns\\n\\nimport tensorflow as tf\\nimport datetime\\n\\nfrom tensorflow import keras\\nfrom tensorflow.keras import layers\\n\\nfrom keras.callbacks import ModelCheckpoint\\nimport keras_tuner as kt\\n\\n# 80%\\nPATH_TREINO = \\\"../Data/3_Gold/2_Treino_all_stocks_80.csv\\\"\\nDF_TREINO = pd.read_csv(PATH_TREINO, sep=\\\",\\\")\\ntrain_dataset = DF_TREINO\\ntrain_dataset = train_dataset.drop(\\n    [\\n        \\\"oil_5\\\",\\n        \\\"usd_5\\\",\\n        # \\\"abev_5\\\",\\n        # \\\"jbs_5\\\",\\n        \\\"petr_5\\\",\\n        \\\"vale_5\\\",\\n    ],\\n    axis=1,\\n)\\ntrain_labels = train_dataset.pop(\\\"ibova_5\\\")\\n\\n# 20%\\nPATH_TESTE = \\\"../Data/3_Gold/2_Teste_all_stocks.csv\\\"\\nDF_TESTE = pd.read_csv(PATH_TESTE, sep=\\\",\\\")\\ntest_dataset = DF_TESTE\\ntest_dataset = test_dataset.drop(\\n    [\\n        \\\"oil_5\\\",\\n        \\\"usd_5\\\",\\n        # \\\"abev_5\\\",\\n        # \\\"jbs_5\\\",\\n        \\\"petr_5\\\",\\n        \\\"vale_5\\\",\\n    ],\\n    axis=1,\\n)\\ntest_labels = test_dataset.pop(\\\"ibova_5\\\")\\n\\n# 20%\\nPATH_VALIDACAO = \\\"../Data/3_Gold/2_Validacao_all_stocks.csv\\\"\\nDF_VALIDACAO = pd.read_csv(PATH_VALIDACAO, sep=\\\",\\\")\\nvalidacao_dataset = DF_VALIDACAO\\nvalidacao_dataset = validacao_dataset.drop(\\n    [\\n        \\\"oil_5\\\",\\n        \\\"usd_5\\\",\\n        # \\\"abev_5\\\",\\n        # \\\"jbs_5\\\",\\n        \\\"petr_5\\\",\\n        \\\"vale_5\\\",\\n    ],\\n    axis=1,\\n)\\nvalidacao_labels = validacao_dataset.pop(\\\"ibova_5\\\")\\n\\n\\\"\\\"\\\"\\n\\tResultado\\n\\\"\\\"\\\"\\n\\nlist_activation = []\\nlist_best_epoch = []\\nlist_best_model_path = []\\nlist_hp_unit_1 = []\\nlist_hp_unit_2 = []\\nlist_hp_unit_3 = []\\nlist_hp_unit_4 = []\\nlist_kernel_size_1 = []\\nlist_kernel_size_2 = []\\nlist_learning_rate = []\\nlist_n_filter_1 = []\\nlist_n_filter_2 = []\\nlist_val_mae = []\\nlist_val_mse = []\\n\\n\\ndf_results = pd.DataFrame(\\n    columns=[\\n        \\\"best_epoch\\\",\\n        \\\"val_mae\\\",\\n        \\\"val_mse\\\",\\n        \\\"n_filter_1\\\",\\n        \\\"n_filter_2\\\",\\n        \\\"kernel_size_1\\\",\\n        \\\"kernel_size_2\\\",\\n        \\\"learning_rate\\\",\\n        \\\"activation\\\",\\n    ]\\n)\";\n                var nbb_cells = Jupyter.notebook.get_cells();\n                for (var i = 0; i < nbb_cells.length; ++i) {\n                    if (nbb_cells[i].input_prompt_number == nbb_cell_id) {\n                        if (nbb_cells[i].get_text() == nbb_unformatted_code) {\n                             nbb_cells[i].set_text(nbb_formatted_code);\n                        }\n                        break;\n                    }\n                }\n            }, 500);\n            ",
      "text/plain": [
       "<IPython.core.display.Javascript object>"
      ]
     },
     "metadata": {},
     "output_type": "display_data"
    }
   ],
   "source": [
    "import pathlib\n",
    "import datetime\n",
    "\n",
    "import matplotlib.pyplot as plt\n",
    "import pandas as pd\n",
    "import seaborn as sns\n",
    "\n",
    "import tensorflow as tf\n",
    "import datetime\n",
    "\n",
    "from tensorflow import keras\n",
    "from tensorflow.keras import layers\n",
    "\n",
    "from keras.callbacks import ModelCheckpoint\n",
    "import keras_tuner as kt\n",
    "\n",
    "# 80%\n",
    "PATH_TREINO = \"../Data/3_Gold/2_Treino_all_stocks_80.csv\"\n",
    "DF_TREINO = pd.read_csv(PATH_TREINO, sep=\",\")\n",
    "train_dataset = DF_TREINO\n",
    "train_dataset = train_dataset.drop(\n",
    "    [\n",
    "        \"oil_5\",\n",
    "        \"usd_5\",\n",
    "        # \"abev_5\",\n",
    "        # \"jbs_5\",\n",
    "        \"petr_5\",\n",
    "        \"vale_5\",\n",
    "    ],\n",
    "    axis=1,\n",
    ")\n",
    "train_labels = train_dataset.pop(\"ibova_5\")\n",
    "\n",
    "# 20%\n",
    "PATH_TESTE = \"../Data/3_Gold/2_Teste_all_stocks.csv\"\n",
    "DF_TESTE = pd.read_csv(PATH_TESTE, sep=\",\")\n",
    "test_dataset = DF_TESTE\n",
    "test_dataset = test_dataset.drop(\n",
    "    [\n",
    "        \"oil_5\",\n",
    "        \"usd_5\",\n",
    "        # \"abev_5\",\n",
    "        # \"jbs_5\",\n",
    "        \"petr_5\",\n",
    "        \"vale_5\",\n",
    "    ],\n",
    "    axis=1,\n",
    ")\n",
    "test_labels = test_dataset.pop(\"ibova_5\")\n",
    "\n",
    "# 20%\n",
    "PATH_VALIDACAO = \"../Data/3_Gold/2_Validacao_all_stocks.csv\"\n",
    "DF_VALIDACAO = pd.read_csv(PATH_VALIDACAO, sep=\",\")\n",
    "validacao_dataset = DF_VALIDACAO\n",
    "validacao_dataset = validacao_dataset.drop(\n",
    "    [\n",
    "        \"oil_5\",\n",
    "        \"usd_5\",\n",
    "        # \"abev_5\",\n",
    "        # \"jbs_5\",\n",
    "        \"petr_5\",\n",
    "        \"vale_5\",\n",
    "    ],\n",
    "    axis=1,\n",
    ")\n",
    "validacao_labels = validacao_dataset.pop(\"ibova_5\")\n",
    "\n",
    "\"\"\"\n",
    "\tResultado\n",
    "\"\"\"\n",
    "\n",
    "list_activation = []\n",
    "list_best_epoch = []\n",
    "list_best_model_path = []\n",
    "list_hp_unit_1 = []\n",
    "list_hp_unit_2 = []\n",
    "list_hp_unit_3 = []\n",
    "list_hp_unit_4 = []\n",
    "list_kernel_size_1 = []\n",
    "list_kernel_size_2 = []\n",
    "list_learning_rate = []\n",
    "list_n_filter_1 = []\n",
    "list_n_filter_2 = []\n",
    "list_val_mae = []\n",
    "list_val_mse = []\n",
    "\n",
    "\n",
    "df_results = pd.DataFrame(\n",
    "    columns=[\n",
    "        \"best_epoch\",\n",
    "        \"val_mae\",\n",
    "        \"val_mse\",\n",
    "        \"n_filter_1\",\n",
    "        \"n_filter_2\",\n",
    "        \"kernel_size_1\",\n",
    "        \"kernel_size_2\",\n",
    "        \"learning_rate\",\n",
    "        \"activation\",\n",
    "    ]\n",
    ")"
   ]
  },
  {
   "cell_type": "code",
   "execution_count": 10,
   "metadata": {},
   "outputs": [
    {
     "data": {
      "application/javascript": "\n            setTimeout(function() {\n                var nbb_cell_id = 10;\n                var nbb_unformatted_code = \"def get_results(history, best_hps, bst_model_path):\\n    # Select the best epoch,\\n    val_mse_per_epoch = history.history[\\\"val_mse\\\"]\\n    best_epoch = val_mse_per_epoch.index(min(val_mse_per_epoch)) + 1\\n\\n    try:\\n        value_activation = best_hps.get(\\\"activation\\\")\\n    except:\\n        value_activation = None\\n    try:\\n        value_learning_rate = best_hps.get(\\\"learning_rate\\\")\\n    except:\\n        value_learning_rate = None\\n    try:\\n        value_unit_1 = best_hps.get(\\\"unit_1\\\")\\n    except:\\n        value_unit_1 = None\\n    try:\\n        value_unit_2 = best_hps.get(\\\"unit_2\\\")\\n    except:\\n        value_unit_2 = None\\n    try:\\n        value_unit_3 = best_hps.get(\\\"unit_3\\\")\\n    except:\\n        value_unit_3 = None\\n    try:\\n        value_unit_4 = best_hps.get(\\\"unit_4\\\")\\n    except:\\n        value_unit_4 = None\\n    try:\\n        value_kernel_size_1 = best_hps.get(\\\"kernel_size_1\\\")\\n    except:\\n        value_kernel_size_1 = None\\n    try:\\n        value_kernel_size_2 = best_hps.get(\\\"kernel_size_2\\\")\\n    except:\\n        value_kernel_size_2 = None\\n    try:\\n        value_n_filter_1 = best_hps.get(\\\"n_filter_1\\\")\\n    except:\\n        value_n_filter_1 = None\\n    try:\\n        value_n_filter_2 = best_hps.get(\\\"n_filter_2\\\")\\n    except:\\n        value_n_filter_2 = None\\n\\n    \\\"\\\"\\\"\\\"Repeticao MODEL.ipynb\\\"\\\"\\\"\\n\\n    def save_in_list(one_list, value=None):\\n        try:\\n            one_list.append(value)\\n            return one_list\\n        except:\\n            one_list.append(None)\\n            return one_list\\n\\n    save_in_list(list_activation, value_activation)\\n    save_in_list(list_best_epoch, best_epoch)\\n    save_in_list(list_best_model_path, bst_model_path)\\n    save_in_list(list_hp_unit_1, value_unit_1)\\n    save_in_list(list_hp_unit_2, value_unit_2)\\n    save_in_list(list_hp_unit_3, value_unit_3)\\n    save_in_list(list_hp_unit_4, value_unit_4)\\n    save_in_list(list_kernel_size_1, value_kernel_size_1)\\n    save_in_list(list_kernel_size_2, value_kernel_size_2)\\n    save_in_list(list_learning_rate, value_learning_rate)\\n    save_in_list(list_n_filter_1, value_n_filter_1)\\n    save_in_list(list_n_filter_2, value_n_filter_2)\\n    save_in_list(list_val_mae, min(history.history[\\\"val_mae\\\"]))\\n    save_in_list(list_val_mse, min(history.history[\\\"val_mse\\\"]))\\n\\n    # print(f\\\"list_activation: {list_activation}\\\")\\n    # print(f\\\"list_best_epoch: {list_best_epoch}\\\")\\n    # print(f\\\"list_best_model_path: {list_best_model_path}\\\")\\n    # print(f\\\"list_hp_unit_1: {list_hp_unit_1}\\\")\\n    # print(f\\\"list_hp_unit_2: {list_hp_unit_2}\\\")\\n    # print(f\\\"list_hp_unit_3: {list_hp_unit_3}\\\")\\n    # print(f\\\"list_hp_unit_4: {list_hp_unit_4}\\\")\\n    # print(f\\\"list_kernel_size_1: {list_kernel_size_1}\\\")\\n    # print(f\\\"list_kernel_size_2: {list_kernel_size_2}\\\")\\n    # print(f\\\"list_learning_rate: {list_learning_rate}\\\")\\n    # print(f\\\"list_n_filter_1: {list_n_filter_1}\\\")\\n    # print(f\\\"list_n_filter_2: {list_n_filter_2}\\\")\\n    # print(f\\\"list_val_mae: {list_val_mae}\\\")\\n    # print(f\\\"list_val_mse: {list_val_mse}\\\")\";\n                var nbb_formatted_code = \"def get_results(history, best_hps, bst_model_path):\\n    # Select the best epoch,\\n    val_mse_per_epoch = history.history[\\\"val_mse\\\"]\\n    best_epoch = val_mse_per_epoch.index(min(val_mse_per_epoch)) + 1\\n\\n    try:\\n        value_activation = best_hps.get(\\\"activation\\\")\\n    except:\\n        value_activation = None\\n    try:\\n        value_learning_rate = best_hps.get(\\\"learning_rate\\\")\\n    except:\\n        value_learning_rate = None\\n    try:\\n        value_unit_1 = best_hps.get(\\\"unit_1\\\")\\n    except:\\n        value_unit_1 = None\\n    try:\\n        value_unit_2 = best_hps.get(\\\"unit_2\\\")\\n    except:\\n        value_unit_2 = None\\n    try:\\n        value_unit_3 = best_hps.get(\\\"unit_3\\\")\\n    except:\\n        value_unit_3 = None\\n    try:\\n        value_unit_4 = best_hps.get(\\\"unit_4\\\")\\n    except:\\n        value_unit_4 = None\\n    try:\\n        value_kernel_size_1 = best_hps.get(\\\"kernel_size_1\\\")\\n    except:\\n        value_kernel_size_1 = None\\n    try:\\n        value_kernel_size_2 = best_hps.get(\\\"kernel_size_2\\\")\\n    except:\\n        value_kernel_size_2 = None\\n    try:\\n        value_n_filter_1 = best_hps.get(\\\"n_filter_1\\\")\\n    except:\\n        value_n_filter_1 = None\\n    try:\\n        value_n_filter_2 = best_hps.get(\\\"n_filter_2\\\")\\n    except:\\n        value_n_filter_2 = None\\n\\n    \\\"\\\"\\\"\\\"Repeticao MODEL.ipynb\\\"\\\"\\\"\\n\\n    def save_in_list(one_list, value=None):\\n        try:\\n            one_list.append(value)\\n            return one_list\\n        except:\\n            one_list.append(None)\\n            return one_list\\n\\n    save_in_list(list_activation, value_activation)\\n    save_in_list(list_best_epoch, best_epoch)\\n    save_in_list(list_best_model_path, bst_model_path)\\n    save_in_list(list_hp_unit_1, value_unit_1)\\n    save_in_list(list_hp_unit_2, value_unit_2)\\n    save_in_list(list_hp_unit_3, value_unit_3)\\n    save_in_list(list_hp_unit_4, value_unit_4)\\n    save_in_list(list_kernel_size_1, value_kernel_size_1)\\n    save_in_list(list_kernel_size_2, value_kernel_size_2)\\n    save_in_list(list_learning_rate, value_learning_rate)\\n    save_in_list(list_n_filter_1, value_n_filter_1)\\n    save_in_list(list_n_filter_2, value_n_filter_2)\\n    save_in_list(list_val_mae, min(history.history[\\\"val_mae\\\"]))\\n    save_in_list(list_val_mse, min(history.history[\\\"val_mse\\\"]))\\n\\n    # print(f\\\"list_activation: {list_activation}\\\")\\n    # print(f\\\"list_best_epoch: {list_best_epoch}\\\")\\n    # print(f\\\"list_best_model_path: {list_best_model_path}\\\")\\n    # print(f\\\"list_hp_unit_1: {list_hp_unit_1}\\\")\\n    # print(f\\\"list_hp_unit_2: {list_hp_unit_2}\\\")\\n    # print(f\\\"list_hp_unit_3: {list_hp_unit_3}\\\")\\n    # print(f\\\"list_hp_unit_4: {list_hp_unit_4}\\\")\\n    # print(f\\\"list_kernel_size_1: {list_kernel_size_1}\\\")\\n    # print(f\\\"list_kernel_size_2: {list_kernel_size_2}\\\")\\n    # print(f\\\"list_learning_rate: {list_learning_rate}\\\")\\n    # print(f\\\"list_n_filter_1: {list_n_filter_1}\\\")\\n    # print(f\\\"list_n_filter_2: {list_n_filter_2}\\\")\\n    # print(f\\\"list_val_mae: {list_val_mae}\\\")\\n    # print(f\\\"list_val_mse: {list_val_mse}\\\")\";\n                var nbb_cells = Jupyter.notebook.get_cells();\n                for (var i = 0; i < nbb_cells.length; ++i) {\n                    if (nbb_cells[i].input_prompt_number == nbb_cell_id) {\n                        if (nbb_cells[i].get_text() == nbb_unformatted_code) {\n                             nbb_cells[i].set_text(nbb_formatted_code);\n                        }\n                        break;\n                    }\n                }\n            }, 500);\n            ",
      "text/plain": [
       "<IPython.core.display.Javascript object>"
      ]
     },
     "metadata": {},
     "output_type": "display_data"
    }
   ],
   "source": [
    "def get_results(history, best_hps, bst_model_path):\n",
    "    # Select the best epoch,\n",
    "    val_mse_per_epoch = history.history[\"val_mse\"]\n",
    "    best_epoch = val_mse_per_epoch.index(min(val_mse_per_epoch)) + 1\n",
    "\n",
    "    try:\n",
    "        value_activation = best_hps.get(\"activation\")\n",
    "    except:\n",
    "        value_activation = None\n",
    "    try:\n",
    "        value_learning_rate = best_hps.get(\"learning_rate\")\n",
    "    except:\n",
    "        value_learning_rate = None\n",
    "    try:\n",
    "        value_unit_1 = best_hps.get(\"unit_1\")\n",
    "    except:\n",
    "        value_unit_1 = None\n",
    "    try:\n",
    "        value_unit_2 = best_hps.get(\"unit_2\")\n",
    "    except:\n",
    "        value_unit_2 = None\n",
    "    try:\n",
    "        value_unit_3 = best_hps.get(\"unit_3\")\n",
    "    except:\n",
    "        value_unit_3 = None\n",
    "    try:\n",
    "        value_unit_4 = best_hps.get(\"unit_4\")\n",
    "    except:\n",
    "        value_unit_4 = None\n",
    "    try:\n",
    "        value_kernel_size_1 = best_hps.get(\"kernel_size_1\")\n",
    "    except:\n",
    "        value_kernel_size_1 = None\n",
    "    try:\n",
    "        value_kernel_size_2 = best_hps.get(\"kernel_size_2\")\n",
    "    except:\n",
    "        value_kernel_size_2 = None\n",
    "    try:\n",
    "        value_n_filter_1 = best_hps.get(\"n_filter_1\")\n",
    "    except:\n",
    "        value_n_filter_1 = None\n",
    "    try:\n",
    "        value_n_filter_2 = best_hps.get(\"n_filter_2\")\n",
    "    except:\n",
    "        value_n_filter_2 = None\n",
    "\n",
    "    \"\"\"\"Repeticao MODEL.ipynb\"\"\"\n",
    "\n",
    "    def save_in_list(one_list, value=None):\n",
    "        try:\n",
    "            one_list.append(value)\n",
    "            return one_list\n",
    "        except:\n",
    "            one_list.append(None)\n",
    "            return one_list\n",
    "\n",
    "    save_in_list(list_activation, value_activation)\n",
    "    save_in_list(list_best_epoch, best_epoch)\n",
    "    save_in_list(list_best_model_path, bst_model_path)\n",
    "    save_in_list(list_hp_unit_1, value_unit_1)\n",
    "    save_in_list(list_hp_unit_2, value_unit_2)\n",
    "    save_in_list(list_hp_unit_3, value_unit_3)\n",
    "    save_in_list(list_hp_unit_4, value_unit_4)\n",
    "    save_in_list(list_kernel_size_1, value_kernel_size_1)\n",
    "    save_in_list(list_kernel_size_2, value_kernel_size_2)\n",
    "    save_in_list(list_learning_rate, value_learning_rate)\n",
    "    save_in_list(list_n_filter_1, value_n_filter_1)\n",
    "    save_in_list(list_n_filter_2, value_n_filter_2)\n",
    "    save_in_list(list_val_mae, min(history.history[\"val_mae\"]))\n",
    "    save_in_list(list_val_mse, min(history.history[\"val_mse\"]))\n",
    "\n",
    "    # print(f\"list_activation: {list_activation}\")\n",
    "    # print(f\"list_best_epoch: {list_best_epoch}\")\n",
    "    # print(f\"list_best_model_path: {list_best_model_path}\")\n",
    "    # print(f\"list_hp_unit_1: {list_hp_unit_1}\")\n",
    "    # print(f\"list_hp_unit_2: {list_hp_unit_2}\")\n",
    "    # print(f\"list_hp_unit_3: {list_hp_unit_3}\")\n",
    "    # print(f\"list_hp_unit_4: {list_hp_unit_4}\")\n",
    "    # print(f\"list_kernel_size_1: {list_kernel_size_1}\")\n",
    "    # print(f\"list_kernel_size_2: {list_kernel_size_2}\")\n",
    "    # print(f\"list_learning_rate: {list_learning_rate}\")\n",
    "    # print(f\"list_n_filter_1: {list_n_filter_1}\")\n",
    "    # print(f\"list_n_filter_2: {list_n_filter_2}\")\n",
    "    # print(f\"list_val_mae: {list_val_mae}\")\n",
    "    # print(f\"list_val_mse: {list_val_mse}\")"
   ]
  },
  {
   "cell_type": "code",
   "execution_count": 11,
   "metadata": {},
   "outputs": [
    {
     "data": {
      "application/javascript": "\n            setTimeout(function() {\n                var nbb_cell_id = 11;\n                var nbb_unformatted_code = \"def save_df_results(save_time):\\n\\n    result_columns = [\\n        \\\"activation\\\",\\n        \\\"best_epoch\\\",\\n        \\\"best_model_path\\\",\\n        \\\"hp_unit_1\\\",\\n        \\\"hp_unit_2\\\",\\n        \\\"hp_unit_3\\\",\\n        \\\"hp_unit_4\\\",\\n        \\\"kernel_size_1\\\",\\n        \\\"kernel_size_2\\\",\\n        \\\"learning_rate\\\",\\n        \\\"n_filter_1\\\",\\n        \\\"n_filter_2\\\",\\n        \\\"val_mae\\\",\\n        \\\"val_mse\\\",\\n    ]\\n\\n    data = list(\\n        zip(\\n            list_activation,\\n            list_best_epoch,\\n            list_best_model_path,\\n            list_hp_unit_1,\\n            list_hp_unit_2,\\n            list_hp_unit_3,\\n            list_hp_unit_4,\\n            list_kernel_size_1,\\n            list_kernel_size_2,\\n            list_learning_rate,\\n            list_n_filter_1,\\n            list_n_filter_2,\\n            list_val_mae,\\n            list_val_mse,\\n        )\\n    )\\n\\n    df_resultados = pd.DataFrame(\\n        data,\\n        columns=result_columns,\\n    )\\n\\n    df_resultados.to_csv(f\\\"Resultados_{TYPE_MODEL}_{save_time}.csv\\\")\\n    return df_resultados\";\n                var nbb_formatted_code = \"def save_df_results(save_time):\\n\\n    result_columns = [\\n        \\\"activation\\\",\\n        \\\"best_epoch\\\",\\n        \\\"best_model_path\\\",\\n        \\\"hp_unit_1\\\",\\n        \\\"hp_unit_2\\\",\\n        \\\"hp_unit_3\\\",\\n        \\\"hp_unit_4\\\",\\n        \\\"kernel_size_1\\\",\\n        \\\"kernel_size_2\\\",\\n        \\\"learning_rate\\\",\\n        \\\"n_filter_1\\\",\\n        \\\"n_filter_2\\\",\\n        \\\"val_mae\\\",\\n        \\\"val_mse\\\",\\n    ]\\n\\n    data = list(\\n        zip(\\n            list_activation,\\n            list_best_epoch,\\n            list_best_model_path,\\n            list_hp_unit_1,\\n            list_hp_unit_2,\\n            list_hp_unit_3,\\n            list_hp_unit_4,\\n            list_kernel_size_1,\\n            list_kernel_size_2,\\n            list_learning_rate,\\n            list_n_filter_1,\\n            list_n_filter_2,\\n            list_val_mae,\\n            list_val_mse,\\n        )\\n    )\\n\\n    df_resultados = pd.DataFrame(\\n        data,\\n        columns=result_columns,\\n    )\\n\\n    df_resultados.to_csv(f\\\"Resultados_{TYPE_MODEL}_{save_time}.csv\\\")\\n    return df_resultados\";\n                var nbb_cells = Jupyter.notebook.get_cells();\n                for (var i = 0; i < nbb_cells.length; ++i) {\n                    if (nbb_cells[i].input_prompt_number == nbb_cell_id) {\n                        if (nbb_cells[i].get_text() == nbb_unformatted_code) {\n                             nbb_cells[i].set_text(nbb_formatted_code);\n                        }\n                        break;\n                    }\n                }\n            }, 500);\n            ",
      "text/plain": [
       "<IPython.core.display.Javascript object>"
      ]
     },
     "metadata": {},
     "output_type": "display_data"
    }
   ],
   "source": [
    "def save_df_results(save_time):\n",
    "\n",
    "    result_columns = [\n",
    "        \"activation\",\n",
    "        \"best_epoch\",\n",
    "        \"best_model_path\",\n",
    "        \"hp_unit_1\",\n",
    "        \"hp_unit_2\",\n",
    "        \"hp_unit_3\",\n",
    "        \"hp_unit_4\",\n",
    "        \"kernel_size_1\",\n",
    "        \"kernel_size_2\",\n",
    "        \"learning_rate\",\n",
    "        \"n_filter_1\",\n",
    "        \"n_filter_2\",\n",
    "        \"val_mae\",\n",
    "        \"val_mse\",\n",
    "    ]\n",
    "\n",
    "    data = list(\n",
    "        zip(\n",
    "            list_activation,\n",
    "            list_best_epoch,\n",
    "            list_best_model_path,\n",
    "            list_hp_unit_1,\n",
    "            list_hp_unit_2,\n",
    "            list_hp_unit_3,\n",
    "            list_hp_unit_4,\n",
    "            list_kernel_size_1,\n",
    "            list_kernel_size_2,\n",
    "            list_learning_rate,\n",
    "            list_n_filter_1,\n",
    "            list_n_filter_2,\n",
    "            list_val_mae,\n",
    "            list_val_mse,\n",
    "        )\n",
    "    )\n",
    "\n",
    "    df_resultados = pd.DataFrame(\n",
    "        data,\n",
    "        columns=result_columns,\n",
    "    )\n",
    "\n",
    "    df_resultados.to_csv(f\"Resultados_{TYPE_MODEL}_{save_time}.csv\")\n",
    "    return df_resultados"
   ]
  },
  {
   "cell_type": "markdown",
   "metadata": {},
   "source": [
    "# Definindo o modelo"
   ]
  },
  {
   "cell_type": "code",
   "execution_count": 12,
   "metadata": {},
   "outputs": [
    {
     "data": {
      "application/javascript": "\n            setTimeout(function() {\n                var nbb_cell_id = 12;\n                var nbb_unformatted_code = \"def model_builder(hp):\\n    hp_unit_1 = int(len(train_dataset.keys()))\\n    hp_unit_2 = hp.Int(\\\"unit_2\\\", min_value=4, max_value=64, step=1)\\n    hp_unit_3 = hp.Int(\\\"unit_3\\\", min_value=4, max_value=64, step=1)\\n    hp_unit_4 = hp.Int(\\\"unit_4\\\", min_value=4, max_value=64, step=1)\\n    activationL = [\\n        \\\"sigmoid\\\",\\n        \\\"softplus\\\",\\n        \\\"softsign\\\",\\n        \\\"tanh\\\",\\n        \\\"selu\\\",\\n        \\\"elu\\\",\\n        \\\"relu\\\",\\n    ]\\n    activation_choice = hp.Choice(\\\"activation\\\", values=activationL)\\n    hp_learning_rate = hp.Choice(\\\"learning_rate\\\", values=[1e-2, 1e-3, 1e-4])\\n\\n    model = keras.Sequential(\\n        [\\n            layers.Dense(\\n                units=hp_unit_1,\\n                activation=activation_choice,\\n                input_shape=[len(train_dataset.keys())],\\n            ),\\n            layers.Dense(units=hp_unit_2, activation=activation_choice),\\n            layers.Dense(units=hp_unit_3, activation=activation_choice),\\n            layers.Dense(units=hp_unit_4, activation=activation_choice),\\n            layers.Dense(units=1, activation=\\\"linear\\\"),\\n        ]\\n    )\\n\\n    model.compile(\\n        optimizer=keras.optimizers.Adam(learning_rate=hp_learning_rate),\\n        loss=\\\"mse\\\",\\n        metrics=[\\\"mae\\\", \\\"mse\\\"],\\n    )\\n\\n    return model\";\n                var nbb_formatted_code = \"def model_builder(hp):\\n    hp_unit_1 = int(len(train_dataset.keys()))\\n    hp_unit_2 = hp.Int(\\\"unit_2\\\", min_value=4, max_value=64, step=1)\\n    hp_unit_3 = hp.Int(\\\"unit_3\\\", min_value=4, max_value=64, step=1)\\n    hp_unit_4 = hp.Int(\\\"unit_4\\\", min_value=4, max_value=64, step=1)\\n    activationL = [\\n        \\\"sigmoid\\\",\\n        \\\"softplus\\\",\\n        \\\"softsign\\\",\\n        \\\"tanh\\\",\\n        \\\"selu\\\",\\n        \\\"elu\\\",\\n        \\\"relu\\\",\\n    ]\\n    activation_choice = hp.Choice(\\\"activation\\\", values=activationL)\\n    hp_learning_rate = hp.Choice(\\\"learning_rate\\\", values=[1e-2, 1e-3, 1e-4])\\n\\n    model = keras.Sequential(\\n        [\\n            layers.Dense(\\n                units=hp_unit_1,\\n                activation=activation_choice,\\n                input_shape=[len(train_dataset.keys())],\\n            ),\\n            layers.Dense(units=hp_unit_2, activation=activation_choice),\\n            layers.Dense(units=hp_unit_3, activation=activation_choice),\\n            layers.Dense(units=hp_unit_4, activation=activation_choice),\\n            layers.Dense(units=1, activation=\\\"linear\\\"),\\n        ]\\n    )\\n\\n    model.compile(\\n        optimizer=keras.optimizers.Adam(learning_rate=hp_learning_rate),\\n        loss=\\\"mse\\\",\\n        metrics=[\\\"mae\\\", \\\"mse\\\"],\\n    )\\n\\n    return model\";\n                var nbb_cells = Jupyter.notebook.get_cells();\n                for (var i = 0; i < nbb_cells.length; ++i) {\n                    if (nbb_cells[i].input_prompt_number == nbb_cell_id) {\n                        if (nbb_cells[i].get_text() == nbb_unformatted_code) {\n                             nbb_cells[i].set_text(nbb_formatted_code);\n                        }\n                        break;\n                    }\n                }\n            }, 500);\n            ",
      "text/plain": [
       "<IPython.core.display.Javascript object>"
      ]
     },
     "metadata": {},
     "output_type": "display_data"
    }
   ],
   "source": [
    "def model_builder(hp):\n",
    "    hp_unit_1 = int(len(train_dataset.keys()))\n",
    "    hp_unit_2 = hp.Int(\"unit_2\", min_value=4, max_value=64, step=1)\n",
    "    hp_unit_3 = hp.Int(\"unit_3\", min_value=4, max_value=64, step=1)\n",
    "    hp_unit_4 = hp.Int(\"unit_4\", min_value=4, max_value=64, step=1)\n",
    "    activationL = [\n",
    "        \"sigmoid\",\n",
    "        \"softplus\",\n",
    "        \"softsign\",\n",
    "        \"tanh\",\n",
    "        \"selu\",\n",
    "        \"elu\",\n",
    "        \"relu\",\n",
    "    ]\n",
    "    activation_choice = hp.Choice(\"activation\", values=activationL)\n",
    "    hp_learning_rate = hp.Choice(\"learning_rate\", values=[1e-2, 1e-3, 1e-4])\n",
    "\n",
    "    model = keras.Sequential(\n",
    "        [\n",
    "            layers.Dense(\n",
    "                units=hp_unit_1,\n",
    "                activation=activation_choice,\n",
    "                input_shape=[len(train_dataset.keys())],\n",
    "            ),\n",
    "            layers.Dense(units=hp_unit_2, activation=activation_choice),\n",
    "            layers.Dense(units=hp_unit_3, activation=activation_choice),\n",
    "            layers.Dense(units=hp_unit_4, activation=activation_choice),\n",
    "            layers.Dense(units=1, activation=\"linear\"),\n",
    "        ]\n",
    "    )\n",
    "\n",
    "    model.compile(\n",
    "        optimizer=keras.optimizers.Adam(learning_rate=hp_learning_rate),\n",
    "        loss=\"mse\",\n",
    "        metrics=[\"mae\", \"mse\"],\n",
    "    )\n",
    "\n",
    "    return model"
   ]
  },
  {
   "cell_type": "markdown",
   "metadata": {},
   "source": [
    "# Selecionando a melhor epoca do modelo"
   ]
  },
  {
   "cell_type": "code",
   "execution_count": 13,
   "metadata": {},
   "outputs": [
    {
     "data": {
      "application/javascript": "\n            setTimeout(function() {\n                var nbb_cell_id = 13;\n                var nbb_unformatted_code = \"def repetir(SAVE_TIME, EPOCHS, epochs_to_search, TYPE_MODEL):\\n    best_hps = None\\n    history = None\\n    bst_model_path = None\\n    tuner = None\\n\\n    tuner = kt.RandomSearch(\\n        model_builder,\\n        objective=\\\"val_mse\\\",\\n        # max_epochs=10,\\n        # factor=3,\\n        directory=\\\"logs\\\",\\n        project_name=f\\\"{TYPE_MODEL}_{SAVE_TIME}_hyper_parameters\\\",\\n    )\\n\\n    # Buscando hyper parametros\\n    tuner.search(\\n        train_dataset,\\n        train_labels,\\n        epochs=epochs_to_search,\\n        validation_split=0.2,\\n        verbose=0,\\n    )\\n\\n    best_hps = tuner.get_best_hyperparameters(num_trials=100)[0]\\n\\n    # Build the model with the optimal hyperparameters and train it on the data for 50 epochs\\n    bst_model_path = f\\\"Models/{TYPE_MODEL}/model_{TYPE_MODEL}_{SAVE_TIME}.h5\\\"\\n    model_checkpoint = ModelCheckpoint(\\n        bst_model_path, save_best_only=True, monitor=\\\"val_mse\\\", mode=\\\"min\\\"\\n    )\\n\\n    model = tuner.hypermodel.build(best_hps)\\n    history = model.fit(\\n        train_dataset,\\n        train_labels,\\n        epochs=EPOCHS,\\n        validation_split=0.2,\\n        verbose=0,\\n        callbacks=([model_checkpoint]),\\n    )\\n\\n    # Select the best epoch,\\n    val_mse_per_epoch = history.history[\\\"val_mse\\\"]\\n    best_epoch = val_mse_per_epoch.index(min(val_mse_per_epoch)) + 1\\n\\n    # Saving results in lists\\n    get_results(history, best_hps, bst_model_path)\";\n                var nbb_formatted_code = \"def repetir(SAVE_TIME, EPOCHS, epochs_to_search, TYPE_MODEL):\\n    best_hps = None\\n    history = None\\n    bst_model_path = None\\n    tuner = None\\n\\n    tuner = kt.RandomSearch(\\n        model_builder,\\n        objective=\\\"val_mse\\\",\\n        # max_epochs=10,\\n        # factor=3,\\n        directory=\\\"logs\\\",\\n        project_name=f\\\"{TYPE_MODEL}_{SAVE_TIME}_hyper_parameters\\\",\\n    )\\n\\n    # Buscando hyper parametros\\n    tuner.search(\\n        train_dataset,\\n        train_labels,\\n        epochs=epochs_to_search,\\n        validation_split=0.2,\\n        verbose=0,\\n    )\\n\\n    best_hps = tuner.get_best_hyperparameters(num_trials=100)[0]\\n\\n    # Build the model with the optimal hyperparameters and train it on the data for 50 epochs\\n    bst_model_path = f\\\"Models/{TYPE_MODEL}/model_{TYPE_MODEL}_{SAVE_TIME}.h5\\\"\\n    model_checkpoint = ModelCheckpoint(\\n        bst_model_path, save_best_only=True, monitor=\\\"val_mse\\\", mode=\\\"min\\\"\\n    )\\n\\n    model = tuner.hypermodel.build(best_hps)\\n    history = model.fit(\\n        train_dataset,\\n        train_labels,\\n        epochs=EPOCHS,\\n        validation_split=0.2,\\n        verbose=0,\\n        callbacks=([model_checkpoint]),\\n    )\\n\\n    # Select the best epoch,\\n    val_mse_per_epoch = history.history[\\\"val_mse\\\"]\\n    best_epoch = val_mse_per_epoch.index(min(val_mse_per_epoch)) + 1\\n\\n    # Saving results in lists\\n    get_results(history, best_hps, bst_model_path)\";\n                var nbb_cells = Jupyter.notebook.get_cells();\n                for (var i = 0; i < nbb_cells.length; ++i) {\n                    if (nbb_cells[i].input_prompt_number == nbb_cell_id) {\n                        if (nbb_cells[i].get_text() == nbb_unformatted_code) {\n                             nbb_cells[i].set_text(nbb_formatted_code);\n                        }\n                        break;\n                    }\n                }\n            }, 500);\n            ",
      "text/plain": [
       "<IPython.core.display.Javascript object>"
      ]
     },
     "metadata": {},
     "output_type": "display_data"
    }
   ],
   "source": [
    "def repetir(SAVE_TIME, EPOCHS, epochs_to_search, TYPE_MODEL):\n",
    "    best_hps = None\n",
    "    history = None\n",
    "    bst_model_path = None\n",
    "    tuner = None\n",
    "\n",
    "    tuner = kt.RandomSearch(\n",
    "        model_builder,\n",
    "        objective=\"val_mse\",\n",
    "        # max_epochs=10,\n",
    "        # factor=3,\n",
    "        directory=\"logs\",\n",
    "        project_name=f\"{TYPE_MODEL}_{SAVE_TIME}_hyper_parameters\",\n",
    "    )\n",
    "\n",
    "    # Buscando hyper parametros\n",
    "    tuner.search(\n",
    "        train_dataset,\n",
    "        train_labels,\n",
    "        epochs=epochs_to_search,\n",
    "        validation_split=0.2,\n",
    "        verbose=0,\n",
    "    )\n",
    "\n",
    "    best_hps = tuner.get_best_hyperparameters(num_trials=100)[0]\n",
    "\n",
    "    # Build the model with the optimal hyperparameters and train it on the data for 50 epochs\n",
    "    bst_model_path = f\"Models/{TYPE_MODEL}/model_{TYPE_MODEL}_{SAVE_TIME}.h5\"\n",
    "    model_checkpoint = ModelCheckpoint(\n",
    "        bst_model_path, save_best_only=True, monitor=\"val_mse\", mode=\"min\"\n",
    "    )\n",
    "\n",
    "    model = tuner.hypermodel.build(best_hps)\n",
    "    history = model.fit(\n",
    "        train_dataset,\n",
    "        train_labels,\n",
    "        epochs=EPOCHS,\n",
    "        validation_split=0.2,\n",
    "        verbose=0,\n",
    "        callbacks=([model_checkpoint]),\n",
    "    )\n",
    "\n",
    "    # Select the best epoch,\n",
    "    val_mse_per_epoch = history.history[\"val_mse\"]\n",
    "    best_epoch = val_mse_per_epoch.index(min(val_mse_per_epoch)) + 1\n",
    "\n",
    "    # Saving results in lists\n",
    "    get_results(history, best_hps, bst_model_path)"
   ]
  },
  {
   "cell_type": "code",
   "execution_count": 14,
   "metadata": {},
   "outputs": [
    {
     "name": "stdout",
     "output_type": "stream",
     "text": [
      "INFO:tensorflow:Oracle triggered exit\n",
      "INFO:tensorflow:Oracle triggered exit\n",
      "INFO:tensorflow:Oracle triggered exit\n"
     ]
    },
    {
     "data": {
      "text/html": [
       "<div>\n",
       "<style scoped>\n",
       "    .dataframe tbody tr th:only-of-type {\n",
       "        vertical-align: middle;\n",
       "    }\n",
       "\n",
       "    .dataframe tbody tr th {\n",
       "        vertical-align: top;\n",
       "    }\n",
       "\n",
       "    .dataframe thead th {\n",
       "        text-align: right;\n",
       "    }\n",
       "</style>\n",
       "<table border=\"1\" class=\"dataframe\">\n",
       "  <thead>\n",
       "    <tr style=\"text-align: right;\">\n",
       "      <th></th>\n",
       "      <th>activation</th>\n",
       "      <th>best_epoch</th>\n",
       "      <th>best_model_path</th>\n",
       "      <th>hp_unit_1</th>\n",
       "      <th>hp_unit_2</th>\n",
       "      <th>hp_unit_3</th>\n",
       "      <th>hp_unit_4</th>\n",
       "      <th>kernel_size_1</th>\n",
       "      <th>kernel_size_2</th>\n",
       "      <th>learning_rate</th>\n",
       "      <th>n_filter_1</th>\n",
       "      <th>n_filter_2</th>\n",
       "      <th>val_mae</th>\n",
       "      <th>val_mse</th>\n",
       "    </tr>\n",
       "  </thead>\n",
       "  <tbody>\n",
       "    <tr>\n",
       "      <th>0</th>\n",
       "      <td>tanh</td>\n",
       "      <td>48</td>\n",
       "      <td>Models/MLP/model_MLP_22_12_14_20h07m00.h5</td>\n",
       "      <td>None</td>\n",
       "      <td>27</td>\n",
       "      <td>63</td>\n",
       "      <td>35</td>\n",
       "      <td>None</td>\n",
       "      <td>None</td>\n",
       "      <td>0.001</td>\n",
       "      <td>None</td>\n",
       "      <td>None</td>\n",
       "      <td>1.007162</td>\n",
       "      <td>1.632360</td>\n",
       "    </tr>\n",
       "    <tr>\n",
       "      <th>1</th>\n",
       "      <td>elu</td>\n",
       "      <td>134</td>\n",
       "      <td>Models/MLP/model_MLP_22_12_14_20h07m41.h5</td>\n",
       "      <td>None</td>\n",
       "      <td>43</td>\n",
       "      <td>19</td>\n",
       "      <td>20</td>\n",
       "      <td>None</td>\n",
       "      <td>None</td>\n",
       "      <td>0.010</td>\n",
       "      <td>None</td>\n",
       "      <td>None</td>\n",
       "      <td>1.004151</td>\n",
       "      <td>1.622221</td>\n",
       "    </tr>\n",
       "    <tr>\n",
       "      <th>2</th>\n",
       "      <td>tanh</td>\n",
       "      <td>344</td>\n",
       "      <td>Models/MLP/model_MLP_22_12_14_20h08m21.h5</td>\n",
       "      <td>None</td>\n",
       "      <td>43</td>\n",
       "      <td>38</td>\n",
       "      <td>16</td>\n",
       "      <td>None</td>\n",
       "      <td>None</td>\n",
       "      <td>0.010</td>\n",
       "      <td>None</td>\n",
       "      <td>None</td>\n",
       "      <td>0.999427</td>\n",
       "      <td>1.612047</td>\n",
       "    </tr>\n",
       "  </tbody>\n",
       "</table>\n",
       "</div>"
      ],
      "text/plain": [
       "  activation  best_epoch                            best_model_path hp_unit_1  \\\n",
       "0       tanh          48  Models/MLP/model_MLP_22_12_14_20h07m00.h5      None   \n",
       "1        elu         134  Models/MLP/model_MLP_22_12_14_20h07m41.h5      None   \n",
       "2       tanh         344  Models/MLP/model_MLP_22_12_14_20h08m21.h5      None   \n",
       "\n",
       "   hp_unit_2  hp_unit_3  hp_unit_4 kernel_size_1 kernel_size_2  learning_rate  \\\n",
       "0         27         63         35          None          None          0.001   \n",
       "1         43         19         20          None          None          0.010   \n",
       "2         43         38         16          None          None          0.010   \n",
       "\n",
       "  n_filter_1 n_filter_2   val_mae   val_mse  \n",
       "0       None       None  1.007162  1.632360  \n",
       "1       None       None  1.004151  1.622221  \n",
       "2       None       None  0.999427  1.612047  "
      ]
     },
     "execution_count": 14,
     "metadata": {},
     "output_type": "execute_result"
    },
    {
     "data": {
      "application/javascript": "\n            setTimeout(function() {\n                var nbb_cell_id = 14;\n                var nbb_unformatted_code = \"TYPE_MODEL = \\\"MLP\\\"\\nREPETICAO = 3\\nEPOCHS = 500\\nepochs_to_search = 3\\n\\nfor i in range(REPETICAO):\\n    SAVE_TIME = datetime.datetime.strftime(datetime.datetime.now(), \\\"%y_%m_%d_%Hh%Mm%S\\\")\\n    repetir(SAVE_TIME, EPOCHS, epochs_to_search, TYPE_MODEL)\\n\\ndf_resultados = save_df_results(SAVE_TIME)\\ndf_resultados\";\n                var nbb_formatted_code = \"TYPE_MODEL = \\\"MLP\\\"\\nREPETICAO = 3\\nEPOCHS = 500\\nepochs_to_search = 3\\n\\nfor i in range(REPETICAO):\\n    SAVE_TIME = datetime.datetime.strftime(datetime.datetime.now(), \\\"%y_%m_%d_%Hh%Mm%S\\\")\\n    repetir(SAVE_TIME, EPOCHS, epochs_to_search, TYPE_MODEL)\\n\\ndf_resultados = save_df_results(SAVE_TIME)\\ndf_resultados\";\n                var nbb_cells = Jupyter.notebook.get_cells();\n                for (var i = 0; i < nbb_cells.length; ++i) {\n                    if (nbb_cells[i].input_prompt_number == nbb_cell_id) {\n                        if (nbb_cells[i].get_text() == nbb_unformatted_code) {\n                             nbb_cells[i].set_text(nbb_formatted_code);\n                        }\n                        break;\n                    }\n                }\n            }, 500);\n            ",
      "text/plain": [
       "<IPython.core.display.Javascript object>"
      ]
     },
     "metadata": {},
     "output_type": "display_data"
    }
   ],
   "source": [
    "TYPE_MODEL = \"MLP\"\n",
    "REPETICAO = 3\n",
    "EPOCHS = 500\n",
    "epochs_to_search = 3\n",
    "\n",
    "for i in range(REPETICAO):\n",
    "    SAVE_TIME = datetime.datetime.strftime(datetime.datetime.now(), \"%y_%m_%d_%Hh%Mm%S\")\n",
    "    repetir(SAVE_TIME, EPOCHS, epochs_to_search, TYPE_MODEL)\n",
    "\n",
    "df_resultados = save_df_results(SAVE_TIME)\n",
    "df_resultados"
   ]
  },
  {
   "cell_type": "code",
   "execution_count": 15,
   "metadata": {},
   "outputs": [
    {
     "ename": "SyntaxError",
     "evalue": "invalid syntax (975941084.py, line 2)",
     "output_type": "error",
     "traceback": [
      "\u001b[1;36m  Input \u001b[1;32mIn [15]\u001b[1;36m\u001b[0m\n\u001b[1;33m    df_resultados.arthur briganti gini\u001b[0m\n\u001b[1;37m                         ^\u001b[0m\n\u001b[1;31mSyntaxError\u001b[0m\u001b[1;31m:\u001b[0m invalid syntax\n"
     ]
    },
    {
     "name": "stderr",
     "output_type": "stream",
     "text": [
      "ERROR:root:Cannot parse: 2:21: df_resultados.arthur briganti gini\n",
      "Traceback (most recent call last):\n",
      "  File \"c:\\Users\\arthu\\.conda\\envs\\pystock\\lib\\site-packages\\lab_black.py\", line 218, in format_cell\n",
      "    formatted_code = _format_code(cell)\n",
      "  File \"c:\\Users\\arthu\\.conda\\envs\\pystock\\lib\\site-packages\\lab_black.py\", line 29, in _format_code\n",
      "    return format_str(src_contents=code, mode=FileMode())\n",
      "  File \"c:\\Users\\arthu\\.conda\\envs\\pystock\\lib\\site-packages\\black\\__init__.py\", line 1163, in format_str\n",
      "    dst_contents = _format_str_once(src_contents, mode=mode)\n",
      "  File \"c:\\Users\\arthu\\.conda\\envs\\pystock\\lib\\site-packages\\black\\__init__.py\", line 1173, in _format_str_once\n",
      "    src_node = lib2to3_parse(src_contents.lstrip(), mode.target_versions)\n",
      "  File \"c:\\Users\\arthu\\.conda\\envs\\pystock\\lib\\site-packages\\black\\parsing.py\", line 128, in lib2to3_parse\n",
      "    raise exc from None\n",
      "black.parsing.InvalidInput: Cannot parse: 2:21: df_resultados.arthur briganti gini\n",
      "ERROR:root:Cannot parse: 2:21: df_resultados.arthur briganti gini\n",
      "Traceback (most recent call last):\n",
      "  File \"c:\\Users\\arthu\\.conda\\envs\\pystock\\lib\\site-packages\\lab_black.py\", line 218, in format_cell\n",
      "    formatted_code = _format_code(cell)\n",
      "  File \"c:\\Users\\arthu\\.conda\\envs\\pystock\\lib\\site-packages\\lab_black.py\", line 29, in _format_code\n",
      "    return format_str(src_contents=code, mode=FileMode())\n",
      "  File \"c:\\Users\\arthu\\.conda\\envs\\pystock\\lib\\site-packages\\black\\__init__.py\", line 1163, in format_str\n",
      "    dst_contents = _format_str_once(src_contents, mode=mode)\n",
      "  File \"c:\\Users\\arthu\\.conda\\envs\\pystock\\lib\\site-packages\\black\\__init__.py\", line 1173, in _format_str_once\n",
      "    src_node = lib2to3_parse(src_contents.lstrip(), mode.target_versions)\n",
      "  File \"c:\\Users\\arthu\\.conda\\envs\\pystock\\lib\\site-packages\\black\\parsing.py\", line 128, in lib2to3_parse\n",
      "    raise exc from None\n",
      "black.parsing.InvalidInput: Cannot parse: 2:21: df_resultados.arthur briganti gini\n"
     ]
    }
   ],
   "source": [
    "# Just stop run jupyter\n",
    "df_resultados.arthur briganti gini"
   ]
  },
  {
   "cell_type": "markdown",
   "metadata": {},
   "source": [
    "# Avaliando o modelo\n",
    "\n",
    "Todas as métricas já foram extraidas, as análises posteriores são apenas para fins exploratorios "
   ]
  },
  {
   "cell_type": "code",
   "execution_count": null,
   "metadata": {},
   "outputs": [],
   "source": [
    "df_results.teste()"
   ]
  },
  {
   "cell_type": "code",
   "execution_count": null,
   "metadata": {},
   "outputs": [],
   "source": [
    "print(\"Best epoch: %d\" % (best_epoch,))\n",
    "print(f'val_mae: {min(history.history[\"val_mae\"])}')\n",
    "print(f'val_mse: {min(history.history[\"val_mse\"])}')\n",
    "\n",
    "print(f'n_filter_1: {best_hps.get(\"n_filter_1\")}')\n",
    "# print(f'n_filter_2: {best_hps.get(\"n_filter_2\")}')\n",
    "print(f'kernel_size_1: {best_hps.get(\"kernel_size_1\")}')\n",
    "# print(f'kernel_size_2: {best_hps.get(\"kernel_size_2\")}')\n",
    "\n",
    "# print(f'unit_3: {best_hps.get(\"unit_3\")}')\n",
    "# print(f'unit_4: {best_hps.get(\"unit_4\")}')\n",
    "print(f'learning_rate: {best_hps.get(\"learning_rate\")}')\n",
    "print(f'activation: {best_hps.get(\"activation\")}')"
   ]
  },
  {
   "cell_type": "code",
   "execution_count": null,
   "metadata": {},
   "outputs": [],
   "source": [
    "# for REPETICAO, value in enumerate((df_results)):\n",
    "df_results.loc[REPETICAO, \"best_model_path\"] = bst_model_path\n",
    "df_results.loc[REPETICAO, \"best_epoch\"] = best_epoch\n",
    "df_results.loc[REPETICAO, \"val_mae\"] = min(history.history[\"val_mae\"])\n",
    "df_results.loc[REPETICAO, \"val_mse\"] = min(history.history[\"val_mse\"])\n",
    "df_results.loc[REPETICAO, \"n_filter_1\"] = best_hps.get(\"n_filter_1\")\n",
    "df_results.loc[REPETICAO, \"n_filter_2\"] = None\n",
    "df_results.loc[REPETICAO, \"kernel_size_1\"] = best_hps.get(\"kernel_size_1\")\n",
    "df_results.loc[REPETICAO, \"kernel_size_2\"] = None\n",
    "df_results.loc[REPETICAO, \"learning_rate\"] = best_hps.get(\"learning_rate\")\n",
    "df_results.loc[REPETICAO, \"activation\"] = best_hps.get(\"activation\")\n",
    "\n",
    "df_results\n",
    "# bst_model_path"
   ]
  },
  {
   "cell_type": "code",
   "execution_count": null,
   "metadata": {},
   "outputs": [],
   "source": [
    "model.teste()"
   ]
  },
  {
   "cell_type": "code",
   "execution_count": null,
   "metadata": {},
   "outputs": [],
   "source": [
    "df_results.to_csv(\n",
    "    f\"Parameter_{TYPE_MODEL}\",\n",
    "    header=True,\n",
    ")"
   ]
  },
  {
   "cell_type": "code",
   "execution_count": null,
   "metadata": {},
   "outputs": [],
   "source": [
    "model.summary()"
   ]
  },
  {
   "cell_type": "markdown",
   "metadata": {},
   "source": [
    "# Treinando modelo"
   ]
  },
  {
   "cell_type": "code",
   "execution_count": null,
   "metadata": {},
   "outputs": [],
   "source": [
    "# hypermodel = tuner.hypermodel.build(best_hps)\n",
    "# history = hypermodel.fit(train_dataset, train_labels, epochs=best_epoch, validation_split=0.2, verbose=1)\n",
    "\n",
    "# # ja pega o modelo na melhor epoca"
   ]
  },
  {
   "cell_type": "code",
   "execution_count": null,
   "metadata": {},
   "outputs": [],
   "source": [
    "eval_result = model.evaluate(test_dataset, test_labels)\n",
    "print(\"[test loss, test accuracy]:\", eval_result)"
   ]
  },
  {
   "cell_type": "markdown",
   "metadata": {},
   "source": [
    "# Avaliando o modelo"
   ]
  },
  {
   "cell_type": "code",
   "execution_count": null,
   "metadata": {},
   "outputs": [],
   "source": [
    "# print(f'train_dataset: {train_dataset.columns()} \\n')\n",
    "# print(f'valid_dataset: {valid_dataset.columns()} \\n')\n",
    "# print(f'test_dataset: {test_dataset.columns()} \\n')"
   ]
  },
  {
   "cell_type": "code",
   "execution_count": null,
   "metadata": {},
   "outputs": [],
   "source": [
    "hist = pd.DataFrame(history.history)\n",
    "hist[\"epoch\"] = history.epoch\n",
    "hist.tail()"
   ]
  },
  {
   "cell_type": "code",
   "execution_count": null,
   "metadata": {},
   "outputs": [],
   "source": [
    "print(f\"Min MSE: {hist.mse.min()}\")\n",
    "print(f\"Min Val_MSE: {hist.val_mse.min()}\")"
   ]
  },
  {
   "cell_type": "code",
   "execution_count": null,
   "metadata": {},
   "outputs": [],
   "source": [
    "def plot_history(history):\n",
    "    hist = pd.DataFrame(history.history)\n",
    "    hist[\"epoch\"] = history.epoch\n",
    "\n",
    "    plt.figure()\n",
    "    plt.xlabel(\"Epoch\")\n",
    "    plt.ylabel(\"Mean Abs Error [ibova_0]\")\n",
    "    plt.plot(hist[\"epoch\"], hist[\"mae\"], label=\"Train Error\")\n",
    "    plt.plot(hist[\"epoch\"], hist[\"val_mae\"], label=\"Val Error\")\n",
    "    plt.ylim([0, 1])\n",
    "    plt.legend()\n",
    "\n",
    "    plt.figure()\n",
    "    plt.xlabel(\"Epoch\")\n",
    "    plt.ylabel(\"Mean Square Error [$ibova_0^2$]\")\n",
    "    plt.plot(hist[\"epoch\"], hist[\"mse\"], label=\"Train Error\")\n",
    "    plt.plot(hist[\"epoch\"], hist[\"val_mse\"], label=\"Val Error\")\n",
    "    plt.ylim([0, 1])\n",
    "    plt.legend()\n",
    "    plt.show()\n",
    "\n",
    "\n",
    "plot_history(history)"
   ]
  },
  {
   "cell_type": "markdown",
   "metadata": {},
   "source": [
    "# Realizando as previsões"
   ]
  },
  {
   "cell_type": "code",
   "execution_count": null,
   "metadata": {},
   "outputs": [],
   "source": [
    "test_predictions = model.predict(test_dataset).flatten()"
   ]
  },
  {
   "cell_type": "markdown",
   "metadata": {},
   "source": [
    "# Avaliando as previsões:"
   ]
  },
  {
   "cell_type": "code",
   "execution_count": null,
   "metadata": {},
   "outputs": [],
   "source": [
    "def show_test_labels():\n",
    "    # Imprimindo valores reais\n",
    "    plt.plot(test_labels, color=\"r\", label=\"ibova_REAL\")\n",
    "    plt.xlabel(\"Dates\")\n",
    "    plt.ylabel(\"Variation ROC\")\n",
    "    plt.title(\"ibova_REAL\")\n",
    "    plt.legend()\n",
    "\n",
    "\n",
    "def show_model_predictions():\n",
    "    # Imprimindo previsoes\n",
    "    plt.plot(test_predictions, color=\"g\", label=\"predictions_MODEL\")\n",
    "    plt.xlabel(\"Dates\")\n",
    "    plt.ylabel(\"Variation ROC\")\n",
    "    plt.title(\"predictions_MODEL\")\n",
    "    plt.legend()\n",
    "\n",
    "\n",
    "def show_compare_graph():\n",
    "    # Predictt X Real values\n",
    "    plt.plot(test_labels, color=\"r\", label=\"ibova_REAL\")\n",
    "    plt.plot(test_predictions, color=\"g\", label=\"predictions_MODEL\")\n",
    "    plt.xlabel(\"Dates\")\n",
    "    plt.ylabel(\"Variation ROC\")\n",
    "    plt.title(\"Predict X Real values\")\n",
    "    plt.legend()\n",
    "    plt.show()\n",
    "\n",
    "\n",
    "def show_true_predict_values():\n",
    "    plt.figure(figsize=(24, 4))\n",
    "    plt.scatter(test_labels, test_predictions)\n",
    "    plt.xlabel(\"True Values [ibova_0]\")\n",
    "    plt.ylabel(\"Predictions [ibova_0]\")\n",
    "    plt.axis(\"equal\")\n",
    "    plt.axis(\"square\")\n",
    "    plt.xlim([0, plt.xlim()[1]])\n",
    "    plt.ylim([0, plt.ylim()[1]])\n",
    "    _ = plt.plot([-100, 100], [-100, 100])"
   ]
  },
  {
   "cell_type": "code",
   "execution_count": null,
   "metadata": {},
   "outputs": [],
   "source": [
    "show_compare_graph()"
   ]
  },
  {
   "cell_type": "code",
   "execution_count": null,
   "metadata": {},
   "outputs": [],
   "source": [
    "show_model_predictions()"
   ]
  },
  {
   "cell_type": "code",
   "execution_count": null,
   "metadata": {},
   "outputs": [],
   "source": [
    "model_name = f'mlp_unit_1({best_hps.get(\"unit_1\")})unit_2({best_hps.get(\"unit_2\")})unit_3({best_hps.get(\"unit_3\")})unit_4({best_hps.get(\"unit_4\")})_learning({best_hps.get(\"learning_rate\")})_activation({best_hps.get(\"activation\")})'\n",
    "model_name\n",
    "model.save(f\"models/mlp/{model_name}date_{save_time}.h5\")"
   ]
  },
  {
   "cell_type": "code",
   "execution_count": null,
   "metadata": {},
   "outputs": [],
   "source": [
    "# Analisando Medias:\n",
    "\n",
    "print(f\"Massa de predição: {test_predictions.mean()}\")\n",
    "print(f\"Massa inicial: {ibova_test.mean()}\")\n",
    "print(f\"Diferenças das médias: {ibova_test.mean() - test_predictions.mean()}\")\n",
    "\n",
    "# Add o RM_MSE medio"
   ]
  },
  {
   "cell_type": "code",
   "execution_count": null,
   "metadata": {},
   "outputs": [],
   "source": [
    "save_time"
   ]
  }
 ],
 "metadata": {
  "kernelspec": {
   "display_name": "Python 3.8.12 ('pystock')",
   "language": "python",
   "name": "python3"
  },
  "language_info": {
   "codemirror_mode": {
    "name": "ipython",
    "version": 3
   },
   "file_extension": ".py",
   "mimetype": "text/x-python",
   "name": "python",
   "nbconvert_exporter": "python",
   "pygments_lexer": "ipython3",
   "version": "3.8.13"
  },
  "orig_nbformat": 4,
  "vscode": {
   "interpreter": {
    "hash": "bc0c8eb905859abd75b389576d87e2ac71c748b72952270660ecc130aeb3e651"
   }
  }
 },
 "nbformat": 4,
 "nbformat_minor": 2
}
