{
 "cells": [
  {
   "cell_type": "code",
   "execution_count": 1,
   "metadata": {},
   "outputs": [],
   "source": [
    "# Usei como base esse tutorial:\n",
    "# https://colab.research.google.com/github/tensorflow/docs-l10n/blob/master/site/pt-br/tutorials/keras/regression.ipynb#scrollTo=f-OHX4DiXd8x\n",
    "\n",
    "\n",
    "# Ja li tudo\n",
    "# https://boostedml.com/2020/04/1-d-convolutional-neural-networks-for-time-series-basic-intuition.html\n",
    "\n",
    "# How do I use make a convolutional layer for tabular (1-D) features?\n",
    "# https://stackoverflow.com/questions/59756806/tensorflow-how-do-i-use-make-a-convolutional-layer-for-tabular-1-d-features\n",
    "\n",
    "# TODO: Fiquei de verificar:\n",
    "# https://machinelearningmastery.com/cnn-models-for-human-activity-recognition-time-series-classification/"
   ]
  },
  {
   "cell_type": "code",
   "execution_count": 2,
   "metadata": {},
   "outputs": [
    {
     "data": {
      "application/javascript": "\n            setTimeout(function() {\n                var nbb_cell_id = 2;\n                var nbb_unformatted_code = \"%load_ext nb_black\\n%load_ext lab_black\";\n                var nbb_formatted_code = \"%load_ext nb_black\\n%load_ext lab_black\";\n                var nbb_cells = Jupyter.notebook.get_cells();\n                for (var i = 0; i < nbb_cells.length; ++i) {\n                    if (nbb_cells[i].input_prompt_number == nbb_cell_id) {\n                        if (nbb_cells[i].get_text() == nbb_unformatted_code) {\n                             nbb_cells[i].set_text(nbb_formatted_code);\n                        }\n                        break;\n                    }\n                }\n            }, 500);\n            ",
      "text/plain": [
       "<IPython.core.display.Javascript object>"
      ]
     },
     "metadata": {},
     "output_type": "display_data"
    }
   ],
   "source": [
    "%load_ext nb_black\n",
    "%load_ext lab_black"
   ]
  },
  {
   "cell_type": "markdown",
   "metadata": {},
   "source": [
    "# Lendo Dfs"
   ]
  },
  {
   "cell_type": "code",
   "execution_count": 3,
   "metadata": {},
   "outputs": [
    {
     "data": {
      "application/javascript": "\n            setTimeout(function() {\n                var nbb_cell_id = 3;\n                var nbb_unformatted_code = \"import pathlib\\nimport datetime\\n\\nimport matplotlib.pyplot as plt\\nimport pandas as pd\\nimport seaborn as sns\\n\\nimport tensorflow as tf\\nimport datetime\\n\\nfrom tensorflow import keras\\nfrom tensorflow.keras import layers\\n\\nfrom keras.callbacks import ModelCheckpoint\\nimport keras_tuner as kt\\n\\n# 80%\\nPATH_TREINO = \\\"../Data/3_Gold/Treino_all_stocks.csv\\\"\\nDF_TREINO = pd.read_csv(PATH_TREINO, sep=\\\",\\\")\\ntrain_dataset = DF_TREINO\\ntrain_dataset = train_dataset.drop(\\n    [\\n        \\\"oil_5\\\",\\n        \\\"usd_5\\\",\\n        \\\"abev_5\\\",\\n        \\\"jbs_5\\\",\\n        \\\"petr_5\\\",\\n        \\\"vale_5\\\",\\n    ],\\n    axis=1,\\n)\\ntrain_labels = train_dataset.pop(\\\"ibova_5\\\")\\n\\n# 20%\\nPATH_TESTE = \\\"../Data/3_Gold/Teste_all_stocks.csv\\\"\\nDF_TESTE = pd.read_csv(PATH_TESTE, sep=\\\",\\\")\\ntest_dataset = DF_TESTE\\ntest_dataset = test_dataset.drop(\\n    [\\n        \\\"oil_5\\\",\\n        \\\"usd_5\\\",\\n        \\\"abev_5\\\",\\n        \\\"jbs_5\\\",\\n        \\\"petr_5\\\",\\n        \\\"vale_5\\\",\\n    ],\\n    axis=1,\\n)\\ntest_labels = test_dataset.pop(\\\"ibova_5\\\")\\n\\n\\\"\\\"\\\"\\n\\tResultado\\n\\\"\\\"\\\"\\n\\nlist_activation = []\\nlist_best_epoch = []\\nlist_best_model_path = []\\nlist_hp_unit_1 = []\\nlist_hp_unit_2 = []\\nlist_hp_unit_3 = []\\nlist_hp_unit_4 = []\\nlist_kernel_size_1 = []\\nlist_kernel_size_2 = []\\nlist_learning_rate = []\\nlist_n_filter_1 = []\\nlist_n_filter_2 = []\\nlist_val_mae = []\\nlist_val_mse = []\\n\\n\\ndf_results = pd.DataFrame(\\n    columns=[\\n        \\\"best_epoch\\\",\\n        \\\"val_mae\\\",\\n        \\\"val_mse\\\",\\n        \\\"n_filter_1\\\",\\n        \\\"n_filter_2\\\",\\n        \\\"kernel_size_1\\\",\\n        \\\"kernel_size_2\\\",\\n        \\\"learning_rate\\\",\\n        \\\"activation\\\",\\n    ]\\n)\";\n                var nbb_formatted_code = \"import pathlib\\nimport datetime\\n\\nimport matplotlib.pyplot as plt\\nimport pandas as pd\\nimport seaborn as sns\\n\\nimport tensorflow as tf\\nimport datetime\\n\\nfrom tensorflow import keras\\nfrom tensorflow.keras import layers\\n\\nfrom keras.callbacks import ModelCheckpoint\\nimport keras_tuner as kt\\n\\n# 80%\\nPATH_TREINO = \\\"../Data/3_Gold/Treino_all_stocks.csv\\\"\\nDF_TREINO = pd.read_csv(PATH_TREINO, sep=\\\",\\\")\\ntrain_dataset = DF_TREINO\\ntrain_dataset = train_dataset.drop(\\n    [\\n        \\\"oil_5\\\",\\n        \\\"usd_5\\\",\\n        \\\"abev_5\\\",\\n        \\\"jbs_5\\\",\\n        \\\"petr_5\\\",\\n        \\\"vale_5\\\",\\n    ],\\n    axis=1,\\n)\\ntrain_labels = train_dataset.pop(\\\"ibova_5\\\")\\n\\n# 20%\\nPATH_TESTE = \\\"../Data/3_Gold/Teste_all_stocks.csv\\\"\\nDF_TESTE = pd.read_csv(PATH_TESTE, sep=\\\",\\\")\\ntest_dataset = DF_TESTE\\ntest_dataset = test_dataset.drop(\\n    [\\n        \\\"oil_5\\\",\\n        \\\"usd_5\\\",\\n        \\\"abev_5\\\",\\n        \\\"jbs_5\\\",\\n        \\\"petr_5\\\",\\n        \\\"vale_5\\\",\\n    ],\\n    axis=1,\\n)\\ntest_labels = test_dataset.pop(\\\"ibova_5\\\")\\n\\n\\\"\\\"\\\"\\n\\tResultado\\n\\\"\\\"\\\"\\n\\nlist_activation = []\\nlist_best_epoch = []\\nlist_best_model_path = []\\nlist_hp_unit_1 = []\\nlist_hp_unit_2 = []\\nlist_hp_unit_3 = []\\nlist_hp_unit_4 = []\\nlist_kernel_size_1 = []\\nlist_kernel_size_2 = []\\nlist_learning_rate = []\\nlist_n_filter_1 = []\\nlist_n_filter_2 = []\\nlist_val_mae = []\\nlist_val_mse = []\\n\\n\\ndf_results = pd.DataFrame(\\n    columns=[\\n        \\\"best_epoch\\\",\\n        \\\"val_mae\\\",\\n        \\\"val_mse\\\",\\n        \\\"n_filter_1\\\",\\n        \\\"n_filter_2\\\",\\n        \\\"kernel_size_1\\\",\\n        \\\"kernel_size_2\\\",\\n        \\\"learning_rate\\\",\\n        \\\"activation\\\",\\n    ]\\n)\";\n                var nbb_cells = Jupyter.notebook.get_cells();\n                for (var i = 0; i < nbb_cells.length; ++i) {\n                    if (nbb_cells[i].input_prompt_number == nbb_cell_id) {\n                        if (nbb_cells[i].get_text() == nbb_unformatted_code) {\n                             nbb_cells[i].set_text(nbb_formatted_code);\n                        }\n                        break;\n                    }\n                }\n            }, 500);\n            ",
      "text/plain": [
       "<IPython.core.display.Javascript object>"
      ]
     },
     "metadata": {},
     "output_type": "display_data"
    }
   ],
   "source": [
    "import pathlib\n",
    "import datetime\n",
    "\n",
    "import matplotlib.pyplot as plt\n",
    "import pandas as pd\n",
    "import seaborn as sns\n",
    "\n",
    "import tensorflow as tf\n",
    "import datetime\n",
    "\n",
    "from tensorflow import keras\n",
    "from tensorflow.keras import layers\n",
    "\n",
    "from keras.callbacks import ModelCheckpoint\n",
    "import keras_tuner as kt\n",
    "\n",
    "# 80%\n",
    "PATH_TREINO = \"../Data/3_Gold/Treino_all_stocks.csv\"\n",
    "DF_TREINO = pd.read_csv(PATH_TREINO, sep=\",\")\n",
    "train_dataset = DF_TREINO\n",
    "train_dataset = train_dataset.drop(\n",
    "    [\n",
    "        \"oil_5\",\n",
    "        \"usd_5\",\n",
    "        \"abev_5\",\n",
    "        \"jbs_5\",\n",
    "        \"petr_5\",\n",
    "        \"vale_5\",\n",
    "    ],\n",
    "    axis=1,\n",
    ")\n",
    "train_labels = train_dataset.pop(\"ibova_5\")\n",
    "\n",
    "# 20%\n",
    "PATH_TESTE = \"../Data/3_Gold/Teste_all_stocks.csv\"\n",
    "DF_TESTE = pd.read_csv(PATH_TESTE, sep=\",\")\n",
    "test_dataset = DF_TESTE\n",
    "test_dataset = test_dataset.drop(\n",
    "    [\n",
    "        \"oil_5\",\n",
    "        \"usd_5\",\n",
    "        \"abev_5\",\n",
    "        \"jbs_5\",\n",
    "        \"petr_5\",\n",
    "        \"vale_5\",\n",
    "    ],\n",
    "    axis=1,\n",
    ")\n",
    "test_labels = test_dataset.pop(\"ibova_5\")\n",
    "\n",
    "\"\"\"\n",
    "\tResultado\n",
    "\"\"\"\n",
    "\n",
    "list_activation = []\n",
    "list_best_epoch = []\n",
    "list_best_model_path = []\n",
    "list_hp_unit_1 = []\n",
    "list_hp_unit_2 = []\n",
    "list_hp_unit_3 = []\n",
    "list_hp_unit_4 = []\n",
    "list_kernel_size_1 = []\n",
    "list_kernel_size_2 = []\n",
    "list_learning_rate = []\n",
    "list_n_filter_1 = []\n",
    "list_n_filter_2 = []\n",
    "list_val_mae = []\n",
    "list_val_mse = []\n",
    "\n",
    "\n",
    "df_results = pd.DataFrame(\n",
    "    columns=[\n",
    "        \"best_epoch\",\n",
    "        \"val_mae\",\n",
    "        \"val_mse\",\n",
    "        \"n_filter_1\",\n",
    "        \"n_filter_2\",\n",
    "        \"kernel_size_1\",\n",
    "        \"kernel_size_2\",\n",
    "        \"learning_rate\",\n",
    "        \"activation\",\n",
    "    ]\n",
    ")"
   ]
  },
  {
   "cell_type": "code",
   "execution_count": 4,
   "metadata": {},
   "outputs": [
    {
     "data": {
      "application/javascript": "\n            setTimeout(function() {\n                var nbb_cell_id = 4;\n                var nbb_unformatted_code = \"def get_results(history, best_hps, bst_model_path):\\n    # Select the best epoch,\\n    val_mse_per_epoch = history.history[\\\"val_mse\\\"]\\n    best_epoch = val_mse_per_epoch.index(min(val_mse_per_epoch)) + 1\\n\\n    try:\\n        value_activation = best_hps.get(\\\"activation\\\")\\n    except:\\n        value_activation = None\\n    try:\\n        value_learning_rate = best_hps.get(\\\"learning_rate\\\")\\n    except:\\n        value_learning_rate = None\\n    try:\\n        value_unit_1 = best_hps.get(\\\"unit_1\\\")\\n    except:\\n        value_unit_1 = None\\n    try:\\n        value_unit_2 = best_hps.get(\\\"unit_2\\\")\\n    except:\\n        value_unit_2 = None\\n    try:\\n        value_unit_3 = best_hps.get(\\\"unit_3\\\")\\n    except:\\n        value_unit_3 = None\\n    try:\\n        value_unit_4 = best_hps.get(\\\"unit_4\\\")\\n    except:\\n        value_unit_4 = None\\n    try:\\n        value_kernel_size_1 = best_hps.get(\\\"kernel_size_1\\\")\\n    except:\\n        value_kernel_size_1 = None\\n    try:\\n        value_kernel_size_2 = best_hps.get(\\\"kernel_size_2\\\")\\n    except:\\n        value_kernel_size_2 = None\\n    try:\\n        value_n_filter_1 = best_hps.get(\\\"n_filter_1\\\")\\n    except:\\n        value_n_filter_1 = None\\n    try:\\n        value_n_filter_2 = best_hps.get(\\\"n_filter_2\\\")\\n    except:\\n        value_n_filter_2 = None\\n\\n    \\\"\\\"\\\"\\\"Repeticao MODEL.ipynb\\\"\\\"\\\"\\n\\n    def save_in_list(one_list, value=None):\\n        try:\\n            one_list.append(value)\\n            return one_list\\n        except:\\n            one_list.append(None)\\n            return one_list\\n\\n    save_in_list(list_activation, value_activation)\\n    save_in_list(list_best_epoch, best_epoch)\\n    save_in_list(list_best_model_path, bst_model_path)\\n    save_in_list(list_hp_unit_1, value_unit_1)\\n    save_in_list(list_hp_unit_2, value_unit_2)\\n    save_in_list(list_hp_unit_3, value_unit_3)\\n    save_in_list(list_hp_unit_4, value_unit_4)\\n    save_in_list(list_kernel_size_1, value_kernel_size_1)\\n    save_in_list(list_kernel_size_2, value_kernel_size_2)\\n    save_in_list(list_learning_rate, value_learning_rate)\\n    save_in_list(list_n_filter_1, value_n_filter_1)\\n    save_in_list(list_n_filter_2, value_n_filter_2)\\n    save_in_list(list_val_mae, min(history.history[\\\"val_mae\\\"]))\\n    save_in_list(list_val_mse, min(history.history[\\\"val_mse\\\"]))\\n\\n    # print(f\\\"list_activation: {list_activation}\\\")\\n    # print(f\\\"list_best_epoch: {list_best_epoch}\\\")\\n    # print(f\\\"list_best_model_path: {list_best_model_path}\\\")\\n    # print(f\\\"list_hp_unit_1: {list_hp_unit_1}\\\")\\n    # print(f\\\"list_hp_unit_2: {list_hp_unit_2}\\\")\\n    # print(f\\\"list_hp_unit_3: {list_hp_unit_3}\\\")\\n    # print(f\\\"list_hp_unit_4: {list_hp_unit_4}\\\")\\n    # print(f\\\"list_kernel_size_1: {list_kernel_size_1}\\\")\\n    # print(f\\\"list_kernel_size_2: {list_kernel_size_2}\\\")\\n    # print(f\\\"list_learning_rate: {list_learning_rate}\\\")\\n    # print(f\\\"list_n_filter_1: {list_n_filter_1}\\\")\\n    # print(f\\\"list_n_filter_2: {list_n_filter_2}\\\")\\n    # print(f\\\"list_val_mae: {list_val_mae}\\\")\\n    # print(f\\\"list_val_mse: {list_val_mse}\\\")\";\n                var nbb_formatted_code = \"def get_results(history, best_hps, bst_model_path):\\n    # Select the best epoch,\\n    val_mse_per_epoch = history.history[\\\"val_mse\\\"]\\n    best_epoch = val_mse_per_epoch.index(min(val_mse_per_epoch)) + 1\\n\\n    try:\\n        value_activation = best_hps.get(\\\"activation\\\")\\n    except:\\n        value_activation = None\\n    try:\\n        value_learning_rate = best_hps.get(\\\"learning_rate\\\")\\n    except:\\n        value_learning_rate = None\\n    try:\\n        value_unit_1 = best_hps.get(\\\"unit_1\\\")\\n    except:\\n        value_unit_1 = None\\n    try:\\n        value_unit_2 = best_hps.get(\\\"unit_2\\\")\\n    except:\\n        value_unit_2 = None\\n    try:\\n        value_unit_3 = best_hps.get(\\\"unit_3\\\")\\n    except:\\n        value_unit_3 = None\\n    try:\\n        value_unit_4 = best_hps.get(\\\"unit_4\\\")\\n    except:\\n        value_unit_4 = None\\n    try:\\n        value_kernel_size_1 = best_hps.get(\\\"kernel_size_1\\\")\\n    except:\\n        value_kernel_size_1 = None\\n    try:\\n        value_kernel_size_2 = best_hps.get(\\\"kernel_size_2\\\")\\n    except:\\n        value_kernel_size_2 = None\\n    try:\\n        value_n_filter_1 = best_hps.get(\\\"n_filter_1\\\")\\n    except:\\n        value_n_filter_1 = None\\n    try:\\n        value_n_filter_2 = best_hps.get(\\\"n_filter_2\\\")\\n    except:\\n        value_n_filter_2 = None\\n\\n    \\\"\\\"\\\"\\\"Repeticao MODEL.ipynb\\\"\\\"\\\"\\n\\n    def save_in_list(one_list, value=None):\\n        try:\\n            one_list.append(value)\\n            return one_list\\n        except:\\n            one_list.append(None)\\n            return one_list\\n\\n    save_in_list(list_activation, value_activation)\\n    save_in_list(list_best_epoch, best_epoch)\\n    save_in_list(list_best_model_path, bst_model_path)\\n    save_in_list(list_hp_unit_1, value_unit_1)\\n    save_in_list(list_hp_unit_2, value_unit_2)\\n    save_in_list(list_hp_unit_3, value_unit_3)\\n    save_in_list(list_hp_unit_4, value_unit_4)\\n    save_in_list(list_kernel_size_1, value_kernel_size_1)\\n    save_in_list(list_kernel_size_2, value_kernel_size_2)\\n    save_in_list(list_learning_rate, value_learning_rate)\\n    save_in_list(list_n_filter_1, value_n_filter_1)\\n    save_in_list(list_n_filter_2, value_n_filter_2)\\n    save_in_list(list_val_mae, min(history.history[\\\"val_mae\\\"]))\\n    save_in_list(list_val_mse, min(history.history[\\\"val_mse\\\"]))\\n\\n    # print(f\\\"list_activation: {list_activation}\\\")\\n    # print(f\\\"list_best_epoch: {list_best_epoch}\\\")\\n    # print(f\\\"list_best_model_path: {list_best_model_path}\\\")\\n    # print(f\\\"list_hp_unit_1: {list_hp_unit_1}\\\")\\n    # print(f\\\"list_hp_unit_2: {list_hp_unit_2}\\\")\\n    # print(f\\\"list_hp_unit_3: {list_hp_unit_3}\\\")\\n    # print(f\\\"list_hp_unit_4: {list_hp_unit_4}\\\")\\n    # print(f\\\"list_kernel_size_1: {list_kernel_size_1}\\\")\\n    # print(f\\\"list_kernel_size_2: {list_kernel_size_2}\\\")\\n    # print(f\\\"list_learning_rate: {list_learning_rate}\\\")\\n    # print(f\\\"list_n_filter_1: {list_n_filter_1}\\\")\\n    # print(f\\\"list_n_filter_2: {list_n_filter_2}\\\")\\n    # print(f\\\"list_val_mae: {list_val_mae}\\\")\\n    # print(f\\\"list_val_mse: {list_val_mse}\\\")\";\n                var nbb_cells = Jupyter.notebook.get_cells();\n                for (var i = 0; i < nbb_cells.length; ++i) {\n                    if (nbb_cells[i].input_prompt_number == nbb_cell_id) {\n                        if (nbb_cells[i].get_text() == nbb_unformatted_code) {\n                             nbb_cells[i].set_text(nbb_formatted_code);\n                        }\n                        break;\n                    }\n                }\n            }, 500);\n            ",
      "text/plain": [
       "<IPython.core.display.Javascript object>"
      ]
     },
     "metadata": {},
     "output_type": "display_data"
    }
   ],
   "source": [
    "def get_results(history, best_hps, bst_model_path):\n",
    "    # Select the best epoch,\n",
    "    val_mse_per_epoch = history.history[\"val_mse\"]\n",
    "    best_epoch = val_mse_per_epoch.index(min(val_mse_per_epoch)) + 1\n",
    "\n",
    "    try:\n",
    "        value_activation = best_hps.get(\"activation\")\n",
    "    except:\n",
    "        value_activation = None\n",
    "    try:\n",
    "        value_learning_rate = best_hps.get(\"learning_rate\")\n",
    "    except:\n",
    "        value_learning_rate = None\n",
    "    try:\n",
    "        value_unit_1 = best_hps.get(\"unit_1\")\n",
    "    except:\n",
    "        value_unit_1 = None\n",
    "    try:\n",
    "        value_unit_2 = best_hps.get(\"unit_2\")\n",
    "    except:\n",
    "        value_unit_2 = None\n",
    "    try:\n",
    "        value_unit_3 = best_hps.get(\"unit_3\")\n",
    "    except:\n",
    "        value_unit_3 = None\n",
    "    try:\n",
    "        value_unit_4 = best_hps.get(\"unit_4\")\n",
    "    except:\n",
    "        value_unit_4 = None\n",
    "    try:\n",
    "        value_kernel_size_1 = best_hps.get(\"kernel_size_1\")\n",
    "    except:\n",
    "        value_kernel_size_1 = None\n",
    "    try:\n",
    "        value_kernel_size_2 = best_hps.get(\"kernel_size_2\")\n",
    "    except:\n",
    "        value_kernel_size_2 = None\n",
    "    try:\n",
    "        value_n_filter_1 = best_hps.get(\"n_filter_1\")\n",
    "    except:\n",
    "        value_n_filter_1 = None\n",
    "    try:\n",
    "        value_n_filter_2 = best_hps.get(\"n_filter_2\")\n",
    "    except:\n",
    "        value_n_filter_2 = None\n",
    "\n",
    "    \"\"\"\"Repeticao MODEL.ipynb\"\"\"\n",
    "\n",
    "    def save_in_list(one_list, value=None):\n",
    "        try:\n",
    "            one_list.append(value)\n",
    "            return one_list\n",
    "        except:\n",
    "            one_list.append(None)\n",
    "            return one_list\n",
    "\n",
    "    save_in_list(list_activation, value_activation)\n",
    "    save_in_list(list_best_epoch, best_epoch)\n",
    "    save_in_list(list_best_model_path, bst_model_path)\n",
    "    save_in_list(list_hp_unit_1, value_unit_1)\n",
    "    save_in_list(list_hp_unit_2, value_unit_2)\n",
    "    save_in_list(list_hp_unit_3, value_unit_3)\n",
    "    save_in_list(list_hp_unit_4, value_unit_4)\n",
    "    save_in_list(list_kernel_size_1, value_kernel_size_1)\n",
    "    save_in_list(list_kernel_size_2, value_kernel_size_2)\n",
    "    save_in_list(list_learning_rate, value_learning_rate)\n",
    "    save_in_list(list_n_filter_1, value_n_filter_1)\n",
    "    save_in_list(list_n_filter_2, value_n_filter_2)\n",
    "    save_in_list(list_val_mae, min(history.history[\"val_mae\"]))\n",
    "    save_in_list(list_val_mse, min(history.history[\"val_mse\"]))\n",
    "\n",
    "    # print(f\"list_activation: {list_activation}\")\n",
    "    # print(f\"list_best_epoch: {list_best_epoch}\")\n",
    "    # print(f\"list_best_model_path: {list_best_model_path}\")\n",
    "    # print(f\"list_hp_unit_1: {list_hp_unit_1}\")\n",
    "    # print(f\"list_hp_unit_2: {list_hp_unit_2}\")\n",
    "    # print(f\"list_hp_unit_3: {list_hp_unit_3}\")\n",
    "    # print(f\"list_hp_unit_4: {list_hp_unit_4}\")\n",
    "    # print(f\"list_kernel_size_1: {list_kernel_size_1}\")\n",
    "    # print(f\"list_kernel_size_2: {list_kernel_size_2}\")\n",
    "    # print(f\"list_learning_rate: {list_learning_rate}\")\n",
    "    # print(f\"list_n_filter_1: {list_n_filter_1}\")\n",
    "    # print(f\"list_n_filter_2: {list_n_filter_2}\")\n",
    "    # print(f\"list_val_mae: {list_val_mae}\")\n",
    "    # print(f\"list_val_mse: {list_val_mse}\")"
   ]
  },
  {
   "cell_type": "code",
   "execution_count": 5,
   "metadata": {},
   "outputs": [
    {
     "data": {
      "application/javascript": "\n            setTimeout(function() {\n                var nbb_cell_id = 5;\n                var nbb_unformatted_code = \"def save_df_results(save_time):\\n\\n    result_columns = [\\n        \\\"activation\\\",\\n        \\\"best_epoch\\\",\\n        \\\"best_model_path\\\",\\n        \\\"hp_unit_1\\\",\\n        \\\"hp_unit_2\\\",\\n        \\\"hp_unit_3\\\",\\n        \\\"hp_unit_4\\\",\\n        \\\"kernel_size_1\\\",\\n        \\\"kernel_size_2\\\",\\n        \\\"learning_rate\\\",\\n        \\\"n_filter_1\\\",\\n        \\\"n_filter_2\\\",\\n        \\\"val_mae\\\",\\n        \\\"val_mse\\\",\\n    ]\\n\\n    data = list(\\n        zip(\\n            list_activation,\\n            list_best_epoch,\\n            list_best_model_path,\\n            list_hp_unit_1,\\n            list_hp_unit_2,\\n            list_hp_unit_3,\\n            list_hp_unit_4,\\n            list_kernel_size_1,\\n            list_kernel_size_2,\\n            list_learning_rate,\\n            list_n_filter_1,\\n            list_n_filter_2,\\n            list_val_mae,\\n            list_val_mse,\\n        )\\n    )\\n\\n    df_resultados = pd.DataFrame(\\n        data,\\n        columns=result_columns,\\n    )\\n\\n    df_resultados.to_csv(f\\\"Resultados_{TYPE_MODEL}_{save_time}.csv\\\")\\n    return df_resultados\";\n                var nbb_formatted_code = \"def save_df_results(save_time):\\n\\n    result_columns = [\\n        \\\"activation\\\",\\n        \\\"best_epoch\\\",\\n        \\\"best_model_path\\\",\\n        \\\"hp_unit_1\\\",\\n        \\\"hp_unit_2\\\",\\n        \\\"hp_unit_3\\\",\\n        \\\"hp_unit_4\\\",\\n        \\\"kernel_size_1\\\",\\n        \\\"kernel_size_2\\\",\\n        \\\"learning_rate\\\",\\n        \\\"n_filter_1\\\",\\n        \\\"n_filter_2\\\",\\n        \\\"val_mae\\\",\\n        \\\"val_mse\\\",\\n    ]\\n\\n    data = list(\\n        zip(\\n            list_activation,\\n            list_best_epoch,\\n            list_best_model_path,\\n            list_hp_unit_1,\\n            list_hp_unit_2,\\n            list_hp_unit_3,\\n            list_hp_unit_4,\\n            list_kernel_size_1,\\n            list_kernel_size_2,\\n            list_learning_rate,\\n            list_n_filter_1,\\n            list_n_filter_2,\\n            list_val_mae,\\n            list_val_mse,\\n        )\\n    )\\n\\n    df_resultados = pd.DataFrame(\\n        data,\\n        columns=result_columns,\\n    )\\n\\n    df_resultados.to_csv(f\\\"Resultados_{TYPE_MODEL}_{save_time}.csv\\\")\\n    return df_resultados\";\n                var nbb_cells = Jupyter.notebook.get_cells();\n                for (var i = 0; i < nbb_cells.length; ++i) {\n                    if (nbb_cells[i].input_prompt_number == nbb_cell_id) {\n                        if (nbb_cells[i].get_text() == nbb_unformatted_code) {\n                             nbb_cells[i].set_text(nbb_formatted_code);\n                        }\n                        break;\n                    }\n                }\n            }, 500);\n            ",
      "text/plain": [
       "<IPython.core.display.Javascript object>"
      ]
     },
     "metadata": {},
     "output_type": "display_data"
    }
   ],
   "source": [
    "def save_df_results(save_time):\n",
    "\n",
    "    result_columns = [\n",
    "        \"activation\",\n",
    "        \"best_epoch\",\n",
    "        \"best_model_path\",\n",
    "        \"hp_unit_1\",\n",
    "        \"hp_unit_2\",\n",
    "        \"hp_unit_3\",\n",
    "        \"hp_unit_4\",\n",
    "        \"kernel_size_1\",\n",
    "        \"kernel_size_2\",\n",
    "        \"learning_rate\",\n",
    "        \"n_filter_1\",\n",
    "        \"n_filter_2\",\n",
    "        \"val_mae\",\n",
    "        \"val_mse\",\n",
    "    ]\n",
    "\n",
    "    data = list(\n",
    "        zip(\n",
    "            list_activation,\n",
    "            list_best_epoch,\n",
    "            list_best_model_path,\n",
    "            list_hp_unit_1,\n",
    "            list_hp_unit_2,\n",
    "            list_hp_unit_3,\n",
    "            list_hp_unit_4,\n",
    "            list_kernel_size_1,\n",
    "            list_kernel_size_2,\n",
    "            list_learning_rate,\n",
    "            list_n_filter_1,\n",
    "            list_n_filter_2,\n",
    "            list_val_mae,\n",
    "            list_val_mse,\n",
    "        )\n",
    "    )\n",
    "\n",
    "    df_resultados = pd.DataFrame(\n",
    "        data,\n",
    "        columns=result_columns,\n",
    "    )\n",
    "\n",
    "    df_resultados.to_csv(f\"Resultados_{TYPE_MODEL}_{save_time}.csv\")\n",
    "    return df_resultados"
   ]
  },
  {
   "cell_type": "markdown",
   "metadata": {},
   "source": [
    "# Definindo o modelo"
   ]
  },
  {
   "cell_type": "code",
   "execution_count": 6,
   "metadata": {},
   "outputs": [
    {
     "data": {
      "application/javascript": "\n            setTimeout(function() {\n                var nbb_cell_id = 6;\n                var nbb_unformatted_code = \"def model_builder(hp):\\n    hp_filter_1 = hp.Int(\\\"n_filter_1\\\", min_value=4, max_value=16, step=1)\\n    hp_kernel_size_1 = hp.Int(\\n        \\\"kernel_size_1\\\", min_value=1, max_value=15, step=2\\n    )  # precisa ser impar\\n\\n    activationL = [\\n        \\\"relu\\\",\\n        \\\"sigmoid\\\",\\n        \\\"softplus\\\",\\n        \\\"softsign\\\",\\n        \\\"tanh\\\",\\n        \\\"selu\\\",\\n        \\\"elu\\\"\\n    ]\\n    activation_choice = hp.Choice(\\\"activation\\\", values=activationL)\\n    hp_learning_rate = hp.Choice(\\\"learning_rate\\\", values=[1e-2, 1e-3, 1e-4])\\n\\n    model = keras.Sequential(\\n        [\\n            tf.keras.layers.Conv1D(\\n                input_shape=[len(train_dataset.keys()), 1],\\n                filters=hp_filter_1,\\n                kernel_size=hp_kernel_size_1,\\n                activation=activation_choice,  # overkill - relu ou elu\\n            ),\\n            tf.keras.layers.Flatten(),\\n            tf.keras.layers.Dense(units=1, activation=\\\"linear\\\"),\\n        ]\\n    )\\n\\n    model.compile(\\n        optimizer=keras.optimizers.Adam(learning_rate=hp_learning_rate),\\n        loss=\\\"mse\\\",\\n        metrics=[\\\"mae\\\", \\\"mse\\\"],\\n    )\\n\\n    return model\";\n                var nbb_formatted_code = \"def model_builder(hp):\\n    hp_filter_1 = hp.Int(\\\"n_filter_1\\\", min_value=4, max_value=16, step=1)\\n    hp_kernel_size_1 = hp.Int(\\n        \\\"kernel_size_1\\\", min_value=1, max_value=15, step=2\\n    )  # precisa ser impar\\n\\n    activationL = [\\\"relu\\\", \\\"sigmoid\\\", \\\"softplus\\\", \\\"softsign\\\", \\\"tanh\\\", \\\"selu\\\", \\\"elu\\\"]\\n    activation_choice = hp.Choice(\\\"activation\\\", values=activationL)\\n    hp_learning_rate = hp.Choice(\\\"learning_rate\\\", values=[1e-2, 1e-3, 1e-4])\\n\\n    model = keras.Sequential(\\n        [\\n            tf.keras.layers.Conv1D(\\n                input_shape=[len(train_dataset.keys()), 1],\\n                filters=hp_filter_1,\\n                kernel_size=hp_kernel_size_1,\\n                activation=activation_choice,  # overkill - relu ou elu\\n            ),\\n            tf.keras.layers.Flatten(),\\n            tf.keras.layers.Dense(units=1, activation=\\\"linear\\\"),\\n        ]\\n    )\\n\\n    model.compile(\\n        optimizer=keras.optimizers.Adam(learning_rate=hp_learning_rate),\\n        loss=\\\"mse\\\",\\n        metrics=[\\\"mae\\\", \\\"mse\\\"],\\n    )\\n\\n    return model\";\n                var nbb_cells = Jupyter.notebook.get_cells();\n                for (var i = 0; i < nbb_cells.length; ++i) {\n                    if (nbb_cells[i].input_prompt_number == nbb_cell_id) {\n                        if (nbb_cells[i].get_text() == nbb_unformatted_code) {\n                             nbb_cells[i].set_text(nbb_formatted_code);\n                        }\n                        break;\n                    }\n                }\n            }, 500);\n            ",
      "text/plain": [
       "<IPython.core.display.Javascript object>"
      ]
     },
     "metadata": {},
     "output_type": "display_data"
    }
   ],
   "source": [
    "def model_builder(hp):\n",
    "    hp_unit_1 = hp.Int(\"unit_1\", min_value=16, max_value=64, step=1)\n",
    "    activationL = [\n",
    "        \"relu\",\n",
    "        \"sigmoid\",\n",
    "        \"softplus\",\n",
    "        \"softsign\",\n",
    "        \"tanh\",\n",
    "        \"selu\",\n",
    "        \"elu\",\n",
    "        \"exponential\",\n",
    "        \"relu\",\n",
    "    ]\n",
    "    activation_choice = hp.Choice(\"activation\", values=activationL)\n",
    "    hp_learning_rate = hp.Choice(\"learning_rate\", values=[1e-2, 1e-3, 1e-4])\n",
    "\n",
    "    model = keras.models.Sequential(\n",
    "        [\n",
    "            layers.LSTM(\n",
    "                units=hp_unit_1,\n",
    "                return_sequences=True,\n",
    "                input_shape=(36, 1),\n",
    "                activation=activation_choice,\n",
    "            ),\n",
    "            tf.keras.layers.Flatten(),\n",
    "            layers.Dense(units=1, activation=\"linear\"),\n",
    "        ]\n",
    "    )\n",
    "\n",
    "    model.compile(\n",
    "        optimizer=keras.optimizers.Adam(learning_rate=hp_learning_rate),\n",
    "        loss=\"mse\",\n",
    "        metrics=[\"mae\", \"mse\"],\n",
    "    )\n",
    "\n",
    "    return model\n",
    "\n",
    "\n",
    "# rmse pra avaliação, nao para loss"
   ]
  },
  {
   "cell_type": "markdown",
   "metadata": {},
   "source": [
    "# Selecionando a melhor epoca do modelo"
   ]
  },
  {
   "cell_type": "code",
   "execution_count": 7,
   "metadata": {},
   "outputs": [
    {
     "data": {
      "application/javascript": "\n            setTimeout(function() {\n                var nbb_cell_id = 7;\n                var nbb_unformatted_code = \"def repetir(SAVE_TIME, EPOCHS, epochs_to_search, TYPE_MODEL):\\n    best_hps = None\\n    history = None\\n    bst_model_path = None\\n    tuner = None\\n\\n    tuner = kt.Hyperband(\\n        model_builder,\\n        objective=\\\"val_mse\\\",\\n        max_epochs=10,\\n        factor=3,\\n        directory=\\\"logs\\\",\\n        project_name=f\\\"{TYPE_MODEL}_hyper_parameters\\\",\\n    )\\n\\n    # Buscando hyper parametros\\n    tuner.search(\\n        train_dataset,\\n        train_labels,\\n        epochs=epochs_to_search,\\n        validation_split=0.2,\\n        verbose=0,\\n    )\\n\\n    best_hps = tuner.get_best_hyperparameters(num_trials=100)[0]\\n\\n    # Build the model with the optimal hyperparameters and train it on the data for 50 epochs\\n    bst_model_path = f\\\"Models/{TYPE_MODEL}/model_{TYPE_MODEL}_{SAVE_TIME}.h5\\\"\\n    model_checkpoint = ModelCheckpoint(\\n        bst_model_path, save_best_only=True, monitor=\\\"val_mse\\\", mode=\\\"min\\\"\\n    )\\n\\n    model = tuner.hypermodel.build(best_hps)\\n    history = model.fit(\\n        train_dataset,\\n        train_labels,\\n        epochs=EPOCHS,\\n        validation_split=0.2,\\n        verbose=0,\\n        callbacks=([model_checkpoint]),\\n    )\\n\\n    # Select the best epoch,\\n    val_mse_per_epoch = history.history[\\\"val_mse\\\"]\\n    best_epoch = val_mse_per_epoch.index(min(val_mse_per_epoch)) + 1\\n\\n    # Saving results in lists\\n    get_results(history, best_hps, bst_model_path)\";\n                var nbb_formatted_code = \"def repetir(SAVE_TIME, EPOCHS, epochs_to_search, TYPE_MODEL):\\n    best_hps = None\\n    history = None\\n    bst_model_path = None\\n    tuner = None\\n\\n    tuner = kt.Hyperband(\\n        model_builder,\\n        objective=\\\"val_mse\\\",\\n        max_epochs=10,\\n        factor=3,\\n        directory=\\\"logs\\\",\\n        project_name=f\\\"{TYPE_MODEL}_hyper_parameters\\\",\\n    )\\n\\n    # Buscando hyper parametros\\n    tuner.search(\\n        train_dataset,\\n        train_labels,\\n        epochs=epochs_to_search,\\n        validation_split=0.2,\\n        verbose=0,\\n    )\\n\\n    best_hps = tuner.get_best_hyperparameters(num_trials=100)[0]\\n\\n    # Build the model with the optimal hyperparameters and train it on the data for 50 epochs\\n    bst_model_path = f\\\"Models/{TYPE_MODEL}/model_{TYPE_MODEL}_{SAVE_TIME}.h5\\\"\\n    model_checkpoint = ModelCheckpoint(\\n        bst_model_path, save_best_only=True, monitor=\\\"val_mse\\\", mode=\\\"min\\\"\\n    )\\n\\n    model = tuner.hypermodel.build(best_hps)\\n    history = model.fit(\\n        train_dataset,\\n        train_labels,\\n        epochs=EPOCHS,\\n        validation_split=0.2,\\n        verbose=0,\\n        callbacks=([model_checkpoint]),\\n    )\\n\\n    # Select the best epoch,\\n    val_mse_per_epoch = history.history[\\\"val_mse\\\"]\\n    best_epoch = val_mse_per_epoch.index(min(val_mse_per_epoch)) + 1\\n\\n    # Saving results in lists\\n    get_results(history, best_hps, bst_model_path)\";\n                var nbb_cells = Jupyter.notebook.get_cells();\n                for (var i = 0; i < nbb_cells.length; ++i) {\n                    if (nbb_cells[i].input_prompt_number == nbb_cell_id) {\n                        if (nbb_cells[i].get_text() == nbb_unformatted_code) {\n                             nbb_cells[i].set_text(nbb_formatted_code);\n                        }\n                        break;\n                    }\n                }\n            }, 500);\n            ",
      "text/plain": [
       "<IPython.core.display.Javascript object>"
      ]
     },
     "metadata": {},
     "output_type": "display_data"
    }
   ],
   "source": [
    "def repetir(SAVE_TIME, EPOCHS, epochs_to_search, TYPE_MODEL):\n",
    "    best_hps = None\n",
    "    history = None\n",
    "    bst_model_path = None\n",
    "    tuner = None\n",
    "\n",
    "    tuner = kt.Hyperband(\n",
    "        model_builder,\n",
    "        objective=\"val_mse\",\n",
    "        max_epochs=10,\n",
    "        factor=3,\n",
    "        directory=\"logs\",\n",
    "        project_name=f\"{TYPE_MODEL}_hyper_parameters\",\n",
    "    )\n",
    "\n",
    "    # Buscando hyper parametros\n",
    "    tuner.search(\n",
    "        train_dataset,\n",
    "        train_labels,\n",
    "        epochs=epochs_to_search,\n",
    "        validation_split=0.2,\n",
    "        verbose=0,\n",
    "    )\n",
    "\n",
    "    best_hps = tuner.get_best_hyperparameters(num_trials=100)[0]\n",
    "\n",
    "    # Build the model with the optimal hyperparameters and train it on the data for 50 epochs\n",
    "    bst_model_path = f\"Models/{TYPE_MODEL}/model_{TYPE_MODEL}_{SAVE_TIME}.h5\"\n",
    "    model_checkpoint = ModelCheckpoint(\n",
    "        bst_model_path, save_best_only=True, monitor=\"val_mse\", mode=\"min\"\n",
    "    )\n",
    "\n",
    "    model = tuner.hypermodel.build(best_hps)\n",
    "    history = model.fit(\n",
    "        train_dataset,\n",
    "        train_labels,\n",
    "        epochs=EPOCHS,\n",
    "        validation_split=0.2,\n",
    "        verbose=0,\n",
    "        callbacks=([model_checkpoint]),\n",
    "    )\n",
    "\n",
    "    # Select the best epoch,\n",
    "    val_mse_per_epoch = history.history[\"val_mse\"]\n",
    "    best_epoch = val_mse_per_epoch.index(min(val_mse_per_epoch)) + 1\n",
    "\n",
    "    # Saving results in lists\n",
    "    get_results(history, best_hps, bst_model_path)"
   ]
  },
  {
   "cell_type": "code",
   "execution_count": 8,
   "metadata": {},
   "outputs": [
    {
     "name": "stdout",
     "output_type": "stream",
     "text": [
      "INFO:tensorflow:Oracle triggered exit\n",
      "INFO:tensorflow:Reloading Oracle from existing project logs\\CNN_hyper_parameters\\oracle.json\n",
      "INFO:tensorflow:Reloading Tuner from logs\\CNN_hyper_parameters\\tuner0.json\n",
      "INFO:tensorflow:Oracle triggered exit\n",
      "INFO:tensorflow:Reloading Oracle from existing project logs\\CNN_hyper_parameters\\oracle.json\n",
      "INFO:tensorflow:Reloading Tuner from logs\\CNN_hyper_parameters\\tuner0.json\n",
      "INFO:tensorflow:Oracle triggered exit\n",
      "INFO:tensorflow:Reloading Oracle from existing project logs\\CNN_hyper_parameters\\oracle.json\n",
      "INFO:tensorflow:Reloading Tuner from logs\\CNN_hyper_parameters\\tuner0.json\n",
      "INFO:tensorflow:Oracle triggered exit\n",
      "INFO:tensorflow:Reloading Oracle from existing project logs\\CNN_hyper_parameters\\oracle.json\n",
      "INFO:tensorflow:Reloading Tuner from logs\\CNN_hyper_parameters\\tuner0.json\n",
      "INFO:tensorflow:Oracle triggered exit\n",
      "INFO:tensorflow:Reloading Oracle from existing project logs\\CNN_hyper_parameters\\oracle.json\n",
      "INFO:tensorflow:Reloading Tuner from logs\\CNN_hyper_parameters\\tuner0.json\n",
      "INFO:tensorflow:Oracle triggered exit\n",
      "INFO:tensorflow:Reloading Oracle from existing project logs\\CNN_hyper_parameters\\oracle.json\n",
      "INFO:tensorflow:Reloading Tuner from logs\\CNN_hyper_parameters\\tuner0.json\n",
      "INFO:tensorflow:Oracle triggered exit\n",
      "INFO:tensorflow:Reloading Oracle from existing project logs\\CNN_hyper_parameters\\oracle.json\n",
      "INFO:tensorflow:Reloading Tuner from logs\\CNN_hyper_parameters\\tuner0.json\n",
      "INFO:tensorflow:Oracle triggered exit\n",
      "INFO:tensorflow:Reloading Oracle from existing project logs\\CNN_hyper_parameters\\oracle.json\n",
      "INFO:tensorflow:Reloading Tuner from logs\\CNN_hyper_parameters\\tuner0.json\n",
      "INFO:tensorflow:Oracle triggered exit\n",
      "INFO:tensorflow:Reloading Oracle from existing project logs\\CNN_hyper_parameters\\oracle.json\n",
      "INFO:tensorflow:Reloading Tuner from logs\\CNN_hyper_parameters\\tuner0.json\n",
      "INFO:tensorflow:Oracle triggered exit\n"
     ]
    },
    {
     "data": {
      "text/html": [
       "<div>\n",
       "<style scoped>\n",
       "    .dataframe tbody tr th:only-of-type {\n",
       "        vertical-align: middle;\n",
       "    }\n",
       "\n",
       "    .dataframe tbody tr th {\n",
       "        vertical-align: top;\n",
       "    }\n",
       "\n",
       "    .dataframe thead th {\n",
       "        text-align: right;\n",
       "    }\n",
       "</style>\n",
       "<table border=\"1\" class=\"dataframe\">\n",
       "  <thead>\n",
       "    <tr style=\"text-align: right;\">\n",
       "      <th></th>\n",
       "      <th>activation</th>\n",
       "      <th>best_epoch</th>\n",
       "      <th>best_model_path</th>\n",
       "      <th>hp_unit_1</th>\n",
       "      <th>hp_unit_2</th>\n",
       "      <th>hp_unit_3</th>\n",
       "      <th>hp_unit_4</th>\n",
       "      <th>kernel_size_1</th>\n",
       "      <th>kernel_size_2</th>\n",
       "      <th>learning_rate</th>\n",
       "      <th>n_filter_1</th>\n",
       "      <th>n_filter_2</th>\n",
       "      <th>val_mae</th>\n",
       "      <th>val_mse</th>\n",
       "    </tr>\n",
       "  </thead>\n",
       "  <tbody>\n",
       "    <tr>\n",
       "      <th>0</th>\n",
       "      <td>tanh</td>\n",
       "      <td>238</td>\n",
       "      <td>Models/CNN/model_CNN_22_10_15_17h58m05.h5</td>\n",
       "      <td>None</td>\n",
       "      <td>None</td>\n",
       "      <td>None</td>\n",
       "      <td>None</td>\n",
       "      <td>13</td>\n",
       "      <td>None</td>\n",
       "      <td>0.01</td>\n",
       "      <td>13</td>\n",
       "      <td>None</td>\n",
       "      <td>0.153502</td>\n",
       "      <td>0.039087</td>\n",
       "    </tr>\n",
       "    <tr>\n",
       "      <th>1</th>\n",
       "      <td>tanh</td>\n",
       "      <td>259</td>\n",
       "      <td>Models/CNN/model_CNN_22_10_15_18h00m41.h5</td>\n",
       "      <td>None</td>\n",
       "      <td>None</td>\n",
       "      <td>None</td>\n",
       "      <td>None</td>\n",
       "      <td>13</td>\n",
       "      <td>None</td>\n",
       "      <td>0.01</td>\n",
       "      <td>13</td>\n",
       "      <td>None</td>\n",
       "      <td>0.154605</td>\n",
       "      <td>0.039463</td>\n",
       "    </tr>\n",
       "    <tr>\n",
       "      <th>2</th>\n",
       "      <td>tanh</td>\n",
       "      <td>5</td>\n",
       "      <td>Models/CNN/model_CNN_22_10_15_18h01m54.h5</td>\n",
       "      <td>None</td>\n",
       "      <td>None</td>\n",
       "      <td>None</td>\n",
       "      <td>None</td>\n",
       "      <td>13</td>\n",
       "      <td>None</td>\n",
       "      <td>0.01</td>\n",
       "      <td>13</td>\n",
       "      <td>None</td>\n",
       "      <td>0.159591</td>\n",
       "      <td>0.040839</td>\n",
       "    </tr>\n",
       "    <tr>\n",
       "      <th>3</th>\n",
       "      <td>tanh</td>\n",
       "      <td>418</td>\n",
       "      <td>Models/CNN/model_CNN_22_10_15_18h03m07.h5</td>\n",
       "      <td>None</td>\n",
       "      <td>None</td>\n",
       "      <td>None</td>\n",
       "      <td>None</td>\n",
       "      <td>13</td>\n",
       "      <td>None</td>\n",
       "      <td>0.01</td>\n",
       "      <td>13</td>\n",
       "      <td>None</td>\n",
       "      <td>0.158443</td>\n",
       "      <td>0.040577</td>\n",
       "    </tr>\n",
       "    <tr>\n",
       "      <th>4</th>\n",
       "      <td>tanh</td>\n",
       "      <td>76</td>\n",
       "      <td>Models/CNN/model_CNN_22_10_15_18h04m20.h5</td>\n",
       "      <td>None</td>\n",
       "      <td>None</td>\n",
       "      <td>None</td>\n",
       "      <td>None</td>\n",
       "      <td>13</td>\n",
       "      <td>None</td>\n",
       "      <td>0.01</td>\n",
       "      <td>13</td>\n",
       "      <td>None</td>\n",
       "      <td>0.156784</td>\n",
       "      <td>0.040313</td>\n",
       "    </tr>\n",
       "    <tr>\n",
       "      <th>5</th>\n",
       "      <td>tanh</td>\n",
       "      <td>74</td>\n",
       "      <td>Models/CNN/model_CNN_22_10_15_18h05m34.h5</td>\n",
       "      <td>None</td>\n",
       "      <td>None</td>\n",
       "      <td>None</td>\n",
       "      <td>None</td>\n",
       "      <td>13</td>\n",
       "      <td>None</td>\n",
       "      <td>0.01</td>\n",
       "      <td>13</td>\n",
       "      <td>None</td>\n",
       "      <td>0.155971</td>\n",
       "      <td>0.039417</td>\n",
       "    </tr>\n",
       "    <tr>\n",
       "      <th>6</th>\n",
       "      <td>tanh</td>\n",
       "      <td>92</td>\n",
       "      <td>Models/CNN/model_CNN_22_10_15_18h06m47.h5</td>\n",
       "      <td>None</td>\n",
       "      <td>None</td>\n",
       "      <td>None</td>\n",
       "      <td>None</td>\n",
       "      <td>13</td>\n",
       "      <td>None</td>\n",
       "      <td>0.01</td>\n",
       "      <td>13</td>\n",
       "      <td>None</td>\n",
       "      <td>0.157487</td>\n",
       "      <td>0.039923</td>\n",
       "    </tr>\n",
       "    <tr>\n",
       "      <th>7</th>\n",
       "      <td>tanh</td>\n",
       "      <td>12</td>\n",
       "      <td>Models/CNN/model_CNN_22_10_15_18h07m58.h5</td>\n",
       "      <td>None</td>\n",
       "      <td>None</td>\n",
       "      <td>None</td>\n",
       "      <td>None</td>\n",
       "      <td>13</td>\n",
       "      <td>None</td>\n",
       "      <td>0.01</td>\n",
       "      <td>13</td>\n",
       "      <td>None</td>\n",
       "      <td>0.156877</td>\n",
       "      <td>0.040248</td>\n",
       "    </tr>\n",
       "    <tr>\n",
       "      <th>8</th>\n",
       "      <td>tanh</td>\n",
       "      <td>6</td>\n",
       "      <td>Models/CNN/model_CNN_22_10_15_18h09m12.h5</td>\n",
       "      <td>None</td>\n",
       "      <td>None</td>\n",
       "      <td>None</td>\n",
       "      <td>None</td>\n",
       "      <td>13</td>\n",
       "      <td>None</td>\n",
       "      <td>0.01</td>\n",
       "      <td>13</td>\n",
       "      <td>None</td>\n",
       "      <td>0.156323</td>\n",
       "      <td>0.040188</td>\n",
       "    </tr>\n",
       "    <tr>\n",
       "      <th>9</th>\n",
       "      <td>tanh</td>\n",
       "      <td>31</td>\n",
       "      <td>Models/CNN/model_CNN_22_10_15_18h10m26.h5</td>\n",
       "      <td>None</td>\n",
       "      <td>None</td>\n",
       "      <td>None</td>\n",
       "      <td>None</td>\n",
       "      <td>13</td>\n",
       "      <td>None</td>\n",
       "      <td>0.01</td>\n",
       "      <td>13</td>\n",
       "      <td>None</td>\n",
       "      <td>0.156624</td>\n",
       "      <td>0.039842</td>\n",
       "    </tr>\n",
       "  </tbody>\n",
       "</table>\n",
       "</div>"
      ],
      "text/plain": [
       "  activation  best_epoch                            best_model_path hp_unit_1  \\\n",
       "0       tanh         238  Models/CNN/model_CNN_22_10_15_17h58m05.h5      None   \n",
       "1       tanh         259  Models/CNN/model_CNN_22_10_15_18h00m41.h5      None   \n",
       "2       tanh           5  Models/CNN/model_CNN_22_10_15_18h01m54.h5      None   \n",
       "3       tanh         418  Models/CNN/model_CNN_22_10_15_18h03m07.h5      None   \n",
       "4       tanh          76  Models/CNN/model_CNN_22_10_15_18h04m20.h5      None   \n",
       "5       tanh          74  Models/CNN/model_CNN_22_10_15_18h05m34.h5      None   \n",
       "6       tanh          92  Models/CNN/model_CNN_22_10_15_18h06m47.h5      None   \n",
       "7       tanh          12  Models/CNN/model_CNN_22_10_15_18h07m58.h5      None   \n",
       "8       tanh           6  Models/CNN/model_CNN_22_10_15_18h09m12.h5      None   \n",
       "9       tanh          31  Models/CNN/model_CNN_22_10_15_18h10m26.h5      None   \n",
       "\n",
       "  hp_unit_2 hp_unit_3 hp_unit_4  kernel_size_1 kernel_size_2  learning_rate  \\\n",
       "0      None      None      None             13          None           0.01   \n",
       "1      None      None      None             13          None           0.01   \n",
       "2      None      None      None             13          None           0.01   \n",
       "3      None      None      None             13          None           0.01   \n",
       "4      None      None      None             13          None           0.01   \n",
       "5      None      None      None             13          None           0.01   \n",
       "6      None      None      None             13          None           0.01   \n",
       "7      None      None      None             13          None           0.01   \n",
       "8      None      None      None             13          None           0.01   \n",
       "9      None      None      None             13          None           0.01   \n",
       "\n",
       "   n_filter_1 n_filter_2   val_mae   val_mse  \n",
       "0          13       None  0.153502  0.039087  \n",
       "1          13       None  0.154605  0.039463  \n",
       "2          13       None  0.159591  0.040839  \n",
       "3          13       None  0.158443  0.040577  \n",
       "4          13       None  0.156784  0.040313  \n",
       "5          13       None  0.155971  0.039417  \n",
       "6          13       None  0.157487  0.039923  \n",
       "7          13       None  0.156877  0.040248  \n",
       "8          13       None  0.156323  0.040188  \n",
       "9          13       None  0.156624  0.039842  "
      ]
     },
     "execution_count": 8,
     "metadata": {},
     "output_type": "execute_result"
    },
    {
     "data": {
      "application/javascript": "\n            setTimeout(function() {\n                var nbb_cell_id = 8;\n                var nbb_unformatted_code = \"TYPE_MODEL = \\\"CNN\\\"\\nREPETICAO = 10\\nEPOCHS = 500\\nepochs_to_search = 3\\n\\nfor i in range(REPETICAO):\\n    SAVE_TIME = datetime.datetime.strftime(datetime.datetime.now(), \\\"%y_%m_%d_%Hh%Mm%S\\\")\\n    repetir(SAVE_TIME, EPOCHS, epochs_to_search, TYPE_MODEL)\\n\\ndf_resultados = save_df_results(SAVE_TIME)\\ndf_resultados\";\n                var nbb_formatted_code = \"TYPE_MODEL = \\\"CNN\\\"\\nREPETICAO = 10\\nEPOCHS = 500\\nepochs_to_search = 3\\n\\nfor i in range(REPETICAO):\\n    SAVE_TIME = datetime.datetime.strftime(datetime.datetime.now(), \\\"%y_%m_%d_%Hh%Mm%S\\\")\\n    repetir(SAVE_TIME, EPOCHS, epochs_to_search, TYPE_MODEL)\\n\\ndf_resultados = save_df_results(SAVE_TIME)\\ndf_resultados\";\n                var nbb_cells = Jupyter.notebook.get_cells();\n                for (var i = 0; i < nbb_cells.length; ++i) {\n                    if (nbb_cells[i].input_prompt_number == nbb_cell_id) {\n                        if (nbb_cells[i].get_text() == nbb_unformatted_code) {\n                             nbb_cells[i].set_text(nbb_formatted_code);\n                        }\n                        break;\n                    }\n                }\n            }, 500);\n            ",
      "text/plain": [
       "<IPython.core.display.Javascript object>"
      ]
     },
     "metadata": {},
     "output_type": "display_data"
    }
   ],
   "source": [
    "TYPE_MODEL = \"CNN\"\n",
    "REPETICAO = 10\n",
    "EPOCHS = 500\n",
    "epochs_to_search = 3\n",
    "\n",
    "for i in range(REPETICAO):\n",
    "    SAVE_TIME = datetime.datetime.strftime(datetime.datetime.now(), \"%y_%m_%d_%Hh%Mm%S\")\n",
    "    repetir(SAVE_TIME, EPOCHS, epochs_to_search, TYPE_MODEL)\n",
    "\n",
    "df_resultados = save_df_results(SAVE_TIME)\n",
    "df_resultados"
   ]
  },
  {
   "cell_type": "code",
   "execution_count": 9,
   "metadata": {},
   "outputs": [
    {
     "ename": "AttributeError",
     "evalue": "module 'keras_tuner' has no attribute 'results_summary'",
     "output_type": "error",
     "traceback": [
      "\u001b[1;31m---------------------------------------------------------------------------\u001b[0m",
      "\u001b[1;31mAttributeError\u001b[0m                            Traceback (most recent call last)",
      "\u001b[1;32mc:\\Users\\arthu\\Documents\\GitHub\\TCC_Stock_Predictions\\Experiments\\Experimentos_CNN_2.ipynb Cell 12\u001b[0m in \u001b[0;36m<cell line: 1>\u001b[1;34m()\u001b[0m\n\u001b[1;32m----> <a href='vscode-notebook-cell:/c%3A/Users/arthu/Documents/GitHub/TCC_Stock_Predictions/Experiments/Experimentos_CNN_2.ipynb#X63sZmlsZQ%3D%3D?line=0'>1</a>\u001b[0m kt\u001b[39m.\u001b[39;49mresults_summary(num_trials\u001b[39m=\u001b[39m\u001b[39m10\u001b[39m)\n",
      "\u001b[1;31mAttributeError\u001b[0m: module 'keras_tuner' has no attribute 'results_summary'"
     ]
    },
    {
     "data": {
      "application/javascript": "\n            setTimeout(function() {\n                var nbb_cell_id = 9;\n                var nbb_unformatted_code = \"kt.results_summary(num_trials=10)\";\n                var nbb_formatted_code = \"kt.results_summary(num_trials=10)\";\n                var nbb_cells = Jupyter.notebook.get_cells();\n                for (var i = 0; i < nbb_cells.length; ++i) {\n                    if (nbb_cells[i].input_prompt_number == nbb_cell_id) {\n                        if (nbb_cells[i].get_text() == nbb_unformatted_code) {\n                             nbb_cells[i].set_text(nbb_formatted_code);\n                        }\n                        break;\n                    }\n                }\n            }, 500);\n            ",
      "text/plain": [
       "<IPython.core.display.Javascript object>"
      ]
     },
     "metadata": {},
     "output_type": "display_data"
    }
   ],
   "source": [
    "kt.results_summary(num_trials=10)"
   ]
  },
  {
   "cell_type": "code",
   "execution_count": null,
   "metadata": {},
   "outputs": [
    {
     "name": "stdout",
     "output_type": "stream",
     "text": [
      "n_filter_1: 4\n",
      "kernel_size_1: 1\n",
      "learning_rate: 0.01\n",
      "activation: exponential\n"
     ]
    },
    {
     "data": {
      "application/javascript": "\n            setTimeout(function() {\n                var nbb_cell_id = 13;\n                var nbb_unformatted_code = \"print(f'n_filter_1: {best_hps.get(\\\"n_filter_1\\\")}')\\n# print(f'n_filter_2: {best_hps.get(\\\"n_filter_2\\\")}')\\nprint(f'kernel_size_1: {best_hps.get(\\\"kernel_size_1\\\")}')\\n# print(f'kernel_size_2: {best_hps.get(\\\"kernel_size_2\\\")}')\\n\\n# print(f'unit_3: {best_hps.get(\\\"unit_3\\\")}')\\n# print(f'unit_4: {best_hps.get(\\\"unit_4\\\")}')\\nprint(f'learning_rate: {best_hps.get(\\\"learning_rate\\\")}')\\nprint(f'activation: {best_hps.get(\\\"activation\\\")}')\";\n                var nbb_formatted_code = \"print(f'n_filter_1: {best_hps.get(\\\"n_filter_1\\\")}')\\n# print(f'n_filter_2: {best_hps.get(\\\"n_filter_2\\\")}')\\nprint(f'kernel_size_1: {best_hps.get(\\\"kernel_size_1\\\")}')\\n# print(f'kernel_size_2: {best_hps.get(\\\"kernel_size_2\\\")}')\\n\\n# print(f'unit_3: {best_hps.get(\\\"unit_3\\\")}')\\n# print(f'unit_4: {best_hps.get(\\\"unit_4\\\")}')\\nprint(f'learning_rate: {best_hps.get(\\\"learning_rate\\\")}')\\nprint(f'activation: {best_hps.get(\\\"activation\\\")}')\";\n                var nbb_cells = Jupyter.notebook.get_cells();\n                for (var i = 0; i < nbb_cells.length; ++i) {\n                    if (nbb_cells[i].input_prompt_number == nbb_cell_id) {\n                        if (nbb_cells[i].get_text() == nbb_unformatted_code) {\n                             nbb_cells[i].set_text(nbb_formatted_code);\n                        }\n                        break;\n                    }\n                }\n            }, 500);\n            ",
      "text/plain": [
       "<IPython.core.display.Javascript object>"
      ]
     },
     "metadata": {},
     "output_type": "display_data"
    }
   ],
   "source": [
    "print(\"Best epoch: %d\" % (best_epoch,))\n",
    "print(f'val_mae: {min(history.history[\"val_mae\"])}')\n",
    "print(f'val_mse: {min(history.history[\"val_mse\"])}')\n",
    "\n",
    "print(f'n_filter_1: {best_hps.get(\"n_filter_1\")}')\n",
    "# print(f'n_filter_2: {best_hps.get(\"n_filter_2\")}')\n",
    "print(f'kernel_size_1: {best_hps.get(\"kernel_size_1\")}')\n",
    "# print(f'kernel_size_2: {best_hps.get(\"kernel_size_2\")}')\n",
    "\n",
    "# print(f'unit_3: {best_hps.get(\"unit_3\")}')\n",
    "# print(f'unit_4: {best_hps.get(\"unit_4\")}')\n",
    "print(f'learning_rate: {best_hps.get(\"learning_rate\")}')\n",
    "print(f'activation: {best_hps.get(\"activation\")}')"
   ]
  },
  {
   "cell_type": "code",
   "execution_count": null,
   "metadata": {},
   "outputs": [
    {
     "data": {
      "text/html": [
       "<div>\n",
       "<style scoped>\n",
       "    .dataframe tbody tr th:only-of-type {\n",
       "        vertical-align: middle;\n",
       "    }\n",
       "\n",
       "    .dataframe tbody tr th {\n",
       "        vertical-align: top;\n",
       "    }\n",
       "\n",
       "    .dataframe thead th {\n",
       "        text-align: right;\n",
       "    }\n",
       "</style>\n",
       "<table border=\"1\" class=\"dataframe\">\n",
       "  <thead>\n",
       "    <tr style=\"text-align: right;\">\n",
       "      <th></th>\n",
       "      <th>best_epoch</th>\n",
       "      <th>val_mae</th>\n",
       "      <th>val_mse</th>\n",
       "      <th>n_filter_1</th>\n",
       "      <th>n_filter_2</th>\n",
       "      <th>kernel_size_1</th>\n",
       "      <th>kernel_size_2</th>\n",
       "      <th>learning_rate</th>\n",
       "      <th>activation</th>\n",
       "      <th>best_model_path</th>\n",
       "    </tr>\n",
       "  </thead>\n",
       "  <tbody>\n",
       "    <tr>\n",
       "      <th>3</th>\n",
       "      <td>1</td>\n",
       "      <td>NaN</td>\n",
       "      <td>NaN</td>\n",
       "      <td>4</td>\n",
       "      <td>None</td>\n",
       "      <td>1</td>\n",
       "      <td>None</td>\n",
       "      <td>0.01</td>\n",
       "      <td>exponential</td>\n",
       "      <td>Models/CNN/model_22_10_15_15h50m36.h5</td>\n",
       "    </tr>\n",
       "  </tbody>\n",
       "</table>\n",
       "</div>"
      ],
      "text/plain": [
       "  best_epoch val_mae val_mse n_filter_1 n_filter_2 kernel_size_1  \\\n",
       "3          1     NaN     NaN          4       None             1   \n",
       "\n",
       "  kernel_size_2 learning_rate   activation  \\\n",
       "3          None          0.01  exponential   \n",
       "\n",
       "                         best_model_path  \n",
       "3  Models/CNN/model_22_10_15_15h50m36.h5  "
      ]
     },
     "execution_count": 19,
     "metadata": {},
     "output_type": "execute_result"
    },
    {
     "data": {
      "application/javascript": "\n            setTimeout(function() {\n                var nbb_cell_id = 19;\n                var nbb_unformatted_code = \"# for REPETICAO, value in enumerate((df_results)):\\ndf_results.loc[REPETICAO, \\\"best_model_path\\\"] = bst_model_path\\ndf_results.loc[REPETICAO, \\\"best_epoch\\\"] = best_epoch\\ndf_results.loc[REPETICAO, \\\"val_mae\\\"] = min(history.history[\\\"val_mae\\\"])\\ndf_results.loc[REPETICAO, \\\"val_mse\\\"] = min(history.history[\\\"val_mse\\\"])\\ndf_results.loc[REPETICAO, \\\"n_filter_1\\\"] = best_hps.get(\\\"n_filter_1\\\")\\ndf_results.loc[REPETICAO, \\\"n_filter_2\\\"] = None\\ndf_results.loc[REPETICAO, \\\"kernel_size_1\\\"] = best_hps.get(\\\"kernel_size_1\\\")\\ndf_results.loc[REPETICAO, \\\"kernel_size_2\\\"] = None\\ndf_results.loc[REPETICAO, \\\"learning_rate\\\"] = best_hps.get(\\\"learning_rate\\\")\\ndf_results.loc[REPETICAO, \\\"activation\\\"] = best_hps.get(\\\"activation\\\")\\n\\ndf_results\\n# bst_model_path\";\n                var nbb_formatted_code = \"# for REPETICAO, value in enumerate((df_results)):\\ndf_results.loc[REPETICAO, \\\"best_model_path\\\"] = bst_model_path\\ndf_results.loc[REPETICAO, \\\"best_epoch\\\"] = best_epoch\\ndf_results.loc[REPETICAO, \\\"val_mae\\\"] = min(history.history[\\\"val_mae\\\"])\\ndf_results.loc[REPETICAO, \\\"val_mse\\\"] = min(history.history[\\\"val_mse\\\"])\\ndf_results.loc[REPETICAO, \\\"n_filter_1\\\"] = best_hps.get(\\\"n_filter_1\\\")\\ndf_results.loc[REPETICAO, \\\"n_filter_2\\\"] = None\\ndf_results.loc[REPETICAO, \\\"kernel_size_1\\\"] = best_hps.get(\\\"kernel_size_1\\\")\\ndf_results.loc[REPETICAO, \\\"kernel_size_2\\\"] = None\\ndf_results.loc[REPETICAO, \\\"learning_rate\\\"] = best_hps.get(\\\"learning_rate\\\")\\ndf_results.loc[REPETICAO, \\\"activation\\\"] = best_hps.get(\\\"activation\\\")\\n\\ndf_results\\n# bst_model_path\";\n                var nbb_cells = Jupyter.notebook.get_cells();\n                for (var i = 0; i < nbb_cells.length; ++i) {\n                    if (nbb_cells[i].input_prompt_number == nbb_cell_id) {\n                        if (nbb_cells[i].get_text() == nbb_unformatted_code) {\n                             nbb_cells[i].set_text(nbb_formatted_code);\n                        }\n                        break;\n                    }\n                }\n            }, 500);\n            ",
      "text/plain": [
       "<IPython.core.display.Javascript object>"
      ]
     },
     "metadata": {},
     "output_type": "display_data"
    }
   ],
   "source": [
    "# for REPETICAO, value in enumerate((df_results)):\n",
    "df_results.loc[REPETICAO, \"best_model_path\"] = bst_model_path\n",
    "df_results.loc[REPETICAO, \"best_epoch\"] = best_epoch\n",
    "df_results.loc[REPETICAO, \"val_mae\"] = min(history.history[\"val_mae\"])\n",
    "df_results.loc[REPETICAO, \"val_mse\"] = min(history.history[\"val_mse\"])\n",
    "df_results.loc[REPETICAO, \"n_filter_1\"] = best_hps.get(\"n_filter_1\")\n",
    "df_results.loc[REPETICAO, \"n_filter_2\"] = None\n",
    "df_results.loc[REPETICAO, \"kernel_size_1\"] = best_hps.get(\"kernel_size_1\")\n",
    "df_results.loc[REPETICAO, \"kernel_size_2\"] = None\n",
    "df_results.loc[REPETICAO, \"learning_rate\"] = best_hps.get(\"learning_rate\")\n",
    "df_results.loc[REPETICAO, \"activation\"] = best_hps.get(\"activation\")\n",
    "\n",
    "df_results\n",
    "# bst_model_path"
   ]
  },
  {
   "cell_type": "code",
   "execution_count": null,
   "metadata": {},
   "outputs": [],
   "source": [
    "model.teste()"
   ]
  },
  {
   "cell_type": "code",
   "execution_count": null,
   "metadata": {},
   "outputs": [
    {
     "data": {
      "application/javascript": "\n            setTimeout(function() {\n                var nbb_cell_id = 128;\n                var nbb_unformatted_code = \"df_results.to_csv(\\n    f\\\"Parameter_{TYPE_MODEL}\\\",\\n    header=True,\\n)\";\n                var nbb_formatted_code = \"df_results.to_csv(\\n    f\\\"Parameter_{TYPE_MODEL}\\\",\\n    header=True,\\n)\";\n                var nbb_cells = Jupyter.notebook.get_cells();\n                for (var i = 0; i < nbb_cells.length; ++i) {\n                    if (nbb_cells[i].input_prompt_number == nbb_cell_id) {\n                        if (nbb_cells[i].get_text() == nbb_unformatted_code) {\n                             nbb_cells[i].set_text(nbb_formatted_code);\n                        }\n                        break;\n                    }\n                }\n            }, 500);\n            ",
      "text/plain": [
       "<IPython.core.display.Javascript object>"
      ]
     },
     "metadata": {},
     "output_type": "display_data"
    }
   ],
   "source": [
    "df_results.to_csv(\n",
    "    f\"Parameter_{TYPE_MODEL}\",\n",
    "    header=True,\n",
    ")"
   ]
  },
  {
   "cell_type": "code",
   "execution_count": null,
   "metadata": {},
   "outputs": [
    {
     "name": "stdout",
     "output_type": "stream",
     "text": [
      "Model: \"sequential_9\"\n",
      "_________________________________________________________________\n",
      " Layer (type)                Output Shape              Param #   \n",
      "=================================================================\n",
      " conv1d_9 (Conv1D)           (None, 36, 4)             8         \n",
      "                                                                 \n",
      " flatten_9 (Flatten)         (None, 144)               0         \n",
      "                                                                 \n",
      " dense_9 (Dense)             (None, 1)                 145       \n",
      "                                                                 \n",
      "=================================================================\n",
      "Total params: 153\n",
      "Trainable params: 153\n",
      "Non-trainable params: 0\n",
      "_________________________________________________________________\n"
     ]
    },
    {
     "data": {
      "application/javascript": "\n            setTimeout(function() {\n                var nbb_cell_id = 129;\n                var nbb_unformatted_code = \"model.summary()\";\n                var nbb_formatted_code = \"model.summary()\";\n                var nbb_cells = Jupyter.notebook.get_cells();\n                for (var i = 0; i < nbb_cells.length; ++i) {\n                    if (nbb_cells[i].input_prompt_number == nbb_cell_id) {\n                        if (nbb_cells[i].get_text() == nbb_unformatted_code) {\n                             nbb_cells[i].set_text(nbb_formatted_code);\n                        }\n                        break;\n                    }\n                }\n            }, 500);\n            ",
      "text/plain": [
       "<IPython.core.display.Javascript object>"
      ]
     },
     "metadata": {},
     "output_type": "display_data"
    }
   ],
   "source": [
    "model.summary()"
   ]
  },
  {
   "cell_type": "markdown",
   "metadata": {},
   "source": [
    "# Treinando modelo"
   ]
  },
  {
   "cell_type": "code",
   "execution_count": null,
   "metadata": {},
   "outputs": [
    {
     "data": {
      "application/javascript": "\n            setTimeout(function() {\n                var nbb_cell_id = 130;\n                var nbb_unformatted_code = \"# hypermodel = tuner.hypermodel.build(best_hps)\\n# history = hypermodel.fit(train_dataset, train_labels, epochs=best_epoch, validation_split=0.2, verbose=1)\\n\\n# # ja pega o modelo na melhor epoca\";\n                var nbb_formatted_code = \"# hypermodel = tuner.hypermodel.build(best_hps)\\n# history = hypermodel.fit(train_dataset, train_labels, epochs=best_epoch, validation_split=0.2, verbose=1)\\n\\n# # ja pega o modelo na melhor epoca\";\n                var nbb_cells = Jupyter.notebook.get_cells();\n                for (var i = 0; i < nbb_cells.length; ++i) {\n                    if (nbb_cells[i].input_prompt_number == nbb_cell_id) {\n                        if (nbb_cells[i].get_text() == nbb_unformatted_code) {\n                             nbb_cells[i].set_text(nbb_formatted_code);\n                        }\n                        break;\n                    }\n                }\n            }, 500);\n            ",
      "text/plain": [
       "<IPython.core.display.Javascript object>"
      ]
     },
     "metadata": {},
     "output_type": "display_data"
    }
   ],
   "source": [
    "# hypermodel = tuner.hypermodel.build(best_hps)\n",
    "# history = hypermodel.fit(train_dataset, train_labels, epochs=best_epoch, validation_split=0.2, verbose=1)\n",
    "\n",
    "# # ja pega o modelo na melhor epoca"
   ]
  },
  {
   "cell_type": "code",
   "execution_count": null,
   "metadata": {},
   "outputs": [
    {
     "name": "stdout",
     "output_type": "stream",
     "text": [
      "15/15 [==============================] - 0s 4ms/step - loss: 0.1587 - mae: 0.2527 - mse: 0.1587\n",
      "[test loss, test accuracy]: [0.1586892157793045, 0.2526853084564209, 0.1586892157793045]\n"
     ]
    },
    {
     "data": {
      "application/javascript": "\n            setTimeout(function() {\n                var nbb_cell_id = 131;\n                var nbb_unformatted_code = \"eval_result = model.evaluate(test_dataset, test_labels)\\nprint(\\\"[test loss, test accuracy]:\\\", eval_result)\";\n                var nbb_formatted_code = \"eval_result = model.evaluate(test_dataset, test_labels)\\nprint(\\\"[test loss, test accuracy]:\\\", eval_result)\";\n                var nbb_cells = Jupyter.notebook.get_cells();\n                for (var i = 0; i < nbb_cells.length; ++i) {\n                    if (nbb_cells[i].input_prompt_number == nbb_cell_id) {\n                        if (nbb_cells[i].get_text() == nbb_unformatted_code) {\n                             nbb_cells[i].set_text(nbb_formatted_code);\n                        }\n                        break;\n                    }\n                }\n            }, 500);\n            ",
      "text/plain": [
       "<IPython.core.display.Javascript object>"
      ]
     },
     "metadata": {},
     "output_type": "display_data"
    }
   ],
   "source": [
    "eval_result = model.evaluate(test_dataset, test_labels)\n",
    "print(\"[test loss, test accuracy]:\", eval_result)"
   ]
  },
  {
   "cell_type": "markdown",
   "metadata": {},
   "source": [
    "# Avaliando o modelo"
   ]
  },
  {
   "cell_type": "code",
   "execution_count": null,
   "metadata": {},
   "outputs": [
    {
     "data": {
      "application/javascript": "\n            setTimeout(function() {\n                var nbb_cell_id = 132;\n                var nbb_unformatted_code = \"# print(f'train_dataset: {train_dataset.columns()} \\\\n')\\n# print(f'valid_dataset: {valid_dataset.columns()} \\\\n')\\n# print(f'test_dataset: {test_dataset.columns()} \\\\n')\";\n                var nbb_formatted_code = \"# print(f'train_dataset: {train_dataset.columns()} \\\\n')\\n# print(f'valid_dataset: {valid_dataset.columns()} \\\\n')\\n# print(f'test_dataset: {test_dataset.columns()} \\\\n')\";\n                var nbb_cells = Jupyter.notebook.get_cells();\n                for (var i = 0; i < nbb_cells.length; ++i) {\n                    if (nbb_cells[i].input_prompt_number == nbb_cell_id) {\n                        if (nbb_cells[i].get_text() == nbb_unformatted_code) {\n                             nbb_cells[i].set_text(nbb_formatted_code);\n                        }\n                        break;\n                    }\n                }\n            }, 500);\n            ",
      "text/plain": [
       "<IPython.core.display.Javascript object>"
      ]
     },
     "metadata": {},
     "output_type": "display_data"
    }
   ],
   "source": [
    "# print(f'train_dataset: {train_dataset.columns()} \\n')\n",
    "# print(f'valid_dataset: {valid_dataset.columns()} \\n')\n",
    "# print(f'test_dataset: {test_dataset.columns()} \\n')"
   ]
  },
  {
   "cell_type": "code",
   "execution_count": null,
   "metadata": {},
   "outputs": [
    {
     "data": {
      "text/html": [
       "<div>\n",
       "<style scoped>\n",
       "    .dataframe tbody tr th:only-of-type {\n",
       "        vertical-align: middle;\n",
       "    }\n",
       "\n",
       "    .dataframe tbody tr th {\n",
       "        vertical-align: top;\n",
       "    }\n",
       "\n",
       "    .dataframe thead th {\n",
       "        text-align: right;\n",
       "    }\n",
       "</style>\n",
       "<table border=\"1\" class=\"dataframe\">\n",
       "  <thead>\n",
       "    <tr style=\"text-align: right;\">\n",
       "      <th></th>\n",
       "      <th>loss</th>\n",
       "      <th>mae</th>\n",
       "      <th>mse</th>\n",
       "      <th>val_loss</th>\n",
       "      <th>val_mae</th>\n",
       "      <th>val_mse</th>\n",
       "      <th>epoch</th>\n",
       "    </tr>\n",
       "  </thead>\n",
       "  <tbody>\n",
       "    <tr>\n",
       "      <th>495</th>\n",
       "      <td>0.107957</td>\n",
       "      <td>0.249164</td>\n",
       "      <td>0.107957</td>\n",
       "      <td>0.477473</td>\n",
       "      <td>0.627859</td>\n",
       "      <td>0.477473</td>\n",
       "      <td>495</td>\n",
       "    </tr>\n",
       "    <tr>\n",
       "      <th>496</th>\n",
       "      <td>0.181452</td>\n",
       "      <td>0.328377</td>\n",
       "      <td>0.181452</td>\n",
       "      <td>0.145445</td>\n",
       "      <td>0.307003</td>\n",
       "      <td>0.145445</td>\n",
       "      <td>496</td>\n",
       "    </tr>\n",
       "    <tr>\n",
       "      <th>497</th>\n",
       "      <td>0.197661</td>\n",
       "      <td>0.344975</td>\n",
       "      <td>0.197661</td>\n",
       "      <td>1.012567</td>\n",
       "      <td>0.963838</td>\n",
       "      <td>1.012567</td>\n",
       "      <td>497</td>\n",
       "    </tr>\n",
       "    <tr>\n",
       "      <th>498</th>\n",
       "      <td>0.260599</td>\n",
       "      <td>0.387454</td>\n",
       "      <td>0.260599</td>\n",
       "      <td>1.368663</td>\n",
       "      <td>1.129191</td>\n",
       "      <td>1.368663</td>\n",
       "      <td>498</td>\n",
       "    </tr>\n",
       "    <tr>\n",
       "      <th>499</th>\n",
       "      <td>0.421737</td>\n",
       "      <td>0.491876</td>\n",
       "      <td>0.421737</td>\n",
       "      <td>0.110379</td>\n",
       "      <td>0.264784</td>\n",
       "      <td>0.110379</td>\n",
       "      <td>499</td>\n",
       "    </tr>\n",
       "  </tbody>\n",
       "</table>\n",
       "</div>"
      ],
      "text/plain": [
       "         loss       mae       mse  val_loss   val_mae   val_mse  epoch\n",
       "495  0.107957  0.249164  0.107957  0.477473  0.627859  0.477473    495\n",
       "496  0.181452  0.328377  0.181452  0.145445  0.307003  0.145445    496\n",
       "497  0.197661  0.344975  0.197661  1.012567  0.963838  1.012567    497\n",
       "498  0.260599  0.387454  0.260599  1.368663  1.129191  1.368663    498\n",
       "499  0.421737  0.491876  0.421737  0.110379  0.264784  0.110379    499"
      ]
     },
     "execution_count": 133,
     "metadata": {},
     "output_type": "execute_result"
    },
    {
     "data": {
      "application/javascript": "\n            setTimeout(function() {\n                var nbb_cell_id = 133;\n                var nbb_unformatted_code = \"hist = pd.DataFrame(history.history)\\nhist[\\\"epoch\\\"] = history.epoch\\nhist.tail()\";\n                var nbb_formatted_code = \"hist = pd.DataFrame(history.history)\\nhist[\\\"epoch\\\"] = history.epoch\\nhist.tail()\";\n                var nbb_cells = Jupyter.notebook.get_cells();\n                for (var i = 0; i < nbb_cells.length; ++i) {\n                    if (nbb_cells[i].input_prompt_number == nbb_cell_id) {\n                        if (nbb_cells[i].get_text() == nbb_unformatted_code) {\n                             nbb_cells[i].set_text(nbb_formatted_code);\n                        }\n                        break;\n                    }\n                }\n            }, 500);\n            ",
      "text/plain": [
       "<IPython.core.display.Javascript object>"
      ]
     },
     "metadata": {},
     "output_type": "display_data"
    }
   ],
   "source": [
    "hist = pd.DataFrame(history.history)\n",
    "hist[\"epoch\"] = history.epoch\n",
    "hist.tail()"
   ]
  },
  {
   "cell_type": "code",
   "execution_count": null,
   "metadata": {},
   "outputs": [
    {
     "name": "stdout",
     "output_type": "stream",
     "text": [
      "Min MSE: 0.05871020257472992\n",
      "Min Val_MSE: 0.07646007090806961\n"
     ]
    },
    {
     "data": {
      "application/javascript": "\n            setTimeout(function() {\n                var nbb_cell_id = 134;\n                var nbb_unformatted_code = \"print(f\\\"Min MSE: {hist.mse.min()}\\\")\\nprint(f\\\"Min Val_MSE: {hist.val_mse.min()}\\\")\";\n                var nbb_formatted_code = \"print(f\\\"Min MSE: {hist.mse.min()}\\\")\\nprint(f\\\"Min Val_MSE: {hist.val_mse.min()}\\\")\";\n                var nbb_cells = Jupyter.notebook.get_cells();\n                for (var i = 0; i < nbb_cells.length; ++i) {\n                    if (nbb_cells[i].input_prompt_number == nbb_cell_id) {\n                        if (nbb_cells[i].get_text() == nbb_unformatted_code) {\n                             nbb_cells[i].set_text(nbb_formatted_code);\n                        }\n                        break;\n                    }\n                }\n            }, 500);\n            ",
      "text/plain": [
       "<IPython.core.display.Javascript object>"
      ]
     },
     "metadata": {},
     "output_type": "display_data"
    }
   ],
   "source": [
    "print(f\"Min MSE: {hist.mse.min()}\")\n",
    "print(f\"Min Val_MSE: {hist.val_mse.min()}\")"
   ]
  },
  {
   "cell_type": "code",
   "execution_count": null,
   "metadata": {},
   "outputs": [
    {
     "data": {
      "image/png": "[encoded data removed]",
      "text/plain": [
       "<Figure size 432x288 with 1 Axes>"
      ]
     },
     "metadata": {
      "needs_background": "light"
     },
     "output_type": "display_data"
    },
    {
     "data": {
      "image/png": "[encoded data removed]",
      "text/plain": [
       "<Figure size 432x288 with 1 Axes>"
      ]
     },
     "metadata": {
      "needs_background": "light"
     },
     "output_type": "display_data"
    },
    {
     "data": {
      "application/javascript": "\n            setTimeout(function() {\n                var nbb_cell_id = 135;\n                var nbb_unformatted_code = \"def plot_history(history):\\n    hist = pd.DataFrame(history.history)\\n    hist[\\\"epoch\\\"] = history.epoch\\n\\n    plt.figure()\\n    plt.xlabel(\\\"Epoch\\\")\\n    plt.ylabel(\\\"Mean Abs Error [ibova_0]\\\")\\n    plt.plot(hist[\\\"epoch\\\"], hist[\\\"mae\\\"], label=\\\"Train Error\\\")\\n    plt.plot(hist[\\\"epoch\\\"], hist[\\\"val_mae\\\"], label=\\\"Val Error\\\")\\n    plt.ylim([0, 1])\\n    plt.legend()\\n\\n    plt.figure()\\n    plt.xlabel(\\\"Epoch\\\")\\n    plt.ylabel(\\\"Mean Square Error [$ibova_0^2$]\\\")\\n    plt.plot(hist[\\\"epoch\\\"], hist[\\\"mse\\\"], label=\\\"Train Error\\\")\\n    plt.plot(hist[\\\"epoch\\\"], hist[\\\"val_mse\\\"], label=\\\"Val Error\\\")\\n    plt.ylim([0, 1])\\n    plt.legend()\\n    plt.show()\\n\\n\\nplot_history(history)\";\n                var nbb_formatted_code = \"def plot_history(history):\\n    hist = pd.DataFrame(history.history)\\n    hist[\\\"epoch\\\"] = history.epoch\\n\\n    plt.figure()\\n    plt.xlabel(\\\"Epoch\\\")\\n    plt.ylabel(\\\"Mean Abs Error [ibova_0]\\\")\\n    plt.plot(hist[\\\"epoch\\\"], hist[\\\"mae\\\"], label=\\\"Train Error\\\")\\n    plt.plot(hist[\\\"epoch\\\"], hist[\\\"val_mae\\\"], label=\\\"Val Error\\\")\\n    plt.ylim([0, 1])\\n    plt.legend()\\n\\n    plt.figure()\\n    plt.xlabel(\\\"Epoch\\\")\\n    plt.ylabel(\\\"Mean Square Error [$ibova_0^2$]\\\")\\n    plt.plot(hist[\\\"epoch\\\"], hist[\\\"mse\\\"], label=\\\"Train Error\\\")\\n    plt.plot(hist[\\\"epoch\\\"], hist[\\\"val_mse\\\"], label=\\\"Val Error\\\")\\n    plt.ylim([0, 1])\\n    plt.legend()\\n    plt.show()\\n\\n\\nplot_history(history)\";\n                var nbb_cells = Jupyter.notebook.get_cells();\n                for (var i = 0; i < nbb_cells.length; ++i) {\n                    if (nbb_cells[i].input_prompt_number == nbb_cell_id) {\n                        if (nbb_cells[i].get_text() == nbb_unformatted_code) {\n                             nbb_cells[i].set_text(nbb_formatted_code);\n                        }\n                        break;\n                    }\n                }\n            }, 500);\n            ",
      "text/plain": [
       "<IPython.core.display.Javascript object>"
      ]
     },
     "metadata": {},
     "output_type": "display_data"
    }
   ],
   "source": [
    "def plot_history(history):\n",
    "    hist = pd.DataFrame(history.history)\n",
    "    hist[\"epoch\"] = history.epoch\n",
    "\n",
    "    plt.figure()\n",
    "    plt.xlabel(\"Epoch\")\n",
    "    plt.ylabel(\"Mean Abs Error [ibova_0]\")\n",
    "    plt.plot(hist[\"epoch\"], hist[\"mae\"], label=\"Train Error\")\n",
    "    plt.plot(hist[\"epoch\"], hist[\"val_mae\"], label=\"Val Error\")\n",
    "    plt.ylim([0, 1])\n",
    "    plt.legend()\n",
    "\n",
    "    plt.figure()\n",
    "    plt.xlabel(\"Epoch\")\n",
    "    plt.ylabel(\"Mean Square Error [$ibova_0^2$]\")\n",
    "    plt.plot(hist[\"epoch\"], hist[\"mse\"], label=\"Train Error\")\n",
    "    plt.plot(hist[\"epoch\"], hist[\"val_mse\"], label=\"Val Error\")\n",
    "    plt.ylim([0, 1])\n",
    "    plt.legend()\n",
    "    plt.show()\n",
    "\n",
    "\n",
    "plot_history(history)"
   ]
  },
  {
   "cell_type": "markdown",
   "metadata": {},
   "source": [
    "# Realizando as previsões"
   ]
  },
  {
   "cell_type": "code",
   "execution_count": null,
   "metadata": {},
   "outputs": [
    {
     "name": "stdout",
     "output_type": "stream",
     "text": [
      "15/15 [==============================] - 0s 3ms/step\n"
     ]
    },
    {
     "data": {
      "application/javascript": "\n            setTimeout(function() {\n                var nbb_cell_id = 136;\n                var nbb_unformatted_code = \"test_predictions = model.predict(test_dataset).flatten()\";\n                var nbb_formatted_code = \"test_predictions = model.predict(test_dataset).flatten()\";\n                var nbb_cells = Jupyter.notebook.get_cells();\n                for (var i = 0; i < nbb_cells.length; ++i) {\n                    if (nbb_cells[i].input_prompt_number == nbb_cell_id) {\n                        if (nbb_cells[i].get_text() == nbb_unformatted_code) {\n                             nbb_cells[i].set_text(nbb_formatted_code);\n                        }\n                        break;\n                    }\n                }\n            }, 500);\n            ",
      "text/plain": [
       "<IPython.core.display.Javascript object>"
      ]
     },
     "metadata": {},
     "output_type": "display_data"
    }
   ],
   "source": [
    "test_predictions = model.predict(test_dataset).flatten()"
   ]
  },
  {
   "cell_type": "markdown",
   "metadata": {},
   "source": [
    "# Avaliando as previsões:"
   ]
  },
  {
   "cell_type": "code",
   "execution_count": null,
   "metadata": {},
   "outputs": [
    {
     "data": {
      "application/javascript": "\n            setTimeout(function() {\n                var nbb_cell_id = 137;\n                var nbb_unformatted_code = \"def show_test_labels():\\n    # Imprimindo valores reais\\n    plt.plot(test_labels, color=\\\"r\\\", label=\\\"ibova_REAL\\\")\\n    plt.xlabel(\\\"Dates\\\")\\n    plt.ylabel(\\\"Variation ROC\\\")\\n    plt.title(\\\"ibova_REAL\\\")\\n    plt.legend()\\n\\n\\ndef show_model_predictions():\\n    # Imprimindo previsoes\\n    plt.plot(test_predictions, color=\\\"g\\\", label=\\\"predictions_MODEL\\\")\\n    plt.xlabel(\\\"Dates\\\")\\n    plt.ylabel(\\\"Variation ROC\\\")\\n    plt.title(\\\"predictions_MODEL\\\")\\n    plt.legend()\\n\\n\\ndef show_compare_graph():\\n    # Predictt X Real values\\n    plt.plot(test_labels, color=\\\"r\\\", label=\\\"ibova_REAL\\\")\\n    plt.plot(test_predictions, color=\\\"g\\\", label=\\\"predictions_MODEL\\\")\\n    plt.xlabel(\\\"Dates\\\")\\n    plt.ylabel(\\\"Variation ROC\\\")\\n    plt.title(\\\"Predict X Real values\\\")\\n    plt.legend()\\n    plt.show()\\n\\n\\ndef show_true_predict_values():\\n    plt.figure(figsize=(24, 4))\\n    plt.scatter(test_labels, test_predictions)\\n    plt.xlabel(\\\"True Values [ibova_0]\\\")\\n    plt.ylabel(\\\"Predictions [ibova_0]\\\")\\n    plt.axis(\\\"equal\\\")\\n    plt.axis(\\\"square\\\")\\n    plt.xlim([0, plt.xlim()[1]])\\n    plt.ylim([0, plt.ylim()[1]])\\n    _ = plt.plot([-100, 100], [-100, 100])\";\n                var nbb_formatted_code = \"def show_test_labels():\\n    # Imprimindo valores reais\\n    plt.plot(test_labels, color=\\\"r\\\", label=\\\"ibova_REAL\\\")\\n    plt.xlabel(\\\"Dates\\\")\\n    plt.ylabel(\\\"Variation ROC\\\")\\n    plt.title(\\\"ibova_REAL\\\")\\n    plt.legend()\\n\\n\\ndef show_model_predictions():\\n    # Imprimindo previsoes\\n    plt.plot(test_predictions, color=\\\"g\\\", label=\\\"predictions_MODEL\\\")\\n    plt.xlabel(\\\"Dates\\\")\\n    plt.ylabel(\\\"Variation ROC\\\")\\n    plt.title(\\\"predictions_MODEL\\\")\\n    plt.legend()\\n\\n\\ndef show_compare_graph():\\n    # Predictt X Real values\\n    plt.plot(test_labels, color=\\\"r\\\", label=\\\"ibova_REAL\\\")\\n    plt.plot(test_predictions, color=\\\"g\\\", label=\\\"predictions_MODEL\\\")\\n    plt.xlabel(\\\"Dates\\\")\\n    plt.ylabel(\\\"Variation ROC\\\")\\n    plt.title(\\\"Predict X Real values\\\")\\n    plt.legend()\\n    plt.show()\\n\\n\\ndef show_true_predict_values():\\n    plt.figure(figsize=(24, 4))\\n    plt.scatter(test_labels, test_predictions)\\n    plt.xlabel(\\\"True Values [ibova_0]\\\")\\n    plt.ylabel(\\\"Predictions [ibova_0]\\\")\\n    plt.axis(\\\"equal\\\")\\n    plt.axis(\\\"square\\\")\\n    plt.xlim([0, plt.xlim()[1]])\\n    plt.ylim([0, plt.ylim()[1]])\\n    _ = plt.plot([-100, 100], [-100, 100])\";\n                var nbb_cells = Jupyter.notebook.get_cells();\n                for (var i = 0; i < nbb_cells.length; ++i) {\n                    if (nbb_cells[i].input_prompt_number == nbb_cell_id) {\n                        if (nbb_cells[i].get_text() == nbb_unformatted_code) {\n                             nbb_cells[i].set_text(nbb_formatted_code);\n                        }\n                        break;\n                    }\n                }\n            }, 500);\n            ",
      "text/plain": [
       "<IPython.core.display.Javascript object>"
      ]
     },
     "metadata": {},
     "output_type": "display_data"
    }
   ],
   "source": [
    "def show_test_labels():\n",
    "    # Imprimindo valores reais\n",
    "    plt.plot(test_labels, color=\"r\", label=\"ibova_REAL\")\n",
    "    plt.xlabel(\"Dates\")\n",
    "    plt.ylabel(\"Variation ROC\")\n",
    "    plt.title(\"ibova_REAL\")\n",
    "    plt.legend()\n",
    "\n",
    "\n",
    "def show_model_predictions():\n",
    "    # Imprimindo previsoes\n",
    "    plt.plot(test_predictions, color=\"g\", label=\"predictions_MODEL\")\n",
    "    plt.xlabel(\"Dates\")\n",
    "    plt.ylabel(\"Variation ROC\")\n",
    "    plt.title(\"predictions_MODEL\")\n",
    "    plt.legend()\n",
    "\n",
    "\n",
    "def show_compare_graph():\n",
    "    # Predictt X Real values\n",
    "    plt.plot(test_labels, color=\"r\", label=\"ibova_REAL\")\n",
    "    plt.plot(test_predictions, color=\"g\", label=\"predictions_MODEL\")\n",
    "    plt.xlabel(\"Dates\")\n",
    "    plt.ylabel(\"Variation ROC\")\n",
    "    plt.title(\"Predict X Real values\")\n",
    "    plt.legend()\n",
    "    plt.show()\n",
    "\n",
    "\n",
    "def show_true_predict_values():\n",
    "    plt.figure(figsize=(24, 4))\n",
    "    plt.scatter(test_labels, test_predictions)\n",
    "    plt.xlabel(\"True Values [ibova_0]\")\n",
    "    plt.ylabel(\"Predictions [ibova_0]\")\n",
    "    plt.axis(\"equal\")\n",
    "    plt.axis(\"square\")\n",
    "    plt.xlim([0, plt.xlim()[1]])\n",
    "    plt.ylim([0, plt.ylim()[1]])\n",
    "    _ = plt.plot([-100, 100], [-100, 100])"
   ]
  },
  {
   "cell_type": "code",
   "execution_count": null,
   "metadata": {},
   "outputs": [
    {
     "data": {
      "image/png": "[encoded data removed]",
      "text/plain": [
       "<Figure size 432x288 with 1 Axes>"
      ]
     },
     "metadata": {
      "needs_background": "light"
     },
     "output_type": "display_data"
    },
    {
     "data": {
      "application/javascript": "\n            setTimeout(function() {\n                var nbb_cell_id = 138;\n                var nbb_unformatted_code = \"show_compare_graph()\";\n                var nbb_formatted_code = \"show_compare_graph()\";\n                var nbb_cells = Jupyter.notebook.get_cells();\n                for (var i = 0; i < nbb_cells.length; ++i) {\n                    if (nbb_cells[i].input_prompt_number == nbb_cell_id) {\n                        if (nbb_cells[i].get_text() == nbb_unformatted_code) {\n                             nbb_cells[i].set_text(nbb_formatted_code);\n                        }\n                        break;\n                    }\n                }\n            }, 500);\n            ",
      "text/plain": [
       "<IPython.core.display.Javascript object>"
      ]
     },
     "metadata": {},
     "output_type": "display_data"
    }
   ],
   "source": [
    "show_compare_graph()"
   ]
  },
  {
   "cell_type": "code",
   "execution_count": null,
   "metadata": {},
   "outputs": [
    {
     "data": {
      "image/png": "[encoded data removed]",
      "text/plain": [
       "<Figure size 432x288 with 1 Axes>"
      ]
     },
     "metadata": {
      "needs_background": "light"
     },
     "output_type": "display_data"
    },
    {
     "data": {
      "application/javascript": "\n            setTimeout(function() {\n                var nbb_cell_id = 139;\n                var nbb_unformatted_code = \"show_model_predictions()\";\n                var nbb_formatted_code = \"show_model_predictions()\";\n                var nbb_cells = Jupyter.notebook.get_cells();\n                for (var i = 0; i < nbb_cells.length; ++i) {\n                    if (nbb_cells[i].input_prompt_number == nbb_cell_id) {\n                        if (nbb_cells[i].get_text() == nbb_unformatted_code) {\n                             nbb_cells[i].set_text(nbb_formatted_code);\n                        }\n                        break;\n                    }\n                }\n            }, 500);\n            ",
      "text/plain": [
       "<IPython.core.display.Javascript object>"
      ]
     },
     "metadata": {},
     "output_type": "display_data"
    }
   ],
   "source": [
    "show_model_predictions()"
   ]
  },
  {
   "cell_type": "code",
   "execution_count": null,
   "metadata": {},
   "outputs": [
    {
     "data": {
      "application/javascript": "\n            setTimeout(function() {\n                var nbb_cell_id = 140;\n                var nbb_unformatted_code = \"model_name = f'mlp_unit_1({best_hps.get(\\\"unit_1\\\")})unit_2({best_hps.get(\\\"unit_2\\\")})unit_3({best_hps.get(\\\"unit_3\\\")})unit_4({best_hps.get(\\\"unit_4\\\")})_learning({best_hps.get(\\\"learning_rate\\\")})_activation({best_hps.get(\\\"activation\\\")})'\\nmodel_name\\nmodel.save(f\\\"models/mlp/{model_name}date_{save_time}.h5\\\")\";\n                var nbb_formatted_code = \"model_name = f'mlp_unit_1({best_hps.get(\\\"unit_1\\\")})unit_2({best_hps.get(\\\"unit_2\\\")})unit_3({best_hps.get(\\\"unit_3\\\")})unit_4({best_hps.get(\\\"unit_4\\\")})_learning({best_hps.get(\\\"learning_rate\\\")})_activation({best_hps.get(\\\"activation\\\")})'\\nmodel_name\\nmodel.save(f\\\"models/mlp/{model_name}date_{save_time}.h5\\\")\";\n                var nbb_cells = Jupyter.notebook.get_cells();\n                for (var i = 0; i < nbb_cells.length; ++i) {\n                    if (nbb_cells[i].input_prompt_number == nbb_cell_id) {\n                        if (nbb_cells[i].get_text() == nbb_unformatted_code) {\n                             nbb_cells[i].set_text(nbb_formatted_code);\n                        }\n                        break;\n                    }\n                }\n            }, 500);\n            ",
      "text/plain": [
       "<IPython.core.display.Javascript object>"
      ]
     },
     "metadata": {},
     "output_type": "display_data"
    }
   ],
   "source": [
    "model_name = f'mlp_unit_1({best_hps.get(\"unit_1\")})unit_2({best_hps.get(\"unit_2\")})unit_3({best_hps.get(\"unit_3\")})unit_4({best_hps.get(\"unit_4\")})_learning({best_hps.get(\"learning_rate\")})_activation({best_hps.get(\"activation\")})'\n",
    "model_name\n",
    "model.save(f\"models/mlp/{model_name}date_{save_time}.h5\")"
   ]
  },
  {
   "cell_type": "code",
   "execution_count": null,
   "metadata": {},
   "outputs": [
    {
     "name": "stdout",
     "output_type": "stream",
     "text": [
      "Massa de predição: 0.03259638696908951\n"
     ]
    },
    {
     "ename": "NameError",
     "evalue": "name 'ibova_test' is not defined",
     "output_type": "error",
     "traceback": [
      "\u001b[1;31m---------------------------------------------------------------------------\u001b[0m",
      "\u001b[1;31mNameError\u001b[0m                                 Traceback (most recent call last)",
      "\u001b[1;32mc:\\Users\\arthu\\Documents\\GitHub\\TCC_Stock_Predictions\\Model\\Model_CNN.ipynb Cell 39\u001b[0m in \u001b[0;36m<cell line: 4>\u001b[1;34m()\u001b[0m\n\u001b[0;32m      <a href='vscode-notebook-cell:/c%3A/Users/arthu/Documents/GitHub/TCC_Stock_Predictions/Model/Model_CNN.ipynb#X51sZmlsZQ%3D%3D?line=0'>1</a>\u001b[0m \u001b[39m# Analisando Medias:\u001b[39;00m\n\u001b[0;32m      <a href='vscode-notebook-cell:/c%3A/Users/arthu/Documents/GitHub/TCC_Stock_Predictions/Model/Model_CNN.ipynb#X51sZmlsZQ%3D%3D?line=2'>3</a>\u001b[0m \u001b[39mprint\u001b[39m(\u001b[39mf\u001b[39m\u001b[39m\"\u001b[39m\u001b[39mMassa de predição: \u001b[39m\u001b[39m{\u001b[39;00mtest_predictions\u001b[39m.\u001b[39mmean()\u001b[39m}\u001b[39;00m\u001b[39m\"\u001b[39m)\n\u001b[1;32m----> <a href='vscode-notebook-cell:/c%3A/Users/arthu/Documents/GitHub/TCC_Stock_Predictions/Model/Model_CNN.ipynb#X51sZmlsZQ%3D%3D?line=3'>4</a>\u001b[0m \u001b[39mprint\u001b[39m(\u001b[39mf\u001b[39m\u001b[39m\"\u001b[39m\u001b[39mMassa inicial: \u001b[39m\u001b[39m{\u001b[39;00mibova_test\u001b[39m.\u001b[39mmean()\u001b[39m}\u001b[39;00m\u001b[39m\"\u001b[39m)\n\u001b[0;32m      <a href='vscode-notebook-cell:/c%3A/Users/arthu/Documents/GitHub/TCC_Stock_Predictions/Model/Model_CNN.ipynb#X51sZmlsZQ%3D%3D?line=4'>5</a>\u001b[0m \u001b[39mprint\u001b[39m(\u001b[39mf\u001b[39m\u001b[39m\"\u001b[39m\u001b[39mDiferenças das médias: \u001b[39m\u001b[39m{\u001b[39;00mibova_test\u001b[39m.\u001b[39mmean() \u001b[39m-\u001b[39m test_predictions\u001b[39m.\u001b[39mmean()\u001b[39m}\u001b[39;00m\u001b[39m\"\u001b[39m)\n",
      "\u001b[1;31mNameError\u001b[0m: name 'ibova_test' is not defined"
     ]
    },
    {
     "data": {
      "application/javascript": "\n            setTimeout(function() {\n                var nbb_cell_id = 141;\n                var nbb_unformatted_code = \"# Analisando Medias:\\n\\nprint(f\\\"Massa de predi\\u00e7\\u00e3o: {test_predictions.mean()}\\\")\\nprint(f\\\"Massa inicial: {ibova_test.mean()}\\\")\\nprint(f\\\"Diferen\\u00e7as das m\\u00e9dias: {ibova_test.mean() - test_predictions.mean()}\\\")\\n\\n# Add o RM_MSE medio\";\n                var nbb_formatted_code = \"# Analisando Medias:\\n\\nprint(f\\\"Massa de predi\\u00e7\\u00e3o: {test_predictions.mean()}\\\")\\nprint(f\\\"Massa inicial: {ibova_test.mean()}\\\")\\nprint(f\\\"Diferen\\u00e7as das m\\u00e9dias: {ibova_test.mean() - test_predictions.mean()}\\\")\\n\\n# Add o RM_MSE medio\";\n                var nbb_cells = Jupyter.notebook.get_cells();\n                for (var i = 0; i < nbb_cells.length; ++i) {\n                    if (nbb_cells[i].input_prompt_number == nbb_cell_id) {\n                        if (nbb_cells[i].get_text() == nbb_unformatted_code) {\n                             nbb_cells[i].set_text(nbb_formatted_code);\n                        }\n                        break;\n                    }\n                }\n            }, 500);\n            ",
      "text/plain": [
       "<IPython.core.display.Javascript object>"
      ]
     },
     "metadata": {},
     "output_type": "display_data"
    }
   ],
   "source": [
    "# Analisando Medias:\n",
    "\n",
    "print(f\"Massa de predição: {test_predictions.mean()}\")\n",
    "print(f\"Massa inicial: {ibova_test.mean()}\")\n",
    "print(f\"Diferenças das médias: {ibova_test.mean() - test_predictions.mean()}\")\n",
    "\n",
    "# Add o RM_MSE medio"
   ]
  },
  {
   "cell_type": "code",
   "execution_count": null,
   "metadata": {},
   "outputs": [
    {
     "data": {
      "text/plain": [
       "'22_08_30_22h55m31'"
      ]
     },
     "execution_count": 124,
     "metadata": {},
     "output_type": "execute_result"
    },
    {
     "data": {
      "application/javascript": "\n            setTimeout(function() {\n                var nbb_cell_id = 124;\n                var nbb_unformatted_code = \"save_time\";\n                var nbb_formatted_code = \"save_time\";\n                var nbb_cells = Jupyter.notebook.get_cells();\n                for (var i = 0; i < nbb_cells.length; ++i) {\n                    if (nbb_cells[i].input_prompt_number == nbb_cell_id) {\n                        if (nbb_cells[i].get_text() == nbb_unformatted_code) {\n                             nbb_cells[i].set_text(nbb_formatted_code);\n                        }\n                        break;\n                    }\n                }\n            }, 500);\n            ",
      "text/plain": [
       "<IPython.core.display.Javascript object>"
      ]
     },
     "metadata": {},
     "output_type": "display_data"
    }
   ],
   "source": [
    "save_time"
   ]
  }
 ],
 "metadata": {
  "kernelspec": {
   "display_name": "Python 3.8.12 ('pystock')",
   "language": "python",
   "name": "python3"
  },
  "language_info": {
   "codemirror_mode": {
    "name": "ipython",
    "version": 3
   },
   "file_extension": ".py",
   "mimetype": "text/x-python",
   "name": "python",
   "nbconvert_exporter": "python",
   "pygments_lexer": "ipython3",
   "version": "3.8.13"
  },
  "orig_nbformat": 4,
  "vscode": {
   "interpreter": {
    "hash": "bc0c8eb905859abd75b389576d87e2ac71c748b72952270660ecc130aeb3e651"
   }
  }
 },
 "nbformat": 4,
 "nbformat_minor": 2
}
