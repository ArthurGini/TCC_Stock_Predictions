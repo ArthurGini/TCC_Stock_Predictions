{
 "cells": [
  {
   "cell_type": "code",
   "execution_count": 4,
   "id": "fa7d8e75",
   "metadata": {},
   "outputs": [],
   "source": [
    "from pyspark import SparkContext \n",
    "from pyspark.sql import SparkSession\n",
    "from pyspark.sql.types import *\n",
    "from pyspark.sql.functions import *\n",
    "\n",
    "spark = SparkSession.builder.appName('TCC ai bro').getOrCreate()"
   ]
  },
  {
   "cell_type": "code",
   "execution_count": 6,
   "id": "2e4bd0c7",
   "metadata": {},
   "outputs": [],
   "source": [
    "df_ibova = spark.read.option('header',True).csv('ibova.csv')\n",
    "df_ibova = df_ibova.select(\n",
    "\tcol('Open').alias('open_ibova'),\n",
    "\tcol('Date').alias('date_ibova')\n",
    ")\n",
    "\n",
    "df_oil = spark.read.option('header',True).csv('oil.csv')\n",
    "df_oil = df_oil.select(\n",
    "\tcol('Open').alias('open_oil'),\n",
    "\tcol('Date').alias('date_oil')\n",
    ")\n",
    "\n",
    "df_usdbrl = spark.read.option('header',True).csv('usdbrl.csv')\n",
    "df_usdbrl = df_usdbrl.select(\n",
    "\tcol('Open').alias('open_usd'),\n",
    "\tcol('Date').alias('date_usd')\n",
    ")\n",
    "\n",
    "df_abev = spark.read.option('header',True).csv('Open_ABEV3.SA.csv')\n",
    "df_abev = df_abev.select(\n",
    "\tcol('Open').alias('open_abev'),\n",
    "\tcol('Date').alias('date_abev')\n",
    ")\n",
    "\n",
    "df_jbs = spark.read.option('header',True).csv('Open_JBSAY.csv')\n",
    "df_jbs = df_jbs.select(\n",
    "\tcol('Open').alias('open_jbs'),\n",
    "\tcol('Date').alias('date_jbs')\n",
    ")\n",
    "\n",
    "df_petr4 = spark.read.option('header',True).csv('Open_PETR4.csv')\n",
    "df_petr4 = df_petr4.select(\n",
    "\tcol('Open').alias('open_petr4'),\n",
    "\tcol('Date').alias('date_petr4')\n",
    ")\n",
    "\n",
    "df_vale = spark.read.option('header',True).csv('Open_PETR4.csv')\n",
    "df_vale = df_vale.select(\n",
    "\tcol('Open').alias('open_vale'),\n",
    "\tcol('Date').alias('date_vale')\n",
    ")"
   ]
  },
  {
   "cell_type": "code",
   "execution_count": 7,
   "id": "37ff2b69",
   "metadata": {},
   "outputs": [
    {
     "name": "stdout",
     "output_type": "stream",
     "text": [
      "\b Controle: \n",
      "\tibova = 2820\n",
      "\toil = 2861\n",
      "\tsp500 = 1899\n",
      "\tus10y = 5\n",
      "\tusdbrl = 2961 \n",
      "\n"
     ]
    }
   ],
   "source": [
    "ibova = df_ibova.count()\n",
    "oil = df_oil.count()\n",
    "sp500 = df_sp500.count()\n",
    "us10y = df_us10y.count()\n",
    "usdbrl = df_usdbrl.count()\n",
    "abev = df_abev.count()\n",
    "jbs = df_jbs.count()\n",
    "petr4 = df_petr4.count()\n",
    "vale = df_vale.count()\n",
    "\n",
    "print(f'''\\b Controle: \n",
    "\tibova = {ibova}\n",
    "\toil = {oil}\n",
    "\tsp500 = {sp500}\n",
    "\tus10y = {us10y}\n",
    "\tusdbrl = {usdbrl} \n",
    "\tabev = {abev} \n",
    "\tjbs = {jbs} \n",
    "\tpetr4 = {petr4} \n",
    "\tvale = {vale} \n",
    "''')"
   ]
  },
  {
   "cell_type": "code",
   "execution_count": 9,
   "id": "ab70a364",
   "metadata": {},
   "outputs": [],
   "source": [
    "df = df_ibova.join(df_oil, df_oil.date_oil == df_ibova.date_ibova)"
   ]
  },
  {
   "cell_type": "code",
   "execution_count": 10,
   "id": "c658501b",
   "metadata": {},
   "outputs": [],
   "source": [
    "df = df.join(df_usdbrl, df_usdbrl.date_usd == df_ibova.date_ibova)"
   ]
  },
  {
   "cell_type": "code",
   "execution_count": null,
   "id": "22e8219d",
   "metadata": {},
   "outputs": [],
   "source": [
    "df = df.join(df_abev, df_abev.date_abev == df_ibova.date_ibova)\n",
    "df = df.join(df_jbs, df_jbs.date_jbs == df_ibova.date_ibova)\n",
    "df = df.join(df_petr4, df_petr4.date_petr4 == df_ibova.date_ibova)\n",
    "df = df.join(df_vale, df_vale.date_vale == df_ibova.date_ibova)"
   ]
  },
  {
   "cell_type": "code",
   "execution_count": 12,
   "id": "73805be7",
   "metadata": {},
   "outputs": [],
   "source": [
    "df = df.select(\n",
    "\tcol('date_ibova').alias('date'),\n",
    "\tcol('open_ibova').alias('open_ibova'),\n",
    "\tcol('open_oil').alias('open_oil'),\n",
    "\tcol('open_usd').alias('open_usd'),\n",
    "\tcol('open_abev').alias('open_abev'),\n",
    "\tcol('open_jbs').alias('open_jbs'),\n",
    "\tcol('open_petr4').alias('open_petr4'),\n",
    "\tcol('open_vale').alias('open_vale')\n",
    ")"
   ]
  },
  {
   "cell_type": "code",
   "execution_count": 13,
   "id": "9adf4d29",
   "metadata": {},
   "outputs": [
    {
     "name": "stdout",
     "output_type": "stream",
     "text": [
      "+----------+------------------+-----------------+------------------+\n",
      "|date      |open_ibova        |open_oil         |open_usd          |\n",
      "+----------+------------------+-----------------+------------------+\n",
      "|2010-06-30|61.540000915527344|75.45999908447266|1.760699987411499 |\n",
      "|2010-07-01|60.720001220703125|75.37000274658203|1.7401000261306763|\n",
      "|2010-07-06|61.11000061035156 |72.05999755859375|1.7293000221252441|\n",
      "+----------+------------------+-----------------+------------------+\n",
      "only showing top 3 rows\n",
      "\n"
     ]
    }
   ],
   "source": [
    "df.show(3,0)"
   ]
  },
  {
   "cell_type": "code",
   "execution_count": 17,
   "id": "3fe7d9d2",
   "metadata": {},
   "outputs": [],
   "source": [
    "# df.write.format('csv').save('ibova_oil_usd.csv',header = 'true')\n",
    "df.repartition(1).write.format('com.databricks.spark.csv').save(\"myfile.csv\",header = 'true')"
   ]
  },
  {
   "cell_type": "code",
   "execution_count": null,
   "id": "1d213588",
   "metadata": {},
   "outputs": [],
   "source": [
    "df = df.join(df_sp500, df_sp500.date_sp5 == df_ibova.date_ibova)"
   ]
  },
  {
   "cell_type": "code",
   "execution_count": null,
   "id": "b1785bd7",
   "metadata": {},
   "outputs": [],
   "source": [
    "df = df.join(df_us10y, df_us10y.date_us10 == df_ibova.date_ibova)"
   ]
  },
  {
   "cell_type": "code",
   "execution_count": null,
   "id": "100490fb",
   "metadata": {},
   "outputs": [],
   "source": []
  }
 ],
 "metadata": {
  "kernelspec": {
   "display_name": "Python 3.8.13 ('pystock')",
   "language": "python",
   "name": "python3"
  },
  "language_info": {
   "codemirror_mode": {
    "name": "ipython",
    "version": 3
   },
   "file_extension": ".py",
   "mimetype": "text/x-python",
   "name": "python",
   "nbconvert_exporter": "python",
   "pygments_lexer": "ipython3",
   "version": "3.8.13"
  },
  "vscode": {
   "interpreter": {
    "hash": "bc0c8eb905859abd75b389576d87e2ac71c748b72952270660ecc130aeb3e651"
   }
  }
 },
 "nbformat": 4,
 "nbformat_minor": 5
}
