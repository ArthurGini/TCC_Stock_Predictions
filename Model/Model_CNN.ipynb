{
 "cells": [
  {
   "cell_type": "markdown",
   "metadata": {},
   "source": [
    "<!-- https://colab.research.google.com/github/tensorflow/docs/blob/master/site/en/tutorials/images/cnn.ipynb#scrollTo=lvDVFkg-2DPm -->"
   ]
  },
  {
   "cell_type": "markdown",
   "metadata": {},
   "source": [
    "## Buscando um exemplo de CNN de previsão de valores \n",
    "\n",
    "Predicao de imagens:\n",
    "https://colab.research.google.com/github/tensorflow/docs/blob/master/site/en/tutorials/images/cnn.ipynb#scrollTo=lvDVFkg-2DPm\n",
    "\n",
    "\n",
    "Tuning hyperparameters\n",
    "https://www.analyticsvidhya.com/blog/2021/05/tuning-the-hyperparameters-and-layers-of-neural-network-deep-learning/\n",
    "\n"
   ]
  },
  {
   "cell_type": "markdown",
   "metadata": {},
   "source": [
    "# CNN model"
   ]
  },
  {
   "cell_type": "code",
   "execution_count": 1,
   "metadata": {},
   "outputs": [],
   "source": [
    "import pathlib\n",
    "\n",
    "import matplotlib.pyplot as plt\n",
    "import pandas as pd\n",
    "import seaborn as sns\n",
    "\n",
    "import tensorflow as tf\n",
    "import datetime\n",
    "\n",
    "from tensorflow import keras\n",
    "from tensorflow.keras import layers\n",
    "\n",
    "import keras_tuner as kt "
   ]
  },
  {
   "cell_type": "markdown",
   "metadata": {},
   "source": [
    "# Lendo Dfs"
   ]
  },
  {
   "cell_type": "code",
   "execution_count": 2,
   "metadata": {},
   "outputs": [],
   "source": [
    "# 60%\n",
    "PATH_TREINO = '../Data/3_Gold/Treino_all_stocks.csv'\n",
    "DF_TREINO = pd.read_csv(PATH_TREINO, sep=\",\")\n",
    "train_dataset = DF_TREINO\n",
    "train_dataset = train_dataset.drop(['oil_5','usd_5','abev_5','jbs_5','petr_5','vale_5',], axis=1)\n",
    "train_labels = train_dataset.pop('ibova_5')\n",
    "\n",
    "# 20%\n",
    "PATH_VALIDACAO = '../Data/3_Gold/Validacao_all_stocks.csv'\n",
    "DF_VALIDACAO = pd.read_csv(PATH_VALIDACAO, sep=\",\")\n",
    "valid_dataset = DF_VALIDACAO\n",
    "valid_dataset = valid_dataset.drop(['ibova_5','oil_5','usd_5','abev_5','jbs_5','petr_5','vale_5',],axis=1)\n",
    "# valid_labels = valid_dataset.pop('ibova_5') \n",
    "\n",
    "# 20%\n",
    "PATH_TESTE = '../Data/3_Gold/Teste_all_stocks.csv'\n",
    "DF_TESTE = pd.read_csv(PATH_TESTE, sep=\",\")\n",
    "test_dataset = DF_TESTE\n",
    "test_dataset = test_dataset.drop(['oil_5','usd_5','abev_5','jbs_5','petr_5','vale_5',],axis=1)\n",
    "test_labels = test_dataset.pop('ibova_5')\n"
   ]
  },
  {
   "cell_type": "markdown",
   "metadata": {},
   "source": [
    "# Inspecionando os dados"
   ]
  },
  {
   "cell_type": "code",
   "execution_count": null,
   "metadata": {},
   "outputs": [],
   "source": [
    "# sns.pairplot(train_dataset[['index','ibova_0','ibova_1','ibova_2','ibova_3','ibova_4','oil_0','oil_1','oil_2','oil_3','oil_4','usd_0','usd_1','usd_2','usd_3','usd_4']], diag_kind=\"kde\")\n",
    "# sns.pairplot(train_dataset[['index','ibova_0','oil_0','usd_0']], diag_kind=\"kde\")\n",
    "# sns.pairplot(train_dataset[['ibova_1','oil_1','usd_1']], diag_kind=\"kde\")\n",
    "\n",
    "train_stats = train_dataset.describe()\n",
    "# train_stats"
   ]
  },
  {
   "cell_type": "markdown",
   "metadata": {},
   "source": [
    "# Definindo o modelo"
   ]
  },
  {
   "cell_type": "code",
   "execution_count": null,
   "metadata": {},
   "outputs": [],
   "source": []
  },
  {
   "cell_type": "code",
   "execution_count": null,
   "metadata": {},
   "outputs": [],
   "source": [
    "# Create function\n",
    "def nn_cl_bo(neurons, activation, optimizer, learning_rate,  batch_size, epochs ):\n",
    "    optimizerL = ['SGD', 'Adam', 'RMSprop', 'Adadelta', 'Adagrad', 'Adamax', 'Nadam', 'Ftrl','SGD']\n",
    "    optimizerD= {'Adam':Adam(lr=learning_rate), 'SGD':SGD(lr=learning_rate),\n",
    "                 'RMSprop':RMSprop(lr=learning_rate), 'Adadelta':Adadelta(lr=learning_rate),\n",
    "                 'Adagrad':Adagrad(lr=learning_rate), 'Adamax':Adamax(lr=learning_rate),\n",
    "                 'Nadam':Nadam(lr=learning_rate), 'Ftrl':Ftrl(lr=learning_rate)}\n",
    "    activationL = ['relu', 'sigmoid', 'softplus', 'softsign', 'tanh', 'selu',\n",
    "                   'elu', 'exponential', LeakyReLU,'relu']\n",
    "    neurons = round(neurons)\n",
    "    activation = activationL[round(activation)]\n",
    "    batch_size = round(batch_size)\n",
    "    epochs = round(epochs)\n",
    "    def nn_cl_fun():\n",
    "        opt = Adam(lr = learning_rate)\n",
    "        nn = Sequential()\n",
    "        nn.add(Dense(neurons, input_dim=10, activation=activation))\n",
    "        nn.add(Dense(neurons, activation=activation))\n",
    "        nn.add(Dense(1, activation='sigmoid'))\n",
    "        nn.compile(loss='binary_crossentropy', optimizer=opt, metrics=['accuracy'])\n",
    "        return nn\n",
    "    es = EarlyStopping(monitor='accuracy', mode='max', verbose=0, patience=20)\n",
    "    nn = KerasClassifier(build_fn=nn_cl_fun, epochs=epochs, batch_size=batch_size,\n",
    "                         verbose=0)\n",
    "    kfold = StratifiedKFold(n_splits=5, shuffle=True, random_state=123)\n",
    "    score = cross_val_score(nn, X_train, y_train, scoring=score_acc, cv=kfold, fit_params={'callbacks':[es]}).mean()\n",
    "    return score"
   ]
  },
  {
   "cell_type": "code",
   "execution_count": 58,
   "metadata": {},
   "outputs": [],
   "source": [
    "def cnnpred_2d(seq_len=60, n_features=82, n_filters=(8,8,8), droprate=0.1):\n",
    "    \"2D-CNNpred model according to the paper\"\n",
    "    model = Sequential([\n",
    "        Input(shape=(seq_l,en, n_features, 1)),\n",
    "        Conv2D(n_filters[0], kernel_size=(1, n_features), activation=\"relu\"),\n",
    "        Conv2D(n_filters[1], kernel_size=(3,1), activation=\"relu\"),\n",
    "        MaxPool2D(pool_size=(2,1)),\n",
    "        Conv2D(n_filters[2], kernel_size=(3,1), activation=\"relu\"),\n",
    "        MaxPool2D(pool_size=(2,1)),\n",
    "        Flatten(),\n",
    "        Dropout(droprate),\n",
    "        Dense(1, activation=\"sigmoid\")\n",
    "    ])\n",
    "    return model\n",
    "\n",
    "def model_builder(hp):\n",
    "  hp_unit_1 = hp.Int('units', min_value=16, max_value=64, step=1)\n",
    "  hp_unit_2 = hp.Int('units', min_value=4, max_value=64, step=1)\n",
    "  hp_unit_3 = hp.Int('units', min_value=4, max_value=64, step=1)\n",
    "  hp_unit_4 = hp.Int('units', min_value=4, max_value=64, step=1)\n",
    "\n",
    "  model = keras.Sequential([\n",
    "    layers.Conv2D(units=hp_unit_1, activation='relu', input_shape=[len(train_dataset.keys())]),\n",
    "    layers.Dense(units=hp_unit_2, activation='relu'),\n",
    "    layers.Dense(units=hp_unit_3, activation='relu'),\n",
    "    layers.Dense(units=hp_unit_4, activation='relu'),\n",
    "    layers.Dense(units=1, activation='linear')\n",
    "  ])\n",
    "\n",
    "  hp_learning_rate = hp.Choice('learning_rate', values=[1e-2, 1e-3, 1e-4])\n",
    "\n",
    "  model.compile(optimizer=keras.optimizers.Adam(learning_rate=hp_learning_rate),\n",
    "                loss='mse',\n",
    "                metrics=['mae', 'mse'])\n",
    "\n",
    "  \n",
    "  return model\n",
    "\n",
    "\n",
    "# rmse pra avaliação, nao para loss\n"
   ]
  },
  {
   "cell_type": "code",
   "execution_count": 59,
   "metadata": {},
   "outputs": [
    {
     "name": "stdout",
     "output_type": "stream",
     "text": [
      "Model: \"sequential_4\"\n",
      "_________________________________________________________________\n",
      "Layer (type)                 Output Shape              Param #   \n",
      "=================================================================\n",
      "dense_20 (Dense)             (None, 44)                1628      \n",
      "_________________________________________________________________\n",
      "dense_21 (Dense)             (None, 44)                1980      \n",
      "_________________________________________________________________\n",
      "dense_22 (Dense)             (None, 44)                1980      \n",
      "_________________________________________________________________\n",
      "dense_23 (Dense)             (None, 44)                1980      \n",
      "_________________________________________________________________\n",
      "dense_24 (Dense)             (None, 1)                 45        \n",
      "=================================================================\n",
      "Total params: 7,613\n",
      "Trainable params: 7,613\n",
      "Non-trainable params: 0\n",
      "_________________________________________________________________\n"
     ]
    }
   ],
   "source": [
    "model.summary()"
   ]
  },
  {
   "cell_type": "markdown",
   "metadata": {},
   "source": [
    "# Instanciando Tuner\n",
    "\n",
    "https://colab.research.google.com/github/tensorflow/docs/blob/master/site/en/tutorials/keras/keras_tuner.ipynb#scrollTo=McO82AXOuxXh\n",
    "\n",
    "### extra hipertuner\n",
    "<!-- https://www.analyticsvidhya.com/blog/2021/05/tuning-the-hyperparameters-and-layers-of-neural-network-deep-learning/ -->"
   ]
  },
  {
   "cell_type": "code",
   "execution_count": 60,
   "metadata": {},
   "outputs": [
    {
     "name": "stdout",
     "output_type": "stream",
     "text": [
      "INFO:tensorflow:Reloading Oracle from existing project my_dir\\intro_to_kt\\oracle.json\n",
      "INFO:tensorflow:Reloading Tuner from my_dir\\intro_to_kt\\tuner0.json\n"
     ]
    }
   ],
   "source": [
    "tuner = kt.Hyperband(model_builder,\n",
    "                     objective='val_mse',\n",
    "                     max_epochs=10,\n",
    "                     factor=3,\n",
    "                     directory='logs',\n",
    "                     project_name='hyper_parameters')"
   ]
  },
  {
   "cell_type": "code",
   "execution_count": 62,
   "metadata": {},
   "outputs": [
    {
     "name": "stdout",
     "output_type": "stream",
     "text": [
      "INFO:tensorflow:Oracle triggered exit\n",
      "\n",
      "The hyperparameter search is complete. The optimal number of units in the first densely-connected\n",
      "layer is 44 and the optimal learning rate for the optimizer\n",
      "is 0.01.\n",
      "\n"
     ]
    }
   ],
   "source": [
    "# early_stop = keras.callbacks.EarlyStopping(\n",
    "#   monitor='val_mse', patience=50, mode='min' ,restore_best_weights=True)\n",
    "\t\n",
    "EPOCHS = 500\n",
    "\n",
    "tuner.search(train_dataset, train_labels, epochs=EPOCHS, validation_split=0.2, verbose=1)\n",
    "\n",
    "# Get the optimal hyperparameters\n",
    "best_hps=tuner.get_best_hyperparameters(num_trials=20)[0]\n",
    "\n",
    "print(f\"\"\"\n",
    "The hyperparameter search is complete. The optimal number of units in the first densely-connected\n",
    "layer is {best_hps.get('units')} and the optimal learning rate for the optimizer\n",
    "is {best_hps.get('learning_rate')}.\n",
    "\"\"\")"
   ]
  },
  {
   "cell_type": "markdown",
   "metadata": {},
   "source": [
    "# Selecionando a melhor epoca do modelo"
   ]
  },
  {
   "cell_type": "code",
   "execution_count": 42,
   "metadata": {},
   "outputs": [
    {
     "name": "stdout",
     "output_type": "stream",
     "text": [
      "Epoch 1/500\n",
      "36/36 [==============================] - 1s 14ms/step - loss: 91.7225 - mae: 3.8343 - mse: 91.7225 - val_loss: 0.2838 - val_mae: 0.4372 - val_mse: 0.2838\n",
      "Epoch 2/500\n",
      "36/36 [==============================] - 0s 6ms/step - loss: 0.3150 - mae: 0.4421 - mse: 0.3150 - val_loss: 0.7613 - val_mae: 0.7951 - val_mse: 0.7613\n",
      "Epoch 3/500\n",
      "36/36 [==============================] - 0s 5ms/step - loss: 0.4350 - mae: 0.4864 - mse: 0.4350 - val_loss: 0.5265 - val_mae: 0.6556 - val_mse: 0.5265\n",
      "Epoch 4/500\n",
      "36/36 [==============================] - 0s 5ms/step - loss: 0.7430 - mae: 0.5879 - mse: 0.7430 - val_loss: 3.3850 - val_mae: 1.8059 - val_mse: 3.3850\n",
      "Epoch 5/500\n",
      "36/36 [==============================] - 0s 5ms/step - loss: 0.2342 - mae: 0.3728 - mse: 0.2342 - val_loss: 0.0974 - val_mae: 0.2503 - val_mse: 0.0974\n",
      "Epoch 6/500\n",
      "36/36 [==============================] - 0s 5ms/step - loss: 0.0987 - mae: 0.2412 - mse: 0.0987 - val_loss: 0.5454 - val_mae: 0.6766 - val_mse: 0.5454\n",
      "Epoch 7/500\n",
      "36/36 [==============================] - 0s 5ms/step - loss: 0.1012 - mae: 0.2469 - mse: 0.1012 - val_loss: 0.0819 - val_mae: 0.2300 - val_mse: 0.0819\n",
      "Epoch 8/500\n",
      "36/36 [==============================] - 0s 5ms/step - loss: 0.1011 - mae: 0.2448 - mse: 0.1011 - val_loss: 0.1359 - val_mae: 0.2951 - val_mse: 0.1359\n",
      "Epoch 9/500\n",
      "36/36 [==============================] - 0s 5ms/step - loss: 0.0880 - mae: 0.2273 - mse: 0.0880 - val_loss: 0.2449 - val_mae: 0.4317 - val_mse: 0.2449\n",
      "Epoch 10/500\n",
      "36/36 [==============================] - 0s 7ms/step - loss: 0.1365 - mae: 0.2801 - mse: 0.1365 - val_loss: 0.1186 - val_mae: 0.2803 - val_mse: 0.1186\n",
      "Epoch 11/500\n",
      "36/36 [==============================] - 0s 7ms/step - loss: 0.1820 - mae: 0.3288 - mse: 0.1820 - val_loss: 0.7170 - val_mae: 0.8017 - val_mse: 0.7170\n",
      "Epoch 12/500\n",
      "36/36 [==============================] - 0s 7ms/step - loss: 0.1282 - mae: 0.2748 - mse: 0.1282 - val_loss: 0.0874 - val_mae: 0.2329 - val_mse: 0.0874\n",
      "Epoch 13/500\n",
      "36/36 [==============================] - 0s 5ms/step - loss: 0.0947 - mae: 0.2372 - mse: 0.0947 - val_loss: 0.0753 - val_mae: 0.2140 - val_mse: 0.0753\n",
      "Epoch 14/500\n",
      "36/36 [==============================] - 0s 5ms/step - loss: 0.4882 - mae: 0.5351 - mse: 0.4882 - val_loss: 2.5138 - val_mae: 1.5564 - val_mse: 2.5138\n",
      "Epoch 15/500\n",
      "36/36 [==============================] - 0s 6ms/step - loss: 0.2796 - mae: 0.4146 - mse: 0.2796 - val_loss: 0.3949 - val_mae: 0.5686 - val_mse: 0.3949\n",
      "Epoch 16/500\n",
      "36/36 [==============================] - 0s 6ms/step - loss: 0.1160 - mae: 0.2598 - mse: 0.1160 - val_loss: 0.3309 - val_mae: 0.5092 - val_mse: 0.3309\n",
      "Epoch 17/500\n",
      "36/36 [==============================] - 0s 5ms/step - loss: 0.1132 - mae: 0.2625 - mse: 0.1132 - val_loss: 0.2675 - val_mae: 0.4507 - val_mse: 0.2675\n",
      "Epoch 18/500\n",
      "36/36 [==============================] - 0s 4ms/step - loss: 0.1317 - mae: 0.2778 - mse: 0.1317 - val_loss: 0.3234 - val_mae: 0.5111 - val_mse: 0.3234\n",
      "Epoch 19/500\n",
      "36/36 [==============================] - 0s 5ms/step - loss: 0.1249 - mae: 0.2691 - mse: 0.1249 - val_loss: 0.6294 - val_mae: 0.7449 - val_mse: 0.6294\n",
      "Epoch 20/500\n",
      "36/36 [==============================] - 0s 5ms/step - loss: 0.1643 - mae: 0.3076 - mse: 0.1643 - val_loss: 0.2851 - val_mae: 0.4684 - val_mse: 0.2851\n",
      "Epoch 21/500\n",
      "36/36 [==============================] - 0s 5ms/step - loss: 1.2023 - mae: 0.6383 - mse: 1.2023 - val_loss: 11.4169 - val_mae: 3.3547 - val_mse: 11.4169\n",
      "Epoch 22/500\n",
      "36/36 [==============================] - 0s 4ms/step - loss: 0.4048 - mae: 0.4525 - mse: 0.4048 - val_loss: 0.1023 - val_mae: 0.2577 - val_mse: 0.1023\n",
      "Epoch 23/500\n",
      "36/36 [==============================] - 0s 6ms/step - loss: 0.0715 - mae: 0.2034 - mse: 0.0715 - val_loss: 0.0892 - val_mae: 0.2385 - val_mse: 0.0892\n",
      "Epoch 24/500\n",
      "36/36 [==============================] - 0s 5ms/step - loss: 0.0652 - mae: 0.1952 - mse: 0.0652 - val_loss: 0.0825 - val_mae: 0.2279 - val_mse: 0.0825\n",
      "Epoch 25/500\n",
      "36/36 [==============================] - 0s 6ms/step - loss: 0.0659 - mae: 0.1970 - mse: 0.0659 - val_loss: 0.1572 - val_mae: 0.3272 - val_mse: 0.1572\n",
      "Epoch 26/500\n",
      "36/36 [==============================] - 0s 4ms/step - loss: 0.0658 - mae: 0.1983 - mse: 0.0658 - val_loss: 0.1096 - val_mae: 0.2686 - val_mse: 0.1096\n",
      "Epoch 27/500\n",
      "36/36 [==============================] - 0s 6ms/step - loss: 0.0573 - mae: 0.1849 - mse: 0.0573 - val_loss: 0.0904 - val_mae: 0.2330 - val_mse: 0.0904\n",
      "Epoch 28/500\n",
      "36/36 [==============================] - 0s 5ms/step - loss: 0.0596 - mae: 0.1873 - mse: 0.0596 - val_loss: 0.0753 - val_mae: 0.2123 - val_mse: 0.0753\n",
      "Epoch 29/500\n",
      "36/36 [==============================] - 0s 6ms/step - loss: 0.0604 - mae: 0.1868 - mse: 0.0604 - val_loss: 0.0741 - val_mae: 0.2103 - val_mse: 0.0741\n",
      "Epoch 30/500\n",
      "36/36 [==============================] - 0s 5ms/step - loss: 0.0642 - mae: 0.1943 - mse: 0.0642 - val_loss: 0.0854 - val_mae: 0.2330 - val_mse: 0.0854\n",
      "Epoch 31/500\n",
      "36/36 [==============================] - 0s 5ms/step - loss: 0.0656 - mae: 0.1988 - mse: 0.0656 - val_loss: 0.0745 - val_mae: 0.2135 - val_mse: 0.0745\n",
      "Epoch 32/500\n",
      "36/36 [==============================] - 0s 6ms/step - loss: 0.0601 - mae: 0.1878 - mse: 0.0601 - val_loss: 0.1101 - val_mae: 0.2728 - val_mse: 0.1101\n",
      "Epoch 33/500\n",
      "36/36 [==============================] - 0s 7ms/step - loss: 0.0594 - mae: 0.1889 - mse: 0.0594 - val_loss: 0.1303 - val_mae: 0.2996 - val_mse: 0.1303\n",
      "Epoch 34/500\n",
      "36/36 [==============================] - 0s 7ms/step - loss: 0.0577 - mae: 0.1847 - mse: 0.0577 - val_loss: 0.1332 - val_mae: 0.2957 - val_mse: 0.1332\n",
      "Epoch 35/500\n",
      "36/36 [==============================] - 0s 8ms/step - loss: 0.0601 - mae: 0.1901 - mse: 0.0601 - val_loss: 0.0753 - val_mae: 0.2117 - val_mse: 0.0753\n",
      "Epoch 36/500\n",
      "36/36 [==============================] - 0s 7ms/step - loss: 0.0569 - mae: 0.1840 - mse: 0.0569 - val_loss: 0.1273 - val_mae: 0.2890 - val_mse: 0.1273\n",
      "Epoch 37/500\n",
      "36/36 [==============================] - 0s 6ms/step - loss: 0.0573 - mae: 0.1818 - mse: 0.0573 - val_loss: 0.0986 - val_mae: 0.2459 - val_mse: 0.0986\n",
      "Epoch 38/500\n",
      "36/36 [==============================] - 0s 6ms/step - loss: 0.0564 - mae: 0.1820 - mse: 0.0564 - val_loss: 0.0748 - val_mae: 0.2132 - val_mse: 0.0748\n",
      "Epoch 39/500\n",
      "36/36 [==============================] - 0s 5ms/step - loss: 0.0610 - mae: 0.1916 - mse: 0.0610 - val_loss: 0.1374 - val_mae: 0.3088 - val_mse: 0.1374\n",
      "Epoch 40/500\n",
      "36/36 [==============================] - 0s 6ms/step - loss: 0.0664 - mae: 0.2012 - mse: 0.0664 - val_loss: 0.0744 - val_mae: 0.2101 - val_mse: 0.0744\n",
      "Epoch 41/500\n",
      "36/36 [==============================] - 0s 5ms/step - loss: 0.0602 - mae: 0.1899 - mse: 0.0602 - val_loss: 0.0763 - val_mae: 0.2151 - val_mse: 0.0763\n",
      "Epoch 42/500\n",
      "36/36 [==============================] - 0s 6ms/step - loss: 0.0573 - mae: 0.1844 - mse: 0.0573 - val_loss: 0.1499 - val_mae: 0.3241 - val_mse: 0.1499\n",
      "Epoch 43/500\n",
      "36/36 [==============================] - 0s 6ms/step - loss: 0.0665 - mae: 0.1995 - mse: 0.0665 - val_loss: 0.1111 - val_mae: 0.2680 - val_mse: 0.1111\n",
      "Epoch 44/500\n",
      "36/36 [==============================] - 0s 6ms/step - loss: 0.0601 - mae: 0.1902 - mse: 0.0601 - val_loss: 0.1831 - val_mae: 0.3641 - val_mse: 0.1831\n",
      "Epoch 45/500\n",
      "36/36 [==============================] - 0s 5ms/step - loss: 0.0561 - mae: 0.1831 - mse: 0.0561 - val_loss: 0.1192 - val_mae: 0.2789 - val_mse: 0.1192\n",
      "Epoch 46/500\n",
      "36/36 [==============================] - 0s 6ms/step - loss: 0.0568 - mae: 0.1840 - mse: 0.0568 - val_loss: 0.0851 - val_mae: 0.2263 - val_mse: 0.0851\n",
      "Epoch 47/500\n",
      "36/36 [==============================] - 0s 6ms/step - loss: 0.0543 - mae: 0.1799 - mse: 0.0543 - val_loss: 0.0785 - val_mae: 0.2203 - val_mse: 0.0785\n",
      "Epoch 48/500\n",
      "36/36 [==============================] - 0s 6ms/step - loss: 0.0567 - mae: 0.1837 - mse: 0.0567 - val_loss: 0.0856 - val_mae: 0.2277 - val_mse: 0.0856\n",
      "Epoch 49/500\n",
      "36/36 [==============================] - 0s 7ms/step - loss: 0.0598 - mae: 0.1883 - mse: 0.0598 - val_loss: 0.1470 - val_mae: 0.3169 - val_mse: 0.1470\n",
      "Epoch 50/500\n",
      "36/36 [==============================] - 0s 10ms/step - loss: 0.0628 - mae: 0.1911 - mse: 0.0628 - val_loss: 0.0977 - val_mae: 0.2471 - val_mse: 0.0977\n",
      "Epoch 51/500\n",
      "36/36 [==============================] - ETA: 0s - loss: 0.0669 - mae: 0.1962 - mse: 0.066 - 0s 6ms/step - loss: 0.0651 - mae: 0.1967 - mse: 0.0651 - val_loss: 0.2562 - val_mae: 0.4453 - val_mse: 0.2562\n",
      "Epoch 52/500\n",
      "36/36 [==============================] - 0s 7ms/step - loss: 0.0576 - mae: 0.1847 - mse: 0.0576 - val_loss: 0.0717 - val_mae: 0.2080 - val_mse: 0.0717\n",
      "Epoch 53/500\n",
      "36/36 [==============================] - 0s 6ms/step - loss: 0.0541 - mae: 0.1780 - mse: 0.0541 - val_loss: 0.0759 - val_mae: 0.2127 - val_mse: 0.0759\n",
      "Epoch 54/500\n",
      "36/36 [==============================] - 0s 6ms/step - loss: 0.0593 - mae: 0.1884 - mse: 0.0593 - val_loss: 0.0725 - val_mae: 0.2091 - val_mse: 0.0725\n",
      "Epoch 55/500\n",
      "36/36 [==============================] - 0s 10ms/step - loss: 0.0531 - mae: 0.1770 - mse: 0.0531 - val_loss: 0.0857 - val_mae: 0.2277 - val_mse: 0.0857\n",
      "Epoch 56/500\n",
      "36/36 [==============================] - 0s 5ms/step - loss: 0.0567 - mae: 0.1835 - mse: 0.0567 - val_loss: 0.0892 - val_mae: 0.2384 - val_mse: 0.0892\n",
      "Epoch 57/500\n",
      "36/36 [==============================] - 0s 5ms/step - loss: 0.0534 - mae: 0.1777 - mse: 0.0534 - val_loss: 0.0784 - val_mae: 0.2163 - val_mse: 0.0784\n",
      "Epoch 58/500\n",
      "36/36 [==============================] - 0s 5ms/step - loss: 0.0538 - mae: 0.1772 - mse: 0.0538 - val_loss: 0.0747 - val_mae: 0.2114 - val_mse: 0.0747\n",
      "Epoch 59/500\n",
      "36/36 [==============================] - 0s 12ms/step - loss: 0.0567 - mae: 0.1823 - mse: 0.0567 - val_loss: 0.0737 - val_mae: 0.2101 - val_mse: 0.0737\n",
      "Epoch 60/500\n",
      "36/36 [==============================] - 0s 5ms/step - loss: 0.0546 - mae: 0.1782 - mse: 0.0546 - val_loss: 0.0836 - val_mae: 0.2295 - val_mse: 0.0836\n",
      "Epoch 61/500\n",
      "36/36 [==============================] - 0s 5ms/step - loss: 0.0599 - mae: 0.1870 - mse: 0.0599 - val_loss: 0.1507 - val_mae: 0.3254 - val_mse: 0.1507\n",
      "Epoch 62/500\n",
      "36/36 [==============================] - 0s 6ms/step - loss: 0.0658 - mae: 0.1980 - mse: 0.0658 - val_loss: 0.0738 - val_mae: 0.2092 - val_mse: 0.0738\n",
      "Epoch 63/500\n",
      "36/36 [==============================] - 0s 5ms/step - loss: 0.0538 - mae: 0.1794 - mse: 0.0538 - val_loss: 0.0766 - val_mae: 0.2150 - val_mse: 0.0766\n",
      "Epoch 64/500\n",
      "36/36 [==============================] - 0s 7ms/step - loss: 0.0553 - mae: 0.1819 - mse: 0.0553 - val_loss: 0.0772 - val_mae: 0.2179 - val_mse: 0.0772\n",
      "Epoch 65/500\n",
      "36/36 [==============================] - 0s 7ms/step - loss: 0.0555 - mae: 0.1799 - mse: 0.0555 - val_loss: 0.0767 - val_mae: 0.2179 - val_mse: 0.0767\n",
      "Epoch 66/500\n",
      "36/36 [==============================] - 0s 6ms/step - loss: 0.0697 - mae: 0.2035 - mse: 0.0697 - val_loss: 0.0819 - val_mae: 0.2251 - val_mse: 0.0819\n",
      "Epoch 67/500\n",
      "36/36 [==============================] - 0s 6ms/step - loss: 0.0597 - mae: 0.1880 - mse: 0.0597 - val_loss: 0.1324 - val_mae: 0.2986 - val_mse: 0.1324\n",
      "Epoch 68/500\n",
      "36/36 [==============================] - 0s 7ms/step - loss: 0.0541 - mae: 0.1788 - mse: 0.0541 - val_loss: 0.1159 - val_mae: 0.2763 - val_mse: 0.1159\n",
      "Epoch 69/500\n",
      "36/36 [==============================] - 0s 6ms/step - loss: 0.0546 - mae: 0.1806 - mse: 0.0546 - val_loss: 0.0762 - val_mae: 0.2145 - val_mse: 0.0762\n",
      "Epoch 70/500\n",
      "36/36 [==============================] - 0s 4ms/step - loss: 0.0536 - mae: 0.1785 - mse: 0.0536 - val_loss: 0.0733 - val_mae: 0.2102 - val_mse: 0.0733\n",
      "Epoch 71/500\n",
      "36/36 [==============================] - 0s 4ms/step - loss: 0.0562 - mae: 0.1818 - mse: 0.0562 - val_loss: 0.0740 - val_mae: 0.2138 - val_mse: 0.0740\n",
      "Epoch 72/500\n",
      "36/36 [==============================] - 0s 5ms/step - loss: 0.0534 - mae: 0.1792 - mse: 0.0534 - val_loss: 0.0753 - val_mae: 0.2123 - val_mse: 0.0753\n",
      "Epoch 73/500\n",
      "36/36 [==============================] - 0s 7ms/step - loss: 0.0577 - mae: 0.1828 - mse: 0.0577 - val_loss: 0.1149 - val_mae: 0.2743 - val_mse: 0.1149\n",
      "Epoch 74/500\n",
      "36/36 [==============================] - 0s 7ms/step - loss: 0.0613 - mae: 0.1881 - mse: 0.0613 - val_loss: 0.1556 - val_mae: 0.3333 - val_mse: 0.1556\n",
      "Epoch 75/500\n",
      "36/36 [==============================] - 0s 7ms/step - loss: 0.0535 - mae: 0.1779 - mse: 0.0535 - val_loss: 0.0993 - val_mae: 0.2562 - val_mse: 0.0993\n",
      "Epoch 76/500\n",
      "36/36 [==============================] - 0s 5ms/step - loss: 0.0538 - mae: 0.1791 - mse: 0.0538 - val_loss: 0.0815 - val_mae: 0.2257 - val_mse: 0.0815\n",
      "Epoch 77/500\n",
      "36/36 [==============================] - 0s 6ms/step - loss: 0.0525 - mae: 0.1779 - mse: 0.0525 - val_loss: 0.0734 - val_mae: 0.2104 - val_mse: 0.0734\n",
      "Epoch 78/500\n",
      "36/36 [==============================] - 0s 5ms/step - loss: 0.0549 - mae: 0.1787 - mse: 0.0549 - val_loss: 0.0856 - val_mae: 0.2274 - val_mse: 0.0856\n",
      "Epoch 79/500\n",
      "36/36 [==============================] - 0s 6ms/step - loss: 0.0539 - mae: 0.1795 - mse: 0.0539 - val_loss: 0.0765 - val_mae: 0.2163 - val_mse: 0.0765\n",
      "Epoch 80/500\n",
      "36/36 [==============================] - 0s 5ms/step - loss: 0.0521 - mae: 0.1751 - mse: 0.0521 - val_loss: 0.0869 - val_mae: 0.2348 - val_mse: 0.0869\n",
      "Epoch 81/500\n",
      "36/36 [==============================] - 0s 7ms/step - loss: 0.0557 - mae: 0.1809 - mse: 0.0557 - val_loss: 0.0741 - val_mae: 0.2136 - val_mse: 0.0741\n",
      "Epoch 82/500\n",
      "36/36 [==============================] - 0s 6ms/step - loss: 0.0528 - mae: 0.1762 - mse: 0.0528 - val_loss: 0.0748 - val_mae: 0.2139 - val_mse: 0.0748\n",
      "Epoch 83/500\n",
      "36/36 [==============================] - 0s 6ms/step - loss: 0.0525 - mae: 0.1752 - mse: 0.0525 - val_loss: 0.0786 - val_mae: 0.2168 - val_mse: 0.0786\n",
      "Epoch 84/500\n",
      "36/36 [==============================] - 0s 6ms/step - loss: 0.0574 - mae: 0.1844 - mse: 0.0574 - val_loss: 0.0928 - val_mae: 0.2391 - val_mse: 0.0928\n",
      "Epoch 85/500\n",
      "36/36 [==============================] - 0s 5ms/step - loss: 0.0616 - mae: 0.1914 - mse: 0.0616 - val_loss: 0.1425 - val_mae: 0.3168 - val_mse: 0.1425\n",
      "Epoch 86/500\n",
      "36/36 [==============================] - 0s 5ms/step - loss: 0.0561 - mae: 0.1831 - mse: 0.0561 - val_loss: 0.0801 - val_mae: 0.2237 - val_mse: 0.0801\n",
      "Epoch 87/500\n",
      "36/36 [==============================] - 0s 5ms/step - loss: 0.0588 - mae: 0.1852 - mse: 0.0588 - val_loss: 0.0756 - val_mae: 0.2151 - val_mse: 0.0756\n",
      "Epoch 88/500\n",
      "36/36 [==============================] - 0s 4ms/step - loss: 0.0537 - mae: 0.1763 - mse: 0.0537 - val_loss: 0.0796 - val_mae: 0.2236 - val_mse: 0.0796\n",
      "Epoch 89/500\n",
      "36/36 [==============================] - 0s 5ms/step - loss: 0.0524 - mae: 0.1738 - mse: 0.0524 - val_loss: 0.0731 - val_mae: 0.2095 - val_mse: 0.0731\n",
      "Epoch 90/500\n",
      "36/36 [==============================] - 0s 6ms/step - loss: 0.0503 - mae: 0.1716 - mse: 0.0503 - val_loss: 0.1365 - val_mae: 0.3105 - val_mse: 0.1365\n",
      "Epoch 91/500\n",
      "36/36 [==============================] - 0s 5ms/step - loss: 0.0597 - mae: 0.1880 - mse: 0.0597 - val_loss: 0.0822 - val_mae: 0.2221 - val_mse: 0.0822\n",
      "Epoch 92/500\n",
      "36/36 [==============================] - 0s 6ms/step - loss: 0.0511 - mae: 0.1727 - mse: 0.0511 - val_loss: 0.0947 - val_mae: 0.2429 - val_mse: 0.0947\n",
      "Epoch 93/500\n",
      "36/36 [==============================] - 0s 5ms/step - loss: 0.0592 - mae: 0.1882 - mse: 0.0592 - val_loss: 0.0717 - val_mae: 0.2044 - val_mse: 0.0717\n",
      "Epoch 94/500\n",
      "36/36 [==============================] - 0s 7ms/step - loss: 0.0527 - mae: 0.1775 - mse: 0.0527 - val_loss: 0.0781 - val_mae: 0.2188 - val_mse: 0.0781\n",
      "Epoch 95/500\n",
      "36/36 [==============================] - 0s 4ms/step - loss: 0.0506 - mae: 0.1717 - mse: 0.0506 - val_loss: 0.0730 - val_mae: 0.2067 - val_mse: 0.0730\n",
      "Epoch 96/500\n",
      "36/36 [==============================] - 0s 5ms/step - loss: 0.0551 - mae: 0.1812 - mse: 0.0551 - val_loss: 0.0715 - val_mae: 0.2072 - val_mse: 0.0715\n",
      "Epoch 97/500\n",
      "36/36 [==============================] - 0s 7ms/step - loss: 0.0535 - mae: 0.1785 - mse: 0.0535 - val_loss: 0.0755 - val_mae: 0.2154 - val_mse: 0.0755\n",
      "Epoch 98/500\n",
      "36/36 [==============================] - 0s 5ms/step - loss: 0.0523 - mae: 0.1760 - mse: 0.0523 - val_loss: 0.0790 - val_mae: 0.2223 - val_mse: 0.0790\n",
      "Epoch 99/500\n",
      "36/36 [==============================] - 0s 5ms/step - loss: 0.0595 - mae: 0.1848 - mse: 0.0595 - val_loss: 0.1200 - val_mae: 0.2881 - val_mse: 0.1200\n",
      "Epoch 100/500\n",
      "36/36 [==============================] - 0s 5ms/step - loss: 0.0554 - mae: 0.1804 - mse: 0.0554 - val_loss: 0.0737 - val_mae: 0.2087 - val_mse: 0.0737\n",
      "Epoch 101/500\n",
      "36/36 [==============================] - 0s 4ms/step - loss: 0.0542 - mae: 0.1789 - mse: 0.0542 - val_loss: 0.1061 - val_mae: 0.2611 - val_mse: 0.1061\n",
      "Epoch 102/500\n",
      "36/36 [==============================] - 0s 6ms/step - loss: 0.0525 - mae: 0.1752 - mse: 0.0525 - val_loss: 0.0900 - val_mae: 0.2409 - val_mse: 0.0900\n",
      "Epoch 103/500\n",
      "36/36 [==============================] - 0s 4ms/step - loss: 0.0546 - mae: 0.1793 - mse: 0.0546 - val_loss: 0.1689 - val_mae: 0.3436 - val_mse: 0.1689\n",
      "Epoch 104/500\n",
      "36/36 [==============================] - 0s 5ms/step - loss: 0.0538 - mae: 0.1767 - mse: 0.0538 - val_loss: 0.0792 - val_mae: 0.2230 - val_mse: 0.0792\n",
      "Epoch 105/500\n",
      "36/36 [==============================] - 0s 5ms/step - loss: 0.0516 - mae: 0.1747 - mse: 0.0516 - val_loss: 0.0749 - val_mae: 0.2134 - val_mse: 0.0749\n",
      "Epoch 106/500\n",
      "36/36 [==============================] - 0s 6ms/step - loss: 0.0501 - mae: 0.1719 - mse: 0.0501 - val_loss: 0.0727 - val_mae: 0.2086 - val_mse: 0.0727\n",
      "Epoch 107/500\n",
      "36/36 [==============================] - 0s 5ms/step - loss: 0.0502 - mae: 0.1723 - mse: 0.0502 - val_loss: 0.0953 - val_mae: 0.2489 - val_mse: 0.0953\n",
      "Epoch 108/500\n",
      "36/36 [==============================] - 0s 7ms/step - loss: 0.0605 - mae: 0.1885 - mse: 0.0605 - val_loss: 0.1737 - val_mae: 0.3550 - val_mse: 0.1737\n",
      "Epoch 109/500\n",
      "36/36 [==============================] - 0s 6ms/step - loss: 0.0583 - mae: 0.1876 - mse: 0.0583 - val_loss: 0.0920 - val_mae: 0.2431 - val_mse: 0.0920\n",
      "Epoch 110/500\n",
      "36/36 [==============================] - 0s 5ms/step - loss: 0.0534 - mae: 0.1749 - mse: 0.0534 - val_loss: 0.0771 - val_mae: 0.2199 - val_mse: 0.0771\n",
      "Epoch 111/500\n",
      "36/36 [==============================] - 0s 5ms/step - loss: 0.0519 - mae: 0.1754 - mse: 0.0519 - val_loss: 0.0698 - val_mae: 0.2042 - val_mse: 0.0698\n",
      "Epoch 112/500\n",
      "36/36 [==============================] - 0s 12ms/step - loss: 0.0749 - mae: 0.1995 - mse: 0.0749 - val_loss: 0.2074 - val_mae: 0.3848 - val_mse: 0.2074\n",
      "Epoch 113/500\n",
      "36/36 [==============================] - 0s 6ms/step - loss: 0.0680 - mae: 0.1990 - mse: 0.0680 - val_loss: 0.0719 - val_mae: 0.2091 - val_mse: 0.0719\n",
      "Epoch 114/500\n",
      "36/36 [==============================] - 0s 11ms/step - loss: 0.0763 - mae: 0.2110 - mse: 0.0763 - val_loss: 0.1167 - val_mae: 0.2730 - val_mse: 0.1167\n",
      "Epoch 115/500\n",
      "36/36 [==============================] - 0s 5ms/step - loss: 0.0683 - mae: 0.1995 - mse: 0.0683 - val_loss: 0.1050 - val_mae: 0.2607 - val_mse: 0.1050\n",
      "Epoch 116/500\n",
      "36/36 [==============================] - 0s 10ms/step - loss: 0.0571 - mae: 0.1833 - mse: 0.0571 - val_loss: 0.0714 - val_mae: 0.2049 - val_mse: 0.0714\n",
      "Epoch 117/500\n",
      "36/36 [==============================] - 0s 6ms/step - loss: 0.0571 - mae: 0.1832 - mse: 0.0571 - val_loss: 0.1415 - val_mae: 0.3153 - val_mse: 0.1415\n",
      "Epoch 118/500\n",
      "36/36 [==============================] - 0s 6ms/step - loss: 0.0568 - mae: 0.1849 - mse: 0.0568 - val_loss: 0.1060 - val_mae: 0.2606 - val_mse: 0.1060\n",
      "Epoch 119/500\n",
      "36/36 [==============================] - 0s 5ms/step - loss: 0.0538 - mae: 0.1792 - mse: 0.0538 - val_loss: 0.0940 - val_mae: 0.2439 - val_mse: 0.0940\n",
      "Epoch 120/500\n",
      "36/36 [==============================] - 0s 5ms/step - loss: 0.0625 - mae: 0.1946 - mse: 0.0625 - val_loss: 0.1459 - val_mae: 0.3208 - val_mse: 0.1459\n",
      "Epoch 121/500\n",
      "36/36 [==============================] - 0s 6ms/step - loss: 0.0573 - mae: 0.1833 - mse: 0.0573 - val_loss: 0.0778 - val_mae: 0.2148 - val_mse: 0.0778\n",
      "Epoch 122/500\n",
      "36/36 [==============================] - 0s 6ms/step - loss: 0.0632 - mae: 0.1939 - mse: 0.0632 - val_loss: 0.0820 - val_mae: 0.2217 - val_mse: 0.0820\n",
      "Epoch 123/500\n",
      "36/36 [==============================] - 0s 5ms/step - loss: 0.0567 - mae: 0.1818 - mse: 0.0567 - val_loss: 0.1260 - val_mae: 0.2941 - val_mse: 0.1260\n",
      "Epoch 124/500\n",
      "36/36 [==============================] - 0s 5ms/step - loss: 0.0576 - mae: 0.1849 - mse: 0.0576 - val_loss: 0.1094 - val_mae: 0.2671 - val_mse: 0.1094\n",
      "Epoch 125/500\n",
      "36/36 [==============================] - 0s 7ms/step - loss: 0.0549 - mae: 0.1806 - mse: 0.0549 - val_loss: 0.1054 - val_mae: 0.2611 - val_mse: 0.1054\n",
      "Epoch 126/500\n",
      "36/36 [==============================] - 0s 5ms/step - loss: 0.0532 - mae: 0.1770 - mse: 0.0532 - val_loss: 0.0805 - val_mae: 0.2235 - val_mse: 0.0805\n",
      "Epoch 127/500\n",
      "36/36 [==============================] - 0s 4ms/step - loss: 0.0502 - mae: 0.1717 - mse: 0.0502 - val_loss: 0.0816 - val_mae: 0.2186 - val_mse: 0.0816\n",
      "Epoch 128/500\n",
      "36/36 [==============================] - 0s 6ms/step - loss: 0.0554 - mae: 0.1798 - mse: 0.0554 - val_loss: 0.0778 - val_mae: 0.2164 - val_mse: 0.0778\n",
      "Epoch 129/500\n",
      "36/36 [==============================] - 0s 6ms/step - loss: 0.0584 - mae: 0.1854 - mse: 0.0584 - val_loss: 0.1076 - val_mae: 0.2633 - val_mse: 0.1076\n",
      "Epoch 130/500\n",
      "36/36 [==============================] - 0s 5ms/step - loss: 0.0539 - mae: 0.1795 - mse: 0.0539 - val_loss: 0.2948 - val_mae: 0.4797 - val_mse: 0.2948\n",
      "Epoch 131/500\n",
      "36/36 [==============================] - 0s 9ms/step - loss: 0.0798 - mae: 0.2147 - mse: 0.0798 - val_loss: 0.1234 - val_mae: 0.2869 - val_mse: 0.1234\n",
      "Epoch 132/500\n",
      "36/36 [==============================] - 0s 7ms/step - loss: 0.0588 - mae: 0.1854 - mse: 0.0588 - val_loss: 0.0775 - val_mae: 0.2194 - val_mse: 0.0775\n",
      "Epoch 133/500\n",
      "36/36 [==============================] - 0s 7ms/step - loss: 0.0506 - mae: 0.1716 - mse: 0.0506 - val_loss: 0.0716 - val_mae: 0.2083 - val_mse: 0.0716\n",
      "Epoch 134/500\n",
      "36/36 [==============================] - 0s 5ms/step - loss: 0.0504 - mae: 0.1726 - mse: 0.0504 - val_loss: 0.1011 - val_mae: 0.2584 - val_mse: 0.1011\n",
      "Epoch 135/500\n",
      "36/36 [==============================] - 0s 4ms/step - loss: 0.0500 - mae: 0.1716 - mse: 0.0500 - val_loss: 0.0814 - val_mae: 0.2220 - val_mse: 0.0814\n",
      "Epoch 136/500\n",
      "36/36 [==============================] - 0s 6ms/step - loss: 0.0501 - mae: 0.1722 - mse: 0.0501 - val_loss: 0.0724 - val_mae: 0.2100 - val_mse: 0.0724\n",
      "Epoch 137/500\n",
      "36/36 [==============================] - 0s 6ms/step - loss: 0.0510 - mae: 0.1731 - mse: 0.0510 - val_loss: 0.0711 - val_mae: 0.2057 - val_mse: 0.0711\n",
      "Epoch 138/500\n",
      "36/36 [==============================] - 0s 6ms/step - loss: 0.0589 - mae: 0.1865 - mse: 0.0589 - val_loss: 0.1651 - val_mae: 0.3437 - val_mse: 0.1651\n",
      "Epoch 139/500\n",
      "36/36 [==============================] - 0s 5ms/step - loss: 0.0518 - mae: 0.1738 - mse: 0.0518 - val_loss: 0.0776 - val_mae: 0.2193 - val_mse: 0.0776\n",
      "Epoch 140/500\n",
      "36/36 [==============================] - 0s 4ms/step - loss: 0.0633 - mae: 0.1947 - mse: 0.0633 - val_loss: 0.0721 - val_mae: 0.2090 - val_mse: 0.0721\n",
      "Epoch 141/500\n",
      "36/36 [==============================] - 0s 6ms/step - loss: 0.0535 - mae: 0.1778 - mse: 0.0535 - val_loss: 0.0895 - val_mae: 0.2394 - val_mse: 0.0895\n",
      "Epoch 142/500\n",
      "36/36 [==============================] - 0s 7ms/step - loss: 0.0516 - mae: 0.1759 - mse: 0.0516 - val_loss: 0.0696 - val_mae: 0.2030 - val_mse: 0.0696\n",
      "Epoch 143/500\n",
      "36/36 [==============================] - 0s 6ms/step - loss: 0.0536 - mae: 0.1781 - mse: 0.0536 - val_loss: 0.1110 - val_mae: 0.2739 - val_mse: 0.1110\n",
      "Epoch 144/500\n",
      "36/36 [==============================] - 0s 8ms/step - loss: 0.0658 - mae: 0.1983 - mse: 0.0658 - val_loss: 0.0944 - val_mae: 0.2435 - val_mse: 0.0944\n",
      "Epoch 145/500\n",
      "36/36 [==============================] - 0s 7ms/step - loss: 0.0548 - mae: 0.1770 - mse: 0.0548 - val_loss: 0.0974 - val_mae: 0.2532 - val_mse: 0.0974\n",
      "Epoch 146/500\n",
      "36/36 [==============================] - 0s 4ms/step - loss: 0.0549 - mae: 0.1784 - mse: 0.0549 - val_loss: 0.0749 - val_mae: 0.2114 - val_mse: 0.0749\n",
      "Epoch 147/500\n",
      "36/36 [==============================] - 0s 7ms/step - loss: 0.0731 - mae: 0.2061 - mse: 0.0731 - val_loss: 0.1669 - val_mae: 0.3482 - val_mse: 0.1669\n",
      "Epoch 148/500\n",
      "36/36 [==============================] - 0s 5ms/step - loss: 0.0560 - mae: 0.1812 - mse: 0.0560 - val_loss: 0.0987 - val_mae: 0.2574 - val_mse: 0.0987\n",
      "Epoch 149/500\n",
      "36/36 [==============================] - 0s 5ms/step - loss: 0.2631 - mae: 0.3034 - mse: 0.2631 - val_loss: 0.4399 - val_mae: 0.5255 - val_mse: 0.4399\n",
      "Epoch 150/500\n",
      "36/36 [==============================] - 0s 6ms/step - loss: 0.2203 - mae: 0.3694 - mse: 0.2203 - val_loss: 0.2914 - val_mae: 0.4367 - val_mse: 0.2914\n",
      "Epoch 151/500\n",
      "36/36 [==============================] - 0s 5ms/step - loss: 0.1908 - mae: 0.3376 - mse: 0.1908 - val_loss: 0.3186 - val_mae: 0.4452 - val_mse: 0.3186\n",
      "Epoch 152/500\n",
      "36/36 [==============================] - ETA: 0s - loss: 18.7737 - mae: 2.3344 - mse: 18.7737ETA: 0s - loss: 21.9297 - mae: 1.6647 - mse: 21.9 - 0s 8ms/step - loss: 15.8262 - mae: 2.0499 - mse: 15.8262 - val_loss: 0.8642 - val_mae: 0.7875 - val_mse: 0.8642\n",
      "Epoch 153/500\n",
      "36/36 [==============================] - 0s 5ms/step - loss: 0.1615 - mae: 0.3104 - mse: 0.1615 - val_loss: 0.1398 - val_mae: 0.2972 - val_mse: 0.1398\n",
      "Epoch 154/500\n",
      "36/36 [==============================] - 0s 7ms/step - loss: 0.1190 - mae: 0.2613 - mse: 0.1190 - val_loss: 0.2576 - val_mae: 0.4354 - val_mse: 0.2576\n",
      "Epoch 155/500\n",
      "36/36 [==============================] - 0s 5ms/step - loss: 0.1058 - mae: 0.2450 - mse: 0.1058 - val_loss: 0.1345 - val_mae: 0.2896 - val_mse: 0.1345\n",
      "Epoch 156/500\n",
      "36/36 [==============================] - 0s 6ms/step - loss: 0.0881 - mae: 0.2241 - mse: 0.0881 - val_loss: 0.1303 - val_mae: 0.2827 - val_mse: 0.1303\n",
      "Epoch 157/500\n",
      "36/36 [==============================] - 0s 5ms/step - loss: 0.0975 - mae: 0.2372 - mse: 0.0975 - val_loss: 0.3392 - val_mae: 0.5164 - val_mse: 0.3392\n",
      "Epoch 158/500\n",
      "36/36 [==============================] - 0s 4ms/step - loss: 0.1284 - mae: 0.2763 - mse: 0.1284 - val_loss: 0.3872 - val_mae: 0.5128 - val_mse: 0.3872\n",
      "Epoch 159/500\n",
      "36/36 [==============================] - 0s 4ms/step - loss: 0.1116 - mae: 0.2476 - mse: 0.1116 - val_loss: 0.2802 - val_mae: 0.4615 - val_mse: 0.2802\n",
      "Epoch 160/500\n",
      "36/36 [==============================] - 0s 6ms/step - loss: 0.0993 - mae: 0.2388 - mse: 0.0993 - val_loss: 0.0931 - val_mae: 0.2388 - val_mse: 0.0931\n",
      "Epoch 161/500\n",
      "36/36 [==============================] - 0s 6ms/step - loss: 0.0990 - mae: 0.2374 - mse: 0.0990 - val_loss: 0.1243 - val_mae: 0.2832 - val_mse: 0.1243\n",
      "Epoch 162/500\n",
      "36/36 [==============================] - 0s 6ms/step - loss: 0.0945 - mae: 0.2328 - mse: 0.0945 - val_loss: 0.0932 - val_mae: 0.2424 - val_mse: 0.0932\n",
      "Epoch 163/500\n",
      "36/36 [==============================] - 0s 4ms/step - loss: 0.0826 - mae: 0.2176 - mse: 0.0826 - val_loss: 0.1118 - val_mae: 0.2662 - val_mse: 0.1118\n",
      "Epoch 164/500\n",
      "36/36 [==============================] - 0s 5ms/step - loss: 0.0905 - mae: 0.2289 - mse: 0.0905 - val_loss: 0.1695 - val_mae: 0.3398 - val_mse: 0.1695\n",
      "Epoch 165/500\n",
      "36/36 [==============================] - 0s 4ms/step - loss: 0.1095 - mae: 0.2552 - mse: 0.1095 - val_loss: 0.0988 - val_mae: 0.2504 - val_mse: 0.0988\n",
      "Epoch 166/500\n",
      "36/36 [==============================] - 0s 4ms/step - loss: 0.0887 - mae: 0.2214 - mse: 0.0887 - val_loss: 0.0988 - val_mae: 0.2455 - val_mse: 0.0988\n",
      "Epoch 167/500\n",
      "36/36 [==============================] - 0s 4ms/step - loss: 0.0938 - mae: 0.2334 - mse: 0.0938 - val_loss: 0.1128 - val_mae: 0.2687 - val_mse: 0.1128\n",
      "Epoch 168/500\n",
      "36/36 [==============================] - 0s 3ms/step - loss: 0.1819 - mae: 0.3152 - mse: 0.1819 - val_loss: 0.5630 - val_mae: 0.6559 - val_mse: 0.5630\n",
      "Epoch 169/500\n",
      "36/36 [==============================] - 0s 3ms/step - loss: 0.8644 - mae: 0.6379 - mse: 0.8644 - val_loss: 0.5061 - val_mae: 0.5276 - val_mse: 0.5061\n",
      "Epoch 170/500\n",
      "36/36 [==============================] - 0s 3ms/step - loss: 0.2262 - mae: 0.3751 - mse: 0.2262 - val_loss: 0.3497 - val_mae: 0.4636 - val_mse: 0.3497\n",
      "Epoch 171/500\n",
      "36/36 [==============================] - 0s 4ms/step - loss: 0.2084 - mae: 0.3586 - mse: 0.2084 - val_loss: 0.3313 - val_mae: 0.4527 - val_mse: 0.3313\n",
      "Epoch 172/500\n",
      "36/36 [==============================] - 0s 4ms/step - loss: 0.2055 - mae: 0.3557 - mse: 0.2055 - val_loss: 0.3245 - val_mae: 0.4488 - val_mse: 0.3245\n",
      "Epoch 173/500\n",
      "36/36 [==============================] - 0s 4ms/step - loss: 0.2047 - mae: 0.3548 - mse: 0.2047 - val_loss: 0.3213 - val_mae: 0.4468 - val_mse: 0.3213\n",
      "Epoch 174/500\n",
      "36/36 [==============================] - 0s 6ms/step - loss: 0.2071 - mae: 0.3570 - mse: 0.2071 - val_loss: 0.3228 - val_mae: 0.4477 - val_mse: 0.3228\n",
      "Epoch 175/500\n",
      "36/36 [==============================] - 0s 3ms/step - loss: 0.2097 - mae: 0.3616 - mse: 0.2097 - val_loss: 0.3223 - val_mae: 0.4474 - val_mse: 0.3223\n",
      "Epoch 176/500\n",
      "36/36 [==============================] - 0s 4ms/step - loss: 0.2100 - mae: 0.3619 - mse: 0.2100 - val_loss: 0.3190 - val_mae: 0.4455 - val_mse: 0.3190\n",
      "Epoch 177/500\n",
      "36/36 [==============================] - 0s 4ms/step - loss: 0.2099 - mae: 0.3620 - mse: 0.2099 - val_loss: 0.3174 - val_mae: 0.4446 - val_mse: 0.3174\n",
      "Epoch 178/500\n",
      "36/36 [==============================] - 0s 4ms/step - loss: 0.2099 - mae: 0.3620 - mse: 0.2099 - val_loss: 0.3175 - val_mae: 0.4447 - val_mse: 0.3175\n",
      "Epoch 179/500\n",
      "36/36 [==============================] - 0s 4ms/step - loss: 0.2099 - mae: 0.3621 - mse: 0.2099 - val_loss: 0.3164 - val_mae: 0.4441 - val_mse: 0.3164\n",
      "Epoch 180/500\n",
      "36/36 [==============================] - 0s 3ms/step - loss: 0.2099 - mae: 0.3619 - mse: 0.2099 - val_loss: 0.3180 - val_mae: 0.4449 - val_mse: 0.3180\n",
      "Epoch 181/500\n",
      "36/36 [==============================] - 0s 5ms/step - loss: 0.2100 - mae: 0.3622 - mse: 0.2100 - val_loss: 0.3174 - val_mae: 0.4446 - val_mse: 0.3174\n",
      "Epoch 182/500\n",
      "36/36 [==============================] - 0s 4ms/step - loss: 0.2099 - mae: 0.3621 - mse: 0.2099 - val_loss: 0.3167 - val_mae: 0.4442 - val_mse: 0.3167\n",
      "Epoch 183/500\n",
      "36/36 [==============================] - 0s 3ms/step - loss: 0.2101 - mae: 0.3621 - mse: 0.2101 - val_loss: 0.3182 - val_mae: 0.4450 - val_mse: 0.3182\n",
      "Epoch 184/500\n",
      "36/36 [==============================] - 0s 8ms/step - loss: 0.2100 - mae: 0.3622 - mse: 0.2100 - val_loss: 0.3167 - val_mae: 0.4442 - val_mse: 0.3167\n",
      "Epoch 185/500\n",
      "36/36 [==============================] - 0s 4ms/step - loss: 0.2101 - mae: 0.3620 - mse: 0.2101 - val_loss: 0.3186 - val_mae: 0.4452 - val_mse: 0.3186\n",
      "Epoch 186/500\n",
      "36/36 [==============================] - 0s 4ms/step - loss: 0.2099 - mae: 0.3621 - mse: 0.2099 - val_loss: 0.3164 - val_mae: 0.4441 - val_mse: 0.3164\n",
      "Epoch 187/500\n",
      "36/36 [==============================] - 0s 4ms/step - loss: 0.2100 - mae: 0.3623 - mse: 0.2100 - val_loss: 0.3164 - val_mae: 0.4441 - val_mse: 0.3164\n",
      "Epoch 188/500\n",
      "36/36 [==============================] - 0s 3ms/step - loss: 0.2101 - mae: 0.3621 - mse: 0.2101 - val_loss: 0.3186 - val_mae: 0.4452 - val_mse: 0.3186\n",
      "Epoch 189/500\n",
      "36/36 [==============================] - 0s 5ms/step - loss: 0.2099 - mae: 0.3620 - mse: 0.2099 - val_loss: 0.3166 - val_mae: 0.4442 - val_mse: 0.3166\n",
      "Epoch 190/500\n",
      "36/36 [==============================] - 0s 7ms/step - loss: 0.2100 - mae: 0.3621 - mse: 0.2100 - val_loss: 0.3173 - val_mae: 0.4446 - val_mse: 0.3173\n",
      "Epoch 191/500\n",
      "36/36 [==============================] - 0s 4ms/step - loss: 0.2100 - mae: 0.3621 - mse: 0.2100 - val_loss: 0.3179 - val_mae: 0.4448 - val_mse: 0.3179\n",
      "Epoch 192/500\n",
      "36/36 [==============================] - 0s 3ms/step - loss: 0.2099 - mae: 0.3620 - mse: 0.2099 - val_loss: 0.3168 - val_mae: 0.4443 - val_mse: 0.3168\n",
      "Best epoch: 142\n"
     ]
    }
   ],
   "source": [
    "# Build the model with the optimal hyperparameters and train it on the data for 50 epochs\n",
    "\n",
    "\n",
    "model = tuner.hypermodel.build(best_hps)\n",
    "history = model.fit(train_dataset, train_labels, epochs=EPOCHS, validation_split=0.2, verbose=1)\n",
    "\n",
    "# Select the best epoch\n",
    "val_mse_per_epoch = history.history['val_mse']\n",
    "best_epoch = val_mse_per_epoch.index(min(val_mse_per_epoch)) + 1\n",
    "\n",
    "print('Best epoch: %d' % (best_epoch,))\n"
   ]
  },
  {
   "cell_type": "markdown",
   "metadata": {},
   "source": [
    "# Treinando modelo"
   ]
  },
  {
   "cell_type": "code",
   "execution_count": 37,
   "metadata": {},
   "outputs": [
    {
     "name": "stdout",
     "output_type": "stream",
     "text": [
      "Epoch 1/13\n",
      "36/36 [==============================] - 1s 16ms/step - loss: 225.4082 - mae: 5.3892 - mse: 225.4082 - val_loss: 0.4839 - val_mae: 0.5701 - val_mse: 0.4839\n",
      "Epoch 2/13\n",
      "36/36 [==============================] - 0s 6ms/step - loss: 0.2400 - mae: 0.3862 - mse: 0.2400 - val_loss: 0.6685 - val_mae: 0.6812 - val_mse: 0.6685\n",
      "Epoch 3/13\n",
      "36/36 [==============================] - 0s 4ms/step - loss: 0.2270 - mae: 0.3766 - mse: 0.2270 - val_loss: 0.3009 - val_mae: 0.4349 - val_mse: 0.3009\n",
      "Epoch 4/13\n",
      "36/36 [==============================] - 0s 4ms/step - loss: 0.2125 - mae: 0.3622 - mse: 0.2125 - val_loss: 0.2940 - val_mae: 0.4303 - val_mse: 0.2940\n",
      "Epoch 5/13\n",
      "36/36 [==============================] - 0s 4ms/step - loss: 0.2295 - mae: 0.3749 - mse: 0.2295 - val_loss: 0.2954 - val_mae: 0.4317 - val_mse: 0.2954\n",
      "Epoch 6/13\n",
      "36/36 [==============================] - 0s 5ms/step - loss: 0.2297 - mae: 0.3795 - mse: 0.2297 - val_loss: 0.3085 - val_mae: 0.4396 - val_mse: 0.3085\n",
      "Epoch 7/13\n",
      "36/36 [==============================] - 0s 4ms/step - loss: 0.2152 - mae: 0.3644 - mse: 0.2152 - val_loss: 0.3191 - val_mae: 0.4473 - val_mse: 0.3191\n",
      "Epoch 8/13\n",
      "36/36 [==============================] - 0s 3ms/step - loss: 0.2070 - mae: 0.3584 - mse: 0.2070 - val_loss: 0.3158 - val_mae: 0.4437 - val_mse: 0.3158\n",
      "Epoch 9/13\n",
      "36/36 [==============================] - 0s 4ms/step - loss: 0.2059 - mae: 0.3576 - mse: 0.2059 - val_loss: 0.3198 - val_mae: 0.4459 - val_mse: 0.3198\n"
     ]
    }
   ],
   "source": [
    "hypermodel = tuner.hypermodel.build(best_hps)\n",
    "history = hypermodel.fit(train_dataset, train_labels, epochs=best_epoch, validation_split=0.2, verbose=1)\n"
   ]
  },
  {
   "cell_type": "code",
   "execution_count": 38,
   "metadata": {},
   "outputs": [
    {
     "name": "stdout",
     "output_type": "stream",
     "text": [
      "15/15 [==============================] - 0s 2ms/step - loss: 0.4652 - mae: 0.4281 - mse: 0.4652\n",
      "[test loss, test accuracy]: [0.4652468264102936, 0.4281114339828491, 0.4652468264102936]\n"
     ]
    }
   ],
   "source": [
    "eval_result = hypermodel.evaluate(test_dataset, test_labels)\n",
    "print(\"[test loss, test accuracy]:\", eval_result)"
   ]
  },
  {
   "cell_type": "markdown",
   "metadata": {},
   "source": [
    "# Avaliando o modelo"
   ]
  },
  {
   "cell_type": "code",
   "execution_count": null,
   "metadata": {},
   "outputs": [],
   "source": [
    "# print(f'train_dataset: {train_dataset.columns()} \\n')\n",
    "# print(f'valid_dataset: {valid_dataset.columns()} \\n')\n",
    "# print(f'test_dataset: {test_dataset.columns()} \\n')"
   ]
  },
  {
   "cell_type": "code",
   "execution_count": 29,
   "metadata": {},
   "outputs": [
    {
     "data": {
      "text/html": [
       "<div>\n",
       "<style scoped>\n",
       "    .dataframe tbody tr th:only-of-type {\n",
       "        vertical-align: middle;\n",
       "    }\n",
       "\n",
       "    .dataframe tbody tr th {\n",
       "        vertical-align: top;\n",
       "    }\n",
       "\n",
       "    .dataframe thead th {\n",
       "        text-align: right;\n",
       "    }\n",
       "</style>\n",
       "<table border=\"1\" class=\"dataframe\">\n",
       "  <thead>\n",
       "    <tr style=\"text-align: right;\">\n",
       "      <th></th>\n",
       "      <th>loss</th>\n",
       "      <th>mae</th>\n",
       "      <th>mse</th>\n",
       "      <th>val_loss</th>\n",
       "      <th>val_mae</th>\n",
       "      <th>val_mse</th>\n",
       "      <th>epoch</th>\n",
       "    </tr>\n",
       "  </thead>\n",
       "  <tbody>\n",
       "    <tr>\n",
       "      <th>0</th>\n",
       "      <td>166.980042</td>\n",
       "      <td>5.030573</td>\n",
       "      <td>166.980042</td>\n",
       "      <td>26.591406</td>\n",
       "      <td>5.12968</td>\n",
       "      <td>26.591406</td>\n",
       "      <td>0</td>\n",
       "    </tr>\n",
       "  </tbody>\n",
       "</table>\n",
       "</div>"
      ],
      "text/plain": [
       "         loss       mae         mse   val_loss  val_mae    val_mse  epoch\n",
       "0  166.980042  5.030573  166.980042  26.591406  5.12968  26.591406      0"
      ]
     },
     "execution_count": 29,
     "metadata": {},
     "output_type": "execute_result"
    }
   ],
   "source": [
    "hist = pd.DataFrame(history.history)\n",
    "hist['epoch'] = history.epoch\n",
    "hist.tail()"
   ]
  },
  {
   "cell_type": "code",
   "execution_count": 39,
   "metadata": {},
   "outputs": [
    {
     "name": "stdout",
     "output_type": "stream",
     "text": [
      "Min MSE: 166.98004150390625\n",
      "Min Val_MSE: 26.591405868530273\n"
     ]
    }
   ],
   "source": [
    "print(f'Min MSE: {hist.mse.min()}')\n",
    "print(f'Min Val_MSE: {hist.val_mse.min()}')"
   ]
  },
  {
   "cell_type": "code",
   "execution_count": 40,
   "metadata": {},
   "outputs": [
    {
     "data": {
      "image/png": "[encoded data removed]",
      "text/plain": [
       "<Figure size 432x288 with 1 Axes>"
      ]
     },
     "metadata": {
      "needs_background": "light"
     },
     "output_type": "display_data"
    },
    {
     "data": {
      "image/png": "[encoded data removed]",
      "text/plain": [
       "<Figure size 432x288 with 1 Axes>"
      ]
     },
     "metadata": {
      "needs_background": "light"
     },
     "output_type": "display_data"
    }
   ],
   "source": [
    "def plot_history(history):\n",
    "  hist = pd.DataFrame(history.history)\n",
    "  hist['epoch'] = history.epoch\n",
    "\n",
    "  plt.figure()\n",
    "  plt.xlabel('Epoch')\n",
    "  plt.ylabel('Mean Abs Error [ibova_0]')\n",
    "  plt.plot(hist['epoch'], hist['mae'],label='Train Error')\n",
    "  plt.plot(hist['epoch'], hist['val_mae'],label = 'Val Error')\n",
    "  plt.ylim([0,5])\n",
    "  plt.legend()\n",
    "\n",
    "  plt.figure()\n",
    "  plt.xlabel('Epoch')\n",
    "  plt.ylabel('Mean Square Error [$ibova_0^2$]')\n",
    "  plt.plot(hist['epoch'], hist['mse'],label='Train Error')\n",
    "  plt.plot(hist['epoch'], hist['val_mse'],label = 'Val Error')\n",
    "  plt.ylim([0,20])\n",
    "  plt.legend()\n",
    "  plt.show()\n",
    "\n",
    "\n",
    "plot_history(history)"
   ]
  },
  {
   "cell_type": "code",
   "execution_count": null,
   "metadata": {},
   "outputs": [],
   "source": [
    "model = build_model()\n",
    "\n",
    "# O parâmetro patience é o quantidade de epochs para checar as melhoras\n",
    "early_stop = keras.callbacks.EarlyStopping(\n",
    "  monitor='val_mse', patience=25, mode='min' ,restore_best_weights=True)\n",
    "\n",
    "history = model.fit(train_dataset, train_labels, epochs=EPOCHS,\n",
    "                    validation_split = 0.2, verbose=1, callbacks=[early_stop, tensorboard_callback])\n",
    "\n",
    "# Mudar os dados de validação\n",
    "\n",
    "plot_history(history)"
   ]
  },
  {
   "cell_type": "code",
   "execution_count": null,
   "metadata": {},
   "outputs": [],
   "source": [
    "loss, mae, mse = model.evaluate(test_dataset, test_labels, verbose=2)\n",
    "\n",
    "print(f\"Testing set Mean Abs Error: {mse:5.2f} ibova_0\")"
   ]
  },
  {
   "cell_type": "markdown",
   "metadata": {},
   "source": [
    "# Realizando as previsões"
   ]
  },
  {
   "cell_type": "code",
   "execution_count": null,
   "metadata": {},
   "outputs": [],
   "source": [
    "test_predictions = model.predict(test_dataset).flatten()"
   ]
  },
  {
   "cell_type": "markdown",
   "metadata": {},
   "source": [
    "# Avaliando as previsões:"
   ]
  },
  {
   "cell_type": "code",
   "execution_count": null,
   "metadata": {},
   "outputs": [],
   "source": [
    "def show_test_labels():\n",
    "\t# Imprimindo valores reais\n",
    "\tplt.plot(test_labels, color ='r', label='ibova_REAL')\n",
    "\tplt.xlabel(\"Dates\")\n",
    "\tplt.ylabel(\"Variation ROC\")\n",
    "\tplt.title(\"ibova_REAL\")\n",
    "\tplt.legend()\n",
    "\n",
    "def show_model_predictions():\n",
    "\t# Imprimindo previsoes\n",
    "\tplt.plot(test_predictions, color ='g', label='predictions_MODEL')\n",
    "\tplt.xlabel(\"Dates\")\n",
    "\tplt.ylabel(\"Variation ROC\")\n",
    "\tplt.title(\"predictions_MODEL\")\n",
    "\tplt.legend()\n",
    "\n",
    "def show_compare_graph():\n",
    "\t# Predictt X Real values\n",
    "\tplt.plot(test_labels, color ='r', label='ibova_REAL')\n",
    "\tplt.plot(test_predictions, color ='g', label='predictions_MODEL')\n",
    "\tplt.xlabel(\"Dates\")\n",
    "\tplt.ylabel(\"Variation ROC\")\n",
    "\tplt.title(\"Predict X Real values\")\n",
    "\tplt.legend()\n",
    "\tplt.show()\n",
    "\n",
    "def show_true_predict_values():\n",
    "\tplt.figure(figsize=(24,4))\n",
    "\tplt.scatter(test_labels, test_predictions)\n",
    "\tplt.xlabel('True Values [ibova_0]')\n",
    "\tplt.ylabel('Predictions [ibova_0]')\n",
    "\tplt.axis('equal')\n",
    "\tplt.axis('square')\n",
    "\tplt.xlim([0,plt.xlim()[1]])\n",
    "\tplt.ylim([0,plt.ylim()[1]])\n",
    "\t_ = plt.plot([-100, 100], [-100, 100])"
   ]
  },
  {
   "cell_type": "code",
   "execution_count": null,
   "metadata": {},
   "outputs": [],
   "source": [
    "show_compare_graph()"
   ]
  },
  {
   "cell_type": "code",
   "execution_count": null,
   "metadata": {},
   "outputs": [],
   "source": [
    "show_model_predictions()"
   ]
  },
  {
   "cell_type": "code",
   "execution_count": null,
   "metadata": {},
   "outputs": [],
   "source": [
    "# Analisando Medias:\n",
    "\n",
    "print(f'Massa de predição: {test_predictions.mean()}')\n",
    "print(f'Massa inicial: {ibova_test.mean()}')\n",
    "print(f'Diferenças das médias: {ibova_test.mean() - test_predictions.mean()}')\n",
    "\n",
    "# Add o RM_MSE medio"
   ]
  },
  {
   "cell_type": "code",
   "execution_count": null,
   "metadata": {},
   "outputs": [],
   "source": [
    "# test_dataset"
   ]
  }
 ],
 "metadata": {
  "kernelspec": {
   "display_name": "Python 3.8.12 ('pystock')",
   "language": "python",
   "name": "python3"
  },
  "language_info": {
   "codemirror_mode": {
    "name": "ipython",
    "version": 3
   },
   "file_extension": ".py",
   "mimetype": "text/x-python",
   "name": "python",
   "nbconvert_exporter": "python",
   "pygments_lexer": "ipython3",
   "version": "3.8.13"
  },
  "orig_nbformat": 4,
  "vscode": {
   "interpreter": {
    "hash": "bc0c8eb905859abd75b389576d87e2ac71c748b72952270660ecc130aeb3e651"
   }
  }
 },
 "nbformat": 4,
 "nbformat_minor": 2
}
