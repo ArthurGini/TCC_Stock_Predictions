{
 "cells": [
  {
   "cell_type": "code",
   "execution_count": 57,
   "metadata": {},
   "outputs": [
    {
     "data": {
      "application/javascript": "\n            setTimeout(function() {\n                var nbb_cell_id = 57;\n                var nbb_unformatted_code = \"# Usei como base esse tutorial:\\n# https://colab.research.google.com/github/tensorflow/docs-l10n/blob/master/site/pt-br/tutorials/keras/regression.ipynb#scrollTo=f-OHX4DiXd8x\\n\\n\\n# Ja li tudo\\n# https://boostedml.com/2020/04/1-d-convolutional-neural-networks-for-time-series-basic-intuition.html\\n\\n# How do I use make a convolutional layer for tabular (1-D) features?\\n# https://stackoverflow.com/questions/59756806/tensorflow-how-do-i-use-make-a-convolutional-layer-for-tabular-1-d-features\\n\\n# TODO: Fiquei de verificar:\\n# https://machinelearningmastery.com/cnn-models-for-human-activity-recognition-time-series-classification/\";\n                var nbb_formatted_code = \"# Usei como base esse tutorial:\\n# https://colab.research.google.com/github/tensorflow/docs-l10n/blob/master/site/pt-br/tutorials/keras/regression.ipynb#scrollTo=f-OHX4DiXd8x\\n\\n\\n# Ja li tudo\\n# https://boostedml.com/2020/04/1-d-convolutional-neural-networks-for-time-series-basic-intuition.html\\n\\n# How do I use make a convolutional layer for tabular (1-D) features?\\n# https://stackoverflow.com/questions/59756806/tensorflow-how-do-i-use-make-a-convolutional-layer-for-tabular-1-d-features\\n\\n# TODO: Fiquei de verificar:\\n# https://machinelearningmastery.com/cnn-models-for-human-activity-recognition-time-series-classification/\";\n                var nbb_cells = Jupyter.notebook.get_cells();\n                for (var i = 0; i < nbb_cells.length; ++i) {\n                    if (nbb_cells[i].input_prompt_number == nbb_cell_id) {\n                        if (nbb_cells[i].get_text() == nbb_unformatted_code) {\n                             nbb_cells[i].set_text(nbb_formatted_code);\n                        }\n                        break;\n                    }\n                }\n            }, 500);\n            ",
      "text/plain": [
       "<IPython.core.display.Javascript object>"
      ]
     },
     "metadata": {},
     "output_type": "display_data"
    }
   ],
   "source": [
    "# Usei como base esse tutorial:\n",
    "# https://colab.research.google.com/github/tensorflow/docs-l10n/blob/master/site/pt-br/tutorials/keras/regression.ipynb#scrollTo=f-OHX4DiXd8x\n",
    "\n",
    "\n",
    "# Ja li tudo\n",
    "# https://boostedml.com/2020/04/1-d-convolutional-neural-networks-for-time-series-basic-intuition.html\n",
    "\n",
    "# How do I use make a convolutional layer for tabular (1-D) features?\n",
    "# https://stackoverflow.com/questions/59756806/tensorflow-how-do-i-use-make-a-convolutional-layer-for-tabular-1-d-features\n",
    "\n",
    "# TODO: Fiquei de verificar:\n",
    "# https://machinelearningmastery.com/cnn-models-for-human-activity-recognition-time-series-classification/"
   ]
  },
  {
   "cell_type": "code",
   "execution_count": 58,
   "metadata": {},
   "outputs": [
    {
     "data": {
      "application/javascript": "\n            setTimeout(function() {\n                var nbb_cell_id = 58;\n                var nbb_unformatted_code = \"# # # # Clear logs\\n# # # %rm -rf ./logs/\\n\\n# # # Ativa\\u00e7\\u00e3o do Tensorboard\\n# %conda activate pystock\\n# %load_ext tensorboard\\n\\n# # # Reload Tensorboar\\n# %reload_ext tensorboard\";\n                var nbb_formatted_code = \"# # # # Clear logs\\n# # # %rm -rf ./logs/\\n\\n# # # Ativa\\u00e7\\u00e3o do Tensorboard\\n# %conda activate pystock\\n# %load_ext tensorboard\\n\\n# # # Reload Tensorboar\\n# %reload_ext tensorboard\";\n                var nbb_cells = Jupyter.notebook.get_cells();\n                for (var i = 0; i < nbb_cells.length; ++i) {\n                    if (nbb_cells[i].input_prompt_number == nbb_cell_id) {\n                        if (nbb_cells[i].get_text() == nbb_unformatted_code) {\n                             nbb_cells[i].set_text(nbb_formatted_code);\n                        }\n                        break;\n                    }\n                }\n            }, 500);\n            ",
      "text/plain": [
       "<IPython.core.display.Javascript object>"
      ]
     },
     "metadata": {},
     "output_type": "display_data"
    }
   ],
   "source": [
    "# # # # Clear logs\n",
    "# # # %rm -rf ./logs/\n",
    "\n",
    "# # # Ativação do Tensorboard\n",
    "# %conda activate pystock\n",
    "# %load_ext tensorboard\n",
    "\n",
    "# # # Reload Tensorboar\n",
    "# %reload_ext tensorboard"
   ]
  },
  {
   "cell_type": "code",
   "execution_count": 59,
   "metadata": {},
   "outputs": [
    {
     "data": {
      "application/javascript": "\n            setTimeout(function() {\n                var nbb_cell_id = 59;\n                var nbb_unformatted_code = \"# # # Reload Tensorboar\\n# %reload_ext tensorboa\";\n                var nbb_formatted_code = \"# # # Reload Tensorboar\\n# %reload_ext tensorboa\";\n                var nbb_cells = Jupyter.notebook.get_cells();\n                for (var i = 0; i < nbb_cells.length; ++i) {\n                    if (nbb_cells[i].input_prompt_number == nbb_cell_id) {\n                        if (nbb_cells[i].get_text() == nbb_unformatted_code) {\n                             nbb_cells[i].set_text(nbb_formatted_code);\n                        }\n                        break;\n                    }\n                }\n            }, 500);\n            ",
      "text/plain": [
       "<IPython.core.display.Javascript object>"
      ]
     },
     "metadata": {},
     "output_type": "display_data"
    }
   ],
   "source": [
    "# # # Reload Tensorboar\n",
    "# %reload_ext tensorboa"
   ]
  },
  {
   "cell_type": "code",
   "execution_count": 60,
   "metadata": {},
   "outputs": [
    {
     "name": "stdout",
     "output_type": "stream",
     "text": [
      "The nb_black extension is already loaded. To reload it, use:\n",
      "  %reload_ext nb_black\n",
      "The lab_black extension is already loaded. To reload it, use:\n",
      "  %reload_ext lab_black\n"
     ]
    },
    {
     "data": {
      "application/javascript": "\n            setTimeout(function() {\n                var nbb_cell_id = 60;\n                var nbb_unformatted_code = \"%load_ext nb_black\\n%load_ext lab_black\";\n                var nbb_formatted_code = \"%load_ext nb_black\\n%load_ext lab_black\";\n                var nbb_cells = Jupyter.notebook.get_cells();\n                for (var i = 0; i < nbb_cells.length; ++i) {\n                    if (nbb_cells[i].input_prompt_number == nbb_cell_id) {\n                        if (nbb_cells[i].get_text() == nbb_unformatted_code) {\n                             nbb_cells[i].set_text(nbb_formatted_code);\n                        }\n                        break;\n                    }\n                }\n            }, 500);\n            ",
      "text/plain": [
       "<IPython.core.display.Javascript object>"
      ]
     },
     "metadata": {},
     "output_type": "display_data"
    }
   ],
   "source": [
    "%load_ext nb_black\n",
    "%load_ext lab_black"
   ]
  },
  {
   "cell_type": "markdown",
   "metadata": {},
   "source": [
    "# Sequential model\n",
    "\n",
    "*Dense model 16*\n",
    "*Dense model 16*\n",
    "*Dense model 8*\n",
    "*Dense model 4*\n",
    "*Epoch 350*\n",
    "\n",
    "_MSE: 1.31_\n",
    "epoch: 350\n",
    "\n",
    "Activation: softplus\n",
    "Optimizer: Adam\n",
    "\n",
    "15/15 - 0s - loss: 0.6325 - mae: 0.5830 - mse: 0.6325\n",
    "Testing set Mean Abs Error:  0.58 ibova_0"
   ]
  },
  {
   "cell_type": "code",
   "execution_count": 1,
   "metadata": {},
   "outputs": [],
   "source": [
    "import pathlib\n",
    "import datetime\n",
    "\n",
    "import matplotlib.pyplot as plt\n",
    "import pandas as pd\n",
    "import seaborn as sns\n",
    "\n",
    "import tensorflow as tf\n",
    "import datetime\n",
    "\n",
    "from tensorflow import keras\n",
    "from tensorflow.keras import layers\n",
    "\n",
    "from keras.callbacks import ModelCheckpoint\n",
    "import keras_tuner as kt"
   ]
  },
  {
   "cell_type": "markdown",
   "metadata": {},
   "source": [
    "# Lendo Dfs"
   ]
  },
  {
   "cell_type": "code",
   "execution_count": 2,
   "metadata": {},
   "outputs": [],
   "source": [
    "# 60%\n",
    "PATH_TREINO = \"../Data/3_Gold/Treino_all_stocks.csv\"\n",
    "DF_TREINO = pd.read_csv(PATH_TREINO, sep=\",\")\n",
    "train_dataset = DF_TREINO\n",
    "train_dataset = train_dataset.drop(\n",
    "    [\n",
    "        \"oil_5\",\n",
    "        \"usd_5\",\n",
    "        \"abev_5\",\n",
    "        \"jbs_5\",\n",
    "        \"petr_5\",\n",
    "        \"vale_5\",\n",
    "    ],\n",
    "    axis=1,\n",
    ")\n",
    "train_labels = train_dataset.pop(\"ibova_5\")\n",
    "\n",
    "# 20%\n",
    "PATH_VALIDACAO = \"../Data/3_Gold/Validacao_all_stocks.csv\"\n",
    "DF_VALIDACAO = pd.read_csv(PATH_VALIDACAO, sep=\",\")\n",
    "valid_dataset = DF_VALIDACAO\n",
    "valid_dataset = valid_dataset.drop(\n",
    "    [\n",
    "        \"ibova_5\",\n",
    "        \"oil_5\",\n",
    "        \"usd_5\",\n",
    "        \"abev_5\",\n",
    "        \"jbs_5\",\n",
    "        \"petr_5\",\n",
    "        \"vale_5\",\n",
    "    ],\n",
    "    axis=1,\n",
    ")\n",
    "# valid_labels = valid_dataset.pop('ibova_5')\n",
    "\n",
    "# 20%\n",
    "PATH_TESTE = \"../Data/3_Gold/Teste_all_stocks.csv\"\n",
    "DF_TESTE = pd.read_csv(PATH_TESTE, sep=\",\")\n",
    "test_dataset = DF_TESTE\n",
    "test_dataset = test_dataset.drop(\n",
    "    [\n",
    "        \"oil_5\",\n",
    "        \"usd_5\",\n",
    "        \"abev_5\",\n",
    "        \"jbs_5\",\n",
    "        \"petr_5\",\n",
    "        \"vale_5\",\n",
    "    ],\n",
    "    axis=1,\n",
    ")\n",
    "test_labels = test_dataset.pop(\"ibova_5\")"
   ]
  },
  {
   "cell_type": "code",
   "execution_count": 3,
   "metadata": {},
   "outputs": [],
   "source": [
    "# Tentando criar um conjunti de validação pra input no modelo\n",
    "\n",
    "# val_dataset = tf.data.Dataset.from_tensor_slices(('ibova_0', '*'))\n",
    "\n",
    "# valid_dataset.ibova_0\n",
    "\n",
    "# Pesquisar:\n",
    "# \tvarias colunas to series em pandas"
   ]
  },
  {
   "cell_type": "code",
   "execution_count": 4,
   "metadata": {},
   "outputs": [],
   "source": [
    "# index,\n",
    "# ibova_0,ibova_1,ibova_2,ibova_3,ibova_4,ibova_5,\n",
    "# oil_0,oil_1,oil_2,oil_3,oil_4,oil_5,usd_0,\n",
    "# usd_1,usd_2,usd_3,usd_4,usd_5,\n",
    "# abev_0,abev_1,abev_2,abev_3,abev_4,abev_5,\n",
    "# jbs_0,jbs_1,jbs_2,jbs_3,jbs_4,jbs_5,\n",
    "# petr_0,petr_1,petr_2,petr_3,petr_4,petr_5,\n",
    "# vale_0,vale_1,vale_2,vale_3,vale_4,vale_5"
   ]
  },
  {
   "cell_type": "markdown",
   "metadata": {},
   "source": [
    "# Inspecionando os dados"
   ]
  },
  {
   "cell_type": "code",
   "execution_count": 5,
   "metadata": {},
   "outputs": [],
   "source": [
    "# sns.pairplot(train_dataset[['index','ibova_0','ibova_1','ibova_2','ibova_3','ibova_4','oil_0','oil_1','oil_2','oil_3','oil_4','usd_0','usd_1','usd_2','usd_3','usd_4']], diag_kind=\"kde\")\n",
    "# sns.pairplot(train_dataset[['index','ibova_0','oil_0','usd_0']], diag_kind=\"kde\")\n",
    "# sns.pairplot(train_dataset[['ibova_1','oil_1','usd_1']], diag_kind=\"kde\")\n",
    "\n",
    "train_stats = train_dataset.describe()\n",
    "# train_stats"
   ]
  },
  {
   "cell_type": "markdown",
   "metadata": {},
   "source": [
    "# Definindo o modelo"
   ]
  },
  {
   "cell_type": "code",
   "execution_count": 6,
   "metadata": {},
   "outputs": [],
   "source": [
    "def model_builder(hp):\n",
    "    hp_filter_1 = hp.Int(\"n_filter_1\", min_value=4, max_value=16, step=1)\n",
    "    hp_kernel_size_1 = hp.Int(\"kernel_size_1\", min_value=1, max_value=15, step=2) #precisa ser impar\n",
    "    \n",
    "    activationL = [\n",
    "        \"relu\",\n",
    "        # \"sigmoid\",\n",
    "        # \"softplus\",\n",
    "        # \"softsign\",\n",
    "        # \"tanh\",\n",
    "        \"selu\",\n",
    "        \"elu\",\n",
    "        \"exponential\",\n",
    "    ]\n",
    "    activation_choice = hp.Choice(\"activation\", values=activationL)\n",
    "    hp_learning_rate = hp.Choice(\"learning_rate\", values=[1e-2, 1e-3, 1e-4])\n",
    "\n",
    "    model = keras.Sequential(\n",
    "        [\n",
    "            tf.keras.layers.Conv1D(\n",
    "                input_shape=[len(train_dataset.keys()), 1],\n",
    "                filters=hp_filter_1,\n",
    "                kernel_size=hp_kernel_size_1,\n",
    "                activation=activation_choice, #overkill - relu ou elu \n",
    "            ),\n",
    "            tf.keras.layers.Flatten(),\n",
    "            # tf.keras.layers.Pooling(),\n",
    "            # tf.keras.layers.GlobalAvegarePolling(),\n",
    "            # tf.keras.layers.GlobalMaxPolling(), # reduz a quantidade de pesos\n",
    "            # https://keras.io/api/layers/pooling_layers/global_max_pooling1d/\n",
    "            tf.keras.layers.Dense(units=1, activation=\"linear\"),\n",
    "        ]\n",
    "    )\n",
    "\n",
    "    model.compile(\n",
    "        optimizer=keras.optimizers.Adam(learning_rate=hp_learning_rate),\n",
    "        loss=\"mse\",\n",
    "        metrics=[\"mae\", \"mse\"],\n",
    "    )\n",
    "\n",
    "    return model\n",
    "\n",
    "\n",
    "# rmse pra avaliação, nao para loss"
   ]
  },
  {
   "cell_type": "markdown",
   "metadata": {},
   "source": [
    "# Instanciando Tuner\n",
    "\n",
    "https://colab.research.google.com/github/tensorflow/docs/blob/master/site/en/tutorials/keras/keras_tuner.ipynb#scrollTo=McO82AXOuxXh"
   ]
  },
  {
   "cell_type": "code",
   "execution_count": 68,
   "metadata": {},
   "outputs": [
    {
     "data": {
      "application/javascript": "\n            setTimeout(function() {\n                var nbb_cell_id = 68;\n                var nbb_unformatted_code = \"# early_stop = keras.callbacks.EarlyStopping(\\n#   monitor='val_mse', patience=50, mode='min' ,restore_best_weights=True)\\n\\n\\n# history = tuner.search(\\n#     train_dataset,\\n#     train_labels,\\n#     epochs=EPOCHS,\\n#     validation_split=0.2,\\n#     verbose=0,\\n#     # callbacks=([model_checkpoint]),\\n# )\\n\\n# Get the optimal hyperparameters\";\n                var nbb_formatted_code = \"# early_stop = keras.callbacks.EarlyStopping(\\n#   monitor='val_mse', patience=50, mode='min' ,restore_best_weights=True)\\n\\n\\n# history = tuner.search(\\n#     train_dataset,\\n#     train_labels,\\n#     epochs=EPOCHS,\\n#     validation_split=0.2,\\n#     verbose=0,\\n#     # callbacks=([model_checkpoint]),\\n# )\\n\\n# Get the optimal hyperparameters\";\n                var nbb_cells = Jupyter.notebook.get_cells();\n                for (var i = 0; i < nbb_cells.length; ++i) {\n                    if (nbb_cells[i].input_prompt_number == nbb_cell_id) {\n                        if (nbb_cells[i].get_text() == nbb_unformatted_code) {\n                             nbb_cells[i].set_text(nbb_formatted_code);\n                        }\n                        break;\n                    }\n                }\n            }, 500);\n            ",
      "text/plain": [
       "<IPython.core.display.Javascript object>"
      ]
     },
     "metadata": {},
     "output_type": "display_data"
    }
   ],
   "source": [
    "# early_stop = keras.callbacks.EarlyStopping(\n",
    "#   monitor='val_mse', patience=50, mode='min' ,restore_best_weights=True)\n",
    "\n",
    "\n",
    "# history = tuner.search(\n",
    "#     train_dataset,\n",
    "#     train_labels,\n",
    "#     epochs=EPOCHS,\n",
    "#     validation_split=0.2,\n",
    "#     verbose=0,\n",
    "#     # callbacks=([model_checkpoint]),\n",
    "# )\n",
    "\n",
    "# Get the optimal hyperparameters"
   ]
  },
  {
   "cell_type": "code",
   "execution_count": 69,
   "metadata": {},
   "outputs": [
    {
     "name": "stdout",
     "output_type": "stream",
     "text": [
      "INFO:tensorflow:Reloading Oracle from existing project logs\\hyper_parameters\\oracle.json\n",
      "INFO:tensorflow:Reloading Tuner from logs\\hyper_parameters\\tuner0.json\n"
     ]
    },
    {
     "data": {
      "application/javascript": "\n            setTimeout(function() {\n                var nbb_cell_id = 69;\n                var nbb_unformatted_code = \"tuner = kt.Hyperband(\\n    model_builder,\\n    objective=\\\"val_mse\\\",\\n    max_epochs=10,\\n    factor=3,\\n    directory=\\\"logs\\\",\\n    project_name=\\\"hyper_parameters\\\",\\n)\";\n                var nbb_formatted_code = \"tuner = kt.Hyperband(\\n    model_builder,\\n    objective=\\\"val_mse\\\",\\n    max_epochs=10,\\n    factor=3,\\n    directory=\\\"logs\\\",\\n    project_name=\\\"hyper_parameters\\\",\\n)\";\n                var nbb_cells = Jupyter.notebook.get_cells();\n                for (var i = 0; i < nbb_cells.length; ++i) {\n                    if (nbb_cells[i].input_prompt_number == nbb_cell_id) {\n                        if (nbb_cells[i].get_text() == nbb_unformatted_code) {\n                             nbb_cells[i].set_text(nbb_formatted_code);\n                        }\n                        break;\n                    }\n                }\n            }, 500);\n            ",
      "text/plain": [
       "<IPython.core.display.Javascript object>"
      ]
     },
     "metadata": {},
     "output_type": "display_data"
    }
   ],
   "source": [
    "tuner = kt.Hyperband(\n",
    "    model_builder,\n",
    "    objective=\"val_mse\",\n",
    "    max_epochs=10,\n",
    "    factor=3,\n",
    "    directory=\"logs\",\n",
    "    project_name=\"hyper_parameters\",\n",
    ")"
   ]
  },
  {
   "cell_type": "markdown",
   "metadata": {},
   "source": [
    "# Selecionando a melhor epoca do modelo"
   ]
  },
  {
   "cell_type": "code",
   "execution_count": 70,
   "metadata": {},
   "outputs": [
    {
     "name": "stdout",
     "output_type": "stream",
     "text": [
      "Best epoch: 257\n",
      "val_mae: 0.20692229270935059\n",
      "val_mse: 0.06966464966535568\n"
     ]
    },
    {
     "data": {
      "application/javascript": "\n            setTimeout(function() {\n                var nbb_cell_id = 70;\n                var nbb_unformatted_code = \"# Build the model with the optimal hyperparameters and train it on the data for 50 epochs\\nsave_time = datetime.datetime.strftime(datetime.datetime.now(), \\\"%y_%m_%d_%Hh%Mm%S\\\")\\n\\nbst_model_path = f\\\"Models/CNN/model_{save_time}.h5\\\"\\nmodel_checkpoint = ModelCheckpoint(\\n    bst_model_path, save_best_only=True, monitor=\\\"val_mse\\\", mode=\\\"min\\\"\\n)\\n\\nEPOCHS = 500\\n\\nbest_hps = tuner.get_best_hyperparameters(num_trials=20)[0]\\n\\n\\nmodel = tuner.hypermodel.build(best_hps)\\nhistory = model.fit(\\n    train_dataset,\\n    train_labels,\\n    epochs=EPOCHS,\\n    validation_split=0.2,\\n    verbose=0,\\n    callbacks=([model_checkpoint]),\\n)\\n\\n# Select the best epoch,\\nval_mse_per_epoch = history.history[\\\"val_mse\\\"]\\nbest_epoch = val_mse_per_epoch.index(min(val_mse_per_epoch)) + 1\\n\\nprint(\\\"Best epoch: %d\\\" % (best_epoch,))\\nprint(f'val_mae: {min(history.history[\\\"val_mae\\\"])}')\\nprint(f'val_mse: {min(history.history[\\\"val_mse\\\"])}')\";\n                var nbb_formatted_code = \"# Build the model with the optimal hyperparameters and train it on the data for 50 epochs\\nsave_time = datetime.datetime.strftime(datetime.datetime.now(), \\\"%y_%m_%d_%Hh%Mm%S\\\")\\n\\nbst_model_path = f\\\"Models/CNN/model_{save_time}.h5\\\"\\nmodel_checkpoint = ModelCheckpoint(\\n    bst_model_path, save_best_only=True, monitor=\\\"val_mse\\\", mode=\\\"min\\\"\\n)\\n\\nEPOCHS = 500\\n\\nbest_hps = tuner.get_best_hyperparameters(num_trials=20)[0]\\n\\n\\nmodel = tuner.hypermodel.build(best_hps)\\nhistory = model.fit(\\n    train_dataset,\\n    train_labels,\\n    epochs=EPOCHS,\\n    validation_split=0.2,\\n    verbose=0,\\n    callbacks=([model_checkpoint]),\\n)\\n\\n# Select the best epoch,\\nval_mse_per_epoch = history.history[\\\"val_mse\\\"]\\nbest_epoch = val_mse_per_epoch.index(min(val_mse_per_epoch)) + 1\\n\\nprint(\\\"Best epoch: %d\\\" % (best_epoch,))\\nprint(f'val_mae: {min(history.history[\\\"val_mae\\\"])}')\\nprint(f'val_mse: {min(history.history[\\\"val_mse\\\"])}')\";\n                var nbb_cells = Jupyter.notebook.get_cells();\n                for (var i = 0; i < nbb_cells.length; ++i) {\n                    if (nbb_cells[i].input_prompt_number == nbb_cell_id) {\n                        if (nbb_cells[i].get_text() == nbb_unformatted_code) {\n                             nbb_cells[i].set_text(nbb_formatted_code);\n                        }\n                        break;\n                    }\n                }\n            }, 500);\n            ",
      "text/plain": [
       "<IPython.core.display.Javascript object>"
      ]
     },
     "metadata": {},
     "output_type": "display_data"
    }
   ],
   "source": [
    "# Build the model with the optimal hyperparameters and train it on the data for 50 epochs\n",
    "save_time = datetime.datetime.strftime(datetime.datetime.now(), \"%y_%m_%d_%Hh%Mm%S\")\n",
    "\n",
    "bst_model_path = f\"Models/CNN/model_{save_time}.h5\"\n",
    "model_checkpoint = ModelCheckpoint(\n",
    "    bst_model_path, save_best_only=True, monitor=\"val_mse\", mode=\"min\"\n",
    ")\n",
    "\n",
    "EPOCHS = 500\n",
    "\n",
    "best_hps = tuner.get_best_hyperparameters(num_trials=20)[0]\n",
    "\n",
    "\n",
    "model = tuner.hypermodel.build(best_hps)\n",
    "history = model.fit(\n",
    "    train_dataset,\n",
    "    train_labels,\n",
    "    epochs=EPOCHS,\n",
    "    validation_split=0.2,\n",
    "    verbose=0,\n",
    "    callbacks=([model_checkpoint]),\n",
    ")\n",
    "\n",
    "# Select the best epoch,\n",
    "val_mse_per_epoch = history.history[\"val_mse\"]\n",
    "best_epoch = val_mse_per_epoch.index(min(val_mse_per_epoch)) + 1\n",
    "\n",
    "print(\"Best epoch: %d\" % (best_epoch,))\n",
    "print(f'val_mae: {min(history.history[\"val_mae\"])}')\n",
    "print(f'val_mse: {min(history.history[\"val_mse\"])}')"
   ]
  },
  {
   "cell_type": "code",
   "execution_count": 71,
   "metadata": {},
   "outputs": [
    {
     "name": "stdout",
     "output_type": "stream",
     "text": [
      "n_filter_1: 4\n",
      "n_filter_2: 4\n",
      "kernel_size_1: 4\n",
      "kernel_size_2: 4\n",
      "learning_rate: 0.01\n",
      "activation: elu\n"
     ]
    },
    {
     "data": {
      "application/javascript": "\n            setTimeout(function() {\n                var nbb_cell_id = 71;\n                var nbb_unformatted_code = \"print(f'n_filter_1: {best_hps.get(\\\"n_filter_1\\\")}')\\nprint(f'n_filter_2: {best_hps.get(\\\"n_filter_2\\\")}')\\nprint(f'kernel_size_1: {best_hps.get(\\\"kernel_size_1\\\")}')\\nprint(f'kernel_size_2: {best_hps.get(\\\"kernel_size_2\\\")}')\\n\\n# print(f'unit_3: {best_hps.get(\\\"unit_3\\\")}')\\n# print(f'unit_4: {best_hps.get(\\\"unit_4\\\")}')\\nprint(f'learning_rate: {best_hps.get(\\\"learning_rate\\\")}')\\nprint(f'activation: {best_hps.get(\\\"activation\\\")}')\";\n                var nbb_formatted_code = \"print(f'n_filter_1: {best_hps.get(\\\"n_filter_1\\\")}')\\nprint(f'n_filter_2: {best_hps.get(\\\"n_filter_2\\\")}')\\nprint(f'kernel_size_1: {best_hps.get(\\\"kernel_size_1\\\")}')\\nprint(f'kernel_size_2: {best_hps.get(\\\"kernel_size_2\\\")}')\\n\\n# print(f'unit_3: {best_hps.get(\\\"unit_3\\\")}')\\n# print(f'unit_4: {best_hps.get(\\\"unit_4\\\")}')\\nprint(f'learning_rate: {best_hps.get(\\\"learning_rate\\\")}')\\nprint(f'activation: {best_hps.get(\\\"activation\\\")}')\";\n                var nbb_cells = Jupyter.notebook.get_cells();\n                for (var i = 0; i < nbb_cells.length; ++i) {\n                    if (nbb_cells[i].input_prompt_number == nbb_cell_id) {\n                        if (nbb_cells[i].get_text() == nbb_unformatted_code) {\n                             nbb_cells[i].set_text(nbb_formatted_code);\n                        }\n                        break;\n                    }\n                }\n            }, 500);\n            ",
      "text/plain": [
       "<IPython.core.display.Javascript object>"
      ]
     },
     "metadata": {},
     "output_type": "display_data"
    }
   ],
   "source": [
    "print(f'n_filter_1: {best_hps.get(\"n_filter_1\")}')\n",
    "print(f'n_filter_2: {best_hps.get(\"n_filter_2\")}')\n",
    "print(f'kernel_size_1: {best_hps.get(\"kernel_size_1\")}')\n",
    "print(f'kernel_size_2: {best_hps.get(\"kernel_size_2\")}')\n",
    "\n",
    "# print(f'unit_3: {best_hps.get(\"unit_3\")}')\n",
    "# print(f'unit_4: {best_hps.get(\"unit_4\")}')\n",
    "print(f'learning_rate: {best_hps.get(\"learning_rate\")}')\n",
    "print(f'activation: {best_hps.get(\"activation\")}')"
   ]
  },
  {
   "cell_type": "code",
   "execution_count": 72,
   "metadata": {},
   "outputs": [
    {
     "name": "stdout",
     "output_type": "stream",
     "text": [
      "Model: \"sequential_5\"\n",
      "_________________________________________________________________\n",
      " Layer (type)                Output Shape              Param #   \n",
      "=================================================================\n",
      " conv1d_5 (Conv1D)           (None, 33, 4)             20        \n",
      "                                                                 \n",
      " flatten_5 (Flatten)         (None, 132)               0         \n",
      "                                                                 \n",
      " dense_5 (Dense)             (None, 1)                 133       \n",
      "                                                                 \n",
      "=================================================================\n",
      "Total params: 153\n",
      "Trainable params: 153\n",
      "Non-trainable params: 0\n",
      "_________________________________________________________________\n"
     ]
    },
    {
     "data": {
      "application/javascript": "\n            setTimeout(function() {\n                var nbb_cell_id = 72;\n                var nbb_unformatted_code = \"model.summary()\";\n                var nbb_formatted_code = \"model.summary()\";\n                var nbb_cells = Jupyter.notebook.get_cells();\n                for (var i = 0; i < nbb_cells.length; ++i) {\n                    if (nbb_cells[i].input_prompt_number == nbb_cell_id) {\n                        if (nbb_cells[i].get_text() == nbb_unformatted_code) {\n                             nbb_cells[i].set_text(nbb_formatted_code);\n                        }\n                        break;\n                    }\n                }\n            }, 500);\n            ",
      "text/plain": [
       "<IPython.core.display.Javascript object>"
      ]
     },
     "metadata": {},
     "output_type": "display_data"
    }
   ],
   "source": [
    "model.summary()"
   ]
  },
  {
   "cell_type": "markdown",
   "metadata": {},
   "source": [
    "# Treinando modelo"
   ]
  },
  {
   "cell_type": "code",
   "execution_count": 73,
   "metadata": {},
   "outputs": [
    {
     "data": {
      "application/javascript": "\n            setTimeout(function() {\n                var nbb_cell_id = 73;\n                var nbb_unformatted_code = \"# hypermodel = tuner.hypermodel.build(best_hps)\\n# history = hypermodel.fit(train_dataset, train_labels, epochs=best_epoch, validation_split=0.2, verbose=1)\\n\\n# # ja pega o modelo na melhor epoca\";\n                var nbb_formatted_code = \"# hypermodel = tuner.hypermodel.build(best_hps)\\n# history = hypermodel.fit(train_dataset, train_labels, epochs=best_epoch, validation_split=0.2, verbose=1)\\n\\n# # ja pega o modelo na melhor epoca\";\n                var nbb_cells = Jupyter.notebook.get_cells();\n                for (var i = 0; i < nbb_cells.length; ++i) {\n                    if (nbb_cells[i].input_prompt_number == nbb_cell_id) {\n                        if (nbb_cells[i].get_text() == nbb_unformatted_code) {\n                             nbb_cells[i].set_text(nbb_formatted_code);\n                        }\n                        break;\n                    }\n                }\n            }, 500);\n            ",
      "text/plain": [
       "<IPython.core.display.Javascript object>"
      ]
     },
     "metadata": {},
     "output_type": "display_data"
    }
   ],
   "source": [
    "# hypermodel = tuner.hypermodel.build(best_hps)\n",
    "# history = hypermodel.fit(train_dataset, train_labels, epochs=best_epoch, validation_split=0.2, verbose=1)\n",
    "\n",
    "# # ja pega o modelo na melhor epoca"
   ]
  },
  {
   "cell_type": "code",
   "execution_count": 74,
   "metadata": {},
   "outputs": [
    {
     "name": "stdout",
     "output_type": "stream",
     "text": [
      "15/15 [==============================] - 0s 3ms/step - loss: 0.1187 - mae: 0.2073 - mse: 0.1187\n",
      "[test loss, test accuracy]: [0.11872777342796326, 0.20732051134109497, 0.11872777342796326]\n"
     ]
    },
    {
     "data": {
      "application/javascript": "\n            setTimeout(function() {\n                var nbb_cell_id = 74;\n                var nbb_unformatted_code = \"eval_result = model.evaluate(test_dataset, test_labels)\\nprint(\\\"[test loss, test accuracy]:\\\", eval_result)\";\n                var nbb_formatted_code = \"eval_result = model.evaluate(test_dataset, test_labels)\\nprint(\\\"[test loss, test accuracy]:\\\", eval_result)\";\n                var nbb_cells = Jupyter.notebook.get_cells();\n                for (var i = 0; i < nbb_cells.length; ++i) {\n                    if (nbb_cells[i].input_prompt_number == nbb_cell_id) {\n                        if (nbb_cells[i].get_text() == nbb_unformatted_code) {\n                             nbb_cells[i].set_text(nbb_formatted_code);\n                        }\n                        break;\n                    }\n                }\n            }, 500);\n            ",
      "text/plain": [
       "<IPython.core.display.Javascript object>"
      ]
     },
     "metadata": {},
     "output_type": "display_data"
    }
   ],
   "source": [
    "eval_result = model.evaluate(test_dataset, test_labels)\n",
    "print(\"[test loss, test accuracy]:\", eval_result)"
   ]
  },
  {
   "cell_type": "markdown",
   "metadata": {},
   "source": [
    "# Avaliando o modelo"
   ]
  },
  {
   "cell_type": "code",
   "execution_count": 75,
   "metadata": {},
   "outputs": [
    {
     "data": {
      "application/javascript": "\n            setTimeout(function() {\n                var nbb_cell_id = 75;\n                var nbb_unformatted_code = \"# print(f'train_dataset: {train_dataset.columns()} \\\\n')\\n# print(f'valid_dataset: {valid_dataset.columns()} \\\\n')\\n# print(f'test_dataset: {test_dataset.columns()} \\\\n')\";\n                var nbb_formatted_code = \"# print(f'train_dataset: {train_dataset.columns()} \\\\n')\\n# print(f'valid_dataset: {valid_dataset.columns()} \\\\n')\\n# print(f'test_dataset: {test_dataset.columns()} \\\\n')\";\n                var nbb_cells = Jupyter.notebook.get_cells();\n                for (var i = 0; i < nbb_cells.length; ++i) {\n                    if (nbb_cells[i].input_prompt_number == nbb_cell_id) {\n                        if (nbb_cells[i].get_text() == nbb_unformatted_code) {\n                             nbb_cells[i].set_text(nbb_formatted_code);\n                        }\n                        break;\n                    }\n                }\n            }, 500);\n            ",
      "text/plain": [
       "<IPython.core.display.Javascript object>"
      ]
     },
     "metadata": {},
     "output_type": "display_data"
    }
   ],
   "source": [
    "# print(f'train_dataset: {train_dataset.columns()} \\n')\n",
    "# print(f'valid_dataset: {valid_dataset.columns()} \\n')\n",
    "# print(f'test_dataset: {test_dataset.columns()} \\n')"
   ]
  },
  {
   "cell_type": "code",
   "execution_count": 76,
   "metadata": {},
   "outputs": [
    {
     "data": {
      "text/html": [
       "<div>\n",
       "<style scoped>\n",
       "    .dataframe tbody tr th:only-of-type {\n",
       "        vertical-align: middle;\n",
       "    }\n",
       "\n",
       "    .dataframe tbody tr th {\n",
       "        vertical-align: top;\n",
       "    }\n",
       "\n",
       "    .dataframe thead th {\n",
       "        text-align: right;\n",
       "    }\n",
       "</style>\n",
       "<table border=\"1\" class=\"dataframe\">\n",
       "  <thead>\n",
       "    <tr style=\"text-align: right;\">\n",
       "      <th></th>\n",
       "      <th>loss</th>\n",
       "      <th>mae</th>\n",
       "      <th>mse</th>\n",
       "      <th>val_loss</th>\n",
       "      <th>val_mae</th>\n",
       "      <th>val_mse</th>\n",
       "      <th>epoch</th>\n",
       "    </tr>\n",
       "  </thead>\n",
       "  <tbody>\n",
       "    <tr>\n",
       "      <th>495</th>\n",
       "      <td>0.051492</td>\n",
       "      <td>0.175653</td>\n",
       "      <td>0.051492</td>\n",
       "      <td>0.078732</td>\n",
       "      <td>0.216699</td>\n",
       "      <td>0.078732</td>\n",
       "      <td>495</td>\n",
       "    </tr>\n",
       "    <tr>\n",
       "      <th>496</th>\n",
       "      <td>0.050492</td>\n",
       "      <td>0.171517</td>\n",
       "      <td>0.050492</td>\n",
       "      <td>0.092949</td>\n",
       "      <td>0.241336</td>\n",
       "      <td>0.092949</td>\n",
       "      <td>496</td>\n",
       "    </tr>\n",
       "    <tr>\n",
       "      <th>497</th>\n",
       "      <td>0.050351</td>\n",
       "      <td>0.173125</td>\n",
       "      <td>0.050351</td>\n",
       "      <td>0.083725</td>\n",
       "      <td>0.226078</td>\n",
       "      <td>0.083725</td>\n",
       "      <td>497</td>\n",
       "    </tr>\n",
       "    <tr>\n",
       "      <th>498</th>\n",
       "      <td>0.051727</td>\n",
       "      <td>0.175029</td>\n",
       "      <td>0.051727</td>\n",
       "      <td>0.074549</td>\n",
       "      <td>0.214421</td>\n",
       "      <td>0.074549</td>\n",
       "      <td>498</td>\n",
       "    </tr>\n",
       "    <tr>\n",
       "      <th>499</th>\n",
       "      <td>0.050914</td>\n",
       "      <td>0.173718</td>\n",
       "      <td>0.050914</td>\n",
       "      <td>0.076294</td>\n",
       "      <td>0.215541</td>\n",
       "      <td>0.076294</td>\n",
       "      <td>499</td>\n",
       "    </tr>\n",
       "  </tbody>\n",
       "</table>\n",
       "</div>"
      ],
      "text/plain": [
       "         loss       mae       mse  val_loss   val_mae   val_mse  epoch\n",
       "495  0.051492  0.175653  0.051492  0.078732  0.216699  0.078732    495\n",
       "496  0.050492  0.171517  0.050492  0.092949  0.241336  0.092949    496\n",
       "497  0.050351  0.173125  0.050351  0.083725  0.226078  0.083725    497\n",
       "498  0.051727  0.175029  0.051727  0.074549  0.214421  0.074549    498\n",
       "499  0.050914  0.173718  0.050914  0.076294  0.215541  0.076294    499"
      ]
     },
     "execution_count": 76,
     "metadata": {},
     "output_type": "execute_result"
    },
    {
     "data": {
      "application/javascript": "\n            setTimeout(function() {\n                var nbb_cell_id = 76;\n                var nbb_unformatted_code = \"hist = pd.DataFrame(history.history)\\nhist[\\\"epoch\\\"] = history.epoch\\nhist.tail()\";\n                var nbb_formatted_code = \"hist = pd.DataFrame(history.history)\\nhist[\\\"epoch\\\"] = history.epoch\\nhist.tail()\";\n                var nbb_cells = Jupyter.notebook.get_cells();\n                for (var i = 0; i < nbb_cells.length; ++i) {\n                    if (nbb_cells[i].input_prompt_number == nbb_cell_id) {\n                        if (nbb_cells[i].get_text() == nbb_unformatted_code) {\n                             nbb_cells[i].set_text(nbb_formatted_code);\n                        }\n                        break;\n                    }\n                }\n            }, 500);\n            ",
      "text/plain": [
       "<IPython.core.display.Javascript object>"
      ]
     },
     "metadata": {},
     "output_type": "display_data"
    }
   ],
   "source": [
    "hist = pd.DataFrame(history.history)\n",
    "hist[\"epoch\"] = history.epoch\n",
    "hist.tail()"
   ]
  },
  {
   "cell_type": "code",
   "execution_count": 77,
   "metadata": {},
   "outputs": [
    {
     "name": "stdout",
     "output_type": "stream",
     "text": [
      "Min MSE: 0.04892938211560249\n",
      "Min Val_MSE: 0.06966464966535568\n"
     ]
    },
    {
     "data": {
      "application/javascript": "\n            setTimeout(function() {\n                var nbb_cell_id = 77;\n                var nbb_unformatted_code = \"print(f\\\"Min MSE: {hist.mse.min()}\\\")\\nprint(f\\\"Min Val_MSE: {hist.val_mse.min()}\\\")\";\n                var nbb_formatted_code = \"print(f\\\"Min MSE: {hist.mse.min()}\\\")\\nprint(f\\\"Min Val_MSE: {hist.val_mse.min()}\\\")\";\n                var nbb_cells = Jupyter.notebook.get_cells();\n                for (var i = 0; i < nbb_cells.length; ++i) {\n                    if (nbb_cells[i].input_prompt_number == nbb_cell_id) {\n                        if (nbb_cells[i].get_text() == nbb_unformatted_code) {\n                             nbb_cells[i].set_text(nbb_formatted_code);\n                        }\n                        break;\n                    }\n                }\n            }, 500);\n            ",
      "text/plain": [
       "<IPython.core.display.Javascript object>"
      ]
     },
     "metadata": {},
     "output_type": "display_data"
    }
   ],
   "source": [
    "print(f\"Min MSE: {hist.mse.min()}\")\n",
    "print(f\"Min Val_MSE: {hist.val_mse.min()}\")"
   ]
  },
  {
   "cell_type": "code",
   "execution_count": 78,
   "metadata": {},
   "outputs": [
    {
     "data": {
      "image/png": "[encoded data removed]",
      "text/plain": [
       "<Figure size 432x288 with 1 Axes>"
      ]
     },
     "metadata": {
      "needs_background": "light"
     },
     "output_type": "display_data"
    },
    {
     "data": {
      "image/png": "[encoded data removed]",
      "text/plain": [
       "<Figure size 432x288 with 1 Axes>"
      ]
     },
     "metadata": {
      "needs_background": "light"
     },
     "output_type": "display_data"
    },
    {
     "data": {
      "application/javascript": "\n            setTimeout(function() {\n                var nbb_cell_id = 78;\n                var nbb_unformatted_code = \"def plot_history(history):\\n    hist = pd.DataFrame(history.history)\\n    hist[\\\"epoch\\\"] = history.epoch\\n\\n    plt.figure()\\n    plt.xlabel(\\\"Epoch\\\")\\n    plt.ylabel(\\\"Mean Abs Error [ibova_0]\\\")\\n    plt.plot(hist[\\\"epoch\\\"], hist[\\\"mae\\\"], label=\\\"Train Error\\\")\\n    plt.plot(hist[\\\"epoch\\\"], hist[\\\"val_mae\\\"], label=\\\"Val Error\\\")\\n    plt.ylim([0, 1])\\n    plt.legend()\\n\\n    plt.figure()\\n    plt.xlabel(\\\"Epoch\\\")\\n    plt.ylabel(\\\"Mean Square Error [$ibova_0^2$]\\\")\\n    plt.plot(hist[\\\"epoch\\\"], hist[\\\"mse\\\"], label=\\\"Train Error\\\")\\n    plt.plot(hist[\\\"epoch\\\"], hist[\\\"val_mse\\\"], label=\\\"Val Error\\\")\\n    plt.ylim([0, 1])\\n    plt.legend()\\n    plt.show()\\n\\n\\nplot_history(history)\";\n                var nbb_formatted_code = \"def plot_history(history):\\n    hist = pd.DataFrame(history.history)\\n    hist[\\\"epoch\\\"] = history.epoch\\n\\n    plt.figure()\\n    plt.xlabel(\\\"Epoch\\\")\\n    plt.ylabel(\\\"Mean Abs Error [ibova_0]\\\")\\n    plt.plot(hist[\\\"epoch\\\"], hist[\\\"mae\\\"], label=\\\"Train Error\\\")\\n    plt.plot(hist[\\\"epoch\\\"], hist[\\\"val_mae\\\"], label=\\\"Val Error\\\")\\n    plt.ylim([0, 1])\\n    plt.legend()\\n\\n    plt.figure()\\n    plt.xlabel(\\\"Epoch\\\")\\n    plt.ylabel(\\\"Mean Square Error [$ibova_0^2$]\\\")\\n    plt.plot(hist[\\\"epoch\\\"], hist[\\\"mse\\\"], label=\\\"Train Error\\\")\\n    plt.plot(hist[\\\"epoch\\\"], hist[\\\"val_mse\\\"], label=\\\"Val Error\\\")\\n    plt.ylim([0, 1])\\n    plt.legend()\\n    plt.show()\\n\\n\\nplot_history(history)\";\n                var nbb_cells = Jupyter.notebook.get_cells();\n                for (var i = 0; i < nbb_cells.length; ++i) {\n                    if (nbb_cells[i].input_prompt_number == nbb_cell_id) {\n                        if (nbb_cells[i].get_text() == nbb_unformatted_code) {\n                             nbb_cells[i].set_text(nbb_formatted_code);\n                        }\n                        break;\n                    }\n                }\n            }, 500);\n            ",
      "text/plain": [
       "<IPython.core.display.Javascript object>"
      ]
     },
     "metadata": {},
     "output_type": "display_data"
    }
   ],
   "source": [
    "def plot_history(history):\n",
    "    hist = pd.DataFrame(history.history)\n",
    "    hist[\"epoch\"] = history.epoch\n",
    "\n",
    "    plt.figure()\n",
    "    plt.xlabel(\"Epoch\")\n",
    "    plt.ylabel(\"Mean Abs Error [ibova_0]\")\n",
    "    plt.plot(hist[\"epoch\"], hist[\"mae\"], label=\"Train Error\")\n",
    "    plt.plot(hist[\"epoch\"], hist[\"val_mae\"], label=\"Val Error\")\n",
    "    plt.ylim([0, 1])\n",
    "    plt.legend()\n",
    "\n",
    "    plt.figure()\n",
    "    plt.xlabel(\"Epoch\")\n",
    "    plt.ylabel(\"Mean Square Error [$ibova_0^2$]\")\n",
    "    plt.plot(hist[\"epoch\"], hist[\"mse\"], label=\"Train Error\")\n",
    "    plt.plot(hist[\"epoch\"], hist[\"val_mse\"], label=\"Val Error\")\n",
    "    plt.ylim([0, 1])\n",
    "    plt.legend()\n",
    "    plt.show()\n",
    "\n",
    "\n",
    "plot_history(history)"
   ]
  },
  {
   "cell_type": "markdown",
   "metadata": {},
   "source": [
    "# Realizando as previsões"
   ]
  },
  {
   "cell_type": "code",
   "execution_count": 79,
   "metadata": {},
   "outputs": [
    {
     "name": "stdout",
     "output_type": "stream",
     "text": [
      "15/15 [==============================] - 0s 4ms/step\n"
     ]
    },
    {
     "data": {
      "application/javascript": "\n            setTimeout(function() {\n                var nbb_cell_id = 79;\n                var nbb_unformatted_code = \"test_predictions = model.predict(test_dataset).flatten()\";\n                var nbb_formatted_code = \"test_predictions = model.predict(test_dataset).flatten()\";\n                var nbb_cells = Jupyter.notebook.get_cells();\n                for (var i = 0; i < nbb_cells.length; ++i) {\n                    if (nbb_cells[i].input_prompt_number == nbb_cell_id) {\n                        if (nbb_cells[i].get_text() == nbb_unformatted_code) {\n                             nbb_cells[i].set_text(nbb_formatted_code);\n                        }\n                        break;\n                    }\n                }\n            }, 500);\n            ",
      "text/plain": [
       "<IPython.core.display.Javascript object>"
      ]
     },
     "metadata": {},
     "output_type": "display_data"
    }
   ],
   "source": [
    "test_predictions = model.predict(test_dataset).flatten()"
   ]
  },
  {
   "cell_type": "markdown",
   "metadata": {},
   "source": [
    "# Avaliando as previsões:"
   ]
  },
  {
   "cell_type": "code",
   "execution_count": 80,
   "metadata": {},
   "outputs": [
    {
     "data": {
      "application/javascript": "\n            setTimeout(function() {\n                var nbb_cell_id = 80;\n                var nbb_unformatted_code = \"def show_test_labels():\\n    # Imprimindo valores reais\\n    plt.plot(test_labels, color=\\\"r\\\", label=\\\"ibova_REAL\\\")\\n    plt.xlabel(\\\"Dates\\\")\\n    plt.ylabel(\\\"Variation ROC\\\")\\n    plt.title(\\\"ibova_REAL\\\")\\n    plt.legend()\\n\\n\\ndef show_model_predictions():\\n    # Imprimindo previsoes\\n    plt.plot(test_predictions, color=\\\"g\\\", label=\\\"predictions_MODEL\\\")\\n    plt.xlabel(\\\"Dates\\\")\\n    plt.ylabel(\\\"Variation ROC\\\")\\n    plt.title(\\\"predictions_MODEL\\\")\\n    plt.legend()\\n\\n\\ndef show_compare_graph():\\n    # Predictt X Real values\\n    plt.plot(test_labels, color=\\\"r\\\", label=\\\"ibova_REAL\\\")\\n    plt.plot(test_predictions, color=\\\"g\\\", label=\\\"predictions_MODEL\\\")\\n    plt.xlabel(\\\"Dates\\\")\\n    plt.ylabel(\\\"Variation ROC\\\")\\n    plt.title(\\\"Predict X Real values\\\")\\n    plt.legend()\\n    plt.show()\\n\\n\\ndef show_true_predict_values():\\n    plt.figure(figsize=(24, 4))\\n    plt.scatter(test_labels, test_predictions)\\n    plt.xlabel(\\\"True Values [ibova_0]\\\")\\n    plt.ylabel(\\\"Predictions [ibova_0]\\\")\\n    plt.axis(\\\"equal\\\")\\n    plt.axis(\\\"square\\\")\\n    plt.xlim([0, plt.xlim()[1]])\\n    plt.ylim([0, plt.ylim()[1]])\\n    _ = plt.plot([-100, 100], [-100, 100])\";\n                var nbb_formatted_code = \"def show_test_labels():\\n    # Imprimindo valores reais\\n    plt.plot(test_labels, color=\\\"r\\\", label=\\\"ibova_REAL\\\")\\n    plt.xlabel(\\\"Dates\\\")\\n    plt.ylabel(\\\"Variation ROC\\\")\\n    plt.title(\\\"ibova_REAL\\\")\\n    plt.legend()\\n\\n\\ndef show_model_predictions():\\n    # Imprimindo previsoes\\n    plt.plot(test_predictions, color=\\\"g\\\", label=\\\"predictions_MODEL\\\")\\n    plt.xlabel(\\\"Dates\\\")\\n    plt.ylabel(\\\"Variation ROC\\\")\\n    plt.title(\\\"predictions_MODEL\\\")\\n    plt.legend()\\n\\n\\ndef show_compare_graph():\\n    # Predictt X Real values\\n    plt.plot(test_labels, color=\\\"r\\\", label=\\\"ibova_REAL\\\")\\n    plt.plot(test_predictions, color=\\\"g\\\", label=\\\"predictions_MODEL\\\")\\n    plt.xlabel(\\\"Dates\\\")\\n    plt.ylabel(\\\"Variation ROC\\\")\\n    plt.title(\\\"Predict X Real values\\\")\\n    plt.legend()\\n    plt.show()\\n\\n\\ndef show_true_predict_values():\\n    plt.figure(figsize=(24, 4))\\n    plt.scatter(test_labels, test_predictions)\\n    plt.xlabel(\\\"True Values [ibova_0]\\\")\\n    plt.ylabel(\\\"Predictions [ibova_0]\\\")\\n    plt.axis(\\\"equal\\\")\\n    plt.axis(\\\"square\\\")\\n    plt.xlim([0, plt.xlim()[1]])\\n    plt.ylim([0, plt.ylim()[1]])\\n    _ = plt.plot([-100, 100], [-100, 100])\";\n                var nbb_cells = Jupyter.notebook.get_cells();\n                for (var i = 0; i < nbb_cells.length; ++i) {\n                    if (nbb_cells[i].input_prompt_number == nbb_cell_id) {\n                        if (nbb_cells[i].get_text() == nbb_unformatted_code) {\n                             nbb_cells[i].set_text(nbb_formatted_code);\n                        }\n                        break;\n                    }\n                }\n            }, 500);\n            ",
      "text/plain": [
       "<IPython.core.display.Javascript object>"
      ]
     },
     "metadata": {},
     "output_type": "display_data"
    }
   ],
   "source": [
    "def show_test_labels():\n",
    "    # Imprimindo valores reais\n",
    "    plt.plot(test_labels, color=\"r\", label=\"ibova_REAL\")\n",
    "    plt.xlabel(\"Dates\")\n",
    "    plt.ylabel(\"Variation ROC\")\n",
    "    plt.title(\"ibova_REAL\")\n",
    "    plt.legend()\n",
    "\n",
    "\n",
    "def show_model_predictions():\n",
    "    # Imprimindo previsoes\n",
    "    plt.plot(test_predictions, color=\"g\", label=\"predictions_MODEL\")\n",
    "    plt.xlabel(\"Dates\")\n",
    "    plt.ylabel(\"Variation ROC\")\n",
    "    plt.title(\"predictions_MODEL\")\n",
    "    plt.legend()\n",
    "\n",
    "\n",
    "def show_compare_graph():\n",
    "    # Predictt X Real values\n",
    "    plt.plot(test_labels, color=\"r\", label=\"ibova_REAL\")\n",
    "    plt.plot(test_predictions, color=\"g\", label=\"predictions_MODEL\")\n",
    "    plt.xlabel(\"Dates\")\n",
    "    plt.ylabel(\"Variation ROC\")\n",
    "    plt.title(\"Predict X Real values\")\n",
    "    plt.legend()\n",
    "    plt.show()\n",
    "\n",
    "\n",
    "def show_true_predict_values():\n",
    "    plt.figure(figsize=(24, 4))\n",
    "    plt.scatter(test_labels, test_predictions)\n",
    "    plt.xlabel(\"True Values [ibova_0]\")\n",
    "    plt.ylabel(\"Predictions [ibova_0]\")\n",
    "    plt.axis(\"equal\")\n",
    "    plt.axis(\"square\")\n",
    "    plt.xlim([0, plt.xlim()[1]])\n",
    "    plt.ylim([0, plt.ylim()[1]])\n",
    "    _ = plt.plot([-100, 100], [-100, 100])"
   ]
  },
  {
   "cell_type": "code",
   "execution_count": 81,
   "metadata": {},
   "outputs": [
    {
     "data": {
      "image/png": "[encoded data removed]",
      "text/plain": [
       "<Figure size 432x288 with 1 Axes>"
      ]
     },
     "metadata": {
      "needs_background": "light"
     },
     "output_type": "display_data"
    },
    {
     "data": {
      "application/javascript": "\n            setTimeout(function() {\n                var nbb_cell_id = 81;\n                var nbb_unformatted_code = \"show_compare_graph()\";\n                var nbb_formatted_code = \"show_compare_graph()\";\n                var nbb_cells = Jupyter.notebook.get_cells();\n                for (var i = 0; i < nbb_cells.length; ++i) {\n                    if (nbb_cells[i].input_prompt_number == nbb_cell_id) {\n                        if (nbb_cells[i].get_text() == nbb_unformatted_code) {\n                             nbb_cells[i].set_text(nbb_formatted_code);\n                        }\n                        break;\n                    }\n                }\n            }, 500);\n            ",
      "text/plain": [
       "<IPython.core.display.Javascript object>"
      ]
     },
     "metadata": {},
     "output_type": "display_data"
    }
   ],
   "source": [
    "show_compare_graph()"
   ]
  },
  {
   "cell_type": "code",
   "execution_count": 82,
   "metadata": {},
   "outputs": [
    {
     "data": {
      "image/png": "[encoded data removed]",
      "text/plain": [
       "<Figure size 432x288 with 1 Axes>"
      ]
     },
     "metadata": {
      "needs_background": "light"
     },
     "output_type": "display_data"
    },
    {
     "data": {
      "application/javascript": "\n            setTimeout(function() {\n                var nbb_cell_id = 82;\n                var nbb_unformatted_code = \"show_model_predictions()\";\n                var nbb_formatted_code = \"show_model_predictions()\";\n                var nbb_cells = Jupyter.notebook.get_cells();\n                for (var i = 0; i < nbb_cells.length; ++i) {\n                    if (nbb_cells[i].input_prompt_number == nbb_cell_id) {\n                        if (nbb_cells[i].get_text() == nbb_unformatted_code) {\n                             nbb_cells[i].set_text(nbb_formatted_code);\n                        }\n                        break;\n                    }\n                }\n            }, 500);\n            ",
      "text/plain": [
       "<IPython.core.display.Javascript object>"
      ]
     },
     "metadata": {},
     "output_type": "display_data"
    }
   ],
   "source": [
    "show_model_predictions()"
   ]
  },
  {
   "cell_type": "code",
   "execution_count": 83,
   "metadata": {},
   "outputs": [
    {
     "data": {
      "application/javascript": "\n            setTimeout(function() {\n                var nbb_cell_id = 83;\n                var nbb_unformatted_code = \"model_name = f'mlp_unit_1({best_hps.get(\\\"unit_1\\\")})unit_2({best_hps.get(\\\"unit_2\\\")})unit_3({best_hps.get(\\\"unit_3\\\")})unit_4({best_hps.get(\\\"unit_4\\\")})_learning({best_hps.get(\\\"learning_rate\\\")})_activation({best_hps.get(\\\"activation\\\")})'\\nmodel_name\\nmodel.save(f\\\"models/mlp/{model_name}date_{save_time}.h5\\\")\";\n                var nbb_formatted_code = \"model_name = f'mlp_unit_1({best_hps.get(\\\"unit_1\\\")})unit_2({best_hps.get(\\\"unit_2\\\")})unit_3({best_hps.get(\\\"unit_3\\\")})unit_4({best_hps.get(\\\"unit_4\\\")})_learning({best_hps.get(\\\"learning_rate\\\")})_activation({best_hps.get(\\\"activation\\\")})'\\nmodel_name\\nmodel.save(f\\\"models/mlp/{model_name}date_{save_time}.h5\\\")\";\n                var nbb_cells = Jupyter.notebook.get_cells();\n                for (var i = 0; i < nbb_cells.length; ++i) {\n                    if (nbb_cells[i].input_prompt_number == nbb_cell_id) {\n                        if (nbb_cells[i].get_text() == nbb_unformatted_code) {\n                             nbb_cells[i].set_text(nbb_formatted_code);\n                        }\n                        break;\n                    }\n                }\n            }, 500);\n            ",
      "text/plain": [
       "<IPython.core.display.Javascript object>"
      ]
     },
     "metadata": {},
     "output_type": "display_data"
    }
   ],
   "source": [
    "model_name = f'mlp_unit_1({best_hps.get(\"unit_1\")})unit_2({best_hps.get(\"unit_2\")})unit_3({best_hps.get(\"unit_3\")})unit_4({best_hps.get(\"unit_4\")})_learning({best_hps.get(\"learning_rate\")})_activation({best_hps.get(\"activation\")})'\n",
    "model_name\n",
    "model.save(f\"models/mlp/{model_name}date_{save_time}.h5\")"
   ]
  },
  {
   "cell_type": "code",
   "execution_count": 84,
   "metadata": {},
   "outputs": [
    {
     "name": "stdout",
     "output_type": "stream",
     "text": [
      "Massa de predição: -0.024132050573825836\n"
     ]
    },
    {
     "ename": "NameError",
     "evalue": "name 'ibova_test' is not defined",
     "output_type": "error",
     "traceback": [
      "\u001b[1;31m---------------------------------------------------------------------------\u001b[0m",
      "\u001b[1;31mNameError\u001b[0m                                 Traceback (most recent call last)",
      "\u001b[1;32mc:\\Users\\arthu\\Documents\\GitHub\\TCC_Stock_Predictions\\Model\\Model_CNN.ipynb Cell 40\u001b[0m in \u001b[0;36m<cell line: 4>\u001b[1;34m()\u001b[0m\n\u001b[0;32m      <a href='vscode-notebook-cell:/c%3A/Users/arthu/Documents/GitHub/TCC_Stock_Predictions/Model/Model_CNN.ipynb#X54sZmlsZQ%3D%3D?line=0'>1</a>\u001b[0m \u001b[39m# Analisando Medias:\u001b[39;00m\n\u001b[0;32m      <a href='vscode-notebook-cell:/c%3A/Users/arthu/Documents/GitHub/TCC_Stock_Predictions/Model/Model_CNN.ipynb#X54sZmlsZQ%3D%3D?line=2'>3</a>\u001b[0m \u001b[39mprint\u001b[39m(\u001b[39mf\u001b[39m\u001b[39m\"\u001b[39m\u001b[39mMassa de predição: \u001b[39m\u001b[39m{\u001b[39;00mtest_predictions\u001b[39m.\u001b[39mmean()\u001b[39m}\u001b[39;00m\u001b[39m\"\u001b[39m)\n\u001b[1;32m----> <a href='vscode-notebook-cell:/c%3A/Users/arthu/Documents/GitHub/TCC_Stock_Predictions/Model/Model_CNN.ipynb#X54sZmlsZQ%3D%3D?line=3'>4</a>\u001b[0m \u001b[39mprint\u001b[39m(\u001b[39mf\u001b[39m\u001b[39m\"\u001b[39m\u001b[39mMassa inicial: \u001b[39m\u001b[39m{\u001b[39;00mibova_test\u001b[39m.\u001b[39mmean()\u001b[39m}\u001b[39;00m\u001b[39m\"\u001b[39m)\n\u001b[0;32m      <a href='vscode-notebook-cell:/c%3A/Users/arthu/Documents/GitHub/TCC_Stock_Predictions/Model/Model_CNN.ipynb#X54sZmlsZQ%3D%3D?line=4'>5</a>\u001b[0m \u001b[39mprint\u001b[39m(\u001b[39mf\u001b[39m\u001b[39m\"\u001b[39m\u001b[39mDiferenças das médias: \u001b[39m\u001b[39m{\u001b[39;00mibova_test\u001b[39m.\u001b[39mmean() \u001b[39m-\u001b[39m test_predictions\u001b[39m.\u001b[39mmean()\u001b[39m}\u001b[39;00m\u001b[39m\"\u001b[39m)\n",
      "\u001b[1;31mNameError\u001b[0m: name 'ibova_test' is not defined"
     ]
    },
    {
     "data": {
      "application/javascript": "\n            setTimeout(function() {\n                var nbb_cell_id = 84;\n                var nbb_unformatted_code = \"# Analisando Medias:\\n\\nprint(f\\\"Massa de predi\\u00e7\\u00e3o: {test_predictions.mean()}\\\")\\nprint(f\\\"Massa inicial: {ibova_test.mean()}\\\")\\nprint(f\\\"Diferen\\u00e7as das m\\u00e9dias: {ibova_test.mean() - test_predictions.mean()}\\\")\\n\\n# Add o RM_MSE medio\";\n                var nbb_formatted_code = \"# Analisando Medias:\\n\\nprint(f\\\"Massa de predi\\u00e7\\u00e3o: {test_predictions.mean()}\\\")\\nprint(f\\\"Massa inicial: {ibova_test.mean()}\\\")\\nprint(f\\\"Diferen\\u00e7as das m\\u00e9dias: {ibova_test.mean() - test_predictions.mean()}\\\")\\n\\n# Add o RM_MSE medio\";\n                var nbb_cells = Jupyter.notebook.get_cells();\n                for (var i = 0; i < nbb_cells.length; ++i) {\n                    if (nbb_cells[i].input_prompt_number == nbb_cell_id) {\n                        if (nbb_cells[i].get_text() == nbb_unformatted_code) {\n                             nbb_cells[i].set_text(nbb_formatted_code);\n                        }\n                        break;\n                    }\n                }\n            }, 500);\n            ",
      "text/plain": [
       "<IPython.core.display.Javascript object>"
      ]
     },
     "metadata": {},
     "output_type": "display_data"
    }
   ],
   "source": [
    "# Analisando Medias:\n",
    "\n",
    "print(f\"Massa de predição: {test_predictions.mean()}\")\n",
    "print(f\"Massa inicial: {ibova_test.mean()}\")\n",
    "print(f\"Diferenças das médias: {ibova_test.mean() - test_predictions.mean()}\")\n",
    "\n",
    "# Add o RM_MSE medio"
   ]
  },
  {
   "cell_type": "code",
   "execution_count": null,
   "metadata": {},
   "outputs": [
    {
     "data": {
      "text/plain": [
       "'22_08_30_22h55m31'"
      ]
     },
     "execution_count": 124,
     "metadata": {},
     "output_type": "execute_result"
    },
    {
     "data": {
      "application/javascript": "\n            setTimeout(function() {\n                var nbb_cell_id = 124;\n                var nbb_unformatted_code = \"save_time\";\n                var nbb_formatted_code = \"save_time\";\n                var nbb_cells = Jupyter.notebook.get_cells();\n                for (var i = 0; i < nbb_cells.length; ++i) {\n                    if (nbb_cells[i].input_prompt_number == nbb_cell_id) {\n                        if (nbb_cells[i].get_text() == nbb_unformatted_code) {\n                             nbb_cells[i].set_text(nbb_formatted_code);\n                        }\n                        break;\n                    }\n                }\n            }, 500);\n            ",
      "text/plain": [
       "<IPython.core.display.Javascript object>"
      ]
     },
     "metadata": {},
     "output_type": "display_data"
    }
   ],
   "source": [
    "save_time"
   ]
  }
 ],
 "metadata": {
  "kernelspec": {
   "display_name": "Python 3.8.12 ('pystock')",
   "language": "python",
   "name": "python3"
  },
  "language_info": {
   "codemirror_mode": {
    "name": "ipython",
    "version": 3
   },
   "file_extension": ".py",
   "mimetype": "text/x-python",
   "name": "python",
   "nbconvert_exporter": "python",
   "pygments_lexer": "ipython3",
   "version": "3.8.13"
  },
  "orig_nbformat": 4,
  "vscode": {
   "interpreter": {
    "hash": "bc0c8eb905859abd75b389576d87e2ac71c748b72952270660ecc130aeb3e651"
   }
  }
 },
 "nbformat": 4,
 "nbformat_minor": 2
}
