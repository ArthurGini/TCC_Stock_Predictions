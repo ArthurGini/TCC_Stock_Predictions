WINDOW = conv_window
model = conv_model

hi=tory = compile_and_fit(model, WINDOW)

val_performancen'model'
] = model.evaluate(WINDOW.val)
omrformance['model'
] = model.evaluate(WINDOW.testm verbope=
