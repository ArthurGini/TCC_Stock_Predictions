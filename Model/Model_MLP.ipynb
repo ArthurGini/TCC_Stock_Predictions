{
 "cells": [
  {
   "cell_type": "code",
   "execution_count": 1,
   "metadata": {},
   "outputs": [],
   "source": [
    "# Usei como base esse tutorial:\n",
    "# https://colab.research.google.com/github/tensorflow/docs-l10n/blob/master/site/pt-br/tutorials/keras/regression.ipynb#scrollTo=f-OHX4DiXd8x"
   ]
  },
  {
   "cell_type": "code",
   "execution_count": 2,
   "metadata": {},
   "outputs": [],
   "source": [
    "# # # # Clear logs\n",
    "# # # %rm -rf ./logs/\n",
    "\n",
    "# # # Ativação do Tensorboard\n",
    "# %conda activate pystock\n",
    "# %load_ext tensorboard\n",
    "\n",
    "# # # Reload Tensorboar\n",
    "# %reload_ext tensorboard"
   ]
  },
  {
   "cell_type": "code",
   "execution_count": 3,
   "metadata": {},
   "outputs": [],
   "source": [
    "# # # Reload Tensorboar\n",
    "# %reload_ext tensorboa"
   ]
  },
  {
   "cell_type": "code",
   "execution_count": 4,
   "metadata": {},
   "outputs": [
    {
     "data": {
      "application/javascript": "\n            setTimeout(function() {\n                var nbb_cell_id = 4;\n                var nbb_unformatted_code = \"%load_ext nb_black\\n%load_ext lab_black\";\n                var nbb_formatted_code = \"%load_ext nb_black\\n%load_ext lab_black\";\n                var nbb_cells = Jupyter.notebook.get_cells();\n                for (var i = 0; i < nbb_cells.length; ++i) {\n                    if (nbb_cells[i].input_prompt_number == nbb_cell_id) {\n                        if (nbb_cells[i].get_text() == nbb_unformatted_code) {\n                             nbb_cells[i].set_text(nbb_formatted_code);\n                        }\n                        break;\n                    }\n                }\n            }, 500);\n            ",
      "text/plain": [
       "<IPython.core.display.Javascript object>"
      ]
     },
     "metadata": {},
     "output_type": "display_data"
    }
   ],
   "source": [
    "%load_ext nb_black\n",
    "%load_ext lab_black"
   ]
  },
  {
   "cell_type": "markdown",
   "metadata": {},
   "source": [
    "# Sequential model\n",
    "\n",
    "*Dense model 16*\n",
    "*Dense model 16*\n",
    "*Dense model 8*\n",
    "*Dense model 4*\n",
    "*Epoch 350*\n",
    "\n",
    "_MSE: 1.31_\n",
    "epoch: 350\n",
    "\n",
    "Activation: softplus\n",
    "Optimizer: Adam\n",
    "\n",
    "15/15 - 0s - loss: 0.6325 - mae: 0.5830 - mse: 0.6325\n",
    "Testing set Mean Abs Error:  0.58 ibova_0"
   ]
  },
  {
   "cell_type": "code",
   "execution_count": 5,
   "metadata": {},
   "outputs": [
    {
     "data": {
      "application/javascript": "\n            setTimeout(function() {\n                var nbb_cell_id = 5;\n                var nbb_unformatted_code = \"TYPE_MODEL = \\\"MLP\\\"\\nREPETICAO = 0\";\n                var nbb_formatted_code = \"TYPE_MODEL = \\\"MLP\\\"\\nREPETICAO = 0\";\n                var nbb_cells = Jupyter.notebook.get_cells();\n                for (var i = 0; i < nbb_cells.length; ++i) {\n                    if (nbb_cells[i].input_prompt_number == nbb_cell_id) {\n                        if (nbb_cells[i].get_text() == nbb_unformatted_code) {\n                             nbb_cells[i].set_text(nbb_formatted_code);\n                        }\n                        break;\n                    }\n                }\n            }, 500);\n            ",
      "text/plain": [
       "<IPython.core.display.Javascript object>"
      ]
     },
     "metadata": {},
     "output_type": "display_data"
    }
   ],
   "source": [
    "TYPE_MODEL = \"MLP\"\n",
    "REPETICAO = 0"
   ]
  },
  {
   "cell_type": "code",
   "execution_count": 6,
   "metadata": {},
   "outputs": [
    {
     "data": {
      "application/javascript": "\n            setTimeout(function() {\n                var nbb_cell_id = 6;\n                var nbb_unformatted_code = \"import pathlib\\nimport datetime\\n\\nimport matplotlib.pyplot as plt\\nimport pandas as pd\\nimport seaborn as sns\\n\\nimport tensorflow as tf\\nimport datetime\\n\\nfrom tensorflow import keras\\nfrom tensorflow.keras import layers\\n\\nfrom keras.callbacks import ModelCheckpoint\\nimport keras_tuner as kt\";\n                var nbb_formatted_code = \"import pathlib\\nimport datetime\\n\\nimport matplotlib.pyplot as plt\\nimport pandas as pd\\nimport seaborn as sns\\n\\nimport tensorflow as tf\\nimport datetime\\n\\nfrom tensorflow import keras\\nfrom tensorflow.keras import layers\\n\\nfrom keras.callbacks import ModelCheckpoint\\nimport keras_tuner as kt\";\n                var nbb_cells = Jupyter.notebook.get_cells();\n                for (var i = 0; i < nbb_cells.length; ++i) {\n                    if (nbb_cells[i].input_prompt_number == nbb_cell_id) {\n                        if (nbb_cells[i].get_text() == nbb_unformatted_code) {\n                             nbb_cells[i].set_text(nbb_formatted_code);\n                        }\n                        break;\n                    }\n                }\n            }, 500);\n            ",
      "text/plain": [
       "<IPython.core.display.Javascript object>"
      ]
     },
     "metadata": {},
     "output_type": "display_data"
    }
   ],
   "source": [
    "import pathlib\n",
    "import datetime\n",
    "\n",
    "import matplotlib.pyplot as plt\n",
    "import pandas as pd\n",
    "import seaborn as sns\n",
    "\n",
    "import tensorflow as tf\n",
    "import datetime\n",
    "\n",
    "from tensorflow import keras\n",
    "from tensorflow.keras import layers\n",
    "\n",
    "from keras.callbacks import ModelCheckpoint\n",
    "import keras_tuner as kt"
   ]
  },
  {
   "cell_type": "markdown",
   "metadata": {},
   "source": [
    "# Lendo Dfs"
   ]
  },
  {
   "cell_type": "code",
   "execution_count": 7,
   "metadata": {},
   "outputs": [
    {
     "data": {
      "application/javascript": "\n            setTimeout(function() {\n                var nbb_cell_id = 7;\n                var nbb_unformatted_code = \"# 80%\\nPATH_TREINO = \\\"../Data/3_Gold/Treino_all_stocks.csv\\\"\\nDF_TREINO = pd.read_csv(PATH_TREINO, sep=\\\",\\\")\\ntrain_dataset = DF_TREINO\\ntrain_dataset = train_dataset.drop(\\n    [\\n        \\\"oil_5\\\",\\n        \\\"usd_5\\\",\\n        \\\"abev_5\\\",\\n        \\\"jbs_5\\\",\\n        \\\"petr_5\\\",\\n        \\\"vale_5\\\",\\n    ],\\n    axis=1,\\n)\\ntrain_labels = train_dataset.pop(\\\"ibova_5\\\")\\n\\n# 20%\\nPATH_TESTE = \\\"../Data/3_Gold/Teste_all_stocks.csv\\\"\\nDF_TESTE = pd.read_csv(PATH_TESTE, sep=\\\",\\\")\\ntest_dataset = DF_TESTE\\ntest_dataset = test_dataset.drop(\\n    [\\n        \\\"oil_5\\\",\\n        \\\"usd_5\\\",\\n        \\\"abev_5\\\",\\n        \\\"jbs_5\\\",\\n        \\\"petr_5\\\",\\n        \\\"vale_5\\\",\\n    ],\\n    axis=1,\\n)\\ntest_labels = test_dataset.pop(\\\"ibova_5\\\")\\n\\n\\\"\\\"\\\"Resultados\\\"\\\"\\\"\\nlist_activation = []\\nlist_best_epoch = []\\nlist_best_model_path = []\\nlist_learning_rate = []\\nlist_hp_unit_1 = []\\nlist_hp_unit_2 = []\\nlist_hp_unit_3 = []\\nlist_hp_unit_4 = []\\nlist_kernel_size_1 = []\\nlist_kernel_size_2 = []\\nlist_n_filter_1 = []\\nlist_n_filter_2 = []\\nlist_val_mae = []\\nlist_val_mse = []\";\n                var nbb_formatted_code = \"# 80%\\nPATH_TREINO = \\\"../Data/3_Gold/Treino_all_stocks.csv\\\"\\nDF_TREINO = pd.read_csv(PATH_TREINO, sep=\\\",\\\")\\ntrain_dataset = DF_TREINO\\ntrain_dataset = train_dataset.drop(\\n    [\\n        \\\"oil_5\\\",\\n        \\\"usd_5\\\",\\n        \\\"abev_5\\\",\\n        \\\"jbs_5\\\",\\n        \\\"petr_5\\\",\\n        \\\"vale_5\\\",\\n    ],\\n    axis=1,\\n)\\ntrain_labels = train_dataset.pop(\\\"ibova_5\\\")\\n\\n# 20%\\nPATH_TESTE = \\\"../Data/3_Gold/Teste_all_stocks.csv\\\"\\nDF_TESTE = pd.read_csv(PATH_TESTE, sep=\\\",\\\")\\ntest_dataset = DF_TESTE\\ntest_dataset = test_dataset.drop(\\n    [\\n        \\\"oil_5\\\",\\n        \\\"usd_5\\\",\\n        \\\"abev_5\\\",\\n        \\\"jbs_5\\\",\\n        \\\"petr_5\\\",\\n        \\\"vale_5\\\",\\n    ],\\n    axis=1,\\n)\\ntest_labels = test_dataset.pop(\\\"ibova_5\\\")\\n\\n\\\"\\\"\\\"Resultados\\\"\\\"\\\"\\nlist_activation = []\\nlist_best_epoch = []\\nlist_best_model_path = []\\nlist_learning_rate = []\\nlist_hp_unit_1 = []\\nlist_hp_unit_2 = []\\nlist_hp_unit_3 = []\\nlist_hp_unit_4 = []\\nlist_kernel_size_1 = []\\nlist_kernel_size_2 = []\\nlist_n_filter_1 = []\\nlist_n_filter_2 = []\\nlist_val_mae = []\\nlist_val_mse = []\";\n                var nbb_cells = Jupyter.notebook.get_cells();\n                for (var i = 0; i < nbb_cells.length; ++i) {\n                    if (nbb_cells[i].input_prompt_number == nbb_cell_id) {\n                        if (nbb_cells[i].get_text() == nbb_unformatted_code) {\n                             nbb_cells[i].set_text(nbb_formatted_code);\n                        }\n                        break;\n                    }\n                }\n            }, 500);\n            ",
      "text/plain": [
       "<IPython.core.display.Javascript object>"
      ]
     },
     "metadata": {},
     "output_type": "display_data"
    }
   ],
   "source": [
    "# 80%\n",
    "PATH_TREINO = \"../Data/3_Gold/Treino_all_stocks.csv\"\n",
    "DF_TREINO = pd.read_csv(PATH_TREINO, sep=\",\")\n",
    "train_dataset = DF_TREINO\n",
    "train_dataset = train_dataset.drop(\n",
    "    [\n",
    "        \"oil_5\",\n",
    "        \"usd_5\",\n",
    "        \"abev_5\",\n",
    "        \"jbs_5\",\n",
    "        \"petr_5\",\n",
    "        \"vale_5\",\n",
    "    ],\n",
    "    axis=1,\n",
    ")\n",
    "train_labels = train_dataset.pop(\"ibova_5\")\n",
    "\n",
    "# 20%\n",
    "PATH_TESTE = \"../Data/3_Gold/Teste_all_stocks.csv\"\n",
    "DF_TESTE = pd.read_csv(PATH_TESTE, sep=\",\")\n",
    "test_dataset = DF_TESTE\n",
    "test_dataset = test_dataset.drop(\n",
    "    [\n",
    "        \"oil_5\",\n",
    "        \"usd_5\",\n",
    "        \"abev_5\",\n",
    "        \"jbs_5\",\n",
    "        \"petr_5\",\n",
    "        \"vale_5\",\n",
    "    ],\n",
    "    axis=1,\n",
    ")\n",
    "test_labels = test_dataset.pop(\"ibova_5\")\n",
    "\n",
    "\"\"\"Resultados\"\"\"\n",
    "list_activation = []\n",
    "list_best_epoch = []\n",
    "list_best_model_path = []\n",
    "list_learning_rate = []\n",
    "list_hp_unit_1 = []\n",
    "list_hp_unit_2 = []\n",
    "list_hp_unit_3 = []\n",
    "list_hp_unit_4 = []\n",
    "list_kernel_size_1 = []\n",
    "list_kernel_size_2 = []\n",
    "list_n_filter_1 = []\n",
    "list_n_filter_2 = []\n",
    "list_val_mae = []\n",
    "list_val_mse = []"
   ]
  },
  {
   "cell_type": "markdown",
   "metadata": {},
   "source": [
    "# Inspecionando os dados"
   ]
  },
  {
   "cell_type": "code",
   "execution_count": 8,
   "metadata": {},
   "outputs": [
    {
     "data": {
      "application/javascript": "\n            setTimeout(function() {\n                var nbb_cell_id = 8;\n                var nbb_unformatted_code = \"# sns.pairplot(train_dataset[['index','ibova_0','ibova_1','ibova_2','ibova_3','ibova_4','oil_0','oil_1','oil_2','oil_3','oil_4','usd_0','usd_1','usd_2','usd_3','usd_4']], diag_kind=\\\"kde\\\")\\n# sns.pairplot(train_dataset[['index','ibova_0','oil_0','usd_0']], diag_kind=\\\"kde\\\")\\n# sns.pairplot(train_dataset[['ibova_1','oil_1','usd_1']], diag_kind=\\\"kde\\\")\\n\\n# Fazer estatisticas dos conjuntos ibova e etec\\n# test_dataset.describe()\\n# train_stats = train_dataset.describe()\\n# train_stats\";\n                var nbb_formatted_code = \"# sns.pairplot(train_dataset[['index','ibova_0','ibova_1','ibova_2','ibova_3','ibova_4','oil_0','oil_1','oil_2','oil_3','oil_4','usd_0','usd_1','usd_2','usd_3','usd_4']], diag_kind=\\\"kde\\\")\\n# sns.pairplot(train_dataset[['index','ibova_0','oil_0','usd_0']], diag_kind=\\\"kde\\\")\\n# sns.pairplot(train_dataset[['ibova_1','oil_1','usd_1']], diag_kind=\\\"kde\\\")\\n\\n# Fazer estatisticas dos conjuntos ibova e etec\\n# test_dataset.describe()\\n# train_stats = train_dataset.describe()\\n# train_stats\";\n                var nbb_cells = Jupyter.notebook.get_cells();\n                for (var i = 0; i < nbb_cells.length; ++i) {\n                    if (nbb_cells[i].input_prompt_number == nbb_cell_id) {\n                        if (nbb_cells[i].get_text() == nbb_unformatted_code) {\n                             nbb_cells[i].set_text(nbb_formatted_code);\n                        }\n                        break;\n                    }\n                }\n            }, 500);\n            ",
      "text/plain": [
       "<IPython.core.display.Javascript object>"
      ]
     },
     "metadata": {},
     "output_type": "display_data"
    }
   ],
   "source": [
    "# sns.pairplot(train_dataset[['index','ibova_0','ibova_1','ibova_2','ibova_3','ibova_4','oil_0','oil_1','oil_2','oil_3','oil_4','usd_0','usd_1','usd_2','usd_3','usd_4']], diag_kind=\"kde\")\n",
    "# sns.pairplot(train_dataset[['index','ibova_0','oil_0','usd_0']], diag_kind=\"kde\")\n",
    "# sns.pairplot(train_dataset[['ibova_1','oil_1','usd_1']], diag_kind=\"kde\")\n",
    "\n",
    "# Fazer estatisticas dos conjuntos ibova e etec\n",
    "# test_dataset.describe()\n",
    "# train_stats = train_dataset.describe()\n",
    "# train_stats"
   ]
  },
  {
   "cell_type": "markdown",
   "metadata": {},
   "source": [
    "# Definindo o modelo"
   ]
  },
  {
   "cell_type": "code",
   "execution_count": 9,
   "metadata": {},
   "outputs": [
    {
     "data": {
      "application/javascript": "\n            setTimeout(function() {\n                var nbb_cell_id = 9;\n                var nbb_unformatted_code = \"def model_builder(hp):\\n    hp_unit_1 = int(len(train_dataset.keys()))\\n    hp_unit_2 = hp.Int(\\\"unit_2\\\", min_value=4, max_value=64, step=1)\\n    hp_unit_3 = hp.Int(\\\"unit_3\\\", min_value=4, max_value=64, step=1)\\n    hp_unit_4 = hp.Int(\\\"unit_4\\\", min_value=4, max_value=64, step=1)\\n    activationL = [\\n        \\\"sigmoid\\\",\\n        \\\"softplus\\\",\\n        \\\"softsign\\\",\\n        \\\"tanh\\\",\\n        \\\"selu\\\",\\n        \\\"elu\\\",\\n        \\\"exponential\\\",\\n        \\\"relu\\\",\\n    ]\\n    activation_choice = hp.Choice(\\\"activation\\\", values=activationL)\\n    hp_learning_rate = hp.Choice(\\\"learning_rate\\\", values=[1e-2, 1e-3, 1e-4])\\n\\n    model = keras.Sequential(\\n        [\\n            layers.Dense(\\n                units=hp_unit_1,\\n                activation=activation_choice,\\n                input_shape=[len(train_dataset.keys())],\\n            ),\\n            layers.Dense(units=hp_unit_2, activation=activation_choice),\\n            layers.Dense(units=hp_unit_3, activation=activation_choice),\\n            layers.Dense(units=hp_unit_4, activation=activation_choice),\\n            layers.Dense(units=1, activation=\\\"linear\\\"),\\n        ]\\n    )\\n\\n    model.compile(\\n        optimizer=keras.optimizers.Adam(learning_rate=hp_learning_rate),\\n        loss=\\\"mse\\\",\\n        metrics=[\\\"mae\\\", \\\"mse\\\"],\\n    )\\n\\n    return model\\n\\n\\n# rmse pra avalia\\u00e7\\u00e3o, nao para loss\";\n                var nbb_formatted_code = \"def model_builder(hp):\\n    hp_unit_1 = int(len(train_dataset.keys()))\\n    hp_unit_2 = hp.Int(\\\"unit_2\\\", min_value=4, max_value=64, step=1)\\n    hp_unit_3 = hp.Int(\\\"unit_3\\\", min_value=4, max_value=64, step=1)\\n    hp_unit_4 = hp.Int(\\\"unit_4\\\", min_value=4, max_value=64, step=1)\\n    activationL = [\\n        \\\"sigmoid\\\",\\n        \\\"softplus\\\",\\n        \\\"softsign\\\",\\n        \\\"tanh\\\",\\n        \\\"selu\\\",\\n        \\\"elu\\\",\\n        \\\"exponential\\\",\\n        \\\"relu\\\",\\n    ]\\n    activation_choice = hp.Choice(\\\"activation\\\", values=activationL)\\n    hp_learning_rate = hp.Choice(\\\"learning_rate\\\", values=[1e-2, 1e-3, 1e-4])\\n\\n    model = keras.Sequential(\\n        [\\n            layers.Dense(\\n                units=hp_unit_1,\\n                activation=activation_choice,\\n                input_shape=[len(train_dataset.keys())],\\n            ),\\n            layers.Dense(units=hp_unit_2, activation=activation_choice),\\n            layers.Dense(units=hp_unit_3, activation=activation_choice),\\n            layers.Dense(units=hp_unit_4, activation=activation_choice),\\n            layers.Dense(units=1, activation=\\\"linear\\\"),\\n        ]\\n    )\\n\\n    model.compile(\\n        optimizer=keras.optimizers.Adam(learning_rate=hp_learning_rate),\\n        loss=\\\"mse\\\",\\n        metrics=[\\\"mae\\\", \\\"mse\\\"],\\n    )\\n\\n    return model\\n\\n\\n# rmse pra avalia\\u00e7\\u00e3o, nao para loss\";\n                var nbb_cells = Jupyter.notebook.get_cells();\n                for (var i = 0; i < nbb_cells.length; ++i) {\n                    if (nbb_cells[i].input_prompt_number == nbb_cell_id) {\n                        if (nbb_cells[i].get_text() == nbb_unformatted_code) {\n                             nbb_cells[i].set_text(nbb_formatted_code);\n                        }\n                        break;\n                    }\n                }\n            }, 500);\n            ",
      "text/plain": [
       "<IPython.core.display.Javascript object>"
      ]
     },
     "metadata": {},
     "output_type": "display_data"
    }
   ],
   "source": [
    "def model_builder(hp):\n",
    "    hp_unit_1 = int(len(train_dataset.keys()))\n",
    "    hp_unit_2 = hp.Int(\"unit_2\", min_value=4, max_value=64, step=1)\n",
    "    hp_unit_3 = hp.Int(\"unit_3\", min_value=4, max_value=64, step=1)\n",
    "    hp_unit_4 = hp.Int(\"unit_4\", min_value=4, max_value=64, step=1)\n",
    "    activationL = [\n",
    "        \"sigmoid\",\n",
    "        \"softplus\",\n",
    "        \"softsign\",\n",
    "        \"tanh\",\n",
    "        \"selu\",\n",
    "        \"elu\",\n",
    "        \"exponential\",\n",
    "        \"relu\",\n",
    "    ]\n",
    "    activation_choice = hp.Choice(\"activation\", values=activationL)\n",
    "    hp_learning_rate = hp.Choice(\"learning_rate\", values=[1e-2, 1e-3, 1e-4])\n",
    "\n",
    "    model = keras.Sequential(\n",
    "        [\n",
    "            layers.Dense(\n",
    "                units=hp_unit_1,\n",
    "                activation=activation_choice,\n",
    "                input_shape=[len(train_dataset.keys())],\n",
    "            ),\n",
    "            layers.Dense(units=hp_unit_2, activation=activation_choice),\n",
    "            layers.Dense(units=hp_unit_3, activation=activation_choice),\n",
    "            layers.Dense(units=hp_unit_4, activation=activation_choice),\n",
    "            layers.Dense(units=1, activation=\"linear\"),\n",
    "        ]\n",
    "    )\n",
    "\n",
    "    model.compile(\n",
    "        optimizer=keras.optimizers.Adam(learning_rate=hp_learning_rate),\n",
    "        loss=\"mse\",\n",
    "        metrics=[\"mae\", \"mse\"],\n",
    "    )\n",
    "\n",
    "    return model\n",
    "\n",
    "\n",
    "# rmse pra avaliação, nao para loss"
   ]
  },
  {
   "cell_type": "code",
   "execution_count": 10,
   "metadata": {},
   "outputs": [
    {
     "data": {
      "application/javascript": "\n            setTimeout(function() {\n                var nbb_cell_id = 10;\n                var nbb_unformatted_code = \"# model.summary()\";\n                var nbb_formatted_code = \"# model.summary()\";\n                var nbb_cells = Jupyter.notebook.get_cells();\n                for (var i = 0; i < nbb_cells.length; ++i) {\n                    if (nbb_cells[i].input_prompt_number == nbb_cell_id) {\n                        if (nbb_cells[i].get_text() == nbb_unformatted_code) {\n                             nbb_cells[i].set_text(nbb_formatted_code);\n                        }\n                        break;\n                    }\n                }\n            }, 500);\n            ",
      "text/plain": [
       "<IPython.core.display.Javascript object>"
      ]
     },
     "metadata": {},
     "output_type": "display_data"
    }
   ],
   "source": [
    "# model.summary()"
   ]
  },
  {
   "cell_type": "markdown",
   "metadata": {},
   "source": [
    "# Instanciando Tuner\n",
    "\n",
    "https://colab.research.google.com/github/tensorflow/docs/blob/master/site/en/tutorials/keras/keras_tuner.ipynb#scrollTo=McO82AXOuxXh"
   ]
  },
  {
   "cell_type": "code",
   "execution_count": 11,
   "metadata": {},
   "outputs": [
    {
     "ename": "IndexError",
     "evalue": "list index out of range",
     "output_type": "error",
     "traceback": [
      "\u001b[1;31m---------------------------------------------------------------------------\u001b[0m",
      "\u001b[1;31mIndexError\u001b[0m                                Traceback (most recent call last)",
      "\u001b[1;32mc:\\Users\\arthu\\Documents\\GitHub\\TCC_Stock_Predictions\\Model\\Model_MLP.ipynb Cell 16\u001b[0m in \u001b[0;36m<cell line: 10>\u001b[1;34m()\u001b[0m\n\u001b[0;32m      <a href='vscode-notebook-cell:/c%3A/Users/arthu/Documents/GitHub/TCC_Stock_Predictions/Model/Model_MLP.ipynb#X23sZmlsZQ%3D%3D?line=0'>1</a>\u001b[0m tuner \u001b[39m=\u001b[39m kt\u001b[39m.\u001b[39mHyperband(\n\u001b[0;32m      <a href='vscode-notebook-cell:/c%3A/Users/arthu/Documents/GitHub/TCC_Stock_Predictions/Model/Model_MLP.ipynb#X23sZmlsZQ%3D%3D?line=1'>2</a>\u001b[0m     model_builder,\n\u001b[0;32m      <a href='vscode-notebook-cell:/c%3A/Users/arthu/Documents/GitHub/TCC_Stock_Predictions/Model/Model_MLP.ipynb#X23sZmlsZQ%3D%3D?line=2'>3</a>\u001b[0m     objective\u001b[39m=\u001b[39m\u001b[39m\"\u001b[39m\u001b[39mval_mse\u001b[39m\u001b[39m\"\u001b[39m,\n\u001b[1;32m   (...)\u001b[0m\n\u001b[0;32m      <a href='vscode-notebook-cell:/c%3A/Users/arthu/Documents/GitHub/TCC_Stock_Predictions/Model/Model_MLP.ipynb#X23sZmlsZQ%3D%3D?line=6'>7</a>\u001b[0m     project_name\u001b[39m=\u001b[39m\u001b[39m\"\u001b[39m\u001b[39mhyper_parameters\u001b[39m\u001b[39m\"\u001b[39m,\n\u001b[0;32m      <a href='vscode-notebook-cell:/c%3A/Users/arthu/Documents/GitHub/TCC_Stock_Predictions/Model/Model_MLP.ipynb#X23sZmlsZQ%3D%3D?line=7'>8</a>\u001b[0m )\n\u001b[1;32m---> <a href='vscode-notebook-cell:/c%3A/Users/arthu/Documents/GitHub/TCC_Stock_Predictions/Model/Model_MLP.ipynb#X23sZmlsZQ%3D%3D?line=9'>10</a>\u001b[0m tuner\u001b[39m.\u001b[39;49mget_best_hyperparameters(\u001b[39m10\u001b[39;49m)[\u001b[39m0\u001b[39;49m]\n",
      "\u001b[1;31mIndexError\u001b[0m: list index out of range"
     ]
    },
    {
     "data": {
      "application/javascript": "\n            setTimeout(function() {\n                var nbb_cell_id = 11;\n                var nbb_unformatted_code = \"tuner = kt.Hyperband(\\n    model_builder,\\n    objective=\\\"val_mse\\\",\\n    max_epochs=50,\\n    factor=3,\\n    directory=\\\"logs\\\",\\n    project_name=\\\"hyper_parameters\\\",\\n)\\n\\ntuner.get_best_hyperparameters(10)[0]\";\n                var nbb_formatted_code = \"tuner = kt.Hyperband(\\n    model_builder,\\n    objective=\\\"val_mse\\\",\\n    max_epochs=50,\\n    factor=3,\\n    directory=\\\"logs\\\",\\n    project_name=\\\"hyper_parameters\\\",\\n)\\n\\ntuner.get_best_hyperparameters(10)[0]\";\n                var nbb_cells = Jupyter.notebook.get_cells();\n                for (var i = 0; i < nbb_cells.length; ++i) {\n                    if (nbb_cells[i].input_prompt_number == nbb_cell_id) {\n                        if (nbb_cells[i].get_text() == nbb_unformatted_code) {\n                             nbb_cells[i].set_text(nbb_formatted_code);\n                        }\n                        break;\n                    }\n                }\n            }, 500);\n            ",
      "text/plain": [
       "<IPython.core.display.Javascript object>"
      ]
     },
     "metadata": {},
     "output_type": "display_data"
    }
   ],
   "source": [
    "tuner = kt.Hyperband(\n",
    "    model_builder,\n",
    "    objective=\"val_mse\",\n",
    "    max_epochs=50,\n",
    "    factor=3,\n",
    "    directory=\"logs\",\n",
    "    project_name=\"hyper_parameters\",\n",
    ")\n",
    "\n",
    "tuner.get_best_hyperparameters(10)[0]"
   ]
  },
  {
   "cell_type": "code",
   "execution_count": null,
   "metadata": {},
   "outputs": [],
   "source": []
  },
  {
   "cell_type": "markdown",
   "metadata": {},
   "source": [
    "# Selecionando a melhor epoca do modelo"
   ]
  },
  {
   "cell_type": "code",
   "execution_count": null,
   "metadata": {},
   "outputs": [
    {
     "name": "stdout",
     "output_type": "stream",
     "text": [
      "Best epoch: 161\n",
      "val_mae: 0.16078390181064606\n",
      "val_mse: 0.04147687926888466\n"
     ]
    },
    {
     "data": {
      "application/javascript": "\n            setTimeout(function() {\n                var nbb_cell_id = 133;\n                var nbb_unformatted_code = \"# Build the model with the optimal hyperparameters and train it on the data for 50 epochs\\nsave_time = datetime.datetime.strftime(datetime.datetime.now(), \\\"%y_%m_%d_%Hh%Mm%S\\\")\\n\\nbst_model_path = f\\\"Models/MLP/model_{save_time}.h5\\\"\\nmodel_checkpoint = ModelCheckpoint(\\n    bst_model_path, save_best_only=True, monitor=\\\"val_mse\\\", mode=\\\"min\\\"\\n)\\n\\nEPOCHS = 500\\n\\nbest_hps = tuner.get_best_hyperparameters(num_trials=100)[0]\\n\\n\\nmodel = tuner.hypermodel.build(best_hps)\\nhistory = model.fit(\\n    train_dataset,\\n    train_labels,\\n    epochs=EPOCHS,\\n    validation_split=0.2,\\n    verbose=0,\\n    callbacks=([model_checkpoint]),\\n)\\n\\n# Select the best epoch,\\nval_mse_per_epoch = history.history[\\\"val_mse\\\"]\\nbest_epoch = val_mse_per_epoch.index(min(val_mse_per_epoch)) + 1\\n\\nprint(\\\"Best epoch: %d\\\" % (best_epoch,))\\nprint(f'val_mae: {min(history.history[\\\"val_mae\\\"])}')\\nprint(f'val_mse: {min(history.history[\\\"val_mse\\\"])}')\";\n                var nbb_formatted_code = \"# Build the model with the optimal hyperparameters and train it on the data for 50 epochs\\nsave_time = datetime.datetime.strftime(datetime.datetime.now(), \\\"%y_%m_%d_%Hh%Mm%S\\\")\\n\\nbst_model_path = f\\\"Models/MLP/model_{save_time}.h5\\\"\\nmodel_checkpoint = ModelCheckpoint(\\n    bst_model_path, save_best_only=True, monitor=\\\"val_mse\\\", mode=\\\"min\\\"\\n)\\n\\nEPOCHS = 500\\n\\nbest_hps = tuner.get_best_hyperparameters(num_trials=100)[0]\\n\\n\\nmodel = tuner.hypermodel.build(best_hps)\\nhistory = model.fit(\\n    train_dataset,\\n    train_labels,\\n    epochs=EPOCHS,\\n    validation_split=0.2,\\n    verbose=0,\\n    callbacks=([model_checkpoint]),\\n)\\n\\n# Select the best epoch,\\nval_mse_per_epoch = history.history[\\\"val_mse\\\"]\\nbest_epoch = val_mse_per_epoch.index(min(val_mse_per_epoch)) + 1\\n\\nprint(\\\"Best epoch: %d\\\" % (best_epoch,))\\nprint(f'val_mae: {min(history.history[\\\"val_mae\\\"])}')\\nprint(f'val_mse: {min(history.history[\\\"val_mse\\\"])}')\";\n                var nbb_cells = Jupyter.notebook.get_cells();\n                for (var i = 0; i < nbb_cells.length; ++i) {\n                    if (nbb_cells[i].input_prompt_number == nbb_cell_id) {\n                        if (nbb_cells[i].get_text() == nbb_unformatted_code) {\n                             nbb_cells[i].set_text(nbb_formatted_code);\n                        }\n                        break;\n                    }\n                }\n            }, 500);\n            ",
      "text/plain": [
       "<IPython.core.display.Javascript object>"
      ]
     },
     "metadata": {},
     "output_type": "display_data"
    }
   ],
   "source": [
    "# Build the model with the optimal hyperparameters and train it on the data for 50 epochs\n",
    "save_time = datetime.datetime.strftime(datetime.datetime.now(), \"%y_%m_%d_%Hh%Mm%S\")\n",
    "\n",
    "bst_model_path = f\"Models/MLP/model_{save_time}.h5\"\n",
    "model_checkpoint = ModelCheckpoint(\n",
    "    bst_model_path, save_best_only=True, monitor=\"val_mse\", mode=\"min\"\n",
    ")\n",
    "\n",
    "EPOCHS = 500\n",
    "\n",
    "best_hps = tuner.get_best_hyperparameters(num_trials=100)[0]\n",
    "\n",
    "\n",
    "model = tuner.hypermodel.build(best_hps)\n",
    "history = model.fit(\n",
    "    train_dataset,\n",
    "    train_labels,\n",
    "    epochs=EPOCHS,\n",
    "    validation_split=0.2,\n",
    "    verbose=0,\n",
    "    callbacks=([model_checkpoint]),\n",
    ")\n",
    "\n",
    "# Select the best epoch,\n",
    "val_mse_per_epoch = history.history[\"val_mse\"]\n",
    "best_epoch = val_mse_per_epoch.index(min(val_mse_per_epoch)) + 1\n",
    "\n",
    "print(\"Best epoch: %d\" % (best_epoch,))\n",
    "print(f'val_mae: {min(history.history[\"val_mae\"])}')\n",
    "print(f'val_mse: {min(history.history[\"val_mse\"])}')"
   ]
  },
  {
   "cell_type": "code",
   "execution_count": null,
   "metadata": {},
   "outputs": [
    {
     "data": {
      "application/javascript": "\n            setTimeout(function() {\n                var nbb_cell_id = 134;\n                var nbb_unformatted_code = \"try:\\n    value_activation = best_hps.get(\\\"activation\\\")\\nexcept:\\n    value_activation = None\\n\\ntry:\\n    value_learning_rate = best_hps.get(\\\"learning_rate\\\")\\nexcept:\\n    value_learning_rate = None\\ntry:\\n    value_unit_1 = best_hps.get(\\\"unit_1\\\")\\nexcept:\\n    value_unit_1 = None\\ntry:\\n    value_unit_2 = best_hps.get(\\\"unit_2\\\")\\nexcept:\\n    value_unit_2 = None\\ntry:\\n    value_unit_3 = best_hps.get(\\\"unit_3\\\")\\nexcept:\\n    value_unit_3 = None\\ntry:\\n    value_unit_4 = best_hps.get(\\\"unit_4\\\")\\nexcept:\\n    value_unit_4 = None\\ntry:\\n    value_kernel_size_1 = best_hps.get(\\\"kernel_size_1\\\")\\nexcept:\\n    value_kernel_size_1 = None\\ntry:\\n    value_kernel_size_2 = best_hps.get(\\\"kernel_size_2\\\")\\nexcept:\\n    value_kernel_size_2 = None\\ntry:\\n    value_n_filter_1 = best_hps.get(\\\"n_filter_1\\\")\\nexcept:\\n    value_n_filter_1 = None\\ntry:\\n    value_n_filter_2 = best_hps.get(\\\"n_filter_2\\\")\\nexcept:\\n    value_n_filter_2 = None\\n\\n\\n\\\"\\\"\\\"\\\"Repeticao MODEL.ipynb\\\"\\\"\\\"\\n\\n\\ndef save_in_list(one_list, value=None):\\n    try:\\n        one_list.append(value)\\n        return one_list\\n    except:\\n        one_list.append(None)\\n        return one_list\\n\\n\\nlist_best_epoch = save_in_list(list_best_epoch, best_epoch)\\nlist_best_model_path = save_in_list(list_best_model_path, bst_model_path)\\nlist_activation = save_in_list(list_activation, value_activation)\\nlist_learning_rate = save_in_list(list_learning_rate, value_learning_rate)\\nlist_hp_unit_1 = save_in_list(list_hp_unit_1, value_unit_1)\\nlist_hp_unit_2 = save_in_list(list_hp_unit_2, value_unit_2)\\nlist_hp_unit_3 = save_in_list(list_hp_unit_3, value_unit_3)\\nlist_hp_unit_4 = save_in_list(list_hp_unit_4, value_unit_4)\\nlist_kernel_size_1 = save_in_list(list_kernel_size_1, value_kernel_size_1)\\nlist_kernel_size_2 = save_in_list(list_kernel_size_2, value_kernel_size_2)\\nlist_n_filter_1 = save_in_list(list_n_filter_1, value_n_filter_1)\\nlist_n_filter_2 = save_in_list(list_n_filter_2, value_n_filter_2)\\nlist_val_mae = save_in_list(list_val_mae, min(history.history[\\\"val_mae\\\"]))\\nlist_val_mse = save_in_list(list_val_mse, min(history.history[\\\"val_mse\\\"]))\";\n                var nbb_formatted_code = \"try:\\n    value_activation = best_hps.get(\\\"activation\\\")\\nexcept:\\n    value_activation = None\\n\\ntry:\\n    value_learning_rate = best_hps.get(\\\"learning_rate\\\")\\nexcept:\\n    value_learning_rate = None\\ntry:\\n    value_unit_1 = best_hps.get(\\\"unit_1\\\")\\nexcept:\\n    value_unit_1 = None\\ntry:\\n    value_unit_2 = best_hps.get(\\\"unit_2\\\")\\nexcept:\\n    value_unit_2 = None\\ntry:\\n    value_unit_3 = best_hps.get(\\\"unit_3\\\")\\nexcept:\\n    value_unit_3 = None\\ntry:\\n    value_unit_4 = best_hps.get(\\\"unit_4\\\")\\nexcept:\\n    value_unit_4 = None\\ntry:\\n    value_kernel_size_1 = best_hps.get(\\\"kernel_size_1\\\")\\nexcept:\\n    value_kernel_size_1 = None\\ntry:\\n    value_kernel_size_2 = best_hps.get(\\\"kernel_size_2\\\")\\nexcept:\\n    value_kernel_size_2 = None\\ntry:\\n    value_n_filter_1 = best_hps.get(\\\"n_filter_1\\\")\\nexcept:\\n    value_n_filter_1 = None\\ntry:\\n    value_n_filter_2 = best_hps.get(\\\"n_filter_2\\\")\\nexcept:\\n    value_n_filter_2 = None\\n\\n\\n\\\"\\\"\\\"\\\"Repeticao MODEL.ipynb\\\"\\\"\\\"\\n\\n\\ndef save_in_list(one_list, value=None):\\n    try:\\n        one_list.append(value)\\n        return one_list\\n    except:\\n        one_list.append(None)\\n        return one_list\\n\\n\\nlist_best_epoch = save_in_list(list_best_epoch, best_epoch)\\nlist_best_model_path = save_in_list(list_best_model_path, bst_model_path)\\nlist_activation = save_in_list(list_activation, value_activation)\\nlist_learning_rate = save_in_list(list_learning_rate, value_learning_rate)\\nlist_hp_unit_1 = save_in_list(list_hp_unit_1, value_unit_1)\\nlist_hp_unit_2 = save_in_list(list_hp_unit_2, value_unit_2)\\nlist_hp_unit_3 = save_in_list(list_hp_unit_3, value_unit_3)\\nlist_hp_unit_4 = save_in_list(list_hp_unit_4, value_unit_4)\\nlist_kernel_size_1 = save_in_list(list_kernel_size_1, value_kernel_size_1)\\nlist_kernel_size_2 = save_in_list(list_kernel_size_2, value_kernel_size_2)\\nlist_n_filter_1 = save_in_list(list_n_filter_1, value_n_filter_1)\\nlist_n_filter_2 = save_in_list(list_n_filter_2, value_n_filter_2)\\nlist_val_mae = save_in_list(list_val_mae, min(history.history[\\\"val_mae\\\"]))\\nlist_val_mse = save_in_list(list_val_mse, min(history.history[\\\"val_mse\\\"]))\";\n                var nbb_cells = Jupyter.notebook.get_cells();\n                for (var i = 0; i < nbb_cells.length; ++i) {\n                    if (nbb_cells[i].input_prompt_number == nbb_cell_id) {\n                        if (nbb_cells[i].get_text() == nbb_unformatted_code) {\n                             nbb_cells[i].set_text(nbb_formatted_code);\n                        }\n                        break;\n                    }\n                }\n            }, 500);\n            ",
      "text/plain": [
       "<IPython.core.display.Javascript object>"
      ]
     },
     "metadata": {},
     "output_type": "display_data"
    }
   ],
   "source": [
    "try:\n",
    "    value_activation = best_hps.get(\"activation\")\n",
    "except:\n",
    "    value_activation = None\n",
    "\n",
    "try:\n",
    "    value_learning_rate = best_hps.get(\"learning_rate\")\n",
    "except:\n",
    "    value_learning_rate = None\n",
    "try:\n",
    "    value_unit_1 = best_hps.get(\"unit_1\")\n",
    "except:\n",
    "    value_unit_1 = None\n",
    "try:\n",
    "    value_unit_2 = best_hps.get(\"unit_2\")\n",
    "except:\n",
    "    value_unit_2 = None\n",
    "try:\n",
    "    value_unit_3 = best_hps.get(\"unit_3\")\n",
    "except:\n",
    "    value_unit_3 = None\n",
    "try:\n",
    "    value_unit_4 = best_hps.get(\"unit_4\")\n",
    "except:\n",
    "    value_unit_4 = None\n",
    "try:\n",
    "    value_kernel_size_1 = best_hps.get(\"kernel_size_1\")\n",
    "except:\n",
    "    value_kernel_size_1 = None\n",
    "try:\n",
    "    value_kernel_size_2 = best_hps.get(\"kernel_size_2\")\n",
    "except:\n",
    "    value_kernel_size_2 = None\n",
    "try:\n",
    "    value_n_filter_1 = best_hps.get(\"n_filter_1\")\n",
    "except:\n",
    "    value_n_filter_1 = None\n",
    "try:\n",
    "    value_n_filter_2 = best_hps.get(\"n_filter_2\")\n",
    "except:\n",
    "    value_n_filter_2 = None\n",
    "\n",
    "\n",
    "\"\"\"\"Repeticao MODEL.ipynb\"\"\"\n",
    "\n",
    "\n",
    "def save_in_list(one_list, value=None):\n",
    "    try:\n",
    "        one_list.append(value)\n",
    "        return one_list\n",
    "    except:\n",
    "        one_list.append(None)\n",
    "        return one_list\n",
    "\n",
    "\n",
    "list_best_epoch = save_in_list(list_best_epoch, best_epoch)\n",
    "list_best_model_path = save_in_list(list_best_model_path, bst_model_path)\n",
    "list_activation = save_in_list(list_activation, value_activation)\n",
    "list_learning_rate = save_in_list(list_learning_rate, value_learning_rate)\n",
    "list_hp_unit_1 = save_in_list(list_hp_unit_1, value_unit_1)\n",
    "list_hp_unit_2 = save_in_list(list_hp_unit_2, value_unit_2)\n",
    "list_hp_unit_3 = save_in_list(list_hp_unit_3, value_unit_3)\n",
    "list_hp_unit_4 = save_in_list(list_hp_unit_4, value_unit_4)\n",
    "list_kernel_size_1 = save_in_list(list_kernel_size_1, value_kernel_size_1)\n",
    "list_kernel_size_2 = save_in_list(list_kernel_size_2, value_kernel_size_2)\n",
    "list_n_filter_1 = save_in_list(list_n_filter_1, value_n_filter_1)\n",
    "list_n_filter_2 = save_in_list(list_n_filter_2, value_n_filter_2)\n",
    "list_val_mae = save_in_list(list_val_mae, min(history.history[\"val_mae\"]))\n",
    "list_val_mse = save_in_list(list_val_mse, min(history.history[\"val_mse\"]))"
   ]
  },
  {
   "cell_type": "code",
   "execution_count": null,
   "metadata": {},
   "outputs": [],
   "source": []
  },
  {
   "cell_type": "code",
   "execution_count": null,
   "metadata": {},
   "outputs": [
    {
     "name": "stdout",
     "output_type": "stream",
     "text": [
      "[161]\n",
      "['Models/MLP/model_22_10_09_21h48m39.h5']\n",
      "['elu']\n",
      "[0.01]\n",
      "[50]\n",
      "[19]\n",
      "[12]\n",
      "[21]\n",
      "[None]\n",
      "[None]\n",
      "[None]\n",
      "[None]\n",
      "[0.16078390181064606]\n",
      "[0.04147687926888466]\n"
     ]
    },
    {
     "data": {
      "application/javascript": "\n            setTimeout(function() {\n                var nbb_cell_id = 135;\n                var nbb_unformatted_code = \"print(list_best_epoch)\\nprint(list_best_model_path)\\nprint(list_activation)\\nprint(list_learning_rate)\\nprint(list_hp_unit_1)\\nprint(list_hp_unit_2)\\nprint(list_hp_unit_3)\\nprint(list_hp_unit_4)\\nprint(list_kernel_size_1)\\nprint(list_kernel_size_2)\\nprint(list_n_filter_1)\\nprint(list_n_filter_2)\\nprint(list_val_mae)\\nprint(list_val_mse)\";\n                var nbb_formatted_code = \"print(list_best_epoch)\\nprint(list_best_model_path)\\nprint(list_activation)\\nprint(list_learning_rate)\\nprint(list_hp_unit_1)\\nprint(list_hp_unit_2)\\nprint(list_hp_unit_3)\\nprint(list_hp_unit_4)\\nprint(list_kernel_size_1)\\nprint(list_kernel_size_2)\\nprint(list_n_filter_1)\\nprint(list_n_filter_2)\\nprint(list_val_mae)\\nprint(list_val_mse)\";\n                var nbb_cells = Jupyter.notebook.get_cells();\n                for (var i = 0; i < nbb_cells.length; ++i) {\n                    if (nbb_cells[i].input_prompt_number == nbb_cell_id) {\n                        if (nbb_cells[i].get_text() == nbb_unformatted_code) {\n                             nbb_cells[i].set_text(nbb_formatted_code);\n                        }\n                        break;\n                    }\n                }\n            }, 500);\n            ",
      "text/plain": [
       "<IPython.core.display.Javascript object>"
      ]
     },
     "metadata": {},
     "output_type": "display_data"
    }
   ],
   "source": [
    "print(list_best_epoch)\n",
    "print(list_best_model_path)\n",
    "print(list_activation)\n",
    "print(list_learning_rate)\n",
    "print(list_hp_unit_1)\n",
    "print(list_hp_unit_2)\n",
    "print(list_hp_unit_3)\n",
    "print(list_hp_unit_4)\n",
    "print(list_kernel_size_1)\n",
    "print(list_kernel_size_2)\n",
    "print(list_n_filter_1)\n",
    "print(list_n_filter_2)\n",
    "print(list_val_mae)\n",
    "print(list_val_mse)"
   ]
  },
  {
   "cell_type": "code",
   "execution_count": null,
   "metadata": {},
   "outputs": [
    {
     "data": {
      "text/html": [
       "<div>\n",
       "<style scoped>\n",
       "    .dataframe tbody tr th:only-of-type {\n",
       "        vertical-align: middle;\n",
       "    }\n",
       "\n",
       "    .dataframe tbody tr th {\n",
       "        vertical-align: top;\n",
       "    }\n",
       "\n",
       "    .dataframe thead th {\n",
       "        text-align: right;\n",
       "    }\n",
       "</style>\n",
       "<table border=\"1\" class=\"dataframe\">\n",
       "  <thead>\n",
       "    <tr style=\"text-align: right;\">\n",
       "      <th></th>\n",
       "      <th>best_model_path</th>\n",
       "      <th>best_epoch</th>\n",
       "      <th>activation</th>\n",
       "      <th>learning_rate</th>\n",
       "      <th>hp_unit_1</th>\n",
       "      <th>hp_unit_2</th>\n",
       "      <th>hp_unit_3</th>\n",
       "      <th>hp_unit_4</th>\n",
       "      <th>kernel_size_1</th>\n",
       "      <th>kernel_size_2</th>\n",
       "      <th>n_filter_1</th>\n",
       "      <th>n_filter_2</th>\n",
       "      <th>val_mae</th>\n",
       "      <th>val_mse</th>\n",
       "    </tr>\n",
       "  </thead>\n",
       "  <tbody>\n",
       "    <tr>\n",
       "      <th>0</th>\n",
       "      <td>[Models/MLP/model_22_10_09_21h48m39.h5]</td>\n",
       "      <td>[161]</td>\n",
       "      <td>[elu]</td>\n",
       "      <td>[0.01]</td>\n",
       "      <td>[50]</td>\n",
       "      <td>[19]</td>\n",
       "      <td>[12]</td>\n",
       "      <td>[21]</td>\n",
       "      <td>[None]</td>\n",
       "      <td>[None]</td>\n",
       "      <td>[None]</td>\n",
       "      <td>[None]</td>\n",
       "      <td>[0.16078390181064606]</td>\n",
       "      <td>[0.04147687926888466]</td>\n",
       "    </tr>\n",
       "  </tbody>\n",
       "</table>\n",
       "</div>"
      ],
      "text/plain": [
       "                           best_model_path best_epoch activation  \\\n",
       "0  [Models/MLP/model_22_10_09_21h48m39.h5]      [161]      [elu]   \n",
       "\n",
       "  learning_rate hp_unit_1 hp_unit_2 hp_unit_3 hp_unit_4 kernel_size_1  \\\n",
       "0        [0.01]      [50]      [19]      [12]      [21]        [None]   \n",
       "\n",
       "  kernel_size_2 n_filter_1 n_filter_2                val_mae  \\\n",
       "0        [None]     [None]     [None]  [0.16078390181064606]   \n",
       "\n",
       "                 val_mse  \n",
       "0  [0.04147687926888466]  "
      ]
     },
     "execution_count": 136,
     "metadata": {},
     "output_type": "execute_result"
    },
    {
     "data": {
      "application/javascript": "\n            setTimeout(function() {\n                var nbb_cell_id = 136;\n                var nbb_unformatted_code = \"result_columns = [\\n    \\\"best_model_path\\\",\\n    \\\"best_epoch\\\",\\n    \\\"activation\\\",\\n    \\\"learning_rate\\\",\\n    \\\"hp_unit_1\\\",\\n    \\\"hp_unit_2\\\",\\n    \\\"hp_unit_3\\\",\\n    \\\"hp_unit_4\\\",\\n    \\\"kernel_size_1\\\",\\n    \\\"kernel_size_2\\\",\\n    \\\"n_filter_1\\\",\\n    \\\"n_filter_2\\\",\\n    \\\"val_mae\\\",\\n    \\\"val_mse\\\",\\n]\\n\\ndata = {\\n    \\\"best_epoch\\\": [list_best_epoch],\\n    \\\"best_model_path\\\": [list_best_model_path],\\n    \\\"activation\\\": [list_activation],\\n    \\\"learning_rate\\\": [list_learning_rate],\\n    \\\"hp_unit_1\\\": [list_hp_unit_1],\\n    \\\"hp_unit_2\\\": [list_hp_unit_2],\\n    \\\"hp_unit_3\\\": [list_hp_unit_3],\\n    \\\"hp_unit_4\\\": [list_hp_unit_4],\\n    \\\"kernel_size_1\\\": [list_kernel_size_1],\\n    \\\"kernel_size_2\\\": [list_kernel_size_2],\\n    \\\"n_filter_1\\\": [list_n_filter_1],\\n    \\\"n_filter_2\\\": [list_n_filter_2],\\n    \\\"val_mae\\\": [list_val_mae],\\n    \\\"val_mse\\\": [list_val_mse],\\n}\\n\\npd.DataFrame(\\n    data,\\n    columns=result_columns,\\n)\";\n                var nbb_formatted_code = \"result_columns = [\\n    \\\"best_model_path\\\",\\n    \\\"best_epoch\\\",\\n    \\\"activation\\\",\\n    \\\"learning_rate\\\",\\n    \\\"hp_unit_1\\\",\\n    \\\"hp_unit_2\\\",\\n    \\\"hp_unit_3\\\",\\n    \\\"hp_unit_4\\\",\\n    \\\"kernel_size_1\\\",\\n    \\\"kernel_size_2\\\",\\n    \\\"n_filter_1\\\",\\n    \\\"n_filter_2\\\",\\n    \\\"val_mae\\\",\\n    \\\"val_mse\\\",\\n]\\n\\ndata = {\\n    \\\"best_epoch\\\": [list_best_epoch],\\n    \\\"best_model_path\\\": [list_best_model_path],\\n    \\\"activation\\\": [list_activation],\\n    \\\"learning_rate\\\": [list_learning_rate],\\n    \\\"hp_unit_1\\\": [list_hp_unit_1],\\n    \\\"hp_unit_2\\\": [list_hp_unit_2],\\n    \\\"hp_unit_3\\\": [list_hp_unit_3],\\n    \\\"hp_unit_4\\\": [list_hp_unit_4],\\n    \\\"kernel_size_1\\\": [list_kernel_size_1],\\n    \\\"kernel_size_2\\\": [list_kernel_size_2],\\n    \\\"n_filter_1\\\": [list_n_filter_1],\\n    \\\"n_filter_2\\\": [list_n_filter_2],\\n    \\\"val_mae\\\": [list_val_mae],\\n    \\\"val_mse\\\": [list_val_mse],\\n}\\n\\npd.DataFrame(\\n    data,\\n    columns=result_columns,\\n)\";\n                var nbb_cells = Jupyter.notebook.get_cells();\n                for (var i = 0; i < nbb_cells.length; ++i) {\n                    if (nbb_cells[i].input_prompt_number == nbb_cell_id) {\n                        if (nbb_cells[i].get_text() == nbb_unformatted_code) {\n                             nbb_cells[i].set_text(nbb_formatted_code);\n                        }\n                        break;\n                    }\n                }\n            }, 500);\n            ",
      "text/plain": [
       "<IPython.core.display.Javascript object>"
      ]
     },
     "metadata": {},
     "output_type": "display_data"
    }
   ],
   "source": [
    "result_columns = [\n",
    "    \"best_model_path\",\n",
    "    \"best_epoch\",\n",
    "    \"activation\",\n",
    "    \"learning_rate\",\n",
    "    \"hp_unit_1\",\n",
    "    \"hp_unit_2\",\n",
    "    \"hp_unit_3\",\n",
    "    \"hp_unit_4\",\n",
    "    \"kernel_size_1\",\n",
    "    \"kernel_size_2\",\n",
    "    \"n_filter_1\",\n",
    "    \"n_filter_2\",\n",
    "    \"val_mae\",\n",
    "    \"val_mse\",\n",
    "]\n",
    "\n",
    "data = {\n",
    "    \"best_epoch\": [list_best_epoch],\n",
    "    \"best_model_path\": [list_best_model_path],\n",
    "    \"activation\": [list_activation],\n",
    "    \"learning_rate\": [list_learning_rate],\n",
    "    \"hp_unit_1\": [list_hp_unit_1],\n",
    "    \"hp_unit_2\": [list_hp_unit_2],\n",
    "    \"hp_unit_3\": [list_hp_unit_3],\n",
    "    \"hp_unit_4\": [list_hp_unit_4],\n",
    "    \"kernel_size_1\": [list_kernel_size_1],\n",
    "    \"kernel_size_2\": [list_kernel_size_2],\n",
    "    \"n_filter_1\": [list_n_filter_1],\n",
    "    \"n_filter_2\": [list_n_filter_2],\n",
    "    \"val_mae\": [list_val_mae],\n",
    "    \"val_mse\": [list_val_mse],\n",
    "}\n",
    "\n",
    "pd.DataFrame(\n",
    "    data,\n",
    "    columns=result_columns,\n",
    ")"
   ]
  },
  {
   "cell_type": "code",
   "execution_count": null,
   "metadata": {},
   "outputs": [
    {
     "name": "stdout",
     "output_type": "stream",
     "text": [
      "unit_1: 50\n",
      "unit_2: 19\n",
      "unit_3: 12\n",
      "unit_4: 21\n",
      "learning_rate: 0.01\n",
      "activation: elu\n"
     ]
    },
    {
     "data": {
      "application/javascript": "\n            setTimeout(function() {\n                var nbb_cell_id = 137;\n                var nbb_unformatted_code = \"print(f'unit_1: {best_hps.get(\\\"unit_1\\\")}')\\nprint(f'unit_2: {best_hps.get(\\\"unit_2\\\")}')\\nprint(f'unit_3: {best_hps.get(\\\"unit_3\\\")}')\\nprint(f'unit_4: {best_hps.get(\\\"unit_4\\\")}')\\nprint(f'learning_rate: {best_hps.get(\\\"learning_rate\\\")}')\\nprint(f'activation: {best_hps.get(\\\"activation\\\")}')\";\n                var nbb_formatted_code = \"print(f'unit_1: {best_hps.get(\\\"unit_1\\\")}')\\nprint(f'unit_2: {best_hps.get(\\\"unit_2\\\")}')\\nprint(f'unit_3: {best_hps.get(\\\"unit_3\\\")}')\\nprint(f'unit_4: {best_hps.get(\\\"unit_4\\\")}')\\nprint(f'learning_rate: {best_hps.get(\\\"learning_rate\\\")}')\\nprint(f'activation: {best_hps.get(\\\"activation\\\")}')\";\n                var nbb_cells = Jupyter.notebook.get_cells();\n                for (var i = 0; i < nbb_cells.length; ++i) {\n                    if (nbb_cells[i].input_prompt_number == nbb_cell_id) {\n                        if (nbb_cells[i].get_text() == nbb_unformatted_code) {\n                             nbb_cells[i].set_text(nbb_formatted_code);\n                        }\n                        break;\n                    }\n                }\n            }, 500);\n            ",
      "text/plain": [
       "<IPython.core.display.Javascript object>"
      ]
     },
     "metadata": {},
     "output_type": "display_data"
    }
   ],
   "source": [
    "print(f'unit_1: {best_hps.get(\"unit_1\")}')\n",
    "print(f'unit_2: {best_hps.get(\"unit_2\")}')\n",
    "print(f'unit_3: {best_hps.get(\"unit_3\")}')\n",
    "print(f'unit_4: {best_hps.get(\"unit_4\")}')\n",
    "print(f'learning_rate: {best_hps.get(\"learning_rate\")}')\n",
    "print(f'activation: {best_hps.get(\"activation\")}')"
   ]
  },
  {
   "cell_type": "code",
   "execution_count": null,
   "metadata": {},
   "outputs": [
    {
     "name": "stdout",
     "output_type": "stream",
     "text": [
      "15/15 [==============================] - 0s 2ms/step - loss: 4.3583 - mae: 0.4419 - mse: 4.3583\n",
      "[test loss, test accuracy]: [4.358315467834473, 0.4418922960758209, 4.358315467834473]\n"
     ]
    },
    {
     "data": {
      "application/javascript": "\n            setTimeout(function() {\n                var nbb_cell_id = 138;\n                var nbb_unformatted_code = \"eval_result = model.evaluate(test_dataset, test_labels)\\nprint(\\\"[test loss, test accuracy]:\\\", eval_result)\";\n                var nbb_formatted_code = \"eval_result = model.evaluate(test_dataset, test_labels)\\nprint(\\\"[test loss, test accuracy]:\\\", eval_result)\";\n                var nbb_cells = Jupyter.notebook.get_cells();\n                for (var i = 0; i < nbb_cells.length; ++i) {\n                    if (nbb_cells[i].input_prompt_number == nbb_cell_id) {\n                        if (nbb_cells[i].get_text() == nbb_unformatted_code) {\n                             nbb_cells[i].set_text(nbb_formatted_code);\n                        }\n                        break;\n                    }\n                }\n            }, 500);\n            ",
      "text/plain": [
       "<IPython.core.display.Javascript object>"
      ]
     },
     "metadata": {},
     "output_type": "display_data"
    }
   ],
   "source": [
    "eval_result = model.evaluate(test_dataset, test_labels)\n",
    "print(\"[test loss, test accuracy]:\", eval_result)"
   ]
  },
  {
   "cell_type": "markdown",
   "metadata": {},
   "source": [
    "# Avaliando o modelo"
   ]
  },
  {
   "cell_type": "code",
   "execution_count": null,
   "metadata": {},
   "outputs": [
    {
     "data": {
      "application/javascript": "\n            setTimeout(function() {\n                var nbb_cell_id = 139;\n                var nbb_unformatted_code = \"# print(f'train_dataset: {train_dataset.columns()} \\\\n')\\n# print(f'valid_dataset: {valid_dataset.columns()} \\\\n')\\n# print(f'test_dataset: {test_dataset.columns()} \\\\n')\";\n                var nbb_formatted_code = \"# print(f'train_dataset: {train_dataset.columns()} \\\\n')\\n# print(f'valid_dataset: {valid_dataset.columns()} \\\\n')\\n# print(f'test_dataset: {test_dataset.columns()} \\\\n')\";\n                var nbb_cells = Jupyter.notebook.get_cells();\n                for (var i = 0; i < nbb_cells.length; ++i) {\n                    if (nbb_cells[i].input_prompt_number == nbb_cell_id) {\n                        if (nbb_cells[i].get_text() == nbb_unformatted_code) {\n                             nbb_cells[i].set_text(nbb_formatted_code);\n                        }\n                        break;\n                    }\n                }\n            }, 500);\n            ",
      "text/plain": [
       "<IPython.core.display.Javascript object>"
      ]
     },
     "metadata": {},
     "output_type": "display_data"
    }
   ],
   "source": [
    "# print(f'train_dataset: {train_dataset.columns()} \\n')\n",
    "# print(f'valid_dataset: {valid_dataset.columns()} \\n')\n",
    "# print(f'test_dataset: {test_dataset.columns()} \\n')"
   ]
  },
  {
   "cell_type": "code",
   "execution_count": null,
   "metadata": {},
   "outputs": [
    {
     "data": {
      "text/html": [
       "<div>\n",
       "<style scoped>\n",
       "    .dataframe tbody tr th:only-of-type {\n",
       "        vertical-align: middle;\n",
       "    }\n",
       "\n",
       "    .dataframe tbody tr th {\n",
       "        vertical-align: top;\n",
       "    }\n",
       "\n",
       "    .dataframe thead th {\n",
       "        text-align: right;\n",
       "    }\n",
       "</style>\n",
       "<table border=\"1\" class=\"dataframe\">\n",
       "  <thead>\n",
       "    <tr style=\"text-align: right;\">\n",
       "      <th></th>\n",
       "      <th>loss</th>\n",
       "      <th>mae</th>\n",
       "      <th>mse</th>\n",
       "      <th>val_loss</th>\n",
       "      <th>val_mae</th>\n",
       "      <th>val_mse</th>\n",
       "      <th>epoch</th>\n",
       "    </tr>\n",
       "  </thead>\n",
       "  <tbody>\n",
       "    <tr>\n",
       "      <th>495</th>\n",
       "      <td>0.046412</td>\n",
       "      <td>0.164475</td>\n",
       "      <td>0.046412</td>\n",
       "      <td>0.049621</td>\n",
       "      <td>0.174507</td>\n",
       "      <td>0.049621</td>\n",
       "      <td>495</td>\n",
       "    </tr>\n",
       "    <tr>\n",
       "      <th>496</th>\n",
       "      <td>0.046276</td>\n",
       "      <td>0.164268</td>\n",
       "      <td>0.046276</td>\n",
       "      <td>0.055963</td>\n",
       "      <td>0.186377</td>\n",
       "      <td>0.055963</td>\n",
       "      <td>496</td>\n",
       "    </tr>\n",
       "    <tr>\n",
       "      <th>497</th>\n",
       "      <td>0.047024</td>\n",
       "      <td>0.164822</td>\n",
       "      <td>0.047024</td>\n",
       "      <td>0.048814</td>\n",
       "      <td>0.170782</td>\n",
       "      <td>0.048814</td>\n",
       "      <td>497</td>\n",
       "    </tr>\n",
       "    <tr>\n",
       "      <th>498</th>\n",
       "      <td>0.047177</td>\n",
       "      <td>0.165082</td>\n",
       "      <td>0.047177</td>\n",
       "      <td>0.050850</td>\n",
       "      <td>0.177800</td>\n",
       "      <td>0.050850</td>\n",
       "      <td>498</td>\n",
       "    </tr>\n",
       "    <tr>\n",
       "      <th>499</th>\n",
       "      <td>0.047393</td>\n",
       "      <td>0.166698</td>\n",
       "      <td>0.047393</td>\n",
       "      <td>0.059748</td>\n",
       "      <td>0.190226</td>\n",
       "      <td>0.059748</td>\n",
       "      <td>499</td>\n",
       "    </tr>\n",
       "  </tbody>\n",
       "</table>\n",
       "</div>"
      ],
      "text/plain": [
       "         loss       mae       mse  val_loss   val_mae   val_mse  epoch\n",
       "495  0.046412  0.164475  0.046412  0.049621  0.174507  0.049621    495\n",
       "496  0.046276  0.164268  0.046276  0.055963  0.186377  0.055963    496\n",
       "497  0.047024  0.164822  0.047024  0.048814  0.170782  0.048814    497\n",
       "498  0.047177  0.165082  0.047177  0.050850  0.177800  0.050850    498\n",
       "499  0.047393  0.166698  0.047393  0.059748  0.190226  0.059748    499"
      ]
     },
     "execution_count": 140,
     "metadata": {},
     "output_type": "execute_result"
    },
    {
     "data": {
      "application/javascript": "\n            setTimeout(function() {\n                var nbb_cell_id = 140;\n                var nbb_unformatted_code = \"hist = pd.DataFrame(history.history)\\nhist[\\\"epoch\\\"] = history.epoch\\nhist.tail()\";\n                var nbb_formatted_code = \"hist = pd.DataFrame(history.history)\\nhist[\\\"epoch\\\"] = history.epoch\\nhist.tail()\";\n                var nbb_cells = Jupyter.notebook.get_cells();\n                for (var i = 0; i < nbb_cells.length; ++i) {\n                    if (nbb_cells[i].input_prompt_number == nbb_cell_id) {\n                        if (nbb_cells[i].get_text() == nbb_unformatted_code) {\n                             nbb_cells[i].set_text(nbb_formatted_code);\n                        }\n                        break;\n                    }\n                }\n            }, 500);\n            ",
      "text/plain": [
       "<IPython.core.display.Javascript object>"
      ]
     },
     "metadata": {},
     "output_type": "display_data"
    }
   ],
   "source": [
    "hist = pd.DataFrame(history.history)\n",
    "hist[\"epoch\"] = history.epoch\n",
    "hist.tail()"
   ]
  },
  {
   "cell_type": "code",
   "execution_count": null,
   "metadata": {},
   "outputs": [
    {
     "name": "stdout",
     "output_type": "stream",
     "text": [
      "Min MSE: 0.044519923627376556\n",
      "Min Val_MSE: 0.04147687926888466\n"
     ]
    },
    {
     "data": {
      "application/javascript": "\n            setTimeout(function() {\n                var nbb_cell_id = 141;\n                var nbb_unformatted_code = \"print(f\\\"Min MSE: {hist.mse.min()}\\\")\\nprint(f\\\"Min Val_MSE: {hist.val_mse.min()}\\\")\";\n                var nbb_formatted_code = \"print(f\\\"Min MSE: {hist.mse.min()}\\\")\\nprint(f\\\"Min Val_MSE: {hist.val_mse.min()}\\\")\";\n                var nbb_cells = Jupyter.notebook.get_cells();\n                for (var i = 0; i < nbb_cells.length; ++i) {\n                    if (nbb_cells[i].input_prompt_number == nbb_cell_id) {\n                        if (nbb_cells[i].get_text() == nbb_unformatted_code) {\n                             nbb_cells[i].set_text(nbb_formatted_code);\n                        }\n                        break;\n                    }\n                }\n            }, 500);\n            ",
      "text/plain": [
       "<IPython.core.display.Javascript object>"
      ]
     },
     "metadata": {},
     "output_type": "display_data"
    }
   ],
   "source": [
    "print(f\"Min MSE: {hist.mse.min()}\")\n",
    "print(f\"Min Val_MSE: {hist.val_mse.min()}\")"
   ]
  },
  {
   "cell_type": "code",
   "execution_count": null,
   "metadata": {},
   "outputs": [
    {
     "data": {
      "text/html": [
       "<div>\n",
       "<style scoped>\n",
       "    .dataframe tbody tr th:only-of-type {\n",
       "        vertical-align: middle;\n",
       "    }\n",
       "\n",
       "    .dataframe tbody tr th {\n",
       "        vertical-align: top;\n",
       "    }\n",
       "\n",
       "    .dataframe thead th {\n",
       "        text-align: right;\n",
       "    }\n",
       "</style>\n",
       "<table border=\"1\" class=\"dataframe\">\n",
       "  <thead>\n",
       "    <tr style=\"text-align: right;\">\n",
       "      <th></th>\n",
       "      <th>best_epoch</th>\n",
       "      <th>val_mae</th>\n",
       "      <th>val_mse</th>\n",
       "      <th>n_filter_1</th>\n",
       "      <th>n_filter_2</th>\n",
       "      <th>kernel_size_1</th>\n",
       "      <th>kernel_size_2</th>\n",
       "      <th>learning_rate</th>\n",
       "      <th>activation</th>\n",
       "      <th>bst_model_path</th>\n",
       "    </tr>\n",
       "  </thead>\n",
       "  <tbody>\n",
       "    <tr>\n",
       "      <th>0</th>\n",
       "      <td>161</td>\n",
       "      <td>0.160784</td>\n",
       "      <td>0.041477</td>\n",
       "      <td>NaN</td>\n",
       "      <td>None</td>\n",
       "      <td>NaN</td>\n",
       "      <td>None</td>\n",
       "      <td>0.01</td>\n",
       "      <td>elu</td>\n",
       "      <td>Models/MLP/model_22_10_09_21h48m39.h5</td>\n",
       "    </tr>\n",
       "  </tbody>\n",
       "</table>\n",
       "</div>"
      ],
      "text/plain": [
       "  best_epoch   val_mae   val_mse n_filter_1 n_filter_2 kernel_size_1  \\\n",
       "0        161  0.160784  0.041477        NaN       None           NaN   \n",
       "\n",
       "  kernel_size_2 learning_rate activation  \\\n",
       "0          None          0.01        elu   \n",
       "\n",
       "                          bst_model_path  \n",
       "0  Models/MLP/model_22_10_09_21h48m39.h5  "
      ]
     },
     "execution_count": 142,
     "metadata": {},
     "output_type": "execute_result"
    },
    {
     "data": {
      "application/javascript": "\n            setTimeout(function() {\n                var nbb_cell_id = 142;\n                var nbb_unformatted_code = \"df_results = pd.DataFrame(\\n    columns=[\\n        \\\"best_epoch\\\",\\n        \\\"val_mae\\\",\\n        \\\"val_mse\\\",\\n        \\\"n_filter_1\\\",\\n        \\\"n_filter_2\\\",\\n        \\\"kernel_size_1\\\",\\n        \\\"kernel_size_2\\\",\\n        \\\"learning_rate\\\",\\n        \\\"activation\\\",\\n    ]\\n)\\n\\n# for REPETICAO, value in enumerate((df_results)):\\ndf_results.loc[REPETICAO, \\\"bst_model_path\\\"] = bst_model_path\\ndf_results.loc[REPETICAO, \\\"best_epoch\\\"] = best_epoch\\ndf_results.loc[REPETICAO, \\\"val_mae\\\"] = min(history.history[\\\"val_mae\\\"])\\ndf_results.loc[REPETICAO, \\\"val_mse\\\"] = min(history.history[\\\"val_mse\\\"])\\n# df_results.loc[REPETICAO, \\\"n_filter_1\\\"] = best_hps.get(\\\"n_filter_1\\\")\\ndf_results.loc[REPETICAO, \\\"n_filter_2\\\"] = None\\n# df_results.loc[REPETICAO, \\\"kernel_size_1\\\"] = best_hps.get(\\\"kernel_size_1\\\")\\ndf_results.loc[REPETICAO, \\\"kernel_size_2\\\"] = None\\ndf_results.loc[REPETICAO, \\\"learning_rate\\\"] = best_hps.get(\\\"learning_rate\\\")\\ndf_results.loc[REPETICAO, \\\"activation\\\"] = best_hps.get(\\\"activation\\\")\\n\\ndf_results\\n# bst_model_path\";\n                var nbb_formatted_code = \"df_results = pd.DataFrame(\\n    columns=[\\n        \\\"best_epoch\\\",\\n        \\\"val_mae\\\",\\n        \\\"val_mse\\\",\\n        \\\"n_filter_1\\\",\\n        \\\"n_filter_2\\\",\\n        \\\"kernel_size_1\\\",\\n        \\\"kernel_size_2\\\",\\n        \\\"learning_rate\\\",\\n        \\\"activation\\\",\\n    ]\\n)\\n\\n# for REPETICAO, value in enumerate((df_results)):\\ndf_results.loc[REPETICAO, \\\"bst_model_path\\\"] = bst_model_path\\ndf_results.loc[REPETICAO, \\\"best_epoch\\\"] = best_epoch\\ndf_results.loc[REPETICAO, \\\"val_mae\\\"] = min(history.history[\\\"val_mae\\\"])\\ndf_results.loc[REPETICAO, \\\"val_mse\\\"] = min(history.history[\\\"val_mse\\\"])\\n# df_results.loc[REPETICAO, \\\"n_filter_1\\\"] = best_hps.get(\\\"n_filter_1\\\")\\ndf_results.loc[REPETICAO, \\\"n_filter_2\\\"] = None\\n# df_results.loc[REPETICAO, \\\"kernel_size_1\\\"] = best_hps.get(\\\"kernel_size_1\\\")\\ndf_results.loc[REPETICAO, \\\"kernel_size_2\\\"] = None\\ndf_results.loc[REPETICAO, \\\"learning_rate\\\"] = best_hps.get(\\\"learning_rate\\\")\\ndf_results.loc[REPETICAO, \\\"activation\\\"] = best_hps.get(\\\"activation\\\")\\n\\ndf_results\\n# bst_model_path\";\n                var nbb_cells = Jupyter.notebook.get_cells();\n                for (var i = 0; i < nbb_cells.length; ++i) {\n                    if (nbb_cells[i].input_prompt_number == nbb_cell_id) {\n                        if (nbb_cells[i].get_text() == nbb_unformatted_code) {\n                             nbb_cells[i].set_text(nbb_formatted_code);\n                        }\n                        break;\n                    }\n                }\n            }, 500);\n            ",
      "text/plain": [
       "<IPython.core.display.Javascript object>"
      ]
     },
     "metadata": {},
     "output_type": "display_data"
    }
   ],
   "source": [
    "df_results = pd.DataFrame(\n",
    "    columns=[\n",
    "        \"best_epoch\",\n",
    "        \"val_mae\",\n",
    "        \"val_mse\",\n",
    "        \"n_filter_1\",\n",
    "        \"n_filter_2\",\n",
    "        \"kernel_size_1\",\n",
    "        \"kernel_size_2\",\n",
    "        \"learning_rate\",\n",
    "        \"activation\",\n",
    "    ]\n",
    ")\n",
    "\n",
    "# for REPETICAO, value in enumerate((df_results)):\n",
    "df_results.loc[REPETICAO, \"bst_model_path\"] = bst_model_path\n",
    "df_results.loc[REPETICAO, \"best_epoch\"] = best_epoch\n",
    "df_results.loc[REPETICAO, \"val_mae\"] = min(history.history[\"val_mae\"])\n",
    "df_results.loc[REPETICAO, \"val_mse\"] = min(history.history[\"val_mse\"])\n",
    "# df_results.loc[REPETICAO, \"n_filter_1\"] = best_hps.get(\"n_filter_1\")\n",
    "df_results.loc[REPETICAO, \"n_filter_2\"] = None\n",
    "# df_results.loc[REPETICAO, \"kernel_size_1\"] = best_hps.get(\"kernel_size_1\")\n",
    "df_results.loc[REPETICAO, \"kernel_size_2\"] = None\n",
    "df_results.loc[REPETICAO, \"learning_rate\"] = best_hps.get(\"learning_rate\")\n",
    "df_results.loc[REPETICAO, \"activation\"] = best_hps.get(\"activation\")\n",
    "\n",
    "df_results\n",
    "# bst_model_path"
   ]
  },
  {
   "cell_type": "code",
   "execution_count": null,
   "metadata": {},
   "outputs": [
    {
     "data": {
      "image/png": "[encoded data removed]",
      "text/plain": [
       "<Figure size 432x288 with 1 Axes>"
      ]
     },
     "metadata": {
      "needs_background": "light"
     },
     "output_type": "display_data"
    },
    {
     "data": {
      "image/png": "[encoded data removed]",
      "text/plain": [
       "<Figure size 432x288 with 1 Axes>"
      ]
     },
     "metadata": {
      "needs_background": "light"
     },
     "output_type": "display_data"
    },
    {
     "data": {
      "application/javascript": "\n            setTimeout(function() {\n                var nbb_cell_id = 143;\n                var nbb_unformatted_code = \"def plot_history(history):\\n    hist = pd.DataFrame(history.history)\\n    hist[\\\"epoch\\\"] = history.epoch\\n\\n    plt.figure()\\n    plt.xlabel(\\\"Epoch\\\")\\n    plt.ylabel(\\\"Mean Abs Error [ibova_0]\\\")\\n    plt.plot(hist[\\\"epoch\\\"], hist[\\\"mae\\\"], label=\\\"Train Error\\\")\\n    plt.plot(hist[\\\"epoch\\\"], hist[\\\"val_mae\\\"], label=\\\"Val Error\\\")\\n    plt.ylim([0, 1])\\n    plt.legend()\\n\\n    plt.figure()\\n    plt.xlabel(\\\"Epoch\\\")\\n    plt.ylabel(\\\"Mean Square Error [$ibova_0^2$]\\\")\\n    plt.plot(hist[\\\"epoch\\\"], hist[\\\"mse\\\"], label=\\\"Train Error\\\")\\n    plt.plot(hist[\\\"epoch\\\"], hist[\\\"val_mse\\\"], label=\\\"Val Error\\\")\\n    plt.ylim([0, 1])\\n    plt.legend()\\n    plt.show()\\n\\n\\nplot_history(history)\";\n                var nbb_formatted_code = \"def plot_history(history):\\n    hist = pd.DataFrame(history.history)\\n    hist[\\\"epoch\\\"] = history.epoch\\n\\n    plt.figure()\\n    plt.xlabel(\\\"Epoch\\\")\\n    plt.ylabel(\\\"Mean Abs Error [ibova_0]\\\")\\n    plt.plot(hist[\\\"epoch\\\"], hist[\\\"mae\\\"], label=\\\"Train Error\\\")\\n    plt.plot(hist[\\\"epoch\\\"], hist[\\\"val_mae\\\"], label=\\\"Val Error\\\")\\n    plt.ylim([0, 1])\\n    plt.legend()\\n\\n    plt.figure()\\n    plt.xlabel(\\\"Epoch\\\")\\n    plt.ylabel(\\\"Mean Square Error [$ibova_0^2$]\\\")\\n    plt.plot(hist[\\\"epoch\\\"], hist[\\\"mse\\\"], label=\\\"Train Error\\\")\\n    plt.plot(hist[\\\"epoch\\\"], hist[\\\"val_mse\\\"], label=\\\"Val Error\\\")\\n    plt.ylim([0, 1])\\n    plt.legend()\\n    plt.show()\\n\\n\\nplot_history(history)\";\n                var nbb_cells = Jupyter.notebook.get_cells();\n                for (var i = 0; i < nbb_cells.length; ++i) {\n                    if (nbb_cells[i].input_prompt_number == nbb_cell_id) {\n                        if (nbb_cells[i].get_text() == nbb_unformatted_code) {\n                             nbb_cells[i].set_text(nbb_formatted_code);\n                        }\n                        break;\n                    }\n                }\n            }, 500);\n            ",
      "text/plain": [
       "<IPython.core.display.Javascript object>"
      ]
     },
     "metadata": {},
     "output_type": "display_data"
    }
   ],
   "source": [
    "def plot_history(history):\n",
    "    hist = pd.DataFrame(history.history)\n",
    "    hist[\"epoch\"] = history.epoch\n",
    "\n",
    "    plt.figure()\n",
    "    plt.xlabel(\"Epoch\")\n",
    "    plt.ylabel(\"Mean Abs Error [ibova_0]\")\n",
    "    plt.plot(hist[\"epoch\"], hist[\"mae\"], label=\"Train Error\")\n",
    "    plt.plot(hist[\"epoch\"], hist[\"val_mae\"], label=\"Val Error\")\n",
    "    plt.ylim([0, 1])\n",
    "    plt.legend()\n",
    "\n",
    "    plt.figure()\n",
    "    plt.xlabel(\"Epoch\")\n",
    "    plt.ylabel(\"Mean Square Error [$ibova_0^2$]\")\n",
    "    plt.plot(hist[\"epoch\"], hist[\"mse\"], label=\"Train Error\")\n",
    "    plt.plot(hist[\"epoch\"], hist[\"val_mse\"], label=\"Val Error\")\n",
    "    plt.ylim([0, 1])\n",
    "    plt.legend()\n",
    "    plt.show()\n",
    "\n",
    "\n",
    "plot_history(history)"
   ]
  },
  {
   "cell_type": "markdown",
   "metadata": {},
   "source": [
    "# Realizando as previsões"
   ]
  },
  {
   "cell_type": "code",
   "execution_count": null,
   "metadata": {},
   "outputs": [
    {
     "name": "stdout",
     "output_type": "stream",
     "text": [
      "15/15 [==============================] - 0s 2ms/step\n"
     ]
    },
    {
     "data": {
      "application/javascript": "\n            setTimeout(function() {\n                var nbb_cell_id = 144;\n                var nbb_unformatted_code = \"# TODO: Ver se consigo extrair o mse daqui\\n\\ntest_predictions = model.predict(test_dataset).flatten()\";\n                var nbb_formatted_code = \"# TODO: Ver se consigo extrair o mse daqui\\n\\ntest_predictions = model.predict(test_dataset).flatten()\";\n                var nbb_cells = Jupyter.notebook.get_cells();\n                for (var i = 0; i < nbb_cells.length; ++i) {\n                    if (nbb_cells[i].input_prompt_number == nbb_cell_id) {\n                        if (nbb_cells[i].get_text() == nbb_unformatted_code) {\n                             nbb_cells[i].set_text(nbb_formatted_code);\n                        }\n                        break;\n                    }\n                }\n            }, 500);\n            ",
      "text/plain": [
       "<IPython.core.display.Javascript object>"
      ]
     },
     "metadata": {},
     "output_type": "display_data"
    }
   ],
   "source": [
    "# TODO: Ver se consigo extrair o mse daqui\n",
    "\n",
    "test_predictions = model.predict(test_dataset).flatten()"
   ]
  },
  {
   "cell_type": "markdown",
   "metadata": {},
   "source": [
    "# Avaliando as previsões:"
   ]
  },
  {
   "cell_type": "code",
   "execution_count": null,
   "metadata": {},
   "outputs": [
    {
     "data": {
      "application/javascript": "\n            setTimeout(function() {\n                var nbb_cell_id = 145;\n                var nbb_unformatted_code = \"def show_test_labels():\\n    # Imprimindo valores reais\\n    plt.plot(test_labels, color=\\\"r\\\", label=\\\"ibova_REAL\\\")\\n    plt.xlabel(\\\"Dates\\\")\\n    plt.ylabel(\\\"Variation ROC\\\")\\n    plt.title(\\\"ibova_REAL\\\")\\n    plt.legend()\\n\\n\\ndef show_model_predictions():\\n    # Imprimindo previsoes\\n    plt.plot(test_predictions, color=\\\"g\\\", label=\\\"predictions_MODEL\\\")\\n    plt.xlabel(\\\"Dates\\\")\\n    plt.ylabel(\\\"Variation ROC\\\")\\n    plt.title(\\\"predictions_MODEL\\\")\\n    plt.legend()\\n\\n\\ndef show_compare_graph():\\n    # Predictt X Real values\\n    plt.plot(test_labels, color=\\\"r\\\", label=\\\"ibova_REAL\\\")\\n    plt.plot(test_predictions, color=\\\"g\\\", label=\\\"predictions_MODEL\\\")\\n    plt.xlabel(\\\"Dates\\\")\\n    plt.ylabel(\\\"Variation ROC\\\")\\n    plt.title(\\\"Predict X Real values\\\")\\n    plt.legend()\\n    plt.show()\\n\\n\\ndef show_true_predict_values():\\n    plt.figure(figsize=(24, 4))\\n    plt.scatter(test_labels, test_predictions)\\n    plt.xlabel(\\\"True Values [ibova_0]\\\")\\n    plt.ylabel(\\\"Predictions [ibova_0]\\\")\\n    plt.axis(\\\"equal\\\")\\n    plt.axis(\\\"square\\\")\\n    plt.xlim([0, plt.xlim()[1]])\\n    plt.ylim([0, plt.ylim()[1]])\\n    _ = plt.plot([-100, 100], [-100, 100])\";\n                var nbb_formatted_code = \"def show_test_labels():\\n    # Imprimindo valores reais\\n    plt.plot(test_labels, color=\\\"r\\\", label=\\\"ibova_REAL\\\")\\n    plt.xlabel(\\\"Dates\\\")\\n    plt.ylabel(\\\"Variation ROC\\\")\\n    plt.title(\\\"ibova_REAL\\\")\\n    plt.legend()\\n\\n\\ndef show_model_predictions():\\n    # Imprimindo previsoes\\n    plt.plot(test_predictions, color=\\\"g\\\", label=\\\"predictions_MODEL\\\")\\n    plt.xlabel(\\\"Dates\\\")\\n    plt.ylabel(\\\"Variation ROC\\\")\\n    plt.title(\\\"predictions_MODEL\\\")\\n    plt.legend()\\n\\n\\ndef show_compare_graph():\\n    # Predictt X Real values\\n    plt.plot(test_labels, color=\\\"r\\\", label=\\\"ibova_REAL\\\")\\n    plt.plot(test_predictions, color=\\\"g\\\", label=\\\"predictions_MODEL\\\")\\n    plt.xlabel(\\\"Dates\\\")\\n    plt.ylabel(\\\"Variation ROC\\\")\\n    plt.title(\\\"Predict X Real values\\\")\\n    plt.legend()\\n    plt.show()\\n\\n\\ndef show_true_predict_values():\\n    plt.figure(figsize=(24, 4))\\n    plt.scatter(test_labels, test_predictions)\\n    plt.xlabel(\\\"True Values [ibova_0]\\\")\\n    plt.ylabel(\\\"Predictions [ibova_0]\\\")\\n    plt.axis(\\\"equal\\\")\\n    plt.axis(\\\"square\\\")\\n    plt.xlim([0, plt.xlim()[1]])\\n    plt.ylim([0, plt.ylim()[1]])\\n    _ = plt.plot([-100, 100], [-100, 100])\";\n                var nbb_cells = Jupyter.notebook.get_cells();\n                for (var i = 0; i < nbb_cells.length; ++i) {\n                    if (nbb_cells[i].input_prompt_number == nbb_cell_id) {\n                        if (nbb_cells[i].get_text() == nbb_unformatted_code) {\n                             nbb_cells[i].set_text(nbb_formatted_code);\n                        }\n                        break;\n                    }\n                }\n            }, 500);\n            ",
      "text/plain": [
       "<IPython.core.display.Javascript object>"
      ]
     },
     "metadata": {},
     "output_type": "display_data"
    }
   ],
   "source": [
    "def show_test_labels():\n",
    "    # Imprimindo valores reais\n",
    "    plt.plot(test_labels, color=\"r\", label=\"ibova_REAL\")\n",
    "    plt.xlabel(\"Dates\")\n",
    "    plt.ylabel(\"Variation ROC\")\n",
    "    plt.title(\"ibova_REAL\")\n",
    "    plt.legend()\n",
    "\n",
    "\n",
    "def show_model_predictions():\n",
    "    # Imprimindo previsoes\n",
    "    plt.plot(test_predictions, color=\"g\", label=\"predictions_MODEL\")\n",
    "    plt.xlabel(\"Dates\")\n",
    "    plt.ylabel(\"Variation ROC\")\n",
    "    plt.title(\"predictions_MODEL\")\n",
    "    plt.legend()\n",
    "\n",
    "\n",
    "def show_compare_graph():\n",
    "    # Predictt X Real values\n",
    "    plt.plot(test_labels, color=\"r\", label=\"ibova_REAL\")\n",
    "    plt.plot(test_predictions, color=\"g\", label=\"predictions_MODEL\")\n",
    "    plt.xlabel(\"Dates\")\n",
    "    plt.ylabel(\"Variation ROC\")\n",
    "    plt.title(\"Predict X Real values\")\n",
    "    plt.legend()\n",
    "    plt.show()\n",
    "\n",
    "\n",
    "def show_true_predict_values():\n",
    "    plt.figure(figsize=(24, 4))\n",
    "    plt.scatter(test_labels, test_predictions)\n",
    "    plt.xlabel(\"True Values [ibova_0]\")\n",
    "    plt.ylabel(\"Predictions [ibova_0]\")\n",
    "    plt.axis(\"equal\")\n",
    "    plt.axis(\"square\")\n",
    "    plt.xlim([0, plt.xlim()[1]])\n",
    "    plt.ylim([0, plt.ylim()[1]])\n",
    "    _ = plt.plot([-100, 100], [-100, 100])"
   ]
  },
  {
   "cell_type": "code",
   "execution_count": null,
   "metadata": {},
   "outputs": [
    {
     "data": {
      "image/png": "[encoded data removed]",
      "text/plain": [
       "<Figure size 432x288 with 1 Axes>"
      ]
     },
     "metadata": {
      "needs_background": "light"
     },
     "output_type": "display_data"
    },
    {
     "data": {
      "application/javascript": "\n            setTimeout(function() {\n                var nbb_cell_id = 146;\n                var nbb_unformatted_code = \"show_compare_graph()\";\n                var nbb_formatted_code = \"show_compare_graph()\";\n                var nbb_cells = Jupyter.notebook.get_cells();\n                for (var i = 0; i < nbb_cells.length; ++i) {\n                    if (nbb_cells[i].input_prompt_number == nbb_cell_id) {\n                        if (nbb_cells[i].get_text() == nbb_unformatted_code) {\n                             nbb_cells[i].set_text(nbb_formatted_code);\n                        }\n                        break;\n                    }\n                }\n            }, 500);\n            ",
      "text/plain": [
       "<IPython.core.display.Javascript object>"
      ]
     },
     "metadata": {},
     "output_type": "display_data"
    }
   ],
   "source": [
    "show_compare_graph()"
   ]
  },
  {
   "cell_type": "code",
   "execution_count": null,
   "metadata": {},
   "outputs": [
    {
     "data": {
      "image/png": "[encoded data removed]",
      "text/plain": [
       "<Figure size 432x288 with 1 Axes>"
      ]
     },
     "metadata": {
      "needs_background": "light"
     },
     "output_type": "display_data"
    },
    {
     "data": {
      "application/javascript": "\n            setTimeout(function() {\n                var nbb_cell_id = 147;\n                var nbb_unformatted_code = \"show_model_predictions()\";\n                var nbb_formatted_code = \"show_model_predictions()\";\n                var nbb_cells = Jupyter.notebook.get_cells();\n                for (var i = 0; i < nbb_cells.length; ++i) {\n                    if (nbb_cells[i].input_prompt_number == nbb_cell_id) {\n                        if (nbb_cells[i].get_text() == nbb_unformatted_code) {\n                             nbb_cells[i].set_text(nbb_formatted_code);\n                        }\n                        break;\n                    }\n                }\n            }, 500);\n            ",
      "text/plain": [
       "<IPython.core.display.Javascript object>"
      ]
     },
     "metadata": {},
     "output_type": "display_data"
    }
   ],
   "source": [
    "show_model_predictions()"
   ]
  },
  {
   "cell_type": "code",
   "execution_count": null,
   "metadata": {},
   "outputs": [
    {
     "data": {
      "application/javascript": "\n            setTimeout(function() {\n                var nbb_cell_id = 148;\n                var nbb_unformatted_code = \"model_name = f'mlp_unit_1({best_hps.get(\\\"unit_1\\\")})unit_2({best_hps.get(\\\"unit_2\\\")})unit_3({best_hps.get(\\\"unit_3\\\")})unit_4({best_hps.get(\\\"unit_4\\\")})_learning({best_hps.get(\\\"learning_rate\\\")})_activation({best_hps.get(\\\"activation\\\")})'\\nmodel_name\\nmodel.save(f\\\"models/mlp/{model_name}date_{save_time}.h5\\\")\";\n                var nbb_formatted_code = \"model_name = f'mlp_unit_1({best_hps.get(\\\"unit_1\\\")})unit_2({best_hps.get(\\\"unit_2\\\")})unit_3({best_hps.get(\\\"unit_3\\\")})unit_4({best_hps.get(\\\"unit_4\\\")})_learning({best_hps.get(\\\"learning_rate\\\")})_activation({best_hps.get(\\\"activation\\\")})'\\nmodel_name\\nmodel.save(f\\\"models/mlp/{model_name}date_{save_time}.h5\\\")\";\n                var nbb_cells = Jupyter.notebook.get_cells();\n                for (var i = 0; i < nbb_cells.length; ++i) {\n                    if (nbb_cells[i].input_prompt_number == nbb_cell_id) {\n                        if (nbb_cells[i].get_text() == nbb_unformatted_code) {\n                             nbb_cells[i].set_text(nbb_formatted_code);\n                        }\n                        break;\n                    }\n                }\n            }, 500);\n            ",
      "text/plain": [
       "<IPython.core.display.Javascript object>"
      ]
     },
     "metadata": {},
     "output_type": "display_data"
    }
   ],
   "source": [
    "model_name = f'mlp_unit_1({best_hps.get(\"unit_1\")})unit_2({best_hps.get(\"unit_2\")})unit_3({best_hps.get(\"unit_3\")})unit_4({best_hps.get(\"unit_4\")})_learning({best_hps.get(\"learning_rate\")})_activation({best_hps.get(\"activation\")})'\n",
    "model_name\n",
    "model.save(f\"models/mlp/{model_name}date_{save_time}.h5\")"
   ]
  },
  {
   "cell_type": "code",
   "execution_count": null,
   "metadata": {},
   "outputs": [
    {
     "name": "stdout",
     "output_type": "stream",
     "text": [
      "Massa de predição: 0.024045521393418312\n"
     ]
    },
    {
     "ename": "NameError",
     "evalue": "name 'ibova_test' is not defined",
     "output_type": "error",
     "traceback": [
      "\u001b[1;31m---------------------------------------------------------------------------\u001b[0m",
      "\u001b[1;31mNameError\u001b[0m                                 Traceback (most recent call last)",
      "\u001b[1;32mc:\\Users\\arthu\\Documents\\GitHub\\TCC_Stock_Predictions\\Model\\Model_MLP.ipynb Cell 41\u001b[0m in \u001b[0;36m<cell line: 4>\u001b[1;34m()\u001b[0m\n\u001b[0;32m      <a href='vscode-notebook-cell:/c%3A/Users/arthu/Documents/GitHub/TCC_Stock_Predictions/Model/Model_MLP.ipynb#X50sZmlsZQ%3D%3D?line=0'>1</a>\u001b[0m \u001b[39m# Analisando Medias:\u001b[39;00m\n\u001b[0;32m      <a href='vscode-notebook-cell:/c%3A/Users/arthu/Documents/GitHub/TCC_Stock_Predictions/Model/Model_MLP.ipynb#X50sZmlsZQ%3D%3D?line=2'>3</a>\u001b[0m \u001b[39mprint\u001b[39m(\u001b[39mf\u001b[39m\u001b[39m\"\u001b[39m\u001b[39mMassa de predição: \u001b[39m\u001b[39m{\u001b[39;00mtest_predictions\u001b[39m.\u001b[39mmean()\u001b[39m}\u001b[39;00m\u001b[39m\"\u001b[39m)\n\u001b[1;32m----> <a href='vscode-notebook-cell:/c%3A/Users/arthu/Documents/GitHub/TCC_Stock_Predictions/Model/Model_MLP.ipynb#X50sZmlsZQ%3D%3D?line=3'>4</a>\u001b[0m \u001b[39mprint\u001b[39m(\u001b[39mf\u001b[39m\u001b[39m\"\u001b[39m\u001b[39mMassa inicial: \u001b[39m\u001b[39m{\u001b[39;00mibova_test\u001b[39m.\u001b[39mmean()\u001b[39m}\u001b[39;00m\u001b[39m\"\u001b[39m)\n\u001b[0;32m      <a href='vscode-notebook-cell:/c%3A/Users/arthu/Documents/GitHub/TCC_Stock_Predictions/Model/Model_MLP.ipynb#X50sZmlsZQ%3D%3D?line=4'>5</a>\u001b[0m \u001b[39mprint\u001b[39m(\u001b[39mf\u001b[39m\u001b[39m\"\u001b[39m\u001b[39mDiferenças das médias: \u001b[39m\u001b[39m{\u001b[39;00mibova_test\u001b[39m.\u001b[39mmean() \u001b[39m-\u001b[39m test_predictions\u001b[39m.\u001b[39mmean()\u001b[39m}\u001b[39;00m\u001b[39m\"\u001b[39m)\n",
      "\u001b[1;31mNameError\u001b[0m: name 'ibova_test' is not defined"
     ]
    },
    {
     "data": {
      "application/javascript": "\n            setTimeout(function() {\n                var nbb_cell_id = 149;\n                var nbb_unformatted_code = \"# Analisando Medias:\\n\\nprint(f\\\"Massa de predi\\u00e7\\u00e3o: {test_predictions.mean()}\\\")\\nprint(f\\\"Massa inicial: {ibova_test.mean()}\\\")\\nprint(f\\\"Diferen\\u00e7as das m\\u00e9dias: {ibova_test.mean() - test_predictions.mean()}\\\")\\n\\n# Add o RM_MSE medio\";\n                var nbb_formatted_code = \"# Analisando Medias:\\n\\nprint(f\\\"Massa de predi\\u00e7\\u00e3o: {test_predictions.mean()}\\\")\\nprint(f\\\"Massa inicial: {ibova_test.mean()}\\\")\\nprint(f\\\"Diferen\\u00e7as das m\\u00e9dias: {ibova_test.mean() - test_predictions.mean()}\\\")\\n\\n# Add o RM_MSE medio\";\n                var nbb_cells = Jupyter.notebook.get_cells();\n                for (var i = 0; i < nbb_cells.length; ++i) {\n                    if (nbb_cells[i].input_prompt_number == nbb_cell_id) {\n                        if (nbb_cells[i].get_text() == nbb_unformatted_code) {\n                             nbb_cells[i].set_text(nbb_formatted_code);\n                        }\n                        break;\n                    }\n                }\n            }, 500);\n            ",
      "text/plain": [
       "<IPython.core.display.Javascript object>"
      ]
     },
     "metadata": {},
     "output_type": "display_data"
    }
   ],
   "source": [
    "# Analisando Medias:\n",
    "\n",
    "print(f\"Massa de predição: {test_predictions.mean()}\")\n",
    "print(f\"Massa inicial: {ibova_test.mean()}\")\n",
    "print(f\"Diferenças das médias: {ibova_test.mean() - test_predictions.mean()}\")\n",
    "\n",
    "# Add o RM_MSE medio"
   ]
  },
  {
   "cell_type": "code",
   "execution_count": null,
   "metadata": {},
   "outputs": [
    {
     "data": {
      "text/plain": [
       "'22_08_30_22h55m31'"
      ]
     },
     "execution_count": 124,
     "metadata": {},
     "output_type": "execute_result"
    },
    {
     "data": {
      "application/javascript": "\n            setTimeout(function() {\n                var nbb_cell_id = 124;\n                var nbb_unformatted_code = \"save_time\";\n                var nbb_formatted_code = \"save_time\";\n                var nbb_cells = Jupyter.notebook.get_cells();\n                for (var i = 0; i < nbb_cells.length; ++i) {\n                    if (nbb_cells[i].input_prompt_number == nbb_cell_id) {\n                        if (nbb_cells[i].get_text() == nbb_unformatted_code) {\n                             nbb_cells[i].set_text(nbb_formatted_code);\n                        }\n                        break;\n                    }\n                }\n            }, 500);\n            ",
      "text/plain": [
       "<IPython.core.display.Javascript object>"
      ]
     },
     "metadata": {},
     "output_type": "display_data"
    }
   ],
   "source": [
    "save_time"
   ]
  }
 ],
 "metadata": {
  "kernelspec": {
   "display_name": "Python 3.8.12 ('pystock')",
   "language": "python",
   "name": "python3"
  },
  "language_info": {
   "codemirror_mode": {
    "name": "ipython",
    "version": 3
   },
   "file_extension": ".py",
   "mimetype": "text/x-python",
   "name": "python",
   "nbconvert_exporter": "python",
   "pygments_lexer": "ipython3",
   "version": "3.8.13"
  },
  "orig_nbformat": 4,
  "vscode": {
   "interpreter": {
    "hash": "bc0c8eb905859abd75b389576d87e2ac71c748b72952270660ecc130aeb3e651"
   }
  }
 },
 "nbformat": 4,
 "nbformat_minor": 2
}
