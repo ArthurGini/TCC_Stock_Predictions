{
 "cells": [
  {
   "cell_type": "code",
   "execution_count": 67,
   "metadata": {},
   "outputs": [
    {
     "data": {
      "application/javascript": "\n            setTimeout(function() {\n                var nbb_cell_id = 67;\n                var nbb_unformatted_code = \"# Usei como base esse tutorial:\\n# https://colab.research.google.com/github/tensorflow/docs-l10n/blob/master/site/pt-br/tutorials/keras/regression.ipynb#scrollTo=f-OHX4DiXd8x\";\n                var nbb_formatted_code = \"# Usei como base esse tutorial:\\n# https://colab.research.google.com/github/tensorflow/docs-l10n/blob/master/site/pt-br/tutorials/keras/regression.ipynb#scrollTo=f-OHX4DiXd8x\";\n                var nbb_cells = Jupyter.notebook.get_cells();\n                for (var i = 0; i < nbb_cells.length; ++i) {\n                    if (nbb_cells[i].input_prompt_number == nbb_cell_id) {\n                        if (nbb_cells[i].get_text() == nbb_unformatted_code) {\n                             nbb_cells[i].set_text(nbb_formatted_code);\n                        }\n                        break;\n                    }\n                }\n            }, 500);\n            ",
      "text/plain": [
       "<IPython.core.display.Javascript object>"
      ]
     },
     "metadata": {},
     "output_type": "display_data"
    }
   ],
   "source": [
    "# Usei como base esse tutorial:\n",
    "# https://colab.research.google.com/github/tensorflow/docs-l10n/blob/master/site/pt-br/tutorials/keras/regression.ipynb#scrollTo=f-OHX4DiXd8x"
   ]
  },
  {
   "cell_type": "code",
   "execution_count": 68,
   "metadata": {},
   "outputs": [
    {
     "data": {
      "application/javascript": "\n            setTimeout(function() {\n                var nbb_cell_id = 68;\n                var nbb_unformatted_code = \"# # # # Clear logs\\n# # # %rm -rf ./logs/\\n\\n# # # Ativa\\u00e7\\u00e3o do Tensorboard\\n# %conda activate pystock\\n# %load_ext tensorboard\\n\\n# # # Reload Tensorboar\\n# %reload_ext tensorboard\";\n                var nbb_formatted_code = \"# # # # Clear logs\\n# # # %rm -rf ./logs/\\n\\n# # # Ativa\\u00e7\\u00e3o do Tensorboard\\n# %conda activate pystock\\n# %load_ext tensorboard\\n\\n# # # Reload Tensorboar\\n# %reload_ext tensorboard\";\n                var nbb_cells = Jupyter.notebook.get_cells();\n                for (var i = 0; i < nbb_cells.length; ++i) {\n                    if (nbb_cells[i].input_prompt_number == nbb_cell_id) {\n                        if (nbb_cells[i].get_text() == nbb_unformatted_code) {\n                             nbb_cells[i].set_text(nbb_formatted_code);\n                        }\n                        break;\n                    }\n                }\n            }, 500);\n            ",
      "text/plain": [
       "<IPython.core.display.Javascript object>"
      ]
     },
     "metadata": {},
     "output_type": "display_data"
    }
   ],
   "source": [
    "# # # # Clear logs\n",
    "# # # %rm -rf ./logs/\n",
    "\n",
    "# # # Ativação do Tensorboard\n",
    "# %conda activate pystock\n",
    "# %load_ext tensorboard\n",
    "\n",
    "# # # Reload Tensorboar\n",
    "# %reload_ext tensorboard"
   ]
  },
  {
   "cell_type": "code",
   "execution_count": 69,
   "metadata": {},
   "outputs": [
    {
     "data": {
      "application/javascript": "\n            setTimeout(function() {\n                var nbb_cell_id = 69;\n                var nbb_unformatted_code = \"# # # Reload Tensorboar\\n# %reload_ext tensorboa\";\n                var nbb_formatted_code = \"# # # Reload Tensorboar\\n# %reload_ext tensorboa\";\n                var nbb_cells = Jupyter.notebook.get_cells();\n                for (var i = 0; i < nbb_cells.length; ++i) {\n                    if (nbb_cells[i].input_prompt_number == nbb_cell_id) {\n                        if (nbb_cells[i].get_text() == nbb_unformatted_code) {\n                             nbb_cells[i].set_text(nbb_formatted_code);\n                        }\n                        break;\n                    }\n                }\n            }, 500);\n            ",
      "text/plain": [
       "<IPython.core.display.Javascript object>"
      ]
     },
     "metadata": {},
     "output_type": "display_data"
    }
   ],
   "source": [
    "# # # Reload Tensorboar\n",
    "# %reload_ext tensorboa"
   ]
  },
  {
   "cell_type": "code",
   "execution_count": 70,
   "metadata": {},
   "outputs": [
    {
     "name": "stdout",
     "output_type": "stream",
     "text": [
      "The nb_black extension is already loaded. To reload it, use:\n",
      "  %reload_ext nb_black\n",
      "The lab_black extension is already loaded. To reload it, use:\n",
      "  %reload_ext lab_black\n"
     ]
    },
    {
     "data": {
      "application/javascript": "\n            setTimeout(function() {\n                var nbb_cell_id = 70;\n                var nbb_unformatted_code = \"%load_ext nb_black\\n%load_ext lab_black\";\n                var nbb_formatted_code = \"%load_ext nb_black\\n%load_ext lab_black\";\n                var nbb_cells = Jupyter.notebook.get_cells();\n                for (var i = 0; i < nbb_cells.length; ++i) {\n                    if (nbb_cells[i].input_prompt_number == nbb_cell_id) {\n                        if (nbb_cells[i].get_text() == nbb_unformatted_code) {\n                             nbb_cells[i].set_text(nbb_formatted_code);\n                        }\n                        break;\n                    }\n                }\n            }, 500);\n            ",
      "text/plain": [
       "<IPython.core.display.Javascript object>"
      ]
     },
     "metadata": {},
     "output_type": "display_data"
    }
   ],
   "source": [
    "%load_ext nb_black\n",
    "%load_ext lab_black"
   ]
  },
  {
   "cell_type": "markdown",
   "metadata": {},
   "source": [
    "# Sequential model\n",
    "\n",
    "*Dense model 16*\n",
    "*Dense model 16*\n",
    "*Dense model 8*\n",
    "*Dense model 4*\n",
    "*Epoch 350*\n",
    "\n",
    "_MSE: 1.31_\n",
    "epoch: 350\n",
    "\n",
    "Activation: softplus\n",
    "Optimizer: Adam\n",
    "\n",
    "15/15 - 0s - loss: 0.6325 - mae: 0.5830 - mse: 0.6325\n",
    "Testing set Mean Abs Error:  0.58 ibova_0"
   ]
  },
  {
   "cell_type": "code",
   "execution_count": 71,
   "metadata": {},
   "outputs": [
    {
     "data": {
      "application/javascript": "\n            setTimeout(function() {\n                var nbb_cell_id = 71;\n                var nbb_unformatted_code = \"TYPE_MODEL = \\\"MLP\\\"\\nREPETICAO = 0\";\n                var nbb_formatted_code = \"TYPE_MODEL = \\\"MLP\\\"\\nREPETICAO = 0\";\n                var nbb_cells = Jupyter.notebook.get_cells();\n                for (var i = 0; i < nbb_cells.length; ++i) {\n                    if (nbb_cells[i].input_prompt_number == nbb_cell_id) {\n                        if (nbb_cells[i].get_text() == nbb_unformatted_code) {\n                             nbb_cells[i].set_text(nbb_formatted_code);\n                        }\n                        break;\n                    }\n                }\n            }, 500);\n            ",
      "text/plain": [
       "<IPython.core.display.Javascript object>"
      ]
     },
     "metadata": {},
     "output_type": "display_data"
    }
   ],
   "source": [
    "TYPE_MODEL = \"MLP\"\n",
    "REPETICAO = 0"
   ]
  },
  {
   "cell_type": "code",
   "execution_count": 72,
   "metadata": {},
   "outputs": [
    {
     "data": {
      "application/javascript": "\n            setTimeout(function() {\n                var nbb_cell_id = 72;\n                var nbb_unformatted_code = \"import pathlib\\nimport datetime\\n\\nimport matplotlib.pyplot as plt\\nimport pandas as pd\\nimport seaborn as sns\\n\\nimport tensorflow as tf\\nimport datetime\\n\\nfrom tensorflow import keras\\nfrom tensorflow.keras import layers\\n\\nfrom keras.callbacks import ModelCheckpoint\\nimport keras_tuner as kt\";\n                var nbb_formatted_code = \"import pathlib\\nimport datetime\\n\\nimport matplotlib.pyplot as plt\\nimport pandas as pd\\nimport seaborn as sns\\n\\nimport tensorflow as tf\\nimport datetime\\n\\nfrom tensorflow import keras\\nfrom tensorflow.keras import layers\\n\\nfrom keras.callbacks import ModelCheckpoint\\nimport keras_tuner as kt\";\n                var nbb_cells = Jupyter.notebook.get_cells();\n                for (var i = 0; i < nbb_cells.length; ++i) {\n                    if (nbb_cells[i].input_prompt_number == nbb_cell_id) {\n                        if (nbb_cells[i].get_text() == nbb_unformatted_code) {\n                             nbb_cells[i].set_text(nbb_formatted_code);\n                        }\n                        break;\n                    }\n                }\n            }, 500);\n            ",
      "text/plain": [
       "<IPython.core.display.Javascript object>"
      ]
     },
     "metadata": {},
     "output_type": "display_data"
    }
   ],
   "source": [
    "import pathlib\n",
    "import datetime\n",
    "\n",
    "import matplotlib.pyplot as plt\n",
    "import pandas as pd\n",
    "import seaborn as sns\n",
    "\n",
    "import tensorflow as tf\n",
    "import datetime\n",
    "\n",
    "from tensorflow import keras\n",
    "from tensorflow.keras import layers\n",
    "\n",
    "from keras.callbacks import ModelCheckpoint\n",
    "import keras_tuner as kt"
   ]
  },
  {
   "cell_type": "markdown",
   "metadata": {},
   "source": [
    "# Lendo Dfs"
   ]
  },
  {
   "cell_type": "code",
   "execution_count": 73,
   "metadata": {},
   "outputs": [
    {
     "data": {
      "application/javascript": "\n            setTimeout(function() {\n                var nbb_cell_id = 73;\n                var nbb_unformatted_code = \"# 60%\\nPATH_TREINO = \\\"../Data/3_Gold/Treino_all_stocks.csv\\\"\\nDF_TREINO = pd.read_csv(PATH_TREINO, sep=\\\",\\\")\\ntrain_dataset = DF_TREINO\\ntrain_dataset = train_dataset.drop(\\n    [\\n        \\\"oil_5\\\",\\n        \\\"usd_5\\\",\\n        \\\"abev_5\\\",\\n        \\\"jbs_5\\\",\\n        \\\"petr_5\\\",\\n        \\\"vale_5\\\",\\n    ],\\n    axis=1,\\n)\\ntrain_labels = train_dataset.pop(\\\"ibova_5\\\")\\n\\n# TODO: Tirar dados de valida\\u00e7\\u00e3o, fazer 80 20\\n# 20%\\nPATH_VALIDACAO = \\\"../Data/3_Gold/Validacao_all_stocks.csv\\\"\\nDF_VALIDACAO = pd.read_csv(PATH_VALIDACAO, sep=\\\",\\\")\\nvalid_dataset = DF_VALIDACAO\\nvalid_dataset = valid_dataset.drop(\\n    [\\n        \\\"ibova_5\\\",\\n        \\\"oil_5\\\",\\n        \\\"usd_5\\\",\\n        \\\"abev_5\\\",\\n        \\\"jbs_5\\\",\\n        \\\"petr_5\\\",\\n        \\\"vale_5\\\",\\n    ],\\n    axis=1,\\n)\\n# valid_labels = valid_dataset.pop('ibova_5')\\n\\n# 20%\\nPATH_TESTE = \\\"../Data/3_Gold/Teste_all_stocks.csv\\\"\\nDF_TESTE = pd.read_csv(PATH_TESTE, sep=\\\",\\\")\\ntest_dataset = DF_TESTE\\ntest_dataset = test_dataset.drop(\\n    [\\n        \\\"oil_5\\\",\\n        \\\"usd_5\\\",\\n        \\\"abev_5\\\",\\n        \\\"jbs_5\\\",\\n        \\\"petr_5\\\",\\n        \\\"vale_5\\\",\\n    ],\\n    axis=1,\\n)\\ntest_labels = test_dataset.pop(\\\"ibova_5\\\")\";\n                var nbb_formatted_code = \"# 60%\\nPATH_TREINO = \\\"../Data/3_Gold/Treino_all_stocks.csv\\\"\\nDF_TREINO = pd.read_csv(PATH_TREINO, sep=\\\",\\\")\\ntrain_dataset = DF_TREINO\\ntrain_dataset = train_dataset.drop(\\n    [\\n        \\\"oil_5\\\",\\n        \\\"usd_5\\\",\\n        \\\"abev_5\\\",\\n        \\\"jbs_5\\\",\\n        \\\"petr_5\\\",\\n        \\\"vale_5\\\",\\n    ],\\n    axis=1,\\n)\\ntrain_labels = train_dataset.pop(\\\"ibova_5\\\")\\n\\n# TODO: Tirar dados de valida\\u00e7\\u00e3o, fazer 80 20\\n# 20%\\nPATH_VALIDACAO = \\\"../Data/3_Gold/Validacao_all_stocks.csv\\\"\\nDF_VALIDACAO = pd.read_csv(PATH_VALIDACAO, sep=\\\",\\\")\\nvalid_dataset = DF_VALIDACAO\\nvalid_dataset = valid_dataset.drop(\\n    [\\n        \\\"ibova_5\\\",\\n        \\\"oil_5\\\",\\n        \\\"usd_5\\\",\\n        \\\"abev_5\\\",\\n        \\\"jbs_5\\\",\\n        \\\"petr_5\\\",\\n        \\\"vale_5\\\",\\n    ],\\n    axis=1,\\n)\\n# valid_labels = valid_dataset.pop('ibova_5')\\n\\n# 20%\\nPATH_TESTE = \\\"../Data/3_Gold/Teste_all_stocks.csv\\\"\\nDF_TESTE = pd.read_csv(PATH_TESTE, sep=\\\",\\\")\\ntest_dataset = DF_TESTE\\ntest_dataset = test_dataset.drop(\\n    [\\n        \\\"oil_5\\\",\\n        \\\"usd_5\\\",\\n        \\\"abev_5\\\",\\n        \\\"jbs_5\\\",\\n        \\\"petr_5\\\",\\n        \\\"vale_5\\\",\\n    ],\\n    axis=1,\\n)\\ntest_labels = test_dataset.pop(\\\"ibova_5\\\")\";\n                var nbb_cells = Jupyter.notebook.get_cells();\n                for (var i = 0; i < nbb_cells.length; ++i) {\n                    if (nbb_cells[i].input_prompt_number == nbb_cell_id) {\n                        if (nbb_cells[i].get_text() == nbb_unformatted_code) {\n                             nbb_cells[i].set_text(nbb_formatted_code);\n                        }\n                        break;\n                    }\n                }\n            }, 500);\n            ",
      "text/plain": [
       "<IPython.core.display.Javascript object>"
      ]
     },
     "metadata": {},
     "output_type": "display_data"
    }
   ],
   "source": [
    "# 60%\n",
    "PATH_TREINO = \"../Data/3_Gold/Treino_all_stocks.csv\"\n",
    "DF_TREINO = pd.read_csv(PATH_TREINO, sep=\",\")\n",
    "train_dataset = DF_TREINO\n",
    "train_dataset = train_dataset.drop(\n",
    "    [\n",
    "        \"oil_5\",\n",
    "        \"usd_5\",\n",
    "        \"abev_5\",\n",
    "        \"jbs_5\",\n",
    "        \"petr_5\",\n",
    "        \"vale_5\",\n",
    "    ],\n",
    "    axis=1,\n",
    ")\n",
    "train_labels = train_dataset.pop(\"ibova_5\")\n",
    "\n",
    "# TODO: Tirar dados de validação, fazer 80 20\n",
    "# 20%\n",
    "PATH_VALIDACAO = \"../Data/3_Gold/Validacao_all_stocks.csv\"\n",
    "DF_VALIDACAO = pd.read_csv(PATH_VALIDACAO, sep=\",\")\n",
    "valid_dataset = DF_VALIDACAO\n",
    "valid_dataset = valid_dataset.drop(\n",
    "    [\n",
    "        \"ibova_5\",\n",
    "        \"oil_5\",\n",
    "        \"usd_5\",\n",
    "        \"abev_5\",\n",
    "        \"jbs_5\",\n",
    "        \"petr_5\",\n",
    "        \"vale_5\",\n",
    "    ],\n",
    "    axis=1,\n",
    ")\n",
    "# valid_labels = valid_dataset.pop('ibova_5')\n",
    "\n",
    "# 20%\n",
    "PATH_TESTE = \"../Data/3_Gold/Teste_all_stocks.csv\"\n",
    "DF_TESTE = pd.read_csv(PATH_TESTE, sep=\",\")\n",
    "test_dataset = DF_TESTE\n",
    "test_dataset = test_dataset.drop(\n",
    "    [\n",
    "        \"oil_5\",\n",
    "        \"usd_5\",\n",
    "        \"abev_5\",\n",
    "        \"jbs_5\",\n",
    "        \"petr_5\",\n",
    "        \"vale_5\",\n",
    "    ],\n",
    "    axis=1,\n",
    ")\n",
    "test_labels = test_dataset.pop(\"ibova_5\")"
   ]
  },
  {
   "cell_type": "code",
   "execution_count": 74,
   "metadata": {},
   "outputs": [
    {
     "data": {
      "application/javascript": "\n            setTimeout(function() {\n                var nbb_cell_id = 74;\n                var nbb_unformatted_code = \"list_activation = []\\nlist_best_epoch = []\\nlist_best_model_path = []\\nlist_learning_rate = []\\nlist_hp_unit_1 = []\\nlist_hp_unit_2 = []\\nlist_hp_unit_3 = []\\nlist_hp_unit_4 = []\\nlist_kernel_size_1 = []\\nlist_kernel_size_2 = []\\nlist_n_filter_1 = []\\nlist_n_filter_2 = []\\nlist_val_mae = []\\nlist_val_mse = []\";\n                var nbb_formatted_code = \"list_activation = []\\nlist_best_epoch = []\\nlist_best_model_path = []\\nlist_learning_rate = []\\nlist_hp_unit_1 = []\\nlist_hp_unit_2 = []\\nlist_hp_unit_3 = []\\nlist_hp_unit_4 = []\\nlist_kernel_size_1 = []\\nlist_kernel_size_2 = []\\nlist_n_filter_1 = []\\nlist_n_filter_2 = []\\nlist_val_mae = []\\nlist_val_mse = []\";\n                var nbb_cells = Jupyter.notebook.get_cells();\n                for (var i = 0; i < nbb_cells.length; ++i) {\n                    if (nbb_cells[i].input_prompt_number == nbb_cell_id) {\n                        if (nbb_cells[i].get_text() == nbb_unformatted_code) {\n                             nbb_cells[i].set_text(nbb_formatted_code);\n                        }\n                        break;\n                    }\n                }\n            }, 500);\n            ",
      "text/plain": [
       "<IPython.core.display.Javascript object>"
      ]
     },
     "metadata": {},
     "output_type": "display_data"
    }
   ],
   "source": [
    "list_activation = []\n",
    "list_best_epoch = []\n",
    "list_best_model_path = []\n",
    "list_learning_rate = []\n",
    "list_hp_unit_1 = []\n",
    "list_hp_unit_2 = []\n",
    "list_hp_unit_3 = []\n",
    "list_hp_unit_4 = []\n",
    "list_kernel_size_1 = []\n",
    "list_kernel_size_2 = []\n",
    "list_n_filter_1 = []\n",
    "list_n_filter_2 = []\n",
    "list_val_mae = []\n",
    "list_val_mse = []"
   ]
  },
  {
   "cell_type": "code",
   "execution_count": 75,
   "metadata": {},
   "outputs": [
    {
     "data": {
      "application/javascript": "\n            setTimeout(function() {\n                var nbb_cell_id = 75;\n                var nbb_unformatted_code = \"# index,\\n# ibova_0,ibova_1,ibova_2,ibova_3,ibova_4,ibova_5,\\n# oil_0,oil_1,oil_2,oil_3,oil_4,oil_5,usd_0,\\n# usd_1,usd_2,usd_3,usd_4,usd_5,\\n# abev_0,abev_1,abev_2,abev_3,abev_4,abev_5,\\n# jbs_0,jbs_1,jbs_2,jbs_3,jbs_4,jbs_5,\\n# petr_0,petr_1,petr_2,petr_3,petr_4,petr_5,\\n# vale_0,vale_1,vale_2,vale_3,vale_4,vale_5\";\n                var nbb_formatted_code = \"# index,\\n# ibova_0,ibova_1,ibova_2,ibova_3,ibova_4,ibova_5,\\n# oil_0,oil_1,oil_2,oil_3,oil_4,oil_5,usd_0,\\n# usd_1,usd_2,usd_3,usd_4,usd_5,\\n# abev_0,abev_1,abev_2,abev_3,abev_4,abev_5,\\n# jbs_0,jbs_1,jbs_2,jbs_3,jbs_4,jbs_5,\\n# petr_0,petr_1,petr_2,petr_3,petr_4,petr_5,\\n# vale_0,vale_1,vale_2,vale_3,vale_4,vale_5\";\n                var nbb_cells = Jupyter.notebook.get_cells();\n                for (var i = 0; i < nbb_cells.length; ++i) {\n                    if (nbb_cells[i].input_prompt_number == nbb_cell_id) {\n                        if (nbb_cells[i].get_text() == nbb_unformatted_code) {\n                             nbb_cells[i].set_text(nbb_formatted_code);\n                        }\n                        break;\n                    }\n                }\n            }, 500);\n            ",
      "text/plain": [
       "<IPython.core.display.Javascript object>"
      ]
     },
     "metadata": {},
     "output_type": "display_data"
    }
   ],
   "source": [
    "# index,\n",
    "# ibova_0,ibova_1,ibova_2,ibova_3,ibova_4,ibova_5,\n",
    "# oil_0,oil_1,oil_2,oil_3,oil_4,oil_5,usd_0,\n",
    "# usd_1,usd_2,usd_3,usd_4,usd_5,\n",
    "# abev_0,abev_1,abev_2,abev_3,abev_4,abev_5,\n",
    "# jbs_0,jbs_1,jbs_2,jbs_3,jbs_4,jbs_5,\n",
    "# petr_0,petr_1,petr_2,petr_3,petr_4,petr_5,\n",
    "# vale_0,vale_1,vale_2,vale_3,vale_4,vale_5"
   ]
  },
  {
   "cell_type": "markdown",
   "metadata": {},
   "source": [
    "# Inspecionando os dados"
   ]
  },
  {
   "cell_type": "code",
   "execution_count": 76,
   "metadata": {},
   "outputs": [
    {
     "data": {
      "application/javascript": "\n            setTimeout(function() {\n                var nbb_cell_id = 76;\n                var nbb_unformatted_code = \"# sns.pairplot(train_dataset[['index','ibova_0','ibova_1','ibova_2','ibova_3','ibova_4','oil_0','oil_1','oil_2','oil_3','oil_4','usd_0','usd_1','usd_2','usd_3','usd_4']], diag_kind=\\\"kde\\\")\\n# sns.pairplot(train_dataset[['index','ibova_0','oil_0','usd_0']], diag_kind=\\\"kde\\\")\\n# sns.pairplot(train_dataset[['ibova_1','oil_1','usd_1']], diag_kind=\\\"kde\\\")\\n\\n# Fazer estatisticas dos conjuntos ibova e etec\\n\\ntrain_stats = train_dataset.describe()\\n# train_stats\";\n                var nbb_formatted_code = \"# sns.pairplot(train_dataset[['index','ibova_0','ibova_1','ibova_2','ibova_3','ibova_4','oil_0','oil_1','oil_2','oil_3','oil_4','usd_0','usd_1','usd_2','usd_3','usd_4']], diag_kind=\\\"kde\\\")\\n# sns.pairplot(train_dataset[['index','ibova_0','oil_0','usd_0']], diag_kind=\\\"kde\\\")\\n# sns.pairplot(train_dataset[['ibova_1','oil_1','usd_1']], diag_kind=\\\"kde\\\")\\n\\n# Fazer estatisticas dos conjuntos ibova e etec\\n\\ntrain_stats = train_dataset.describe()\\n# train_stats\";\n                var nbb_cells = Jupyter.notebook.get_cells();\n                for (var i = 0; i < nbb_cells.length; ++i) {\n                    if (nbb_cells[i].input_prompt_number == nbb_cell_id) {\n                        if (nbb_cells[i].get_text() == nbb_unformatted_code) {\n                             nbb_cells[i].set_text(nbb_formatted_code);\n                        }\n                        break;\n                    }\n                }\n            }, 500);\n            ",
      "text/plain": [
       "<IPython.core.display.Javascript object>"
      ]
     },
     "metadata": {},
     "output_type": "display_data"
    }
   ],
   "source": [
    "# sns.pairplot(train_dataset[['index','ibova_0','ibova_1','ibova_2','ibova_3','ibova_4','oil_0','oil_1','oil_2','oil_3','oil_4','usd_0','usd_1','usd_2','usd_3','usd_4']], diag_kind=\"kde\")\n",
    "# sns.pairplot(train_dataset[['index','ibova_0','oil_0','usd_0']], diag_kind=\"kde\")\n",
    "# sns.pairplot(train_dataset[['ibova_1','oil_1','usd_1']], diag_kind=\"kde\")\n",
    "\n",
    "# Fazer estatisticas dos conjuntos ibova e etec\n",
    "\n",
    "train_stats = train_dataset.describe()\n",
    "# train_stats"
   ]
  },
  {
   "cell_type": "markdown",
   "metadata": {},
   "source": [
    "# Definindo o modelo"
   ]
  },
  {
   "cell_type": "markdown",
   "metadata": {},
   "source": [
    "#TODO:\n",
    "\n",
    "Definir um range para a definição dos hyper parametros do modelo\n",
    "\n",
    "https://scikit-learn.org/stable/modules/classes.html#module-sklearn.model_selection\n",
    "\thyper parameter optimizers\n",
    "\n",
    "https://scikit-learn.org/stable/modules/generated/sklearn.model_selection.GridSearchCV.html\n",
    "\n",
    "A biblioteca vai encontrar os melhores parametros no conjunto de validacao \n",
    "\n",
    "https://www.tensorflow.org/tutorials/keras/keras_tuner"
   ]
  },
  {
   "cell_type": "code",
   "execution_count": 77,
   "metadata": {},
   "outputs": [
    {
     "data": {
      "application/javascript": "\n            setTimeout(function() {\n                var nbb_cell_id = 77;\n                var nbb_unformatted_code = \"def model_builder(hp):\\n    hp_unit_1 = int(len(train_dataset.keys()))\\n    hp_unit_2 = hp.Int(\\\"unit_2\\\", min_value=4, max_value=64, step=1)\\n    hp_unit_3 = hp.Int(\\\"unit_3\\\", min_value=4, max_value=64, step=1)\\n    hp_unit_4 = hp.Int(\\\"unit_4\\\", min_value=4, max_value=64, step=1)\\n    activationL = [\\n        \\\"sigmoid\\\",\\n        \\\"softplus\\\",\\n        \\\"softsign\\\",\\n        \\\"tanh\\\",\\n        \\\"selu\\\",\\n        \\\"elu\\\",\\n        \\\"exponential\\\",\\n        \\\"relu\\\",\\n    ]\\n    activation_choice = hp.Choice(\\\"activation\\\", values=activationL)\\n    hp_learning_rate = hp.Choice(\\\"learning_rate\\\", values=[1e-2, 1e-3, 1e-4])\\n\\n    model = keras.Sequential(\\n        [\\n            layers.Dense(\\n                units=hp_unit_1,\\n                activation=activation_choice,\\n                input_shape=[len(train_dataset.keys())],\\n            ),\\n            layers.Dense(units=hp_unit_2, activation=activation_choice),\\n            layers.Dense(units=hp_unit_3, activation=activation_choice),\\n            layers.Dense(units=hp_unit_4, activation=activation_choice),\\n            layers.Dense(units=1, activation=\\\"linear\\\"),\\n        ]\\n    )\\n\\n    model.compile(\\n        optimizer=keras.optimizers.Adam(learning_rate=hp_learning_rate),\\n        loss=\\\"mse\\\",\\n        metrics=[\\\"mae\\\", \\\"mse\\\"],\\n    )\\n\\n    return model\\n\\n\\n# rmse pra avalia\\u00e7\\u00e3o, nao para loss\";\n                var nbb_formatted_code = \"def model_builder(hp):\\n    hp_unit_1 = int(len(train_dataset.keys()))\\n    hp_unit_2 = hp.Int(\\\"unit_2\\\", min_value=4, max_value=64, step=1)\\n    hp_unit_3 = hp.Int(\\\"unit_3\\\", min_value=4, max_value=64, step=1)\\n    hp_unit_4 = hp.Int(\\\"unit_4\\\", min_value=4, max_value=64, step=1)\\n    activationL = [\\n        \\\"sigmoid\\\",\\n        \\\"softplus\\\",\\n        \\\"softsign\\\",\\n        \\\"tanh\\\",\\n        \\\"selu\\\",\\n        \\\"elu\\\",\\n        \\\"exponential\\\",\\n        \\\"relu\\\",\\n    ]\\n    activation_choice = hp.Choice(\\\"activation\\\", values=activationL)\\n    hp_learning_rate = hp.Choice(\\\"learning_rate\\\", values=[1e-2, 1e-3, 1e-4])\\n\\n    model = keras.Sequential(\\n        [\\n            layers.Dense(\\n                units=hp_unit_1,\\n                activation=activation_choice,\\n                input_shape=[len(train_dataset.keys())],\\n            ),\\n            layers.Dense(units=hp_unit_2, activation=activation_choice),\\n            layers.Dense(units=hp_unit_3, activation=activation_choice),\\n            layers.Dense(units=hp_unit_4, activation=activation_choice),\\n            layers.Dense(units=1, activation=\\\"linear\\\"),\\n        ]\\n    )\\n\\n    model.compile(\\n        optimizer=keras.optimizers.Adam(learning_rate=hp_learning_rate),\\n        loss=\\\"mse\\\",\\n        metrics=[\\\"mae\\\", \\\"mse\\\"],\\n    )\\n\\n    return model\\n\\n\\n# rmse pra avalia\\u00e7\\u00e3o, nao para loss\";\n                var nbb_cells = Jupyter.notebook.get_cells();\n                for (var i = 0; i < nbb_cells.length; ++i) {\n                    if (nbb_cells[i].input_prompt_number == nbb_cell_id) {\n                        if (nbb_cells[i].get_text() == nbb_unformatted_code) {\n                             nbb_cells[i].set_text(nbb_formatted_code);\n                        }\n                        break;\n                    }\n                }\n            }, 500);\n            ",
      "text/plain": [
       "<IPython.core.display.Javascript object>"
      ]
     },
     "metadata": {},
     "output_type": "display_data"
    }
   ],
   "source": [
    "def model_builder(hp):\n",
    "    hp_unit_1 = int(len(train_dataset.keys()))\n",
    "    hp_unit_2 = hp.Int(\"unit_2\", min_value=4, max_value=64, step=1)\n",
    "    hp_unit_3 = hp.Int(\"unit_3\", min_value=4, max_value=64, step=1)\n",
    "    hp_unit_4 = hp.Int(\"unit_4\", min_value=4, max_value=64, step=1)\n",
    "    activationL = [\n",
    "        \"sigmoid\",\n",
    "        \"softplus\",\n",
    "        \"softsign\",\n",
    "        \"tanh\",\n",
    "        \"selu\",\n",
    "        \"elu\",\n",
    "        \"exponential\",\n",
    "        \"relu\",\n",
    "    ]\n",
    "    activation_choice = hp.Choice(\"activation\", values=activationL)\n",
    "    hp_learning_rate = hp.Choice(\"learning_rate\", values=[1e-2, 1e-3, 1e-4])\n",
    "\n",
    "    model = keras.Sequential(\n",
    "        [\n",
    "            layers.Dense(\n",
    "                units=hp_unit_1,\n",
    "                activation=activation_choice,\n",
    "                input_shape=[len(train_dataset.keys())],\n",
    "            ),\n",
    "            layers.Dense(units=hp_unit_2, activation=activation_choice),\n",
    "            layers.Dense(units=hp_unit_3, activation=activation_choice),\n",
    "            layers.Dense(units=hp_unit_4, activation=activation_choice),\n",
    "            layers.Dense(units=1, activation=\"linear\"),\n",
    "        ]\n",
    "    )\n",
    "\n",
    "    model.compile(\n",
    "        optimizer=keras.optimizers.Adam(learning_rate=hp_learning_rate),\n",
    "        loss=\"mse\",\n",
    "        metrics=[\"mae\", \"mse\"],\n",
    "    )\n",
    "\n",
    "    return model\n",
    "\n",
    "\n",
    "# rmse pra avaliação, nao para loss"
   ]
  },
  {
   "cell_type": "code",
   "execution_count": 78,
   "metadata": {},
   "outputs": [
    {
     "data": {
      "application/javascript": "\n            setTimeout(function() {\n                var nbb_cell_id = 78;\n                var nbb_unformatted_code = \"# model.summary()\";\n                var nbb_formatted_code = \"# model.summary()\";\n                var nbb_cells = Jupyter.notebook.get_cells();\n                for (var i = 0; i < nbb_cells.length; ++i) {\n                    if (nbb_cells[i].input_prompt_number == nbb_cell_id) {\n                        if (nbb_cells[i].get_text() == nbb_unformatted_code) {\n                             nbb_cells[i].set_text(nbb_formatted_code);\n                        }\n                        break;\n                    }\n                }\n            }, 500);\n            ",
      "text/plain": [
       "<IPython.core.display.Javascript object>"
      ]
     },
     "metadata": {},
     "output_type": "display_data"
    }
   ],
   "source": [
    "# model.summary()"
   ]
  },
  {
   "cell_type": "markdown",
   "metadata": {},
   "source": [
    "# Instanciando Tuner\n",
    "\n",
    "https://colab.research.google.com/github/tensorflow/docs/blob/master/site/en/tutorials/keras/keras_tuner.ipynb#scrollTo=McO82AXOuxXh"
   ]
  },
  {
   "cell_type": "code",
   "execution_count": 102,
   "metadata": {},
   "outputs": [
    {
     "name": "stdout",
     "output_type": "stream",
     "text": [
      "INFO:tensorflow:Reloading Oracle from existing project logs\\hyper_parameters\\oracle.json\n"
     ]
    },
    {
     "name": "stderr",
     "output_type": "stream",
     "text": [
      "INFO:tensorflow:Reloading Oracle from existing project logs\\hyper_parameters\\oracle.json\n"
     ]
    },
    {
     "name": "stdout",
     "output_type": "stream",
     "text": [
      "INFO:tensorflow:Reloading Tuner from logs\\hyper_parameters\\tuner0.json\n"
     ]
    },
    {
     "name": "stderr",
     "output_type": "stream",
     "text": [
      "INFO:tensorflow:Reloading Tuner from logs\\hyper_parameters\\tuner0.json\n"
     ]
    },
    {
     "data": {
      "application/javascript": "\n            setTimeout(function() {\n                var nbb_cell_id = 102;\n                var nbb_unformatted_code = \"tuner = kt.Hyperband(\\n    model_builder,\\n    objective=\\\"val_mse\\\",\\n    max_epochs=50,\\n    factor=3,\\n    directory=\\\"logs\\\",\\n    project_name=\\\"hyper_parameters\\\",\\n)\";\n                var nbb_formatted_code = \"tuner = kt.Hyperband(\\n    model_builder,\\n    objective=\\\"val_mse\\\",\\n    max_epochs=50,\\n    factor=3,\\n    directory=\\\"logs\\\",\\n    project_name=\\\"hyper_parameters\\\",\\n)\";\n                var nbb_cells = Jupyter.notebook.get_cells();\n                for (var i = 0; i < nbb_cells.length; ++i) {\n                    if (nbb_cells[i].input_prompt_number == nbb_cell_id) {\n                        if (nbb_cells[i].get_text() == nbb_unformatted_code) {\n                             nbb_cells[i].set_text(nbb_formatted_code);\n                        }\n                        break;\n                    }\n                }\n            }, 500);\n            ",
      "text/plain": [
       "<IPython.core.display.Javascript object>"
      ]
     },
     "metadata": {},
     "output_type": "display_data"
    }
   ],
   "source": [
    "tuner = kt.Hyperband(\n",
    "    model_builder,\n",
    "    objective=\"val_mse\",\n",
    "    max_epochs=50,\n",
    "    factor=3,\n",
    "    directory=\"logs\",\n",
    "    project_name=\"hyper_parameters\",\n",
    ")"
   ]
  },
  {
   "cell_type": "code",
   "execution_count": 104,
   "metadata": {},
   "outputs": [
    {
     "data": {
      "text/plain": [
       "[<keras_tuner.engine.hyperparameters.HyperParameters at 0x28f23db0e50>]"
      ]
     },
     "execution_count": 104,
     "metadata": {},
     "output_type": "execute_result"
    },
    {
     "data": {
      "application/javascript": "\n            setTimeout(function() {\n                var nbb_cell_id = 104;\n                var nbb_unformatted_code = \"tuner.get_best_hyperparameters(1)\";\n                var nbb_formatted_code = \"tuner.get_best_hyperparameters(1)\";\n                var nbb_cells = Jupyter.notebook.get_cells();\n                for (var i = 0; i < nbb_cells.length; ++i) {\n                    if (nbb_cells[i].input_prompt_number == nbb_cell_id) {\n                        if (nbb_cells[i].get_text() == nbb_unformatted_code) {\n                             nbb_cells[i].set_text(nbb_formatted_code);\n                        }\n                        break;\n                    }\n                }\n            }, 500);\n            ",
      "text/plain": [
       "<IPython.core.display.Javascript object>"
      ]
     },
     "metadata": {},
     "output_type": "display_data"
    }
   ],
   "source": [
    "tuner.get_best_hyperparameters(1)"
   ]
  },
  {
   "cell_type": "markdown",
   "metadata": {},
   "source": [
    "# Selecionando a melhor epoca do modelo"
   ]
  },
  {
   "cell_type": "code",
   "execution_count": 80,
   "metadata": {},
   "outputs": [
    {
     "name": "stdout",
     "output_type": "stream",
     "text": [
      "Best epoch: 299\n",
      "val_mae: 0.20625071227550507\n",
      "val_mse: 0.07175293564796448\n"
     ]
    },
    {
     "data": {
      "application/javascript": "\n            setTimeout(function() {\n                var nbb_cell_id = 80;\n                var nbb_unformatted_code = \"# Build the model with the optimal hyperparameters and train it on the data for 50 epochs\\nsave_time = datetime.datetime.strftime(datetime.datetime.now(), \\\"%y_%m_%d_%Hh%Mm%S\\\")\\n\\nbst_model_path = f\\\"Models/MLP/model_{save_time}.h5\\\"\\nmodel_checkpoint = ModelCheckpoint(\\n    bst_model_path, save_best_only=True, monitor=\\\"val_mse\\\", mode=\\\"min\\\"\\n)\\n\\nEPOCHS = 500\\n\\nbest_hps = tuner.get_best_hyperparameters(num_trials=100)[0]\\n\\n\\nmodel = tuner.hypermodel.build(best_hps)\\nhistory = model.fit(\\n    train_dataset,\\n    train_labels,\\n    epochs=EPOCHS,\\n    validation_split=0.2,\\n    verbose=0,\\n    callbacks=([model_checkpoint]),\\n)\\n\\n# Select the best epoch,\\nval_mse_per_epoch = history.history[\\\"val_mse\\\"]\\nbest_epoch = val_mse_per_epoch.index(min(val_mse_per_epoch)) + 1\\n\\nprint(\\\"Best epoch: %d\\\" % (best_epoch,))\\nprint(f'val_mae: {min(history.history[\\\"val_mae\\\"])}')\\nprint(f'val_mse: {min(history.history[\\\"val_mse\\\"])}')\";\n                var nbb_formatted_code = \"# Build the model with the optimal hyperparameters and train it on the data for 50 epochs\\nsave_time = datetime.datetime.strftime(datetime.datetime.now(), \\\"%y_%m_%d_%Hh%Mm%S\\\")\\n\\nbst_model_path = f\\\"Models/MLP/model_{save_time}.h5\\\"\\nmodel_checkpoint = ModelCheckpoint(\\n    bst_model_path, save_best_only=True, monitor=\\\"val_mse\\\", mode=\\\"min\\\"\\n)\\n\\nEPOCHS = 500\\n\\nbest_hps = tuner.get_best_hyperparameters(num_trials=100)[0]\\n\\n\\nmodel = tuner.hypermodel.build(best_hps)\\nhistory = model.fit(\\n    train_dataset,\\n    train_labels,\\n    epochs=EPOCHS,\\n    validation_split=0.2,\\n    verbose=0,\\n    callbacks=([model_checkpoint]),\\n)\\n\\n# Select the best epoch,\\nval_mse_per_epoch = history.history[\\\"val_mse\\\"]\\nbest_epoch = val_mse_per_epoch.index(min(val_mse_per_epoch)) + 1\\n\\nprint(\\\"Best epoch: %d\\\" % (best_epoch,))\\nprint(f'val_mae: {min(history.history[\\\"val_mae\\\"])}')\\nprint(f'val_mse: {min(history.history[\\\"val_mse\\\"])}')\";\n                var nbb_cells = Jupyter.notebook.get_cells();\n                for (var i = 0; i < nbb_cells.length; ++i) {\n                    if (nbb_cells[i].input_prompt_number == nbb_cell_id) {\n                        if (nbb_cells[i].get_text() == nbb_unformatted_code) {\n                             nbb_cells[i].set_text(nbb_formatted_code);\n                        }\n                        break;\n                    }\n                }\n            }, 500);\n            ",
      "text/plain": [
       "<IPython.core.display.Javascript object>"
      ]
     },
     "metadata": {},
     "output_type": "display_data"
    }
   ],
   "source": [
    "# Build the model with the optimal hyperparameters and train it on the data for 50 epochs\n",
    "save_time = datetime.datetime.strftime(datetime.datetime.now(), \"%y_%m_%d_%Hh%Mm%S\")\n",
    "\n",
    "bst_model_path = f\"Models/MLP/model_{save_time}.h5\"\n",
    "model_checkpoint = ModelCheckpoint(\n",
    "    bst_model_path, save_best_only=True, monitor=\"val_mse\", mode=\"min\"\n",
    ")\n",
    "\n",
    "EPOCHS = 500\n",
    "\n",
    "best_hps = tuner.get_best_hyperparameters(num_trials=100)[0]\n",
    "\n",
    "\n",
    "model = tuner.hypermodel.build(best_hps)\n",
    "history = model.fit(\n",
    "    train_dataset,\n",
    "    train_labels,\n",
    "    epochs=EPOCHS,\n",
    "    validation_split=0.2,\n",
    "    verbose=0,\n",
    "    callbacks=([model_checkpoint]),\n",
    ")\n",
    "\n",
    "# Select the best epoch,\n",
    "val_mse_per_epoch = history.history[\"val_mse\"]\n",
    "best_epoch = val_mse_per_epoch.index(min(val_mse_per_epoch)) + 1\n",
    "\n",
    "print(\"Best epoch: %d\" % (best_epoch,))\n",
    "print(f'val_mae: {min(history.history[\"val_mae\"])}')\n",
    "print(f'val_mse: {min(history.history[\"val_mse\"])}')"
   ]
  },
  {
   "cell_type": "code",
   "execution_count": 81,
   "metadata": {},
   "outputs": [
    {
     "data": {
      "application/javascript": "\n            setTimeout(function() {\n                var nbb_cell_id = 81;\n                var nbb_unformatted_code = \"try:\\n    value_activation = best_hps.get(\\\"activation\\\")\\nexcept:\\n    value_activation = None\\n\\ntry:\\n    value_learning_rate = best_hps.get(\\\"learning_rate\\\")\\nexcept:\\n    value_learning_rate = None\\ntry:\\n    value_unit_1 = best_hps.get(\\\"unit_1\\\")\\nexcept:\\n    value_unit_1 = None\\ntry:\\n    value_unit_2 = best_hps.get(\\\"unit_2\\\")\\nexcept:\\n    value_unit_2 = None\\ntry:\\n    value_unit_3 = best_hps.get(\\\"unit_3\\\")\\nexcept:\\n    value_unit_3 = None\\ntry:\\n    value_unit_4 = best_hps.get(\\\"unit_4\\\")\\nexcept:\\n    value_unit_4 = None\\ntry:\\n    value_kernel_size_1 = best_hps.get(\\\"kernel_size_1\\\")\\nexcept:\\n    value_kernel_size_1 = None\\ntry:\\n    value_kernel_size_2 = best_hps.get(\\\"kernel_size_2\\\")\\nexcept:\\n    value_kernel_size_2 = None\\ntry:\\n    value_n_filter_1 = best_hps.get(\\\"n_filter_1\\\")\\nexcept:\\n    value_n_filter_1 = None\\ntry:\\n    value_n_filter_2 = best_hps.get(\\\"n_filter_2\\\")\\nexcept:\\n    value_n_filter_2 = None\";\n                var nbb_formatted_code = \"try:\\n    value_activation = best_hps.get(\\\"activation\\\")\\nexcept:\\n    value_activation = None\\n\\ntry:\\n    value_learning_rate = best_hps.get(\\\"learning_rate\\\")\\nexcept:\\n    value_learning_rate = None\\ntry:\\n    value_unit_1 = best_hps.get(\\\"unit_1\\\")\\nexcept:\\n    value_unit_1 = None\\ntry:\\n    value_unit_2 = best_hps.get(\\\"unit_2\\\")\\nexcept:\\n    value_unit_2 = None\\ntry:\\n    value_unit_3 = best_hps.get(\\\"unit_3\\\")\\nexcept:\\n    value_unit_3 = None\\ntry:\\n    value_unit_4 = best_hps.get(\\\"unit_4\\\")\\nexcept:\\n    value_unit_4 = None\\ntry:\\n    value_kernel_size_1 = best_hps.get(\\\"kernel_size_1\\\")\\nexcept:\\n    value_kernel_size_1 = None\\ntry:\\n    value_kernel_size_2 = best_hps.get(\\\"kernel_size_2\\\")\\nexcept:\\n    value_kernel_size_2 = None\\ntry:\\n    value_n_filter_1 = best_hps.get(\\\"n_filter_1\\\")\\nexcept:\\n    value_n_filter_1 = None\\ntry:\\n    value_n_filter_2 = best_hps.get(\\\"n_filter_2\\\")\\nexcept:\\n    value_n_filter_2 = None\";\n                var nbb_cells = Jupyter.notebook.get_cells();\n                for (var i = 0; i < nbb_cells.length; ++i) {\n                    if (nbb_cells[i].input_prompt_number == nbb_cell_id) {\n                        if (nbb_cells[i].get_text() == nbb_unformatted_code) {\n                             nbb_cells[i].set_text(nbb_formatted_code);\n                        }\n                        break;\n                    }\n                }\n            }, 500);\n            ",
      "text/plain": [
       "<IPython.core.display.Javascript object>"
      ]
     },
     "metadata": {},
     "output_type": "display_data"
    }
   ],
   "source": [
    "try:\n",
    "    value_activation = best_hps.get(\"activation\")\n",
    "except:\n",
    "    value_activation = None\n",
    "\n",
    "try:\n",
    "    value_learning_rate = best_hps.get(\"learning_rate\")\n",
    "except:\n",
    "    value_learning_rate = None\n",
    "try:\n",
    "    value_unit_1 = best_hps.get(\"unit_1\")\n",
    "except:\n",
    "    value_unit_1 = None\n",
    "try:\n",
    "    value_unit_2 = best_hps.get(\"unit_2\")\n",
    "except:\n",
    "    value_unit_2 = None\n",
    "try:\n",
    "    value_unit_3 = best_hps.get(\"unit_3\")\n",
    "except:\n",
    "    value_unit_3 = None\n",
    "try:\n",
    "    value_unit_4 = best_hps.get(\"unit_4\")\n",
    "except:\n",
    "    value_unit_4 = None\n",
    "try:\n",
    "    value_kernel_size_1 = best_hps.get(\"kernel_size_1\")\n",
    "except:\n",
    "    value_kernel_size_1 = None\n",
    "try:\n",
    "    value_kernel_size_2 = best_hps.get(\"kernel_size_2\")\n",
    "except:\n",
    "    value_kernel_size_2 = None\n",
    "try:\n",
    "    value_n_filter_1 = best_hps.get(\"n_filter_1\")\n",
    "except:\n",
    "    value_n_filter_1 = None\n",
    "try:\n",
    "    value_n_filter_2 = best_hps.get(\"n_filter_2\")\n",
    "except:\n",
    "    value_n_filter_2 = None\n",
    "\n",
    "\n",
    "\"\"\"\"Repeticao MODEL.ipynb\"\"\"\n",
    "\n",
    "def save_in_list(one_list, value=None):\n",
    "    try:\n",
    "        one_list.append(value)\n",
    "        return one_list\n",
    "    except:\n",
    "        one_list.append(None)\n",
    "        return one_list\n",
    "\n",
    "\n",
    "list_best_epoch = save_in_list(list_best_epoch, best_epoch)\n",
    "list_best_model_path = save_in_list(list_best_model_path, bst_model_path)\n",
    "list_activation = save_in_list(list_activation, value_activation)\n",
    "list_learning_rate = save_in_list(list_learning_rate, value_learning_rate)\n",
    "list_hp_unit_1 = save_in_list(list_hp_unit_1, value_unit_1)\n",
    "list_hp_unit_2 = save_in_list(list_hp_unit_2, value_unit_2)\n",
    "list_hp_unit_3 = save_in_list(list_hp_unit_3, value_unit_3)\n",
    "list_hp_unit_4 = save_in_list(list_hp_unit_4, value_unit_4)\n",
    "list_kernel_size_1 = save_in_list(list_kernel_size_1, value_kernel_size_1)\n",
    "list_kernel_size_2 = save_in_list(list_kernel_size_2, value_kernel_size_2)\n",
    "list_n_filter_1 = save_in_list(list_n_filter_1, value_n_filter_1)\n",
    "list_n_filter_2 = save_in_list(list_n_filter_2, value_n_filter_2)\n",
    "list_val_mae = save_in_list(list_val_mae, min(history.history[\"val_mae\"]))\n",
    "list_val_mse = save_in_list(list_val_mse, min(history.history[\"val_mse\"]))"
   ]
  },
  {
   "cell_type": "code",
   "execution_count": 82,
   "metadata": {},
   "outputs": [
    {
     "data": {
      "application/javascript": "\n            setTimeout(function() {\n                var nbb_cell_id = 82;\n                var nbb_unformatted_code = \"def save_in_list(one_list, value=None):\\n    try:\\n        one_list.append(value)\\n        return one_list\\n    except:\\n        one_list.append(None)\\n        return one_list\\n\\n\\nlist_best_epoch = save_in_list(list_best_epoch, best_epoch)\\nlist_best_model_path = save_in_list(list_best_model_path, bst_model_path)\\nlist_activation = save_in_list(list_activation, value_activation)\\nlist_learning_rate = save_in_list(list_learning_rate, value_learning_rate)\\nlist_hp_unit_1 = save_in_list(list_hp_unit_1, value_unit_1)\\nlist_hp_unit_2 = save_in_list(list_hp_unit_2, value_unit_2)\\nlist_hp_unit_3 = save_in_list(list_hp_unit_3, value_unit_3)\\nlist_hp_unit_4 = save_in_list(list_hp_unit_4, value_unit_4)\\nlist_kernel_size_1 = save_in_list(list_kernel_size_1, value_kernel_size_1)\\nlist_kernel_size_2 = save_in_list(list_kernel_size_2, value_kernel_size_2)\\nlist_n_filter_1 = save_in_list(list_n_filter_1, value_n_filter_1)\\nlist_n_filter_2 = save_in_list(list_n_filter_2, value_n_filter_2)\\nlist_val_mae = save_in_list(list_val_mae, min(history.history[\\\"val_mae\\\"]))\\nlist_val_mse = save_in_list(list_val_mse, min(history.history[\\\"val_mse\\\"]))\";\n                var nbb_formatted_code = \"def save_in_list(one_list, value=None):\\n    try:\\n        one_list.append(value)\\n        return one_list\\n    except:\\n        one_list.append(None)\\n        return one_list\\n\\n\\nlist_best_epoch = save_in_list(list_best_epoch, best_epoch)\\nlist_best_model_path = save_in_list(list_best_model_path, bst_model_path)\\nlist_activation = save_in_list(list_activation, value_activation)\\nlist_learning_rate = save_in_list(list_learning_rate, value_learning_rate)\\nlist_hp_unit_1 = save_in_list(list_hp_unit_1, value_unit_1)\\nlist_hp_unit_2 = save_in_list(list_hp_unit_2, value_unit_2)\\nlist_hp_unit_3 = save_in_list(list_hp_unit_3, value_unit_3)\\nlist_hp_unit_4 = save_in_list(list_hp_unit_4, value_unit_4)\\nlist_kernel_size_1 = save_in_list(list_kernel_size_1, value_kernel_size_1)\\nlist_kernel_size_2 = save_in_list(list_kernel_size_2, value_kernel_size_2)\\nlist_n_filter_1 = save_in_list(list_n_filter_1, value_n_filter_1)\\nlist_n_filter_2 = save_in_list(list_n_filter_2, value_n_filter_2)\\nlist_val_mae = save_in_list(list_val_mae, min(history.history[\\\"val_mae\\\"]))\\nlist_val_mse = save_in_list(list_val_mse, min(history.history[\\\"val_mse\\\"]))\";\n                var nbb_cells = Jupyter.notebook.get_cells();\n                for (var i = 0; i < nbb_cells.length; ++i) {\n                    if (nbb_cells[i].input_prompt_number == nbb_cell_id) {\n                        if (nbb_cells[i].get_text() == nbb_unformatted_code) {\n                             nbb_cells[i].set_text(nbb_formatted_code);\n                        }\n                        break;\n                    }\n                }\n            }, 500);\n            ",
      "text/plain": [
       "<IPython.core.display.Javascript object>"
      ]
     },
     "metadata": {},
     "output_type": "display_data"
    }
   ],
   "source": []
  },
  {
   "cell_type": "code",
   "execution_count": 83,
   "metadata": {},
   "outputs": [
    {
     "name": "stdout",
     "output_type": "stream",
     "text": [
      "[299]\n",
      "['Models/MLP/model_22_10_09_17h52m14.h5']\n",
      "['elu']\n",
      "[0.01]\n",
      "[50]\n",
      "[19]\n",
      "[12]\n",
      "[21]\n",
      "[None]\n",
      "[None]\n",
      "[None]\n",
      "[None]\n",
      "[0.20625071227550507]\n",
      "[0.07175293564796448]\n"
     ]
    },
    {
     "data": {
      "application/javascript": "\n            setTimeout(function() {\n                var nbb_cell_id = 83;\n                var nbb_unformatted_code = \"print(list_best_epoch)\\nprint(list_best_model_path)\\nprint(list_activation)\\nprint(list_learning_rate)\\nprint(list_hp_unit_1)\\nprint(list_hp_unit_2)\\nprint(list_hp_unit_3)\\nprint(list_hp_unit_4)\\nprint(list_kernel_size_1)\\nprint(list_kernel_size_2)\\nprint(list_n_filter_1)\\nprint(list_n_filter_2)\\nprint(list_val_mae)\\nprint(list_val_mse)\";\n                var nbb_formatted_code = \"print(list_best_epoch)\\nprint(list_best_model_path)\\nprint(list_activation)\\nprint(list_learning_rate)\\nprint(list_hp_unit_1)\\nprint(list_hp_unit_2)\\nprint(list_hp_unit_3)\\nprint(list_hp_unit_4)\\nprint(list_kernel_size_1)\\nprint(list_kernel_size_2)\\nprint(list_n_filter_1)\\nprint(list_n_filter_2)\\nprint(list_val_mae)\\nprint(list_val_mse)\";\n                var nbb_cells = Jupyter.notebook.get_cells();\n                for (var i = 0; i < nbb_cells.length; ++i) {\n                    if (nbb_cells[i].input_prompt_number == nbb_cell_id) {\n                        if (nbb_cells[i].get_text() == nbb_unformatted_code) {\n                             nbb_cells[i].set_text(nbb_formatted_code);\n                        }\n                        break;\n                    }\n                }\n            }, 500);\n            ",
      "text/plain": [
       "<IPython.core.display.Javascript object>"
      ]
     },
     "metadata": {},
     "output_type": "display_data"
    }
   ],
   "source": [
    "print(list_best_epoch)\n",
    "print(list_best_model_path)\n",
    "print(list_activation)\n",
    "print(list_learning_rate)\n",
    "print(list_hp_unit_1)\n",
    "print(list_hp_unit_2)\n",
    "print(list_hp_unit_3)\n",
    "print(list_hp_unit_4)\n",
    "print(list_kernel_size_1)\n",
    "print(list_kernel_size_2)\n",
    "print(list_n_filter_1)\n",
    "print(list_n_filter_2)\n",
    "print(list_val_mae)\n",
    "print(list_val_mse)"
   ]
  },
  {
   "cell_type": "code",
   "execution_count": 101,
   "metadata": {},
   "outputs": [
    {
     "data": {
      "text/html": [
       "<div>\n",
       "<style scoped>\n",
       "    .dataframe tbody tr th:only-of-type {\n",
       "        vertical-align: middle;\n",
       "    }\n",
       "\n",
       "    .dataframe tbody tr th {\n",
       "        vertical-align: top;\n",
       "    }\n",
       "\n",
       "    .dataframe thead th {\n",
       "        text-align: right;\n",
       "    }\n",
       "</style>\n",
       "<table border=\"1\" class=\"dataframe\">\n",
       "  <thead>\n",
       "    <tr style=\"text-align: right;\">\n",
       "      <th></th>\n",
       "      <th>best_model_path</th>\n",
       "      <th>best_epoch</th>\n",
       "      <th>activation</th>\n",
       "      <th>learning_rate</th>\n",
       "      <th>hp_unit_1</th>\n",
       "      <th>hp_unit_2</th>\n",
       "      <th>hp_unit_3</th>\n",
       "      <th>hp_unit_4</th>\n",
       "      <th>kernel_size_1</th>\n",
       "      <th>kernel_size_2</th>\n",
       "      <th>n_filter_1</th>\n",
       "      <th>n_filter_2</th>\n",
       "      <th>val_mae</th>\n",
       "      <th>val_mse</th>\n",
       "    </tr>\n",
       "  </thead>\n",
       "  <tbody>\n",
       "    <tr>\n",
       "      <th>0</th>\n",
       "      <td>[Models/MLP/model_22_10_09_17h52m14.h5]</td>\n",
       "      <td>[299]</td>\n",
       "      <td>[elu]</td>\n",
       "      <td>[0.01]</td>\n",
       "      <td>[50]</td>\n",
       "      <td>[19]</td>\n",
       "      <td>[12]</td>\n",
       "      <td>[21]</td>\n",
       "      <td>[None]</td>\n",
       "      <td>[None]</td>\n",
       "      <td>[None]</td>\n",
       "      <td>[None]</td>\n",
       "      <td>[0.20625071227550507]</td>\n",
       "      <td>[0.07175293564796448]</td>\n",
       "    </tr>\n",
       "  </tbody>\n",
       "</table>\n",
       "</div>"
      ],
      "text/plain": [
       "                           best_model_path best_epoch activation  \\\n",
       "0  [Models/MLP/model_22_10_09_17h52m14.h5]      [299]      [elu]   \n",
       "\n",
       "  learning_rate hp_unit_1 hp_unit_2 hp_unit_3 hp_unit_4 kernel_size_1  \\\n",
       "0        [0.01]      [50]      [19]      [12]      [21]        [None]   \n",
       "\n",
       "  kernel_size_2 n_filter_1 n_filter_2                val_mae  \\\n",
       "0        [None]     [None]     [None]  [0.20625071227550507]   \n",
       "\n",
       "                 val_mse  \n",
       "0  [0.07175293564796448]  "
      ]
     },
     "execution_count": 101,
     "metadata": {},
     "output_type": "execute_result"
    },
    {
     "data": {
      "application/javascript": "\n            setTimeout(function() {\n                var nbb_cell_id = 101;\n                var nbb_unformatted_code = \"result_columns = [\\n    \\\"best_model_path\\\",\\n    \\\"best_epoch\\\",\\n    \\\"activation\\\",\\n    \\\"learning_rate\\\",\\n    \\\"hp_unit_1\\\",\\n    \\\"hp_unit_2\\\",\\n    \\\"hp_unit_3\\\",\\n    \\\"hp_unit_4\\\",\\n    \\\"kernel_size_1\\\",\\n    \\\"kernel_size_2\\\",\\n    \\\"n_filter_1\\\",\\n    \\\"n_filter_2\\\",\\n    \\\"val_mae\\\",\\n    \\\"val_mse\\\",\\n]\\n\\ndata = {\\n    \\\"best_epoch\\\": [list_best_epoch],\\n    \\\"best_model_path\\\": [list_best_model_path],\\n    \\\"activation\\\": [list_activation],\\n    \\\"learning_rate\\\": [list_learning_rate],\\n    \\\"hp_unit_1\\\": [list_hp_unit_1],\\n    \\\"hp_unit_2\\\": [list_hp_unit_2],\\n    \\\"hp_unit_3\\\": [list_hp_unit_3],\\n    \\\"hp_unit_4\\\": [list_hp_unit_4],\\n    \\\"kernel_size_1\\\": [list_kernel_size_1],\\n    \\\"kernel_size_2\\\": [list_kernel_size_2],\\n    \\\"n_filter_1\\\": [list_n_filter_1],\\n    \\\"n_filter_2\\\": [list_n_filter_2],\\n    \\\"val_mae\\\": [list_val_mae],\\n    \\\"val_mse\\\": [list_val_mse],\\n}\\n\\npd.DataFrame(\\n    data,\\n    columns=result_columns,\\n)\";\n                var nbb_formatted_code = \"result_columns = [\\n    \\\"best_model_path\\\",\\n    \\\"best_epoch\\\",\\n    \\\"activation\\\",\\n    \\\"learning_rate\\\",\\n    \\\"hp_unit_1\\\",\\n    \\\"hp_unit_2\\\",\\n    \\\"hp_unit_3\\\",\\n    \\\"hp_unit_4\\\",\\n    \\\"kernel_size_1\\\",\\n    \\\"kernel_size_2\\\",\\n    \\\"n_filter_1\\\",\\n    \\\"n_filter_2\\\",\\n    \\\"val_mae\\\",\\n    \\\"val_mse\\\",\\n]\\n\\ndata = {\\n    \\\"best_epoch\\\": [list_best_epoch],\\n    \\\"best_model_path\\\": [list_best_model_path],\\n    \\\"activation\\\": [list_activation],\\n    \\\"learning_rate\\\": [list_learning_rate],\\n    \\\"hp_unit_1\\\": [list_hp_unit_1],\\n    \\\"hp_unit_2\\\": [list_hp_unit_2],\\n    \\\"hp_unit_3\\\": [list_hp_unit_3],\\n    \\\"hp_unit_4\\\": [list_hp_unit_4],\\n    \\\"kernel_size_1\\\": [list_kernel_size_1],\\n    \\\"kernel_size_2\\\": [list_kernel_size_2],\\n    \\\"n_filter_1\\\": [list_n_filter_1],\\n    \\\"n_filter_2\\\": [list_n_filter_2],\\n    \\\"val_mae\\\": [list_val_mae],\\n    \\\"val_mse\\\": [list_val_mse],\\n}\\n\\npd.DataFrame(\\n    data,\\n    columns=result_columns,\\n)\";\n                var nbb_cells = Jupyter.notebook.get_cells();\n                for (var i = 0; i < nbb_cells.length; ++i) {\n                    if (nbb_cells[i].input_prompt_number == nbb_cell_id) {\n                        if (nbb_cells[i].get_text() == nbb_unformatted_code) {\n                             nbb_cells[i].set_text(nbb_formatted_code);\n                        }\n                        break;\n                    }\n                }\n            }, 500);\n            ",
      "text/plain": [
       "<IPython.core.display.Javascript object>"
      ]
     },
     "metadata": {},
     "output_type": "display_data"
    }
   ],
   "source": [
    "result_columns = [\n",
    "    \"best_model_path\",\n",
    "    \"best_epoch\",\n",
    "    \"activation\",\n",
    "    \"learning_rate\",\n",
    "    \"hp_unit_1\",\n",
    "    \"hp_unit_2\",\n",
    "    \"hp_unit_3\",\n",
    "    \"hp_unit_4\",\n",
    "    \"kernel_size_1\",\n",
    "    \"kernel_size_2\",\n",
    "    \"n_filter_1\",\n",
    "    \"n_filter_2\",\n",
    "    \"val_mae\",\n",
    "    \"val_mse\",\n",
    "]\n",
    "\n",
    "data = {\n",
    "    \"best_epoch\": [list_best_epoch],\n",
    "    \"best_model_path\": [list_best_model_path],\n",
    "    \"activation\": [list_activation],\n",
    "    \"learning_rate\": [list_learning_rate],\n",
    "    \"hp_unit_1\": [list_hp_unit_1],\n",
    "    \"hp_unit_2\": [list_hp_unit_2],\n",
    "    \"hp_unit_3\": [list_hp_unit_3],\n",
    "    \"hp_unit_4\": [list_hp_unit_4],\n",
    "    \"kernel_size_1\": [list_kernel_size_1],\n",
    "    \"kernel_size_2\": [list_kernel_size_2],\n",
    "    \"n_filter_1\": [list_n_filter_1],\n",
    "    \"n_filter_2\": [list_n_filter_2],\n",
    "    \"val_mae\": [list_val_mae],\n",
    "    \"val_mse\": [list_val_mse],\n",
    "}\n",
    "\n",
    "pd.DataFrame(\n",
    "    data,\n",
    "    columns=result_columns,\n",
    ")"
   ]
  },
  {
   "cell_type": "code",
   "execution_count": 84,
   "metadata": {},
   "outputs": [
    {
     "name": "stdout",
     "output_type": "stream",
     "text": [
      "unit_1: 50\n",
      "unit_2: 19\n",
      "unit_3: 12\n",
      "unit_4: 21\n",
      "learning_rate: 0.01\n",
      "activation: elu\n"
     ]
    },
    {
     "data": {
      "application/javascript": "\n            setTimeout(function() {\n                var nbb_cell_id = 84;\n                var nbb_unformatted_code = \"print(f'unit_1: {best_hps.get(\\\"unit_1\\\")}')\\nprint(f'unit_2: {best_hps.get(\\\"unit_2\\\")}')\\nprint(f'unit_3: {best_hps.get(\\\"unit_3\\\")}')\\nprint(f'unit_4: {best_hps.get(\\\"unit_4\\\")}')\\nprint(f'learning_rate: {best_hps.get(\\\"learning_rate\\\")}')\\nprint(f'activation: {best_hps.get(\\\"activation\\\")}')\";\n                var nbb_formatted_code = \"print(f'unit_1: {best_hps.get(\\\"unit_1\\\")}')\\nprint(f'unit_2: {best_hps.get(\\\"unit_2\\\")}')\\nprint(f'unit_3: {best_hps.get(\\\"unit_3\\\")}')\\nprint(f'unit_4: {best_hps.get(\\\"unit_4\\\")}')\\nprint(f'learning_rate: {best_hps.get(\\\"learning_rate\\\")}')\\nprint(f'activation: {best_hps.get(\\\"activation\\\")}')\";\n                var nbb_cells = Jupyter.notebook.get_cells();\n                for (var i = 0; i < nbb_cells.length; ++i) {\n                    if (nbb_cells[i].input_prompt_number == nbb_cell_id) {\n                        if (nbb_cells[i].get_text() == nbb_unformatted_code) {\n                             nbb_cells[i].set_text(nbb_formatted_code);\n                        }\n                        break;\n                    }\n                }\n            }, 500);\n            ",
      "text/plain": [
       "<IPython.core.display.Javascript object>"
      ]
     },
     "metadata": {},
     "output_type": "display_data"
    }
   ],
   "source": [
    "print(f'unit_1: {best_hps.get(\"unit_1\")}')\n",
    "print(f'unit_2: {best_hps.get(\"unit_2\")}')\n",
    "print(f'unit_3: {best_hps.get(\"unit_3\")}')\n",
    "print(f'unit_4: {best_hps.get(\"unit_4\")}')\n",
    "print(f'learning_rate: {best_hps.get(\"learning_rate\")}')\n",
    "print(f'activation: {best_hps.get(\"activation\")}')"
   ]
  },
  {
   "cell_type": "code",
   "execution_count": 85,
   "metadata": {},
   "outputs": [
    {
     "name": "stdout",
     "output_type": "stream",
     "text": [
      "15/15 [==============================] - 0s 3ms/step - loss: 5.4200 - mae: 0.5109 - mse: 5.4200\n",
      "[test loss, test accuracy]: [5.419956207275391, 0.5109280943870544, 5.419956207275391]\n"
     ]
    },
    {
     "data": {
      "application/javascript": "\n            setTimeout(function() {\n                var nbb_cell_id = 85;\n                var nbb_unformatted_code = \"eval_result = model.evaluate(test_dataset, test_labels)\\nprint(\\\"[test loss, test accuracy]:\\\", eval_result)\";\n                var nbb_formatted_code = \"eval_result = model.evaluate(test_dataset, test_labels)\\nprint(\\\"[test loss, test accuracy]:\\\", eval_result)\";\n                var nbb_cells = Jupyter.notebook.get_cells();\n                for (var i = 0; i < nbb_cells.length; ++i) {\n                    if (nbb_cells[i].input_prompt_number == nbb_cell_id) {\n                        if (nbb_cells[i].get_text() == nbb_unformatted_code) {\n                             nbb_cells[i].set_text(nbb_formatted_code);\n                        }\n                        break;\n                    }\n                }\n            }, 500);\n            ",
      "text/plain": [
       "<IPython.core.display.Javascript object>"
      ]
     },
     "metadata": {},
     "output_type": "display_data"
    }
   ],
   "source": [
    "eval_result = model.evaluate(test_dataset, test_labels)\n",
    "print(\"[test loss, test accuracy]:\", eval_result)"
   ]
  },
  {
   "cell_type": "markdown",
   "metadata": {},
   "source": [
    "# Avaliando o modelo"
   ]
  },
  {
   "cell_type": "code",
   "execution_count": 86,
   "metadata": {},
   "outputs": [
    {
     "data": {
      "application/javascript": "\n            setTimeout(function() {\n                var nbb_cell_id = 86;\n                var nbb_unformatted_code = \"# print(f'train_dataset: {train_dataset.columns()} \\\\n')\\n# print(f'valid_dataset: {valid_dataset.columns()} \\\\n')\\n# print(f'test_dataset: {test_dataset.columns()} \\\\n')\";\n                var nbb_formatted_code = \"# print(f'train_dataset: {train_dataset.columns()} \\\\n')\\n# print(f'valid_dataset: {valid_dataset.columns()} \\\\n')\\n# print(f'test_dataset: {test_dataset.columns()} \\\\n')\";\n                var nbb_cells = Jupyter.notebook.get_cells();\n                for (var i = 0; i < nbb_cells.length; ++i) {\n                    if (nbb_cells[i].input_prompt_number == nbb_cell_id) {\n                        if (nbb_cells[i].get_text() == nbb_unformatted_code) {\n                             nbb_cells[i].set_text(nbb_formatted_code);\n                        }\n                        break;\n                    }\n                }\n            }, 500);\n            ",
      "text/plain": [
       "<IPython.core.display.Javascript object>"
      ]
     },
     "metadata": {},
     "output_type": "display_data"
    }
   ],
   "source": [
    "# print(f'train_dataset: {train_dataset.columns()} \\n')\n",
    "# print(f'valid_dataset: {valid_dataset.columns()} \\n')\n",
    "# print(f'test_dataset: {test_dataset.columns()} \\n')"
   ]
  },
  {
   "cell_type": "code",
   "execution_count": 87,
   "metadata": {},
   "outputs": [
    {
     "data": {
      "text/html": [
       "<div>\n",
       "<style scoped>\n",
       "    .dataframe tbody tr th:only-of-type {\n",
       "        vertical-align: middle;\n",
       "    }\n",
       "\n",
       "    .dataframe tbody tr th {\n",
       "        vertical-align: top;\n",
       "    }\n",
       "\n",
       "    .dataframe thead th {\n",
       "        text-align: right;\n",
       "    }\n",
       "</style>\n",
       "<table border=\"1\" class=\"dataframe\">\n",
       "  <thead>\n",
       "    <tr style=\"text-align: right;\">\n",
       "      <th></th>\n",
       "      <th>loss</th>\n",
       "      <th>mae</th>\n",
       "      <th>mse</th>\n",
       "      <th>val_loss</th>\n",
       "      <th>val_mae</th>\n",
       "      <th>val_mse</th>\n",
       "      <th>epoch</th>\n",
       "    </tr>\n",
       "  </thead>\n",
       "  <tbody>\n",
       "    <tr>\n",
       "      <th>495</th>\n",
       "      <td>0.048087</td>\n",
       "      <td>0.169550</td>\n",
       "      <td>0.048087</td>\n",
       "      <td>0.123631</td>\n",
       "      <td>0.287279</td>\n",
       "      <td>0.123631</td>\n",
       "      <td>495</td>\n",
       "    </tr>\n",
       "    <tr>\n",
       "      <th>496</th>\n",
       "      <td>0.045618</td>\n",
       "      <td>0.163880</td>\n",
       "      <td>0.045618</td>\n",
       "      <td>0.090611</td>\n",
       "      <td>0.241154</td>\n",
       "      <td>0.090611</td>\n",
       "      <td>496</td>\n",
       "    </tr>\n",
       "    <tr>\n",
       "      <th>497</th>\n",
       "      <td>0.046632</td>\n",
       "      <td>0.166409</td>\n",
       "      <td>0.046632</td>\n",
       "      <td>0.098296</td>\n",
       "      <td>0.252386</td>\n",
       "      <td>0.098296</td>\n",
       "      <td>497</td>\n",
       "    </tr>\n",
       "    <tr>\n",
       "      <th>498</th>\n",
       "      <td>0.043688</td>\n",
       "      <td>0.159716</td>\n",
       "      <td>0.043688</td>\n",
       "      <td>0.096525</td>\n",
       "      <td>0.251149</td>\n",
       "      <td>0.096525</td>\n",
       "      <td>498</td>\n",
       "    </tr>\n",
       "    <tr>\n",
       "      <th>499</th>\n",
       "      <td>0.041717</td>\n",
       "      <td>0.158356</td>\n",
       "      <td>0.041717</td>\n",
       "      <td>0.122112</td>\n",
       "      <td>0.277239</td>\n",
       "      <td>0.122112</td>\n",
       "      <td>499</td>\n",
       "    </tr>\n",
       "  </tbody>\n",
       "</table>\n",
       "</div>"
      ],
      "text/plain": [
       "         loss       mae       mse  val_loss   val_mae   val_mse  epoch\n",
       "495  0.048087  0.169550  0.048087  0.123631  0.287279  0.123631    495\n",
       "496  0.045618  0.163880  0.045618  0.090611  0.241154  0.090611    496\n",
       "497  0.046632  0.166409  0.046632  0.098296  0.252386  0.098296    497\n",
       "498  0.043688  0.159716  0.043688  0.096525  0.251149  0.096525    498\n",
       "499  0.041717  0.158356  0.041717  0.122112  0.277239  0.122112    499"
      ]
     },
     "execution_count": 87,
     "metadata": {},
     "output_type": "execute_result"
    },
    {
     "data": {
      "application/javascript": "\n            setTimeout(function() {\n                var nbb_cell_id = 87;\n                var nbb_unformatted_code = \"hist = pd.DataFrame(history.history)\\nhist[\\\"epoch\\\"] = history.epoch\\nhist.tail()\";\n                var nbb_formatted_code = \"hist = pd.DataFrame(history.history)\\nhist[\\\"epoch\\\"] = history.epoch\\nhist.tail()\";\n                var nbb_cells = Jupyter.notebook.get_cells();\n                for (var i = 0; i < nbb_cells.length; ++i) {\n                    if (nbb_cells[i].input_prompt_number == nbb_cell_id) {\n                        if (nbb_cells[i].get_text() == nbb_unformatted_code) {\n                             nbb_cells[i].set_text(nbb_formatted_code);\n                        }\n                        break;\n                    }\n                }\n            }, 500);\n            ",
      "text/plain": [
       "<IPython.core.display.Javascript object>"
      ]
     },
     "metadata": {},
     "output_type": "display_data"
    }
   ],
   "source": [
    "hist = pd.DataFrame(history.history)\n",
    "hist[\"epoch\"] = history.epoch\n",
    "hist.tail()"
   ]
  },
  {
   "cell_type": "code",
   "execution_count": 88,
   "metadata": {},
   "outputs": [
    {
     "name": "stdout",
     "output_type": "stream",
     "text": [
      "Min MSE: 0.04040657356381416\n",
      "Min Val_MSE: 0.07175293564796448\n"
     ]
    },
    {
     "data": {
      "application/javascript": "\n            setTimeout(function() {\n                var nbb_cell_id = 88;\n                var nbb_unformatted_code = \"print(f\\\"Min MSE: {hist.mse.min()}\\\")\\nprint(f\\\"Min Val_MSE: {hist.val_mse.min()}\\\")\";\n                var nbb_formatted_code = \"print(f\\\"Min MSE: {hist.mse.min()}\\\")\\nprint(f\\\"Min Val_MSE: {hist.val_mse.min()}\\\")\";\n                var nbb_cells = Jupyter.notebook.get_cells();\n                for (var i = 0; i < nbb_cells.length; ++i) {\n                    if (nbb_cells[i].input_prompt_number == nbb_cell_id) {\n                        if (nbb_cells[i].get_text() == nbb_unformatted_code) {\n                             nbb_cells[i].set_text(nbb_formatted_code);\n                        }\n                        break;\n                    }\n                }\n            }, 500);\n            ",
      "text/plain": [
       "<IPython.core.display.Javascript object>"
      ]
     },
     "metadata": {},
     "output_type": "display_data"
    }
   ],
   "source": [
    "print(f\"Min MSE: {hist.mse.min()}\")\n",
    "print(f\"Min Val_MSE: {hist.val_mse.min()}\")"
   ]
  },
  {
   "cell_type": "code",
   "execution_count": 89,
   "metadata": {},
   "outputs": [
    {
     "data": {
      "text/html": [
       "<div>\n",
       "<style scoped>\n",
       "    .dataframe tbody tr th:only-of-type {\n",
       "        vertical-align: middle;\n",
       "    }\n",
       "\n",
       "    .dataframe tbody tr th {\n",
       "        vertical-align: top;\n",
       "    }\n",
       "\n",
       "    .dataframe thead th {\n",
       "        text-align: right;\n",
       "    }\n",
       "</style>\n",
       "<table border=\"1\" class=\"dataframe\">\n",
       "  <thead>\n",
       "    <tr style=\"text-align: right;\">\n",
       "      <th></th>\n",
       "      <th>best_epoch</th>\n",
       "      <th>val_mae</th>\n",
       "      <th>val_mse</th>\n",
       "      <th>n_filter_1</th>\n",
       "      <th>n_filter_2</th>\n",
       "      <th>kernel_size_1</th>\n",
       "      <th>kernel_size_2</th>\n",
       "      <th>learning_rate</th>\n",
       "      <th>activation</th>\n",
       "      <th>bst_model_path</th>\n",
       "    </tr>\n",
       "  </thead>\n",
       "  <tbody>\n",
       "    <tr>\n",
       "      <th>0</th>\n",
       "      <td>299</td>\n",
       "      <td>0.206251</td>\n",
       "      <td>0.071753</td>\n",
       "      <td>NaN</td>\n",
       "      <td>None</td>\n",
       "      <td>NaN</td>\n",
       "      <td>None</td>\n",
       "      <td>0.01</td>\n",
       "      <td>elu</td>\n",
       "      <td>Models/MLP/model_22_10_09_17h52m14.h5</td>\n",
       "    </tr>\n",
       "  </tbody>\n",
       "</table>\n",
       "</div>"
      ],
      "text/plain": [
       "  best_epoch   val_mae   val_mse n_filter_1 n_filter_2 kernel_size_1  \\\n",
       "0        299  0.206251  0.071753        NaN       None           NaN   \n",
       "\n",
       "  kernel_size_2 learning_rate activation  \\\n",
       "0          None          0.01        elu   \n",
       "\n",
       "                          bst_model_path  \n",
       "0  Models/MLP/model_22_10_09_17h52m14.h5  "
      ]
     },
     "execution_count": 89,
     "metadata": {},
     "output_type": "execute_result"
    },
    {
     "data": {
      "application/javascript": "\n            setTimeout(function() {\n                var nbb_cell_id = 89;\n                var nbb_unformatted_code = \"df_results = pd.DataFrame(\\n    columns=[\\n        \\\"best_epoch\\\",\\n        \\\"val_mae\\\",\\n        \\\"val_mse\\\",\\n        \\\"n_filter_1\\\",\\n        \\\"n_filter_2\\\",\\n        \\\"kernel_size_1\\\",\\n        \\\"kernel_size_2\\\",\\n        \\\"learning_rate\\\",\\n        \\\"activation\\\",\\n    ]\\n)\\n\\n# for REPETICAO, value in enumerate((df_results)):\\ndf_results.loc[REPETICAO, \\\"bst_model_path\\\"] = bst_model_path\\ndf_results.loc[REPETICAO, \\\"best_epoch\\\"] = best_epoch\\ndf_results.loc[REPETICAO, \\\"val_mae\\\"] = min(history.history[\\\"val_mae\\\"])\\ndf_results.loc[REPETICAO, \\\"val_mse\\\"] = min(history.history[\\\"val_mse\\\"])\\n# df_results.loc[REPETICAO, \\\"n_filter_1\\\"] = best_hps.get(\\\"n_filter_1\\\")\\ndf_results.loc[REPETICAO, \\\"n_filter_2\\\"] = None\\n# df_results.loc[REPETICAO, \\\"kernel_size_1\\\"] = best_hps.get(\\\"kernel_size_1\\\")\\ndf_results.loc[REPETICAO, \\\"kernel_size_2\\\"] = None\\ndf_results.loc[REPETICAO, \\\"learning_rate\\\"] = best_hps.get(\\\"learning_rate\\\")\\ndf_results.loc[REPETICAO, \\\"activation\\\"] = best_hps.get(\\\"activation\\\")\\n\\ndf_results\\n# bst_model_path\";\n                var nbb_formatted_code = \"df_results = pd.DataFrame(\\n    columns=[\\n        \\\"best_epoch\\\",\\n        \\\"val_mae\\\",\\n        \\\"val_mse\\\",\\n        \\\"n_filter_1\\\",\\n        \\\"n_filter_2\\\",\\n        \\\"kernel_size_1\\\",\\n        \\\"kernel_size_2\\\",\\n        \\\"learning_rate\\\",\\n        \\\"activation\\\",\\n    ]\\n)\\n\\n# for REPETICAO, value in enumerate((df_results)):\\ndf_results.loc[REPETICAO, \\\"bst_model_path\\\"] = bst_model_path\\ndf_results.loc[REPETICAO, \\\"best_epoch\\\"] = best_epoch\\ndf_results.loc[REPETICAO, \\\"val_mae\\\"] = min(history.history[\\\"val_mae\\\"])\\ndf_results.loc[REPETICAO, \\\"val_mse\\\"] = min(history.history[\\\"val_mse\\\"])\\n# df_results.loc[REPETICAO, \\\"n_filter_1\\\"] = best_hps.get(\\\"n_filter_1\\\")\\ndf_results.loc[REPETICAO, \\\"n_filter_2\\\"] = None\\n# df_results.loc[REPETICAO, \\\"kernel_size_1\\\"] = best_hps.get(\\\"kernel_size_1\\\")\\ndf_results.loc[REPETICAO, \\\"kernel_size_2\\\"] = None\\ndf_results.loc[REPETICAO, \\\"learning_rate\\\"] = best_hps.get(\\\"learning_rate\\\")\\ndf_results.loc[REPETICAO, \\\"activation\\\"] = best_hps.get(\\\"activation\\\")\\n\\ndf_results\\n# bst_model_path\";\n                var nbb_cells = Jupyter.notebook.get_cells();\n                for (var i = 0; i < nbb_cells.length; ++i) {\n                    if (nbb_cells[i].input_prompt_number == nbb_cell_id) {\n                        if (nbb_cells[i].get_text() == nbb_unformatted_code) {\n                             nbb_cells[i].set_text(nbb_formatted_code);\n                        }\n                        break;\n                    }\n                }\n            }, 500);\n            ",
      "text/plain": [
       "<IPython.core.display.Javascript object>"
      ]
     },
     "metadata": {},
     "output_type": "display_data"
    }
   ],
   "source": [
    "df_results = pd.DataFrame(\n",
    "    columns=[\n",
    "        \"best_epoch\",\n",
    "        \"val_mae\",\n",
    "        \"val_mse\",\n",
    "        \"n_filter_1\",\n",
    "        \"n_filter_2\",\n",
    "        \"kernel_size_1\",\n",
    "        \"kernel_size_2\",\n",
    "        \"learning_rate\",\n",
    "        \"activation\",\n",
    "    ]\n",
    ")\n",
    "\n",
    "# for REPETICAO, value in enumerate((df_results)):\n",
    "df_results.loc[REPETICAO, \"bst_model_path\"] = bst_model_path\n",
    "df_results.loc[REPETICAO, \"best_epoch\"] = best_epoch\n",
    "df_results.loc[REPETICAO, \"val_mae\"] = min(history.history[\"val_mae\"])\n",
    "df_results.loc[REPETICAO, \"val_mse\"] = min(history.history[\"val_mse\"])\n",
    "# df_results.loc[REPETICAO, \"n_filter_1\"] = best_hps.get(\"n_filter_1\")\n",
    "df_results.loc[REPETICAO, \"n_filter_2\"] = None\n",
    "# df_results.loc[REPETICAO, \"kernel_size_1\"] = best_hps.get(\"kernel_size_1\")\n",
    "df_results.loc[REPETICAO, \"kernel_size_2\"] = None\n",
    "df_results.loc[REPETICAO, \"learning_rate\"] = best_hps.get(\"learning_rate\")\n",
    "df_results.loc[REPETICAO, \"activation\"] = best_hps.get(\"activation\")\n",
    "\n",
    "df_results\n",
    "# bst_model_path"
   ]
  },
  {
   "cell_type": "code",
   "execution_count": 90,
   "metadata": {},
   "outputs": [
    {
     "data": {
      "image/png": "[encoded data removed]",
      "text/plain": [
       "<Figure size 432x288 with 1 Axes>"
      ]
     },
     "metadata": {
      "needs_background": "light"
     },
     "output_type": "display_data"
    },
    {
     "name": "stderr",
     "output_type": "stream",
     "text": [
      "WARNING:matplotlib.font_manager:findfont: Font family ['DejaVu Sans Display'] not found. Falling back to DejaVu Sans.\n"
     ]
    },
    {
     "data": {
      "image/png": "[encoded data removed]",
      "text/plain": [
       "<Figure size 432x288 with 1 Axes>"
      ]
     },
     "metadata": {
      "needs_background": "light"
     },
     "output_type": "display_data"
    },
    {
     "data": {
      "application/javascript": "\n            setTimeout(function() {\n                var nbb_cell_id = 90;\n                var nbb_unformatted_code = \"def plot_history(history):\\n    hist = pd.DataFrame(history.history)\\n    hist[\\\"epoch\\\"] = history.epoch\\n\\n    plt.figure()\\n    plt.xlabel(\\\"Epoch\\\")\\n    plt.ylabel(\\\"Mean Abs Error [ibova_0]\\\")\\n    plt.plot(hist[\\\"epoch\\\"], hist[\\\"mae\\\"], label=\\\"Train Error\\\")\\n    plt.plot(hist[\\\"epoch\\\"], hist[\\\"val_mae\\\"], label=\\\"Val Error\\\")\\n    plt.ylim([0, 1])\\n    plt.legend()\\n\\n    plt.figure()\\n    plt.xlabel(\\\"Epoch\\\")\\n    plt.ylabel(\\\"Mean Square Error [$ibova_0^2$]\\\")\\n    plt.plot(hist[\\\"epoch\\\"], hist[\\\"mse\\\"], label=\\\"Train Error\\\")\\n    plt.plot(hist[\\\"epoch\\\"], hist[\\\"val_mse\\\"], label=\\\"Val Error\\\")\\n    plt.ylim([0, 1])\\n    plt.legend()\\n    plt.show()\\n\\n\\nplot_history(history)\";\n                var nbb_formatted_code = \"def plot_history(history):\\n    hist = pd.DataFrame(history.history)\\n    hist[\\\"epoch\\\"] = history.epoch\\n\\n    plt.figure()\\n    plt.xlabel(\\\"Epoch\\\")\\n    plt.ylabel(\\\"Mean Abs Error [ibova_0]\\\")\\n    plt.plot(hist[\\\"epoch\\\"], hist[\\\"mae\\\"], label=\\\"Train Error\\\")\\n    plt.plot(hist[\\\"epoch\\\"], hist[\\\"val_mae\\\"], label=\\\"Val Error\\\")\\n    plt.ylim([0, 1])\\n    plt.legend()\\n\\n    plt.figure()\\n    plt.xlabel(\\\"Epoch\\\")\\n    plt.ylabel(\\\"Mean Square Error [$ibova_0^2$]\\\")\\n    plt.plot(hist[\\\"epoch\\\"], hist[\\\"mse\\\"], label=\\\"Train Error\\\")\\n    plt.plot(hist[\\\"epoch\\\"], hist[\\\"val_mse\\\"], label=\\\"Val Error\\\")\\n    plt.ylim([0, 1])\\n    plt.legend()\\n    plt.show()\\n\\n\\nplot_history(history)\";\n                var nbb_cells = Jupyter.notebook.get_cells();\n                for (var i = 0; i < nbb_cells.length; ++i) {\n                    if (nbb_cells[i].input_prompt_number == nbb_cell_id) {\n                        if (nbb_cells[i].get_text() == nbb_unformatted_code) {\n                             nbb_cells[i].set_text(nbb_formatted_code);\n                        }\n                        break;\n                    }\n                }\n            }, 500);\n            ",
      "text/plain": [
       "<IPython.core.display.Javascript object>"
      ]
     },
     "metadata": {},
     "output_type": "display_data"
    }
   ],
   "source": [
    "def plot_history(history):\n",
    "    hist = pd.DataFrame(history.history)\n",
    "    hist[\"epoch\"] = history.epoch\n",
    "\n",
    "    plt.figure()\n",
    "    plt.xlabel(\"Epoch\")\n",
    "    plt.ylabel(\"Mean Abs Error [ibova_0]\")\n",
    "    plt.plot(hist[\"epoch\"], hist[\"mae\"], label=\"Train Error\")\n",
    "    plt.plot(hist[\"epoch\"], hist[\"val_mae\"], label=\"Val Error\")\n",
    "    plt.ylim([0, 1])\n",
    "    plt.legend()\n",
    "\n",
    "    plt.figure()\n",
    "    plt.xlabel(\"Epoch\")\n",
    "    plt.ylabel(\"Mean Square Error [$ibova_0^2$]\")\n",
    "    plt.plot(hist[\"epoch\"], hist[\"mse\"], label=\"Train Error\")\n",
    "    plt.plot(hist[\"epoch\"], hist[\"val_mse\"], label=\"Val Error\")\n",
    "    plt.ylim([0, 1])\n",
    "    plt.legend()\n",
    "    plt.show()\n",
    "\n",
    "\n",
    "plot_history(history)"
   ]
  },
  {
   "cell_type": "markdown",
   "metadata": {},
   "source": [
    "# Realizando as previsões"
   ]
  },
  {
   "cell_type": "code",
   "execution_count": 91,
   "metadata": {},
   "outputs": [
    {
     "name": "stdout",
     "output_type": "stream",
     "text": [
      "15/15 [==============================] - 0s 2ms/step\n"
     ]
    },
    {
     "data": {
      "application/javascript": "\n            setTimeout(function() {\n                var nbb_cell_id = 91;\n                var nbb_unformatted_code = \"# TODO: Ver se consigo extrair o mse daqui\\n\\ntest_predictions = model.predict(test_dataset).flatten()\";\n                var nbb_formatted_code = \"# TODO: Ver se consigo extrair o mse daqui\\n\\ntest_predictions = model.predict(test_dataset).flatten()\";\n                var nbb_cells = Jupyter.notebook.get_cells();\n                for (var i = 0; i < nbb_cells.length; ++i) {\n                    if (nbb_cells[i].input_prompt_number == nbb_cell_id) {\n                        if (nbb_cells[i].get_text() == nbb_unformatted_code) {\n                             nbb_cells[i].set_text(nbb_formatted_code);\n                        }\n                        break;\n                    }\n                }\n            }, 500);\n            ",
      "text/plain": [
       "<IPython.core.display.Javascript object>"
      ]
     },
     "metadata": {},
     "output_type": "display_data"
    }
   ],
   "source": [
    "# TODO: Ver se consigo extrair o mse daqui\n",
    "\n",
    "test_predictions = model.predict(test_dataset).flatten()"
   ]
  },
  {
   "cell_type": "markdown",
   "metadata": {},
   "source": [
    "# Avaliando as previsões:"
   ]
  },
  {
   "cell_type": "code",
   "execution_count": 92,
   "metadata": {},
   "outputs": [
    {
     "data": {
      "application/javascript": "\n            setTimeout(function() {\n                var nbb_cell_id = 92;\n                var nbb_unformatted_code = \"def show_test_labels():\\n    # Imprimindo valores reais\\n    plt.plot(test_labels, color=\\\"r\\\", label=\\\"ibova_REAL\\\")\\n    plt.xlabel(\\\"Dates\\\")\\n    plt.ylabel(\\\"Variation ROC\\\")\\n    plt.title(\\\"ibova_REAL\\\")\\n    plt.legend()\\n\\n\\ndef show_model_predictions():\\n    # Imprimindo previsoes\\n    plt.plot(test_predictions, color=\\\"g\\\", label=\\\"predictions_MODEL\\\")\\n    plt.xlabel(\\\"Dates\\\")\\n    plt.ylabel(\\\"Variation ROC\\\")\\n    plt.title(\\\"predictions_MODEL\\\")\\n    plt.legend()\\n\\n\\ndef show_compare_graph():\\n    # Predictt X Real values\\n    plt.plot(test_labels, color=\\\"r\\\", label=\\\"ibova_REAL\\\")\\n    plt.plot(test_predictions, color=\\\"g\\\", label=\\\"predictions_MODEL\\\")\\n    plt.xlabel(\\\"Dates\\\")\\n    plt.ylabel(\\\"Variation ROC\\\")\\n    plt.title(\\\"Predict X Real values\\\")\\n    plt.legend()\\n    plt.show()\\n\\n\\ndef show_true_predict_values():\\n    plt.figure(figsize=(24, 4))\\n    plt.scatter(test_labels, test_predictions)\\n    plt.xlabel(\\\"True Values [ibova_0]\\\")\\n    plt.ylabel(\\\"Predictions [ibova_0]\\\")\\n    plt.axis(\\\"equal\\\")\\n    plt.axis(\\\"square\\\")\\n    plt.xlim([0, plt.xlim()[1]])\\n    plt.ylim([0, plt.ylim()[1]])\\n    _ = plt.plot([-100, 100], [-100, 100])\";\n                var nbb_formatted_code = \"def show_test_labels():\\n    # Imprimindo valores reais\\n    plt.plot(test_labels, color=\\\"r\\\", label=\\\"ibova_REAL\\\")\\n    plt.xlabel(\\\"Dates\\\")\\n    plt.ylabel(\\\"Variation ROC\\\")\\n    plt.title(\\\"ibova_REAL\\\")\\n    plt.legend()\\n\\n\\ndef show_model_predictions():\\n    # Imprimindo previsoes\\n    plt.plot(test_predictions, color=\\\"g\\\", label=\\\"predictions_MODEL\\\")\\n    plt.xlabel(\\\"Dates\\\")\\n    plt.ylabel(\\\"Variation ROC\\\")\\n    plt.title(\\\"predictions_MODEL\\\")\\n    plt.legend()\\n\\n\\ndef show_compare_graph():\\n    # Predictt X Real values\\n    plt.plot(test_labels, color=\\\"r\\\", label=\\\"ibova_REAL\\\")\\n    plt.plot(test_predictions, color=\\\"g\\\", label=\\\"predictions_MODEL\\\")\\n    plt.xlabel(\\\"Dates\\\")\\n    plt.ylabel(\\\"Variation ROC\\\")\\n    plt.title(\\\"Predict X Real values\\\")\\n    plt.legend()\\n    plt.show()\\n\\n\\ndef show_true_predict_values():\\n    plt.figure(figsize=(24, 4))\\n    plt.scatter(test_labels, test_predictions)\\n    plt.xlabel(\\\"True Values [ibova_0]\\\")\\n    plt.ylabel(\\\"Predictions [ibova_0]\\\")\\n    plt.axis(\\\"equal\\\")\\n    plt.axis(\\\"square\\\")\\n    plt.xlim([0, plt.xlim()[1]])\\n    plt.ylim([0, plt.ylim()[1]])\\n    _ = plt.plot([-100, 100], [-100, 100])\";\n                var nbb_cells = Jupyter.notebook.get_cells();\n                for (var i = 0; i < nbb_cells.length; ++i) {\n                    if (nbb_cells[i].input_prompt_number == nbb_cell_id) {\n                        if (nbb_cells[i].get_text() == nbb_unformatted_code) {\n                             nbb_cells[i].set_text(nbb_formatted_code);\n                        }\n                        break;\n                    }\n                }\n            }, 500);\n            ",
      "text/plain": [
       "<IPython.core.display.Javascript object>"
      ]
     },
     "metadata": {},
     "output_type": "display_data"
    }
   ],
   "source": [
    "def show_test_labels():\n",
    "    # Imprimindo valores reais\n",
    "    plt.plot(test_labels, color=\"r\", label=\"ibova_REAL\")\n",
    "    plt.xlabel(\"Dates\")\n",
    "    plt.ylabel(\"Variation ROC\")\n",
    "    plt.title(\"ibova_REAL\")\n",
    "    plt.legend()\n",
    "\n",
    "\n",
    "def show_model_predictions():\n",
    "    # Imprimindo previsoes\n",
    "    plt.plot(test_predictions, color=\"g\", label=\"predictions_MODEL\")\n",
    "    plt.xlabel(\"Dates\")\n",
    "    plt.ylabel(\"Variation ROC\")\n",
    "    plt.title(\"predictions_MODEL\")\n",
    "    plt.legend()\n",
    "\n",
    "\n",
    "def show_compare_graph():\n",
    "    # Predictt X Real values\n",
    "    plt.plot(test_labels, color=\"r\", label=\"ibova_REAL\")\n",
    "    plt.plot(test_predictions, color=\"g\", label=\"predictions_MODEL\")\n",
    "    plt.xlabel(\"Dates\")\n",
    "    plt.ylabel(\"Variation ROC\")\n",
    "    plt.title(\"Predict X Real values\")\n",
    "    plt.legend()\n",
    "    plt.show()\n",
    "\n",
    "\n",
    "def show_true_predict_values():\n",
    "    plt.figure(figsize=(24, 4))\n",
    "    plt.scatter(test_labels, test_predictions)\n",
    "    plt.xlabel(\"True Values [ibova_0]\")\n",
    "    plt.ylabel(\"Predictions [ibova_0]\")\n",
    "    plt.axis(\"equal\")\n",
    "    plt.axis(\"square\")\n",
    "    plt.xlim([0, plt.xlim()[1]])\n",
    "    plt.ylim([0, plt.ylim()[1]])\n",
    "    _ = plt.plot([-100, 100], [-100, 100])"
   ]
  },
  {
   "cell_type": "code",
   "execution_count": 93,
   "metadata": {},
   "outputs": [
    {
     "data": {
      "image/png": "[encoded data removed]",
      "text/plain": [
       "<Figure size 432x288 with 1 Axes>"
      ]
     },
     "metadata": {
      "needs_background": "light"
     },
     "output_type": "display_data"
    },
    {
     "data": {
      "application/javascript": "\n            setTimeout(function() {\n                var nbb_cell_id = 93;\n                var nbb_unformatted_code = \"show_compare_graph()\";\n                var nbb_formatted_code = \"show_compare_graph()\";\n                var nbb_cells = Jupyter.notebook.get_cells();\n                for (var i = 0; i < nbb_cells.length; ++i) {\n                    if (nbb_cells[i].input_prompt_number == nbb_cell_id) {\n                        if (nbb_cells[i].get_text() == nbb_unformatted_code) {\n                             nbb_cells[i].set_text(nbb_formatted_code);\n                        }\n                        break;\n                    }\n                }\n            }, 500);\n            ",
      "text/plain": [
       "<IPython.core.display.Javascript object>"
      ]
     },
     "metadata": {},
     "output_type": "display_data"
    }
   ],
   "source": [
    "show_compare_graph()"
   ]
  },
  {
   "cell_type": "code",
   "execution_count": 94,
   "metadata": {},
   "outputs": [
    {
     "data": {
      "image/png": "[encoded data removed]",
      "text/plain": [
       "<Figure size 432x288 with 1 Axes>"
      ]
     },
     "metadata": {
      "needs_background": "light"
     },
     "output_type": "display_data"
    },
    {
     "data": {
      "application/javascript": "\n            setTimeout(function() {\n                var nbb_cell_id = 94;\n                var nbb_unformatted_code = \"show_model_predictions()\";\n                var nbb_formatted_code = \"show_model_predictions()\";\n                var nbb_cells = Jupyter.notebook.get_cells();\n                for (var i = 0; i < nbb_cells.length; ++i) {\n                    if (nbb_cells[i].input_prompt_number == nbb_cell_id) {\n                        if (nbb_cells[i].get_text() == nbb_unformatted_code) {\n                             nbb_cells[i].set_text(nbb_formatted_code);\n                        }\n                        break;\n                    }\n                }\n            }, 500);\n            ",
      "text/plain": [
       "<IPython.core.display.Javascript object>"
      ]
     },
     "metadata": {},
     "output_type": "display_data"
    }
   ],
   "source": [
    "show_model_predictions()"
   ]
  },
  {
   "cell_type": "code",
   "execution_count": 95,
   "metadata": {},
   "outputs": [
    {
     "data": {
      "application/javascript": "\n            setTimeout(function() {\n                var nbb_cell_id = 95;\n                var nbb_unformatted_code = \"model_name = f'mlp_unit_1({best_hps.get(\\\"unit_1\\\")})unit_2({best_hps.get(\\\"unit_2\\\")})unit_3({best_hps.get(\\\"unit_3\\\")})unit_4({best_hps.get(\\\"unit_4\\\")})_learning({best_hps.get(\\\"learning_rate\\\")})_activation({best_hps.get(\\\"activation\\\")})'\\nmodel_name\\nmodel.save(f\\\"models/mlp/{model_name}date_{save_time}.h5\\\")\";\n                var nbb_formatted_code = \"model_name = f'mlp_unit_1({best_hps.get(\\\"unit_1\\\")})unit_2({best_hps.get(\\\"unit_2\\\")})unit_3({best_hps.get(\\\"unit_3\\\")})unit_4({best_hps.get(\\\"unit_4\\\")})_learning({best_hps.get(\\\"learning_rate\\\")})_activation({best_hps.get(\\\"activation\\\")})'\\nmodel_name\\nmodel.save(f\\\"models/mlp/{model_name}date_{save_time}.h5\\\")\";\n                var nbb_cells = Jupyter.notebook.get_cells();\n                for (var i = 0; i < nbb_cells.length; ++i) {\n                    if (nbb_cells[i].input_prompt_number == nbb_cell_id) {\n                        if (nbb_cells[i].get_text() == nbb_unformatted_code) {\n                             nbb_cells[i].set_text(nbb_formatted_code);\n                        }\n                        break;\n                    }\n                }\n            }, 500);\n            ",
      "text/plain": [
       "<IPython.core.display.Javascript object>"
      ]
     },
     "metadata": {},
     "output_type": "display_data"
    }
   ],
   "source": [
    "model_name = f'mlp_unit_1({best_hps.get(\"unit_1\")})unit_2({best_hps.get(\"unit_2\")})unit_3({best_hps.get(\"unit_3\")})unit_4({best_hps.get(\"unit_4\")})_learning({best_hps.get(\"learning_rate\")})_activation({best_hps.get(\"activation\")})'\n",
    "model_name\n",
    "model.save(f\"models/mlp/{model_name}date_{save_time}.h5\")"
   ]
  },
  {
   "cell_type": "code",
   "execution_count": 96,
   "metadata": {},
   "outputs": [
    {
     "name": "stdout",
     "output_type": "stream",
     "text": [
      "Massa de predição: 0.2538171410560608\n"
     ]
    },
    {
     "ename": "NameError",
     "evalue": "name 'ibova_test' is not defined",
     "output_type": "error",
     "traceback": [
      "\u001b[1;31m---------------------------------------------------------------------------\u001b[0m",
      "\u001b[1;31mNameError\u001b[0m                                 Traceback (most recent call last)",
      "\u001b[1;32mc:\\Users\\arthu\\Documents\\GitHub\\TCC_Stock_Predictions\\Model\\Model_MLP.ipynb Cell 41\u001b[0m in \u001b[0;36m<cell line: 4>\u001b[1;34m()\u001b[0m\n\u001b[0;32m      <a href='vscode-notebook-cell:/c%3A/Users/arthu/Documents/GitHub/TCC_Stock_Predictions/Model/Model_MLP.ipynb#X50sZmlsZQ%3D%3D?line=0'>1</a>\u001b[0m \u001b[39m# Analisando Medias:\u001b[39;00m\n\u001b[0;32m      <a href='vscode-notebook-cell:/c%3A/Users/arthu/Documents/GitHub/TCC_Stock_Predictions/Model/Model_MLP.ipynb#X50sZmlsZQ%3D%3D?line=2'>3</a>\u001b[0m \u001b[39mprint\u001b[39m(\u001b[39mf\u001b[39m\u001b[39m\"\u001b[39m\u001b[39mMassa de predição: \u001b[39m\u001b[39m{\u001b[39;00mtest_predictions\u001b[39m.\u001b[39mmean()\u001b[39m}\u001b[39;00m\u001b[39m\"\u001b[39m)\n\u001b[1;32m----> <a href='vscode-notebook-cell:/c%3A/Users/arthu/Documents/GitHub/TCC_Stock_Predictions/Model/Model_MLP.ipynb#X50sZmlsZQ%3D%3D?line=3'>4</a>\u001b[0m \u001b[39mprint\u001b[39m(\u001b[39mf\u001b[39m\u001b[39m\"\u001b[39m\u001b[39mMassa inicial: \u001b[39m\u001b[39m{\u001b[39;00mibova_test\u001b[39m.\u001b[39mmean()\u001b[39m}\u001b[39;00m\u001b[39m\"\u001b[39m)\n\u001b[0;32m      <a href='vscode-notebook-cell:/c%3A/Users/arthu/Documents/GitHub/TCC_Stock_Predictions/Model/Model_MLP.ipynb#X50sZmlsZQ%3D%3D?line=4'>5</a>\u001b[0m \u001b[39mprint\u001b[39m(\u001b[39mf\u001b[39m\u001b[39m\"\u001b[39m\u001b[39mDiferenças das médias: \u001b[39m\u001b[39m{\u001b[39;00mibova_test\u001b[39m.\u001b[39mmean() \u001b[39m-\u001b[39m test_predictions\u001b[39m.\u001b[39mmean()\u001b[39m}\u001b[39;00m\u001b[39m\"\u001b[39m)\n",
      "\u001b[1;31mNameError\u001b[0m: name 'ibova_test' is not defined"
     ]
    },
    {
     "data": {
      "application/javascript": "\n            setTimeout(function() {\n                var nbb_cell_id = 96;\n                var nbb_unformatted_code = \"# Analisando Medias:\\n\\nprint(f\\\"Massa de predi\\u00e7\\u00e3o: {test_predictions.mean()}\\\")\\nprint(f\\\"Massa inicial: {ibova_test.mean()}\\\")\\nprint(f\\\"Diferen\\u00e7as das m\\u00e9dias: {ibova_test.mean() - test_predictions.mean()}\\\")\\n\\n# Add o RM_MSE medio\";\n                var nbb_formatted_code = \"# Analisando Medias:\\n\\nprint(f\\\"Massa de predi\\u00e7\\u00e3o: {test_predictions.mean()}\\\")\\nprint(f\\\"Massa inicial: {ibova_test.mean()}\\\")\\nprint(f\\\"Diferen\\u00e7as das m\\u00e9dias: {ibova_test.mean() - test_predictions.mean()}\\\")\\n\\n# Add o RM_MSE medio\";\n                var nbb_cells = Jupyter.notebook.get_cells();\n                for (var i = 0; i < nbb_cells.length; ++i) {\n                    if (nbb_cells[i].input_prompt_number == nbb_cell_id) {\n                        if (nbb_cells[i].get_text() == nbb_unformatted_code) {\n                             nbb_cells[i].set_text(nbb_formatted_code);\n                        }\n                        break;\n                    }\n                }\n            }, 500);\n            ",
      "text/plain": [
       "<IPython.core.display.Javascript object>"
      ]
     },
     "metadata": {},
     "output_type": "display_data"
    }
   ],
   "source": [
    "# Analisando Medias:\n",
    "\n",
    "print(f\"Massa de predição: {test_predictions.mean()}\")\n",
    "print(f\"Massa inicial: {ibova_test.mean()}\")\n",
    "print(f\"Diferenças das médias: {ibova_test.mean() - test_predictions.mean()}\")\n",
    "\n",
    "# Add o RM_MSE medio"
   ]
  },
  {
   "cell_type": "code",
   "execution_count": null,
   "metadata": {},
   "outputs": [
    {
     "data": {
      "text/plain": [
       "'22_08_30_22h55m31'"
      ]
     },
     "execution_count": 124,
     "metadata": {},
     "output_type": "execute_result"
    },
    {
     "data": {
      "application/javascript": "\n            setTimeout(function() {\n                var nbb_cell_id = 124;\n                var nbb_unformatted_code = \"save_time\";\n                var nbb_formatted_code = \"save_time\";\n                var nbb_cells = Jupyter.notebook.get_cells();\n                for (var i = 0; i < nbb_cells.length; ++i) {\n                    if (nbb_cells[i].input_prompt_number == nbb_cell_id) {\n                        if (nbb_cells[i].get_text() == nbb_unformatted_code) {\n                             nbb_cells[i].set_text(nbb_formatted_code);\n                        }\n                        break;\n                    }\n                }\n            }, 500);\n            ",
      "text/plain": [
       "<IPython.core.display.Javascript object>"
      ]
     },
     "metadata": {},
     "output_type": "display_data"
    }
   ],
   "source": [
    "save_time"
   ]
  }
 ],
 "metadata": {
  "kernelspec": {
   "display_name": "Python 3.8.12 ('pystock')",
   "language": "python",
   "name": "python3"
  },
  "language_info": {
   "codemirror_mode": {
    "name": "ipython",
    "version": 3
   },
   "file_extension": ".py",
   "mimetype": "text/x-python",
   "name": "python",
   "nbconvert_exporter": "python",
   "pygments_lexer": "ipython3",
   "version": "3.8.13"
  },
  "orig_nbformat": 4,
  "vscode": {
   "interpreter": {
    "hash": "bc0c8eb905859abd75b389576d87e2ac71c748b72952270660ecc130aeb3e651"
   }
  }
 },
 "nbformat": 4,
 "nbformat_minor": 2
}
