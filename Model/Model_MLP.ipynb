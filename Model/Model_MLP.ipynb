{
 "cells": [
  {
   "cell_type": "code",
   "execution_count": 58,
   "metadata": {},
   "outputs": [
    {
     "data": {
      "application/javascript": "\n            setTimeout(function() {\n                var nbb_cell_id = 58;\n                var nbb_unformatted_code = \"# Usei como base esse tutorial:\\n# https://colab.research.google.com/github/tensorflow/docs-l10n/blob/master/site/pt-br/tutorials/keras/regression.ipynb#scrollTo=f-OHX4DiXd8x\";\n                var nbb_formatted_code = \"# Usei como base esse tutorial:\\n# https://colab.research.google.com/github/tensorflow/docs-l10n/blob/master/site/pt-br/tutorials/keras/regression.ipynb#scrollTo=f-OHX4DiXd8x\";\n                var nbb_cells = Jupyter.notebook.get_cells();\n                for (var i = 0; i < nbb_cells.length; ++i) {\n                    if (nbb_cells[i].input_prompt_number == nbb_cell_id) {\n                        if (nbb_cells[i].get_text() == nbb_unformatted_code) {\n                             nbb_cells[i].set_text(nbb_formatted_code);\n                        }\n                        break;\n                    }\n                }\n            }, 500);\n            ",
      "text/plain": [
       "<IPython.core.display.Javascript object>"
      ]
     },
     "metadata": {},
     "output_type": "display_data"
    }
   ],
   "source": [
    "# Usei como base esse tutorial:\n",
    "# https://colab.research.google.com/github/tensorflow/docs-l10n/blob/master/site/pt-br/tutorials/keras/regression.ipynb#scrollTo=f-OHX4DiXd8x"
   ]
  },
  {
   "cell_type": "code",
   "execution_count": 59,
   "metadata": {},
   "outputs": [
    {
     "data": {
      "application/javascript": "\n            setTimeout(function() {\n                var nbb_cell_id = 59;\n                var nbb_unformatted_code = \"# # # # Clear logs\\n# # # %rm -rf ./logs/\\n\\n# # # Ativa\\u00e7\\u00e3o do Tensorboard\\n# %conda activate pystock\\n# %load_ext tensorboard\\n\\n# # # Reload Tensorboar\\n# %reload_ext tensorboard\";\n                var nbb_formatted_code = \"# # # # Clear logs\\n# # # %rm -rf ./logs/\\n\\n# # # Ativa\\u00e7\\u00e3o do Tensorboard\\n# %conda activate pystock\\n# %load_ext tensorboard\\n\\n# # # Reload Tensorboar\\n# %reload_ext tensorboard\";\n                var nbb_cells = Jupyter.notebook.get_cells();\n                for (var i = 0; i < nbb_cells.length; ++i) {\n                    if (nbb_cells[i].input_prompt_number == nbb_cell_id) {\n                        if (nbb_cells[i].get_text() == nbb_unformatted_code) {\n                             nbb_cells[i].set_text(nbb_formatted_code);\n                        }\n                        break;\n                    }\n                }\n            }, 500);\n            ",
      "text/plain": [
       "<IPython.core.display.Javascript object>"
      ]
     },
     "metadata": {},
     "output_type": "display_data"
    }
   ],
   "source": [
    "# # # # Clear logs\n",
    "# # # %rm -rf ./logs/\n",
    "\n",
    "# # # Ativação do Tensorboard\n",
    "# %conda activate pystock\n",
    "# %load_ext tensorboard\n",
    "\n",
    "# # # Reload Tensorboar\n",
    "# %reload_ext tensorboard"
   ]
  },
  {
   "cell_type": "code",
   "execution_count": 60,
   "metadata": {},
   "outputs": [
    {
     "data": {
      "application/javascript": "\n            setTimeout(function() {\n                var nbb_cell_id = 60;\n                var nbb_unformatted_code = \"# # # Reload Tensorboar\\n# %reload_ext tensorboa\";\n                var nbb_formatted_code = \"# # # Reload Tensorboar\\n# %reload_ext tensorboa\";\n                var nbb_cells = Jupyter.notebook.get_cells();\n                for (var i = 0; i < nbb_cells.length; ++i) {\n                    if (nbb_cells[i].input_prompt_number == nbb_cell_id) {\n                        if (nbb_cells[i].get_text() == nbb_unformatted_code) {\n                             nbb_cells[i].set_text(nbb_formatted_code);\n                        }\n                        break;\n                    }\n                }\n            }, 500);\n            ",
      "text/plain": [
       "<IPython.core.display.Javascript object>"
      ]
     },
     "metadata": {},
     "output_type": "display_data"
    }
   ],
   "source": [
    "# # # Reload Tensorboar\n",
    "# %reload_ext tensorboa"
   ]
  },
  {
   "cell_type": "code",
   "execution_count": 61,
   "metadata": {},
   "outputs": [
    {
     "name": "stdout",
     "output_type": "stream",
     "text": [
      "The nb_black extension is already loaded. To reload it, use:\n",
      "  %reload_ext nb_black\n",
      "The lab_black extension is already loaded. To reload it, use:\n",
      "  %reload_ext lab_black\n"
     ]
    },
    {
     "data": {
      "application/javascript": "\n            setTimeout(function() {\n                var nbb_cell_id = 61;\n                var nbb_unformatted_code = \"%load_ext nb_black\\n%load_ext lab_black\";\n                var nbb_formatted_code = \"%load_ext nb_black\\n%load_ext lab_black\";\n                var nbb_cells = Jupyter.notebook.get_cells();\n                for (var i = 0; i < nbb_cells.length; ++i) {\n                    if (nbb_cells[i].input_prompt_number == nbb_cell_id) {\n                        if (nbb_cells[i].get_text() == nbb_unformatted_code) {\n                             nbb_cells[i].set_text(nbb_formatted_code);\n                        }\n                        break;\n                    }\n                }\n            }, 500);\n            ",
      "text/plain": [
       "<IPython.core.display.Javascript object>"
      ]
     },
     "metadata": {},
     "output_type": "display_data"
    }
   ],
   "source": [
    "%load_ext nb_black\n",
    "%load_ext lab_black"
   ]
  },
  {
   "cell_type": "markdown",
   "metadata": {},
   "source": [
    "# Sequential model\n",
    "\n",
    "*Dense model 16*\n",
    "*Dense model 16*\n",
    "*Dense model 8*\n",
    "*Dense model 4*\n",
    "*Epoch 350*\n",
    "\n",
    "_MSE: 1.31_\n",
    "epoch: 350\n",
    "\n",
    "Activation: softplus\n",
    "Optimizer: Adam\n",
    "\n",
    "15/15 - 0s - loss: 0.6325 - mae: 0.5830 - mse: 0.6325\n",
    "Testing set Mean Abs Error:  0.58 ibova_0"
   ]
  },
  {
   "cell_type": "code",
   "execution_count": 62,
   "metadata": {},
   "outputs": [
    {
     "data": {
      "application/javascript": "\n            setTimeout(function() {\n                var nbb_cell_id = 62;\n                var nbb_unformatted_code = \"import pathlib\\nimport datetime\\n\\nimport matplotlib.pyplot as plt\\nimport pandas as pd\\nimport seaborn as sns\\n\\nimport tensorflow as tf\\nimport datetime\\n\\nfrom tensorflow import keras\\nfrom tensorflow.keras import layers\\n\\nfrom keras.callbacks import ModelCheckpoint\\nimport keras_tuner as kt\";\n                var nbb_formatted_code = \"import pathlib\\nimport datetime\\n\\nimport matplotlib.pyplot as plt\\nimport pandas as pd\\nimport seaborn as sns\\n\\nimport tensorflow as tf\\nimport datetime\\n\\nfrom tensorflow import keras\\nfrom tensorflow.keras import layers\\n\\nfrom keras.callbacks import ModelCheckpoint\\nimport keras_tuner as kt\";\n                var nbb_cells = Jupyter.notebook.get_cells();\n                for (var i = 0; i < nbb_cells.length; ++i) {\n                    if (nbb_cells[i].input_prompt_number == nbb_cell_id) {\n                        if (nbb_cells[i].get_text() == nbb_unformatted_code) {\n                             nbb_cells[i].set_text(nbb_formatted_code);\n                        }\n                        break;\n                    }\n                }\n            }, 500);\n            ",
      "text/plain": [
       "<IPython.core.display.Javascript object>"
      ]
     },
     "metadata": {},
     "output_type": "display_data"
    }
   ],
   "source": [
    "import pathlib\n",
    "import datetime\n",
    "\n",
    "import matplotlib.pyplot as plt\n",
    "import pandas as pd\n",
    "import seaborn as sns\n",
    "\n",
    "import tensorflow as tf\n",
    "import datetime\n",
    "\n",
    "from tensorflow import keras\n",
    "from tensorflow.keras import layers\n",
    "\n",
    "from keras.callbacks import ModelCheckpoint\n",
    "import keras_tuner as kt"
   ]
  },
  {
   "cell_type": "markdown",
   "metadata": {},
   "source": [
    "# Lendo Dfs"
   ]
  },
  {
   "cell_type": "code",
   "execution_count": 63,
   "metadata": {},
   "outputs": [
    {
     "data": {
      "application/javascript": "\n            setTimeout(function() {\n                var nbb_cell_id = 63;\n                var nbb_unformatted_code = \"# 60%\\nPATH_TREINO = \\\"../Data/3_Gold/Treino_all_stocks.csv\\\"\\nDF_TREINO = pd.read_csv(PATH_TREINO, sep=\\\",\\\")\\ntrain_dataset = DF_TREINO\\ntrain_dataset = train_dataset.drop(\\n    [\\n        \\\"oil_5\\\",\\n        \\\"usd_5\\\",\\n        \\\"abev_5\\\",\\n        \\\"jbs_5\\\",\\n        \\\"petr_5\\\",\\n        \\\"vale_5\\\",\\n    ],\\n    axis=1,\\n)\\ntrain_labels = train_dataset.pop(\\\"ibova_5\\\")\\n\\n# 20%\\nPATH_VALIDACAO = \\\"../Data/3_Gold/Validacao_all_stocks.csv\\\"\\nDF_VALIDACAO = pd.read_csv(PATH_VALIDACAO, sep=\\\",\\\")\\nvalid_dataset = DF_VALIDACAO\\nvalid_dataset = valid_dataset.drop(\\n    [\\n        \\\"ibova_5\\\",\\n        \\\"oil_5\\\",\\n        \\\"usd_5\\\",\\n        \\\"abev_5\\\",\\n        \\\"jbs_5\\\",\\n        \\\"petr_5\\\",\\n        \\\"vale_5\\\",\\n    ],\\n    axis=1,\\n)\\n# valid_labels = valid_dataset.pop('ibova_5')\\n\\n# 20%\\nPATH_TESTE = \\\"../Data/3_Gold/Teste_all_stocks.csv\\\"\\nDF_TESTE = pd.read_csv(PATH_TESTE, sep=\\\",\\\")\\ntest_dataset = DF_TESTE\\ntest_dataset = test_dataset.drop(\\n    [\\n        \\\"oil_5\\\",\\n        \\\"usd_5\\\",\\n        \\\"abev_5\\\",\\n        \\\"jbs_5\\\",\\n        \\\"petr_5\\\",\\n        \\\"vale_5\\\",\\n    ],\\n    axis=1,\\n)\\ntest_labels = test_dataset.pop(\\\"ibova_5\\\")\";\n                var nbb_formatted_code = \"# 60%\\nPATH_TREINO = \\\"../Data/3_Gold/Treino_all_stocks.csv\\\"\\nDF_TREINO = pd.read_csv(PATH_TREINO, sep=\\\",\\\")\\ntrain_dataset = DF_TREINO\\ntrain_dataset = train_dataset.drop(\\n    [\\n        \\\"oil_5\\\",\\n        \\\"usd_5\\\",\\n        \\\"abev_5\\\",\\n        \\\"jbs_5\\\",\\n        \\\"petr_5\\\",\\n        \\\"vale_5\\\",\\n    ],\\n    axis=1,\\n)\\ntrain_labels = train_dataset.pop(\\\"ibova_5\\\")\\n\\n# 20%\\nPATH_VALIDACAO = \\\"../Data/3_Gold/Validacao_all_stocks.csv\\\"\\nDF_VALIDACAO = pd.read_csv(PATH_VALIDACAO, sep=\\\",\\\")\\nvalid_dataset = DF_VALIDACAO\\nvalid_dataset = valid_dataset.drop(\\n    [\\n        \\\"ibova_5\\\",\\n        \\\"oil_5\\\",\\n        \\\"usd_5\\\",\\n        \\\"abev_5\\\",\\n        \\\"jbs_5\\\",\\n        \\\"petr_5\\\",\\n        \\\"vale_5\\\",\\n    ],\\n    axis=1,\\n)\\n# valid_labels = valid_dataset.pop('ibova_5')\\n\\n# 20%\\nPATH_TESTE = \\\"../Data/3_Gold/Teste_all_stocks.csv\\\"\\nDF_TESTE = pd.read_csv(PATH_TESTE, sep=\\\",\\\")\\ntest_dataset = DF_TESTE\\ntest_dataset = test_dataset.drop(\\n    [\\n        \\\"oil_5\\\",\\n        \\\"usd_5\\\",\\n        \\\"abev_5\\\",\\n        \\\"jbs_5\\\",\\n        \\\"petr_5\\\",\\n        \\\"vale_5\\\",\\n    ],\\n    axis=1,\\n)\\ntest_labels = test_dataset.pop(\\\"ibova_5\\\")\";\n                var nbb_cells = Jupyter.notebook.get_cells();\n                for (var i = 0; i < nbb_cells.length; ++i) {\n                    if (nbb_cells[i].input_prompt_number == nbb_cell_id) {\n                        if (nbb_cells[i].get_text() == nbb_unformatted_code) {\n                             nbb_cells[i].set_text(nbb_formatted_code);\n                        }\n                        break;\n                    }\n                }\n            }, 500);\n            ",
      "text/plain": [
       "<IPython.core.display.Javascript object>"
      ]
     },
     "metadata": {},
     "output_type": "display_data"
    }
   ],
   "source": [
    "# 60%\n",
    "PATH_TREINO = \"../Data/3_Gold/Treino_all_stocks.csv\"\n",
    "DF_TREINO = pd.read_csv(PATH_TREINO, sep=\",\")\n",
    "train_dataset = DF_TREINO\n",
    "train_dataset = train_dataset.drop(\n",
    "    [\n",
    "        \"oil_5\",\n",
    "        \"usd_5\",\n",
    "        \"abev_5\",\n",
    "        \"jbs_5\",\n",
    "        \"petr_5\",\n",
    "        \"vale_5\",\n",
    "    ],\n",
    "    axis=1,\n",
    ")\n",
    "train_labels = train_dataset.pop(\"ibova_5\")\n",
    "\n",
    "# 20%\n",
    "PATH_VALIDACAO = \"../Data/3_Gold/Validacao_all_stocks.csv\"\n",
    "DF_VALIDACAO = pd.read_csv(PATH_VALIDACAO, sep=\",\")\n",
    "valid_dataset = DF_VALIDACAO\n",
    "valid_dataset = valid_dataset.drop(\n",
    "    [\n",
    "        \"ibova_5\",\n",
    "        \"oil_5\",\n",
    "        \"usd_5\",\n",
    "        \"abev_5\",\n",
    "        \"jbs_5\",\n",
    "        \"petr_5\",\n",
    "        \"vale_5\",\n",
    "    ],\n",
    "    axis=1,\n",
    ")\n",
    "# valid_labels = valid_dataset.pop('ibova_5')\n",
    "\n",
    "# 20%\n",
    "PATH_TESTE = \"../Data/3_Gold/Teste_all_stocks.csv\"\n",
    "DF_TESTE = pd.read_csv(PATH_TESTE, sep=\",\")\n",
    "test_dataset = DF_TESTE\n",
    "test_dataset = test_dataset.drop(\n",
    "    [\n",
    "        \"oil_5\",\n",
    "        \"usd_5\",\n",
    "        \"abev_5\",\n",
    "        \"jbs_5\",\n",
    "        \"petr_5\",\n",
    "        \"vale_5\",\n",
    "    ],\n",
    "    axis=1,\n",
    ")\n",
    "test_labels = test_dataset.pop(\"ibova_5\")"
   ]
  },
  {
   "cell_type": "code",
   "execution_count": 64,
   "metadata": {},
   "outputs": [
    {
     "data": {
      "application/javascript": "\n            setTimeout(function() {\n                var nbb_cell_id = 64;\n                var nbb_unformatted_code = \"# Tentando criar um conjunti de valida\\u00e7\\u00e3o pra input no modelo\\n\\n# val_dataset = tf.data.Dataset.from_tensor_slices(('ibova_0', '*'))\";\n                var nbb_formatted_code = \"# Tentando criar um conjunti de valida\\u00e7\\u00e3o pra input no modelo\\n\\n# val_dataset = tf.data.Dataset.from_tensor_slices(('ibova_0', '*'))\";\n                var nbb_cells = Jupyter.notebook.get_cells();\n                for (var i = 0; i < nbb_cells.length; ++i) {\n                    if (nbb_cells[i].input_prompt_number == nbb_cell_id) {\n                        if (nbb_cells[i].get_text() == nbb_unformatted_code) {\n                             nbb_cells[i].set_text(nbb_formatted_code);\n                        }\n                        break;\n                    }\n                }\n            }, 500);\n            ",
      "text/plain": [
       "<IPython.core.display.Javascript object>"
      ]
     },
     "metadata": {},
     "output_type": "display_data"
    }
   ],
   "source": [
    "# Tentando criar um conjunti de validação pra input no modelo\n",
    "\n",
    "# val_dataset = tf.data.Dataset.from_tensor_slices(('ibova_0', '*'))"
   ]
  },
  {
   "cell_type": "code",
   "execution_count": 65,
   "metadata": {},
   "outputs": [
    {
     "data": {
      "text/plain": [
       "0      0.225610\n",
       "1      0.455028\n",
       "2      0.448165\n",
       "3      0.245391\n",
       "4      0.281350\n",
       "         ...   \n",
       "467    0.376867\n",
       "468    0.139796\n",
       "469    0.270228\n",
       "470    0.073591\n",
       "471   -0.012919\n",
       "Name: ibova_0, Length: 472, dtype: float64"
      ]
     },
     "execution_count": 65,
     "metadata": {},
     "output_type": "execute_result"
    },
    {
     "data": {
      "application/javascript": "\n            setTimeout(function() {\n                var nbb_cell_id = 65;\n                var nbb_unformatted_code = \"valid_dataset.ibova_0\\n\\n# Pesquisar:\\n# \\tvarias colunas to series em pandas\";\n                var nbb_formatted_code = \"valid_dataset.ibova_0\\n\\n# Pesquisar:\\n# \\tvarias colunas to series em pandas\";\n                var nbb_cells = Jupyter.notebook.get_cells();\n                for (var i = 0; i < nbb_cells.length; ++i) {\n                    if (nbb_cells[i].input_prompt_number == nbb_cell_id) {\n                        if (nbb_cells[i].get_text() == nbb_unformatted_code) {\n                             nbb_cells[i].set_text(nbb_formatted_code);\n                        }\n                        break;\n                    }\n                }\n            }, 500);\n            ",
      "text/plain": [
       "<IPython.core.display.Javascript object>"
      ]
     },
     "metadata": {},
     "output_type": "display_data"
    }
   ],
   "source": [
    "valid_dataset.ibova_0\n",
    "\n",
    "# Pesquisar:\n",
    "# \tvarias colunas to series em pandas"
   ]
  },
  {
   "cell_type": "code",
   "execution_count": 66,
   "metadata": {},
   "outputs": [
    {
     "data": {
      "application/javascript": "\n            setTimeout(function() {\n                var nbb_cell_id = 66;\n                var nbb_unformatted_code = \"# index,\\n# ibova_0,ibova_1,ibova_2,ibova_3,ibova_4,ibova_5,\\n# oil_0,oil_1,oil_2,oil_3,oil_4,oil_5,usd_0,\\n# usd_1,usd_2,usd_3,usd_4,usd_5,\\n# abev_0,abev_1,abev_2,abev_3,abev_4,abev_5,\\n# jbs_0,jbs_1,jbs_2,jbs_3,jbs_4,jbs_5,\\n# petr_0,petr_1,petr_2,petr_3,petr_4,petr_5,\\n# vale_0,vale_1,vale_2,vale_3,vale_4,vale_5\";\n                var nbb_formatted_code = \"# index,\\n# ibova_0,ibova_1,ibova_2,ibova_3,ibova_4,ibova_5,\\n# oil_0,oil_1,oil_2,oil_3,oil_4,oil_5,usd_0,\\n# usd_1,usd_2,usd_3,usd_4,usd_5,\\n# abev_0,abev_1,abev_2,abev_3,abev_4,abev_5,\\n# jbs_0,jbs_1,jbs_2,jbs_3,jbs_4,jbs_5,\\n# petr_0,petr_1,petr_2,petr_3,petr_4,petr_5,\\n# vale_0,vale_1,vale_2,vale_3,vale_4,vale_5\";\n                var nbb_cells = Jupyter.notebook.get_cells();\n                for (var i = 0; i < nbb_cells.length; ++i) {\n                    if (nbb_cells[i].input_prompt_number == nbb_cell_id) {\n                        if (nbb_cells[i].get_text() == nbb_unformatted_code) {\n                             nbb_cells[i].set_text(nbb_formatted_code);\n                        }\n                        break;\n                    }\n                }\n            }, 500);\n            ",
      "text/plain": [
       "<IPython.core.display.Javascript object>"
      ]
     },
     "metadata": {},
     "output_type": "display_data"
    }
   ],
   "source": [
    "# index,\n",
    "# ibova_0,ibova_1,ibova_2,ibova_3,ibova_4,ibova_5,\n",
    "# oil_0,oil_1,oil_2,oil_3,oil_4,oil_5,usd_0,\n",
    "# usd_1,usd_2,usd_3,usd_4,usd_5,\n",
    "# abev_0,abev_1,abev_2,abev_3,abev_4,abev_5,\n",
    "# jbs_0,jbs_1,jbs_2,jbs_3,jbs_4,jbs_5,\n",
    "# petr_0,petr_1,petr_2,petr_3,petr_4,petr_5,\n",
    "# vale_0,vale_1,vale_2,vale_3,vale_4,vale_5"
   ]
  },
  {
   "cell_type": "markdown",
   "metadata": {},
   "source": [
    "# Inspecionando os dados"
   ]
  },
  {
   "cell_type": "code",
   "execution_count": 67,
   "metadata": {},
   "outputs": [
    {
     "data": {
      "application/javascript": "\n            setTimeout(function() {\n                var nbb_cell_id = 67;\n                var nbb_unformatted_code = \"# sns.pairplot(train_dataset[['index','ibova_0','ibova_1','ibova_2','ibova_3','ibova_4','oil_0','oil_1','oil_2','oil_3','oil_4','usd_0','usd_1','usd_2','usd_3','usd_4']], diag_kind=\\\"kde\\\")\\n# sns.pairplot(train_dataset[['index','ibova_0','oil_0','usd_0']], diag_kind=\\\"kde\\\")\\n# sns.pairplot(train_dataset[['ibova_1','oil_1','usd_1']], diag_kind=\\\"kde\\\")\\n\\ntrain_stats = train_dataset.describe()\\n# train_stats\";\n                var nbb_formatted_code = \"# sns.pairplot(train_dataset[['index','ibova_0','ibova_1','ibova_2','ibova_3','ibova_4','oil_0','oil_1','oil_2','oil_3','oil_4','usd_0','usd_1','usd_2','usd_3','usd_4']], diag_kind=\\\"kde\\\")\\n# sns.pairplot(train_dataset[['index','ibova_0','oil_0','usd_0']], diag_kind=\\\"kde\\\")\\n# sns.pairplot(train_dataset[['ibova_1','oil_1','usd_1']], diag_kind=\\\"kde\\\")\\n\\ntrain_stats = train_dataset.describe()\\n# train_stats\";\n                var nbb_cells = Jupyter.notebook.get_cells();\n                for (var i = 0; i < nbb_cells.length; ++i) {\n                    if (nbb_cells[i].input_prompt_number == nbb_cell_id) {\n                        if (nbb_cells[i].get_text() == nbb_unformatted_code) {\n                             nbb_cells[i].set_text(nbb_formatted_code);\n                        }\n                        break;\n                    }\n                }\n            }, 500);\n            ",
      "text/plain": [
       "<IPython.core.display.Javascript object>"
      ]
     },
     "metadata": {},
     "output_type": "display_data"
    }
   ],
   "source": [
    "# sns.pairplot(train_dataset[['index','ibova_0','ibova_1','ibova_2','ibova_3','ibova_4','oil_0','oil_1','oil_2','oil_3','oil_4','usd_0','usd_1','usd_2','usd_3','usd_4']], diag_kind=\"kde\")\n",
    "# sns.pairplot(train_dataset[['index','ibova_0','oil_0','usd_0']], diag_kind=\"kde\")\n",
    "# sns.pairplot(train_dataset[['ibova_1','oil_1','usd_1']], diag_kind=\"kde\")\n",
    "\n",
    "train_stats = train_dataset.describe()\n",
    "# train_stats"
   ]
  },
  {
   "cell_type": "markdown",
   "metadata": {},
   "source": [
    "# Definindo o modelo"
   ]
  },
  {
   "cell_type": "markdown",
   "metadata": {},
   "source": [
    "#TODO:\n",
    "\n",
    "Definir um range para a definição dos hyper parametros do modelo\n",
    "\n",
    "https://scikit-learn.org/stable/modules/classes.html#module-sklearn.model_selection\n",
    "\thyper parameter optimizers\n",
    "\n",
    "https://scikit-learn.org/stable/modules/generated/sklearn.model_selection.GridSearchCV.html\n",
    "\n",
    "A biblioteca vai encontrar os melhores parametros no conjunto de validacao \n",
    "\n",
    "https://www.tensorflow.org/tutorials/keras/keras_tuner"
   ]
  },
  {
   "cell_type": "code",
   "execution_count": 68,
   "metadata": {},
   "outputs": [
    {
     "data": {
      "application/javascript": "\n            setTimeout(function() {\n                var nbb_cell_id = 68;\n                var nbb_unformatted_code = \"def model_builder(hp):\\n    hp_unit_1 = hp.Int(\\\"unit_1\\\", min_value=16, max_value=64, step=1)\\n    hp_unit_2 = hp.Int(\\\"unit_2\\\", min_value=4, max_value=64, step=1)\\n    hp_unit_3 = hp.Int(\\\"unit_3\\\", min_value=4, max_value=64, step=1)\\n    hp_unit_4 = hp.Int(\\\"unit_4\\\", min_value=4, max_value=64, step=1)\\n    activationL = [\\n        \\\"relu\\\",\\n        \\\"sigmoid\\\",\\n        \\\"softplus\\\",\\n        \\\"softsign\\\",\\n        \\\"tanh\\\",\\n        \\\"selu\\\",\\n        \\\"elu\\\",\\n        \\\"exponential\\\",\\n        \\\"relu\\\",\\n    ]\\n    activation_choice = hp.Choice(\\\"activation\\\", values=activationL)\\n    hp_learning_rate = hp.Choice(\\\"learning_rate\\\", values=[1e-2, 1e-3, 1e-4])\\n\\n    model = keras.Sequential(\\n        [\\n            layers.Dense(\\n                units=hp_unit_1,\\n                activation=activation_choice,\\n                input_shape=[len(train_dataset.keys())],\\n            ),\\n            layers.Dense(units=hp_unit_2, activation=activation_choice),\\n            layers.Dense(units=hp_unit_3, activation=activation_choice),\\n            layers.Dense(units=hp_unit_4, activation=activation_choice),\\n            layers.Dense(units=1, activation=\\\"linear\\\"),\\n        ]\\n    )\\n\\n    model.compile(\\n        optimizer=keras.optimizers.Adam(learning_rate=hp_learning_rate),\\n        loss=\\\"mse\\\",\\n        metrics=[\\\"mae\\\", \\\"mse\\\"],\\n    )\\n\\n    return model\\n\\n\\n# rmse pra avalia\\u00e7\\u00e3o, nao para loss\";\n                var nbb_formatted_code = \"def model_builder(hp):\\n    hp_unit_1 = hp.Int(\\\"unit_1\\\", min_value=16, max_value=64, step=1)\\n    hp_unit_2 = hp.Int(\\\"unit_2\\\", min_value=4, max_value=64, step=1)\\n    hp_unit_3 = hp.Int(\\\"unit_3\\\", min_value=4, max_value=64, step=1)\\n    hp_unit_4 = hp.Int(\\\"unit_4\\\", min_value=4, max_value=64, step=1)\\n    activationL = [\\n        \\\"relu\\\",\\n        \\\"sigmoid\\\",\\n        \\\"softplus\\\",\\n        \\\"softsign\\\",\\n        \\\"tanh\\\",\\n        \\\"selu\\\",\\n        \\\"elu\\\",\\n        \\\"exponential\\\",\\n        \\\"relu\\\",\\n    ]\\n    activation_choice = hp.Choice(\\\"activation\\\", values=activationL)\\n    hp_learning_rate = hp.Choice(\\\"learning_rate\\\", values=[1e-2, 1e-3, 1e-4])\\n\\n    model = keras.Sequential(\\n        [\\n            layers.Dense(\\n                units=hp_unit_1,\\n                activation=activation_choice,\\n                input_shape=[len(train_dataset.keys())],\\n            ),\\n            layers.Dense(units=hp_unit_2, activation=activation_choice),\\n            layers.Dense(units=hp_unit_3, activation=activation_choice),\\n            layers.Dense(units=hp_unit_4, activation=activation_choice),\\n            layers.Dense(units=1, activation=\\\"linear\\\"),\\n        ]\\n    )\\n\\n    model.compile(\\n        optimizer=keras.optimizers.Adam(learning_rate=hp_learning_rate),\\n        loss=\\\"mse\\\",\\n        metrics=[\\\"mae\\\", \\\"mse\\\"],\\n    )\\n\\n    return model\\n\\n\\n# rmse pra avalia\\u00e7\\u00e3o, nao para loss\";\n                var nbb_cells = Jupyter.notebook.get_cells();\n                for (var i = 0; i < nbb_cells.length; ++i) {\n                    if (nbb_cells[i].input_prompt_number == nbb_cell_id) {\n                        if (nbb_cells[i].get_text() == nbb_unformatted_code) {\n                             nbb_cells[i].set_text(nbb_formatted_code);\n                        }\n                        break;\n                    }\n                }\n            }, 500);\n            ",
      "text/plain": [
       "<IPython.core.display.Javascript object>"
      ]
     },
     "metadata": {},
     "output_type": "display_data"
    }
   ],
   "source": [
    "def model_builder(hp):\n",
    "    hp_unit_1 = hp.Int(\"unit_1\", min_value=16, max_value=64, step=1)\n",
    "    hp_unit_2 = hp.Int(\"unit_2\", min_value=4, max_value=64, step=1)\n",
    "    hp_unit_3 = hp.Int(\"unit_3\", min_value=4, max_value=64, step=1)\n",
    "    hp_unit_4 = hp.Int(\"unit_4\", min_value=4, max_value=64, step=1)\n",
    "    activationL = [\n",
    "        \"relu\",\n",
    "        \"sigmoid\",\n",
    "        \"softplus\",\n",
    "        \"softsign\",\n",
    "        \"tanh\",\n",
    "        \"selu\",\n",
    "        \"elu\",\n",
    "        \"exponential\",\n",
    "        \"relu\",\n",
    "    ]\n",
    "    activation_choice = hp.Choice(\"activation\", values=activationL)\n",
    "    hp_learning_rate = hp.Choice(\"learning_rate\", values=[1e-2, 1e-3, 1e-4])\n",
    "\n",
    "    model = keras.Sequential(\n",
    "        [\n",
    "            layers.Dense(\n",
    "                units=hp_unit_1,\n",
    "                activation=activation_choice,\n",
    "                input_shape=[len(train_dataset.keys())],\n",
    "            ),\n",
    "            layers.Dense(units=hp_unit_2, activation=activation_choice),\n",
    "            layers.Dense(units=hp_unit_3, activation=activation_choice),\n",
    "            layers.Dense(units=hp_unit_4, activation=activation_choice),\n",
    "            layers.Dense(units=1, activation=\"linear\"),\n",
    "        ]\n",
    "    )\n",
    "\n",
    "    model.compile(\n",
    "        optimizer=keras.optimizers.Adam(learning_rate=hp_learning_rate),\n",
    "        loss=\"mse\",\n",
    "        metrics=[\"mae\", \"mse\"],\n",
    "    )\n",
    "\n",
    "    return model\n",
    "\n",
    "\n",
    "# rmse pra avaliação, nao para loss"
   ]
  },
  {
   "cell_type": "code",
   "execution_count": 69,
   "metadata": {},
   "outputs": [
    {
     "data": {
      "application/javascript": "\n            setTimeout(function() {\n                var nbb_cell_id = 69;\n                var nbb_unformatted_code = \"# model.summary()\";\n                var nbb_formatted_code = \"# model.summary()\";\n                var nbb_cells = Jupyter.notebook.get_cells();\n                for (var i = 0; i < nbb_cells.length; ++i) {\n                    if (nbb_cells[i].input_prompt_number == nbb_cell_id) {\n                        if (nbb_cells[i].get_text() == nbb_unformatted_code) {\n                             nbb_cells[i].set_text(nbb_formatted_code);\n                        }\n                        break;\n                    }\n                }\n            }, 500);\n            ",
      "text/plain": [
       "<IPython.core.display.Javascript object>"
      ]
     },
     "metadata": {},
     "output_type": "display_data"
    }
   ],
   "source": [
    "# model.summary()"
   ]
  },
  {
   "cell_type": "markdown",
   "metadata": {},
   "source": [
    "# Instanciando Tuner\n",
    "\n",
    "https://colab.research.google.com/github/tensorflow/docs/blob/master/site/en/tutorials/keras/keras_tuner.ipynb#scrollTo=McO82AXOuxXh"
   ]
  },
  {
   "cell_type": "code",
   "execution_count": 70,
   "metadata": {},
   "outputs": [
    {
     "name": "stdout",
     "output_type": "stream",
     "text": [
      "INFO:tensorflow:Reloading Oracle from existing project logs\\hyper_parameters\\oracle.json\n",
      "INFO:tensorflow:Reloading Tuner from logs\\hyper_parameters\\tuner0.json\n"
     ]
    },
    {
     "data": {
      "application/javascript": "\n            setTimeout(function() {\n                var nbb_cell_id = 70;\n                var nbb_unformatted_code = \"tuner = kt.Hyperband(\\n    model_builder,\\n    objective=\\\"val_mse\\\",\\n    max_epochs=10,\\n    factor=3,\\n    directory=\\\"logs\\\",\\n    project_name=\\\"hyper_parameters\\\",\\n)\";\n                var nbb_formatted_code = \"tuner = kt.Hyperband(\\n    model_builder,\\n    objective=\\\"val_mse\\\",\\n    max_epochs=10,\\n    factor=3,\\n    directory=\\\"logs\\\",\\n    project_name=\\\"hyper_parameters\\\",\\n)\";\n                var nbb_cells = Jupyter.notebook.get_cells();\n                for (var i = 0; i < nbb_cells.length; ++i) {\n                    if (nbb_cells[i].input_prompt_number == nbb_cell_id) {\n                        if (nbb_cells[i].get_text() == nbb_unformatted_code) {\n                             nbb_cells[i].set_text(nbb_formatted_code);\n                        }\n                        break;\n                    }\n                }\n            }, 500);\n            ",
      "text/plain": [
       "<IPython.core.display.Javascript object>"
      ]
     },
     "metadata": {},
     "output_type": "display_data"
    }
   ],
   "source": [
    "tuner = kt.Hyperband(\n",
    "    model_builder,\n",
    "    objective=\"val_mse\",\n",
    "    max_epochs=10,\n",
    "    factor=3,\n",
    "    directory=\"logs\",\n",
    "    project_name=\"hyper_parameters\",\n",
    ")"
   ]
  },
  {
   "cell_type": "code",
   "execution_count": 71,
   "metadata": {},
   "outputs": [
    {
     "name": "stdout",
     "output_type": "stream",
     "text": [
      "INFO:tensorflow:Oracle triggered exit\n",
      "\n",
      "The hyperparameter search is complete. The optimal number of units in the first densely-connected\n",
      "layer is 21 and the optimal learning rate for the optimizer\n",
      "is 0.0001.\n",
      "\n"
     ]
    },
    {
     "data": {
      "application/javascript": "\n            setTimeout(function() {\n                var nbb_cell_id = 71;\n                var nbb_unformatted_code = \"# early_stop = keras.callbacks.EarlyStopping(\\n#   monitor='val_mse', patience=50, mode='min' ,restore_best_weights=True)\\nformat_data = \\\"%y_%m_%d__%H_%M_%S\\\"\\nsave_time = datetime.datetime.strftime(datetime.datetime.now(), format_data)\\n\\nEPOCHS = 500\\n\\nbst_model_path = f\\\"logs/MLP_model/MLP_model_{save_time}.h5\\\"\\nmodel_checkpoint = ModelCheckpoint(\\n    bst_model_path, save_best_only=True, save_weights_only=True\\n)\\n\\nhistory = tuner.search(\\n    train_dataset,\\n    train_labels,\\n    epochs=EPOCHS,\\n    validation_split=0.2,\\n    verbose=0,\\n    callbacks=([model_checkpoint]),\\n)\\n\\n# Get the optimal hyperparameters\\nbest_hps = tuner.get_best_hyperparameters(num_trials=20)[0]\\n\\nprint(\\n    f\\\"\\\"\\\"\\nThe hyperparameter search is complete. The optimal number of units in the first densely-connected\\nlayer is {best_hps.get('unit_1')} and the optimal learning rate for the optimizer\\nis {best_hps.get('learning_rate')}.\\n\\\"\\\"\\\"\\n)\\n# TODO: Printar todas as selecoes\";\n                var nbb_formatted_code = \"# early_stop = keras.callbacks.EarlyStopping(\\n#   monitor='val_mse', patience=50, mode='min' ,restore_best_weights=True)\\nformat_data = \\\"%y_%m_%d__%H_%M_%S\\\"\\nsave_time = datetime.datetime.strftime(datetime.datetime.now(), format_data)\\n\\nEPOCHS = 500\\n\\nbst_model_path = f\\\"logs/MLP_model/MLP_model_{save_time}.h5\\\"\\nmodel_checkpoint = ModelCheckpoint(\\n    bst_model_path, save_best_only=True, save_weights_only=True\\n)\\n\\nhistory = tuner.search(\\n    train_dataset,\\n    train_labels,\\n    epochs=EPOCHS,\\n    validation_split=0.2,\\n    verbose=0,\\n    callbacks=([model_checkpoint]),\\n)\\n\\n# Get the optimal hyperparameters\\nbest_hps = tuner.get_best_hyperparameters(num_trials=20)[0]\\n\\nprint(\\n    f\\\"\\\"\\\"\\nThe hyperparameter search is complete. The optimal number of units in the first densely-connected\\nlayer is {best_hps.get('unit_1')} and the optimal learning rate for the optimizer\\nis {best_hps.get('learning_rate')}.\\n\\\"\\\"\\\"\\n)\\n# TODO: Printar todas as selecoes\";\n                var nbb_cells = Jupyter.notebook.get_cells();\n                for (var i = 0; i < nbb_cells.length; ++i) {\n                    if (nbb_cells[i].input_prompt_number == nbb_cell_id) {\n                        if (nbb_cells[i].get_text() == nbb_unformatted_code) {\n                             nbb_cells[i].set_text(nbb_formatted_code);\n                        }\n                        break;\n                    }\n                }\n            }, 500);\n            ",
      "text/plain": [
       "<IPython.core.display.Javascript object>"
      ]
     },
     "metadata": {},
     "output_type": "display_data"
    }
   ],
   "source": [
    "# early_stop = keras.callbacks.EarlyStopping(\n",
    "#   monitor='val_mse', patience=50, mode='min' ,restore_best_weights=True)\n",
    "format_data = \"%y_%m_%d__%H_%M_%S\"\n",
    "save_time = datetime.datetime.strftime(datetime.datetime.now(), format_data)\n",
    "\n",
    "EPOCHS = 500\n",
    "\n",
    "bst_model_path = f\"logs/MLP_model/MLP_model_{save_time}.h5\"\n",
    "model_checkpoint = ModelCheckpoint(\n",
    "    bst_model_path, save_best_only=True, save_weights_only=True\n",
    ")\n",
    "\n",
    "history = tuner.search(\n",
    "    train_dataset,\n",
    "    train_labels,\n",
    "    epochs=EPOCHS,\n",
    "    validation_split=0.2,\n",
    "    verbose=0,\n",
    "    callbacks=([model_checkpoint]),\n",
    ")\n",
    "\n",
    "# Get the optimal hyperparameters\n",
    "best_hps = tuner.get_best_hyperparameters(num_trials=20)[0]\n",
    "\n",
    "print(\n",
    "    f\"\"\"\n",
    "The hyperparameter search is complete. The optimal number of units in the first densely-connected\n",
    "layer is {best_hps.get('unit_1')} and the optimal learning rate for the optimizer\n",
    "is {best_hps.get('learning_rate')}.\n",
    "\"\"\"\n",
    ")\n",
    "# TODO: Printar todas as selecoes"
   ]
  },
  {
   "cell_type": "code",
   "execution_count": 91,
   "metadata": {},
   "outputs": [
    {
     "name": "stdout",
     "output_type": "stream",
     "text": [
      "21\n",
      "37\n",
      "36\n",
      "5\n",
      "0.0001\n",
      "sigmoid\n"
     ]
    },
    {
     "data": {
      "text/plain": [
       "'mlp_unit_1:21_unit_2:37_unit_3:36_unit_4:5__learning:0.0001__activation:sigmoid'"
      ]
     },
     "execution_count": 91,
     "metadata": {},
     "output_type": "execute_result"
    },
    {
     "data": {
      "application/javascript": "\n            setTimeout(function() {\n                var nbb_cell_id = 91;\n                var nbb_unformatted_code = \"print(best_hps.get(\\\"unit_1\\\"))\\nprint(best_hps.get(\\\"unit_2\\\"))\\nprint(best_hps.get(\\\"unit_3\\\"))\\nprint(best_hps.get(\\\"unit_4\\\"))\\nprint(best_hps.get(\\\"learning_rate\\\"))\\nprint(best_hps.get(\\\"activation\\\"))\\n\\n\\nmodel_name = f'mlp_unit_1:{best_hps.get(\\\"unit_1\\\")}_unit_2:{best_hps.get(\\\"unit_2\\\")}_unit_3:{best_hps.get(\\\"unit_3\\\")}_unit_4:{best_hps.get(\\\"unit_4\\\")}__learning:{best_hps.get(\\\"learning_rate\\\")}__activation:{best_hps.get(\\\"activation\\\")}'\\nmodel_name\";\n                var nbb_formatted_code = \"print(best_hps.get(\\\"unit_1\\\"))\\nprint(best_hps.get(\\\"unit_2\\\"))\\nprint(best_hps.get(\\\"unit_3\\\"))\\nprint(best_hps.get(\\\"unit_4\\\"))\\nprint(best_hps.get(\\\"learning_rate\\\"))\\nprint(best_hps.get(\\\"activation\\\"))\\n\\n\\nmodel_name = f'mlp_unit_1:{best_hps.get(\\\"unit_1\\\")}_unit_2:{best_hps.get(\\\"unit_2\\\")}_unit_3:{best_hps.get(\\\"unit_3\\\")}_unit_4:{best_hps.get(\\\"unit_4\\\")}__learning:{best_hps.get(\\\"learning_rate\\\")}__activation:{best_hps.get(\\\"activation\\\")}'\\nmodel_name\";\n                var nbb_cells = Jupyter.notebook.get_cells();\n                for (var i = 0; i < nbb_cells.length; ++i) {\n                    if (nbb_cells[i].input_prompt_number == nbb_cell_id) {\n                        if (nbb_cells[i].get_text() == nbb_unformatted_code) {\n                             nbb_cells[i].set_text(nbb_formatted_code);\n                        }\n                        break;\n                    }\n                }\n            }, 500);\n            ",
      "text/plain": [
       "<IPython.core.display.Javascript object>"
      ]
     },
     "metadata": {},
     "output_type": "display_data"
    }
   ],
   "source": [
    "print(best_hps.get(\"unit_1\"))\n",
    "print(best_hps.get(\"unit_2\"))\n",
    "print(best_hps.get(\"unit_3\"))\n",
    "print(best_hps.get(\"unit_4\"))\n",
    "print(best_hps.get(\"learning_rate\"))\n",
    "print(best_hps.get(\"activation\"))\n",
    "\n"
   ]
  },
  {
   "cell_type": "markdown",
   "metadata": {},
   "source": [
    "# Selecionando a melhor epoca do modelo"
   ]
  },
  {
   "cell_type": "code",
   "execution_count": 73,
   "metadata": {},
   "outputs": [
    {
     "name": "stdout",
     "output_type": "stream",
     "text": [
      "Epoch 1/500\n",
      "36/36 [==============================] - 1s 11ms/step - loss: 0.2101 - mae: 0.3626 - mse: 0.2101 - val_loss: 0.3166 - val_mae: 0.4442 - val_mse: 0.3166\n",
      "Epoch 2/500\n",
      "36/36 [==============================] - 0s 4ms/step - loss: 0.2100 - mae: 0.3620 - mse: 0.2100 - val_loss: 0.3178 - val_mae: 0.4448 - val_mse: 0.3178\n",
      "Epoch 3/500\n",
      "36/36 [==============================] - 0s 4ms/step - loss: 0.2098 - mae: 0.3620 - mse: 0.2098 - val_loss: 0.3172 - val_mae: 0.4445 - val_mse: 0.3172\n",
      "Epoch 4/500\n",
      "36/36 [==============================] - 0s 4ms/step - loss: 0.2097 - mae: 0.3618 - mse: 0.2097 - val_loss: 0.3178 - val_mae: 0.4448 - val_mse: 0.3178\n",
      "Epoch 5/500\n",
      "36/36 [==============================] - 0s 9ms/step - loss: 0.2097 - mae: 0.3618 - mse: 0.2097 - val_loss: 0.3183 - val_mae: 0.4451 - val_mse: 0.3183\n",
      "Epoch 6/500\n",
      "36/36 [==============================] - 0s 8ms/step - loss: 0.2094 - mae: 0.3616 - mse: 0.2094 - val_loss: 0.3160 - val_mae: 0.4439 - val_mse: 0.3160\n",
      "Epoch 7/500\n",
      "36/36 [==============================] - 0s 8ms/step - loss: 0.2093 - mae: 0.3617 - mse: 0.2093 - val_loss: 0.3159 - val_mae: 0.4438 - val_mse: 0.3159\n",
      "Epoch 8/500\n",
      "36/36 [==============================] - 0s 7ms/step - loss: 0.2091 - mae: 0.3614 - mse: 0.2091 - val_loss: 0.3166 - val_mae: 0.4442 - val_mse: 0.3166\n",
      "Epoch 9/500\n",
      "36/36 [==============================] - 1s 17ms/step - loss: 0.2091 - mae: 0.3612 - mse: 0.2091 - val_loss: 0.3159 - val_mae: 0.4438 - val_mse: 0.3159\n",
      "Epoch 10/500\n",
      "36/36 [==============================] - 1s 42ms/step - loss: 0.2089 - mae: 0.3612 - mse: 0.2089 - val_loss: 0.3161 - val_mae: 0.4438 - val_mse: 0.3161\n",
      "Epoch 11/500\n",
      "36/36 [==============================] - 1s 28ms/step - loss: 0.2086 - mae: 0.3611 - mse: 0.2086 - val_loss: 0.3139 - val_mae: 0.4426 - val_mse: 0.3139\n",
      "Epoch 12/500\n",
      "36/36 [==============================] - 1s 16ms/step - loss: 0.2081 - mae: 0.3605 - mse: 0.2081 - val_loss: 0.3157 - val_mae: 0.4434 - val_mse: 0.3157\n",
      "Epoch 13/500\n",
      "36/36 [==============================] - 1s 25ms/step - loss: 0.2079 - mae: 0.3603 - mse: 0.2079 - val_loss: 0.3141 - val_mae: 0.4425 - val_mse: 0.3141\n",
      "Epoch 14/500\n",
      "36/36 [==============================] - 1s 17ms/step - loss: 0.2076 - mae: 0.3602 - mse: 0.2076 - val_loss: 0.3128 - val_mae: 0.4417 - val_mse: 0.3128\n",
      "Epoch 15/500\n",
      "36/36 [==============================] - 1s 20ms/step - loss: 0.2072 - mae: 0.3597 - mse: 0.2072 - val_loss: 0.3138 - val_mae: 0.4422 - val_mse: 0.3138\n",
      "Epoch 16/500\n",
      "36/36 [==============================] - 1s 28ms/step - loss: 0.2069 - mae: 0.3594 - mse: 0.2069 - val_loss: 0.3126 - val_mae: 0.4414 - val_mse: 0.3126\n",
      "Epoch 17/500\n",
      "36/36 [==============================] - 1s 20ms/step - loss: 0.2066 - mae: 0.3594 - mse: 0.2066 - val_loss: 0.3138 - val_mae: 0.4421 - val_mse: 0.3138\n",
      "Epoch 18/500\n",
      "36/36 [==============================] - 1s 30ms/step - loss: 0.2062 - mae: 0.3587 - mse: 0.2062 - val_loss: 0.3114 - val_mae: 0.4406 - val_mse: 0.3114\n",
      "Epoch 19/500\n",
      "36/36 [==============================] - 1s 25ms/step - loss: 0.2059 - mae: 0.3585 - mse: 0.2059 - val_loss: 0.3113 - val_mae: 0.4405 - val_mse: 0.3113\n",
      "Epoch 20/500\n",
      "36/36 [==============================] - 1s 15ms/step - loss: 0.2053 - mae: 0.3582 - mse: 0.2053 - val_loss: 0.3082 - val_mae: 0.4384 - val_mse: 0.3082\n",
      "Epoch 21/500\n",
      "36/36 [==============================] - 0s 13ms/step - loss: 0.2042 - mae: 0.3571 - mse: 0.2042 - val_loss: 0.3082 - val_mae: 0.4383 - val_mse: 0.3082\n",
      "Epoch 22/500\n",
      "36/36 [==============================] - 1s 21ms/step - loss: 0.2036 - mae: 0.3566 - mse: 0.2036 - val_loss: 0.3068 - val_mae: 0.4373 - val_mse: 0.3068\n",
      "Epoch 23/500\n",
      "36/36 [==============================] - 1s 16ms/step - loss: 0.2029 - mae: 0.3557 - mse: 0.2029 - val_loss: 0.3062 - val_mae: 0.4367 - val_mse: 0.3062\n",
      "Epoch 24/500\n",
      "36/36 [==============================] - 1s 33ms/step - loss: 0.2022 - mae: 0.3553 - mse: 0.2022 - val_loss: 0.3041 - val_mae: 0.4354 - val_mse: 0.3041\n",
      "Epoch 25/500\n",
      "36/36 [==============================] - 1s 16ms/step - loss: 0.2017 - mae: 0.3548 - mse: 0.2017 - val_loss: 0.3038 - val_mae: 0.4350 - val_mse: 0.3038\n",
      "Epoch 26/500\n",
      "36/36 [==============================] - 1s 26ms/step - loss: 0.2010 - mae: 0.3540 - mse: 0.2010 - val_loss: 0.3014 - val_mae: 0.4334 - val_mse: 0.3014\n",
      "Epoch 27/500\n",
      "36/36 [==============================] - 1s 20ms/step - loss: 0.2001 - mae: 0.3532 - mse: 0.2001 - val_loss: 0.3012 - val_mae: 0.4332 - val_mse: 0.3012\n",
      "Epoch 28/500\n",
      "36/36 [==============================] - 0s 14ms/step - loss: 0.1993 - mae: 0.3527 - mse: 0.1993 - val_loss: 0.2999 - val_mae: 0.4321 - val_mse: 0.2999\n",
      "Epoch 29/500\n",
      "36/36 [==============================] - 1s 16ms/step - loss: 0.1987 - mae: 0.3516 - mse: 0.1987 - val_loss: 0.2995 - val_mae: 0.4317 - val_mse: 0.2995\n",
      "Epoch 30/500\n",
      "36/36 [==============================] - 0s 11ms/step - loss: 0.1979 - mae: 0.3515 - mse: 0.1979 - val_loss: 0.2977 - val_mae: 0.4305 - val_mse: 0.2977\n",
      "Epoch 31/500\n",
      "36/36 [==============================] - 1s 26ms/step - loss: 0.1968 - mae: 0.3499 - mse: 0.1968 - val_loss: 0.2975 - val_mae: 0.4301 - val_mse: 0.2975\n",
      "Epoch 32/500\n",
      "36/36 [==============================] - 0s 12ms/step - loss: 0.1960 - mae: 0.3494 - mse: 0.1960 - val_loss: 0.2951 - val_mae: 0.4284 - val_mse: 0.2951\n",
      "Epoch 33/500\n",
      "36/36 [==============================] - 0s 12ms/step - loss: 0.1950 - mae: 0.3484 - mse: 0.1950 - val_loss: 0.2933 - val_mae: 0.4271 - val_mse: 0.2933\n",
      "Epoch 34/500\n",
      "36/36 [==============================] - 0s 10ms/step - loss: 0.1941 - mae: 0.3475 - mse: 0.1941 - val_loss: 0.2927 - val_mae: 0.4264 - val_mse: 0.2927\n",
      "Epoch 35/500\n",
      "36/36 [==============================] - 0s 12ms/step - loss: 0.1929 - mae: 0.3463 - mse: 0.1929 - val_loss: 0.2895 - val_mae: 0.4244 - val_mse: 0.2895\n",
      "Epoch 36/500\n",
      "36/36 [==============================] - 0s 11ms/step - loss: 0.1920 - mae: 0.3454 - mse: 0.1920 - val_loss: 0.2891 - val_mae: 0.4238 - val_mse: 0.2891\n",
      "Epoch 37/500\n",
      "36/36 [==============================] - 0s 9ms/step - loss: 0.1908 - mae: 0.3444 - mse: 0.1908 - val_loss: 0.2872 - val_mae: 0.4224 - val_mse: 0.2872\n",
      "Epoch 38/500\n",
      "36/36 [==============================] - 0s 10ms/step - loss: 0.1896 - mae: 0.3435 - mse: 0.1896 - val_loss: 0.2876 - val_mae: 0.4224 - val_mse: 0.2876\n",
      "Epoch 39/500\n",
      "36/36 [==============================] - 0s 10ms/step - loss: 0.1862 - mae: 0.3399 - mse: 0.1862 - val_loss: 0.2756 - val_mae: 0.4154 - val_mse: 0.2756\n",
      "Epoch 40/500\n",
      "36/36 [==============================] - 0s 13ms/step - loss: 0.1834 - mae: 0.3375 - mse: 0.1834 - val_loss: 0.2733 - val_mae: 0.4114 - val_mse: 0.2733\n",
      "Epoch 41/500\n",
      "36/36 [==============================] - 0s 13ms/step - loss: 0.1814 - mae: 0.3353 - mse: 0.1814 - val_loss: 0.2704 - val_mae: 0.4090 - val_mse: 0.2704\n",
      "Epoch 42/500\n",
      "36/36 [==============================] - 1s 15ms/step - loss: 0.1791 - mae: 0.3329 - mse: 0.1791 - val_loss: 0.2668 - val_mae: 0.4066 - val_mse: 0.2668\n",
      "Epoch 43/500\n",
      "36/36 [==============================] - 0s 11ms/step - loss: 0.1772 - mae: 0.3309 - mse: 0.1772 - val_loss: 0.2666 - val_mae: 0.4063 - val_mse: 0.2666\n",
      "Epoch 44/500\n",
      "36/36 [==============================] - 1s 19ms/step - loss: 0.1749 - mae: 0.3290 - mse: 0.1749 - val_loss: 0.2614 - val_mae: 0.4016 - val_mse: 0.2614\n",
      "Epoch 45/500\n",
      "36/36 [==============================] - 1s 21ms/step - loss: 0.1730 - mae: 0.3273 - mse: 0.1730 - val_loss: 0.2613 - val_mae: 0.4008 - val_mse: 0.2613\n",
      "Epoch 46/500\n",
      "36/36 [==============================] - 1s 18ms/step - loss: 0.1708 - mae: 0.3249 - mse: 0.1708 - val_loss: 0.2553 - val_mae: 0.3968 - val_mse: 0.2553\n",
      "Epoch 47/500\n",
      "36/36 [==============================] - 1s 21ms/step - loss: 0.1687 - mae: 0.3226 - mse: 0.1687 - val_loss: 0.2531 - val_mae: 0.3952 - val_mse: 0.2531\n",
      "Epoch 48/500\n",
      "36/36 [==============================] - 1s 18ms/step - loss: 0.1658 - mae: 0.3201 - mse: 0.1658 - val_loss: 0.2443 - val_mae: 0.3878 - val_mse: 0.2443\n",
      "Epoch 49/500\n",
      "36/36 [==============================] - 1s 15ms/step - loss: 0.1626 - mae: 0.3166 - mse: 0.1626 - val_loss: 0.2430 - val_mae: 0.3859 - val_mse: 0.2430\n",
      "Epoch 50/500\n",
      "36/36 [==============================] - 1s 16ms/step - loss: 0.1602 - mae: 0.3137 - mse: 0.1602 - val_loss: 0.2393 - val_mae: 0.3828 - val_mse: 0.2393\n",
      "Epoch 51/500\n",
      "36/36 [==============================] - 0s 7ms/step - loss: 0.1576 - mae: 0.3113 - mse: 0.1576 - val_loss: 0.2360 - val_mae: 0.3798 - val_mse: 0.2360\n",
      "Epoch 52/500\n",
      "36/36 [==============================] - 1s 19ms/step - loss: 0.1550 - mae: 0.3086 - mse: 0.1550 - val_loss: 0.2312 - val_mae: 0.3756 - val_mse: 0.2312\n",
      "Epoch 53/500\n",
      "36/36 [==============================] - 1s 17ms/step - loss: 0.1525 - mae: 0.3058 - mse: 0.1525 - val_loss: 0.2283 - val_mae: 0.3730 - val_mse: 0.2283\n",
      "Epoch 54/500\n",
      "36/36 [==============================] - 0s 11ms/step - loss: 0.1499 - mae: 0.3031 - mse: 0.1499 - val_loss: 0.2250 - val_mae: 0.3710 - val_mse: 0.2250\n",
      "Epoch 55/500\n",
      "36/36 [==============================] - 1s 16ms/step - loss: 0.1475 - mae: 0.3004 - mse: 0.1475 - val_loss: 0.2208 - val_mae: 0.3664 - val_mse: 0.2208\n",
      "Epoch 56/500\n",
      "36/36 [==============================] - 1s 18ms/step - loss: 0.1449 - mae: 0.2975 - mse: 0.1449 - val_loss: 0.2170 - val_mae: 0.3632 - val_mse: 0.2170\n",
      "Epoch 57/500\n",
      "36/36 [==============================] - 1s 20ms/step - loss: 0.1427 - mae: 0.2951 - mse: 0.1427 - val_loss: 0.2134 - val_mae: 0.3597 - val_mse: 0.2134\n",
      "Epoch 58/500\n",
      "36/36 [==============================] - 0s 12ms/step - loss: 0.1401 - mae: 0.2920 - mse: 0.1401 - val_loss: 0.2088 - val_mae: 0.3558 - val_mse: 0.2088\n",
      "Epoch 59/500\n",
      "36/36 [==============================] - 0s 11ms/step - loss: 0.1377 - mae: 0.2894 - mse: 0.1377 - val_loss: 0.2072 - val_mae: 0.3541 - val_mse: 0.2072\n",
      "Epoch 60/500\n",
      "36/36 [==============================] - 0s 10ms/step - loss: 0.1357 - mae: 0.2877 - mse: 0.1357 - val_loss: 0.2046 - val_mae: 0.3523 - val_mse: 0.2046\n",
      "Epoch 61/500\n",
      "36/36 [==============================] - 0s 9ms/step - loss: 0.1334 - mae: 0.2846 - mse: 0.1334 - val_loss: 0.1990 - val_mae: 0.3466 - val_mse: 0.1990\n",
      "Epoch 62/500\n",
      "36/36 [==============================] - 0s 10ms/step - loss: 0.1311 - mae: 0.2820 - mse: 0.1311 - val_loss: 0.2001 - val_mae: 0.3494 - val_mse: 0.2001\n",
      "Epoch 63/500\n",
      "36/36 [==============================] - 0s 7ms/step - loss: 0.1288 - mae: 0.2793 - mse: 0.1288 - val_loss: 0.1964 - val_mae: 0.3455 - val_mse: 0.1964\n",
      "Epoch 64/500\n",
      "36/36 [==============================] - 0s 7ms/step - loss: 0.1269 - mae: 0.2769 - mse: 0.1269 - val_loss: 0.1892 - val_mae: 0.3369 - val_mse: 0.1892\n",
      "Epoch 65/500\n",
      "36/36 [==============================] - 0s 6ms/step - loss: 0.1250 - mae: 0.2744 - mse: 0.1250 - val_loss: 0.1874 - val_mae: 0.3355 - val_mse: 0.1874\n",
      "Epoch 66/500\n",
      "36/36 [==============================] - 0s 6ms/step - loss: 0.1231 - mae: 0.2724 - mse: 0.1231 - val_loss: 0.1853 - val_mae: 0.3341 - val_mse: 0.1853\n",
      "Epoch 67/500\n",
      "36/36 [==============================] - 0s 7ms/step - loss: 0.1208 - mae: 0.2697 - mse: 0.1208 - val_loss: 0.1829 - val_mae: 0.3315 - val_mse: 0.1829\n",
      "Epoch 68/500\n",
      "36/36 [==============================] - 0s 8ms/step - loss: 0.1189 - mae: 0.2676 - mse: 0.1189 - val_loss: 0.1797 - val_mae: 0.3278 - val_mse: 0.1797\n",
      "Epoch 69/500\n",
      "36/36 [==============================] - 0s 6ms/step - loss: 0.1185 - mae: 0.2665 - mse: 0.1185 - val_loss: 0.1795 - val_mae: 0.3289 - val_mse: 0.1795\n",
      "Epoch 70/500\n",
      "36/36 [==============================] - 0s 6ms/step - loss: 0.1157 - mae: 0.2631 - mse: 0.1157 - val_loss: 0.1754 - val_mae: 0.3239 - val_mse: 0.1754\n",
      "Epoch 71/500\n",
      "36/36 [==============================] - 0s 7ms/step - loss: 0.1140 - mae: 0.2611 - mse: 0.1140 - val_loss: 0.1724 - val_mae: 0.3204 - val_mse: 0.1724\n",
      "Epoch 72/500\n",
      "36/36 [==============================] - 0s 4ms/step - loss: 0.1123 - mae: 0.2590 - mse: 0.1123 - val_loss: 0.1739 - val_mae: 0.3244 - val_mse: 0.1739\n",
      "Epoch 73/500\n",
      "36/36 [==============================] - 0s 5ms/step - loss: 0.1115 - mae: 0.2581 - mse: 0.1115 - val_loss: 0.1732 - val_mae: 0.3253 - val_mse: 0.1732\n",
      "Epoch 74/500\n",
      "36/36 [==============================] - 0s 7ms/step - loss: 0.1090 - mae: 0.2551 - mse: 0.1090 - val_loss: 0.1656 - val_mae: 0.3135 - val_mse: 0.1656\n",
      "Epoch 75/500\n",
      "36/36 [==============================] - 0s 6ms/step - loss: 0.1076 - mae: 0.2529 - mse: 0.1076 - val_loss: 0.1685 - val_mae: 0.3199 - val_mse: 0.1685\n",
      "Epoch 76/500\n",
      "36/36 [==============================] - 0s 7ms/step - loss: 0.1065 - mae: 0.2518 - mse: 0.1065 - val_loss: 0.1613 - val_mae: 0.3101 - val_mse: 0.1613\n",
      "Epoch 77/500\n",
      "36/36 [==============================] - 0s 6ms/step - loss: 0.1055 - mae: 0.2506 - mse: 0.1055 - val_loss: 0.1601 - val_mae: 0.3079 - val_mse: 0.1601\n",
      "Epoch 78/500\n",
      "36/36 [==============================] - 0s 7ms/step - loss: 0.1041 - mae: 0.2487 - mse: 0.1041 - val_loss: 0.1592 - val_mae: 0.3070 - val_mse: 0.1592\n",
      "Epoch 79/500\n",
      "36/36 [==============================] - 0s 7ms/step - loss: 0.1024 - mae: 0.2466 - mse: 0.1024 - val_loss: 0.1581 - val_mae: 0.3069 - val_mse: 0.1581\n",
      "Epoch 80/500\n",
      "36/36 [==============================] - 0s 7ms/step - loss: 0.1009 - mae: 0.2441 - mse: 0.1009 - val_loss: 0.1623 - val_mae: 0.3162 - val_mse: 0.1623\n",
      "Epoch 81/500\n",
      "36/36 [==============================] - 0s 7ms/step - loss: 0.0996 - mae: 0.2427 - mse: 0.0996 - val_loss: 0.1521 - val_mae: 0.2996 - val_mse: 0.1521\n",
      "Epoch 82/500\n",
      "36/36 [==============================] - 0s 6ms/step - loss: 0.0988 - mae: 0.2417 - mse: 0.0988 - val_loss: 0.1541 - val_mae: 0.3041 - val_mse: 0.1541\n",
      "Epoch 83/500\n",
      "36/36 [==============================] - 0s 7ms/step - loss: 0.0978 - mae: 0.2411 - mse: 0.0978 - val_loss: 0.1483 - val_mae: 0.2959 - val_mse: 0.1483\n",
      "Epoch 84/500\n",
      "36/36 [==============================] - 0s 6ms/step - loss: 0.0963 - mae: 0.2378 - mse: 0.0963 - val_loss: 0.1502 - val_mae: 0.3004 - val_mse: 0.1502\n",
      "Epoch 85/500\n",
      "36/36 [==============================] - 0s 11ms/step - loss: 0.0949 - mae: 0.2365 - mse: 0.0949 - val_loss: 0.1461 - val_mae: 0.2937 - val_mse: 0.1461\n",
      "Epoch 86/500\n",
      "36/36 [==============================] - 1s 16ms/step - loss: 0.0938 - mae: 0.2355 - mse: 0.0938 - val_loss: 0.1435 - val_mae: 0.2905 - val_mse: 0.1435\n",
      "Epoch 87/500\n",
      "36/36 [==============================] - 0s 9ms/step - loss: 0.0928 - mae: 0.2336 - mse: 0.0928 - val_loss: 0.1449 - val_mae: 0.2943 - val_mse: 0.1449\n",
      "Epoch 88/500\n",
      "36/36 [==============================] - 0s 9ms/step - loss: 0.0919 - mae: 0.2335 - mse: 0.0919 - val_loss: 0.1459 - val_mae: 0.2975 - val_mse: 0.1459\n",
      "Epoch 89/500\n",
      "36/36 [==============================] - 0s 8ms/step - loss: 0.0908 - mae: 0.2311 - mse: 0.0908 - val_loss: 0.1401 - val_mae: 0.2882 - val_mse: 0.1401\n",
      "Epoch 90/500\n",
      "36/36 [==============================] - 0s 10ms/step - loss: 0.0893 - mae: 0.2295 - mse: 0.0893 - val_loss: 0.1393 - val_mae: 0.2875 - val_mse: 0.1393\n",
      "Epoch 91/500\n",
      "36/36 [==============================] - 0s 9ms/step - loss: 0.0882 - mae: 0.2279 - mse: 0.0882 - val_loss: 0.1362 - val_mae: 0.2835 - val_mse: 0.1362\n",
      "Epoch 92/500\n",
      "36/36 [==============================] - 0s 7ms/step - loss: 0.0876 - mae: 0.2275 - mse: 0.0876 - val_loss: 0.1362 - val_mae: 0.2837 - val_mse: 0.1362\n",
      "Epoch 93/500\n",
      "36/36 [==============================] - 0s 6ms/step - loss: 0.0867 - mae: 0.2257 - mse: 0.0867 - val_loss: 0.1350 - val_mae: 0.2826 - val_mse: 0.1350\n",
      "Epoch 94/500\n",
      "36/36 [==============================] - 0s 6ms/step - loss: 0.0854 - mae: 0.2242 - mse: 0.0854 - val_loss: 0.1333 - val_mae: 0.2807 - val_mse: 0.1333\n",
      "Epoch 95/500\n",
      "36/36 [==============================] - 0s 4ms/step - loss: 0.0852 - mae: 0.2240 - mse: 0.0852 - val_loss: 0.1304 - val_mae: 0.2759 - val_mse: 0.1304\n",
      "Epoch 96/500\n",
      "36/36 [==============================] - 0s 4ms/step - loss: 0.0846 - mae: 0.2235 - mse: 0.0846 - val_loss: 0.1291 - val_mae: 0.2744 - val_mse: 0.1291\n",
      "Epoch 97/500\n",
      "36/36 [==============================] - 0s 4ms/step - loss: 0.0828 - mae: 0.2206 - mse: 0.0828 - val_loss: 0.1288 - val_mae: 0.2752 - val_mse: 0.1288\n",
      "Epoch 98/500\n",
      "36/36 [==============================] - 0s 5ms/step - loss: 0.0820 - mae: 0.2196 - mse: 0.0820 - val_loss: 0.1293 - val_mae: 0.2767 - val_mse: 0.1293\n",
      "Epoch 99/500\n",
      "36/36 [==============================] - 0s 5ms/step - loss: 0.0812 - mae: 0.2184 - mse: 0.0812 - val_loss: 0.1286 - val_mae: 0.2757 - val_mse: 0.1286\n",
      "Epoch 100/500\n",
      "36/36 [==============================] - 0s 5ms/step - loss: 0.0808 - mae: 0.2181 - mse: 0.0808 - val_loss: 0.1266 - val_mae: 0.2735 - val_mse: 0.1266\n",
      "Epoch 101/500\n",
      "36/36 [==============================] - 0s 4ms/step - loss: 0.0801 - mae: 0.2176 - mse: 0.0801 - val_loss: 0.1246 - val_mae: 0.2696 - val_mse: 0.1246\n",
      "Epoch 102/500\n",
      "36/36 [==============================] - 0s 5ms/step - loss: 0.0788 - mae: 0.2161 - mse: 0.0788 - val_loss: 0.1213 - val_mae: 0.2655 - val_mse: 0.1213\n",
      "Epoch 103/500\n",
      "36/36 [==============================] - 0s 7ms/step - loss: 0.0781 - mae: 0.2150 - mse: 0.0781 - val_loss: 0.1216 - val_mae: 0.2661 - val_mse: 0.1216\n",
      "Epoch 104/500\n",
      "36/36 [==============================] - 0s 5ms/step - loss: 0.0774 - mae: 0.2139 - mse: 0.0774 - val_loss: 0.1203 - val_mae: 0.2641 - val_mse: 0.1203\n",
      "Epoch 105/500\n",
      "36/36 [==============================] - 0s 4ms/step - loss: 0.0767 - mae: 0.2127 - mse: 0.0767 - val_loss: 0.1212 - val_mae: 0.2665 - val_mse: 0.1212\n",
      "Epoch 106/500\n",
      "36/36 [==============================] - 0s 4ms/step - loss: 0.0760 - mae: 0.2116 - mse: 0.0760 - val_loss: 0.1213 - val_mae: 0.2668 - val_mse: 0.1213\n",
      "Epoch 107/500\n",
      "36/36 [==============================] - 0s 4ms/step - loss: 0.0760 - mae: 0.2120 - mse: 0.0760 - val_loss: 0.1183 - val_mae: 0.2624 - val_mse: 0.1183\n",
      "Epoch 108/500\n",
      "36/36 [==============================] - 0s 4ms/step - loss: 0.0750 - mae: 0.2105 - mse: 0.0750 - val_loss: 0.1220 - val_mae: 0.2682 - val_mse: 0.1220\n",
      "Epoch 109/500\n",
      "36/36 [==============================] - 0s 6ms/step - loss: 0.0748 - mae: 0.2093 - mse: 0.0748 - val_loss: 0.1179 - val_mae: 0.2622 - val_mse: 0.1179\n",
      "Epoch 110/500\n",
      "36/36 [==============================] - 0s 5ms/step - loss: 0.0737 - mae: 0.2093 - mse: 0.0737 - val_loss: 0.1152 - val_mae: 0.2579 - val_mse: 0.1152\n",
      "Epoch 111/500\n",
      "36/36 [==============================] - 0s 5ms/step - loss: 0.0732 - mae: 0.2082 - mse: 0.0732 - val_loss: 0.1158 - val_mae: 0.2585 - val_mse: 0.1158\n",
      "Epoch 112/500\n",
      "36/36 [==============================] - 0s 8ms/step - loss: 0.0728 - mae: 0.2073 - mse: 0.0728 - val_loss: 0.1158 - val_mae: 0.2594 - val_mse: 0.1158\n",
      "Epoch 113/500\n",
      "36/36 [==============================] - 0s 4ms/step - loss: 0.0724 - mae: 0.2072 - mse: 0.0724 - val_loss: 0.1178 - val_mae: 0.2627 - val_mse: 0.1178\n",
      "Epoch 114/500\n",
      "36/36 [==============================] - 0s 5ms/step - loss: 0.0718 - mae: 0.2058 - mse: 0.0718 - val_loss: 0.1151 - val_mae: 0.2586 - val_mse: 0.1151\n",
      "Epoch 115/500\n",
      "36/36 [==============================] - 0s 5ms/step - loss: 0.0711 - mae: 0.2055 - mse: 0.0711 - val_loss: 0.1195 - val_mae: 0.2655 - val_mse: 0.1195\n",
      "Epoch 116/500\n",
      "36/36 [==============================] - 0s 5ms/step - loss: 0.0715 - mae: 0.2060 - mse: 0.0715 - val_loss: 0.1138 - val_mae: 0.2568 - val_mse: 0.1138\n",
      "Epoch 117/500\n",
      "36/36 [==============================] - 0s 8ms/step - loss: 0.0711 - mae: 0.2046 - mse: 0.0711 - val_loss: 0.1117 - val_mae: 0.2533 - val_mse: 0.1117\n",
      "Epoch 118/500\n",
      "36/36 [==============================] - 0s 5ms/step - loss: 0.0708 - mae: 0.2046 - mse: 0.0708 - val_loss: 0.1169 - val_mae: 0.2614 - val_mse: 0.1169\n",
      "Epoch 119/500\n",
      "36/36 [==============================] - 0s 9ms/step - loss: 0.0701 - mae: 0.2033 - mse: 0.0701 - val_loss: 0.1110 - val_mae: 0.2529 - val_mse: 0.1110\n",
      "Epoch 120/500\n",
      "36/36 [==============================] - 0s 13ms/step - loss: 0.0694 - mae: 0.2024 - mse: 0.0694 - val_loss: 0.1103 - val_mae: 0.2517 - val_mse: 0.1103\n",
      "Epoch 121/500\n",
      "36/36 [==============================] - 0s 11ms/step - loss: 0.0691 - mae: 0.2031 - mse: 0.0691 - val_loss: 0.1097 - val_mae: 0.2509 - val_mse: 0.1097\n",
      "Epoch 122/500\n",
      "36/36 [==============================] - 0s 12ms/step - loss: 0.0682 - mae: 0.2005 - mse: 0.0682 - val_loss: 0.1105 - val_mae: 0.2526 - val_mse: 0.1105\n",
      "Epoch 123/500\n",
      "36/36 [==============================] - 0s 12ms/step - loss: 0.0688 - mae: 0.2015 - mse: 0.0688 - val_loss: 0.1124 - val_mae: 0.2560 - val_mse: 0.1124\n",
      "Epoch 124/500\n",
      "36/36 [==============================] - 0s 14ms/step - loss: 0.0681 - mae: 0.2007 - mse: 0.0681 - val_loss: 0.1091 - val_mae: 0.2501 - val_mse: 0.1091\n",
      "Epoch 125/500\n",
      "36/36 [==============================] - 0s 11ms/step - loss: 0.0677 - mae: 0.2011 - mse: 0.0677 - val_loss: 0.1081 - val_mae: 0.2490 - val_mse: 0.1081\n",
      "Epoch 126/500\n",
      "36/36 [==============================] - 0s 10ms/step - loss: 0.0674 - mae: 0.2000 - mse: 0.0674 - val_loss: 0.1090 - val_mae: 0.2505 - val_mse: 0.1090\n",
      "Epoch 127/500\n",
      "36/36 [==============================] - 0s 12ms/step - loss: 0.0680 - mae: 0.2010 - mse: 0.0680 - val_loss: 0.1075 - val_mae: 0.2484 - val_mse: 0.1075\n",
      "Epoch 128/500\n",
      "36/36 [==============================] - 0s 10ms/step - loss: 0.0669 - mae: 0.1992 - mse: 0.0669 - val_loss: 0.1081 - val_mae: 0.2493 - val_mse: 0.1081\n",
      "Epoch 129/500\n",
      "36/36 [==============================] - 0s 7ms/step - loss: 0.0665 - mae: 0.1987 - mse: 0.0665 - val_loss: 0.1094 - val_mae: 0.2525 - val_mse: 0.1094\n",
      "Epoch 130/500\n",
      "36/36 [==============================] - 0s 10ms/step - loss: 0.0665 - mae: 0.1994 - mse: 0.0665 - val_loss: 0.1070 - val_mae: 0.2475 - val_mse: 0.1070\n",
      "Epoch 131/500\n",
      "36/36 [==============================] - 0s 9ms/step - loss: 0.0660 - mae: 0.1980 - mse: 0.0660 - val_loss: 0.1070 - val_mae: 0.2479 - val_mse: 0.1070\n",
      "Epoch 132/500\n",
      "36/36 [==============================] - 0s 9ms/step - loss: 0.0654 - mae: 0.1971 - mse: 0.0654 - val_loss: 0.1084 - val_mae: 0.2493 - val_mse: 0.1084\n",
      "Epoch 133/500\n",
      "36/36 [==============================] - 0s 8ms/step - loss: 0.0656 - mae: 0.1971 - mse: 0.0656 - val_loss: 0.1071 - val_mae: 0.2475 - val_mse: 0.1071\n",
      "Epoch 134/500\n",
      "36/36 [==============================] - 0s 10ms/step - loss: 0.0654 - mae: 0.1972 - mse: 0.0654 - val_loss: 0.1089 - val_mae: 0.2524 - val_mse: 0.1089\n",
      "Epoch 135/500\n",
      "36/36 [==============================] - 0s 9ms/step - loss: 0.0657 - mae: 0.1964 - mse: 0.0657 - val_loss: 0.1063 - val_mae: 0.2464 - val_mse: 0.1063\n",
      "Epoch 136/500\n",
      "36/36 [==============================] - 0s 5ms/step - loss: 0.0650 - mae: 0.1965 - mse: 0.0650 - val_loss: 0.1059 - val_mae: 0.2459 - val_mse: 0.1059\n",
      "Epoch 137/500\n",
      "36/36 [==============================] - 0s 7ms/step - loss: 0.0651 - mae: 0.1961 - mse: 0.0651 - val_loss: 0.1084 - val_mae: 0.2516 - val_mse: 0.1084\n",
      "Epoch 138/500\n",
      "36/36 [==============================] - 0s 8ms/step - loss: 0.0645 - mae: 0.1956 - mse: 0.0645 - val_loss: 0.1082 - val_mae: 0.2494 - val_mse: 0.1082\n",
      "Epoch 139/500\n",
      "36/36 [==============================] - 0s 7ms/step - loss: 0.0645 - mae: 0.1952 - mse: 0.0645 - val_loss: 0.1055 - val_mae: 0.2456 - val_mse: 0.1055\n",
      "Epoch 140/500\n",
      "36/36 [==============================] - 0s 6ms/step - loss: 0.0641 - mae: 0.1946 - mse: 0.0641 - val_loss: 0.1052 - val_mae: 0.2450 - val_mse: 0.1052\n",
      "Epoch 141/500\n",
      "36/36 [==============================] - 0s 6ms/step - loss: 0.0644 - mae: 0.1962 - mse: 0.0644 - val_loss: 0.1065 - val_mae: 0.2480 - val_mse: 0.1065\n",
      "Epoch 142/500\n",
      "36/36 [==============================] - 0s 8ms/step - loss: 0.0638 - mae: 0.1945 - mse: 0.0638 - val_loss: 0.1089 - val_mae: 0.2528 - val_mse: 0.1089\n",
      "Epoch 143/500\n",
      "36/36 [==============================] - 0s 10ms/step - loss: 0.0638 - mae: 0.1938 - mse: 0.0638 - val_loss: 0.1046 - val_mae: 0.2445 - val_mse: 0.1046\n",
      "Epoch 144/500\n",
      "36/36 [==============================] - 0s 7ms/step - loss: 0.0633 - mae: 0.1937 - mse: 0.0633 - val_loss: 0.1065 - val_mae: 0.2484 - val_mse: 0.1065\n",
      "Epoch 145/500\n",
      "36/36 [==============================] - 0s 6ms/step - loss: 0.0636 - mae: 0.1939 - mse: 0.0636 - val_loss: 0.1052 - val_mae: 0.2453 - val_mse: 0.1052\n",
      "Epoch 146/500\n",
      "36/36 [==============================] - 0s 6ms/step - loss: 0.0631 - mae: 0.1937 - mse: 0.0631 - val_loss: 0.1054 - val_mae: 0.2454 - val_mse: 0.1054\n",
      "Epoch 147/500\n",
      "36/36 [==============================] - 0s 14ms/step - loss: 0.0628 - mae: 0.1924 - mse: 0.0628 - val_loss: 0.1112 - val_mae: 0.2570 - val_mse: 0.1112\n",
      "Epoch 148/500\n",
      "36/36 [==============================] - 0s 6ms/step - loss: 0.0633 - mae: 0.1931 - mse: 0.0633 - val_loss: 0.1079 - val_mae: 0.2513 - val_mse: 0.1079\n",
      "Epoch 149/500\n",
      "36/36 [==============================] - 0s 6ms/step - loss: 0.0623 - mae: 0.1921 - mse: 0.0623 - val_loss: 0.1059 - val_mae: 0.2461 - val_mse: 0.1059\n",
      "Epoch 150/500\n",
      "36/36 [==============================] - 0s 7ms/step - loss: 0.0627 - mae: 0.1925 - mse: 0.0627 - val_loss: 0.1051 - val_mae: 0.2455 - val_mse: 0.1051\n",
      "Epoch 151/500\n",
      "36/36 [==============================] - 0s 9ms/step - loss: 0.0621 - mae: 0.1918 - mse: 0.0621 - val_loss: 0.1041 - val_mae: 0.2435 - val_mse: 0.1041\n",
      "Epoch 152/500\n",
      "36/36 [==============================] - 0s 9ms/step - loss: 0.0624 - mae: 0.1923 - mse: 0.0624 - val_loss: 0.1048 - val_mae: 0.2447 - val_mse: 0.1048\n",
      "Epoch 153/500\n",
      "36/36 [==============================] - 0s 8ms/step - loss: 0.0621 - mae: 0.1919 - mse: 0.0621 - val_loss: 0.1046 - val_mae: 0.2447 - val_mse: 0.1046\n",
      "Epoch 154/500\n",
      "36/36 [==============================] - 0s 8ms/step - loss: 0.0619 - mae: 0.1913 - mse: 0.0619 - val_loss: 0.1040 - val_mae: 0.2440 - val_mse: 0.1040\n",
      "Epoch 155/500\n",
      "36/36 [==============================] - 0s 7ms/step - loss: 0.0616 - mae: 0.1909 - mse: 0.0616 - val_loss: 0.1041 - val_mae: 0.2440 - val_mse: 0.1041\n",
      "Epoch 156/500\n",
      "36/36 [==============================] - 0s 8ms/step - loss: 0.0621 - mae: 0.1914 - mse: 0.0621 - val_loss: 0.1053 - val_mae: 0.2470 - val_mse: 0.1053\n",
      "Epoch 157/500\n",
      "36/36 [==============================] - 0s 8ms/step - loss: 0.0618 - mae: 0.1906 - mse: 0.0618 - val_loss: 0.1082 - val_mae: 0.2519 - val_mse: 0.1082\n",
      "Epoch 158/500\n",
      "36/36 [==============================] - 0s 7ms/step - loss: 0.0620 - mae: 0.1915 - mse: 0.0620 - val_loss: 0.1042 - val_mae: 0.2442 - val_mse: 0.1042\n",
      "Epoch 159/500\n",
      "36/36 [==============================] - 0s 10ms/step - loss: 0.0618 - mae: 0.1923 - mse: 0.0618 - val_loss: 0.1038 - val_mae: 0.2435 - val_mse: 0.1038\n",
      "Epoch 160/500\n",
      "36/36 [==============================] - 0s 11ms/step - loss: 0.0618 - mae: 0.1912 - mse: 0.0618 - val_loss: 0.1040 - val_mae: 0.2435 - val_mse: 0.1040\n",
      "Epoch 161/500\n",
      "36/36 [==============================] - 0s 8ms/step - loss: 0.0619 - mae: 0.1917 - mse: 0.0619 - val_loss: 0.1038 - val_mae: 0.2435 - val_mse: 0.1038\n",
      "Epoch 162/500\n",
      "36/36 [==============================] - 0s 5ms/step - loss: 0.0608 - mae: 0.1895 - mse: 0.0608 - val_loss: 0.1072 - val_mae: 0.2505 - val_mse: 0.1072\n",
      "Epoch 163/500\n",
      "36/36 [==============================] - 0s 4ms/step - loss: 0.0604 - mae: 0.1893 - mse: 0.0604 - val_loss: 0.1055 - val_mae: 0.2474 - val_mse: 0.1055\n",
      "Epoch 164/500\n",
      "36/36 [==============================] - 0s 5ms/step - loss: 0.0611 - mae: 0.1902 - mse: 0.0611 - val_loss: 0.1063 - val_mae: 0.2489 - val_mse: 0.1063\n",
      "Epoch 165/500\n",
      "36/36 [==============================] - 0s 5ms/step - loss: 0.0603 - mae: 0.1889 - mse: 0.0603 - val_loss: 0.1044 - val_mae: 0.2449 - val_mse: 0.1044\n",
      "Epoch 166/500\n",
      "36/36 [==============================] - 0s 6ms/step - loss: 0.0603 - mae: 0.1887 - mse: 0.0603 - val_loss: 0.1032 - val_mae: 0.2429 - val_mse: 0.1032\n",
      "Epoch 167/500\n",
      "36/36 [==============================] - 0s 5ms/step - loss: 0.0600 - mae: 0.1886 - mse: 0.0600 - val_loss: 0.1034 - val_mae: 0.2432 - val_mse: 0.1034\n",
      "Epoch 168/500\n",
      "36/36 [==============================] - 0s 6ms/step - loss: 0.0599 - mae: 0.1881 - mse: 0.0599 - val_loss: 0.1042 - val_mae: 0.2450 - val_mse: 0.1042\n",
      "Epoch 169/500\n",
      "36/36 [==============================] - 0s 5ms/step - loss: 0.0598 - mae: 0.1877 - mse: 0.0598 - val_loss: 0.1080 - val_mae: 0.2520 - val_mse: 0.1080\n",
      "Epoch 170/500\n",
      "36/36 [==============================] - 0s 7ms/step - loss: 0.0598 - mae: 0.1880 - mse: 0.0598 - val_loss: 0.1049 - val_mae: 0.2461 - val_mse: 0.1049\n",
      "Epoch 171/500\n",
      "36/36 [==============================] - 0s 5ms/step - loss: 0.0598 - mae: 0.1878 - mse: 0.0598 - val_loss: 0.1039 - val_mae: 0.2443 - val_mse: 0.1039\n",
      "Epoch 172/500\n",
      "36/36 [==============================] - 0s 4ms/step - loss: 0.0599 - mae: 0.1878 - mse: 0.0599 - val_loss: 0.1034 - val_mae: 0.2437 - val_mse: 0.1034\n",
      "Epoch 173/500\n",
      "36/36 [==============================] - 0s 4ms/step - loss: 0.0595 - mae: 0.1873 - mse: 0.0595 - val_loss: 0.1043 - val_mae: 0.2450 - val_mse: 0.1043\n",
      "Epoch 174/500\n",
      "36/36 [==============================] - 0s 4ms/step - loss: 0.0593 - mae: 0.1870 - mse: 0.0593 - val_loss: 0.1076 - val_mae: 0.2514 - val_mse: 0.1076\n",
      "Epoch 175/500\n",
      "36/36 [==============================] - 0s 4ms/step - loss: 0.0595 - mae: 0.1889 - mse: 0.0595 - val_loss: 0.1062 - val_mae: 0.2491 - val_mse: 0.1062\n",
      "Epoch 176/500\n",
      "36/36 [==============================] - 0s 4ms/step - loss: 0.0592 - mae: 0.1870 - mse: 0.0592 - val_loss: 0.1040 - val_mae: 0.2443 - val_mse: 0.1040\n",
      "Epoch 177/500\n",
      "36/36 [==============================] - 0s 4ms/step - loss: 0.0591 - mae: 0.1869 - mse: 0.0591 - val_loss: 0.1035 - val_mae: 0.2437 - val_mse: 0.1035\n",
      "Epoch 178/500\n",
      "36/36 [==============================] - 0s 4ms/step - loss: 0.0597 - mae: 0.1892 - mse: 0.0597 - val_loss: 0.1039 - val_mae: 0.2446 - val_mse: 0.1039\n",
      "Epoch 179/500\n",
      "36/36 [==============================] - 0s 4ms/step - loss: 0.0588 - mae: 0.1857 - mse: 0.0588 - val_loss: 0.1047 - val_mae: 0.2447 - val_mse: 0.1047\n",
      "Epoch 180/500\n",
      "36/36 [==============================] - 0s 4ms/step - loss: 0.0589 - mae: 0.1864 - mse: 0.0589 - val_loss: 0.1034 - val_mae: 0.2436 - val_mse: 0.1034\n",
      "Epoch 181/500\n",
      "36/36 [==============================] - 0s 4ms/step - loss: 0.0586 - mae: 0.1855 - mse: 0.0586 - val_loss: 0.1030 - val_mae: 0.2428 - val_mse: 0.1030\n",
      "Epoch 182/500\n",
      "36/36 [==============================] - 0s 4ms/step - loss: 0.0588 - mae: 0.1860 - mse: 0.0588 - val_loss: 0.1034 - val_mae: 0.2431 - val_mse: 0.1034\n",
      "Epoch 183/500\n",
      "36/36 [==============================] - 0s 5ms/step - loss: 0.0586 - mae: 0.1855 - mse: 0.0586 - val_loss: 0.1036 - val_mae: 0.2434 - val_mse: 0.1036\n",
      "Epoch 184/500\n",
      "36/36 [==============================] - 0s 7ms/step - loss: 0.0585 - mae: 0.1856 - mse: 0.0585 - val_loss: 0.1035 - val_mae: 0.2433 - val_mse: 0.1035\n",
      "Epoch 185/500\n",
      "36/36 [==============================] - 0s 7ms/step - loss: 0.0581 - mae: 0.1851 - mse: 0.0581 - val_loss: 0.1041 - val_mae: 0.2450 - val_mse: 0.1041\n",
      "Epoch 186/500\n",
      "36/36 [==============================] - 0s 6ms/step - loss: 0.0580 - mae: 0.1849 - mse: 0.0580 - val_loss: 0.1082 - val_mae: 0.2531 - val_mse: 0.1082\n",
      "Epoch 187/500\n",
      "36/36 [==============================] - 0s 4ms/step - loss: 0.0584 - mae: 0.1857 - mse: 0.0584 - val_loss: 0.1036 - val_mae: 0.2442 - val_mse: 0.1036\n",
      "Epoch 188/500\n",
      "36/36 [==============================] - 0s 4ms/step - loss: 0.0590 - mae: 0.1868 - mse: 0.0590 - val_loss: 0.1068 - val_mae: 0.2501 - val_mse: 0.1068\n",
      "Epoch 189/500\n",
      "36/36 [==============================] - 0s 4ms/step - loss: 0.0580 - mae: 0.1845 - mse: 0.0580 - val_loss: 0.1060 - val_mae: 0.2487 - val_mse: 0.1060\n",
      "Epoch 190/500\n",
      "36/36 [==============================] - 0s 7ms/step - loss: 0.0580 - mae: 0.1852 - mse: 0.0580 - val_loss: 0.1037 - val_mae: 0.2434 - val_mse: 0.1037\n",
      "Epoch 191/500\n",
      "36/36 [==============================] - 0s 7ms/step - loss: 0.0576 - mae: 0.1852 - mse: 0.0576 - val_loss: 0.1032 - val_mae: 0.2430 - val_mse: 0.1032\n",
      "Epoch 192/500\n",
      "36/36 [==============================] - 0s 11ms/step - loss: 0.0577 - mae: 0.1843 - mse: 0.0577 - val_loss: 0.1066 - val_mae: 0.2500 - val_mse: 0.1066\n",
      "Epoch 193/500\n",
      "36/36 [==============================] - 0s 8ms/step - loss: 0.0576 - mae: 0.1841 - mse: 0.0576 - val_loss: 0.1065 - val_mae: 0.2498 - val_mse: 0.1065\n",
      "Epoch 194/500\n",
      "36/36 [==============================] - 0s 14ms/step - loss: 0.0577 - mae: 0.1842 - mse: 0.0577 - val_loss: 0.1049 - val_mae: 0.2464 - val_mse: 0.1049\n",
      "Epoch 195/500\n",
      "36/36 [==============================] - 0s 9ms/step - loss: 0.0575 - mae: 0.1841 - mse: 0.0575 - val_loss: 0.1036 - val_mae: 0.2443 - val_mse: 0.1036\n",
      "Epoch 196/500\n",
      "36/36 [==============================] - 0s 8ms/step - loss: 0.0572 - mae: 0.1834 - mse: 0.0572 - val_loss: 0.1035 - val_mae: 0.2439 - val_mse: 0.1035\n",
      "Epoch 197/500\n",
      "36/36 [==============================] - 0s 7ms/step - loss: 0.0572 - mae: 0.1837 - mse: 0.0572 - val_loss: 0.1037 - val_mae: 0.2433 - val_mse: 0.1037\n",
      "Epoch 198/500\n",
      "36/36 [==============================] - 0s 5ms/step - loss: 0.0575 - mae: 0.1844 - mse: 0.0575 - val_loss: 0.1048 - val_mae: 0.2465 - val_mse: 0.1048\n",
      "Epoch 199/500\n",
      "36/36 [==============================] - 0s 5ms/step - loss: 0.0573 - mae: 0.1842 - mse: 0.0573 - val_loss: 0.1037 - val_mae: 0.2434 - val_mse: 0.1037\n",
      "Epoch 200/500\n",
      "36/36 [==============================] - 0s 5ms/step - loss: 0.0571 - mae: 0.1826 - mse: 0.0571 - val_loss: 0.1073 - val_mae: 0.2510 - val_mse: 0.1073\n",
      "Epoch 201/500\n",
      "36/36 [==============================] - 0s 6ms/step - loss: 0.0574 - mae: 0.1838 - mse: 0.0574 - val_loss: 0.1036 - val_mae: 0.2439 - val_mse: 0.1036\n",
      "Epoch 202/500\n",
      "36/36 [==============================] - 0s 5ms/step - loss: 0.0573 - mae: 0.1835 - mse: 0.0573 - val_loss: 0.1035 - val_mae: 0.2433 - val_mse: 0.1035\n",
      "Epoch 203/500\n",
      "36/36 [==============================] - 0s 6ms/step - loss: 0.0584 - mae: 0.1851 - mse: 0.0584 - val_loss: 0.1082 - val_mae: 0.2533 - val_mse: 0.1082\n",
      "Epoch 204/500\n",
      "36/36 [==============================] - 0s 5ms/step - loss: 0.0568 - mae: 0.1831 - mse: 0.0568 - val_loss: 0.1071 - val_mae: 0.2513 - val_mse: 0.1071\n",
      "Epoch 205/500\n",
      "36/36 [==============================] - 0s 5ms/step - loss: 0.0566 - mae: 0.1827 - mse: 0.0566 - val_loss: 0.1027 - val_mae: 0.2430 - val_mse: 0.1027\n",
      "Epoch 206/500\n",
      "36/36 [==============================] - 0s 5ms/step - loss: 0.0568 - mae: 0.1829 - mse: 0.0568 - val_loss: 0.1053 - val_mae: 0.2479 - val_mse: 0.1053\n",
      "Epoch 207/500\n",
      "36/36 [==============================] - 0s 4ms/step - loss: 0.0567 - mae: 0.1827 - mse: 0.0567 - val_loss: 0.1047 - val_mae: 0.2467 - val_mse: 0.1047\n",
      "Epoch 208/500\n",
      "36/36 [==============================] - 0s 4ms/step - loss: 0.0576 - mae: 0.1844 - mse: 0.0576 - val_loss: 0.1037 - val_mae: 0.2433 - val_mse: 0.1037\n",
      "Epoch 209/500\n",
      "36/36 [==============================] - 0s 4ms/step - loss: 0.0567 - mae: 0.1829 - mse: 0.0567 - val_loss: 0.1058 - val_mae: 0.2490 - val_mse: 0.1058\n",
      "Epoch 210/500\n",
      "36/36 [==============================] - 0s 4ms/step - loss: 0.0570 - mae: 0.1831 - mse: 0.0570 - val_loss: 0.1040 - val_mae: 0.2449 - val_mse: 0.1040\n",
      "Epoch 211/500\n",
      "36/36 [==============================] - 0s 4ms/step - loss: 0.0566 - mae: 0.1829 - mse: 0.0566 - val_loss: 0.1131 - val_mae: 0.2616 - val_mse: 0.1131\n",
      "Epoch 212/500\n",
      "36/36 [==============================] - 0s 4ms/step - loss: 0.0569 - mae: 0.1825 - mse: 0.0569 - val_loss: 0.1030 - val_mae: 0.2432 - val_mse: 0.1030\n",
      "Epoch 213/500\n",
      "36/36 [==============================] - 0s 5ms/step - loss: 0.0561 - mae: 0.1812 - mse: 0.0561 - val_loss: 0.1092 - val_mae: 0.2552 - val_mse: 0.1092\n",
      "Epoch 214/500\n",
      "36/36 [==============================] - 0s 4ms/step - loss: 0.0562 - mae: 0.1819 - mse: 0.0562 - val_loss: 0.1073 - val_mae: 0.2517 - val_mse: 0.1073\n",
      "Epoch 215/500\n",
      "36/36 [==============================] - 0s 4ms/step - loss: 0.0560 - mae: 0.1815 - mse: 0.0560 - val_loss: 0.1044 - val_mae: 0.2461 - val_mse: 0.1044\n",
      "Epoch 216/500\n",
      "36/36 [==============================] - 0s 4ms/step - loss: 0.0558 - mae: 0.1809 - mse: 0.0558 - val_loss: 0.1082 - val_mae: 0.2532 - val_mse: 0.1082\n",
      "Epoch 217/500\n",
      "36/36 [==============================] - 0s 4ms/step - loss: 0.0562 - mae: 0.1813 - mse: 0.0562 - val_loss: 0.1044 - val_mae: 0.2457 - val_mse: 0.1044\n",
      "Epoch 218/500\n",
      "36/36 [==============================] - 0s 4ms/step - loss: 0.0558 - mae: 0.1810 - mse: 0.0558 - val_loss: 0.1065 - val_mae: 0.2508 - val_mse: 0.1065\n",
      "Epoch 219/500\n",
      "36/36 [==============================] - 0s 4ms/step - loss: 0.0559 - mae: 0.1815 - mse: 0.0559 - val_loss: 0.1034 - val_mae: 0.2434 - val_mse: 0.1034\n",
      "Epoch 220/500\n",
      "36/36 [==============================] - 0s 4ms/step - loss: 0.0556 - mae: 0.1806 - mse: 0.0556 - val_loss: 0.1033 - val_mae: 0.2435 - val_mse: 0.1033\n",
      "Epoch 221/500\n",
      "36/36 [==============================] - 0s 4ms/step - loss: 0.0562 - mae: 0.1819 - mse: 0.0562 - val_loss: 0.1040 - val_mae: 0.2452 - val_mse: 0.1040\n",
      "Epoch 222/500\n",
      "36/36 [==============================] - 0s 4ms/step - loss: 0.0555 - mae: 0.1805 - mse: 0.0555 - val_loss: 0.1057 - val_mae: 0.2489 - val_mse: 0.1057\n",
      "Epoch 223/500\n",
      "36/36 [==============================] - 0s 4ms/step - loss: 0.0555 - mae: 0.1805 - mse: 0.0555 - val_loss: 0.1038 - val_mae: 0.2444 - val_mse: 0.1038\n",
      "Epoch 224/500\n",
      "36/36 [==============================] - 0s 4ms/step - loss: 0.0556 - mae: 0.1808 - mse: 0.0556 - val_loss: 0.1088 - val_mae: 0.2547 - val_mse: 0.1088\n",
      "Epoch 225/500\n",
      "36/36 [==============================] - 0s 4ms/step - loss: 0.0558 - mae: 0.1812 - mse: 0.0558 - val_loss: 0.1036 - val_mae: 0.2435 - val_mse: 0.1036\n",
      "Epoch 226/500\n",
      "36/36 [==============================] - 0s 4ms/step - loss: 0.0554 - mae: 0.1799 - mse: 0.0554 - val_loss: 0.1031 - val_mae: 0.2430 - val_mse: 0.1031\n",
      "Epoch 227/500\n",
      "36/36 [==============================] - 0s 4ms/step - loss: 0.0558 - mae: 0.1812 - mse: 0.0558 - val_loss: 0.1133 - val_mae: 0.2624 - val_mse: 0.1133\n",
      "Epoch 228/500\n",
      "36/36 [==============================] - 0s 5ms/step - loss: 0.0555 - mae: 0.1801 - mse: 0.0555 - val_loss: 0.1093 - val_mae: 0.2551 - val_mse: 0.1093\n",
      "Epoch 229/500\n",
      "36/36 [==============================] - 0s 7ms/step - loss: 0.0553 - mae: 0.1801 - mse: 0.0553 - val_loss: 0.1049 - val_mae: 0.2463 - val_mse: 0.1049\n",
      "Epoch 230/500\n",
      "36/36 [==============================] - 0s 7ms/step - loss: 0.0551 - mae: 0.1798 - mse: 0.0551 - val_loss: 0.1063 - val_mae: 0.2501 - val_mse: 0.1063\n",
      "Epoch 231/500\n",
      "36/36 [==============================] - 0s 7ms/step - loss: 0.0553 - mae: 0.1803 - mse: 0.0553 - val_loss: 0.1054 - val_mae: 0.2482 - val_mse: 0.1054\n",
      "Epoch 232/500\n",
      "36/36 [==============================] - 0s 6ms/step - loss: 0.0550 - mae: 0.1798 - mse: 0.0550 - val_loss: 0.1064 - val_mae: 0.2501 - val_mse: 0.1064\n",
      "Epoch 233/500\n",
      "36/36 [==============================] - 0s 12ms/step - loss: 0.0551 - mae: 0.1801 - mse: 0.0551 - val_loss: 0.1037 - val_mae: 0.2443 - val_mse: 0.1037\n",
      "Epoch 234/500\n",
      "36/36 [==============================] - 0s 11ms/step - loss: 0.0556 - mae: 0.1806 - mse: 0.0556 - val_loss: 0.1076 - val_mae: 0.2524 - val_mse: 0.1076\n",
      "Epoch 235/500\n",
      "36/36 [==============================] - 0s 8ms/step - loss: 0.0554 - mae: 0.1814 - mse: 0.0554 - val_loss: 0.1079 - val_mae: 0.2534 - val_mse: 0.1079\n",
      "Epoch 236/500\n",
      "36/36 [==============================] - 0s 5ms/step - loss: 0.0548 - mae: 0.1794 - mse: 0.0548 - val_loss: 0.1035 - val_mae: 0.2440 - val_mse: 0.1035\n",
      "Epoch 237/500\n",
      "36/36 [==============================] - 0s 6ms/step - loss: 0.0551 - mae: 0.1798 - mse: 0.0551 - val_loss: 0.1060 - val_mae: 0.2489 - val_mse: 0.1060\n",
      "Epoch 238/500\n",
      "36/36 [==============================] - 0s 11ms/step - loss: 0.0552 - mae: 0.1805 - mse: 0.0552 - val_loss: 0.1030 - val_mae: 0.2432 - val_mse: 0.1030\n",
      "Epoch 239/500\n",
      "36/36 [==============================] - 0s 6ms/step - loss: 0.0546 - mae: 0.1788 - mse: 0.0546 - val_loss: 0.1038 - val_mae: 0.2441 - val_mse: 0.1038\n",
      "Epoch 240/500\n",
      "36/36 [==============================] - 0s 4ms/step - loss: 0.0553 - mae: 0.1812 - mse: 0.0553 - val_loss: 0.1060 - val_mae: 0.2495 - val_mse: 0.1060\n",
      "Epoch 241/500\n",
      "36/36 [==============================] - 0s 4ms/step - loss: 0.0547 - mae: 0.1797 - mse: 0.0547 - val_loss: 0.1032 - val_mae: 0.2433 - val_mse: 0.1032\n",
      "Epoch 242/500\n",
      "36/36 [==============================] - 0s 4ms/step - loss: 0.0546 - mae: 0.1798 - mse: 0.0546 - val_loss: 0.1110 - val_mae: 0.2588 - val_mse: 0.1110\n",
      "Epoch 243/500\n",
      "36/36 [==============================] - 0s 4ms/step - loss: 0.0546 - mae: 0.1793 - mse: 0.0546 - val_loss: 0.1036 - val_mae: 0.2439 - val_mse: 0.1036\n",
      "Epoch 244/500\n",
      "36/36 [==============================] - 0s 6ms/step - loss: 0.0547 - mae: 0.1792 - mse: 0.0547 - val_loss: 0.1068 - val_mae: 0.2505 - val_mse: 0.1068\n",
      "Epoch 245/500\n",
      "36/36 [==============================] - 0s 5ms/step - loss: 0.0550 - mae: 0.1797 - mse: 0.0550 - val_loss: 0.1069 - val_mae: 0.2506 - val_mse: 0.1069\n",
      "Epoch 246/500\n",
      "36/36 [==============================] - 0s 4ms/step - loss: 0.0545 - mae: 0.1791 - mse: 0.0545 - val_loss: 0.1052 - val_mae: 0.2480 - val_mse: 0.1052\n",
      "Epoch 247/500\n",
      "36/36 [==============================] - 0s 4ms/step - loss: 0.0545 - mae: 0.1789 - mse: 0.0545 - val_loss: 0.1032 - val_mae: 0.2433 - val_mse: 0.1032\n",
      "Epoch 248/500\n",
      "36/36 [==============================] - 0s 4ms/step - loss: 0.0542 - mae: 0.1784 - mse: 0.0542 - val_loss: 0.1075 - val_mae: 0.2524 - val_mse: 0.1075\n",
      "Epoch 249/500\n",
      "36/36 [==============================] - 0s 4ms/step - loss: 0.0549 - mae: 0.1801 - mse: 0.0549 - val_loss: 0.1049 - val_mae: 0.2458 - val_mse: 0.1049\n",
      "Epoch 250/500\n",
      "36/36 [==============================] - 0s 6ms/step - loss: 0.0551 - mae: 0.1797 - mse: 0.0551 - val_loss: 0.1078 - val_mae: 0.2521 - val_mse: 0.1078\n",
      "Epoch 251/500\n",
      "36/36 [==============================] - 0s 6ms/step - loss: 0.0542 - mae: 0.1783 - mse: 0.0542 - val_loss: 0.1043 - val_mae: 0.2455 - val_mse: 0.1043\n",
      "Epoch 252/500\n",
      "36/36 [==============================] - 0s 6ms/step - loss: 0.0543 - mae: 0.1785 - mse: 0.0543 - val_loss: 0.1052 - val_mae: 0.2471 - val_mse: 0.1052\n",
      "Epoch 253/500\n",
      "36/36 [==============================] - 0s 4ms/step - loss: 0.0540 - mae: 0.1783 - mse: 0.0540 - val_loss: 0.1050 - val_mae: 0.2466 - val_mse: 0.1050\n",
      "Epoch 254/500\n",
      "36/36 [==============================] - 0s 4ms/step - loss: 0.0540 - mae: 0.1785 - mse: 0.0540 - val_loss: 0.1061 - val_mae: 0.2491 - val_mse: 0.1061\n",
      "Epoch 255/500\n",
      "36/36 [==============================] - 0s 5ms/step - loss: 0.0541 - mae: 0.1778 - mse: 0.0541 - val_loss: 0.1033 - val_mae: 0.2437 - val_mse: 0.1033\n",
      "Epoch 256/500\n",
      "36/36 [==============================] - 0s 4ms/step - loss: 0.0543 - mae: 0.1782 - mse: 0.0543 - val_loss: 0.1076 - val_mae: 0.2525 - val_mse: 0.1076\n",
      "Epoch 257/500\n",
      "36/36 [==============================] - 0s 4ms/step - loss: 0.0540 - mae: 0.1789 - mse: 0.0540 - val_loss: 0.1065 - val_mae: 0.2503 - val_mse: 0.1065\n",
      "Epoch 258/500\n",
      "36/36 [==============================] - 0s 4ms/step - loss: 0.0543 - mae: 0.1784 - mse: 0.0543 - val_loss: 0.1037 - val_mae: 0.2444 - val_mse: 0.1037\n",
      "Epoch 259/500\n",
      "36/36 [==============================] - 0s 4ms/step - loss: 0.0540 - mae: 0.1779 - mse: 0.0540 - val_loss: 0.1051 - val_mae: 0.2472 - val_mse: 0.1051\n",
      "Epoch 260/500\n",
      "36/36 [==============================] - 0s 4ms/step - loss: 0.0543 - mae: 0.1788 - mse: 0.0543 - val_loss: 0.1039 - val_mae: 0.2450 - val_mse: 0.1039\n",
      "Epoch 261/500\n",
      "36/36 [==============================] - 0s 7ms/step - loss: 0.0542 - mae: 0.1793 - mse: 0.0542 - val_loss: 0.1042 - val_mae: 0.2452 - val_mse: 0.1042\n",
      "Epoch 262/500\n",
      "36/36 [==============================] - 0s 4ms/step - loss: 0.0541 - mae: 0.1784 - mse: 0.0541 - val_loss: 0.1035 - val_mae: 0.2441 - val_mse: 0.1035\n",
      "Epoch 263/500\n",
      "36/36 [==============================] - 0s 4ms/step - loss: 0.0542 - mae: 0.1789 - mse: 0.0542 - val_loss: 0.1141 - val_mae: 0.2641 - val_mse: 0.1141\n",
      "Epoch 264/500\n",
      "36/36 [==============================] - 0s 5ms/step - loss: 0.0543 - mae: 0.1798 - mse: 0.0543 - val_loss: 0.1042 - val_mae: 0.2455 - val_mse: 0.1042\n",
      "Epoch 265/500\n",
      "36/36 [==============================] - 0s 4ms/step - loss: 0.0538 - mae: 0.1782 - mse: 0.0538 - val_loss: 0.1070 - val_mae: 0.2508 - val_mse: 0.1070\n",
      "Epoch 266/500\n",
      "36/36 [==============================] - 0s 4ms/step - loss: 0.0542 - mae: 0.1783 - mse: 0.0542 - val_loss: 0.1079 - val_mae: 0.2529 - val_mse: 0.1079\n",
      "Epoch 267/500\n",
      "36/36 [==============================] - 0s 4ms/step - loss: 0.0539 - mae: 0.1782 - mse: 0.0539 - val_loss: 0.1033 - val_mae: 0.2443 - val_mse: 0.1033\n",
      "Epoch 268/500\n",
      "36/36 [==============================] - 0s 4ms/step - loss: 0.0535 - mae: 0.1770 - mse: 0.0535 - val_loss: 0.1063 - val_mae: 0.2501 - val_mse: 0.1063\n",
      "Epoch 269/500\n",
      "36/36 [==============================] - 0s 4ms/step - loss: 0.0537 - mae: 0.1780 - mse: 0.0537 - val_loss: 0.1041 - val_mae: 0.2455 - val_mse: 0.1041\n",
      "Epoch 270/500\n",
      "36/36 [==============================] - 0s 4ms/step - loss: 0.0540 - mae: 0.1785 - mse: 0.0540 - val_loss: 0.1054 - val_mae: 0.2480 - val_mse: 0.1054\n",
      "Epoch 271/500\n",
      "36/36 [==============================] - 0s 4ms/step - loss: 0.0538 - mae: 0.1780 - mse: 0.0538 - val_loss: 0.1151 - val_mae: 0.2657 - val_mse: 0.1151\n",
      "Epoch 272/500\n",
      "36/36 [==============================] - 0s 4ms/step - loss: 0.0539 - mae: 0.1776 - mse: 0.0539 - val_loss: 0.1127 - val_mae: 0.2617 - val_mse: 0.1127\n",
      "Epoch 273/500\n",
      "36/36 [==============================] - 0s 4ms/step - loss: 0.0545 - mae: 0.1791 - mse: 0.0545 - val_loss: 0.1084 - val_mae: 0.2549 - val_mse: 0.1084\n",
      "Epoch 274/500\n",
      "36/36 [==============================] - 0s 4ms/step - loss: 0.0534 - mae: 0.1771 - mse: 0.0534 - val_loss: 0.1062 - val_mae: 0.2501 - val_mse: 0.1062\n",
      "Epoch 275/500\n",
      "36/36 [==============================] - 0s 6ms/step - loss: 0.0534 - mae: 0.1771 - mse: 0.0534 - val_loss: 0.1041 - val_mae: 0.2464 - val_mse: 0.1041\n",
      "Epoch 276/500\n",
      "36/36 [==============================] - 0s 5ms/step - loss: 0.0538 - mae: 0.1778 - mse: 0.0538 - val_loss: 0.1061 - val_mae: 0.2501 - val_mse: 0.1061\n",
      "Epoch 277/500\n",
      "36/36 [==============================] - 0s 5ms/step - loss: 0.0537 - mae: 0.1790 - mse: 0.0537 - val_loss: 0.1041 - val_mae: 0.2456 - val_mse: 0.1041\n",
      "Epoch 278/500\n",
      "36/36 [==============================] - 0s 4ms/step - loss: 0.0532 - mae: 0.1770 - mse: 0.0532 - val_loss: 0.1054 - val_mae: 0.2481 - val_mse: 0.1054\n",
      "Epoch 279/500\n",
      "36/36 [==============================] - 0s 4ms/step - loss: 0.0535 - mae: 0.1772 - mse: 0.0535 - val_loss: 0.1060 - val_mae: 0.2498 - val_mse: 0.1060\n",
      "Epoch 280/500\n",
      "36/36 [==============================] - 0s 5ms/step - loss: 0.0536 - mae: 0.1780 - mse: 0.0536 - val_loss: 0.1041 - val_mae: 0.2454 - val_mse: 0.1041\n",
      "Epoch 281/500\n",
      "36/36 [==============================] - 0s 4ms/step - loss: 0.0531 - mae: 0.1768 - mse: 0.0531 - val_loss: 0.1123 - val_mae: 0.2617 - val_mse: 0.1123\n",
      "Epoch 282/500\n",
      "36/36 [==============================] - 0s 5ms/step - loss: 0.0531 - mae: 0.1767 - mse: 0.0531 - val_loss: 0.1179 - val_mae: 0.2699 - val_mse: 0.1179\n",
      "Epoch 283/500\n",
      "36/36 [==============================] - 0s 4ms/step - loss: 0.0535 - mae: 0.1773 - mse: 0.0535 - val_loss: 0.1033 - val_mae: 0.2442 - val_mse: 0.1033\n",
      "Epoch 284/500\n",
      "36/36 [==============================] - 0s 4ms/step - loss: 0.0531 - mae: 0.1766 - mse: 0.0531 - val_loss: 0.1036 - val_mae: 0.2457 - val_mse: 0.1036\n",
      "Epoch 285/500\n",
      "36/36 [==============================] - 0s 7ms/step - loss: 0.0533 - mae: 0.1769 - mse: 0.0533 - val_loss: 0.1037 - val_mae: 0.2451 - val_mse: 0.1037\n",
      "Epoch 286/500\n",
      "36/36 [==============================] - 0s 5ms/step - loss: 0.0529 - mae: 0.1761 - mse: 0.0529 - val_loss: 0.1038 - val_mae: 0.2453 - val_mse: 0.1038\n",
      "Epoch 287/500\n",
      "36/36 [==============================] - 0s 5ms/step - loss: 0.0531 - mae: 0.1762 - mse: 0.0531 - val_loss: 0.1075 - val_mae: 0.2534 - val_mse: 0.1075\n",
      "Epoch 288/500\n",
      "36/36 [==============================] - 0s 7ms/step - loss: 0.0527 - mae: 0.1765 - mse: 0.0527 - val_loss: 0.1035 - val_mae: 0.2452 - val_mse: 0.1035\n",
      "Epoch 289/500\n",
      "36/36 [==============================] - 0s 5ms/step - loss: 0.0532 - mae: 0.1766 - mse: 0.0532 - val_loss: 0.1055 - val_mae: 0.2485 - val_mse: 0.1055\n",
      "Epoch 290/500\n",
      "36/36 [==============================] - 0s 6ms/step - loss: 0.0537 - mae: 0.1782 - mse: 0.0537 - val_loss: 0.1080 - val_mae: 0.2540 - val_mse: 0.1080\n",
      "Epoch 291/500\n",
      "36/36 [==============================] - 0s 5ms/step - loss: 0.0531 - mae: 0.1773 - mse: 0.0531 - val_loss: 0.1057 - val_mae: 0.2490 - val_mse: 0.1057\n",
      "Epoch 292/500\n",
      "36/36 [==============================] - 0s 5ms/step - loss: 0.0529 - mae: 0.1763 - mse: 0.0529 - val_loss: 0.1055 - val_mae: 0.2483 - val_mse: 0.1055\n",
      "Epoch 293/500\n",
      "36/36 [==============================] - 0s 4ms/step - loss: 0.0532 - mae: 0.1769 - mse: 0.0532 - val_loss: 0.1047 - val_mae: 0.2472 - val_mse: 0.1047\n",
      "Epoch 294/500\n",
      "36/36 [==============================] - 0s 4ms/step - loss: 0.0530 - mae: 0.1766 - mse: 0.0530 - val_loss: 0.1104 - val_mae: 0.2589 - val_mse: 0.1104\n",
      "Epoch 295/500\n",
      "36/36 [==============================] - 0s 6ms/step - loss: 0.0531 - mae: 0.1766 - mse: 0.0531 - val_loss: 0.1058 - val_mae: 0.2493 - val_mse: 0.1058\n",
      "Epoch 296/500\n",
      "36/36 [==============================] - 0s 5ms/step - loss: 0.0527 - mae: 0.1763 - mse: 0.0527 - val_loss: 0.1045 - val_mae: 0.2472 - val_mse: 0.1045\n",
      "Epoch 297/500\n",
      "36/36 [==============================] - 0s 5ms/step - loss: 0.0526 - mae: 0.1761 - mse: 0.0526 - val_loss: 0.1132 - val_mae: 0.2635 - val_mse: 0.1132\n",
      "Epoch 298/500\n",
      "36/36 [==============================] - 0s 4ms/step - loss: 0.0528 - mae: 0.1765 - mse: 0.0528 - val_loss: 0.1054 - val_mae: 0.2489 - val_mse: 0.1054\n",
      "Epoch 299/500\n",
      "36/36 [==============================] - 0s 5ms/step - loss: 0.0528 - mae: 0.1760 - mse: 0.0528 - val_loss: 0.1091 - val_mae: 0.2564 - val_mse: 0.1091\n",
      "Epoch 300/500\n",
      "36/36 [==============================] - 0s 4ms/step - loss: 0.0529 - mae: 0.1761 - mse: 0.0529 - val_loss: 0.1034 - val_mae: 0.2449 - val_mse: 0.1034\n",
      "Epoch 301/500\n",
      "36/36 [==============================] - 0s 4ms/step - loss: 0.0528 - mae: 0.1760 - mse: 0.0528 - val_loss: 0.1062 - val_mae: 0.2507 - val_mse: 0.1062\n",
      "Epoch 302/500\n",
      "36/36 [==============================] - 0s 5ms/step - loss: 0.0526 - mae: 0.1765 - mse: 0.0526 - val_loss: 0.1036 - val_mae: 0.2456 - val_mse: 0.1036\n",
      "Epoch 303/500\n",
      "36/36 [==============================] - 0s 4ms/step - loss: 0.0525 - mae: 0.1752 - mse: 0.0525 - val_loss: 0.1041 - val_mae: 0.2463 - val_mse: 0.1041\n",
      "Epoch 304/500\n",
      "36/36 [==============================] - 0s 4ms/step - loss: 0.0525 - mae: 0.1757 - mse: 0.0525 - val_loss: 0.1077 - val_mae: 0.2537 - val_mse: 0.1077\n",
      "Epoch 305/500\n",
      "36/36 [==============================] - 0s 4ms/step - loss: 0.0529 - mae: 0.1764 - mse: 0.0529 - val_loss: 0.1044 - val_mae: 0.2471 - val_mse: 0.1044\n",
      "Epoch 306/500\n",
      "36/36 [==============================] - 0s 4ms/step - loss: 0.0525 - mae: 0.1757 - mse: 0.0525 - val_loss: 0.1042 - val_mae: 0.2460 - val_mse: 0.1042\n",
      "Epoch 307/500\n",
      "36/36 [==============================] - 0s 4ms/step - loss: 0.0526 - mae: 0.1758 - mse: 0.0526 - val_loss: 0.1043 - val_mae: 0.2468 - val_mse: 0.1043\n",
      "Epoch 308/500\n",
      "36/36 [==============================] - 0s 4ms/step - loss: 0.0529 - mae: 0.1767 - mse: 0.0529 - val_loss: 0.1055 - val_mae: 0.2489 - val_mse: 0.1055\n",
      "Epoch 309/500\n",
      "36/36 [==============================] - 0s 4ms/step - loss: 0.0523 - mae: 0.1754 - mse: 0.0523 - val_loss: 0.1032 - val_mae: 0.2446 - val_mse: 0.1032\n",
      "Epoch 310/500\n",
      "36/36 [==============================] - 0s 5ms/step - loss: 0.0525 - mae: 0.1753 - mse: 0.0525 - val_loss: 0.1051 - val_mae: 0.2486 - val_mse: 0.1051\n",
      "Epoch 311/500\n",
      "36/36 [==============================] - 0s 5ms/step - loss: 0.0527 - mae: 0.1758 - mse: 0.0527 - val_loss: 0.1040 - val_mae: 0.2469 - val_mse: 0.1040\n",
      "Epoch 312/500\n",
      "36/36 [==============================] - 0s 5ms/step - loss: 0.0524 - mae: 0.1757 - mse: 0.0524 - val_loss: 0.1041 - val_mae: 0.2464 - val_mse: 0.1041\n",
      "Epoch 313/500\n",
      "36/36 [==============================] - 0s 8ms/step - loss: 0.0522 - mae: 0.1754 - mse: 0.0522 - val_loss: 0.1030 - val_mae: 0.2445 - val_mse: 0.1030\n",
      "Epoch 314/500\n",
      "36/36 [==============================] - 0s 5ms/step - loss: 0.0526 - mae: 0.1757 - mse: 0.0526 - val_loss: 0.1089 - val_mae: 0.2559 - val_mse: 0.1089\n",
      "Epoch 315/500\n",
      "36/36 [==============================] - 0s 4ms/step - loss: 0.0531 - mae: 0.1760 - mse: 0.0531 - val_loss: 0.1036 - val_mae: 0.2454 - val_mse: 0.1036\n",
      "Epoch 316/500\n",
      "36/36 [==============================] - 0s 5ms/step - loss: 0.0526 - mae: 0.1763 - mse: 0.0526 - val_loss: 0.1062 - val_mae: 0.2507 - val_mse: 0.1062\n",
      "Epoch 317/500\n",
      "36/36 [==============================] - 0s 5ms/step - loss: 0.0521 - mae: 0.1749 - mse: 0.0521 - val_loss: 0.1042 - val_mae: 0.2468 - val_mse: 0.1042\n",
      "Epoch 318/500\n",
      "36/36 [==============================] - 0s 4ms/step - loss: 0.0522 - mae: 0.1750 - mse: 0.0522 - val_loss: 0.1051 - val_mae: 0.2486 - val_mse: 0.1051\n",
      "Epoch 319/500\n",
      "36/36 [==============================] - 0s 4ms/step - loss: 0.0525 - mae: 0.1762 - mse: 0.0525 - val_loss: 0.1060 - val_mae: 0.2508 - val_mse: 0.1060\n",
      "Epoch 320/500\n",
      "36/36 [==============================] - 0s 4ms/step - loss: 0.0523 - mae: 0.1756 - mse: 0.0523 - val_loss: 0.1041 - val_mae: 0.2471 - val_mse: 0.1041\n",
      "Epoch 321/500\n",
      "36/36 [==============================] - 0s 4ms/step - loss: 0.0525 - mae: 0.1761 - mse: 0.0525 - val_loss: 0.1029 - val_mae: 0.2443 - val_mse: 0.1029\n",
      "Epoch 322/500\n",
      "36/36 [==============================] - 0s 4ms/step - loss: 0.0520 - mae: 0.1749 - mse: 0.0520 - val_loss: 0.1079 - val_mae: 0.2548 - val_mse: 0.1079\n",
      "Epoch 323/500\n",
      "36/36 [==============================] - 0s 8ms/step - loss: 0.0520 - mae: 0.1748 - mse: 0.0520 - val_loss: 0.1036 - val_mae: 0.2461 - val_mse: 0.1036\n",
      "Epoch 324/500\n",
      "36/36 [==============================] - 0s 5ms/step - loss: 0.0520 - mae: 0.1748 - mse: 0.0520 - val_loss: 0.1030 - val_mae: 0.2447 - val_mse: 0.1030\n",
      "Epoch 325/500\n",
      "36/36 [==============================] - 0s 4ms/step - loss: 0.0518 - mae: 0.1748 - mse: 0.0518 - val_loss: 0.1132 - val_mae: 0.2637 - val_mse: 0.1132\n",
      "Epoch 326/500\n",
      "36/36 [==============================] - 0s 5ms/step - loss: 0.0523 - mae: 0.1753 - mse: 0.0523 - val_loss: 0.1062 - val_mae: 0.2508 - val_mse: 0.1062\n",
      "Epoch 327/500\n",
      "36/36 [==============================] - 0s 5ms/step - loss: 0.0520 - mae: 0.1758 - mse: 0.0520 - val_loss: 0.1102 - val_mae: 0.2594 - val_mse: 0.1102\n",
      "Epoch 328/500\n",
      "36/36 [==============================] - 0s 5ms/step - loss: 0.0519 - mae: 0.1747 - mse: 0.0519 - val_loss: 0.1137 - val_mae: 0.2642 - val_mse: 0.1137\n",
      "Epoch 329/500\n",
      "36/36 [==============================] - 0s 4ms/step - loss: 0.0535 - mae: 0.1777 - mse: 0.0535 - val_loss: 0.1028 - val_mae: 0.2445 - val_mse: 0.1028\n",
      "Epoch 330/500\n",
      "36/36 [==============================] - 0s 4ms/step - loss: 0.0521 - mae: 0.1753 - mse: 0.0521 - val_loss: 0.1048 - val_mae: 0.2481 - val_mse: 0.1048\n",
      "Epoch 331/500\n",
      "36/36 [==============================] - 0s 4ms/step - loss: 0.0527 - mae: 0.1764 - mse: 0.0527 - val_loss: 0.1049 - val_mae: 0.2479 - val_mse: 0.1049\n",
      "Epoch 332/500\n",
      "36/36 [==============================] - 0s 3ms/step - loss: 0.0520 - mae: 0.1753 - mse: 0.0520 - val_loss: 0.1051 - val_mae: 0.2489 - val_mse: 0.1051\n",
      "Epoch 333/500\n",
      "36/36 [==============================] - 0s 4ms/step - loss: 0.0517 - mae: 0.1741 - mse: 0.0517 - val_loss: 0.1042 - val_mae: 0.2476 - val_mse: 0.1042\n",
      "Epoch 334/500\n",
      "36/36 [==============================] - 0s 4ms/step - loss: 0.0517 - mae: 0.1749 - mse: 0.0517 - val_loss: 0.1052 - val_mae: 0.2495 - val_mse: 0.1052\n",
      "Epoch 335/500\n",
      "36/36 [==============================] - 0s 5ms/step - loss: 0.0518 - mae: 0.1746 - mse: 0.0518 - val_loss: 0.1061 - val_mae: 0.2515 - val_mse: 0.1061\n",
      "Epoch 336/500\n",
      "36/36 [==============================] - 0s 5ms/step - loss: 0.0517 - mae: 0.1744 - mse: 0.0517 - val_loss: 0.1035 - val_mae: 0.2460 - val_mse: 0.1035\n",
      "Epoch 337/500\n",
      "36/36 [==============================] - 0s 5ms/step - loss: 0.0518 - mae: 0.1749 - mse: 0.0518 - val_loss: 0.1049 - val_mae: 0.2494 - val_mse: 0.1049\n",
      "Epoch 338/500\n",
      "36/36 [==============================] - 0s 5ms/step - loss: 0.0518 - mae: 0.1749 - mse: 0.0518 - val_loss: 0.1044 - val_mae: 0.2480 - val_mse: 0.1044\n",
      "Epoch 339/500\n",
      "36/36 [==============================] - 0s 5ms/step - loss: 0.0515 - mae: 0.1744 - mse: 0.0515 - val_loss: 0.1090 - val_mae: 0.2574 - val_mse: 0.1090\n",
      "Epoch 340/500\n",
      "36/36 [==============================] - 0s 5ms/step - loss: 0.0515 - mae: 0.1738 - mse: 0.0515 - val_loss: 0.1030 - val_mae: 0.2451 - val_mse: 0.1030\n",
      "Epoch 341/500\n",
      "36/36 [==============================] - 0s 4ms/step - loss: 0.0519 - mae: 0.1745 - mse: 0.0519 - val_loss: 0.1160 - val_mae: 0.2683 - val_mse: 0.1160\n",
      "Epoch 342/500\n",
      "36/36 [==============================] - 0s 4ms/step - loss: 0.0519 - mae: 0.1750 - mse: 0.0519 - val_loss: 0.1048 - val_mae: 0.2481 - val_mse: 0.1048\n",
      "Epoch 343/500\n",
      "36/36 [==============================] - 0s 4ms/step - loss: 0.0516 - mae: 0.1745 - mse: 0.0516 - val_loss: 0.1076 - val_mae: 0.2547 - val_mse: 0.1076\n",
      "Epoch 344/500\n",
      "36/36 [==============================] - 0s 5ms/step - loss: 0.0516 - mae: 0.1740 - mse: 0.0516 - val_loss: 0.1048 - val_mae: 0.2487 - val_mse: 0.1048\n",
      "Epoch 345/500\n",
      "36/36 [==============================] - 0s 6ms/step - loss: 0.0519 - mae: 0.1743 - mse: 0.0519 - val_loss: 0.1082 - val_mae: 0.2558 - val_mse: 0.1082\n",
      "Epoch 346/500\n",
      "36/36 [==============================] - 0s 12ms/step - loss: 0.0516 - mae: 0.1747 - mse: 0.0516 - val_loss: 0.1031 - val_mae: 0.2454 - val_mse: 0.1031\n",
      "Epoch 347/500\n",
      "36/36 [==============================] - 0s 5ms/step - loss: 0.0516 - mae: 0.1745 - mse: 0.0516 - val_loss: 0.1066 - val_mae: 0.2524 - val_mse: 0.1066\n",
      "Epoch 348/500\n",
      "36/36 [==============================] - 0s 5ms/step - loss: 0.0515 - mae: 0.1742 - mse: 0.0515 - val_loss: 0.1099 - val_mae: 0.2589 - val_mse: 0.1099\n",
      "Epoch 349/500\n",
      "36/36 [==============================] - 0s 5ms/step - loss: 0.0521 - mae: 0.1756 - mse: 0.0521 - val_loss: 0.1040 - val_mae: 0.2480 - val_mse: 0.1040\n",
      "Epoch 350/500\n",
      "36/36 [==============================] - 0s 5ms/step - loss: 0.0519 - mae: 0.1750 - mse: 0.0519 - val_loss: 0.1033 - val_mae: 0.2459 - val_mse: 0.1033\n",
      "Epoch 351/500\n",
      "36/36 [==============================] - 0s 4ms/step - loss: 0.0517 - mae: 0.1749 - mse: 0.0517 - val_loss: 0.1028 - val_mae: 0.2454 - val_mse: 0.1028\n",
      "Epoch 352/500\n",
      "36/36 [==============================] - 0s 4ms/step - loss: 0.0513 - mae: 0.1740 - mse: 0.0513 - val_loss: 0.1038 - val_mae: 0.2471 - val_mse: 0.1038\n",
      "Epoch 353/500\n",
      "36/36 [==============================] - 0s 4ms/step - loss: 0.0515 - mae: 0.1739 - mse: 0.0515 - val_loss: 0.1038 - val_mae: 0.2474 - val_mse: 0.1038\n",
      "Epoch 354/500\n",
      "36/36 [==============================] - 0s 4ms/step - loss: 0.0516 - mae: 0.1742 - mse: 0.0516 - val_loss: 0.1068 - val_mae: 0.2530 - val_mse: 0.1068\n",
      "Epoch 355/500\n",
      "36/36 [==============================] - 0s 5ms/step - loss: 0.0516 - mae: 0.1747 - mse: 0.0516 - val_loss: 0.1030 - val_mae: 0.2454 - val_mse: 0.1030\n",
      "Epoch 356/500\n",
      "36/36 [==============================] - 0s 4ms/step - loss: 0.0515 - mae: 0.1742 - mse: 0.0515 - val_loss: 0.1031 - val_mae: 0.2459 - val_mse: 0.1031\n",
      "Epoch 357/500\n",
      "36/36 [==============================] - 0s 4ms/step - loss: 0.0515 - mae: 0.1741 - mse: 0.0515 - val_loss: 0.1078 - val_mae: 0.2553 - val_mse: 0.1078\n",
      "Epoch 358/500\n",
      "36/36 [==============================] - 0s 5ms/step - loss: 0.0515 - mae: 0.1742 - mse: 0.0515 - val_loss: 0.1158 - val_mae: 0.2683 - val_mse: 0.1158\n",
      "Epoch 359/500\n",
      "36/36 [==============================] - 0s 4ms/step - loss: 0.0521 - mae: 0.1752 - mse: 0.0521 - val_loss: 0.1030 - val_mae: 0.2458 - val_mse: 0.1030\n",
      "Epoch 360/500\n",
      "36/36 [==============================] - 0s 3ms/step - loss: 0.0512 - mae: 0.1740 - mse: 0.0512 - val_loss: 0.1050 - val_mae: 0.2504 - val_mse: 0.1050\n",
      "Epoch 361/500\n",
      "36/36 [==============================] - 0s 6ms/step - loss: 0.0512 - mae: 0.1741 - mse: 0.0512 - val_loss: 0.1064 - val_mae: 0.2530 - val_mse: 0.1064\n",
      "Epoch 362/500\n",
      "36/36 [==============================] - 0s 6ms/step - loss: 0.0517 - mae: 0.1742 - mse: 0.0517 - val_loss: 0.1065 - val_mae: 0.2524 - val_mse: 0.1065\n",
      "Epoch 363/500\n",
      "36/36 [==============================] - 0s 8ms/step - loss: 0.0512 - mae: 0.1738 - mse: 0.0512 - val_loss: 0.1067 - val_mae: 0.2532 - val_mse: 0.1067\n",
      "Epoch 364/500\n",
      "36/36 [==============================] - 0s 5ms/step - loss: 0.0512 - mae: 0.1738 - mse: 0.0512 - val_loss: 0.1081 - val_mae: 0.2556 - val_mse: 0.1081\n",
      "Epoch 365/500\n",
      "36/36 [==============================] - 0s 5ms/step - loss: 0.0513 - mae: 0.1740 - mse: 0.0513 - val_loss: 0.1076 - val_mae: 0.2549 - val_mse: 0.1076\n",
      "Epoch 366/500\n",
      "36/36 [==============================] - 0s 9ms/step - loss: 0.0510 - mae: 0.1730 - mse: 0.0510 - val_loss: 0.1121 - val_mae: 0.2628 - val_mse: 0.1121\n",
      "Epoch 367/500\n",
      "36/36 [==============================] - 0s 6ms/step - loss: 0.0517 - mae: 0.1739 - mse: 0.0517 - val_loss: 0.1025 - val_mae: 0.2451 - val_mse: 0.1025\n",
      "Epoch 368/500\n",
      "36/36 [==============================] - 0s 5ms/step - loss: 0.0515 - mae: 0.1739 - mse: 0.0515 - val_loss: 0.1117 - val_mae: 0.2620 - val_mse: 0.1117\n",
      "Epoch 369/500\n",
      "36/36 [==============================] - 0s 4ms/step - loss: 0.0511 - mae: 0.1728 - mse: 0.0511 - val_loss: 0.1106 - val_mae: 0.2602 - val_mse: 0.1106\n",
      "Epoch 370/500\n",
      "36/36 [==============================] - 0s 5ms/step - loss: 0.0508 - mae: 0.1727 - mse: 0.0508 - val_loss: 0.1107 - val_mae: 0.2604 - val_mse: 0.1107\n",
      "Epoch 371/500\n",
      "36/36 [==============================] - 0s 5ms/step - loss: 0.0511 - mae: 0.1739 - mse: 0.0511 - val_loss: 0.1021 - val_mae: 0.2446 - val_mse: 0.1021\n",
      "Epoch 372/500\n",
      "36/36 [==============================] - 0s 5ms/step - loss: 0.0518 - mae: 0.1751 - mse: 0.0518 - val_loss: 0.1060 - val_mae: 0.2522 - val_mse: 0.1060\n",
      "Epoch 373/500\n",
      "36/36 [==============================] - 0s 4ms/step - loss: 0.0507 - mae: 0.1727 - mse: 0.0507 - val_loss: 0.1113 - val_mae: 0.2617 - val_mse: 0.1113\n",
      "Epoch 374/500\n",
      "36/36 [==============================] - 0s 5ms/step - loss: 0.0527 - mae: 0.1759 - mse: 0.0527 - val_loss: 0.1055 - val_mae: 0.2497 - val_mse: 0.1055\n",
      "Epoch 375/500\n",
      "36/36 [==============================] - 0s 7ms/step - loss: 0.0517 - mae: 0.1752 - mse: 0.0517 - val_loss: 0.1076 - val_mae: 0.2544 - val_mse: 0.1076\n",
      "Epoch 376/500\n",
      "36/36 [==============================] - 0s 4ms/step - loss: 0.0513 - mae: 0.1743 - mse: 0.0513 - val_loss: 0.1114 - val_mae: 0.2616 - val_mse: 0.1114\n",
      "Epoch 377/500\n",
      "36/36 [==============================] - 0s 4ms/step - loss: 0.0510 - mae: 0.1736 - mse: 0.0510 - val_loss: 0.1028 - val_mae: 0.2456 - val_mse: 0.1028\n",
      "Epoch 378/500\n",
      "36/36 [==============================] - 0s 4ms/step - loss: 0.0511 - mae: 0.1734 - mse: 0.0511 - val_loss: 0.1097 - val_mae: 0.2586 - val_mse: 0.1097\n",
      "Epoch 379/500\n",
      "36/36 [==============================] - 0s 4ms/step - loss: 0.0512 - mae: 0.1736 - mse: 0.0512 - val_loss: 0.1027 - val_mae: 0.2455 - val_mse: 0.1027\n",
      "Epoch 380/500\n",
      "36/36 [==============================] - 0s 5ms/step - loss: 0.0512 - mae: 0.1742 - mse: 0.0512 - val_loss: 0.1039 - val_mae: 0.2480 - val_mse: 0.1039\n",
      "Epoch 381/500\n",
      "36/36 [==============================] - 0s 5ms/step - loss: 0.0513 - mae: 0.1738 - mse: 0.0513 - val_loss: 0.1062 - val_mae: 0.2529 - val_mse: 0.1062\n",
      "Epoch 382/500\n",
      "36/36 [==============================] - 0s 7ms/step - loss: 0.0515 - mae: 0.1739 - mse: 0.0515 - val_loss: 0.1034 - val_mae: 0.2471 - val_mse: 0.1034\n",
      "Epoch 383/500\n",
      "36/36 [==============================] - 0s 7ms/step - loss: 0.0509 - mae: 0.1737 - mse: 0.0509 - val_loss: 0.1054 - val_mae: 0.2512 - val_mse: 0.1054\n",
      "Epoch 384/500\n",
      "36/36 [==============================] - 0s 7ms/step - loss: 0.0514 - mae: 0.1745 - mse: 0.0514 - val_loss: 0.1022 - val_mae: 0.2452 - val_mse: 0.1022\n",
      "Epoch 385/500\n",
      "36/36 [==============================] - 0s 7ms/step - loss: 0.0506 - mae: 0.1727 - mse: 0.0506 - val_loss: 0.1106 - val_mae: 0.2608 - val_mse: 0.1106\n",
      "Epoch 386/500\n",
      "36/36 [==============================] - 0s 7ms/step - loss: 0.0518 - mae: 0.1752 - mse: 0.0518 - val_loss: 0.1023 - val_mae: 0.2453 - val_mse: 0.1023\n",
      "Epoch 387/500\n",
      "36/36 [==============================] - 0s 9ms/step - loss: 0.0515 - mae: 0.1747 - mse: 0.0515 - val_loss: 0.1035 - val_mae: 0.2472 - val_mse: 0.1035\n",
      "Epoch 388/500\n",
      "36/36 [==============================] - 0s 5ms/step - loss: 0.0508 - mae: 0.1727 - mse: 0.0508 - val_loss: 0.1064 - val_mae: 0.2534 - val_mse: 0.1064\n",
      "Epoch 389/500\n",
      "36/36 [==============================] - 0s 8ms/step - loss: 0.0506 - mae: 0.1727 - mse: 0.0506 - val_loss: 0.1064 - val_mae: 0.2536 - val_mse: 0.1064\n",
      "Epoch 390/500\n",
      "36/36 [==============================] - 0s 7ms/step - loss: 0.0509 - mae: 0.1733 - mse: 0.0509 - val_loss: 0.1092 - val_mae: 0.2583 - val_mse: 0.1092\n",
      "Epoch 391/500\n",
      "36/36 [==============================] - 0s 7ms/step - loss: 0.0510 - mae: 0.1733 - mse: 0.0510 - val_loss: 0.1024 - val_mae: 0.2453 - val_mse: 0.1024\n",
      "Epoch 392/500\n",
      "36/36 [==============================] - 0s 7ms/step - loss: 0.0506 - mae: 0.1727 - mse: 0.0506 - val_loss: 0.1028 - val_mae: 0.2464 - val_mse: 0.1028\n",
      "Epoch 393/500\n",
      "36/36 [==============================] - 0s 6ms/step - loss: 0.0505 - mae: 0.1730 - mse: 0.0505 - val_loss: 0.1047 - val_mae: 0.2504 - val_mse: 0.1047\n",
      "Epoch 394/500\n",
      "36/36 [==============================] - 0s 6ms/step - loss: 0.0510 - mae: 0.1729 - mse: 0.0510 - val_loss: 0.1025 - val_mae: 0.2458 - val_mse: 0.1025\n",
      "Epoch 395/500\n",
      "36/36 [==============================] - 0s 7ms/step - loss: 0.0509 - mae: 0.1734 - mse: 0.0509 - val_loss: 0.1059 - val_mae: 0.2522 - val_mse: 0.1059\n",
      "Epoch 396/500\n",
      "36/36 [==============================] - 0s 5ms/step - loss: 0.0505 - mae: 0.1725 - mse: 0.0505 - val_loss: 0.1039 - val_mae: 0.2489 - val_mse: 0.1039\n",
      "Epoch 397/500\n",
      "36/36 [==============================] - 0s 6ms/step - loss: 0.0505 - mae: 0.1726 - mse: 0.0505 - val_loss: 0.1031 - val_mae: 0.2473 - val_mse: 0.1031\n",
      "Epoch 398/500\n",
      "36/36 [==============================] - 0s 6ms/step - loss: 0.0506 - mae: 0.1727 - mse: 0.0506 - val_loss: 0.1057 - val_mae: 0.2524 - val_mse: 0.1057\n",
      "Epoch 399/500\n",
      "36/36 [==============================] - 0s 7ms/step - loss: 0.0508 - mae: 0.1731 - mse: 0.0508 - val_loss: 0.1040 - val_mae: 0.2484 - val_mse: 0.1040\n",
      "Epoch 400/500\n",
      "36/36 [==============================] - 0s 5ms/step - loss: 0.0516 - mae: 0.1748 - mse: 0.0516 - val_loss: 0.1033 - val_mae: 0.2475 - val_mse: 0.1033\n",
      "Epoch 401/500\n",
      "36/36 [==============================] - 0s 5ms/step - loss: 0.0506 - mae: 0.1730 - mse: 0.0506 - val_loss: 0.1026 - val_mae: 0.2464 - val_mse: 0.1026\n",
      "Epoch 402/500\n",
      "36/36 [==============================] - 0s 5ms/step - loss: 0.0515 - mae: 0.1740 - mse: 0.0515 - val_loss: 0.1075 - val_mae: 0.2551 - val_mse: 0.1075\n",
      "Epoch 403/500\n",
      "36/36 [==============================] - 0s 6ms/step - loss: 0.0503 - mae: 0.1721 - mse: 0.0503 - val_loss: 0.1033 - val_mae: 0.2478 - val_mse: 0.1033\n",
      "Epoch 404/500\n",
      "36/36 [==============================] - 0s 9ms/step - loss: 0.0514 - mae: 0.1737 - mse: 0.0514 - val_loss: 0.1051 - val_mae: 0.2508 - val_mse: 0.1051\n",
      "Epoch 405/500\n",
      "36/36 [==============================] - 0s 6ms/step - loss: 0.0508 - mae: 0.1733 - mse: 0.0508 - val_loss: 0.1041 - val_mae: 0.2492 - val_mse: 0.1041\n",
      "Epoch 406/500\n",
      "36/36 [==============================] - 0s 7ms/step - loss: 0.0507 - mae: 0.1729 - mse: 0.0507 - val_loss: 0.1024 - val_mae: 0.2458 - val_mse: 0.1024\n",
      "Epoch 407/500\n",
      "36/36 [==============================] - 0s 10ms/step - loss: 0.0517 - mae: 0.1751 - mse: 0.0517 - val_loss: 0.1019 - val_mae: 0.2452 - val_mse: 0.1019\n",
      "Epoch 408/500\n",
      "36/36 [==============================] - 0s 6ms/step - loss: 0.0505 - mae: 0.1722 - mse: 0.0505 - val_loss: 0.1032 - val_mae: 0.2477 - val_mse: 0.1032\n",
      "Epoch 409/500\n",
      "36/36 [==============================] - 0s 6ms/step - loss: 0.0505 - mae: 0.1728 - mse: 0.0505 - val_loss: 0.1153 - val_mae: 0.2682 - val_mse: 0.1153\n",
      "Epoch 410/500\n",
      "36/36 [==============================] - 0s 5ms/step - loss: 0.0511 - mae: 0.1744 - mse: 0.0511 - val_loss: 0.1029 - val_mae: 0.2470 - val_mse: 0.1029\n",
      "Epoch 411/500\n",
      "36/36 [==============================] - 0s 6ms/step - loss: 0.0515 - mae: 0.1741 - mse: 0.0515 - val_loss: 0.1070 - val_mae: 0.2550 - val_mse: 0.1070\n",
      "Epoch 412/500\n",
      "36/36 [==============================] - 0s 5ms/step - loss: 0.0504 - mae: 0.1734 - mse: 0.0504 - val_loss: 0.1032 - val_mae: 0.2476 - val_mse: 0.1032\n",
      "Epoch 413/500\n",
      "36/36 [==============================] - 0s 7ms/step - loss: 0.0506 - mae: 0.1732 - mse: 0.0506 - val_loss: 0.1050 - val_mae: 0.2516 - val_mse: 0.1050\n",
      "Epoch 414/500\n",
      "36/36 [==============================] - 0s 9ms/step - loss: 0.0513 - mae: 0.1742 - mse: 0.0513 - val_loss: 0.1020 - val_mae: 0.2454 - val_mse: 0.1020\n",
      "Epoch 415/500\n",
      "36/36 [==============================] - 0s 9ms/step - loss: 0.0512 - mae: 0.1742 - mse: 0.0512 - val_loss: 0.1078 - val_mae: 0.2564 - val_mse: 0.1078\n",
      "Epoch 416/500\n",
      "36/36 [==============================] - 0s 8ms/step - loss: 0.0502 - mae: 0.1725 - mse: 0.0502 - val_loss: 0.1031 - val_mae: 0.2474 - val_mse: 0.1031\n",
      "Epoch 417/500\n",
      "36/36 [==============================] - 0s 9ms/step - loss: 0.0506 - mae: 0.1734 - mse: 0.0506 - val_loss: 0.1129 - val_mae: 0.2647 - val_mse: 0.1129\n",
      "Epoch 418/500\n",
      "36/36 [==============================] - 0s 10ms/step - loss: 0.0509 - mae: 0.1738 - mse: 0.0509 - val_loss: 0.1024 - val_mae: 0.2461 - val_mse: 0.1024\n",
      "Epoch 419/500\n",
      "36/36 [==============================] - 0s 11ms/step - loss: 0.0513 - mae: 0.1735 - mse: 0.0513 - val_loss: 0.1052 - val_mae: 0.2519 - val_mse: 0.1052\n",
      "Epoch 420/500\n",
      "36/36 [==============================] - 0s 9ms/step - loss: 0.0514 - mae: 0.1742 - mse: 0.0514 - val_loss: 0.1083 - val_mae: 0.2569 - val_mse: 0.1083\n",
      "Epoch 421/500\n",
      "36/36 [==============================] - 0s 7ms/step - loss: 0.0513 - mae: 0.1737 - mse: 0.0513 - val_loss: 0.1031 - val_mae: 0.2474 - val_mse: 0.1031\n",
      "Epoch 422/500\n",
      "36/36 [==============================] - 0s 7ms/step - loss: 0.0506 - mae: 0.1729 - mse: 0.0506 - val_loss: 0.1021 - val_mae: 0.2458 - val_mse: 0.1021\n",
      "Epoch 423/500\n",
      "36/36 [==============================] - 0s 8ms/step - loss: 0.0507 - mae: 0.1733 - mse: 0.0507 - val_loss: 0.1150 - val_mae: 0.2674 - val_mse: 0.1150\n",
      "Epoch 424/500\n",
      "36/36 [==============================] - 0s 7ms/step - loss: 0.0504 - mae: 0.1720 - mse: 0.0504 - val_loss: 0.1035 - val_mae: 0.2480 - val_mse: 0.1035\n",
      "Epoch 425/500\n",
      "36/36 [==============================] - 0s 6ms/step - loss: 0.0501 - mae: 0.1719 - mse: 0.0501 - val_loss: 0.1044 - val_mae: 0.2509 - val_mse: 0.1044\n",
      "Epoch 426/500\n",
      "36/36 [==============================] - 0s 6ms/step - loss: 0.0503 - mae: 0.1719 - mse: 0.0503 - val_loss: 0.1024 - val_mae: 0.2467 - val_mse: 0.1024\n",
      "Epoch 427/500\n",
      "36/36 [==============================] - 0s 6ms/step - loss: 0.0500 - mae: 0.1720 - mse: 0.0500 - val_loss: 0.1088 - val_mae: 0.2579 - val_mse: 0.1088\n",
      "Epoch 428/500\n",
      "36/36 [==============================] - 0s 6ms/step - loss: 0.0500 - mae: 0.1717 - mse: 0.0500 - val_loss: 0.1083 - val_mae: 0.2570 - val_mse: 0.1083\n",
      "Epoch 429/500\n",
      "36/36 [==============================] - 0s 6ms/step - loss: 0.0504 - mae: 0.1723 - mse: 0.0504 - val_loss: 0.1022 - val_mae: 0.2460 - val_mse: 0.1022\n",
      "Epoch 430/500\n",
      "36/36 [==============================] - 0s 9ms/step - loss: 0.0503 - mae: 0.1722 - mse: 0.0503 - val_loss: 0.1025 - val_mae: 0.2471 - val_mse: 0.1025\n",
      "Epoch 431/500\n",
      "36/36 [==============================] - 0s 7ms/step - loss: 0.0506 - mae: 0.1730 - mse: 0.0506 - val_loss: 0.1026 - val_mae: 0.2464 - val_mse: 0.1026\n",
      "Epoch 432/500\n",
      "36/36 [==============================] - 0s 10ms/step - loss: 0.0509 - mae: 0.1742 - mse: 0.0509 - val_loss: 0.1038 - val_mae: 0.2491 - val_mse: 0.1038\n",
      "Epoch 433/500\n",
      "36/36 [==============================] - 0s 7ms/step - loss: 0.0501 - mae: 0.1723 - mse: 0.0501 - val_loss: 0.1056 - val_mae: 0.2526 - val_mse: 0.1056\n",
      "Epoch 434/500\n",
      "36/36 [==============================] - 0s 6ms/step - loss: 0.0502 - mae: 0.1719 - mse: 0.0502 - val_loss: 0.1026 - val_mae: 0.2461 - val_mse: 0.1026\n",
      "Epoch 435/500\n",
      "36/36 [==============================] - 0s 7ms/step - loss: 0.0506 - mae: 0.1726 - mse: 0.0506 - val_loss: 0.1030 - val_mae: 0.2479 - val_mse: 0.1030\n",
      "Epoch 436/500\n",
      "36/36 [==============================] - 0s 9ms/step - loss: 0.0501 - mae: 0.1721 - mse: 0.0501 - val_loss: 0.1041 - val_mae: 0.2501 - val_mse: 0.1041\n",
      "Epoch 437/500\n",
      "36/36 [==============================] - 0s 12ms/step - loss: 0.0499 - mae: 0.1719 - mse: 0.0499 - val_loss: 0.1018 - val_mae: 0.2457 - val_mse: 0.1018\n",
      "Epoch 438/500\n",
      "36/36 [==============================] - 0s 8ms/step - loss: 0.0508 - mae: 0.1735 - mse: 0.0508 - val_loss: 0.1042 - val_mae: 0.2502 - val_mse: 0.1042\n",
      "Epoch 439/500\n",
      "36/36 [==============================] - 0s 6ms/step - loss: 0.0502 - mae: 0.1727 - mse: 0.0502 - val_loss: 0.1058 - val_mae: 0.2532 - val_mse: 0.1058\n",
      "Epoch 440/500\n",
      "36/36 [==============================] - 0s 11ms/step - loss: 0.0504 - mae: 0.1732 - mse: 0.0504 - val_loss: 0.1101 - val_mae: 0.2604 - val_mse: 0.1101\n",
      "Epoch 441/500\n",
      "36/36 [==============================] - 0s 6ms/step - loss: 0.0508 - mae: 0.1733 - mse: 0.0508 - val_loss: 0.1021 - val_mae: 0.2462 - val_mse: 0.1021\n",
      "Epoch 442/500\n",
      "36/36 [==============================] - 0s 6ms/step - loss: 0.0503 - mae: 0.1723 - mse: 0.0503 - val_loss: 0.1044 - val_mae: 0.2504 - val_mse: 0.1044\n",
      "Epoch 443/500\n",
      "36/36 [==============================] - 0s 8ms/step - loss: 0.0505 - mae: 0.1727 - mse: 0.0505 - val_loss: 0.1018 - val_mae: 0.2462 - val_mse: 0.1018\n",
      "Epoch 444/500\n",
      "36/36 [==============================] - 0s 7ms/step - loss: 0.0499 - mae: 0.1717 - mse: 0.0499 - val_loss: 0.1028 - val_mae: 0.2473 - val_mse: 0.1028\n",
      "Epoch 445/500\n",
      "36/36 [==============================] - 0s 8ms/step - loss: 0.0497 - mae: 0.1717 - mse: 0.0497 - val_loss: 0.1240 - val_mae: 0.2799 - val_mse: 0.1240\n",
      "Epoch 446/500\n",
      "36/36 [==============================] - 0s 7ms/step - loss: 0.0499 - mae: 0.1716 - mse: 0.0499 - val_loss: 0.1015 - val_mae: 0.2458 - val_mse: 0.1015\n",
      "Epoch 447/500\n",
      "36/36 [==============================] - 0s 6ms/step - loss: 0.0501 - mae: 0.1719 - mse: 0.0501 - val_loss: 0.1022 - val_mae: 0.2469 - val_mse: 0.1022\n",
      "Epoch 448/500\n",
      "36/36 [==============================] - 0s 6ms/step - loss: 0.0506 - mae: 0.1728 - mse: 0.0506 - val_loss: 0.1018 - val_mae: 0.2458 - val_mse: 0.1018\n",
      "Epoch 449/500\n",
      "36/36 [==============================] - 0s 5ms/step - loss: 0.0499 - mae: 0.1719 - mse: 0.0499 - val_loss: 0.1024 - val_mae: 0.2471 - val_mse: 0.1024\n",
      "Epoch 450/500\n",
      "36/36 [==============================] - 0s 6ms/step - loss: 0.0500 - mae: 0.1718 - mse: 0.0500 - val_loss: 0.1173 - val_mae: 0.2711 - val_mse: 0.1173\n",
      "Epoch 451/500\n",
      "36/36 [==============================] - 0s 6ms/step - loss: 0.0513 - mae: 0.1734 - mse: 0.0513 - val_loss: 0.1030 - val_mae: 0.2478 - val_mse: 0.1030\n",
      "Epoch 452/500\n",
      "36/36 [==============================] - 0s 8ms/step - loss: 0.0500 - mae: 0.1721 - mse: 0.0500 - val_loss: 0.1042 - val_mae: 0.2507 - val_mse: 0.1042\n",
      "Epoch 453/500\n",
      "36/36 [==============================] - 0s 7ms/step - loss: 0.0497 - mae: 0.1714 - mse: 0.0497 - val_loss: 0.1038 - val_mae: 0.2496 - val_mse: 0.1038\n",
      "Epoch 454/500\n",
      "36/36 [==============================] - 0s 8ms/step - loss: 0.0502 - mae: 0.1717 - mse: 0.0502 - val_loss: 0.1042 - val_mae: 0.2508 - val_mse: 0.1042\n",
      "Epoch 455/500\n",
      "36/36 [==============================] - 0s 7ms/step - loss: 0.0500 - mae: 0.1714 - mse: 0.0500 - val_loss: 0.1047 - val_mae: 0.2516 - val_mse: 0.1047\n",
      "Epoch 456/500\n",
      "36/36 [==============================] - 0s 10ms/step - loss: 0.0496 - mae: 0.1711 - mse: 0.0496 - val_loss: 0.1047 - val_mae: 0.2514 - val_mse: 0.1047\n",
      "Epoch 457/500\n",
      "36/36 [==============================] - 0s 7ms/step - loss: 0.0499 - mae: 0.1713 - mse: 0.0499 - val_loss: 0.1028 - val_mae: 0.2478 - val_mse: 0.1028\n",
      "Epoch 458/500\n",
      "36/36 [==============================] - 0s 10ms/step - loss: 0.0499 - mae: 0.1717 - mse: 0.0499 - val_loss: 0.1110 - val_mae: 0.2617 - val_mse: 0.1110\n",
      "Epoch 459/500\n",
      "36/36 [==============================] - 0s 6ms/step - loss: 0.0500 - mae: 0.1716 - mse: 0.0500 - val_loss: 0.1039 - val_mae: 0.2503 - val_mse: 0.1039\n",
      "Epoch 460/500\n",
      "36/36 [==============================] - 0s 6ms/step - loss: 0.0498 - mae: 0.1718 - mse: 0.0498 - val_loss: 0.1018 - val_mae: 0.2463 - val_mse: 0.1018\n",
      "Epoch 461/500\n",
      "36/36 [==============================] - 0s 6ms/step - loss: 0.0498 - mae: 0.1714 - mse: 0.0498 - val_loss: 0.1051 - val_mae: 0.2523 - val_mse: 0.1051\n",
      "Epoch 462/500\n",
      "36/36 [==============================] - 0s 5ms/step - loss: 0.0500 - mae: 0.1714 - mse: 0.0500 - val_loss: 0.1044 - val_mae: 0.2493 - val_mse: 0.1044\n",
      "Epoch 463/500\n",
      "36/36 [==============================] - 0s 8ms/step - loss: 0.0502 - mae: 0.1714 - mse: 0.0502 - val_loss: 0.1026 - val_mae: 0.2474 - val_mse: 0.1026\n",
      "Epoch 464/500\n",
      "36/36 [==============================] - 0s 7ms/step - loss: 0.0503 - mae: 0.1719 - mse: 0.0503 - val_loss: 0.1107 - val_mae: 0.2615 - val_mse: 0.1107\n",
      "Epoch 465/500\n",
      "36/36 [==============================] - 0s 6ms/step - loss: 0.0500 - mae: 0.1715 - mse: 0.0500 - val_loss: 0.1037 - val_mae: 0.2498 - val_mse: 0.1037\n",
      "Epoch 466/500\n",
      "36/36 [==============================] - 0s 5ms/step - loss: 0.0496 - mae: 0.1723 - mse: 0.0496 - val_loss: 0.1084 - val_mae: 0.2579 - val_mse: 0.1084\n",
      "Epoch 467/500\n",
      "36/36 [==============================] - 0s 5ms/step - loss: 0.0497 - mae: 0.1717 - mse: 0.0497 - val_loss: 0.1028 - val_mae: 0.2476 - val_mse: 0.1028\n",
      "Epoch 468/500\n",
      "36/36 [==============================] - 0s 5ms/step - loss: 0.0501 - mae: 0.1713 - mse: 0.0501 - val_loss: 0.1071 - val_mae: 0.2558 - val_mse: 0.1071\n",
      "Epoch 469/500\n",
      "36/36 [==============================] - 0s 7ms/step - loss: 0.0498 - mae: 0.1715 - mse: 0.0498 - val_loss: 0.1066 - val_mae: 0.2546 - val_mse: 0.1066\n",
      "Epoch 470/500\n",
      "36/36 [==============================] - 0s 6ms/step - loss: 0.0499 - mae: 0.1711 - mse: 0.0499 - val_loss: 0.1020 - val_mae: 0.2465 - val_mse: 0.1020\n",
      "Epoch 471/500\n",
      "36/36 [==============================] - 0s 6ms/step - loss: 0.0495 - mae: 0.1711 - mse: 0.0495 - val_loss: 0.1057 - val_mae: 0.2538 - val_mse: 0.1057\n",
      "Epoch 472/500\n",
      "36/36 [==============================] - 0s 6ms/step - loss: 0.0499 - mae: 0.1721 - mse: 0.0499 - val_loss: 0.1020 - val_mae: 0.2468 - val_mse: 0.1020\n",
      "Epoch 473/500\n",
      "36/36 [==============================] - 0s 6ms/step - loss: 0.0497 - mae: 0.1719 - mse: 0.0497 - val_loss: 0.1027 - val_mae: 0.2481 - val_mse: 0.1027\n",
      "Epoch 474/500\n",
      "36/36 [==============================] - 0s 6ms/step - loss: 0.0493 - mae: 0.1712 - mse: 0.0493 - val_loss: 0.1019 - val_mae: 0.2466 - val_mse: 0.1019\n",
      "Epoch 475/500\n",
      "36/36 [==============================] - 0s 5ms/step - loss: 0.0497 - mae: 0.1714 - mse: 0.0497 - val_loss: 0.1026 - val_mae: 0.2474 - val_mse: 0.1026\n",
      "Epoch 476/500\n",
      "36/36 [==============================] - 0s 6ms/step - loss: 0.0496 - mae: 0.1708 - mse: 0.0496 - val_loss: 0.1044 - val_mae: 0.2512 - val_mse: 0.1044\n",
      "Epoch 477/500\n",
      "36/36 [==============================] - 0s 5ms/step - loss: 0.0494 - mae: 0.1706 - mse: 0.0494 - val_loss: 0.1125 - val_mae: 0.2643 - val_mse: 0.1125\n",
      "Epoch 478/500\n",
      "36/36 [==============================] - 0s 6ms/step - loss: 0.0503 - mae: 0.1723 - mse: 0.0503 - val_loss: 0.1019 - val_mae: 0.2468 - val_mse: 0.1019\n",
      "Epoch 479/500\n",
      "36/36 [==============================] - 0s 7ms/step - loss: 0.0496 - mae: 0.1717 - mse: 0.0496 - val_loss: 0.1052 - val_mae: 0.2530 - val_mse: 0.1052\n",
      "Epoch 480/500\n",
      "36/36 [==============================] - 0s 5ms/step - loss: 0.0500 - mae: 0.1726 - mse: 0.0500 - val_loss: 0.1036 - val_mae: 0.2499 - val_mse: 0.1036\n",
      "Epoch 481/500\n",
      "36/36 [==============================] - 1s 22ms/step - loss: 0.0499 - mae: 0.1716 - mse: 0.0499 - val_loss: 0.1017 - val_mae: 0.2460 - val_mse: 0.1017\n",
      "Epoch 482/500\n",
      "36/36 [==============================] - 0s 12ms/step - loss: 0.0492 - mae: 0.1705 - mse: 0.0492 - val_loss: 0.1061 - val_mae: 0.2542 - val_mse: 0.1061\n",
      "Epoch 483/500\n",
      "36/36 [==============================] - 0s 9ms/step - loss: 0.0497 - mae: 0.1718 - mse: 0.0497 - val_loss: 0.1065 - val_mae: 0.2548 - val_mse: 0.1065\n",
      "Epoch 484/500\n",
      "36/36 [==============================] - 0s 11ms/step - loss: 0.0494 - mae: 0.1716 - mse: 0.0494 - val_loss: 0.1019 - val_mae: 0.2467 - val_mse: 0.1019\n",
      "Epoch 485/500\n",
      "36/36 [==============================] - 0s 8ms/step - loss: 0.0498 - mae: 0.1720 - mse: 0.0498 - val_loss: 0.1031 - val_mae: 0.2489 - val_mse: 0.1031\n",
      "Epoch 486/500\n",
      "36/36 [==============================] - 0s 8ms/step - loss: 0.0522 - mae: 0.1763 - mse: 0.0522 - val_loss: 0.1030 - val_mae: 0.2482 - val_mse: 0.1030\n",
      "Epoch 487/500\n",
      "36/36 [==============================] - 0s 9ms/step - loss: 0.0500 - mae: 0.1712 - mse: 0.0500 - val_loss: 0.1072 - val_mae: 0.2562 - val_mse: 0.1072\n",
      "Epoch 488/500\n",
      "36/36 [==============================] - 0s 11ms/step - loss: 0.0489 - mae: 0.1700 - mse: 0.0489 - val_loss: 0.1119 - val_mae: 0.2635 - val_mse: 0.1119\n",
      "Epoch 489/500\n",
      "36/36 [==============================] - 0s 10ms/step - loss: 0.0499 - mae: 0.1717 - mse: 0.0499 - val_loss: 0.1013 - val_mae: 0.2457 - val_mse: 0.1013\n",
      "Epoch 490/500\n",
      "36/36 [==============================] - 0s 7ms/step - loss: 0.0498 - mae: 0.1721 - mse: 0.0498 - val_loss: 0.1022 - val_mae: 0.2469 - val_mse: 0.1022\n",
      "Epoch 491/500\n",
      "36/36 [==============================] - 0s 7ms/step - loss: 0.0495 - mae: 0.1707 - mse: 0.0495 - val_loss: 0.1021 - val_mae: 0.2471 - val_mse: 0.1021\n",
      "Epoch 492/500\n",
      "36/36 [==============================] - 0s 7ms/step - loss: 0.0496 - mae: 0.1706 - mse: 0.0496 - val_loss: 0.1026 - val_mae: 0.2485 - val_mse: 0.1026\n",
      "Epoch 493/500\n",
      "36/36 [==============================] - 0s 7ms/step - loss: 0.0499 - mae: 0.1716 - mse: 0.0499 - val_loss: 0.1077 - val_mae: 0.2575 - val_mse: 0.1077\n",
      "Epoch 494/500\n",
      "36/36 [==============================] - 0s 7ms/step - loss: 0.0497 - mae: 0.1713 - mse: 0.0497 - val_loss: 0.1018 - val_mae: 0.2470 - val_mse: 0.1018\n",
      "Epoch 495/500\n",
      "36/36 [==============================] - 0s 6ms/step - loss: 0.0490 - mae: 0.1702 - mse: 0.0490 - val_loss: 0.1019 - val_mae: 0.2471 - val_mse: 0.1019\n",
      "Epoch 496/500\n",
      "36/36 [==============================] - 0s 8ms/step - loss: 0.0499 - mae: 0.1711 - mse: 0.0499 - val_loss: 0.1055 - val_mae: 0.2535 - val_mse: 0.1055\n",
      "Epoch 497/500\n",
      "36/36 [==============================] - 0s 8ms/step - loss: 0.0492 - mae: 0.1704 - mse: 0.0492 - val_loss: 0.1046 - val_mae: 0.2521 - val_mse: 0.1046\n",
      "Epoch 498/500\n",
      "36/36 [==============================] - 0s 6ms/step - loss: 0.0493 - mae: 0.1709 - mse: 0.0493 - val_loss: 0.1052 - val_mae: 0.2510 - val_mse: 0.1052\n",
      "Epoch 499/500\n",
      "36/36 [==============================] - 0s 6ms/step - loss: 0.0495 - mae: 0.1703 - mse: 0.0495 - val_loss: 0.1016 - val_mae: 0.2463 - val_mse: 0.1016\n",
      "Epoch 500/500\n",
      "36/36 [==============================] - 0s 5ms/step - loss: 0.0491 - mae: 0.1705 - mse: 0.0491 - val_loss: 0.1043 - val_mae: 0.2514 - val_mse: 0.1043\n",
      "Best epoch: 489\n"
     ]
    },
    {
     "data": {
      "application/javascript": "\n            setTimeout(function() {\n                var nbb_cell_id = 73;\n                var nbb_unformatted_code = \"# Build the model with the optimal hyperparameters and train it on the data for 50 epochs\\n\\n\\nmodel = tuner.hypermodel.build(best_hps)\\nhistory = model.fit(\\n    train_dataset,\\n    train_labels,\\n    epochs=EPOCHS,\\n    validation_split=0.2,\\n    verbose=1,\\n    callbacks=([model_checkpoint]),\\n)\\n\\n# Select the best epoch,\\nval_mse_per_epoch = history.history[\\\"val_mse\\\"]\\nbest_epoch = val_mse_per_epoch.index(min(val_mse_per_epoch)) + 1\\n\\nprint(\\\"Best epoch: %d\\\" % (best_epoch,))\";\n                var nbb_formatted_code = \"# Build the model with the optimal hyperparameters and train it on the data for 50 epochs\\n\\n\\nmodel = tuner.hypermodel.build(best_hps)\\nhistory = model.fit(\\n    train_dataset,\\n    train_labels,\\n    epochs=EPOCHS,\\n    validation_split=0.2,\\n    verbose=1,\\n    callbacks=([model_checkpoint]),\\n)\\n\\n# Select the best epoch,\\nval_mse_per_epoch = history.history[\\\"val_mse\\\"]\\nbest_epoch = val_mse_per_epoch.index(min(val_mse_per_epoch)) + 1\\n\\nprint(\\\"Best epoch: %d\\\" % (best_epoch,))\";\n                var nbb_cells = Jupyter.notebook.get_cells();\n                for (var i = 0; i < nbb_cells.length; ++i) {\n                    if (nbb_cells[i].input_prompt_number == nbb_cell_id) {\n                        if (nbb_cells[i].get_text() == nbb_unformatted_code) {\n                             nbb_cells[i].set_text(nbb_formatted_code);\n                        }\n                        break;\n                    }\n                }\n            }, 500);\n            ",
      "text/plain": [
       "<IPython.core.display.Javascript object>"
      ]
     },
     "metadata": {},
     "output_type": "display_data"
    }
   ],
   "source": [
    "# Build the model with the optimal hyperparameters and train it on the data for 50 epochs\n",
    "\n",
    "\n",
    "model = tuner.hypermodel.build(best_hps)\n",
    "history = model.fit(\n",
    "    train_dataset,\n",
    "    train_labels,\n",
    "    epochs=EPOCHS,\n",
    "    validation_split=0.2,\n",
    "    verbose=1,\n",
    "    callbacks=([model_checkpoint]),\n",
    ")\n",
    "\n",
    "# Select the best epoch,\n",
    "val_mse_per_epoch = history.history[\"val_mse\"]\n",
    "best_epoch = val_mse_per_epoch.index(min(val_mse_per_epoch)) + 1\n",
    "\n",
    "print(\"Best epoch: %d\" % (best_epoch,))"
   ]
  },
  {
   "cell_type": "markdown",
   "metadata": {},
   "source": [
    "# Treinando modelo"
   ]
  },
  {
   "cell_type": "code",
   "execution_count": 74,
   "metadata": {},
   "outputs": [
    {
     "data": {
      "application/javascript": "\n            setTimeout(function() {\n                var nbb_cell_id = 74;\n                var nbb_unformatted_code = \"# hypermodel = tuner.hypermodel.build(best_hps)\\n# history = hypermodel.fit(train_dataset, train_labels, epochs=best_epoch, validation_split=0.2, verbose=1)\\n\\n# # ja pega o modelo na melhor epoca\";\n                var nbb_formatted_code = \"# hypermodel = tuner.hypermodel.build(best_hps)\\n# history = hypermodel.fit(train_dataset, train_labels, epochs=best_epoch, validation_split=0.2, verbose=1)\\n\\n# # ja pega o modelo na melhor epoca\";\n                var nbb_cells = Jupyter.notebook.get_cells();\n                for (var i = 0; i < nbb_cells.length; ++i) {\n                    if (nbb_cells[i].input_prompt_number == nbb_cell_id) {\n                        if (nbb_cells[i].get_text() == nbb_unformatted_code) {\n                             nbb_cells[i].set_text(nbb_formatted_code);\n                        }\n                        break;\n                    }\n                }\n            }, 500);\n            ",
      "text/plain": [
       "<IPython.core.display.Javascript object>"
      ]
     },
     "metadata": {},
     "output_type": "display_data"
    }
   ],
   "source": [
    "# hypermodel = tuner.hypermodel.build(best_hps)\n",
    "# history = hypermodel.fit(train_dataset, train_labels, epochs=best_epoch, validation_split=0.2, verbose=1)\n",
    "\n",
    "# # ja pega o modelo na melhor epoca"
   ]
  },
  {
   "cell_type": "code",
   "execution_count": 75,
   "metadata": {},
   "outputs": [
    {
     "name": "stdout",
     "output_type": "stream",
     "text": [
      "15/15 [==============================] - 0s 3ms/step - loss: 2.1038 - mae: 1.1779 - mse: 2.1038\n",
      "[test loss, test accuracy]: [2.103830099105835, 1.1779426336288452, 2.103830099105835]\n"
     ]
    },
    {
     "data": {
      "application/javascript": "\n            setTimeout(function() {\n                var nbb_cell_id = 75;\n                var nbb_unformatted_code = \"eval_result = hypermodel.evaluate(test_dataset, test_labels)\\nprint(\\\"[test loss, test accuracy]:\\\", eval_result)\";\n                var nbb_formatted_code = \"eval_result = hypermodel.evaluate(test_dataset, test_labels)\\nprint(\\\"[test loss, test accuracy]:\\\", eval_result)\";\n                var nbb_cells = Jupyter.notebook.get_cells();\n                for (var i = 0; i < nbb_cells.length; ++i) {\n                    if (nbb_cells[i].input_prompt_number == nbb_cell_id) {\n                        if (nbb_cells[i].get_text() == nbb_unformatted_code) {\n                             nbb_cells[i].set_text(nbb_formatted_code);\n                        }\n                        break;\n                    }\n                }\n            }, 500);\n            ",
      "text/plain": [
       "<IPython.core.display.Javascript object>"
      ]
     },
     "metadata": {},
     "output_type": "display_data"
    }
   ],
   "source": [
    "eval_result = hypermodel.evaluate(test_dataset, test_labels)\n",
    "print(\"[test loss, test accuracy]:\", eval_result)"
   ]
  },
  {
   "cell_type": "markdown",
   "metadata": {},
   "source": [
    "# Avaliando o modelo"
   ]
  },
  {
   "cell_type": "code",
   "execution_count": 76,
   "metadata": {},
   "outputs": [
    {
     "data": {
      "application/javascript": "\n            setTimeout(function() {\n                var nbb_cell_id = 76;\n                var nbb_unformatted_code = \"# print(f'train_dataset: {train_dataset.columns()} \\\\n')\\n# print(f'valid_dataset: {valid_dataset.columns()} \\\\n')\\n# print(f'test_dataset: {test_dataset.columns()} \\\\n')\";\n                var nbb_formatted_code = \"# print(f'train_dataset: {train_dataset.columns()} \\\\n')\\n# print(f'valid_dataset: {valid_dataset.columns()} \\\\n')\\n# print(f'test_dataset: {test_dataset.columns()} \\\\n')\";\n                var nbb_cells = Jupyter.notebook.get_cells();\n                for (var i = 0; i < nbb_cells.length; ++i) {\n                    if (nbb_cells[i].input_prompt_number == nbb_cell_id) {\n                        if (nbb_cells[i].get_text() == nbb_unformatted_code) {\n                             nbb_cells[i].set_text(nbb_formatted_code);\n                        }\n                        break;\n                    }\n                }\n            }, 500);\n            ",
      "text/plain": [
       "<IPython.core.display.Javascript object>"
      ]
     },
     "metadata": {},
     "output_type": "display_data"
    }
   ],
   "source": [
    "# print(f'train_dataset: {train_dataset.columns()} \\n')\n",
    "# print(f'valid_dataset: {valid_dataset.columns()} \\n')\n",
    "# print(f'test_dataset: {test_dataset.columns()} \\n')"
   ]
  },
  {
   "cell_type": "code",
   "execution_count": 77,
   "metadata": {},
   "outputs": [
    {
     "data": {
      "text/html": [
       "<div>\n",
       "<style scoped>\n",
       "    .dataframe tbody tr th:only-of-type {\n",
       "        vertical-align: middle;\n",
       "    }\n",
       "\n",
       "    .dataframe tbody tr th {\n",
       "        vertical-align: top;\n",
       "    }\n",
       "\n",
       "    .dataframe thead th {\n",
       "        text-align: right;\n",
       "    }\n",
       "</style>\n",
       "<table border=\"1\" class=\"dataframe\">\n",
       "  <thead>\n",
       "    <tr style=\"text-align: right;\">\n",
       "      <th></th>\n",
       "      <th>loss</th>\n",
       "      <th>mae</th>\n",
       "      <th>mse</th>\n",
       "      <th>val_loss</th>\n",
       "      <th>val_mae</th>\n",
       "      <th>val_mse</th>\n",
       "      <th>epoch</th>\n",
       "    </tr>\n",
       "  </thead>\n",
       "  <tbody>\n",
       "    <tr>\n",
       "      <th>495</th>\n",
       "      <td>0.049924</td>\n",
       "      <td>0.171146</td>\n",
       "      <td>0.049924</td>\n",
       "      <td>0.105495</td>\n",
       "      <td>0.253493</td>\n",
       "      <td>0.105495</td>\n",
       "      <td>495</td>\n",
       "    </tr>\n",
       "    <tr>\n",
       "      <th>496</th>\n",
       "      <td>0.049202</td>\n",
       "      <td>0.170365</td>\n",
       "      <td>0.049202</td>\n",
       "      <td>0.104566</td>\n",
       "      <td>0.252138</td>\n",
       "      <td>0.104566</td>\n",
       "      <td>496</td>\n",
       "    </tr>\n",
       "    <tr>\n",
       "      <th>497</th>\n",
       "      <td>0.049318</td>\n",
       "      <td>0.170860</td>\n",
       "      <td>0.049318</td>\n",
       "      <td>0.105203</td>\n",
       "      <td>0.250979</td>\n",
       "      <td>0.105203</td>\n",
       "      <td>497</td>\n",
       "    </tr>\n",
       "    <tr>\n",
       "      <th>498</th>\n",
       "      <td>0.049487</td>\n",
       "      <td>0.170306</td>\n",
       "      <td>0.049487</td>\n",
       "      <td>0.101561</td>\n",
       "      <td>0.246292</td>\n",
       "      <td>0.101561</td>\n",
       "      <td>498</td>\n",
       "    </tr>\n",
       "    <tr>\n",
       "      <th>499</th>\n",
       "      <td>0.049141</td>\n",
       "      <td>0.170463</td>\n",
       "      <td>0.049141</td>\n",
       "      <td>0.104252</td>\n",
       "      <td>0.251438</td>\n",
       "      <td>0.104252</td>\n",
       "      <td>499</td>\n",
       "    </tr>\n",
       "  </tbody>\n",
       "</table>\n",
       "</div>"
      ],
      "text/plain": [
       "         loss       mae       mse  val_loss   val_mae   val_mse  epoch\n",
       "495  0.049924  0.171146  0.049924  0.105495  0.253493  0.105495    495\n",
       "496  0.049202  0.170365  0.049202  0.104566  0.252138  0.104566    496\n",
       "497  0.049318  0.170860  0.049318  0.105203  0.250979  0.105203    497\n",
       "498  0.049487  0.170306  0.049487  0.101561  0.246292  0.101561    498\n",
       "499  0.049141  0.170463  0.049141  0.104252  0.251438  0.104252    499"
      ]
     },
     "execution_count": 77,
     "metadata": {},
     "output_type": "execute_result"
    },
    {
     "data": {
      "application/javascript": "\n            setTimeout(function() {\n                var nbb_cell_id = 77;\n                var nbb_unformatted_code = \"hist = pd.DataFrame(history.history)\\nhist[\\\"epoch\\\"] = history.epoch\\nhist.tail()\";\n                var nbb_formatted_code = \"hist = pd.DataFrame(history.history)\\nhist[\\\"epoch\\\"] = history.epoch\\nhist.tail()\";\n                var nbb_cells = Jupyter.notebook.get_cells();\n                for (var i = 0; i < nbb_cells.length; ++i) {\n                    if (nbb_cells[i].input_prompt_number == nbb_cell_id) {\n                        if (nbb_cells[i].get_text() == nbb_unformatted_code) {\n                             nbb_cells[i].set_text(nbb_formatted_code);\n                        }\n                        break;\n                    }\n                }\n            }, 500);\n            ",
      "text/plain": [
       "<IPython.core.display.Javascript object>"
      ]
     },
     "metadata": {},
     "output_type": "display_data"
    }
   ],
   "source": [
    "hist = pd.DataFrame(history.history)\n",
    "hist[\"epoch\"] = history.epoch\n",
    "hist.tail()"
   ]
  },
  {
   "cell_type": "code",
   "execution_count": 78,
   "metadata": {},
   "outputs": [
    {
     "name": "stdout",
     "output_type": "stream",
     "text": [
      "Min MSE: 0.048919856548309326\n",
      "Min Val_MSE: 0.10132057219743729\n"
     ]
    },
    {
     "data": {
      "application/javascript": "\n            setTimeout(function() {\n                var nbb_cell_id = 78;\n                var nbb_unformatted_code = \"print(f\\\"Min MSE: {hist.mse.min()}\\\")\\nprint(f\\\"Min Val_MSE: {hist.val_mse.min()}\\\")\";\n                var nbb_formatted_code = \"print(f\\\"Min MSE: {hist.mse.min()}\\\")\\nprint(f\\\"Min Val_MSE: {hist.val_mse.min()}\\\")\";\n                var nbb_cells = Jupyter.notebook.get_cells();\n                for (var i = 0; i < nbb_cells.length; ++i) {\n                    if (nbb_cells[i].input_prompt_number == nbb_cell_id) {\n                        if (nbb_cells[i].get_text() == nbb_unformatted_code) {\n                             nbb_cells[i].set_text(nbb_formatted_code);\n                        }\n                        break;\n                    }\n                }\n            }, 500);\n            ",
      "text/plain": [
       "<IPython.core.display.Javascript object>"
      ]
     },
     "metadata": {},
     "output_type": "display_data"
    }
   ],
   "source": [
    "print(f\"Min MSE: {hist.mse.min()}\")\n",
    "print(f\"Min Val_MSE: {hist.val_mse.min()}\")"
   ]
  },
  {
   "cell_type": "code",
   "execution_count": 79,
   "metadata": {},
   "outputs": [
    {
     "data": {
      "image/png": "[encoded data removed]",
      "text/plain": [
       "<Figure size 432x288 with 1 Axes>"
      ]
     },
     "metadata": {
      "needs_background": "light"
     },
     "output_type": "display_data"
    },
    {
     "data": {
      "image/png": "[encoded data removed]",
      "text/plain": [
       "<Figure size 432x288 with 1 Axes>"
      ]
     },
     "metadata": {
      "needs_background": "light"
     },
     "output_type": "display_data"
    },
    {
     "data": {
      "application/javascript": "\n            setTimeout(function() {\n                var nbb_cell_id = 79;\n                var nbb_unformatted_code = \"def plot_history(history):\\n    hist = pd.DataFrame(history.history)\\n    hist[\\\"epoch\\\"] = history.epoch\\n\\n    plt.figure()\\n    plt.xlabel(\\\"Epoch\\\")\\n    plt.ylabel(\\\"Mean Abs Error [ibova_0]\\\")\\n    plt.plot(hist[\\\"epoch\\\"], hist[\\\"mae\\\"], label=\\\"Train Error\\\")\\n    plt.plot(hist[\\\"epoch\\\"], hist[\\\"val_mae\\\"], label=\\\"Val Error\\\")\\n    plt.ylim([0, 5])\\n    plt.legend()\\n\\n    plt.figure()\\n    plt.xlabel(\\\"Epoch\\\")\\n    plt.ylabel(\\\"Mean Square Error [$ibova_0^2$]\\\")\\n    plt.plot(hist[\\\"epoch\\\"], hist[\\\"mse\\\"], label=\\\"Train Error\\\")\\n    plt.plot(hist[\\\"epoch\\\"], hist[\\\"val_mse\\\"], label=\\\"Val Error\\\")\\n    plt.ylim([0, 20])\\n    plt.legend()\\n    plt.show()\\n\\n\\nplot_history(history)\";\n                var nbb_formatted_code = \"def plot_history(history):\\n    hist = pd.DataFrame(history.history)\\n    hist[\\\"epoch\\\"] = history.epoch\\n\\n    plt.figure()\\n    plt.xlabel(\\\"Epoch\\\")\\n    plt.ylabel(\\\"Mean Abs Error [ibova_0]\\\")\\n    plt.plot(hist[\\\"epoch\\\"], hist[\\\"mae\\\"], label=\\\"Train Error\\\")\\n    plt.plot(hist[\\\"epoch\\\"], hist[\\\"val_mae\\\"], label=\\\"Val Error\\\")\\n    plt.ylim([0, 5])\\n    plt.legend()\\n\\n    plt.figure()\\n    plt.xlabel(\\\"Epoch\\\")\\n    plt.ylabel(\\\"Mean Square Error [$ibova_0^2$]\\\")\\n    plt.plot(hist[\\\"epoch\\\"], hist[\\\"mse\\\"], label=\\\"Train Error\\\")\\n    plt.plot(hist[\\\"epoch\\\"], hist[\\\"val_mse\\\"], label=\\\"Val Error\\\")\\n    plt.ylim([0, 20])\\n    plt.legend()\\n    plt.show()\\n\\n\\nplot_history(history)\";\n                var nbb_cells = Jupyter.notebook.get_cells();\n                for (var i = 0; i < nbb_cells.length; ++i) {\n                    if (nbb_cells[i].input_prompt_number == nbb_cell_id) {\n                        if (nbb_cells[i].get_text() == nbb_unformatted_code) {\n                             nbb_cells[i].set_text(nbb_formatted_code);\n                        }\n                        break;\n                    }\n                }\n            }, 500);\n            ",
      "text/plain": [
       "<IPython.core.display.Javascript object>"
      ]
     },
     "metadata": {},
     "output_type": "display_data"
    }
   ],
   "source": [
    "def plot_history(history):\n",
    "    hist = pd.DataFrame(history.history)\n",
    "    hist[\"epoch\"] = history.epoch\n",
    "\n",
    "    plt.figure()\n",
    "    plt.xlabel(\"Epoch\")\n",
    "    plt.ylabel(\"Mean Abs Error [ibova_0]\")\n",
    "    plt.plot(hist[\"epoch\"], hist[\"mae\"], label=\"Train Error\")\n",
    "    plt.plot(hist[\"epoch\"], hist[\"val_mae\"], label=\"Val Error\")\n",
    "    plt.ylim([0, 5])\n",
    "    plt.legend()\n",
    "\n",
    "    plt.figure()\n",
    "    plt.xlabel(\"Epoch\")\n",
    "    plt.ylabel(\"Mean Square Error [$ibova_0^2$]\")\n",
    "    plt.plot(hist[\"epoch\"], hist[\"mse\"], label=\"Train Error\")\n",
    "    plt.plot(hist[\"epoch\"], hist[\"val_mse\"], label=\"Val Error\")\n",
    "    plt.ylim([0, 20])\n",
    "    plt.legend()\n",
    "    plt.show()\n",
    "\n",
    "\n",
    "plot_history(history)"
   ]
  },
  {
   "cell_type": "markdown",
   "metadata": {},
   "source": [
    "# Realizando as previsões"
   ]
  },
  {
   "cell_type": "code",
   "execution_count": 80,
   "metadata": {},
   "outputs": [
    {
     "name": "stdout",
     "output_type": "stream",
     "text": [
      "15/15 [==============================] - 0s 2ms/step\n"
     ]
    },
    {
     "data": {
      "application/javascript": "\n            setTimeout(function() {\n                var nbb_cell_id = 80;\n                var nbb_unformatted_code = \"test_predictions = model.predict(test_dataset).flatten()\";\n                var nbb_formatted_code = \"test_predictions = model.predict(test_dataset).flatten()\";\n                var nbb_cells = Jupyter.notebook.get_cells();\n                for (var i = 0; i < nbb_cells.length; ++i) {\n                    if (nbb_cells[i].input_prompt_number == nbb_cell_id) {\n                        if (nbb_cells[i].get_text() == nbb_unformatted_code) {\n                             nbb_cells[i].set_text(nbb_formatted_code);\n                        }\n                        break;\n                    }\n                }\n            }, 500);\n            ",
      "text/plain": [
       "<IPython.core.display.Javascript object>"
      ]
     },
     "metadata": {},
     "output_type": "display_data"
    }
   ],
   "source": [
    "test_predictions = model.predict(test_dataset).flatten()"
   ]
  },
  {
   "cell_type": "markdown",
   "metadata": {},
   "source": [
    "# Avaliando as previsões:"
   ]
  },
  {
   "cell_type": "code",
   "execution_count": 81,
   "metadata": {},
   "outputs": [
    {
     "data": {
      "application/javascript": "\n            setTimeout(function() {\n                var nbb_cell_id = 81;\n                var nbb_unformatted_code = \"def show_test_labels():\\n    # Imprimindo valores reais\\n    plt.plot(test_labels, color=\\\"r\\\", label=\\\"ibova_REAL\\\")\\n    plt.xlabel(\\\"Dates\\\")\\n    plt.ylabel(\\\"Variation ROC\\\")\\n    plt.title(\\\"ibova_REAL\\\")\\n    plt.legend()\\n\\n\\ndef show_model_predictions():\\n    # Imprimindo previsoes\\n    plt.plot(test_predictions, color=\\\"g\\\", label=\\\"predictions_MODEL\\\")\\n    plt.xlabel(\\\"Dates\\\")\\n    plt.ylabel(\\\"Variation ROC\\\")\\n    plt.title(\\\"predictions_MODEL\\\")\\n    plt.legend()\\n\\n\\ndef show_compare_graph():\\n    # Predictt X Real values\\n    plt.plot(test_labels, color=\\\"r\\\", label=\\\"ibova_REAL\\\")\\n    plt.plot(test_predictions, color=\\\"g\\\", label=\\\"predictions_MODEL\\\")\\n    plt.xlabel(\\\"Dates\\\")\\n    plt.ylabel(\\\"Variation ROC\\\")\\n    plt.title(\\\"Predict X Real values\\\")\\n    plt.legend()\\n    plt.show()\\n\\n\\ndef show_true_predict_values():\\n    plt.figure(figsize=(24, 4))\\n    plt.scatter(test_labels, test_predictions)\\n    plt.xlabel(\\\"True Values [ibova_0]\\\")\\n    plt.ylabel(\\\"Predictions [ibova_0]\\\")\\n    plt.axis(\\\"equal\\\")\\n    plt.axis(\\\"square\\\")\\n    plt.xlim([0, plt.xlim()[1]])\\n    plt.ylim([0, plt.ylim()[1]])\\n    _ = plt.plot([-100, 100], [-100, 100])\";\n                var nbb_formatted_code = \"def show_test_labels():\\n    # Imprimindo valores reais\\n    plt.plot(test_labels, color=\\\"r\\\", label=\\\"ibova_REAL\\\")\\n    plt.xlabel(\\\"Dates\\\")\\n    plt.ylabel(\\\"Variation ROC\\\")\\n    plt.title(\\\"ibova_REAL\\\")\\n    plt.legend()\\n\\n\\ndef show_model_predictions():\\n    # Imprimindo previsoes\\n    plt.plot(test_predictions, color=\\\"g\\\", label=\\\"predictions_MODEL\\\")\\n    plt.xlabel(\\\"Dates\\\")\\n    plt.ylabel(\\\"Variation ROC\\\")\\n    plt.title(\\\"predictions_MODEL\\\")\\n    plt.legend()\\n\\n\\ndef show_compare_graph():\\n    # Predictt X Real values\\n    plt.plot(test_labels, color=\\\"r\\\", label=\\\"ibova_REAL\\\")\\n    plt.plot(test_predictions, color=\\\"g\\\", label=\\\"predictions_MODEL\\\")\\n    plt.xlabel(\\\"Dates\\\")\\n    plt.ylabel(\\\"Variation ROC\\\")\\n    plt.title(\\\"Predict X Real values\\\")\\n    plt.legend()\\n    plt.show()\\n\\n\\ndef show_true_predict_values():\\n    plt.figure(figsize=(24, 4))\\n    plt.scatter(test_labels, test_predictions)\\n    plt.xlabel(\\\"True Values [ibova_0]\\\")\\n    plt.ylabel(\\\"Predictions [ibova_0]\\\")\\n    plt.axis(\\\"equal\\\")\\n    plt.axis(\\\"square\\\")\\n    plt.xlim([0, plt.xlim()[1]])\\n    plt.ylim([0, plt.ylim()[1]])\\n    _ = plt.plot([-100, 100], [-100, 100])\";\n                var nbb_cells = Jupyter.notebook.get_cells();\n                for (var i = 0; i < nbb_cells.length; ++i) {\n                    if (nbb_cells[i].input_prompt_number == nbb_cell_id) {\n                        if (nbb_cells[i].get_text() == nbb_unformatted_code) {\n                             nbb_cells[i].set_text(nbb_formatted_code);\n                        }\n                        break;\n                    }\n                }\n            }, 500);\n            ",
      "text/plain": [
       "<IPython.core.display.Javascript object>"
      ]
     },
     "metadata": {},
     "output_type": "display_data"
    }
   ],
   "source": [
    "def show_test_labels():\n",
    "    # Imprimindo valores reais\n",
    "    plt.plot(test_labels, color=\"r\", label=\"ibova_REAL\")\n",
    "    plt.xlabel(\"Dates\")\n",
    "    plt.ylabel(\"Variation ROC\")\n",
    "    plt.title(\"ibova_REAL\")\n",
    "    plt.legend()\n",
    "\n",
    "\n",
    "def show_model_predictions():\n",
    "    # Imprimindo previsoes\n",
    "    plt.plot(test_predictions, color=\"g\", label=\"predictions_MODEL\")\n",
    "    plt.xlabel(\"Dates\")\n",
    "    plt.ylabel(\"Variation ROC\")\n",
    "    plt.title(\"predictions_MODEL\")\n",
    "    plt.legend()\n",
    "\n",
    "\n",
    "def show_compare_graph():\n",
    "    # Predictt X Real values\n",
    "    plt.plot(test_labels, color=\"r\", label=\"ibova_REAL\")\n",
    "    plt.plot(test_predictions, color=\"g\", label=\"predictions_MODEL\")\n",
    "    plt.xlabel(\"Dates\")\n",
    "    plt.ylabel(\"Variation ROC\")\n",
    "    plt.title(\"Predict X Real values\")\n",
    "    plt.legend()\n",
    "    plt.show()\n",
    "\n",
    "\n",
    "def show_true_predict_values():\n",
    "    plt.figure(figsize=(24, 4))\n",
    "    plt.scatter(test_labels, test_predictions)\n",
    "    plt.xlabel(\"True Values [ibova_0]\")\n",
    "    plt.ylabel(\"Predictions [ibova_0]\")\n",
    "    plt.axis(\"equal\")\n",
    "    plt.axis(\"square\")\n",
    "    plt.xlim([0, plt.xlim()[1]])\n",
    "    plt.ylim([0, plt.ylim()[1]])\n",
    "    _ = plt.plot([-100, 100], [-100, 100])"
   ]
  },
  {
   "cell_type": "code",
   "execution_count": 82,
   "metadata": {},
   "outputs": [
    {
     "data": {
      "image/png": "[encoded data removed]",
      "text/plain": [
       "<Figure size 432x288 with 1 Axes>"
      ]
     },
     "metadata": {
      "needs_background": "light"
     },
     "output_type": "display_data"
    },
    {
     "data": {
      "application/javascript": "\n            setTimeout(function() {\n                var nbb_cell_id = 82;\n                var nbb_unformatted_code = \"show_compare_graph()\";\n                var nbb_formatted_code = \"show_compare_graph()\";\n                var nbb_cells = Jupyter.notebook.get_cells();\n                for (var i = 0; i < nbb_cells.length; ++i) {\n                    if (nbb_cells[i].input_prompt_number == nbb_cell_id) {\n                        if (nbb_cells[i].get_text() == nbb_unformatted_code) {\n                             nbb_cells[i].set_text(nbb_formatted_code);\n                        }\n                        break;\n                    }\n                }\n            }, 500);\n            ",
      "text/plain": [
       "<IPython.core.display.Javascript object>"
      ]
     },
     "metadata": {},
     "output_type": "display_data"
    }
   ],
   "source": [
    "show_compare_graph()"
   ]
  },
  {
   "cell_type": "code",
   "execution_count": 83,
   "metadata": {},
   "outputs": [
    {
     "data": {
      "image/png": "[encoded data removed]",
      "text/plain": [
       "<Figure size 432x288 with 1 Axes>"
      ]
     },
     "metadata": {
      "needs_background": "light"
     },
     "output_type": "display_data"
    },
    {
     "data": {
      "application/javascript": "\n            setTimeout(function() {\n                var nbb_cell_id = 83;\n                var nbb_unformatted_code = \"show_model_predictions()\";\n                var nbb_formatted_code = \"show_model_predictions()\";\n                var nbb_cells = Jupyter.notebook.get_cells();\n                for (var i = 0; i < nbb_cells.length; ++i) {\n                    if (nbb_cells[i].input_prompt_number == nbb_cell_id) {\n                        if (nbb_cells[i].get_text() == nbb_unformatted_code) {\n                             nbb_cells[i].set_text(nbb_formatted_code);\n                        }\n                        break;\n                    }\n                }\n            }, 500);\n            ",
      "text/plain": [
       "<IPython.core.display.Javascript object>"
      ]
     },
     "metadata": {},
     "output_type": "display_data"
    }
   ],
   "source": [
    "show_model_predictions()"
   ]
  },
  {
   "cell_type": "code",
   "execution_count": 84,
   "metadata": {},
   "outputs": [
    {
     "name": "stdout",
     "output_type": "stream",
     "text": [
      "Massa de predição: 0.0165545791387558\n"
     ]
    },
    {
     "ename": "NameError",
     "evalue": "name 'ibova_test' is not defined",
     "output_type": "error",
     "traceback": [
      "\u001b[1;31m---------------------------------------------------------------------------\u001b[0m",
      "\u001b[1;31mNameError\u001b[0m                                 Traceback (most recent call last)",
      "\u001b[1;32mc:\\Users\\arthu\\Documents\\GitHub\\TCC_Stock_Predictions\\Model\\Model_MLP.ipynb Cell 38\u001b[0m in \u001b[0;36m<cell line: 4>\u001b[1;34m()\u001b[0m\n\u001b[0;32m      <a href='vscode-notebook-cell:/c%3A/Users/arthu/Documents/GitHub/TCC_Stock_Predictions/Model/Model_MLP.ipynb#X52sZmlsZQ%3D%3D?line=0'>1</a>\u001b[0m \u001b[39m# Analisando Medias:\u001b[39;00m\n\u001b[0;32m      <a href='vscode-notebook-cell:/c%3A/Users/arthu/Documents/GitHub/TCC_Stock_Predictions/Model/Model_MLP.ipynb#X52sZmlsZQ%3D%3D?line=2'>3</a>\u001b[0m \u001b[39mprint\u001b[39m(\u001b[39mf\u001b[39m\u001b[39m\"\u001b[39m\u001b[39mMassa de predição: \u001b[39m\u001b[39m{\u001b[39;00mtest_predictions\u001b[39m.\u001b[39mmean()\u001b[39m}\u001b[39;00m\u001b[39m\"\u001b[39m)\n\u001b[1;32m----> <a href='vscode-notebook-cell:/c%3A/Users/arthu/Documents/GitHub/TCC_Stock_Predictions/Model/Model_MLP.ipynb#X52sZmlsZQ%3D%3D?line=3'>4</a>\u001b[0m \u001b[39mprint\u001b[39m(\u001b[39mf\u001b[39m\u001b[39m\"\u001b[39m\u001b[39mMassa inicial: \u001b[39m\u001b[39m{\u001b[39;00mibova_test\u001b[39m.\u001b[39mmean()\u001b[39m}\u001b[39;00m\u001b[39m\"\u001b[39m)\n\u001b[0;32m      <a href='vscode-notebook-cell:/c%3A/Users/arthu/Documents/GitHub/TCC_Stock_Predictions/Model/Model_MLP.ipynb#X52sZmlsZQ%3D%3D?line=4'>5</a>\u001b[0m \u001b[39mprint\u001b[39m(\u001b[39mf\u001b[39m\u001b[39m\"\u001b[39m\u001b[39mDiferenças das médias: \u001b[39m\u001b[39m{\u001b[39;00mibova_test\u001b[39m.\u001b[39mmean() \u001b[39m-\u001b[39m test_predictions\u001b[39m.\u001b[39mmean()\u001b[39m}\u001b[39;00m\u001b[39m\"\u001b[39m)\n",
      "\u001b[1;31mNameError\u001b[0m: name 'ibova_test' is not defined"
     ]
    },
    {
     "data": {
      "application/javascript": "\n            setTimeout(function() {\n                var nbb_cell_id = 84;\n                var nbb_unformatted_code = \"# Analisando Medias:\\n\\nprint(f\\\"Massa de predi\\u00e7\\u00e3o: {test_predictions.mean()}\\\")\\nprint(f\\\"Massa inicial: {ibova_test.mean()}\\\")\\nprint(f\\\"Diferen\\u00e7as das m\\u00e9dias: {ibova_test.mean() - test_predictions.mean()}\\\")\\n\\n# Add o RM_MSE medio\";\n                var nbb_formatted_code = \"# Analisando Medias:\\n\\nprint(f\\\"Massa de predi\\u00e7\\u00e3o: {test_predictions.mean()}\\\")\\nprint(f\\\"Massa inicial: {ibova_test.mean()}\\\")\\nprint(f\\\"Diferen\\u00e7as das m\\u00e9dias: {ibova_test.mean() - test_predictions.mean()}\\\")\\n\\n# Add o RM_MSE medio\";\n                var nbb_cells = Jupyter.notebook.get_cells();\n                for (var i = 0; i < nbb_cells.length; ++i) {\n                    if (nbb_cells[i].input_prompt_number == nbb_cell_id) {\n                        if (nbb_cells[i].get_text() == nbb_unformatted_code) {\n                             nbb_cells[i].set_text(nbb_formatted_code);\n                        }\n                        break;\n                    }\n                }\n            }, 500);\n            ",
      "text/plain": [
       "<IPython.core.display.Javascript object>"
      ]
     },
     "metadata": {},
     "output_type": "display_data"
    }
   ],
   "source": [
    "# Analisando Medias:\n",
    "\n",
    "print(f\"Massa de predição: {test_predictions.mean()}\")\n",
    "print(f\"Massa inicial: {ibova_test.mean()}\")\n",
    "print(f\"Diferenças das médias: {ibova_test.mean() - test_predictions.mean()}\")\n",
    "\n",
    "# Add o RM_MSE medio"
   ]
  },
  {
   "cell_type": "code",
   "execution_count": 93,
   "metadata": {},
   "outputs": [
    {
     "data": {
      "application/javascript": "\n            setTimeout(function() {\n                var nbb_cell_id = 93;\n                var nbb_unformatted_code = \"\\nmodel_name = f'mlp_unit_1({best_hps.get(\\\"unit_1\\\")}_unit_2({best_hps.get(\\\"unit_2\\\")}_unit_3({best_hps.get(\\\"unit_3\\\")}_unit_4({best_hps.get(\\\"unit_4\\\")}__learning({best_hps.get(\\\"learning_rate\\\")}__activation({best_hps.get(\\\"activation\\\")}'\\nmodel_name\\nmodel.save(f\\\"models/mlp/{model_name}_{save_time}.h5\\\")\";\n                var nbb_formatted_code = \"model_name = f'mlp_unit_1({best_hps.get(\\\"unit_1\\\")}_unit_2({best_hps.get(\\\"unit_2\\\")}_unit_3({best_hps.get(\\\"unit_3\\\")}_unit_4({best_hps.get(\\\"unit_4\\\")}__learning({best_hps.get(\\\"learning_rate\\\")}__activation({best_hps.get(\\\"activation\\\")}'\\nmodel_name\\nmodel.save(f\\\"models/mlp/{model_name}_{save_time}.h5\\\")\";\n                var nbb_cells = Jupyter.notebook.get_cells();\n                for (var i = 0; i < nbb_cells.length; ++i) {\n                    if (nbb_cells[i].input_prompt_number == nbb_cell_id) {\n                        if (nbb_cells[i].get_text() == nbb_unformatted_code) {\n                             nbb_cells[i].set_text(nbb_formatted_code);\n                        }\n                        break;\n                    }\n                }\n            }, 500);\n            ",
      "text/plain": [
       "<IPython.core.display.Javascript object>"
      ]
     },
     "metadata": {},
     "output_type": "display_data"
    }
   ],
   "source": [
    "model_name = f'mlp_unit_1({best_hps.get(\"unit_1\")})unit_2({best_hps.get(\"unit_2\")})unit_3({best_hps.get(\"unit_3\")})unit_4({best_hps.get(\"unit_4\")})_learning({best_hps.get(\"learning_rate\")})_activation({best_hps.get(\"activation\")})'\n",
    "model_name\n",
    "model.save(f\"models/mlp/{model_name}_{save_time}.h5\")"
   ]
  }
 ],
 "metadata": {
  "kernelspec": {
   "display_name": "Python 3.8.12 ('pystock')",
   "language": "python",
   "name": "python3"
  },
  "language_info": {
   "codemirror_mode": {
    "name": "ipython",
    "version": 3
   },
   "file_extension": ".py",
   "mimetype": "text/x-python",
   "name": "python",
   "nbconvert_exporter": "python",
   "pygments_lexer": "ipython3",
   "version": "3.8.13"
  },
  "orig_nbformat": 4,
  "vscode": {
   "interpreter": {
    "hash": "bc0c8eb905859abd75b389576d87e2ac71c748b72952270660ecc130aeb3e651"
   }
  }
 },
 "nbformat": 4,
 "nbformat_minor": 2
}
