{
 "cells": [
  {
   "cell_type": "code",
   "execution_count": 210,
   "metadata": {},
   "outputs": [
    {
     "data": {
      "application/javascript": "\n            setTimeout(function() {\n                var nbb_cell_id = 210;\n                var nbb_unformatted_code = \"# Usei como base esse tutorial:\\n# https://colab.research.google.com/github/tensorflow/docs-l10n/blob/master/site/pt-br/tutorials/keras/regression.ipynb#scrollTo=f-OHX4DiXd8x\";\n                var nbb_formatted_code = \"# Usei como base esse tutorial:\\n# https://colab.research.google.com/github/tensorflow/docs-l10n/blob/master/site/pt-br/tutorials/keras/regression.ipynb#scrollTo=f-OHX4DiXd8x\";\n                var nbb_cells = Jupyter.notebook.get_cells();\n                for (var i = 0; i < nbb_cells.length; ++i) {\n                    if (nbb_cells[i].input_prompt_number == nbb_cell_id) {\n                        if (nbb_cells[i].get_text() == nbb_unformatted_code) {\n                             nbb_cells[i].set_text(nbb_formatted_code);\n                        }\n                        break;\n                    }\n                }\n            }, 500);\n            ",
      "text/plain": [
       "<IPython.core.display.Javascript object>"
      ]
     },
     "metadata": {},
     "output_type": "display_data"
    }
   ],
   "source": [
    "# Usei como base esse tutorial:\n",
    "# https://colab.research.google.com/github/tensorflow/docs-l10n/blob/master/site/pt-br/tutorials/keras/regression.ipynb#scrollTo=f-OHX4DiXd8x"
   ]
  },
  {
   "cell_type": "code",
   "execution_count": 211,
   "metadata": {},
   "outputs": [
    {
     "data": {
      "application/javascript": "\n            setTimeout(function() {\n                var nbb_cell_id = 211;\n                var nbb_unformatted_code = \"# # # # Clear logs\\n# # # %rm -rf ./logs/\\n\\n# # # Ativa\\u00e7\\u00e3o do Tensorboard\\n# %conda activate pystock\\n# %load_ext tensorboard\\n\\n# # # Reload Tensorboar\\n# %reload_ext tensorboard\";\n                var nbb_formatted_code = \"# # # # Clear logs\\n# # # %rm -rf ./logs/\\n\\n# # # Ativa\\u00e7\\u00e3o do Tensorboard\\n# %conda activate pystock\\n# %load_ext tensorboard\\n\\n# # # Reload Tensorboar\\n# %reload_ext tensorboard\";\n                var nbb_cells = Jupyter.notebook.get_cells();\n                for (var i = 0; i < nbb_cells.length; ++i) {\n                    if (nbb_cells[i].input_prompt_number == nbb_cell_id) {\n                        if (nbb_cells[i].get_text() == nbb_unformatted_code) {\n                             nbb_cells[i].set_text(nbb_formatted_code);\n                        }\n                        break;\n                    }\n                }\n            }, 500);\n            ",
      "text/plain": [
       "<IPython.core.display.Javascript object>"
      ]
     },
     "metadata": {},
     "output_type": "display_data"
    }
   ],
   "source": [
    "# # # # Clear logs\n",
    "# # # %rm -rf ./logs/\n",
    "\n",
    "# # # Ativação do Tensorboard\n",
    "# %conda activate pystock\n",
    "# %load_ext tensorboard\n",
    "\n",
    "# # # Reload Tensorboar\n",
    "# %reload_ext tensorboard"
   ]
  },
  {
   "cell_type": "code",
   "execution_count": 212,
   "metadata": {},
   "outputs": [
    {
     "data": {
      "application/javascript": "\n            setTimeout(function() {\n                var nbb_cell_id = 212;\n                var nbb_unformatted_code = \"# # # Reload Tensorboar\\n# %reload_ext tensorboa\";\n                var nbb_formatted_code = \"# # # Reload Tensorboar\\n# %reload_ext tensorboa\";\n                var nbb_cells = Jupyter.notebook.get_cells();\n                for (var i = 0; i < nbb_cells.length; ++i) {\n                    if (nbb_cells[i].input_prompt_number == nbb_cell_id) {\n                        if (nbb_cells[i].get_text() == nbb_unformatted_code) {\n                             nbb_cells[i].set_text(nbb_formatted_code);\n                        }\n                        break;\n                    }\n                }\n            }, 500);\n            ",
      "text/plain": [
       "<IPython.core.display.Javascript object>"
      ]
     },
     "metadata": {},
     "output_type": "display_data"
    }
   ],
   "source": [
    "# # # Reload Tensorboar\n",
    "# %reload_ext tensorboa"
   ]
  },
  {
   "cell_type": "code",
   "execution_count": 213,
   "metadata": {},
   "outputs": [
    {
     "name": "stdout",
     "output_type": "stream",
     "text": [
      "The nb_black extension is already loaded. To reload it, use:\n",
      "  %reload_ext nb_black\n",
      "The lab_black extension is already loaded. To reload it, use:\n",
      "  %reload_ext lab_black\n"
     ]
    },
    {
     "data": {
      "application/javascript": "\n            setTimeout(function() {\n                var nbb_cell_id = 213;\n                var nbb_unformatted_code = \"%load_ext nb_black\\n%load_ext lab_black\";\n                var nbb_formatted_code = \"%load_ext nb_black\\n%load_ext lab_black\";\n                var nbb_cells = Jupyter.notebook.get_cells();\n                for (var i = 0; i < nbb_cells.length; ++i) {\n                    if (nbb_cells[i].input_prompt_number == nbb_cell_id) {\n                        if (nbb_cells[i].get_text() == nbb_unformatted_code) {\n                             nbb_cells[i].set_text(nbb_formatted_code);\n                        }\n                        break;\n                    }\n                }\n            }, 500);\n            ",
      "text/plain": [
       "<IPython.core.display.Javascript object>"
      ]
     },
     "metadata": {},
     "output_type": "display_data"
    }
   ],
   "source": [
    "%load_ext nb_black\n",
    "%load_ext lab_black"
   ]
  },
  {
   "cell_type": "markdown",
   "metadata": {},
   "source": [
    "# Sequential model\n",
    "\n",
    "*Dense model 16*\n",
    "*Dense model 16*\n",
    "*Dense model 8*\n",
    "*Dense model 4*\n",
    "*Epoch 350*\n",
    "\n",
    "_MSE: 1.31_\n",
    "epoch: 350\n",
    "\n",
    "Activation: softplus\n",
    "Optimizer: Adam\n",
    "\n",
    "15/15 - 0s - loss: 0.6325 - mae: 0.5830 - mse: 0.6325\n",
    "Testing set Mean Abs Error:  0.58 ibova_0"
   ]
  },
  {
   "cell_type": "code",
   "execution_count": 214,
   "metadata": {},
   "outputs": [
    {
     "data": {
      "application/javascript": "\n            setTimeout(function() {\n                var nbb_cell_id = 214;\n                var nbb_unformatted_code = \"import pathlib\\nimport datetime\\n\\nimport matplotlib.pyplot as plt\\nimport pandas as pd\\nimport seaborn as sns\\n\\nimport tensorflow as tf\\nimport datetime\\n\\nfrom tensorflow import keras\\nfrom tensorflow.keras import layers\\n\\nfrom keras.callbacks import ModelCheckpoint\\nimport keras_tuner as kt\";\n                var nbb_formatted_code = \"import pathlib\\nimport datetime\\n\\nimport matplotlib.pyplot as plt\\nimport pandas as pd\\nimport seaborn as sns\\n\\nimport tensorflow as tf\\nimport datetime\\n\\nfrom tensorflow import keras\\nfrom tensorflow.keras import layers\\n\\nfrom keras.callbacks import ModelCheckpoint\\nimport keras_tuner as kt\";\n                var nbb_cells = Jupyter.notebook.get_cells();\n                for (var i = 0; i < nbb_cells.length; ++i) {\n                    if (nbb_cells[i].input_prompt_number == nbb_cell_id) {\n                        if (nbb_cells[i].get_text() == nbb_unformatted_code) {\n                             nbb_cells[i].set_text(nbb_formatted_code);\n                        }\n                        break;\n                    }\n                }\n            }, 500);\n            ",
      "text/plain": [
       "<IPython.core.display.Javascript object>"
      ]
     },
     "metadata": {},
     "output_type": "display_data"
    }
   ],
   "source": [
    "import pathlib\n",
    "import datetime\n",
    "\n",
    "import matplotlib.pyplot as plt\n",
    "import pandas as pd\n",
    "import seaborn as sns\n",
    "\n",
    "import tensorflow as tf\n",
    "import datetime\n",
    "\n",
    "from tensorflow import keras\n",
    "from tensorflow.keras import layers\n",
    "\n",
    "from keras.callbacks import ModelCheckpoint\n",
    "import keras_tuner as kt"
   ]
  },
  {
   "cell_type": "markdown",
   "metadata": {},
   "source": [
    "# Lendo Dfs"
   ]
  },
  {
   "cell_type": "code",
   "execution_count": 215,
   "metadata": {},
   "outputs": [
    {
     "data": {
      "application/javascript": "\n            setTimeout(function() {\n                var nbb_cell_id = 215;\n                var nbb_unformatted_code = \"# 60%\\nPATH_TREINO = \\\"../Data/3_Gold/Treino_all_stocks.csv\\\"\\nDF_TREINO = pd.read_csv(PATH_TREINO, sep=\\\",\\\")\\ntrain_dataset = DF_TREINO\\ntrain_dataset = train_dataset.drop(\\n    [\\n        \\\"oil_5\\\",\\n        \\\"usd_5\\\",\\n        \\\"abev_5\\\",\\n        \\\"jbs_5\\\",\\n        \\\"petr_5\\\",\\n        \\\"vale_5\\\",\\n    ],\\n    axis=1,\\n)\\ntrain_labels = train_dataset.pop(\\\"ibova_5\\\")\\n\\n# 20%\\nPATH_VALIDACAO = \\\"../Data/3_Gold/Validacao_all_stocks.csv\\\"\\nDF_VALIDACAO = pd.read_csv(PATH_VALIDACAO, sep=\\\",\\\")\\nvalid_dataset = DF_VALIDACAO\\nvalid_dataset = valid_dataset.drop(\\n    [\\n        \\\"ibova_5\\\",\\n        \\\"oil_5\\\",\\n        \\\"usd_5\\\",\\n        \\\"abev_5\\\",\\n        \\\"jbs_5\\\",\\n        \\\"petr_5\\\",\\n        \\\"vale_5\\\",\\n    ],\\n    axis=1,\\n)\\n# valid_labels = valid_dataset.pop('ibova_5')\\n\\n# 20%\\nPATH_TESTE = \\\"../Data/3_Gold/Teste_all_stocks.csv\\\"\\nDF_TESTE = pd.read_csv(PATH_TESTE, sep=\\\",\\\")\\ntest_dataset = DF_TESTE\\ntest_dataset = test_dataset.drop(\\n    [\\n        \\\"oil_5\\\",\\n        \\\"usd_5\\\",\\n        \\\"abev_5\\\",\\n        \\\"jbs_5\\\",\\n        \\\"petr_5\\\",\\n        \\\"vale_5\\\",\\n    ],\\n    axis=1,\\n)\\ntest_labels = test_dataset.pop(\\\"ibova_5\\\")\";\n                var nbb_formatted_code = \"# 60%\\nPATH_TREINO = \\\"../Data/3_Gold/Treino_all_stocks.csv\\\"\\nDF_TREINO = pd.read_csv(PATH_TREINO, sep=\\\",\\\")\\ntrain_dataset = DF_TREINO\\ntrain_dataset = train_dataset.drop(\\n    [\\n        \\\"oil_5\\\",\\n        \\\"usd_5\\\",\\n        \\\"abev_5\\\",\\n        \\\"jbs_5\\\",\\n        \\\"petr_5\\\",\\n        \\\"vale_5\\\",\\n    ],\\n    axis=1,\\n)\\ntrain_labels = train_dataset.pop(\\\"ibova_5\\\")\\n\\n# 20%\\nPATH_VALIDACAO = \\\"../Data/3_Gold/Validacao_all_stocks.csv\\\"\\nDF_VALIDACAO = pd.read_csv(PATH_VALIDACAO, sep=\\\",\\\")\\nvalid_dataset = DF_VALIDACAO\\nvalid_dataset = valid_dataset.drop(\\n    [\\n        \\\"ibova_5\\\",\\n        \\\"oil_5\\\",\\n        \\\"usd_5\\\",\\n        \\\"abev_5\\\",\\n        \\\"jbs_5\\\",\\n        \\\"petr_5\\\",\\n        \\\"vale_5\\\",\\n    ],\\n    axis=1,\\n)\\n# valid_labels = valid_dataset.pop('ibova_5')\\n\\n# 20%\\nPATH_TESTE = \\\"../Data/3_Gold/Teste_all_stocks.csv\\\"\\nDF_TESTE = pd.read_csv(PATH_TESTE, sep=\\\",\\\")\\ntest_dataset = DF_TESTE\\ntest_dataset = test_dataset.drop(\\n    [\\n        \\\"oil_5\\\",\\n        \\\"usd_5\\\",\\n        \\\"abev_5\\\",\\n        \\\"jbs_5\\\",\\n        \\\"petr_5\\\",\\n        \\\"vale_5\\\",\\n    ],\\n    axis=1,\\n)\\ntest_labels = test_dataset.pop(\\\"ibova_5\\\")\";\n                var nbb_cells = Jupyter.notebook.get_cells();\n                for (var i = 0; i < nbb_cells.length; ++i) {\n                    if (nbb_cells[i].input_prompt_number == nbb_cell_id) {\n                        if (nbb_cells[i].get_text() == nbb_unformatted_code) {\n                             nbb_cells[i].set_text(nbb_formatted_code);\n                        }\n                        break;\n                    }\n                }\n            }, 500);\n            ",
      "text/plain": [
       "<IPython.core.display.Javascript object>"
      ]
     },
     "metadata": {},
     "output_type": "display_data"
    }
   ],
   "source": [
    "# 60%\n",
    "PATH_TREINO = \"../Data/3_Gold/Treino_all_stocks.csv\"\n",
    "DF_TREINO = pd.read_csv(PATH_TREINO, sep=\",\")\n",
    "train_dataset = DF_TREINO\n",
    "train_dataset = train_dataset.drop(\n",
    "    [\n",
    "        \"oil_5\",\n",
    "        \"usd_5\",\n",
    "        \"abev_5\",\n",
    "        \"jbs_5\",\n",
    "        \"petr_5\",\n",
    "        \"vale_5\",\n",
    "    ],\n",
    "    axis=1,\n",
    ")\n",
    "train_labels = train_dataset.pop(\"ibova_5\")\n",
    "\n",
    "# 20%\n",
    "PATH_VALIDACAO = \"../Data/3_Gold/Validacao_all_stocks.csv\"\n",
    "DF_VALIDACAO = pd.read_csv(PATH_VALIDACAO, sep=\",\")\n",
    "valid_dataset = DF_VALIDACAO\n",
    "valid_dataset = valid_dataset.drop(\n",
    "    [\n",
    "        \"ibova_5\",\n",
    "        \"oil_5\",\n",
    "        \"usd_5\",\n",
    "        \"abev_5\",\n",
    "        \"jbs_5\",\n",
    "        \"petr_5\",\n",
    "        \"vale_5\",\n",
    "    ],\n",
    "    axis=1,\n",
    ")\n",
    "# valid_labels = valid_dataset.pop('ibova_5')\n",
    "\n",
    "# 20%\n",
    "PATH_TESTE = \"../Data/3_Gold/Teste_all_stocks.csv\"\n",
    "DF_TESTE = pd.read_csv(PATH_TESTE, sep=\",\")\n",
    "test_dataset = DF_TESTE\n",
    "test_dataset = test_dataset.drop(\n",
    "    [\n",
    "        \"oil_5\",\n",
    "        \"usd_5\",\n",
    "        \"abev_5\",\n",
    "        \"jbs_5\",\n",
    "        \"petr_5\",\n",
    "        \"vale_5\",\n",
    "    ],\n",
    "    axis=1,\n",
    ")\n",
    "test_labels = test_dataset.pop(\"ibova_5\")"
   ]
  },
  {
   "cell_type": "code",
   "execution_count": 216,
   "metadata": {},
   "outputs": [
    {
     "data": {
      "application/javascript": "\n            setTimeout(function() {\n                var nbb_cell_id = 216;\n                var nbb_unformatted_code = \"# Tentando criar um conjunti de valida\\u00e7\\u00e3o pra input no modelo\\n\\n# val_dataset = tf.data.Dataset.from_tensor_slices(('ibova_0', '*'))\";\n                var nbb_formatted_code = \"# Tentando criar um conjunti de valida\\u00e7\\u00e3o pra input no modelo\\n\\n# val_dataset = tf.data.Dataset.from_tensor_slices(('ibova_0', '*'))\";\n                var nbb_cells = Jupyter.notebook.get_cells();\n                for (var i = 0; i < nbb_cells.length; ++i) {\n                    if (nbb_cells[i].input_prompt_number == nbb_cell_id) {\n                        if (nbb_cells[i].get_text() == nbb_unformatted_code) {\n                             nbb_cells[i].set_text(nbb_formatted_code);\n                        }\n                        break;\n                    }\n                }\n            }, 500);\n            ",
      "text/plain": [
       "<IPython.core.display.Javascript object>"
      ]
     },
     "metadata": {},
     "output_type": "display_data"
    }
   ],
   "source": [
    "# Tentando criar um conjunti de validação pra input no modelo\n",
    "\n",
    "# val_dataset = tf.data.Dataset.from_tensor_slices(('ibova_0', '*'))"
   ]
  },
  {
   "cell_type": "code",
   "execution_count": 217,
   "metadata": {},
   "outputs": [
    {
     "data": {
      "text/plain": [
       "0      0.225610\n",
       "1      0.455028\n",
       "2      0.448165\n",
       "3      0.245391\n",
       "4      0.281350\n",
       "         ...   \n",
       "467    0.376867\n",
       "468    0.139796\n",
       "469    0.270228\n",
       "470    0.073591\n",
       "471   -0.012919\n",
       "Name: ibova_0, Length: 472, dtype: float64"
      ]
     },
     "execution_count": 217,
     "metadata": {},
     "output_type": "execute_result"
    },
    {
     "data": {
      "application/javascript": "\n            setTimeout(function() {\n                var nbb_cell_id = 217;\n                var nbb_unformatted_code = \"valid_dataset.ibova_0\\n\\n# Pesquisar:\\n# \\tvarias colunas to series em pandas\";\n                var nbb_formatted_code = \"valid_dataset.ibova_0\\n\\n# Pesquisar:\\n# \\tvarias colunas to series em pandas\";\n                var nbb_cells = Jupyter.notebook.get_cells();\n                for (var i = 0; i < nbb_cells.length; ++i) {\n                    if (nbb_cells[i].input_prompt_number == nbb_cell_id) {\n                        if (nbb_cells[i].get_text() == nbb_unformatted_code) {\n                             nbb_cells[i].set_text(nbb_formatted_code);\n                        }\n                        break;\n                    }\n                }\n            }, 500);\n            ",
      "text/plain": [
       "<IPython.core.display.Javascript object>"
      ]
     },
     "metadata": {},
     "output_type": "display_data"
    }
   ],
   "source": [
    "valid_dataset.ibova_0\n",
    "\n",
    "# Pesquisar:\n",
    "# \tvarias colunas to series em pandas"
   ]
  },
  {
   "cell_type": "code",
   "execution_count": 218,
   "metadata": {},
   "outputs": [
    {
     "data": {
      "application/javascript": "\n            setTimeout(function() {\n                var nbb_cell_id = 218;\n                var nbb_unformatted_code = \"# index,\\n# ibova_0,ibova_1,ibova_2,ibova_3,ibova_4,ibova_5,\\n# oil_0,oil_1,oil_2,oil_3,oil_4,oil_5,usd_0,\\n# usd_1,usd_2,usd_3,usd_4,usd_5,\\n# abev_0,abev_1,abev_2,abev_3,abev_4,abev_5,\\n# jbs_0,jbs_1,jbs_2,jbs_3,jbs_4,jbs_5,\\n# petr_0,petr_1,petr_2,petr_3,petr_4,petr_5,\\n# vale_0,vale_1,vale_2,vale_3,vale_4,vale_5\";\n                var nbb_formatted_code = \"# index,\\n# ibova_0,ibova_1,ibova_2,ibova_3,ibova_4,ibova_5,\\n# oil_0,oil_1,oil_2,oil_3,oil_4,oil_5,usd_0,\\n# usd_1,usd_2,usd_3,usd_4,usd_5,\\n# abev_0,abev_1,abev_2,abev_3,abev_4,abev_5,\\n# jbs_0,jbs_1,jbs_2,jbs_3,jbs_4,jbs_5,\\n# petr_0,petr_1,petr_2,petr_3,petr_4,petr_5,\\n# vale_0,vale_1,vale_2,vale_3,vale_4,vale_5\";\n                var nbb_cells = Jupyter.notebook.get_cells();\n                for (var i = 0; i < nbb_cells.length; ++i) {\n                    if (nbb_cells[i].input_prompt_number == nbb_cell_id) {\n                        if (nbb_cells[i].get_text() == nbb_unformatted_code) {\n                             nbb_cells[i].set_text(nbb_formatted_code);\n                        }\n                        break;\n                    }\n                }\n            }, 500);\n            ",
      "text/plain": [
       "<IPython.core.display.Javascript object>"
      ]
     },
     "metadata": {},
     "output_type": "display_data"
    }
   ],
   "source": [
    "# index,\n",
    "# ibova_0,ibova_1,ibova_2,ibova_3,ibova_4,ibova_5,\n",
    "# oil_0,oil_1,oil_2,oil_3,oil_4,oil_5,usd_0,\n",
    "# usd_1,usd_2,usd_3,usd_4,usd_5,\n",
    "# abev_0,abev_1,abev_2,abev_3,abev_4,abev_5,\n",
    "# jbs_0,jbs_1,jbs_2,jbs_3,jbs_4,jbs_5,\n",
    "# petr_0,petr_1,petr_2,petr_3,petr_4,petr_5,\n",
    "# vale_0,vale_1,vale_2,vale_3,vale_4,vale_5"
   ]
  },
  {
   "cell_type": "markdown",
   "metadata": {},
   "source": [
    "# Inspecionando os dados"
   ]
  },
  {
   "cell_type": "code",
   "execution_count": 219,
   "metadata": {},
   "outputs": [
    {
     "data": {
      "application/javascript": "\n            setTimeout(function() {\n                var nbb_cell_id = 219;\n                var nbb_unformatted_code = \"# sns.pairplot(train_dataset[['index','ibova_0','ibova_1','ibova_2','ibova_3','ibova_4','oil_0','oil_1','oil_2','oil_3','oil_4','usd_0','usd_1','usd_2','usd_3','usd_4']], diag_kind=\\\"kde\\\")\\n# sns.pairplot(train_dataset[['index','ibova_0','oil_0','usd_0']], diag_kind=\\\"kde\\\")\\n# sns.pairplot(train_dataset[['ibova_1','oil_1','usd_1']], diag_kind=\\\"kde\\\")\\n\\ntrain_stats = train_dataset.describe()\\n# train_stats\";\n                var nbb_formatted_code = \"# sns.pairplot(train_dataset[['index','ibova_0','ibova_1','ibova_2','ibova_3','ibova_4','oil_0','oil_1','oil_2','oil_3','oil_4','usd_0','usd_1','usd_2','usd_3','usd_4']], diag_kind=\\\"kde\\\")\\n# sns.pairplot(train_dataset[['index','ibova_0','oil_0','usd_0']], diag_kind=\\\"kde\\\")\\n# sns.pairplot(train_dataset[['ibova_1','oil_1','usd_1']], diag_kind=\\\"kde\\\")\\n\\ntrain_stats = train_dataset.describe()\\n# train_stats\";\n                var nbb_cells = Jupyter.notebook.get_cells();\n                for (var i = 0; i < nbb_cells.length; ++i) {\n                    if (nbb_cells[i].input_prompt_number == nbb_cell_id) {\n                        if (nbb_cells[i].get_text() == nbb_unformatted_code) {\n                             nbb_cells[i].set_text(nbb_formatted_code);\n                        }\n                        break;\n                    }\n                }\n            }, 500);\n            ",
      "text/plain": [
       "<IPython.core.display.Javascript object>"
      ]
     },
     "metadata": {},
     "output_type": "display_data"
    }
   ],
   "source": [
    "# sns.pairplot(train_dataset[['index','ibova_0','ibova_1','ibova_2','ibova_3','ibova_4','oil_0','oil_1','oil_2','oil_3','oil_4','usd_0','usd_1','usd_2','usd_3','usd_4']], diag_kind=\"kde\")\n",
    "# sns.pairplot(train_dataset[['index','ibova_0','oil_0','usd_0']], diag_kind=\"kde\")\n",
    "# sns.pairplot(train_dataset[['ibova_1','oil_1','usd_1']], diag_kind=\"kde\")\n",
    "\n",
    "train_stats = train_dataset.describe()\n",
    "# train_stats"
   ]
  },
  {
   "cell_type": "markdown",
   "metadata": {},
   "source": [
    "# Definindo o modelo"
   ]
  },
  {
   "cell_type": "markdown",
   "metadata": {},
   "source": [
    "#TODO:\n",
    "\n",
    "Definir um range para a definição dos hyper parametros do modelo\n",
    "\n",
    "https://scikit-learn.org/stable/modules/classes.html#module-sklearn.model_selection\n",
    "\thyper parameter optimizers\n",
    "\n",
    "https://scikit-learn.org/stable/modules/generated/sklearn.model_selection.GridSearchCV.html\n",
    "\n",
    "A biblioteca vai encontrar os melhores parametros no conjunto de validacao \n",
    "\n",
    "https://www.tensorflow.org/tutorials/keras/keras_tuner"
   ]
  },
  {
   "cell_type": "code",
   "execution_count": 220,
   "metadata": {},
   "outputs": [
    {
     "data": {
      "application/javascript": "\n            setTimeout(function() {\n                var nbb_cell_id = 220;\n                var nbb_unformatted_code = \"def model_builder(hp):\\n    hp_unit_1 = hp.Int(\\\"unit_1\\\", min_value=16, max_value=64, step=1)\\n    hp_unit_2 = hp.Int(\\\"unit_2\\\", min_value=4, max_value=64, step=1)\\n    hp_unit_3 = hp.Int(\\\"unit_3\\\", min_value=4, max_value=64, step=1)\\n    hp_unit_4 = hp.Int(\\\"unit_4\\\", min_value=4, max_value=64, step=1)\\n    activationL = [\\n        \\\"relu\\\",\\n        \\\"sigmoid\\\",\\n        \\\"softplus\\\",\\n        \\\"softsign\\\",\\n        \\\"tanh\\\",\\n        \\\"selu\\\",\\n        \\\"elu\\\",\\n        \\\"exponential\\\",\\n        \\\"relu\\\",\\n    ]\\n    activation_choice = hp.Choice(\\\"activation\\\", values=activationL)\\n    hp_learning_rate = hp.Choice(\\\"learning_rate\\\", values=[1e-2, 1e-3, 1e-4])\\n\\n    model = keras.Sequential(\\n        [\\n            layers.Dense(\\n                units=hp_unit_1,\\n                activation=activation_choice,\\n                input_shape=[len(train_dataset.keys())],\\n            ),\\n            layers.Dense(units=hp_unit_2, activation=activation_choice),\\n            layers.Dense(units=hp_unit_3, activation=activation_choice),\\n            layers.Dense(units=hp_unit_4, activation=activation_choice),\\n            layers.Dense(units=1, activation=\\\"linear\\\"),\\n        ]\\n    )\\n\\n    model.compile(\\n        optimizer=keras.optimizers.Adam(learning_rate=hp_learning_rate),\\n        loss=\\\"mse\\\",\\n        metrics=[\\\"mae\\\", \\\"mse\\\"],\\n    )\\n\\n    return model\\n\\n\\n# rmse pra avalia\\u00e7\\u00e3o, nao para loss\";\n                var nbb_formatted_code = \"def model_builder(hp):\\n    hp_unit_1 = hp.Int(\\\"unit_1\\\", min_value=16, max_value=64, step=1)\\n    hp_unit_2 = hp.Int(\\\"unit_2\\\", min_value=4, max_value=64, step=1)\\n    hp_unit_3 = hp.Int(\\\"unit_3\\\", min_value=4, max_value=64, step=1)\\n    hp_unit_4 = hp.Int(\\\"unit_4\\\", min_value=4, max_value=64, step=1)\\n    activationL = [\\n        \\\"relu\\\",\\n        \\\"sigmoid\\\",\\n        \\\"softplus\\\",\\n        \\\"softsign\\\",\\n        \\\"tanh\\\",\\n        \\\"selu\\\",\\n        \\\"elu\\\",\\n        \\\"exponential\\\",\\n        \\\"relu\\\",\\n    ]\\n    activation_choice = hp.Choice(\\\"activation\\\", values=activationL)\\n    hp_learning_rate = hp.Choice(\\\"learning_rate\\\", values=[1e-2, 1e-3, 1e-4])\\n\\n    model = keras.Sequential(\\n        [\\n            layers.Dense(\\n                units=hp_unit_1,\\n                activation=activation_choice,\\n                input_shape=[len(train_dataset.keys())],\\n            ),\\n            layers.Dense(units=hp_unit_2, activation=activation_choice),\\n            layers.Dense(units=hp_unit_3, activation=activation_choice),\\n            layers.Dense(units=hp_unit_4, activation=activation_choice),\\n            layers.Dense(units=1, activation=\\\"linear\\\"),\\n        ]\\n    )\\n\\n    model.compile(\\n        optimizer=keras.optimizers.Adam(learning_rate=hp_learning_rate),\\n        loss=\\\"mse\\\",\\n        metrics=[\\\"mae\\\", \\\"mse\\\"],\\n    )\\n\\n    return model\\n\\n\\n# rmse pra avalia\\u00e7\\u00e3o, nao para loss\";\n                var nbb_cells = Jupyter.notebook.get_cells();\n                for (var i = 0; i < nbb_cells.length; ++i) {\n                    if (nbb_cells[i].input_prompt_number == nbb_cell_id) {\n                        if (nbb_cells[i].get_text() == nbb_unformatted_code) {\n                             nbb_cells[i].set_text(nbb_formatted_code);\n                        }\n                        break;\n                    }\n                }\n            }, 500);\n            ",
      "text/plain": [
       "<IPython.core.display.Javascript object>"
      ]
     },
     "metadata": {},
     "output_type": "display_data"
    }
   ],
   "source": [
    "def model_builder(hp):\n",
    "    hp_unit_1 = hp.Int(\"unit_1\", min_value=16, max_value=64, step=1)\n",
    "    hp_unit_2 = hp.Int(\"unit_2\", min_value=4, max_value=64, step=1)\n",
    "    hp_unit_3 = hp.Int(\"unit_3\", min_value=4, max_value=64, step=1)\n",
    "    hp_unit_4 = hp.Int(\"unit_4\", min_value=4, max_value=64, step=1)\n",
    "    activationL = [\n",
    "        \"relu\",\n",
    "        \"sigmoid\",\n",
    "        \"softplus\",\n",
    "        \"softsign\",\n",
    "        \"tanh\",\n",
    "        \"selu\",\n",
    "        \"elu\",\n",
    "        \"exponential\",\n",
    "        \"relu\",\n",
    "    ]\n",
    "    activation_choice = hp.Choice(\"activation\", values=activationL)\n",
    "    hp_learning_rate = hp.Choice(\"learning_rate\", values=[1e-2, 1e-3, 1e-4])\n",
    "\n",
    "    model = keras.Sequential(\n",
    "        [\n",
    "            layers.Dense(\n",
    "                units=hp_unit_1,\n",
    "                activation=activation_choice,\n",
    "                input_shape=[len(train_dataset.keys())],\n",
    "            ),\n",
    "            layers.Dense(units=hp_unit_2, activation=activation_choice),\n",
    "            layers.Dense(units=hp_unit_3, activation=activation_choice),\n",
    "            layers.Dense(units=hp_unit_4, activation=activation_choice),\n",
    "            layers.Dense(units=1, activation=\"linear\"),\n",
    "        ]\n",
    "    )\n",
    "\n",
    "    model.compile(\n",
    "        optimizer=keras.optimizers.Adam(learning_rate=hp_learning_rate),\n",
    "        loss=\"mse\",\n",
    "        metrics=[\"mae\", \"mse\"],\n",
    "    )\n",
    "\n",
    "    return model\n",
    "\n",
    "\n",
    "# rmse pra avaliação, nao para loss"
   ]
  },
  {
   "cell_type": "code",
   "execution_count": 221,
   "metadata": {},
   "outputs": [
    {
     "data": {
      "application/javascript": "\n            setTimeout(function() {\n                var nbb_cell_id = 221;\n                var nbb_unformatted_code = \"# model.summary()\";\n                var nbb_formatted_code = \"# model.summary()\";\n                var nbb_cells = Jupyter.notebook.get_cells();\n                for (var i = 0; i < nbb_cells.length; ++i) {\n                    if (nbb_cells[i].input_prompt_number == nbb_cell_id) {\n                        if (nbb_cells[i].get_text() == nbb_unformatted_code) {\n                             nbb_cells[i].set_text(nbb_formatted_code);\n                        }\n                        break;\n                    }\n                }\n            }, 500);\n            ",
      "text/plain": [
       "<IPython.core.display.Javascript object>"
      ]
     },
     "metadata": {},
     "output_type": "display_data"
    }
   ],
   "source": [
    "# model.summary()"
   ]
  },
  {
   "cell_type": "markdown",
   "metadata": {},
   "source": [
    "# Instanciando Tuner\n",
    "\n",
    "https://colab.research.google.com/github/tensorflow/docs/blob/master/site/en/tutorials/keras/keras_tuner.ipynb#scrollTo=McO82AXOuxXh"
   ]
  },
  {
   "cell_type": "code",
   "execution_count": 222,
   "metadata": {},
   "outputs": [
    {
     "name": "stdout",
     "output_type": "stream",
     "text": [
      "INFO:tensorflow:Reloading Oracle from existing project logs\\hyper_parameters\\oracle.json\n",
      "INFO:tensorflow:Reloading Tuner from logs\\hyper_parameters\\tuner0.json\n"
     ]
    },
    {
     "data": {
      "application/javascript": "\n            setTimeout(function() {\n                var nbb_cell_id = 222;\n                var nbb_unformatted_code = \"tuner = kt.Hyperband(\\n    model_builder,\\n    objective=\\\"val_mse\\\",\\n    max_epochs=10,\\n    factor=3,\\n    directory=\\\"logs\\\",\\n    project_name=\\\"hyper_parameters\\\",\\n)\";\n                var nbb_formatted_code = \"tuner = kt.Hyperband(\\n    model_builder,\\n    objective=\\\"val_mse\\\",\\n    max_epochs=10,\\n    factor=3,\\n    directory=\\\"logs\\\",\\n    project_name=\\\"hyper_parameters\\\",\\n)\";\n                var nbb_cells = Jupyter.notebook.get_cells();\n                for (var i = 0; i < nbb_cells.length; ++i) {\n                    if (nbb_cells[i].input_prompt_number == nbb_cell_id) {\n                        if (nbb_cells[i].get_text() == nbb_unformatted_code) {\n                             nbb_cells[i].set_text(nbb_formatted_code);\n                        }\n                        break;\n                    }\n                }\n            }, 500);\n            ",
      "text/plain": [
       "<IPython.core.display.Javascript object>"
      ]
     },
     "metadata": {},
     "output_type": "display_data"
    }
   ],
   "source": [
    "tuner = kt.Hyperband(\n",
    "    model_builder,\n",
    "    objective=\"val_mse\",\n",
    "    max_epochs=10,\n",
    "    factor=3,\n",
    "    directory=\"logs\",\n",
    "    project_name=\"hyper_parameters\",\n",
    ")"
   ]
  },
  {
   "cell_type": "code",
   "execution_count": 223,
   "metadata": {},
   "outputs": [
    {
     "name": "stdout",
     "output_type": "stream",
     "text": [
      "INFO:tensorflow:Oracle triggered exit\n",
      "\n",
      "The hyperparameter search is complete. The optimal number of units in the first densely-connected\n",
      "layer is 62 and the optimal learning rate for the optimizer\n",
      "is 0.0001.\n",
      "\n"
     ]
    },
    {
     "data": {
      "application/javascript": "\n            setTimeout(function() {\n                var nbb_cell_id = 223;\n                var nbb_unformatted_code = \"# early_stop = keras.callbacks.EarlyStopping(\\n#   monitor='val_mse', patience=50, mode='min' ,restore_best_weights=True)\\nformat_data = \\\"%y_%m_%d_%Hh%Mm%S\\\"\\nsave_time = datetime.datetime.strftime(datetime.datetime.now(), format_data)\\n\\nEPOCHS = 500\\n\\nbst_model_path = f\\\"logs/MLP_model/MLP_model_{save_time}.h5\\\"\\nmodel_checkpoint = ModelCheckpoint(\\n    bst_model_path, save_best_only=True, save_weights_only=True\\n)\\n\\nhistory = tuner.search(\\n    train_dataset,\\n    train_labels,\\n    epochs=EPOCHS,\\n    validation_split=0.2,\\n    verbose=0,\\n    callbacks=([model_checkpoint]),\\n)\\n\\n# Get the optimal hyperparameters\\nbest_hps = tuner.get_best_hyperparameters(num_trials=20)[0]\\n\\nprint(\\n    f\\\"\\\"\\\"\\nThe hyperparameter search is complete. The optimal number of units in the first densely-connected\\nlayer is {best_hps.get('unit_1')} and the optimal learning rate for the optimizer\\nis {best_hps.get('learning_rate')}.\\n\\\"\\\"\\\"\\n)\\n# TODO: Printar todas as selecoes\";\n                var nbb_formatted_code = \"# early_stop = keras.callbacks.EarlyStopping(\\n#   monitor='val_mse', patience=50, mode='min' ,restore_best_weights=True)\\nformat_data = \\\"%y_%m_%d_%Hh%Mm%S\\\"\\nsave_time = datetime.datetime.strftime(datetime.datetime.now(), format_data)\\n\\nEPOCHS = 500\\n\\nbst_model_path = f\\\"logs/MLP_model/MLP_model_{save_time}.h5\\\"\\nmodel_checkpoint = ModelCheckpoint(\\n    bst_model_path, save_best_only=True, save_weights_only=True\\n)\\n\\nhistory = tuner.search(\\n    train_dataset,\\n    train_labels,\\n    epochs=EPOCHS,\\n    validation_split=0.2,\\n    verbose=0,\\n    callbacks=([model_checkpoint]),\\n)\\n\\n# Get the optimal hyperparameters\\nbest_hps = tuner.get_best_hyperparameters(num_trials=20)[0]\\n\\nprint(\\n    f\\\"\\\"\\\"\\nThe hyperparameter search is complete. The optimal number of units in the first densely-connected\\nlayer is {best_hps.get('unit_1')} and the optimal learning rate for the optimizer\\nis {best_hps.get('learning_rate')}.\\n\\\"\\\"\\\"\\n)\\n# TODO: Printar todas as selecoes\";\n                var nbb_cells = Jupyter.notebook.get_cells();\n                for (var i = 0; i < nbb_cells.length; ++i) {\n                    if (nbb_cells[i].input_prompt_number == nbb_cell_id) {\n                        if (nbb_cells[i].get_text() == nbb_unformatted_code) {\n                             nbb_cells[i].set_text(nbb_formatted_code);\n                        }\n                        break;\n                    }\n                }\n            }, 500);\n            ",
      "text/plain": [
       "<IPython.core.display.Javascript object>"
      ]
     },
     "metadata": {},
     "output_type": "display_data"
    }
   ],
   "source": [
    "# early_stop = keras.callbacks.EarlyStopping(\n",
    "#   monitor='val_mse', patience=50, mode='min' ,restore_best_weights=True)\n",
    "format_data = \"%y_%m_%d_%Hh%Mm%S\"\n",
    "save_time = datetime.datetime.strftime(datetime.datetime.now(), format_data)\n",
    "\n",
    "EPOCHS = 500\n",
    "\n",
    "bst_model_path = f\"logs/MLP_model/MLP_model_{save_time}.h5\"\n",
    "model_checkpoint = ModelCheckpoint(\n",
    "    bst_model_path, save_best_only=True, save_weights_only=True\n",
    ")\n",
    "\n",
    "history = tuner.search(\n",
    "    train_dataset,\n",
    "    train_labels,\n",
    "    epochs=EPOCHS,\n",
    "    validation_split=0.2,\n",
    "    verbose=0,\n",
    "    callbacks=([model_checkpoint]),\n",
    ")\n",
    "\n",
    "# Get the optimal hyperparameters\n",
    "best_hps = tuner.get_best_hyperparameters(num_trials=20)[0]\n",
    "\n",
    "print(\n",
    "    f\"\"\"\n",
    "The hyperparameter search is complete. The optimal number of units in the first densely-connected\n",
    "layer is {best_hps.get('unit_1')} and the optimal learning rate for the optimizer\n",
    "is {best_hps.get('learning_rate')}.\n",
    "\"\"\"\n",
    ")\n",
    "# TODO: Printar todas as selecoes"
   ]
  },
  {
   "cell_type": "code",
   "execution_count": 224,
   "metadata": {},
   "outputs": [
    {
     "name": "stdout",
     "output_type": "stream",
     "text": [
      "62\n",
      "59\n",
      "47\n",
      "27\n",
      "0.0001\n",
      "softsign\n"
     ]
    },
    {
     "data": {
      "application/javascript": "\n            setTimeout(function() {\n                var nbb_cell_id = 224;\n                var nbb_unformatted_code = \"print(best_hps.get(\\\"unit_1\\\"))\\nprint(best_hps.get(\\\"unit_2\\\"))\\nprint(best_hps.get(\\\"unit_3\\\"))\\nprint(best_hps.get(\\\"unit_4\\\"))\\nprint(best_hps.get(\\\"learning_rate\\\"))\\nprint(best_hps.get(\\\"activation\\\"))\";\n                var nbb_formatted_code = \"print(best_hps.get(\\\"unit_1\\\"))\\nprint(best_hps.get(\\\"unit_2\\\"))\\nprint(best_hps.get(\\\"unit_3\\\"))\\nprint(best_hps.get(\\\"unit_4\\\"))\\nprint(best_hps.get(\\\"learning_rate\\\"))\\nprint(best_hps.get(\\\"activation\\\"))\";\n                var nbb_cells = Jupyter.notebook.get_cells();\n                for (var i = 0; i < nbb_cells.length; ++i) {\n                    if (nbb_cells[i].input_prompt_number == nbb_cell_id) {\n                        if (nbb_cells[i].get_text() == nbb_unformatted_code) {\n                             nbb_cells[i].set_text(nbb_formatted_code);\n                        }\n                        break;\n                    }\n                }\n            }, 500);\n            ",
      "text/plain": [
       "<IPython.core.display.Javascript object>"
      ]
     },
     "metadata": {},
     "output_type": "display_data"
    }
   ],
   "source": [
    "print(best_hps.get(\"unit_1\"))\n",
    "print(best_hps.get(\"unit_2\"))\n",
    "print(best_hps.get(\"unit_3\"))\n",
    "print(best_hps.get(\"unit_4\"))\n",
    "print(best_hps.get(\"learning_rate\"))\n",
    "print(best_hps.get(\"activation\"))"
   ]
  },
  {
   "cell_type": "markdown",
   "metadata": {},
   "source": [
    "# Selecionando a melhor epoca do modelo"
   ]
  },
  {
   "cell_type": "code",
   "execution_count": 225,
   "metadata": {},
   "outputs": [
    {
     "name": "stdout",
     "output_type": "stream",
     "text": [
      "Epoch 1/500\n",
      "36/36 [==============================] - 3s 33ms/step - loss: 0.2453 - mae: 0.3881 - mse: 0.2453 - val_loss: 0.3324 - val_mae: 0.4530 - val_mse: 0.3324\n",
      "Epoch 2/500\n",
      "36/36 [==============================] - 0s 14ms/step - loss: 0.2040 - mae: 0.3566 - mse: 0.2040 - val_loss: 0.2941 - val_mae: 0.4308 - val_mse: 0.2941\n",
      "Epoch 3/500\n",
      "36/36 [==============================] - 0s 9ms/step - loss: 0.2007 - mae: 0.3539 - mse: 0.2007 - val_loss: 0.2965 - val_mae: 0.4316 - val_mse: 0.2965\n",
      "Epoch 4/500\n",
      "36/36 [==============================] - 0s 8ms/step - loss: 0.1951 - mae: 0.3486 - mse: 0.1951 - val_loss: 0.2979 - val_mae: 0.4312 - val_mse: 0.2979\n",
      "Epoch 5/500\n",
      "36/36 [==============================] - 0s 10ms/step - loss: 0.1871 - mae: 0.3403 - mse: 0.1871 - val_loss: 0.2647 - val_mae: 0.4100 - val_mse: 0.2647\n",
      "Epoch 6/500\n",
      "36/36 [==============================] - 0s 10ms/step - loss: 0.1781 - mae: 0.3320 - mse: 0.1781 - val_loss: 0.2602 - val_mae: 0.4051 - val_mse: 0.2602\n",
      "Epoch 7/500\n",
      "36/36 [==============================] - 1s 17ms/step - loss: 0.1660 - mae: 0.3211 - mse: 0.1660 - val_loss: 0.2305 - val_mae: 0.3823 - val_mse: 0.2305\n",
      "Epoch 8/500\n",
      "36/36 [==============================] - 0s 14ms/step - loss: 0.1554 - mae: 0.3116 - mse: 0.1554 - val_loss: 0.2105 - val_mae: 0.3655 - val_mse: 0.2105\n",
      "Epoch 9/500\n",
      "36/36 [==============================] - 1s 15ms/step - loss: 0.1509 - mae: 0.3051 - mse: 0.1509 - val_loss: 0.2001 - val_mae: 0.3556 - val_mse: 0.2001\n",
      "Epoch 10/500\n",
      "36/36 [==============================] - 1s 18ms/step - loss: 0.1435 - mae: 0.2981 - mse: 0.1435 - val_loss: 0.1930 - val_mae: 0.3511 - val_mse: 0.1930\n",
      "Epoch 11/500\n",
      "36/36 [==============================] - 1s 15ms/step - loss: 0.1391 - mae: 0.2921 - mse: 0.1391 - val_loss: 0.1827 - val_mae: 0.3394 - val_mse: 0.1827\n",
      "Epoch 12/500\n",
      "36/36 [==============================] - 1s 15ms/step - loss: 0.1355 - mae: 0.2883 - mse: 0.1355 - val_loss: 0.1776 - val_mae: 0.3349 - val_mse: 0.1776\n",
      "Epoch 13/500\n",
      "36/36 [==============================] - 0s 12ms/step - loss: 0.1303 - mae: 0.2818 - mse: 0.1303 - val_loss: 0.1717 - val_mae: 0.3307 - val_mse: 0.1717\n",
      "Epoch 14/500\n",
      "36/36 [==============================] - 0s 11ms/step - loss: 0.1252 - mae: 0.2761 - mse: 0.1252 - val_loss: 0.1605 - val_mae: 0.3196 - val_mse: 0.1605\n",
      "Epoch 15/500\n",
      "36/36 [==============================] - 0s 9ms/step - loss: 0.1194 - mae: 0.2696 - mse: 0.1194 - val_loss: 0.1632 - val_mae: 0.3194 - val_mse: 0.1632\n",
      "Epoch 16/500\n",
      "36/36 [==============================] - 0s 12ms/step - loss: 0.1167 - mae: 0.2659 - mse: 0.1167 - val_loss: 0.1570 - val_mae: 0.3188 - val_mse: 0.1570\n",
      "Epoch 17/500\n",
      "36/36 [==============================] - 0s 13ms/step - loss: 0.1128 - mae: 0.2616 - mse: 0.1128 - val_loss: 0.1467 - val_mae: 0.3060 - val_mse: 0.1467\n",
      "Epoch 18/500\n",
      "36/36 [==============================] - 0s 9ms/step - loss: 0.1069 - mae: 0.2547 - mse: 0.1069 - val_loss: 0.1472 - val_mae: 0.3073 - val_mse: 0.1472\n",
      "Epoch 19/500\n",
      "36/36 [==============================] - 0s 13ms/step - loss: 0.1038 - mae: 0.2502 - mse: 0.1038 - val_loss: 0.1378 - val_mae: 0.2931 - val_mse: 0.1378\n",
      "Epoch 20/500\n",
      "36/36 [==============================] - 0s 9ms/step - loss: 0.1000 - mae: 0.2452 - mse: 0.1000 - val_loss: 0.1394 - val_mae: 0.2978 - val_mse: 0.1394\n",
      "Epoch 21/500\n",
      "36/36 [==============================] - 0s 8ms/step - loss: 0.0960 - mae: 0.2403 - mse: 0.0960 - val_loss: 0.1430 - val_mae: 0.3026 - val_mse: 0.1430\n",
      "Epoch 22/500\n",
      "36/36 [==============================] - 0s 11ms/step - loss: 0.0940 - mae: 0.2381 - mse: 0.0940 - val_loss: 0.1296 - val_mae: 0.2826 - val_mse: 0.1296\n",
      "Epoch 23/500\n",
      "36/36 [==============================] - 0s 9ms/step - loss: 0.0901 - mae: 0.2320 - mse: 0.0901 - val_loss: 0.1362 - val_mae: 0.2916 - val_mse: 0.1362\n",
      "Epoch 24/500\n",
      "36/36 [==============================] - 1s 16ms/step - loss: 0.0875 - mae: 0.2294 - mse: 0.0875 - val_loss: 0.1291 - val_mae: 0.2827 - val_mse: 0.1291\n",
      "Epoch 25/500\n",
      "36/36 [==============================] - 0s 12ms/step - loss: 0.0850 - mae: 0.2266 - mse: 0.0850 - val_loss: 0.1253 - val_mae: 0.2788 - val_mse: 0.1253\n",
      "Epoch 26/500\n",
      "36/36 [==============================] - 0s 13ms/step - loss: 0.0814 - mae: 0.2199 - mse: 0.0814 - val_loss: 0.1188 - val_mae: 0.2716 - val_mse: 0.1188\n",
      "Epoch 27/500\n",
      "36/36 [==============================] - 0s 14ms/step - loss: 0.0779 - mae: 0.2152 - mse: 0.0779 - val_loss: 0.1192 - val_mae: 0.2708 - val_mse: 0.1192\n",
      "Epoch 28/500\n",
      "36/36 [==============================] - 0s 12ms/step - loss: 0.0798 - mae: 0.2173 - mse: 0.0798 - val_loss: 0.1172 - val_mae: 0.2680 - val_mse: 0.1172\n",
      "Epoch 29/500\n",
      "36/36 [==============================] - 0s 14ms/step - loss: 0.0753 - mae: 0.2122 - mse: 0.0753 - val_loss: 0.1216 - val_mae: 0.2720 - val_mse: 0.1216\n",
      "Epoch 30/500\n",
      "36/36 [==============================] - 0s 14ms/step - loss: 0.0728 - mae: 0.2091 - mse: 0.0728 - val_loss: 0.1149 - val_mae: 0.2684 - val_mse: 0.1149\n",
      "Epoch 31/500\n",
      "36/36 [==============================] - 0s 12ms/step - loss: 0.0752 - mae: 0.2134 - mse: 0.0752 - val_loss: 0.1159 - val_mae: 0.2666 - val_mse: 0.1159\n",
      "Epoch 32/500\n",
      "36/36 [==============================] - 0s 13ms/step - loss: 0.0705 - mae: 0.2050 - mse: 0.0705 - val_loss: 0.1165 - val_mae: 0.2699 - val_mse: 0.1165\n",
      "Epoch 33/500\n",
      "36/36 [==============================] - 1s 14ms/step - loss: 0.0693 - mae: 0.2038 - mse: 0.0693 - val_loss: 0.1162 - val_mae: 0.2651 - val_mse: 0.1162\n",
      "Epoch 34/500\n",
      "36/36 [==============================] - 0s 14ms/step - loss: 0.0695 - mae: 0.2043 - mse: 0.0695 - val_loss: 0.1154 - val_mae: 0.2652 - val_mse: 0.1154\n",
      "Epoch 35/500\n",
      "36/36 [==============================] - 0s 12ms/step - loss: 0.0703 - mae: 0.2054 - mse: 0.0703 - val_loss: 0.1245 - val_mae: 0.2710 - val_mse: 0.1245\n",
      "Epoch 36/500\n",
      "36/36 [==============================] - 0s 12ms/step - loss: 0.0665 - mae: 0.2001 - mse: 0.0665 - val_loss: 0.1163 - val_mae: 0.2679 - val_mse: 0.1163\n",
      "Epoch 37/500\n",
      "36/36 [==============================] - 0s 12ms/step - loss: 0.0657 - mae: 0.1986 - mse: 0.0657 - val_loss: 0.1155 - val_mae: 0.2620 - val_mse: 0.1155\n",
      "Epoch 38/500\n",
      "36/36 [==============================] - 0s 11ms/step - loss: 0.0667 - mae: 0.1991 - mse: 0.0667 - val_loss: 0.1139 - val_mae: 0.2610 - val_mse: 0.1139\n",
      "Epoch 39/500\n",
      "36/36 [==============================] - 0s 9ms/step - loss: 0.0654 - mae: 0.1990 - mse: 0.0654 - val_loss: 0.1176 - val_mae: 0.2708 - val_mse: 0.1176\n",
      "Epoch 40/500\n",
      "36/36 [==============================] - 0s 8ms/step - loss: 0.0652 - mae: 0.1964 - mse: 0.0652 - val_loss: 0.1157 - val_mae: 0.2661 - val_mse: 0.1157\n",
      "Epoch 41/500\n",
      "36/36 [==============================] - 0s 10ms/step - loss: 0.0652 - mae: 0.1967 - mse: 0.0652 - val_loss: 0.1141 - val_mae: 0.2668 - val_mse: 0.1141\n",
      "Epoch 42/500\n",
      "36/36 [==============================] - 1s 14ms/step - loss: 0.0641 - mae: 0.1969 - mse: 0.0641 - val_loss: 0.1154 - val_mae: 0.2663 - val_mse: 0.1154\n",
      "Epoch 43/500\n",
      "36/36 [==============================] - 0s 13ms/step - loss: 0.0631 - mae: 0.1949 - mse: 0.0631 - val_loss: 0.1118 - val_mae: 0.2595 - val_mse: 0.1118\n",
      "Epoch 44/500\n",
      "36/36 [==============================] - 0s 11ms/step - loss: 0.0635 - mae: 0.1944 - mse: 0.0635 - val_loss: 0.1144 - val_mae: 0.2595 - val_mse: 0.1144\n",
      "Epoch 45/500\n",
      "36/36 [==============================] - 0s 11ms/step - loss: 0.0635 - mae: 0.1944 - mse: 0.0635 - val_loss: 0.1123 - val_mae: 0.2625 - val_mse: 0.1123\n",
      "Epoch 46/500\n",
      "36/36 [==============================] - 0s 14ms/step - loss: 0.0616 - mae: 0.1922 - mse: 0.0616 - val_loss: 0.1109 - val_mae: 0.2577 - val_mse: 0.1109\n",
      "Epoch 47/500\n",
      "36/36 [==============================] - 0s 12ms/step - loss: 0.0614 - mae: 0.1913 - mse: 0.0614 - val_loss: 0.1097 - val_mae: 0.2566 - val_mse: 0.1097\n",
      "Epoch 48/500\n",
      "36/36 [==============================] - 0s 9ms/step - loss: 0.0599 - mae: 0.1896 - mse: 0.0599 - val_loss: 0.1118 - val_mae: 0.2569 - val_mse: 0.1118\n",
      "Epoch 49/500\n",
      "36/36 [==============================] - 0s 11ms/step - loss: 0.0604 - mae: 0.1899 - mse: 0.0604 - val_loss: 0.1107 - val_mae: 0.2555 - val_mse: 0.1107\n",
      "Epoch 50/500\n",
      "36/36 [==============================] - 0s 10ms/step - loss: 0.0613 - mae: 0.1912 - mse: 0.0613 - val_loss: 0.1104 - val_mae: 0.2558 - val_mse: 0.1104\n",
      "Epoch 51/500\n",
      "36/36 [==============================] - 0s 11ms/step - loss: 0.0605 - mae: 0.1890 - mse: 0.0605 - val_loss: 0.1115 - val_mae: 0.2564 - val_mse: 0.1115\n",
      "Epoch 52/500\n",
      "36/36 [==============================] - 0s 10ms/step - loss: 0.0613 - mae: 0.1894 - mse: 0.0613 - val_loss: 0.1108 - val_mae: 0.2599 - val_mse: 0.1108\n",
      "Epoch 53/500\n",
      "36/36 [==============================] - 0s 11ms/step - loss: 0.0599 - mae: 0.1894 - mse: 0.0599 - val_loss: 0.1129 - val_mae: 0.2633 - val_mse: 0.1129\n",
      "Epoch 54/500\n",
      "36/36 [==============================] - 0s 13ms/step - loss: 0.0590 - mae: 0.1870 - mse: 0.0590 - val_loss: 0.1156 - val_mae: 0.2589 - val_mse: 0.1156\n",
      "Epoch 55/500\n",
      "36/36 [==============================] - 1s 17ms/step - loss: 0.0591 - mae: 0.1882 - mse: 0.0591 - val_loss: 0.1089 - val_mae: 0.2558 - val_mse: 0.1089\n",
      "Epoch 56/500\n",
      "36/36 [==============================] - 0s 11ms/step - loss: 0.0585 - mae: 0.1868 - mse: 0.0585 - val_loss: 0.1108 - val_mae: 0.2538 - val_mse: 0.1108\n",
      "Epoch 57/500\n",
      "36/36 [==============================] - 0s 10ms/step - loss: 0.0578 - mae: 0.1843 - mse: 0.0578 - val_loss: 0.1095 - val_mae: 0.2575 - val_mse: 0.1095\n",
      "Epoch 58/500\n",
      "36/36 [==============================] - 0s 9ms/step - loss: 0.0579 - mae: 0.1859 - mse: 0.0579 - val_loss: 0.1130 - val_mae: 0.2646 - val_mse: 0.1130\n",
      "Epoch 59/500\n",
      "36/36 [==============================] - 0s 11ms/step - loss: 0.0577 - mae: 0.1851 - mse: 0.0577 - val_loss: 0.1150 - val_mae: 0.2675 - val_mse: 0.1150\n",
      "Epoch 60/500\n",
      "36/36 [==============================] - 0s 10ms/step - loss: 0.0576 - mae: 0.1848 - mse: 0.0576 - val_loss: 0.1084 - val_mae: 0.2514 - val_mse: 0.1084\n",
      "Epoch 61/500\n",
      "36/36 [==============================] - 0s 10ms/step - loss: 0.0574 - mae: 0.1845 - mse: 0.0574 - val_loss: 0.1083 - val_mae: 0.2506 - val_mse: 0.1083\n",
      "Epoch 62/500\n",
      "36/36 [==============================] - 0s 8ms/step - loss: 0.0581 - mae: 0.1856 - mse: 0.0581 - val_loss: 0.1128 - val_mae: 0.2567 - val_mse: 0.1128\n",
      "Epoch 63/500\n",
      "36/36 [==============================] - 0s 8ms/step - loss: 0.0582 - mae: 0.1870 - mse: 0.0582 - val_loss: 0.1154 - val_mae: 0.2688 - val_mse: 0.1154\n",
      "Epoch 64/500\n",
      "36/36 [==============================] - 0s 10ms/step - loss: 0.0572 - mae: 0.1853 - mse: 0.0572 - val_loss: 0.1069 - val_mae: 0.2526 - val_mse: 0.1069\n",
      "Epoch 65/500\n",
      "36/36 [==============================] - 0s 10ms/step - loss: 0.0571 - mae: 0.1859 - mse: 0.0571 - val_loss: 0.1111 - val_mae: 0.2521 - val_mse: 0.1111\n",
      "Epoch 66/500\n",
      "36/36 [==============================] - 0s 8ms/step - loss: 0.0566 - mae: 0.1828 - mse: 0.0566 - val_loss: 0.1088 - val_mae: 0.2507 - val_mse: 0.1088\n",
      "Epoch 67/500\n",
      "36/36 [==============================] - 0s 8ms/step - loss: 0.0558 - mae: 0.1822 - mse: 0.0558 - val_loss: 0.1094 - val_mae: 0.2588 - val_mse: 0.1094\n",
      "Epoch 68/500\n",
      "36/36 [==============================] - 0s 8ms/step - loss: 0.0562 - mae: 0.1840 - mse: 0.0562 - val_loss: 0.1103 - val_mae: 0.2506 - val_mse: 0.1103\n",
      "Epoch 69/500\n",
      "36/36 [==============================] - 0s 8ms/step - loss: 0.0554 - mae: 0.1806 - mse: 0.0554 - val_loss: 0.1110 - val_mae: 0.2622 - val_mse: 0.1110\n",
      "Epoch 70/500\n",
      "36/36 [==============================] - 0s 8ms/step - loss: 0.0566 - mae: 0.1835 - mse: 0.0566 - val_loss: 0.1088 - val_mae: 0.2563 - val_mse: 0.1088\n",
      "Epoch 71/500\n",
      "36/36 [==============================] - 0s 10ms/step - loss: 0.0552 - mae: 0.1805 - mse: 0.0552 - val_loss: 0.1060 - val_mae: 0.2495 - val_mse: 0.1060\n",
      "Epoch 72/500\n",
      "36/36 [==============================] - 1s 14ms/step - loss: 0.0551 - mae: 0.1811 - mse: 0.0551 - val_loss: 0.1058 - val_mae: 0.2504 - val_mse: 0.1058\n",
      "Epoch 73/500\n",
      "36/36 [==============================] - 0s 11ms/step - loss: 0.0548 - mae: 0.1810 - mse: 0.0548 - val_loss: 0.1059 - val_mae: 0.2507 - val_mse: 0.1059\n",
      "Epoch 74/500\n",
      "36/36 [==============================] - 0s 12ms/step - loss: 0.0557 - mae: 0.1818 - mse: 0.0557 - val_loss: 0.1065 - val_mae: 0.2487 - val_mse: 0.1065\n",
      "Epoch 75/500\n",
      "36/36 [==============================] - 0s 12ms/step - loss: 0.0554 - mae: 0.1814 - mse: 0.0554 - val_loss: 0.1062 - val_mae: 0.2489 - val_mse: 0.1062\n",
      "Epoch 76/500\n",
      "36/36 [==============================] - 0s 12ms/step - loss: 0.0568 - mae: 0.1834 - mse: 0.0568 - val_loss: 0.1074 - val_mae: 0.2541 - val_mse: 0.1074\n",
      "Epoch 77/500\n",
      "36/36 [==============================] - 0s 14ms/step - loss: 0.0569 - mae: 0.1858 - mse: 0.0569 - val_loss: 0.1059 - val_mae: 0.2501 - val_mse: 0.1059\n",
      "Epoch 78/500\n",
      "36/36 [==============================] - 0s 8ms/step - loss: 0.0545 - mae: 0.1791 - mse: 0.0545 - val_loss: 0.1070 - val_mae: 0.2475 - val_mse: 0.1070\n",
      "Epoch 79/500\n",
      "36/36 [==============================] - 0s 9ms/step - loss: 0.0597 - mae: 0.1878 - mse: 0.0597 - val_loss: 0.1072 - val_mae: 0.2540 - val_mse: 0.1072\n",
      "Epoch 80/500\n",
      "36/36 [==============================] - 0s 9ms/step - loss: 0.0564 - mae: 0.1829 - mse: 0.0564 - val_loss: 0.1136 - val_mae: 0.2543 - val_mse: 0.1136\n",
      "Epoch 81/500\n",
      "36/36 [==============================] - 0s 9ms/step - loss: 0.0539 - mae: 0.1791 - mse: 0.0539 - val_loss: 0.1058 - val_mae: 0.2535 - val_mse: 0.1058\n",
      "Epoch 82/500\n",
      "36/36 [==============================] - 0s 10ms/step - loss: 0.0541 - mae: 0.1791 - mse: 0.0541 - val_loss: 0.1044 - val_mae: 0.2514 - val_mse: 0.1044\n",
      "Epoch 83/500\n",
      "36/36 [==============================] - 0s 10ms/step - loss: 0.0542 - mae: 0.1792 - mse: 0.0542 - val_loss: 0.1052 - val_mae: 0.2512 - val_mse: 0.1052\n",
      "Epoch 84/500\n",
      "36/36 [==============================] - 0s 11ms/step - loss: 0.0548 - mae: 0.1811 - mse: 0.0548 - val_loss: 0.1039 - val_mae: 0.2472 - val_mse: 0.1039\n",
      "Epoch 85/500\n",
      "36/36 [==============================] - 0s 11ms/step - loss: 0.0544 - mae: 0.1796 - mse: 0.0544 - val_loss: 0.1033 - val_mae: 0.2492 - val_mse: 0.1033\n",
      "Epoch 86/500\n",
      "36/36 [==============================] - 0s 9ms/step - loss: 0.0543 - mae: 0.1797 - mse: 0.0543 - val_loss: 0.1044 - val_mae: 0.2513 - val_mse: 0.1044\n",
      "Epoch 87/500\n",
      "36/36 [==============================] - 0s 11ms/step - loss: 0.0555 - mae: 0.1819 - mse: 0.0555 - val_loss: 0.1039 - val_mae: 0.2483 - val_mse: 0.1039\n",
      "Epoch 88/500\n",
      "36/36 [==============================] - 0s 9ms/step - loss: 0.0530 - mae: 0.1773 - mse: 0.0530 - val_loss: 0.1036 - val_mae: 0.2485 - val_mse: 0.1036\n",
      "Epoch 89/500\n",
      "36/36 [==============================] - 0s 12ms/step - loss: 0.0533 - mae: 0.1775 - mse: 0.0533 - val_loss: 0.1031 - val_mae: 0.2468 - val_mse: 0.1031\n",
      "Epoch 90/500\n",
      "36/36 [==============================] - 0s 7ms/step - loss: 0.0532 - mae: 0.1781 - mse: 0.0532 - val_loss: 0.1034 - val_mae: 0.2443 - val_mse: 0.1034\n",
      "Epoch 91/500\n",
      "36/36 [==============================] - 0s 8ms/step - loss: 0.0528 - mae: 0.1769 - mse: 0.0528 - val_loss: 0.1033 - val_mae: 0.2473 - val_mse: 0.1033\n",
      "Epoch 92/500\n",
      "36/36 [==============================] - 0s 7ms/step - loss: 0.0524 - mae: 0.1771 - mse: 0.0524 - val_loss: 0.1061 - val_mae: 0.2548 - val_mse: 0.1061\n",
      "Epoch 93/500\n",
      "36/36 [==============================] - 0s 8ms/step - loss: 0.0551 - mae: 0.1801 - mse: 0.0551 - val_loss: 0.1144 - val_mae: 0.2561 - val_mse: 0.1144\n",
      "Epoch 94/500\n",
      "36/36 [==============================] - 0s 9ms/step - loss: 0.0569 - mae: 0.1852 - mse: 0.0569 - val_loss: 0.1025 - val_mae: 0.2458 - val_mse: 0.1025\n",
      "Epoch 95/500\n",
      "36/36 [==============================] - 0s 8ms/step - loss: 0.0529 - mae: 0.1783 - mse: 0.0529 - val_loss: 0.1032 - val_mae: 0.2458 - val_mse: 0.1032\n",
      "Epoch 96/500\n",
      "36/36 [==============================] - 0s 11ms/step - loss: 0.0526 - mae: 0.1771 - mse: 0.0526 - val_loss: 0.1093 - val_mae: 0.2609 - val_mse: 0.1093\n",
      "Epoch 97/500\n",
      "36/36 [==============================] - 0s 11ms/step - loss: 0.0542 - mae: 0.1784 - mse: 0.0542 - val_loss: 0.1069 - val_mae: 0.2465 - val_mse: 0.1069\n",
      "Epoch 98/500\n",
      "36/36 [==============================] - 1s 21ms/step - loss: 0.0536 - mae: 0.1792 - mse: 0.0536 - val_loss: 0.1023 - val_mae: 0.2459 - val_mse: 0.1023\n",
      "Epoch 99/500\n",
      "36/36 [==============================] - 0s 10ms/step - loss: 0.0515 - mae: 0.1751 - mse: 0.0515 - val_loss: 0.1027 - val_mae: 0.2437 - val_mse: 0.1027\n",
      "Epoch 100/500\n",
      "36/36 [==============================] - 0s 13ms/step - loss: 0.0523 - mae: 0.1759 - mse: 0.0523 - val_loss: 0.1040 - val_mae: 0.2445 - val_mse: 0.1040\n",
      "Epoch 101/500\n",
      "36/36 [==============================] - 0s 11ms/step - loss: 0.0524 - mae: 0.1771 - mse: 0.0524 - val_loss: 0.1031 - val_mae: 0.2482 - val_mse: 0.1031\n",
      "Epoch 102/500\n",
      "36/36 [==============================] - 0s 9ms/step - loss: 0.0518 - mae: 0.1758 - mse: 0.0518 - val_loss: 0.1024 - val_mae: 0.2486 - val_mse: 0.1024\n",
      "Epoch 103/500\n",
      "36/36 [==============================] - 0s 10ms/step - loss: 0.0522 - mae: 0.1765 - mse: 0.0522 - val_loss: 0.1037 - val_mae: 0.2519 - val_mse: 0.1037\n",
      "Epoch 104/500\n",
      "36/36 [==============================] - 0s 8ms/step - loss: 0.0517 - mae: 0.1751 - mse: 0.0517 - val_loss: 0.1030 - val_mae: 0.2502 - val_mse: 0.1030\n",
      "Epoch 105/500\n",
      "36/36 [==============================] - 1s 15ms/step - loss: 0.0523 - mae: 0.1769 - mse: 0.0523 - val_loss: 0.1037 - val_mae: 0.2463 - val_mse: 0.1037\n",
      "Epoch 106/500\n",
      "36/36 [==============================] - 0s 11ms/step - loss: 0.0517 - mae: 0.1759 - mse: 0.0517 - val_loss: 0.1025 - val_mae: 0.2491 - val_mse: 0.1025\n",
      "Epoch 107/500\n",
      "36/36 [==============================] - 0s 9ms/step - loss: 0.0509 - mae: 0.1734 - mse: 0.0509 - val_loss: 0.1012 - val_mae: 0.2432 - val_mse: 0.1012\n",
      "Epoch 108/500\n",
      "36/36 [==============================] - 0s 8ms/step - loss: 0.0514 - mae: 0.1754 - mse: 0.0514 - val_loss: 0.1040 - val_mae: 0.2433 - val_mse: 0.1040\n",
      "Epoch 109/500\n",
      "36/36 [==============================] - 0s 10ms/step - loss: 0.0522 - mae: 0.1751 - mse: 0.0522 - val_loss: 0.1035 - val_mae: 0.2498 - val_mse: 0.1035\n",
      "Epoch 110/500\n",
      "36/36 [==============================] - 0s 8ms/step - loss: 0.0513 - mae: 0.1749 - mse: 0.0513 - val_loss: 0.1044 - val_mae: 0.2432 - val_mse: 0.1044\n",
      "Epoch 111/500\n",
      "36/36 [==============================] - 0s 7ms/step - loss: 0.0528 - mae: 0.1771 - mse: 0.0528 - val_loss: 0.1024 - val_mae: 0.2503 - val_mse: 0.1024\n",
      "Epoch 112/500\n",
      "36/36 [==============================] - 0s 8ms/step - loss: 0.0510 - mae: 0.1747 - mse: 0.0510 - val_loss: 0.1064 - val_mae: 0.2558 - val_mse: 0.1064\n",
      "Epoch 113/500\n",
      "36/36 [==============================] - 0s 7ms/step - loss: 0.0512 - mae: 0.1738 - mse: 0.0512 - val_loss: 0.1088 - val_mae: 0.2604 - val_mse: 0.1088\n",
      "Epoch 114/500\n",
      "36/36 [==============================] - 0s 7ms/step - loss: 0.0511 - mae: 0.1741 - mse: 0.0511 - val_loss: 0.1109 - val_mae: 0.2640 - val_mse: 0.1109\n",
      "Epoch 115/500\n",
      "36/36 [==============================] - 0s 7ms/step - loss: 0.0524 - mae: 0.1766 - mse: 0.0524 - val_loss: 0.1030 - val_mae: 0.2518 - val_mse: 0.1030\n",
      "Epoch 116/500\n",
      "36/36 [==============================] - 0s 10ms/step - loss: 0.0516 - mae: 0.1760 - mse: 0.0516 - val_loss: 0.1077 - val_mae: 0.2583 - val_mse: 0.1077\n",
      "Epoch 117/500\n",
      "36/36 [==============================] - 0s 11ms/step - loss: 0.0507 - mae: 0.1743 - mse: 0.0507 - val_loss: 0.1002 - val_mae: 0.2421 - val_mse: 0.1002\n",
      "Epoch 118/500\n",
      "36/36 [==============================] - 0s 7ms/step - loss: 0.0501 - mae: 0.1723 - mse: 0.0501 - val_loss: 0.1004 - val_mae: 0.2430 - val_mse: 0.1004\n",
      "Epoch 119/500\n",
      "36/36 [==============================] - 0s 12ms/step - loss: 0.0504 - mae: 0.1729 - mse: 0.0504 - val_loss: 0.1088 - val_mae: 0.2609 - val_mse: 0.1088\n",
      "Epoch 120/500\n",
      "36/36 [==============================] - 0s 12ms/step - loss: 0.0502 - mae: 0.1731 - mse: 0.0502 - val_loss: 0.1001 - val_mae: 0.2458 - val_mse: 0.1001\n",
      "Epoch 121/500\n",
      "36/36 [==============================] - 0s 11ms/step - loss: 0.0512 - mae: 0.1746 - mse: 0.0512 - val_loss: 0.1017 - val_mae: 0.2467 - val_mse: 0.1017\n",
      "Epoch 122/500\n",
      "36/36 [==============================] - 1s 15ms/step - loss: 0.0504 - mae: 0.1728 - mse: 0.0504 - val_loss: 0.1003 - val_mae: 0.2469 - val_mse: 0.1003\n",
      "Epoch 123/500\n",
      "36/36 [==============================] - 0s 11ms/step - loss: 0.0525 - mae: 0.1775 - mse: 0.0525 - val_loss: 0.1010 - val_mae: 0.2474 - val_mse: 0.1010\n",
      "Epoch 124/500\n",
      "36/36 [==============================] - 0s 12ms/step - loss: 0.0504 - mae: 0.1738 - mse: 0.0504 - val_loss: 0.1046 - val_mae: 0.2541 - val_mse: 0.1046\n",
      "Epoch 125/500\n",
      "36/36 [==============================] - 0s 10ms/step - loss: 0.0500 - mae: 0.1725 - mse: 0.0500 - val_loss: 0.1020 - val_mae: 0.2496 - val_mse: 0.1020\n",
      "Epoch 126/500\n",
      "36/36 [==============================] - 0s 12ms/step - loss: 0.0506 - mae: 0.1735 - mse: 0.0506 - val_loss: 0.0989 - val_mae: 0.2410 - val_mse: 0.0989\n",
      "Epoch 127/500\n",
      "36/36 [==============================] - 0s 8ms/step - loss: 0.0498 - mae: 0.1727 - mse: 0.0498 - val_loss: 0.1023 - val_mae: 0.2418 - val_mse: 0.1023\n",
      "Epoch 128/500\n",
      "36/36 [==============================] - 0s 8ms/step - loss: 0.0496 - mae: 0.1716 - mse: 0.0496 - val_loss: 0.1059 - val_mae: 0.2556 - val_mse: 0.1059\n",
      "Epoch 129/500\n",
      "36/36 [==============================] - 0s 8ms/step - loss: 0.0502 - mae: 0.1726 - mse: 0.0502 - val_loss: 0.1022 - val_mae: 0.2496 - val_mse: 0.1022\n",
      "Epoch 130/500\n",
      "36/36 [==============================] - 0s 10ms/step - loss: 0.0506 - mae: 0.1740 - mse: 0.0506 - val_loss: 0.0991 - val_mae: 0.2421 - val_mse: 0.0991\n",
      "Epoch 131/500\n",
      "36/36 [==============================] - 0s 8ms/step - loss: 0.0514 - mae: 0.1743 - mse: 0.0514 - val_loss: 0.1034 - val_mae: 0.2443 - val_mse: 0.1034\n",
      "Epoch 132/500\n",
      "36/36 [==============================] - 0s 8ms/step - loss: 0.0500 - mae: 0.1732 - mse: 0.0500 - val_loss: 0.1068 - val_mae: 0.2576 - val_mse: 0.1068\n",
      "Epoch 133/500\n",
      "36/36 [==============================] - 0s 8ms/step - loss: 0.0490 - mae: 0.1712 - mse: 0.0490 - val_loss: 0.1018 - val_mae: 0.2503 - val_mse: 0.1018\n",
      "Epoch 134/500\n",
      "36/36 [==============================] - 0s 8ms/step - loss: 0.0504 - mae: 0.1740 - mse: 0.0504 - val_loss: 0.0986 - val_mae: 0.2433 - val_mse: 0.0986\n",
      "Epoch 135/500\n",
      "36/36 [==============================] - 0s 8ms/step - loss: 0.0490 - mae: 0.1707 - mse: 0.0490 - val_loss: 0.0982 - val_mae: 0.2427 - val_mse: 0.0982\n",
      "Epoch 136/500\n",
      "36/36 [==============================] - 0s 8ms/step - loss: 0.0490 - mae: 0.1706 - mse: 0.0490 - val_loss: 0.0996 - val_mae: 0.2465 - val_mse: 0.0996\n",
      "Epoch 137/500\n",
      "36/36 [==============================] - 0s 9ms/step - loss: 0.0492 - mae: 0.1699 - mse: 0.0492 - val_loss: 0.0995 - val_mae: 0.2415 - val_mse: 0.0995\n",
      "Epoch 138/500\n",
      "36/36 [==============================] - 0s 7ms/step - loss: 0.0493 - mae: 0.1729 - mse: 0.0493 - val_loss: 0.0987 - val_mae: 0.2398 - val_mse: 0.0987\n",
      "Epoch 139/500\n",
      "36/36 [==============================] - 0s 8ms/step - loss: 0.0488 - mae: 0.1710 - mse: 0.0488 - val_loss: 0.0986 - val_mae: 0.2414 - val_mse: 0.0986\n",
      "Epoch 140/500\n",
      "36/36 [==============================] - 0s 9ms/step - loss: 0.0490 - mae: 0.1719 - mse: 0.0490 - val_loss: 0.0992 - val_mae: 0.2442 - val_mse: 0.0992\n",
      "Epoch 141/500\n",
      "36/36 [==============================] - 0s 12ms/step - loss: 0.0497 - mae: 0.1726 - mse: 0.0497 - val_loss: 0.1086 - val_mae: 0.2631 - val_mse: 0.1086\n",
      "Epoch 142/500\n",
      "36/36 [==============================] - 0s 9ms/step - loss: 0.0489 - mae: 0.1708 - mse: 0.0489 - val_loss: 0.1001 - val_mae: 0.2458 - val_mse: 0.1001\n",
      "Epoch 143/500\n",
      "36/36 [==============================] - 0s 11ms/step - loss: 0.0492 - mae: 0.1723 - mse: 0.0492 - val_loss: 0.1060 - val_mae: 0.2568 - val_mse: 0.1060\n",
      "Epoch 144/500\n",
      "36/36 [==============================] - 0s 12ms/step - loss: 0.0488 - mae: 0.1711 - mse: 0.0488 - val_loss: 0.0976 - val_mae: 0.2410 - val_mse: 0.0976\n",
      "Epoch 145/500\n",
      "36/36 [==============================] - 1s 15ms/step - loss: 0.0484 - mae: 0.1698 - mse: 0.0484 - val_loss: 0.0975 - val_mae: 0.2405 - val_mse: 0.0975\n",
      "Epoch 146/500\n",
      "36/36 [==============================] - 0s 11ms/step - loss: 0.0507 - mae: 0.1741 - mse: 0.0507 - val_loss: 0.0973 - val_mae: 0.2405 - val_mse: 0.0973\n",
      "Epoch 147/500\n",
      "36/36 [==============================] - 0s 11ms/step - loss: 0.0488 - mae: 0.1709 - mse: 0.0488 - val_loss: 0.1296 - val_mae: 0.2934 - val_mse: 0.1296\n",
      "Epoch 148/500\n",
      "36/36 [==============================] - 0s 10ms/step - loss: 0.0511 - mae: 0.1753 - mse: 0.0511 - val_loss: 0.1004 - val_mae: 0.2439 - val_mse: 0.1004\n",
      "Epoch 149/500\n",
      "36/36 [==============================] - 0s 10ms/step - loss: 0.0529 - mae: 0.1763 - mse: 0.0529 - val_loss: 0.0978 - val_mae: 0.2425 - val_mse: 0.0978\n",
      "Epoch 150/500\n",
      "36/36 [==============================] - 1s 15ms/step - loss: 0.0492 - mae: 0.1722 - mse: 0.0492 - val_loss: 0.0967 - val_mae: 0.2401 - val_mse: 0.0967\n",
      "Epoch 151/500\n",
      "36/36 [==============================] - 0s 9ms/step - loss: 0.0488 - mae: 0.1715 - mse: 0.0488 - val_loss: 0.1026 - val_mae: 0.2520 - val_mse: 0.1026\n",
      "Epoch 152/500\n",
      "36/36 [==============================] - 0s 9ms/step - loss: 0.0489 - mae: 0.1695 - mse: 0.0489 - val_loss: 0.0974 - val_mae: 0.2414 - val_mse: 0.0974\n",
      "Epoch 153/500\n",
      "36/36 [==============================] - 0s 8ms/step - loss: 0.0479 - mae: 0.1697 - mse: 0.0479 - val_loss: 0.1146 - val_mae: 0.2718 - val_mse: 0.1146\n",
      "Epoch 154/500\n",
      "36/36 [==============================] - 0s 10ms/step - loss: 0.0494 - mae: 0.1725 - mse: 0.0494 - val_loss: 0.0980 - val_mae: 0.2417 - val_mse: 0.0980\n",
      "Epoch 155/500\n",
      "36/36 [==============================] - 0s 8ms/step - loss: 0.0489 - mae: 0.1710 - mse: 0.0489 - val_loss: 0.1023 - val_mae: 0.2518 - val_mse: 0.1023\n",
      "Epoch 156/500\n",
      "36/36 [==============================] - 0s 7ms/step - loss: 0.0485 - mae: 0.1699 - mse: 0.0485 - val_loss: 0.0991 - val_mae: 0.2453 - val_mse: 0.0991\n",
      "Epoch 157/500\n",
      "36/36 [==============================] - 0s 7ms/step - loss: 0.0478 - mae: 0.1679 - mse: 0.0478 - val_loss: 0.0982 - val_mae: 0.2421 - val_mse: 0.0982\n",
      "Epoch 158/500\n",
      "36/36 [==============================] - 0s 9ms/step - loss: 0.0476 - mae: 0.1685 - mse: 0.0476 - val_loss: 0.0974 - val_mae: 0.2438 - val_mse: 0.0974\n",
      "Epoch 159/500\n",
      "36/36 [==============================] - 0s 8ms/step - loss: 0.0485 - mae: 0.1700 - mse: 0.0485 - val_loss: 0.0975 - val_mae: 0.2395 - val_mse: 0.0975\n",
      "Epoch 160/500\n",
      "36/36 [==============================] - 0s 8ms/step - loss: 0.0486 - mae: 0.1706 - mse: 0.0486 - val_loss: 0.0990 - val_mae: 0.2460 - val_mse: 0.0990\n",
      "Epoch 161/500\n",
      "36/36 [==============================] - 0s 9ms/step - loss: 0.0491 - mae: 0.1713 - mse: 0.0491 - val_loss: 0.0977 - val_mae: 0.2388 - val_mse: 0.0977\n",
      "Epoch 162/500\n",
      "36/36 [==============================] - 0s 7ms/step - loss: 0.0479 - mae: 0.1683 - mse: 0.0479 - val_loss: 0.0990 - val_mae: 0.2454 - val_mse: 0.0990\n",
      "Epoch 163/500\n",
      "36/36 [==============================] - 0s 10ms/step - loss: 0.0476 - mae: 0.1692 - mse: 0.0476 - val_loss: 0.0964 - val_mae: 0.2408 - val_mse: 0.0964\n",
      "Epoch 164/500\n",
      "36/36 [==============================] - 0s 8ms/step - loss: 0.0475 - mae: 0.1685 - mse: 0.0475 - val_loss: 0.0995 - val_mae: 0.2460 - val_mse: 0.0995\n",
      "Epoch 165/500\n",
      "36/36 [==============================] - 0s 8ms/step - loss: 0.0492 - mae: 0.1717 - mse: 0.0492 - val_loss: 0.0964 - val_mae: 0.2401 - val_mse: 0.0964\n",
      "Epoch 166/500\n",
      "36/36 [==============================] - 0s 10ms/step - loss: 0.0489 - mae: 0.1705 - mse: 0.0489 - val_loss: 0.1058 - val_mae: 0.2577 - val_mse: 0.1058\n",
      "Epoch 167/500\n",
      "36/36 [==============================] - 0s 12ms/step - loss: 0.0467 - mae: 0.1675 - mse: 0.0467 - val_loss: 0.1072 - val_mae: 0.2599 - val_mse: 0.1072\n",
      "Epoch 168/500\n",
      "36/36 [==============================] - 0s 11ms/step - loss: 0.0488 - mae: 0.1706 - mse: 0.0488 - val_loss: 0.0995 - val_mae: 0.2473 - val_mse: 0.0995\n",
      "Epoch 169/500\n",
      "36/36 [==============================] - 0s 10ms/step - loss: 0.0483 - mae: 0.1708 - mse: 0.0483 - val_loss: 0.0970 - val_mae: 0.2421 - val_mse: 0.0970\n",
      "Epoch 170/500\n",
      "36/36 [==============================] - 0s 9ms/step - loss: 0.0473 - mae: 0.1684 - mse: 0.0473 - val_loss: 0.0993 - val_mae: 0.2468 - val_mse: 0.0993\n",
      "Epoch 171/500\n",
      "36/36 [==============================] - 0s 9ms/step - loss: 0.0477 - mae: 0.1688 - mse: 0.0477 - val_loss: 0.0973 - val_mae: 0.2409 - val_mse: 0.0973\n",
      "Epoch 172/500\n",
      "36/36 [==============================] - 0s 13ms/step - loss: 0.0476 - mae: 0.1685 - mse: 0.0476 - val_loss: 0.0963 - val_mae: 0.2394 - val_mse: 0.0963\n",
      "Epoch 173/500\n",
      "36/36 [==============================] - 0s 11ms/step - loss: 0.0473 - mae: 0.1681 - mse: 0.0473 - val_loss: 0.0972 - val_mae: 0.2443 - val_mse: 0.0972\n",
      "Epoch 174/500\n",
      "36/36 [==============================] - 0s 12ms/step - loss: 0.0485 - mae: 0.1703 - mse: 0.0485 - val_loss: 0.0964 - val_mae: 0.2393 - val_mse: 0.0964\n",
      "Epoch 175/500\n",
      "36/36 [==============================] - 0s 14ms/step - loss: 0.0469 - mae: 0.1675 - mse: 0.0469 - val_loss: 0.0985 - val_mae: 0.2412 - val_mse: 0.0985\n",
      "Epoch 176/500\n",
      "36/36 [==============================] - 0s 10ms/step - loss: 0.0485 - mae: 0.1689 - mse: 0.0485 - val_loss: 0.0985 - val_mae: 0.2459 - val_mse: 0.0985\n",
      "Epoch 177/500\n",
      "36/36 [==============================] - 0s 8ms/step - loss: 0.0468 - mae: 0.1675 - mse: 0.0468 - val_loss: 0.0980 - val_mae: 0.2447 - val_mse: 0.0980\n",
      "Epoch 178/500\n",
      "36/36 [==============================] - 0s 8ms/step - loss: 0.0480 - mae: 0.1691 - mse: 0.0480 - val_loss: 0.0970 - val_mae: 0.2430 - val_mse: 0.0970\n",
      "Epoch 179/500\n",
      "36/36 [==============================] - 0s 8ms/step - loss: 0.0470 - mae: 0.1681 - mse: 0.0470 - val_loss: 0.0969 - val_mae: 0.2411 - val_mse: 0.0969\n",
      "Epoch 180/500\n",
      "36/36 [==============================] - 0s 9ms/step - loss: 0.0470 - mae: 0.1678 - mse: 0.0470 - val_loss: 0.0967 - val_mae: 0.2424 - val_mse: 0.0967\n",
      "Epoch 181/500\n",
      "36/36 [==============================] - 0s 9ms/step - loss: 0.0473 - mae: 0.1686 - mse: 0.0473 - val_loss: 0.0957 - val_mae: 0.2401 - val_mse: 0.0957\n",
      "Epoch 182/500\n",
      "36/36 [==============================] - 0s 8ms/step - loss: 0.0472 - mae: 0.1674 - mse: 0.0472 - val_loss: 0.0975 - val_mae: 0.2407 - val_mse: 0.0975\n",
      "Epoch 183/500\n",
      "36/36 [==============================] - 0s 8ms/step - loss: 0.0479 - mae: 0.1697 - mse: 0.0479 - val_loss: 0.0961 - val_mae: 0.2398 - val_mse: 0.0961\n",
      "Epoch 184/500\n",
      "36/36 [==============================] - 0s 8ms/step - loss: 0.0482 - mae: 0.1685 - mse: 0.0482 - val_loss: 0.1061 - val_mae: 0.2585 - val_mse: 0.1061\n",
      "Epoch 185/500\n",
      "36/36 [==============================] - 0s 8ms/step - loss: 0.0473 - mae: 0.1677 - mse: 0.0473 - val_loss: 0.0989 - val_mae: 0.2414 - val_mse: 0.0989\n",
      "Epoch 186/500\n",
      "36/36 [==============================] - 0s 7ms/step - loss: 0.0470 - mae: 0.1666 - mse: 0.0470 - val_loss: 0.1006 - val_mae: 0.2424 - val_mse: 0.1006\n",
      "Epoch 187/500\n",
      "36/36 [==============================] - 0s 7ms/step - loss: 0.0474 - mae: 0.1672 - mse: 0.0474 - val_loss: 0.0983 - val_mae: 0.2456 - val_mse: 0.0983\n",
      "Epoch 188/500\n",
      "36/36 [==============================] - 0s 8ms/step - loss: 0.0464 - mae: 0.1669 - mse: 0.0464 - val_loss: 0.1014 - val_mae: 0.2504 - val_mse: 0.1014\n",
      "Epoch 189/500\n",
      "36/36 [==============================] - 0s 10ms/step - loss: 0.0478 - mae: 0.1694 - mse: 0.0478 - val_loss: 0.0985 - val_mae: 0.2427 - val_mse: 0.0985\n",
      "Epoch 190/500\n",
      "36/36 [==============================] - 0s 8ms/step - loss: 0.0505 - mae: 0.1725 - mse: 0.0505 - val_loss: 0.1156 - val_mae: 0.2736 - val_mse: 0.1156\n",
      "Epoch 191/500\n",
      "36/36 [==============================] - 1s 17ms/step - loss: 0.0476 - mae: 0.1692 - mse: 0.0476 - val_loss: 0.0967 - val_mae: 0.2433 - val_mse: 0.0967\n",
      "Epoch 192/500\n",
      "36/36 [==============================] - 0s 9ms/step - loss: 0.0462 - mae: 0.1670 - mse: 0.0462 - val_loss: 0.0997 - val_mae: 0.2479 - val_mse: 0.0997\n",
      "Epoch 193/500\n",
      "36/36 [==============================] - 0s 10ms/step - loss: 0.0471 - mae: 0.1685 - mse: 0.0471 - val_loss: 0.0960 - val_mae: 0.2409 - val_mse: 0.0960\n",
      "Epoch 194/500\n",
      "36/36 [==============================] - 0s 11ms/step - loss: 0.0473 - mae: 0.1664 - mse: 0.0473 - val_loss: 0.0954 - val_mae: 0.2404 - val_mse: 0.0954\n",
      "Epoch 195/500\n",
      "36/36 [==============================] - 0s 10ms/step - loss: 0.0464 - mae: 0.1663 - mse: 0.0464 - val_loss: 0.0965 - val_mae: 0.2391 - val_mse: 0.0965\n",
      "Epoch 196/500\n",
      "36/36 [==============================] - 0s 13ms/step - loss: 0.0464 - mae: 0.1662 - mse: 0.0464 - val_loss: 0.1014 - val_mae: 0.2510 - val_mse: 0.1014\n",
      "Epoch 197/500\n",
      "36/36 [==============================] - 0s 12ms/step - loss: 0.0470 - mae: 0.1681 - mse: 0.0470 - val_loss: 0.0967 - val_mae: 0.2422 - val_mse: 0.0967\n",
      "Epoch 198/500\n",
      "36/36 [==============================] - 0s 10ms/step - loss: 0.0469 - mae: 0.1675 - mse: 0.0469 - val_loss: 0.0978 - val_mae: 0.2443 - val_mse: 0.0978\n",
      "Epoch 199/500\n",
      "36/36 [==============================] - 0s 10ms/step - loss: 0.0464 - mae: 0.1673 - mse: 0.0464 - val_loss: 0.1085 - val_mae: 0.2635 - val_mse: 0.1085\n",
      "Epoch 200/500\n",
      "36/36 [==============================] - 0s 8ms/step - loss: 0.0476 - mae: 0.1683 - mse: 0.0476 - val_loss: 0.0970 - val_mae: 0.2428 - val_mse: 0.0970\n",
      "Epoch 201/500\n",
      "36/36 [==============================] - 0s 8ms/step - loss: 0.0503 - mae: 0.1719 - mse: 0.0503 - val_loss: 0.0981 - val_mae: 0.2467 - val_mse: 0.0981\n",
      "Epoch 202/500\n",
      "36/36 [==============================] - 0s 8ms/step - loss: 0.0459 - mae: 0.1658 - mse: 0.0459 - val_loss: 0.0998 - val_mae: 0.2492 - val_mse: 0.0998\n",
      "Epoch 203/500\n",
      "36/36 [==============================] - 0s 8ms/step - loss: 0.0462 - mae: 0.1654 - mse: 0.0462 - val_loss: 0.0961 - val_mae: 0.2412 - val_mse: 0.0961\n",
      "Epoch 204/500\n",
      "36/36 [==============================] - 0s 9ms/step - loss: 0.0469 - mae: 0.1664 - mse: 0.0469 - val_loss: 0.0974 - val_mae: 0.2414 - val_mse: 0.0974\n",
      "Epoch 205/500\n",
      "36/36 [==============================] - 0s 7ms/step - loss: 0.0460 - mae: 0.1657 - mse: 0.0460 - val_loss: 0.0972 - val_mae: 0.2446 - val_mse: 0.0972\n",
      "Epoch 206/500\n",
      "36/36 [==============================] - 0s 8ms/step - loss: 0.0458 - mae: 0.1655 - mse: 0.0458 - val_loss: 0.0974 - val_mae: 0.2439 - val_mse: 0.0974\n",
      "Epoch 207/500\n",
      "36/36 [==============================] - 0s 7ms/step - loss: 0.0454 - mae: 0.1643 - mse: 0.0454 - val_loss: 0.0985 - val_mae: 0.2409 - val_mse: 0.0985\n",
      "Epoch 208/500\n",
      "36/36 [==============================] - 0s 7ms/step - loss: 0.0475 - mae: 0.1677 - mse: 0.0475 - val_loss: 0.1064 - val_mae: 0.2598 - val_mse: 0.1064\n",
      "Epoch 209/500\n",
      "36/36 [==============================] - 0s 9ms/step - loss: 0.0475 - mae: 0.1676 - mse: 0.0475 - val_loss: 0.0961 - val_mae: 0.2427 - val_mse: 0.0961\n",
      "Epoch 210/500\n",
      "36/36 [==============================] - 0s 9ms/step - loss: 0.0464 - mae: 0.1659 - mse: 0.0464 - val_loss: 0.1100 - val_mae: 0.2655 - val_mse: 0.1100\n",
      "Epoch 211/500\n",
      "36/36 [==============================] - 0s 9ms/step - loss: 0.0464 - mae: 0.1669 - mse: 0.0464 - val_loss: 0.0981 - val_mae: 0.2460 - val_mse: 0.0981\n",
      "Epoch 212/500\n",
      "36/36 [==============================] - 0s 10ms/step - loss: 0.0456 - mae: 0.1656 - mse: 0.0456 - val_loss: 0.0955 - val_mae: 0.2393 - val_mse: 0.0955\n",
      "Epoch 213/500\n",
      "36/36 [==============================] - 0s 9ms/step - loss: 0.0453 - mae: 0.1641 - mse: 0.0453 - val_loss: 0.1068 - val_mae: 0.2603 - val_mse: 0.1068\n",
      "Epoch 214/500\n",
      "36/36 [==============================] - 0s 8ms/step - loss: 0.0472 - mae: 0.1676 - mse: 0.0472 - val_loss: 0.0955 - val_mae: 0.2415 - val_mse: 0.0955\n",
      "Epoch 215/500\n",
      "36/36 [==============================] - 0s 7ms/step - loss: 0.0459 - mae: 0.1650 - mse: 0.0459 - val_loss: 0.0973 - val_mae: 0.2432 - val_mse: 0.0973\n",
      "Epoch 216/500\n",
      "36/36 [==============================] - 0s 7ms/step - loss: 0.0461 - mae: 0.1654 - mse: 0.0461 - val_loss: 0.1082 - val_mae: 0.2620 - val_mse: 0.1082\n",
      "Epoch 217/500\n",
      "36/36 [==============================] - 0s 8ms/step - loss: 0.0462 - mae: 0.1652 - mse: 0.0462 - val_loss: 0.0959 - val_mae: 0.2397 - val_mse: 0.0959\n",
      "Epoch 218/500\n",
      "36/36 [==============================] - 0s 9ms/step - loss: 0.0457 - mae: 0.1648 - mse: 0.0457 - val_loss: 0.0954 - val_mae: 0.2404 - val_mse: 0.0954\n",
      "Epoch 219/500\n",
      "36/36 [==============================] - 0s 8ms/step - loss: 0.0455 - mae: 0.1646 - mse: 0.0455 - val_loss: 0.0956 - val_mae: 0.2397 - val_mse: 0.0956\n",
      "Epoch 220/500\n",
      "36/36 [==============================] - 0s 7ms/step - loss: 0.0470 - mae: 0.1668 - mse: 0.0470 - val_loss: 0.0990 - val_mae: 0.2478 - val_mse: 0.0990\n",
      "Epoch 221/500\n",
      "36/36 [==============================] - 0s 8ms/step - loss: 0.0469 - mae: 0.1671 - mse: 0.0469 - val_loss: 0.0958 - val_mae: 0.2398 - val_mse: 0.0958\n",
      "Epoch 222/500\n",
      "36/36 [==============================] - 0s 10ms/step - loss: 0.0458 - mae: 0.1662 - mse: 0.0458 - val_loss: 0.0950 - val_mae: 0.2401 - val_mse: 0.0950\n",
      "Epoch 223/500\n",
      "36/36 [==============================] - 0s 7ms/step - loss: 0.0464 - mae: 0.1663 - mse: 0.0464 - val_loss: 0.0998 - val_mae: 0.2497 - val_mse: 0.0998\n",
      "Epoch 224/500\n",
      "36/36 [==============================] - 0s 8ms/step - loss: 0.0458 - mae: 0.1648 - mse: 0.0458 - val_loss: 0.0968 - val_mae: 0.2414 - val_mse: 0.0968\n",
      "Epoch 225/500\n",
      "36/36 [==============================] - 0s 11ms/step - loss: 0.0481 - mae: 0.1696 - mse: 0.0481 - val_loss: 0.1068 - val_mae: 0.2602 - val_mse: 0.1068\n",
      "Epoch 226/500\n",
      "36/36 [==============================] - 0s 10ms/step - loss: 0.0471 - mae: 0.1677 - mse: 0.0471 - val_loss: 0.0956 - val_mae: 0.2383 - val_mse: 0.0956\n",
      "Epoch 227/500\n",
      "36/36 [==============================] - 0s 12ms/step - loss: 0.0452 - mae: 0.1644 - mse: 0.0452 - val_loss: 0.1085 - val_mae: 0.2641 - val_mse: 0.1085\n",
      "Epoch 228/500\n",
      "36/36 [==============================] - 0s 11ms/step - loss: 0.0465 - mae: 0.1661 - mse: 0.0465 - val_loss: 0.1007 - val_mae: 0.2422 - val_mse: 0.1007\n",
      "Epoch 229/500\n",
      "36/36 [==============================] - 0s 8ms/step - loss: 0.0456 - mae: 0.1662 - mse: 0.0456 - val_loss: 0.1009 - val_mae: 0.2512 - val_mse: 0.1009\n",
      "Epoch 230/500\n",
      "36/36 [==============================] - 0s 12ms/step - loss: 0.0446 - mae: 0.1628 - mse: 0.0446 - val_loss: 0.0972 - val_mae: 0.2398 - val_mse: 0.0972\n",
      "Epoch 231/500\n",
      "36/36 [==============================] - 1s 14ms/step - loss: 0.0473 - mae: 0.1657 - mse: 0.0473 - val_loss: 0.0953 - val_mae: 0.2418 - val_mse: 0.0953\n",
      "Epoch 232/500\n",
      "36/36 [==============================] - 0s 11ms/step - loss: 0.0448 - mae: 0.1634 - mse: 0.0448 - val_loss: 0.0972 - val_mae: 0.2451 - val_mse: 0.0972\n",
      "Epoch 233/500\n",
      "36/36 [==============================] - 0s 11ms/step - loss: 0.0462 - mae: 0.1666 - mse: 0.0462 - val_loss: 0.1041 - val_mae: 0.2466 - val_mse: 0.1041\n",
      "Epoch 234/500\n",
      "36/36 [==============================] - 0s 10ms/step - loss: 0.0462 - mae: 0.1661 - mse: 0.0462 - val_loss: 0.0963 - val_mae: 0.2408 - val_mse: 0.0963\n",
      "Epoch 235/500\n",
      "36/36 [==============================] - 0s 8ms/step - loss: 0.0453 - mae: 0.1638 - mse: 0.0453 - val_loss: 0.0980 - val_mae: 0.2393 - val_mse: 0.0980\n",
      "Epoch 236/500\n",
      "36/36 [==============================] - 0s 11ms/step - loss: 0.0448 - mae: 0.1633 - mse: 0.0448 - val_loss: 0.0972 - val_mae: 0.2386 - val_mse: 0.0972\n",
      "Epoch 237/500\n",
      "36/36 [==============================] - 0s 9ms/step - loss: 0.0451 - mae: 0.1636 - mse: 0.0451 - val_loss: 0.0956 - val_mae: 0.2403 - val_mse: 0.0956\n",
      "Epoch 238/500\n",
      "36/36 [==============================] - 0s 7ms/step - loss: 0.0449 - mae: 0.1640 - mse: 0.0449 - val_loss: 0.0976 - val_mae: 0.2423 - val_mse: 0.0976\n",
      "Epoch 239/500\n",
      "36/36 [==============================] - 0s 8ms/step - loss: 0.0449 - mae: 0.1641 - mse: 0.0449 - val_loss: 0.0963 - val_mae: 0.2426 - val_mse: 0.0963\n",
      "Epoch 240/500\n",
      "36/36 [==============================] - 0s 7ms/step - loss: 0.0451 - mae: 0.1640 - mse: 0.0451 - val_loss: 0.0953 - val_mae: 0.2382 - val_mse: 0.0953\n",
      "Epoch 241/500\n",
      "36/36 [==============================] - 0s 7ms/step - loss: 0.0466 - mae: 0.1667 - mse: 0.0466 - val_loss: 0.1066 - val_mae: 0.2604 - val_mse: 0.1066\n",
      "Epoch 242/500\n",
      "36/36 [==============================] - 0s 7ms/step - loss: 0.0444 - mae: 0.1633 - mse: 0.0444 - val_loss: 0.0970 - val_mae: 0.2401 - val_mse: 0.0970\n",
      "Epoch 243/500\n",
      "36/36 [==============================] - 0s 7ms/step - loss: 0.0447 - mae: 0.1634 - mse: 0.0447 - val_loss: 0.0972 - val_mae: 0.2455 - val_mse: 0.0972\n",
      "Epoch 244/500\n",
      "36/36 [==============================] - 0s 10ms/step - loss: 0.0457 - mae: 0.1659 - mse: 0.0457 - val_loss: 0.0961 - val_mae: 0.2395 - val_mse: 0.0961\n",
      "Epoch 245/500\n",
      "36/36 [==============================] - 0s 8ms/step - loss: 0.0446 - mae: 0.1635 - mse: 0.0446 - val_loss: 0.0958 - val_mae: 0.2423 - val_mse: 0.0958\n",
      "Epoch 246/500\n",
      "36/36 [==============================] - 0s 7ms/step - loss: 0.0452 - mae: 0.1645 - mse: 0.0452 - val_loss: 0.1042 - val_mae: 0.2564 - val_mse: 0.1042\n",
      "Epoch 247/500\n",
      "36/36 [==============================] - 0s 7ms/step - loss: 0.0455 - mae: 0.1649 - mse: 0.0455 - val_loss: 0.0983 - val_mae: 0.2457 - val_mse: 0.0983\n",
      "Epoch 248/500\n",
      "36/36 [==============================] - 0s 7ms/step - loss: 0.0451 - mae: 0.1637 - mse: 0.0451 - val_loss: 0.0993 - val_mae: 0.2489 - val_mse: 0.0993\n",
      "Epoch 249/500\n",
      "36/36 [==============================] - 0s 8ms/step - loss: 0.0443 - mae: 0.1637 - mse: 0.0443 - val_loss: 0.0983 - val_mae: 0.2474 - val_mse: 0.0983\n",
      "Epoch 250/500\n",
      "36/36 [==============================] - 0s 8ms/step - loss: 0.0449 - mae: 0.1641 - mse: 0.0449 - val_loss: 0.0965 - val_mae: 0.2441 - val_mse: 0.0965\n",
      "Epoch 251/500\n",
      "36/36 [==============================] - 0s 7ms/step - loss: 0.0443 - mae: 0.1625 - mse: 0.0443 - val_loss: 0.0958 - val_mae: 0.2398 - val_mse: 0.0958\n",
      "Epoch 252/500\n",
      "36/36 [==============================] - 0s 7ms/step - loss: 0.0444 - mae: 0.1624 - mse: 0.0444 - val_loss: 0.0984 - val_mae: 0.2472 - val_mse: 0.0984\n",
      "Epoch 253/500\n",
      "36/36 [==============================] - 0s 7ms/step - loss: 0.0441 - mae: 0.1626 - mse: 0.0441 - val_loss: 0.0956 - val_mae: 0.2396 - val_mse: 0.0956\n",
      "Epoch 254/500\n",
      "36/36 [==============================] - 0s 8ms/step - loss: 0.0445 - mae: 0.1635 - mse: 0.0445 - val_loss: 0.0977 - val_mae: 0.2408 - val_mse: 0.0977\n",
      "Epoch 255/500\n",
      "36/36 [==============================] - 0s 6ms/step - loss: 0.0454 - mae: 0.1640 - mse: 0.0454 - val_loss: 0.0984 - val_mae: 0.2481 - val_mse: 0.0984\n",
      "Epoch 256/500\n",
      "36/36 [==============================] - 0s 7ms/step - loss: 0.0474 - mae: 0.1670 - mse: 0.0474 - val_loss: 0.0959 - val_mae: 0.2436 - val_mse: 0.0959\n",
      "Epoch 257/500\n",
      "36/36 [==============================] - 0s 9ms/step - loss: 0.0443 - mae: 0.1630 - mse: 0.0443 - val_loss: 0.0954 - val_mae: 0.2422 - val_mse: 0.0954\n",
      "Epoch 258/500\n",
      "36/36 [==============================] - 0s 8ms/step - loss: 0.0441 - mae: 0.1615 - mse: 0.0441 - val_loss: 0.0970 - val_mae: 0.2462 - val_mse: 0.0970\n",
      "Epoch 259/500\n",
      "36/36 [==============================] - 0s 8ms/step - loss: 0.0449 - mae: 0.1629 - mse: 0.0449 - val_loss: 0.0967 - val_mae: 0.2418 - val_mse: 0.0967\n",
      "Epoch 260/500\n",
      "36/36 [==============================] - 0s 12ms/step - loss: 0.0445 - mae: 0.1635 - mse: 0.0445 - val_loss: 0.0967 - val_mae: 0.2415 - val_mse: 0.0967\n",
      "Epoch 261/500\n",
      "36/36 [==============================] - 0s 8ms/step - loss: 0.0447 - mae: 0.1636 - mse: 0.0447 - val_loss: 0.0963 - val_mae: 0.2429 - val_mse: 0.0963\n",
      "Epoch 262/500\n",
      "36/36 [==============================] - 0s 8ms/step - loss: 0.0444 - mae: 0.1623 - mse: 0.0444 - val_loss: 0.0967 - val_mae: 0.2437 - val_mse: 0.0967\n",
      "Epoch 263/500\n",
      "36/36 [==============================] - 0s 7ms/step - loss: 0.0439 - mae: 0.1620 - mse: 0.0439 - val_loss: 0.0991 - val_mae: 0.2492 - val_mse: 0.0991\n",
      "Epoch 264/500\n",
      "36/36 [==============================] - 0s 8ms/step - loss: 0.0446 - mae: 0.1629 - mse: 0.0446 - val_loss: 0.0996 - val_mae: 0.2499 - val_mse: 0.0996\n",
      "Epoch 265/500\n",
      "36/36 [==============================] - 0s 7ms/step - loss: 0.0454 - mae: 0.1640 - mse: 0.0454 - val_loss: 0.0977 - val_mae: 0.2401 - val_mse: 0.0977\n",
      "Epoch 266/500\n",
      "36/36 [==============================] - 0s 7ms/step - loss: 0.0453 - mae: 0.1648 - mse: 0.0453 - val_loss: 0.0970 - val_mae: 0.2419 - val_mse: 0.0970\n",
      "Epoch 267/500\n",
      "36/36 [==============================] - 0s 7ms/step - loss: 0.0443 - mae: 0.1627 - mse: 0.0443 - val_loss: 0.0976 - val_mae: 0.2465 - val_mse: 0.0976\n",
      "Epoch 268/500\n",
      "36/36 [==============================] - 0s 9ms/step - loss: 0.0435 - mae: 0.1613 - mse: 0.0435 - val_loss: 0.1021 - val_mae: 0.2533 - val_mse: 0.1021\n",
      "Epoch 269/500\n",
      "36/36 [==============================] - 0s 7ms/step - loss: 0.0441 - mae: 0.1633 - mse: 0.0441 - val_loss: 0.0997 - val_mae: 0.2434 - val_mse: 0.0997\n",
      "Epoch 270/500\n",
      "36/36 [==============================] - 0s 7ms/step - loss: 0.0442 - mae: 0.1617 - mse: 0.0442 - val_loss: 0.0968 - val_mae: 0.2452 - val_mse: 0.0968\n",
      "Epoch 271/500\n",
      "36/36 [==============================] - 0s 7ms/step - loss: 0.0437 - mae: 0.1613 - mse: 0.0437 - val_loss: 0.0956 - val_mae: 0.2413 - val_mse: 0.0956\n",
      "Epoch 272/500\n",
      "36/36 [==============================] - 0s 7ms/step - loss: 0.0437 - mae: 0.1622 - mse: 0.0437 - val_loss: 0.0964 - val_mae: 0.2416 - val_mse: 0.0964\n",
      "Epoch 273/500\n",
      "36/36 [==============================] - 0s 10ms/step - loss: 0.0449 - mae: 0.1633 - mse: 0.0449 - val_loss: 0.0945 - val_mae: 0.2383 - val_mse: 0.0945\n",
      "Epoch 274/500\n",
      "36/36 [==============================] - 0s 8ms/step - loss: 0.0477 - mae: 0.1683 - mse: 0.0477 - val_loss: 0.1176 - val_mae: 0.2773 - val_mse: 0.1176\n",
      "Epoch 275/500\n",
      "36/36 [==============================] - 0s 9ms/step - loss: 0.0453 - mae: 0.1643 - mse: 0.0453 - val_loss: 0.0956 - val_mae: 0.2432 - val_mse: 0.0956\n",
      "Epoch 276/500\n",
      "36/36 [==============================] - 0s 10ms/step - loss: 0.0442 - mae: 0.1622 - mse: 0.0442 - val_loss: 0.1173 - val_mae: 0.2606 - val_mse: 0.1173\n",
      "Epoch 277/500\n",
      "36/36 [==============================] - 0s 8ms/step - loss: 0.0474 - mae: 0.1678 - mse: 0.0474 - val_loss: 0.0973 - val_mae: 0.2464 - val_mse: 0.0973\n",
      "Epoch 278/500\n",
      "36/36 [==============================] - 0s 13ms/step - loss: 0.0436 - mae: 0.1621 - mse: 0.0436 - val_loss: 0.0967 - val_mae: 0.2443 - val_mse: 0.0967\n",
      "Epoch 279/500\n",
      "36/36 [==============================] - 0s 10ms/step - loss: 0.0436 - mae: 0.1617 - mse: 0.0436 - val_loss: 0.1037 - val_mae: 0.2565 - val_mse: 0.1037\n",
      "Epoch 280/500\n",
      "36/36 [==============================] - 1s 16ms/step - loss: 0.0435 - mae: 0.1613 - mse: 0.0435 - val_loss: 0.1011 - val_mae: 0.2520 - val_mse: 0.1011\n",
      "Epoch 281/500\n",
      "36/36 [==============================] - 0s 12ms/step - loss: 0.0434 - mae: 0.1610 - mse: 0.0434 - val_loss: 0.0978 - val_mae: 0.2414 - val_mse: 0.0978\n",
      "Epoch 282/500\n",
      "36/36 [==============================] - 0s 14ms/step - loss: 0.0435 - mae: 0.1606 - mse: 0.0435 - val_loss: 0.0994 - val_mae: 0.2417 - val_mse: 0.0994\n",
      "Epoch 283/500\n",
      "36/36 [==============================] - 0s 13ms/step - loss: 0.0457 - mae: 0.1636 - mse: 0.0457 - val_loss: 0.0980 - val_mae: 0.2480 - val_mse: 0.0980\n",
      "Epoch 284/500\n",
      "36/36 [==============================] - 0s 11ms/step - loss: 0.0454 - mae: 0.1634 - mse: 0.0454 - val_loss: 0.0970 - val_mae: 0.2420 - val_mse: 0.0970\n",
      "Epoch 285/500\n",
      "36/36 [==============================] - 0s 13ms/step - loss: 0.0433 - mae: 0.1599 - mse: 0.0433 - val_loss: 0.0961 - val_mae: 0.2424 - val_mse: 0.0961\n",
      "Epoch 286/500\n",
      "36/36 [==============================] - 0s 11ms/step - loss: 0.0434 - mae: 0.1611 - mse: 0.0434 - val_loss: 0.0986 - val_mae: 0.2485 - val_mse: 0.0986\n",
      "Epoch 287/500\n",
      "36/36 [==============================] - 0s 9ms/step - loss: 0.0435 - mae: 0.1616 - mse: 0.0435 - val_loss: 0.0961 - val_mae: 0.2446 - val_mse: 0.0961\n",
      "Epoch 288/500\n",
      "36/36 [==============================] - 0s 8ms/step - loss: 0.0442 - mae: 0.1627 - mse: 0.0442 - val_loss: 0.0983 - val_mae: 0.2480 - val_mse: 0.0983\n",
      "Epoch 289/500\n",
      "36/36 [==============================] - 0s 7ms/step - loss: 0.0478 - mae: 0.1680 - mse: 0.0478 - val_loss: 0.0990 - val_mae: 0.2490 - val_mse: 0.0990\n",
      "Epoch 290/500\n",
      "36/36 [==============================] - 0s 11ms/step - loss: 0.0435 - mae: 0.1610 - mse: 0.0435 - val_loss: 0.0973 - val_mae: 0.2418 - val_mse: 0.0973\n",
      "Epoch 291/500\n",
      "36/36 [==============================] - 0s 9ms/step - loss: 0.0434 - mae: 0.1595 - mse: 0.0434 - val_loss: 0.0967 - val_mae: 0.2445 - val_mse: 0.0967\n",
      "Epoch 292/500\n",
      "36/36 [==============================] - 0s 10ms/step - loss: 0.0434 - mae: 0.1600 - mse: 0.0434 - val_loss: 0.0989 - val_mae: 0.2491 - val_mse: 0.0989\n",
      "Epoch 293/500\n",
      "36/36 [==============================] - 0s 9ms/step - loss: 0.0428 - mae: 0.1595 - mse: 0.0428 - val_loss: 0.1065 - val_mae: 0.2603 - val_mse: 0.1065\n",
      "Epoch 294/500\n",
      "36/36 [==============================] - 0s 12ms/step - loss: 0.0440 - mae: 0.1627 - mse: 0.0440 - val_loss: 0.0958 - val_mae: 0.2418 - val_mse: 0.0958\n",
      "Epoch 295/500\n",
      "36/36 [==============================] - 0s 8ms/step - loss: 0.0441 - mae: 0.1623 - mse: 0.0441 - val_loss: 0.0968 - val_mae: 0.2451 - val_mse: 0.0968\n",
      "Epoch 296/500\n",
      "36/36 [==============================] - 0s 8ms/step - loss: 0.0435 - mae: 0.1614 - mse: 0.0435 - val_loss: 0.0996 - val_mae: 0.2504 - val_mse: 0.0996\n",
      "Epoch 297/500\n",
      "36/36 [==============================] - 0s 11ms/step - loss: 0.0427 - mae: 0.1596 - mse: 0.0427 - val_loss: 0.0965 - val_mae: 0.2442 - val_mse: 0.0965\n",
      "Epoch 298/500\n",
      "36/36 [==============================] - 0s 9ms/step - loss: 0.0431 - mae: 0.1610 - mse: 0.0431 - val_loss: 0.0994 - val_mae: 0.2497 - val_mse: 0.0994\n",
      "Epoch 299/500\n",
      "36/36 [==============================] - 0s 8ms/step - loss: 0.0430 - mae: 0.1595 - mse: 0.0430 - val_loss: 0.0971 - val_mae: 0.2411 - val_mse: 0.0971\n",
      "Epoch 300/500\n",
      "36/36 [==============================] - 0s 7ms/step - loss: 0.0444 - mae: 0.1619 - mse: 0.0444 - val_loss: 0.1261 - val_mae: 0.2885 - val_mse: 0.1261\n",
      "Epoch 301/500\n",
      "36/36 [==============================] - 0s 9ms/step - loss: 0.0442 - mae: 0.1626 - mse: 0.0442 - val_loss: 0.0970 - val_mae: 0.2419 - val_mse: 0.0970\n",
      "Epoch 302/500\n",
      "36/36 [==============================] - 0s 8ms/step - loss: 0.0427 - mae: 0.1598 - mse: 0.0427 - val_loss: 0.0962 - val_mae: 0.2417 - val_mse: 0.0962\n",
      "Epoch 303/500\n",
      "36/36 [==============================] - 0s 7ms/step - loss: 0.0429 - mae: 0.1585 - mse: 0.0429 - val_loss: 0.0965 - val_mae: 0.2449 - val_mse: 0.0965\n",
      "Epoch 304/500\n",
      "36/36 [==============================] - 0s 8ms/step - loss: 0.0449 - mae: 0.1633 - mse: 0.0449 - val_loss: 0.0964 - val_mae: 0.2435 - val_mse: 0.0964\n",
      "Epoch 305/500\n",
      "36/36 [==============================] - 0s 8ms/step - loss: 0.0423 - mae: 0.1594 - mse: 0.0423 - val_loss: 0.0982 - val_mae: 0.2425 - val_mse: 0.0982\n",
      "Epoch 306/500\n",
      "36/36 [==============================] - 0s 7ms/step - loss: 0.0427 - mae: 0.1602 - mse: 0.0427 - val_loss: 0.0953 - val_mae: 0.2399 - val_mse: 0.0953\n",
      "Epoch 307/500\n",
      "36/36 [==============================] - 0s 7ms/step - loss: 0.0441 - mae: 0.1614 - mse: 0.0441 - val_loss: 0.1190 - val_mae: 0.2635 - val_mse: 0.1190\n",
      "Epoch 308/500\n",
      "36/36 [==============================] - 0s 8ms/step - loss: 0.0473 - mae: 0.1684 - mse: 0.0473 - val_loss: 0.0985 - val_mae: 0.2488 - val_mse: 0.0985\n",
      "Epoch 309/500\n",
      "36/36 [==============================] - 0s 8ms/step - loss: 0.0428 - mae: 0.1593 - mse: 0.0428 - val_loss: 0.0949 - val_mae: 0.2416 - val_mse: 0.0949\n",
      "Epoch 310/500\n",
      "36/36 [==============================] - 0s 11ms/step - loss: 0.0432 - mae: 0.1609 - mse: 0.0432 - val_loss: 0.0993 - val_mae: 0.2493 - val_mse: 0.0993\n",
      "Epoch 311/500\n",
      "36/36 [==============================] - 0s 7ms/step - loss: 0.0427 - mae: 0.1590 - mse: 0.0427 - val_loss: 0.1023 - val_mae: 0.2547 - val_mse: 0.1023\n",
      "Epoch 312/500\n",
      "36/36 [==============================] - 0s 7ms/step - loss: 0.0421 - mae: 0.1586 - mse: 0.0421 - val_loss: 0.1061 - val_mae: 0.2484 - val_mse: 0.1061\n",
      "Epoch 313/500\n",
      "36/36 [==============================] - 0s 7ms/step - loss: 0.0437 - mae: 0.1622 - mse: 0.0437 - val_loss: 0.0978 - val_mae: 0.2470 - val_mse: 0.0978\n",
      "Epoch 314/500\n",
      "36/36 [==============================] - 0s 7ms/step - loss: 0.0422 - mae: 0.1587 - mse: 0.0422 - val_loss: 0.0982 - val_mae: 0.2482 - val_mse: 0.0982\n",
      "Epoch 315/500\n",
      "36/36 [==============================] - 0s 8ms/step - loss: 0.0423 - mae: 0.1581 - mse: 0.0423 - val_loss: 0.1026 - val_mae: 0.2551 - val_mse: 0.1026\n",
      "Epoch 316/500\n",
      "36/36 [==============================] - 0s 6ms/step - loss: 0.0422 - mae: 0.1591 - mse: 0.0422 - val_loss: 0.0967 - val_mae: 0.2457 - val_mse: 0.0967\n",
      "Epoch 317/500\n",
      "36/36 [==============================] - 0s 7ms/step - loss: 0.0430 - mae: 0.1591 - mse: 0.0430 - val_loss: 0.0977 - val_mae: 0.2479 - val_mse: 0.0977\n",
      "Epoch 318/500\n",
      "36/36 [==============================] - 0s 10ms/step - loss: 0.0443 - mae: 0.1612 - mse: 0.0443 - val_loss: 0.0996 - val_mae: 0.2440 - val_mse: 0.0996\n",
      "Epoch 319/500\n",
      "36/36 [==============================] - 0s 7ms/step - loss: 0.0427 - mae: 0.1591 - mse: 0.0427 - val_loss: 0.1061 - val_mae: 0.2605 - val_mse: 0.1061\n",
      "Epoch 320/500\n",
      "36/36 [==============================] - 0s 10ms/step - loss: 0.0422 - mae: 0.1592 - mse: 0.0422 - val_loss: 0.0977 - val_mae: 0.2474 - val_mse: 0.0977\n",
      "Epoch 321/500\n",
      "36/36 [==============================] - 0s 8ms/step - loss: 0.0421 - mae: 0.1586 - mse: 0.0421 - val_loss: 0.0997 - val_mae: 0.2507 - val_mse: 0.0997\n",
      "Epoch 322/500\n",
      "36/36 [==============================] - 0s 8ms/step - loss: 0.0450 - mae: 0.1647 - mse: 0.0450 - val_loss: 0.1007 - val_mae: 0.2521 - val_mse: 0.1007\n",
      "Epoch 323/500\n",
      "36/36 [==============================] - 0s 8ms/step - loss: 0.0422 - mae: 0.1585 - mse: 0.0422 - val_loss: 0.0975 - val_mae: 0.2468 - val_mse: 0.0975\n",
      "Epoch 324/500\n",
      "36/36 [==============================] - 0s 8ms/step - loss: 0.0422 - mae: 0.1595 - mse: 0.0422 - val_loss: 0.0961 - val_mae: 0.2415 - val_mse: 0.0961\n",
      "Epoch 325/500\n",
      "36/36 [==============================] - 0s 10ms/step - loss: 0.0432 - mae: 0.1603 - mse: 0.0432 - val_loss: 0.0990 - val_mae: 0.2486 - val_mse: 0.0990\n",
      "Epoch 326/500\n",
      "36/36 [==============================] - 0s 8ms/step - loss: 0.0443 - mae: 0.1613 - mse: 0.0443 - val_loss: 0.0965 - val_mae: 0.2450 - val_mse: 0.0965\n",
      "Epoch 327/500\n",
      "36/36 [==============================] - 0s 9ms/step - loss: 0.0450 - mae: 0.1627 - mse: 0.0450 - val_loss: 0.1000 - val_mae: 0.2515 - val_mse: 0.1000\n",
      "Epoch 328/500\n",
      "36/36 [==============================] - 0s 8ms/step - loss: 0.0428 - mae: 0.1589 - mse: 0.0428 - val_loss: 0.1065 - val_mae: 0.2609 - val_mse: 0.1065\n",
      "Epoch 329/500\n",
      "36/36 [==============================] - 0s 7ms/step - loss: 0.0427 - mae: 0.1597 - mse: 0.0427 - val_loss: 0.1022 - val_mae: 0.2546 - val_mse: 0.1022\n",
      "Epoch 330/500\n",
      "36/36 [==============================] - 0s 7ms/step - loss: 0.0423 - mae: 0.1591 - mse: 0.0423 - val_loss: 0.1053 - val_mae: 0.2594 - val_mse: 0.1053\n",
      "Epoch 331/500\n",
      "36/36 [==============================] - 0s 7ms/step - loss: 0.0441 - mae: 0.1611 - mse: 0.0441 - val_loss: 0.0961 - val_mae: 0.2434 - val_mse: 0.0961\n",
      "Epoch 332/500\n",
      "36/36 [==============================] - 0s 12ms/step - loss: 0.0418 - mae: 0.1581 - mse: 0.0418 - val_loss: 0.1139 - val_mae: 0.2717 - val_mse: 0.1139\n",
      "Epoch 333/500\n",
      "36/36 [==============================] - 0s 8ms/step - loss: 0.0431 - mae: 0.1604 - mse: 0.0431 - val_loss: 0.0964 - val_mae: 0.2448 - val_mse: 0.0964\n",
      "Epoch 334/500\n",
      "36/36 [==============================] - 0s 8ms/step - loss: 0.0427 - mae: 0.1599 - mse: 0.0427 - val_loss: 0.0951 - val_mae: 0.2424 - val_mse: 0.0951\n",
      "Epoch 335/500\n",
      "36/36 [==============================] - 0s 13ms/step - loss: 0.0423 - mae: 0.1584 - mse: 0.0423 - val_loss: 0.0989 - val_mae: 0.2497 - val_mse: 0.0989\n",
      "Epoch 336/500\n",
      "36/36 [==============================] - 0s 8ms/step - loss: 0.0435 - mae: 0.1608 - mse: 0.0435 - val_loss: 0.0972 - val_mae: 0.2438 - val_mse: 0.0972\n",
      "Epoch 337/500\n",
      "36/36 [==============================] - 0s 8ms/step - loss: 0.0421 - mae: 0.1575 - mse: 0.0421 - val_loss: 0.1271 - val_mae: 0.2894 - val_mse: 0.1271\n",
      "Epoch 338/500\n",
      "36/36 [==============================] - 0s 8ms/step - loss: 0.0457 - mae: 0.1632 - mse: 0.0457 - val_loss: 0.0961 - val_mae: 0.2438 - val_mse: 0.0961\n",
      "Epoch 339/500\n",
      "36/36 [==============================] - 0s 7ms/step - loss: 0.0428 - mae: 0.1600 - mse: 0.0428 - val_loss: 0.1058 - val_mae: 0.2602 - val_mse: 0.1058\n",
      "Epoch 340/500\n",
      "36/36 [==============================] - 0s 7ms/step - loss: 0.0424 - mae: 0.1592 - mse: 0.0424 - val_loss: 0.0992 - val_mae: 0.2500 - val_mse: 0.0992\n",
      "Epoch 341/500\n",
      "36/36 [==============================] - 0s 7ms/step - loss: 0.0417 - mae: 0.1576 - mse: 0.0417 - val_loss: 0.0955 - val_mae: 0.2433 - val_mse: 0.0955\n",
      "Epoch 342/500\n",
      "36/36 [==============================] - 0s 7ms/step - loss: 0.0420 - mae: 0.1588 - mse: 0.0420 - val_loss: 0.0970 - val_mae: 0.2449 - val_mse: 0.0970\n",
      "Epoch 343/500\n",
      "36/36 [==============================] - 0s 7ms/step - loss: 0.0422 - mae: 0.1587 - mse: 0.0422 - val_loss: 0.0985 - val_mae: 0.2498 - val_mse: 0.0985\n",
      "Epoch 344/500\n",
      "36/36 [==============================] - 0s 8ms/step - loss: 0.0418 - mae: 0.1571 - mse: 0.0418 - val_loss: 0.0967 - val_mae: 0.2452 - val_mse: 0.0967\n",
      "Epoch 345/500\n",
      "36/36 [==============================] - 0s 7ms/step - loss: 0.0428 - mae: 0.1595 - mse: 0.0428 - val_loss: 0.0969 - val_mae: 0.2410 - val_mse: 0.0969\n",
      "Epoch 346/500\n",
      "36/36 [==============================] - 0s 8ms/step - loss: 0.0419 - mae: 0.1587 - mse: 0.0419 - val_loss: 0.0965 - val_mae: 0.2443 - val_mse: 0.0965\n",
      "Epoch 347/500\n",
      "36/36 [==============================] - 0s 10ms/step - loss: 0.0416 - mae: 0.1574 - mse: 0.0416 - val_loss: 0.1026 - val_mae: 0.2551 - val_mse: 0.1026\n",
      "Epoch 348/500\n",
      "36/36 [==============================] - 0s 8ms/step - loss: 0.0419 - mae: 0.1576 - mse: 0.0419 - val_loss: 0.1071 - val_mae: 0.2620 - val_mse: 0.1071\n",
      "Epoch 349/500\n",
      "36/36 [==============================] - 0s 8ms/step - loss: 0.0428 - mae: 0.1596 - mse: 0.0428 - val_loss: 0.0960 - val_mae: 0.2422 - val_mse: 0.0960\n",
      "Epoch 350/500\n",
      "36/36 [==============================] - 0s 8ms/step - loss: 0.0428 - mae: 0.1602 - mse: 0.0428 - val_loss: 0.0995 - val_mae: 0.2508 - val_mse: 0.0995\n",
      "Epoch 351/500\n",
      "36/36 [==============================] - 0s 8ms/step - loss: 0.0417 - mae: 0.1578 - mse: 0.0417 - val_loss: 0.1015 - val_mae: 0.2538 - val_mse: 0.1015\n",
      "Epoch 352/500\n",
      "36/36 [==============================] - 0s 8ms/step - loss: 0.0428 - mae: 0.1582 - mse: 0.0428 - val_loss: 0.1360 - val_mae: 0.3004 - val_mse: 0.1360\n",
      "Epoch 353/500\n",
      "36/36 [==============================] - 0s 8ms/step - loss: 0.0424 - mae: 0.1594 - mse: 0.0424 - val_loss: 0.0970 - val_mae: 0.2457 - val_mse: 0.0970\n",
      "Epoch 354/500\n",
      "36/36 [==============================] - 0s 7ms/step - loss: 0.0415 - mae: 0.1572 - mse: 0.0415 - val_loss: 0.0968 - val_mae: 0.2450 - val_mse: 0.0968\n",
      "Epoch 355/500\n",
      "36/36 [==============================] - 0s 8ms/step - loss: 0.0416 - mae: 0.1572 - mse: 0.0416 - val_loss: 0.1117 - val_mae: 0.2676 - val_mse: 0.1117\n",
      "Epoch 356/500\n",
      "36/36 [==============================] - 0s 7ms/step - loss: 0.0421 - mae: 0.1583 - mse: 0.0421 - val_loss: 0.1007 - val_mae: 0.2519 - val_mse: 0.1007\n",
      "Epoch 357/500\n",
      "36/36 [==============================] - 0s 8ms/step - loss: 0.0418 - mae: 0.1580 - mse: 0.0418 - val_loss: 0.0978 - val_mae: 0.2449 - val_mse: 0.0978\n",
      "Epoch 358/500\n",
      "36/36 [==============================] - 0s 9ms/step - loss: 0.0453 - mae: 0.1658 - mse: 0.0453 - val_loss: 0.0990 - val_mae: 0.2499 - val_mse: 0.0990\n",
      "Epoch 359/500\n",
      "36/36 [==============================] - 0s 8ms/step - loss: 0.0433 - mae: 0.1605 - mse: 0.0433 - val_loss: 0.0996 - val_mae: 0.2437 - val_mse: 0.0996\n",
      "Epoch 360/500\n",
      "36/36 [==============================] - 0s 8ms/step - loss: 0.0416 - mae: 0.1575 - mse: 0.0416 - val_loss: 0.0959 - val_mae: 0.2439 - val_mse: 0.0959\n",
      "Epoch 361/500\n",
      "36/36 [==============================] - 0s 10ms/step - loss: 0.0414 - mae: 0.1576 - mse: 0.0414 - val_loss: 0.0957 - val_mae: 0.2412 - val_mse: 0.0957\n",
      "Epoch 362/500\n",
      "36/36 [==============================] - 0s 7ms/step - loss: 0.0418 - mae: 0.1577 - mse: 0.0418 - val_loss: 0.0987 - val_mae: 0.2486 - val_mse: 0.0987\n",
      "Epoch 363/500\n",
      "36/36 [==============================] - 0s 8ms/step - loss: 0.0427 - mae: 0.1601 - mse: 0.0427 - val_loss: 0.0983 - val_mae: 0.2456 - val_mse: 0.0983\n",
      "Epoch 364/500\n",
      "36/36 [==============================] - 0s 8ms/step - loss: 0.0414 - mae: 0.1566 - mse: 0.0414 - val_loss: 0.1050 - val_mae: 0.2587 - val_mse: 0.1050\n",
      "Epoch 365/500\n",
      "36/36 [==============================] - 0s 7ms/step - loss: 0.0424 - mae: 0.1594 - mse: 0.0424 - val_loss: 0.0962 - val_mae: 0.2454 - val_mse: 0.0962\n",
      "Epoch 366/500\n",
      "36/36 [==============================] - 0s 7ms/step - loss: 0.0414 - mae: 0.1572 - mse: 0.0414 - val_loss: 0.0980 - val_mae: 0.2478 - val_mse: 0.0980\n",
      "Epoch 367/500\n",
      "36/36 [==============================] - 0s 11ms/step - loss: 0.0409 - mae: 0.1564 - mse: 0.0409 - val_loss: 0.0976 - val_mae: 0.2469 - val_mse: 0.0976\n",
      "Epoch 368/500\n",
      "36/36 [==============================] - 0s 7ms/step - loss: 0.0424 - mae: 0.1588 - mse: 0.0424 - val_loss: 0.0974 - val_mae: 0.2469 - val_mse: 0.0974\n",
      "Epoch 369/500\n",
      "36/36 [==============================] - 0s 11ms/step - loss: 0.0415 - mae: 0.1579 - mse: 0.0415 - val_loss: 0.0958 - val_mae: 0.2434 - val_mse: 0.0958\n",
      "Epoch 370/500\n",
      "36/36 [==============================] - 0s 8ms/step - loss: 0.0423 - mae: 0.1585 - mse: 0.0423 - val_loss: 0.1162 - val_mae: 0.2747 - val_mse: 0.1162\n",
      "Epoch 371/500\n",
      "36/36 [==============================] - 0s 10ms/step - loss: 0.0428 - mae: 0.1601 - mse: 0.0428 - val_loss: 0.0995 - val_mae: 0.2455 - val_mse: 0.0995\n",
      "Epoch 372/500\n",
      "36/36 [==============================] - 0s 7ms/step - loss: 0.0424 - mae: 0.1585 - mse: 0.0424 - val_loss: 0.0962 - val_mae: 0.2446 - val_mse: 0.0962\n",
      "Epoch 373/500\n",
      "36/36 [==============================] - 0s 7ms/step - loss: 0.0412 - mae: 0.1565 - mse: 0.0412 - val_loss: 0.0984 - val_mae: 0.2478 - val_mse: 0.0984\n",
      "Epoch 374/500\n",
      "36/36 [==============================] - 0s 7ms/step - loss: 0.0423 - mae: 0.1588 - mse: 0.0423 - val_loss: 0.1062 - val_mae: 0.2601 - val_mse: 0.1062\n",
      "Epoch 375/500\n",
      "36/36 [==============================] - 0s 8ms/step - loss: 0.0414 - mae: 0.1563 - mse: 0.0414 - val_loss: 0.0969 - val_mae: 0.2417 - val_mse: 0.0969\n",
      "Epoch 376/500\n",
      "36/36 [==============================] - 0s 8ms/step - loss: 0.0409 - mae: 0.1561 - mse: 0.0409 - val_loss: 0.0976 - val_mae: 0.2429 - val_mse: 0.0976\n",
      "Epoch 377/500\n",
      "36/36 [==============================] - 0s 8ms/step - loss: 0.0407 - mae: 0.1555 - mse: 0.0407 - val_loss: 0.1024 - val_mae: 0.2549 - val_mse: 0.1024\n",
      "Epoch 378/500\n",
      "36/36 [==============================] - 0s 8ms/step - loss: 0.0421 - mae: 0.1590 - mse: 0.0421 - val_loss: 0.0985 - val_mae: 0.2493 - val_mse: 0.0985\n",
      "Epoch 379/500\n",
      "36/36 [==============================] - 0s 7ms/step - loss: 0.0426 - mae: 0.1576 - mse: 0.0426 - val_loss: 0.1040 - val_mae: 0.2569 - val_mse: 0.1040\n",
      "Epoch 380/500\n",
      "36/36 [==============================] - 0s 10ms/step - loss: 0.0424 - mae: 0.1589 - mse: 0.0424 - val_loss: 0.0962 - val_mae: 0.2440 - val_mse: 0.0962\n",
      "Epoch 381/500\n",
      "36/36 [==============================] - 0s 7ms/step - loss: 0.0410 - mae: 0.1562 - mse: 0.0410 - val_loss: 0.0957 - val_mae: 0.2426 - val_mse: 0.0957\n",
      "Epoch 382/500\n",
      "36/36 [==============================] - 0s 7ms/step - loss: 0.0414 - mae: 0.1576 - mse: 0.0414 - val_loss: 0.1004 - val_mae: 0.2520 - val_mse: 0.1004\n",
      "Epoch 383/500\n",
      "36/36 [==============================] - 0s 7ms/step - loss: 0.0419 - mae: 0.1585 - mse: 0.0419 - val_loss: 0.1021 - val_mae: 0.2539 - val_mse: 0.1021\n",
      "Epoch 384/500\n",
      "36/36 [==============================] - 0s 7ms/step - loss: 0.0421 - mae: 0.1585 - mse: 0.0421 - val_loss: 0.0972 - val_mae: 0.2469 - val_mse: 0.0972\n",
      "Epoch 385/500\n",
      "36/36 [==============================] - 0s 8ms/step - loss: 0.0412 - mae: 0.1568 - mse: 0.0412 - val_loss: 0.0972 - val_mae: 0.2463 - val_mse: 0.0972\n",
      "Epoch 386/500\n",
      "36/36 [==============================] - 0s 8ms/step - loss: 0.0406 - mae: 0.1548 - mse: 0.0406 - val_loss: 0.0968 - val_mae: 0.2425 - val_mse: 0.0968\n",
      "Epoch 387/500\n",
      "36/36 [==============================] - 0s 9ms/step - loss: 0.0423 - mae: 0.1585 - mse: 0.0423 - val_loss: 0.1006 - val_mae: 0.2524 - val_mse: 0.1006\n",
      "Epoch 388/500\n",
      "36/36 [==============================] - 0s 8ms/step - loss: 0.0421 - mae: 0.1577 - mse: 0.0421 - val_loss: 0.1059 - val_mae: 0.2595 - val_mse: 0.1059\n",
      "Epoch 389/500\n",
      "36/36 [==============================] - 0s 8ms/step - loss: 0.0425 - mae: 0.1585 - mse: 0.0425 - val_loss: 0.0976 - val_mae: 0.2474 - val_mse: 0.0976\n",
      "Epoch 390/500\n",
      "36/36 [==============================] - 0s 8ms/step - loss: 0.0409 - mae: 0.1564 - mse: 0.0409 - val_loss: 0.0980 - val_mae: 0.2448 - val_mse: 0.0980\n",
      "Epoch 391/500\n",
      "36/36 [==============================] - 0s 9ms/step - loss: 0.0412 - mae: 0.1561 - mse: 0.0412 - val_loss: 0.0968 - val_mae: 0.2468 - val_mse: 0.0968\n",
      "Epoch 392/500\n",
      "36/36 [==============================] - 0s 8ms/step - loss: 0.0427 - mae: 0.1597 - mse: 0.0427 - val_loss: 0.1010 - val_mae: 0.2528 - val_mse: 0.1010\n",
      "Epoch 393/500\n",
      "36/36 [==============================] - 0s 8ms/step - loss: 0.0413 - mae: 0.1567 - mse: 0.0413 - val_loss: 0.0962 - val_mae: 0.2414 - val_mse: 0.0962\n",
      "Epoch 394/500\n",
      "36/36 [==============================] - 0s 12ms/step - loss: 0.0411 - mae: 0.1560 - mse: 0.0411 - val_loss: 0.1028 - val_mae: 0.2558 - val_mse: 0.1028\n",
      "Epoch 395/500\n",
      "36/36 [==============================] - 0s 10ms/step - loss: 0.0409 - mae: 0.1558 - mse: 0.0409 - val_loss: 0.0957 - val_mae: 0.2435 - val_mse: 0.0957\n",
      "Epoch 396/500\n",
      "36/36 [==============================] - 0s 8ms/step - loss: 0.0412 - mae: 0.1562 - mse: 0.0412 - val_loss: 0.1063 - val_mae: 0.2607 - val_mse: 0.1063\n",
      "Epoch 397/500\n",
      "36/36 [==============================] - 0s 7ms/step - loss: 0.0404 - mae: 0.1552 - mse: 0.0404 - val_loss: 0.0967 - val_mae: 0.2461 - val_mse: 0.0967\n",
      "Epoch 398/500\n",
      "36/36 [==============================] - 0s 7ms/step - loss: 0.0406 - mae: 0.1553 - mse: 0.0406 - val_loss: 0.0980 - val_mae: 0.2474 - val_mse: 0.0980\n",
      "Epoch 399/500\n",
      "36/36 [==============================] - 0s 7ms/step - loss: 0.0415 - mae: 0.1574 - mse: 0.0415 - val_loss: 0.1042 - val_mae: 0.2572 - val_mse: 0.1042\n",
      "Epoch 400/500\n",
      "36/36 [==============================] - 0s 7ms/step - loss: 0.0407 - mae: 0.1562 - mse: 0.0407 - val_loss: 0.1062 - val_mae: 0.2605 - val_mse: 0.1062\n",
      "Epoch 401/500\n",
      "36/36 [==============================] - 0s 8ms/step - loss: 0.0434 - mae: 0.1598 - mse: 0.0434 - val_loss: 0.0999 - val_mae: 0.2432 - val_mse: 0.0999\n",
      "Epoch 402/500\n",
      "36/36 [==============================] - 0s 8ms/step - loss: 0.0410 - mae: 0.1563 - mse: 0.0410 - val_loss: 0.0968 - val_mae: 0.2433 - val_mse: 0.0968\n",
      "Epoch 403/500\n",
      "36/36 [==============================] - 0s 8ms/step - loss: 0.0410 - mae: 0.1569 - mse: 0.0410 - val_loss: 0.1038 - val_mae: 0.2564 - val_mse: 0.1038\n",
      "Epoch 404/500\n",
      "36/36 [==============================] - 0s 12ms/step - loss: 0.0410 - mae: 0.1567 - mse: 0.0410 - val_loss: 0.1004 - val_mae: 0.2523 - val_mse: 0.1004\n",
      "Epoch 405/500\n",
      "36/36 [==============================] - 0s 9ms/step - loss: 0.0408 - mae: 0.1561 - mse: 0.0408 - val_loss: 0.1069 - val_mae: 0.2611 - val_mse: 0.1069\n",
      "Epoch 406/500\n",
      "36/36 [==============================] - 0s 7ms/step - loss: 0.0408 - mae: 0.1561 - mse: 0.0408 - val_loss: 0.0969 - val_mae: 0.2465 - val_mse: 0.0969\n",
      "Epoch 407/500\n",
      "36/36 [==============================] - 0s 8ms/step - loss: 0.0397 - mae: 0.1540 - mse: 0.0397 - val_loss: 0.0961 - val_mae: 0.2437 - val_mse: 0.0961\n",
      "Epoch 408/500\n",
      "36/36 [==============================] - 0s 8ms/step - loss: 0.0407 - mae: 0.1562 - mse: 0.0407 - val_loss: 0.1094 - val_mae: 0.2649 - val_mse: 0.1094\n",
      "Epoch 409/500\n",
      "36/36 [==============================] - 0s 8ms/step - loss: 0.0406 - mae: 0.1543 - mse: 0.0406 - val_loss: 0.1086 - val_mae: 0.2631 - val_mse: 0.1086\n",
      "Epoch 410/500\n",
      "36/36 [==============================] - 0s 7ms/step - loss: 0.0415 - mae: 0.1574 - mse: 0.0415 - val_loss: 0.0964 - val_mae: 0.2432 - val_mse: 0.0964\n",
      "Epoch 411/500\n",
      "36/36 [==============================] - 0s 7ms/step - loss: 0.0410 - mae: 0.1559 - mse: 0.0410 - val_loss: 0.0986 - val_mae: 0.2491 - val_mse: 0.0986\n",
      "Epoch 412/500\n",
      "36/36 [==============================] - 0s 7ms/step - loss: 0.0423 - mae: 0.1571 - mse: 0.0423 - val_loss: 0.1045 - val_mae: 0.2577 - val_mse: 0.1045\n",
      "Epoch 413/500\n",
      "36/36 [==============================] - 0s 8ms/step - loss: 0.0416 - mae: 0.1556 - mse: 0.0416 - val_loss: 0.0971 - val_mae: 0.2445 - val_mse: 0.0971\n",
      "Epoch 414/500\n",
      "36/36 [==============================] - 0s 8ms/step - loss: 0.0407 - mae: 0.1555 - mse: 0.0407 - val_loss: 0.0998 - val_mae: 0.2515 - val_mse: 0.0998\n",
      "Epoch 415/500\n",
      "36/36 [==============================] - 0s 12ms/step - loss: 0.0412 - mae: 0.1563 - mse: 0.0412 - val_loss: 0.1019 - val_mae: 0.2547 - val_mse: 0.1019\n",
      "Epoch 416/500\n",
      "36/36 [==============================] - 0s 9ms/step - loss: 0.0426 - mae: 0.1593 - mse: 0.0426 - val_loss: 0.0975 - val_mae: 0.2480 - val_mse: 0.0975\n",
      "Epoch 417/500\n",
      "36/36 [==============================] - 0s 10ms/step - loss: 0.0405 - mae: 0.1545 - mse: 0.0405 - val_loss: 0.0980 - val_mae: 0.2487 - val_mse: 0.0980\n",
      "Epoch 418/500\n",
      "36/36 [==============================] - 0s 9ms/step - loss: 0.0402 - mae: 0.1550 - mse: 0.0402 - val_loss: 0.1046 - val_mae: 0.2581 - val_mse: 0.1046\n",
      "Epoch 419/500\n",
      "36/36 [==============================] - 0s 8ms/step - loss: 0.0398 - mae: 0.1539 - mse: 0.0398 - val_loss: 0.0985 - val_mae: 0.2499 - val_mse: 0.0985\n",
      "Epoch 420/500\n",
      "36/36 [==============================] - 0s 8ms/step - loss: 0.0424 - mae: 0.1570 - mse: 0.0424 - val_loss: 0.0984 - val_mae: 0.2434 - val_mse: 0.0984\n",
      "Epoch 421/500\n",
      "36/36 [==============================] - 0s 7ms/step - loss: 0.0414 - mae: 0.1566 - mse: 0.0414 - val_loss: 0.0980 - val_mae: 0.2488 - val_mse: 0.0980\n",
      "Epoch 422/500\n",
      "36/36 [==============================] - 0s 7ms/step - loss: 0.0398 - mae: 0.1540 - mse: 0.0398 - val_loss: 0.0980 - val_mae: 0.2479 - val_mse: 0.0980\n",
      "Epoch 423/500\n",
      "36/36 [==============================] - 0s 7ms/step - loss: 0.0411 - mae: 0.1559 - mse: 0.0411 - val_loss: 0.0977 - val_mae: 0.2474 - val_mse: 0.0977\n",
      "Epoch 424/500\n",
      "36/36 [==============================] - 0s 8ms/step - loss: 0.0413 - mae: 0.1568 - mse: 0.0413 - val_loss: 0.1006 - val_mae: 0.2516 - val_mse: 0.1006\n",
      "Epoch 425/500\n",
      "36/36 [==============================] - 0s 9ms/step - loss: 0.0425 - mae: 0.1578 - mse: 0.0425 - val_loss: 0.0981 - val_mae: 0.2487 - val_mse: 0.0981\n",
      "Epoch 426/500\n",
      "36/36 [==============================] - 0s 8ms/step - loss: 0.0407 - mae: 0.1545 - mse: 0.0407 - val_loss: 0.0981 - val_mae: 0.2427 - val_mse: 0.0981\n",
      "Epoch 427/500\n",
      "36/36 [==============================] - 0s 8ms/step - loss: 0.0408 - mae: 0.1549 - mse: 0.0408 - val_loss: 0.0993 - val_mae: 0.2505 - val_mse: 0.0993\n",
      "Epoch 428/500\n",
      "36/36 [==============================] - 0s 9ms/step - loss: 0.0412 - mae: 0.1557 - mse: 0.0412 - val_loss: 0.0967 - val_mae: 0.2452 - val_mse: 0.0967\n",
      "Epoch 429/500\n",
      "36/36 [==============================] - 0s 8ms/step - loss: 0.0401 - mae: 0.1546 - mse: 0.0401 - val_loss: 0.1050 - val_mae: 0.2582 - val_mse: 0.1050\n",
      "Epoch 430/500\n",
      "36/36 [==============================] - 0s 9ms/step - loss: 0.0407 - mae: 0.1550 - mse: 0.0407 - val_loss: 0.0972 - val_mae: 0.2436 - val_mse: 0.0972\n",
      "Epoch 431/500\n",
      "36/36 [==============================] - 0s 9ms/step - loss: 0.0404 - mae: 0.1540 - mse: 0.0404 - val_loss: 0.0967 - val_mae: 0.2448 - val_mse: 0.0967\n",
      "Epoch 432/500\n",
      "36/36 [==============================] - 0s 8ms/step - loss: 0.0398 - mae: 0.1539 - mse: 0.0398 - val_loss: 0.1081 - val_mae: 0.2633 - val_mse: 0.1081\n",
      "Epoch 433/500\n",
      "36/36 [==============================] - 0s 8ms/step - loss: 0.0400 - mae: 0.1535 - mse: 0.0400 - val_loss: 0.1013 - val_mae: 0.2534 - val_mse: 0.1013\n",
      "Epoch 434/500\n",
      "36/36 [==============================] - 0s 7ms/step - loss: 0.0411 - mae: 0.1554 - mse: 0.0411 - val_loss: 0.0968 - val_mae: 0.2453 - val_mse: 0.0968\n",
      "Epoch 435/500\n",
      "36/36 [==============================] - 0s 10ms/step - loss: 0.0404 - mae: 0.1547 - mse: 0.0404 - val_loss: 0.0969 - val_mae: 0.2468 - val_mse: 0.0969\n",
      "Epoch 436/500\n",
      "36/36 [==============================] - 0s 11ms/step - loss: 0.0410 - mae: 0.1547 - mse: 0.0410 - val_loss: 0.0987 - val_mae: 0.2429 - val_mse: 0.0987\n",
      "Epoch 437/500\n",
      "36/36 [==============================] - 0s 9ms/step - loss: 0.0399 - mae: 0.1533 - mse: 0.0399 - val_loss: 0.0968 - val_mae: 0.2421 - val_mse: 0.0968\n",
      "Epoch 438/500\n",
      "36/36 [==============================] - 0s 8ms/step - loss: 0.0406 - mae: 0.1564 - mse: 0.0406 - val_loss: 0.0976 - val_mae: 0.2448 - val_mse: 0.0976\n",
      "Epoch 439/500\n",
      "36/36 [==============================] - 0s 7ms/step - loss: 0.0403 - mae: 0.1545 - mse: 0.0403 - val_loss: 0.0959 - val_mae: 0.2429 - val_mse: 0.0959\n",
      "Epoch 440/500\n",
      "36/36 [==============================] - 0s 8ms/step - loss: 0.0401 - mae: 0.1541 - mse: 0.0401 - val_loss: 0.0958 - val_mae: 0.2438 - val_mse: 0.0958\n",
      "Epoch 441/500\n",
      "36/36 [==============================] - 0s 7ms/step - loss: 0.0401 - mae: 0.1541 - mse: 0.0401 - val_loss: 0.1002 - val_mae: 0.2510 - val_mse: 0.1002\n",
      "Epoch 442/500\n",
      "36/36 [==============================] - 0s 11ms/step - loss: 0.0406 - mae: 0.1553 - mse: 0.0406 - val_loss: 0.0988 - val_mae: 0.2499 - val_mse: 0.0988\n",
      "Epoch 443/500\n",
      "36/36 [==============================] - 0s 9ms/step - loss: 0.0403 - mae: 0.1542 - mse: 0.0403 - val_loss: 0.0973 - val_mae: 0.2436 - val_mse: 0.0973\n",
      "Epoch 444/500\n",
      "36/36 [==============================] - 0s 10ms/step - loss: 0.0416 - mae: 0.1560 - mse: 0.0416 - val_loss: 0.1139 - val_mae: 0.2700 - val_mse: 0.1139\n",
      "Epoch 445/500\n",
      "36/36 [==============================] - 0s 9ms/step - loss: 0.0407 - mae: 0.1552 - mse: 0.0407 - val_loss: 0.1023 - val_mae: 0.2543 - val_mse: 0.1023\n",
      "Epoch 446/500\n",
      "36/36 [==============================] - 0s 8ms/step - loss: 0.0404 - mae: 0.1550 - mse: 0.0404 - val_loss: 0.1015 - val_mae: 0.2532 - val_mse: 0.1015\n",
      "Epoch 447/500\n",
      "36/36 [==============================] - 0s 7ms/step - loss: 0.0402 - mae: 0.1545 - mse: 0.0402 - val_loss: 0.0985 - val_mae: 0.2494 - val_mse: 0.0985\n",
      "Epoch 448/500\n",
      "36/36 [==============================] - 0s 8ms/step - loss: 0.0406 - mae: 0.1564 - mse: 0.0406 - val_loss: 0.1113 - val_mae: 0.2670 - val_mse: 0.1113\n",
      "Epoch 449/500\n",
      "36/36 [==============================] - 0s 9ms/step - loss: 0.0401 - mae: 0.1545 - mse: 0.0401 - val_loss: 0.1006 - val_mae: 0.2525 - val_mse: 0.1006\n",
      "Epoch 450/500\n",
      "36/36 [==============================] - 0s 8ms/step - loss: 0.0394 - mae: 0.1534 - mse: 0.0394 - val_loss: 0.0970 - val_mae: 0.2445 - val_mse: 0.0970\n",
      "Epoch 451/500\n",
      "36/36 [==============================] - 0s 8ms/step - loss: 0.0418 - mae: 0.1580 - mse: 0.0418 - val_loss: 0.0991 - val_mae: 0.2491 - val_mse: 0.0991\n",
      "Epoch 452/500\n",
      "36/36 [==============================] - 0s 8ms/step - loss: 0.0428 - mae: 0.1571 - mse: 0.0428 - val_loss: 0.1126 - val_mae: 0.2673 - val_mse: 0.1126\n",
      "Epoch 453/500\n",
      "36/36 [==============================] - 0s 8ms/step - loss: 0.0402 - mae: 0.1535 - mse: 0.0402 - val_loss: 0.1036 - val_mae: 0.2562 - val_mse: 0.1036\n",
      "Epoch 454/500\n",
      "36/36 [==============================] - 0s 13ms/step - loss: 0.0406 - mae: 0.1535 - mse: 0.0406 - val_loss: 0.1046 - val_mae: 0.2580 - val_mse: 0.1046\n",
      "Epoch 455/500\n",
      "36/36 [==============================] - 0s 8ms/step - loss: 0.0398 - mae: 0.1532 - mse: 0.0398 - val_loss: 0.1102 - val_mae: 0.2652 - val_mse: 0.1102\n",
      "Epoch 456/500\n",
      "36/36 [==============================] - 0s 8ms/step - loss: 0.0405 - mae: 0.1553 - mse: 0.0405 - val_loss: 0.0984 - val_mae: 0.2438 - val_mse: 0.0984\n",
      "Epoch 457/500\n",
      "36/36 [==============================] - 0s 9ms/step - loss: 0.0400 - mae: 0.1535 - mse: 0.0400 - val_loss: 0.0984 - val_mae: 0.2488 - val_mse: 0.0984\n",
      "Epoch 458/500\n",
      "36/36 [==============================] - 0s 8ms/step - loss: 0.0408 - mae: 0.1548 - mse: 0.0408 - val_loss: 0.0978 - val_mae: 0.2470 - val_mse: 0.0978\n",
      "Epoch 459/500\n",
      "36/36 [==============================] - 0s 12ms/step - loss: 0.0399 - mae: 0.1533 - mse: 0.0399 - val_loss: 0.0964 - val_mae: 0.2459 - val_mse: 0.0964\n",
      "Epoch 460/500\n",
      "36/36 [==============================] - 0s 9ms/step - loss: 0.0401 - mae: 0.1548 - mse: 0.0401 - val_loss: 0.0973 - val_mae: 0.2436 - val_mse: 0.0973\n",
      "Epoch 461/500\n",
      "36/36 [==============================] - 0s 8ms/step - loss: 0.0399 - mae: 0.1543 - mse: 0.0399 - val_loss: 0.0974 - val_mae: 0.2481 - val_mse: 0.0974\n",
      "Epoch 462/500\n",
      "36/36 [==============================] - 0s 9ms/step - loss: 0.0407 - mae: 0.1541 - mse: 0.0407 - val_loss: 0.1009 - val_mae: 0.2451 - val_mse: 0.1009\n",
      "Epoch 463/500\n",
      "36/36 [==============================] - 0s 10ms/step - loss: 0.0408 - mae: 0.1557 - mse: 0.0408 - val_loss: 0.0959 - val_mae: 0.2429 - val_mse: 0.0959\n",
      "Epoch 464/500\n",
      "36/36 [==============================] - 0s 11ms/step - loss: 0.0403 - mae: 0.1553 - mse: 0.0403 - val_loss: 0.0996 - val_mae: 0.2514 - val_mse: 0.0996\n",
      "Epoch 465/500\n",
      "36/36 [==============================] - 0s 13ms/step - loss: 0.0430 - mae: 0.1604 - mse: 0.0430 - val_loss: 0.1028 - val_mae: 0.2539 - val_mse: 0.1028\n",
      "Epoch 466/500\n",
      "36/36 [==============================] - 0s 10ms/step - loss: 0.0405 - mae: 0.1544 - mse: 0.0405 - val_loss: 0.0976 - val_mae: 0.2481 - val_mse: 0.0976\n",
      "Epoch 467/500\n",
      "36/36 [==============================] - 0s 9ms/step - loss: 0.0401 - mae: 0.1542 - mse: 0.0401 - val_loss: 0.0959 - val_mae: 0.2437 - val_mse: 0.0959\n",
      "Epoch 468/500\n",
      "36/36 [==============================] - 0s 9ms/step - loss: 0.0411 - mae: 0.1555 - mse: 0.0411 - val_loss: 0.0987 - val_mae: 0.2508 - val_mse: 0.0987\n",
      "Epoch 469/500\n",
      "36/36 [==============================] - 0s 9ms/step - loss: 0.0394 - mae: 0.1533 - mse: 0.0394 - val_loss: 0.1053 - val_mae: 0.2592 - val_mse: 0.1053\n",
      "Epoch 470/500\n",
      "36/36 [==============================] - 0s 8ms/step - loss: 0.0397 - mae: 0.1531 - mse: 0.0397 - val_loss: 0.0975 - val_mae: 0.2455 - val_mse: 0.0975\n",
      "Epoch 471/500\n",
      "36/36 [==============================] - 0s 8ms/step - loss: 0.0392 - mae: 0.1520 - mse: 0.0392 - val_loss: 0.0993 - val_mae: 0.2496 - val_mse: 0.0993\n",
      "Epoch 472/500\n",
      "36/36 [==============================] - 0s 8ms/step - loss: 0.0404 - mae: 0.1556 - mse: 0.0404 - val_loss: 0.0980 - val_mae: 0.2490 - val_mse: 0.0980\n",
      "Epoch 473/500\n",
      "36/36 [==============================] - 0s 10ms/step - loss: 0.0397 - mae: 0.1535 - mse: 0.0397 - val_loss: 0.0991 - val_mae: 0.2509 - val_mse: 0.0991\n",
      "Epoch 474/500\n",
      "36/36 [==============================] - 0s 11ms/step - loss: 0.0396 - mae: 0.1534 - mse: 0.0396 - val_loss: 0.1008 - val_mae: 0.2527 - val_mse: 0.1008\n",
      "Epoch 475/500\n",
      "36/36 [==============================] - 0s 13ms/step - loss: 0.0398 - mae: 0.1537 - mse: 0.0398 - val_loss: 0.0977 - val_mae: 0.2487 - val_mse: 0.0977\n",
      "Epoch 476/500\n",
      "36/36 [==============================] - 0s 11ms/step - loss: 0.0389 - mae: 0.1511 - mse: 0.0389 - val_loss: 0.0982 - val_mae: 0.2492 - val_mse: 0.0982\n",
      "Epoch 477/500\n",
      "36/36 [==============================] - 0s 9ms/step - loss: 0.0397 - mae: 0.1542 - mse: 0.0397 - val_loss: 0.0964 - val_mae: 0.2422 - val_mse: 0.0964\n",
      "Epoch 478/500\n",
      "36/36 [==============================] - 0s 9ms/step - loss: 0.0397 - mae: 0.1530 - mse: 0.0397 - val_loss: 0.0985 - val_mae: 0.2497 - val_mse: 0.0985\n",
      "Epoch 479/500\n",
      "36/36 [==============================] - 0s 9ms/step - loss: 0.0392 - mae: 0.1523 - mse: 0.0392 - val_loss: 0.1002 - val_mae: 0.2523 - val_mse: 0.1002\n",
      "Epoch 480/500\n",
      "36/36 [==============================] - 0s 9ms/step - loss: 0.0397 - mae: 0.1534 - mse: 0.0397 - val_loss: 0.0980 - val_mae: 0.2481 - val_mse: 0.0980\n",
      "Epoch 481/500\n",
      "36/36 [==============================] - 0s 9ms/step - loss: 0.0394 - mae: 0.1527 - mse: 0.0394 - val_loss: 0.0966 - val_mae: 0.2464 - val_mse: 0.0966\n",
      "Epoch 482/500\n",
      "36/36 [==============================] - 0s 13ms/step - loss: 0.0403 - mae: 0.1547 - mse: 0.0403 - val_loss: 0.0962 - val_mae: 0.2433 - val_mse: 0.0962\n",
      "Epoch 483/500\n",
      "36/36 [==============================] - 0s 10ms/step - loss: 0.0397 - mae: 0.1522 - mse: 0.0397 - val_loss: 0.0959 - val_mae: 0.2444 - val_mse: 0.0959\n",
      "Epoch 484/500\n",
      "36/36 [==============================] - 0s 11ms/step - loss: 0.0405 - mae: 0.1544 - mse: 0.0405 - val_loss: 0.1011 - val_mae: 0.2519 - val_mse: 0.1011\n",
      "Epoch 485/500\n",
      "36/36 [==============================] - 0s 9ms/step - loss: 0.0396 - mae: 0.1529 - mse: 0.0396 - val_loss: 0.0964 - val_mae: 0.2430 - val_mse: 0.0964\n",
      "Epoch 486/500\n",
      "36/36 [==============================] - 0s 10ms/step - loss: 0.0411 - mae: 0.1552 - mse: 0.0411 - val_loss: 0.1110 - val_mae: 0.2648 - val_mse: 0.1110\n",
      "Epoch 487/500\n",
      "36/36 [==============================] - 0s 14ms/step - loss: 0.0408 - mae: 0.1547 - mse: 0.0408 - val_loss: 0.0963 - val_mae: 0.2454 - val_mse: 0.0963\n",
      "Epoch 488/500\n",
      "36/36 [==============================] - 0s 11ms/step - loss: 0.0400 - mae: 0.1530 - mse: 0.0400 - val_loss: 0.1008 - val_mae: 0.2448 - val_mse: 0.1008\n",
      "Epoch 489/500\n",
      "36/36 [==============================] - 0s 9ms/step - loss: 0.0406 - mae: 0.1549 - mse: 0.0406 - val_loss: 0.1181 - val_mae: 0.2741 - val_mse: 0.1181\n",
      "Epoch 490/500\n",
      "36/36 [==============================] - 0s 9ms/step - loss: 0.0402 - mae: 0.1544 - mse: 0.0402 - val_loss: 0.1061 - val_mae: 0.2602 - val_mse: 0.1061\n",
      "Epoch 491/500\n",
      "36/36 [==============================] - 0s 10ms/step - loss: 0.0417 - mae: 0.1564 - mse: 0.0417 - val_loss: 0.0991 - val_mae: 0.2499 - val_mse: 0.0991\n",
      "Epoch 492/500\n",
      "36/36 [==============================] - 0s 10ms/step - loss: 0.0395 - mae: 0.1526 - mse: 0.0395 - val_loss: 0.0994 - val_mae: 0.2477 - val_mse: 0.0994\n",
      "Epoch 493/500\n",
      "36/36 [==============================] - 0s 12ms/step - loss: 0.0400 - mae: 0.1544 - mse: 0.0400 - val_loss: 0.1046 - val_mae: 0.2577 - val_mse: 0.1046\n",
      "Epoch 494/500\n",
      "36/36 [==============================] - 0s 11ms/step - loss: 0.0400 - mae: 0.1534 - mse: 0.0400 - val_loss: 0.0966 - val_mae: 0.2424 - val_mse: 0.0966\n",
      "Epoch 495/500\n",
      "36/36 [==============================] - 0s 10ms/step - loss: 0.0402 - mae: 0.1546 - mse: 0.0402 - val_loss: 0.0985 - val_mae: 0.2492 - val_mse: 0.0985\n",
      "Epoch 496/500\n",
      "36/36 [==============================] - 0s 13ms/step - loss: 0.0397 - mae: 0.1528 - mse: 0.0397 - val_loss: 0.0969 - val_mae: 0.2475 - val_mse: 0.0969\n",
      "Epoch 497/500\n",
      "36/36 [==============================] - 0s 11ms/step - loss: 0.0407 - mae: 0.1551 - mse: 0.0407 - val_loss: 0.1198 - val_mae: 0.2768 - val_mse: 0.1198\n",
      "Epoch 498/500\n",
      "36/36 [==============================] - 0s 11ms/step - loss: 0.0410 - mae: 0.1559 - mse: 0.0410 - val_loss: 0.0975 - val_mae: 0.2468 - val_mse: 0.0975\n",
      "Epoch 499/500\n",
      "36/36 [==============================] - 0s 12ms/step - loss: 0.0388 - mae: 0.1512 - mse: 0.0388 - val_loss: 0.1018 - val_mae: 0.2540 - val_mse: 0.1018\n",
      "Epoch 500/500\n",
      "36/36 [==============================] - 0s 10ms/step - loss: 0.0394 - mae: 0.1519 - mse: 0.0394 - val_loss: 0.0978 - val_mae: 0.2483 - val_mse: 0.0978\n",
      "Best epoch: 273\n"
     ]
    },
    {
     "data": {
      "application/javascript": "\n            setTimeout(function() {\n                var nbb_cell_id = 225;\n                var nbb_unformatted_code = \"# Build the model with the optimal hyperparameters and train it on the data for 50 epochs\\n\\n\\nmodel = tuner.hypermodel.build(best_hps)\\nhistory = model.fit(\\n    train_dataset,\\n    train_labels,\\n    epochs=EPOCHS,\\n    validation_split=0.2,\\n    verbose=1,\\n    callbacks=([model_checkpoint]),\\n)\\n\\n# Select the best epoch,\\nval_mse_per_epoch = history.history[\\\"val_mse\\\"]\\nbest_epoch = val_mse_per_epoch.index(min(val_mse_per_epoch)) + 1\\n\\nprint(\\\"Best epoch: %d\\\" % (best_epoch,))\";\n                var nbb_formatted_code = \"# Build the model with the optimal hyperparameters and train it on the data for 50 epochs\\n\\n\\nmodel = tuner.hypermodel.build(best_hps)\\nhistory = model.fit(\\n    train_dataset,\\n    train_labels,\\n    epochs=EPOCHS,\\n    validation_split=0.2,\\n    verbose=1,\\n    callbacks=([model_checkpoint]),\\n)\\n\\n# Select the best epoch,\\nval_mse_per_epoch = history.history[\\\"val_mse\\\"]\\nbest_epoch = val_mse_per_epoch.index(min(val_mse_per_epoch)) + 1\\n\\nprint(\\\"Best epoch: %d\\\" % (best_epoch,))\";\n                var nbb_cells = Jupyter.notebook.get_cells();\n                for (var i = 0; i < nbb_cells.length; ++i) {\n                    if (nbb_cells[i].input_prompt_number == nbb_cell_id) {\n                        if (nbb_cells[i].get_text() == nbb_unformatted_code) {\n                             nbb_cells[i].set_text(nbb_formatted_code);\n                        }\n                        break;\n                    }\n                }\n            }, 500);\n            ",
      "text/plain": [
       "<IPython.core.display.Javascript object>"
      ]
     },
     "metadata": {},
     "output_type": "display_data"
    }
   ],
   "source": [
    "# Build the model with the optimal hyperparameters and train it on the data for 50 epochs\n",
    "\n",
    "\n",
    "model = tuner.hypermodel.build(best_hps)\n",
    "history = model.fit(\n",
    "    train_dataset,\n",
    "    train_labels,\n",
    "    epochs=EPOCHS,\n",
    "    validation_split=0.2,\n",
    "    verbose=1,\n",
    "    callbacks=([model_checkpoint]),\n",
    ")\n",
    "\n",
    "# Select the best epoch,\n",
    "val_mse_per_epoch = history.history[\"val_mse\"]\n",
    "best_epoch = val_mse_per_epoch.index(min(val_mse_per_epoch)) + 1\n",
    "\n",
    "print(\"Best epoch: %d\" % (best_epoch,))"
   ]
  },
  {
   "cell_type": "markdown",
   "metadata": {},
   "source": [
    "# Treinando modelo"
   ]
  },
  {
   "cell_type": "code",
   "execution_count": 226,
   "metadata": {},
   "outputs": [
    {
     "data": {
      "application/javascript": "\n            setTimeout(function() {\n                var nbb_cell_id = 226;\n                var nbb_unformatted_code = \"# hypermodel = tuner.hypermodel.build(best_hps)\\n# history = hypermodel.fit(train_dataset, train_labels, epochs=best_epoch, validation_split=0.2, verbose=1)\\n\\n# # ja pega o modelo na melhor epoca\";\n                var nbb_formatted_code = \"# hypermodel = tuner.hypermodel.build(best_hps)\\n# history = hypermodel.fit(train_dataset, train_labels, epochs=best_epoch, validation_split=0.2, verbose=1)\\n\\n# # ja pega o modelo na melhor epoca\";\n                var nbb_cells = Jupyter.notebook.get_cells();\n                for (var i = 0; i < nbb_cells.length; ++i) {\n                    if (nbb_cells[i].input_prompt_number == nbb_cell_id) {\n                        if (nbb_cells[i].get_text() == nbb_unformatted_code) {\n                             nbb_cells[i].set_text(nbb_formatted_code);\n                        }\n                        break;\n                    }\n                }\n            }, 500);\n            ",
      "text/plain": [
       "<IPython.core.display.Javascript object>"
      ]
     },
     "metadata": {},
     "output_type": "display_data"
    }
   ],
   "source": [
    "# hypermodel = tuner.hypermodel.build(best_hps)\n",
    "# history = hypermodel.fit(train_dataset, train_labels, epochs=best_epoch, validation_split=0.2, verbose=1)\n",
    "\n",
    "# # ja pega o modelo na melhor epoca"
   ]
  },
  {
   "cell_type": "code",
   "execution_count": 227,
   "metadata": {},
   "outputs": [
    {
     "name": "stdout",
     "output_type": "stream",
     "text": [
      "15/15 [==============================] - 0s 5ms/step - loss: 2.1038 - mae: 1.1779 - mse: 2.1038\n",
      "[test loss, test accuracy]: [2.103830099105835, 1.1779426336288452, 2.103830099105835]\n"
     ]
    },
    {
     "data": {
      "application/javascript": "\n            setTimeout(function() {\n                var nbb_cell_id = 227;\n                var nbb_unformatted_code = \"eval_result = hypermodel.evaluate(test_dataset, test_labels)\\nprint(\\\"[test loss, test accuracy]:\\\", eval_result)\";\n                var nbb_formatted_code = \"eval_result = hypermodel.evaluate(test_dataset, test_labels)\\nprint(\\\"[test loss, test accuracy]:\\\", eval_result)\";\n                var nbb_cells = Jupyter.notebook.get_cells();\n                for (var i = 0; i < nbb_cells.length; ++i) {\n                    if (nbb_cells[i].input_prompt_number == nbb_cell_id) {\n                        if (nbb_cells[i].get_text() == nbb_unformatted_code) {\n                             nbb_cells[i].set_text(nbb_formatted_code);\n                        }\n                        break;\n                    }\n                }\n            }, 500);\n            ",
      "text/plain": [
       "<IPython.core.display.Javascript object>"
      ]
     },
     "metadata": {},
     "output_type": "display_data"
    }
   ],
   "source": [
    "eval_result = hypermodel.evaluate(test_dataset, test_labels)\n",
    "print(\"[test loss, test accuracy]:\", eval_result)"
   ]
  },
  {
   "cell_type": "markdown",
   "metadata": {},
   "source": [
    "# Avaliando o modelo"
   ]
  },
  {
   "cell_type": "code",
   "execution_count": 228,
   "metadata": {},
   "outputs": [
    {
     "data": {
      "application/javascript": "\n            setTimeout(function() {\n                var nbb_cell_id = 228;\n                var nbb_unformatted_code = \"# print(f'train_dataset: {train_dataset.columns()} \\\\n')\\n# print(f'valid_dataset: {valid_dataset.columns()} \\\\n')\\n# print(f'test_dataset: {test_dataset.columns()} \\\\n')\";\n                var nbb_formatted_code = \"# print(f'train_dataset: {train_dataset.columns()} \\\\n')\\n# print(f'valid_dataset: {valid_dataset.columns()} \\\\n')\\n# print(f'test_dataset: {test_dataset.columns()} \\\\n')\";\n                var nbb_cells = Jupyter.notebook.get_cells();\n                for (var i = 0; i < nbb_cells.length; ++i) {\n                    if (nbb_cells[i].input_prompt_number == nbb_cell_id) {\n                        if (nbb_cells[i].get_text() == nbb_unformatted_code) {\n                             nbb_cells[i].set_text(nbb_formatted_code);\n                        }\n                        break;\n                    }\n                }\n            }, 500);\n            ",
      "text/plain": [
       "<IPython.core.display.Javascript object>"
      ]
     },
     "metadata": {},
     "output_type": "display_data"
    }
   ],
   "source": [
    "# print(f'train_dataset: {train_dataset.columns()} \\n')\n",
    "# print(f'valid_dataset: {valid_dataset.columns()} \\n')\n",
    "# print(f'test_dataset: {test_dataset.columns()} \\n')"
   ]
  },
  {
   "cell_type": "code",
   "execution_count": 229,
   "metadata": {},
   "outputs": [
    {
     "data": {
      "text/html": [
       "<div>\n",
       "<style scoped>\n",
       "    .dataframe tbody tr th:only-of-type {\n",
       "        vertical-align: middle;\n",
       "    }\n",
       "\n",
       "    .dataframe tbody tr th {\n",
       "        vertical-align: top;\n",
       "    }\n",
       "\n",
       "    .dataframe thead th {\n",
       "        text-align: right;\n",
       "    }\n",
       "</style>\n",
       "<table border=\"1\" class=\"dataframe\">\n",
       "  <thead>\n",
       "    <tr style=\"text-align: right;\">\n",
       "      <th></th>\n",
       "      <th>loss</th>\n",
       "      <th>mae</th>\n",
       "      <th>mse</th>\n",
       "      <th>val_loss</th>\n",
       "      <th>val_mae</th>\n",
       "      <th>val_mse</th>\n",
       "      <th>epoch</th>\n",
       "    </tr>\n",
       "  </thead>\n",
       "  <tbody>\n",
       "    <tr>\n",
       "      <th>495</th>\n",
       "      <td>0.039683</td>\n",
       "      <td>0.152822</td>\n",
       "      <td>0.039683</td>\n",
       "      <td>0.096906</td>\n",
       "      <td>0.247499</td>\n",
       "      <td>0.096906</td>\n",
       "      <td>495</td>\n",
       "    </tr>\n",
       "    <tr>\n",
       "      <th>496</th>\n",
       "      <td>0.040744</td>\n",
       "      <td>0.155135</td>\n",
       "      <td>0.040744</td>\n",
       "      <td>0.119782</td>\n",
       "      <td>0.276782</td>\n",
       "      <td>0.119782</td>\n",
       "      <td>496</td>\n",
       "    </tr>\n",
       "    <tr>\n",
       "      <th>497</th>\n",
       "      <td>0.041000</td>\n",
       "      <td>0.155921</td>\n",
       "      <td>0.041000</td>\n",
       "      <td>0.097536</td>\n",
       "      <td>0.246767</td>\n",
       "      <td>0.097536</td>\n",
       "      <td>497</td>\n",
       "    </tr>\n",
       "    <tr>\n",
       "      <th>498</th>\n",
       "      <td>0.038812</td>\n",
       "      <td>0.151201</td>\n",
       "      <td>0.038812</td>\n",
       "      <td>0.101847</td>\n",
       "      <td>0.253993</td>\n",
       "      <td>0.101847</td>\n",
       "      <td>498</td>\n",
       "    </tr>\n",
       "    <tr>\n",
       "      <th>499</th>\n",
       "      <td>0.039357</td>\n",
       "      <td>0.151949</td>\n",
       "      <td>0.039357</td>\n",
       "      <td>0.097818</td>\n",
       "      <td>0.248297</td>\n",
       "      <td>0.097818</td>\n",
       "      <td>499</td>\n",
       "    </tr>\n",
       "  </tbody>\n",
       "</table>\n",
       "</div>"
      ],
      "text/plain": [
       "         loss       mae       mse  val_loss   val_mae   val_mse  epoch\n",
       "495  0.039683  0.152822  0.039683  0.096906  0.247499  0.096906    495\n",
       "496  0.040744  0.155135  0.040744  0.119782  0.276782  0.119782    496\n",
       "497  0.041000  0.155921  0.041000  0.097536  0.246767  0.097536    497\n",
       "498  0.038812  0.151201  0.038812  0.101847  0.253993  0.101847    498\n",
       "499  0.039357  0.151949  0.039357  0.097818  0.248297  0.097818    499"
      ]
     },
     "execution_count": 229,
     "metadata": {},
     "output_type": "execute_result"
    },
    {
     "data": {
      "application/javascript": "\n            setTimeout(function() {\n                var nbb_cell_id = 229;\n                var nbb_unformatted_code = \"hist = pd.DataFrame(history.history)\\nhist[\\\"epoch\\\"] = history.epoch\\nhist.tail()\";\n                var nbb_formatted_code = \"hist = pd.DataFrame(history.history)\\nhist[\\\"epoch\\\"] = history.epoch\\nhist.tail()\";\n                var nbb_cells = Jupyter.notebook.get_cells();\n                for (var i = 0; i < nbb_cells.length; ++i) {\n                    if (nbb_cells[i].input_prompt_number == nbb_cell_id) {\n                        if (nbb_cells[i].get_text() == nbb_unformatted_code) {\n                             nbb_cells[i].set_text(nbb_formatted_code);\n                        }\n                        break;\n                    }\n                }\n            }, 500);\n            ",
      "text/plain": [
       "<IPython.core.display.Javascript object>"
      ]
     },
     "metadata": {},
     "output_type": "display_data"
    }
   ],
   "source": [
    "hist = pd.DataFrame(history.history)\n",
    "hist[\"epoch\"] = history.epoch\n",
    "hist.tail()"
   ]
  },
  {
   "cell_type": "code",
   "execution_count": 230,
   "metadata": {},
   "outputs": [
    {
     "name": "stdout",
     "output_type": "stream",
     "text": [
      "Min MSE: 0.03881179913878441\n",
      "Min Val_MSE: 0.09453364461660385\n"
     ]
    },
    {
     "data": {
      "application/javascript": "\n            setTimeout(function() {\n                var nbb_cell_id = 230;\n                var nbb_unformatted_code = \"print(f\\\"Min MSE: {hist.mse.min()}\\\")\\nprint(f\\\"Min Val_MSE: {hist.val_mse.min()}\\\")\";\n                var nbb_formatted_code = \"print(f\\\"Min MSE: {hist.mse.min()}\\\")\\nprint(f\\\"Min Val_MSE: {hist.val_mse.min()}\\\")\";\n                var nbb_cells = Jupyter.notebook.get_cells();\n                for (var i = 0; i < nbb_cells.length; ++i) {\n                    if (nbb_cells[i].input_prompt_number == nbb_cell_id) {\n                        if (nbb_cells[i].get_text() == nbb_unformatted_code) {\n                             nbb_cells[i].set_text(nbb_formatted_code);\n                        }\n                        break;\n                    }\n                }\n            }, 500);\n            ",
      "text/plain": [
       "<IPython.core.display.Javascript object>"
      ]
     },
     "metadata": {},
     "output_type": "display_data"
    }
   ],
   "source": [
    "print(f\"Min MSE: {hist.mse.min()}\")\n",
    "print(f\"Min Val_MSE: {hist.val_mse.min()}\")"
   ]
  },
  {
   "cell_type": "code",
   "execution_count": 231,
   "metadata": {},
   "outputs": [
    {
     "data": {
      "image/png": "[encoded data removed]",
      "text/plain": [
       "<Figure size 432x288 with 1 Axes>"
      ]
     },
     "metadata": {
      "needs_background": "light"
     },
     "output_type": "display_data"
    },
    {
     "data": {
      "image/png": "[encoded data removed]",
      "text/plain": [
       "<Figure size 432x288 with 1 Axes>"
      ]
     },
     "metadata": {
      "needs_background": "light"
     },
     "output_type": "display_data"
    },
    {
     "data": {
      "application/javascript": "\n            setTimeout(function() {\n                var nbb_cell_id = 231;\n                var nbb_unformatted_code = \"def plot_history(history):\\n    hist = pd.DataFrame(history.history)\\n    hist[\\\"epoch\\\"] = history.epoch\\n\\n    plt.figure()\\n    plt.xlabel(\\\"Epoch\\\")\\n    plt.ylabel(\\\"Mean Abs Error [ibova_0]\\\")\\n    plt.plot(hist[\\\"epoch\\\"], hist[\\\"mae\\\"], label=\\\"Train Error\\\")\\n    plt.plot(hist[\\\"epoch\\\"], hist[\\\"val_mae\\\"], label=\\\"Val Error\\\")\\n    plt.ylim([0, 5])\\n    plt.legend()\\n\\n    plt.figure()\\n    plt.xlabel(\\\"Epoch\\\")\\n    plt.ylabel(\\\"Mean Square Error [$ibova_0^2$]\\\")\\n    plt.plot(hist[\\\"epoch\\\"], hist[\\\"mse\\\"], label=\\\"Train Error\\\")\\n    plt.plot(hist[\\\"epoch\\\"], hist[\\\"val_mse\\\"], label=\\\"Val Error\\\")\\n    plt.ylim([0, 20])\\n    plt.legend()\\n    plt.show()\\n\\n\\nplot_history(history)\";\n                var nbb_formatted_code = \"def plot_history(history):\\n    hist = pd.DataFrame(history.history)\\n    hist[\\\"epoch\\\"] = history.epoch\\n\\n    plt.figure()\\n    plt.xlabel(\\\"Epoch\\\")\\n    plt.ylabel(\\\"Mean Abs Error [ibova_0]\\\")\\n    plt.plot(hist[\\\"epoch\\\"], hist[\\\"mae\\\"], label=\\\"Train Error\\\")\\n    plt.plot(hist[\\\"epoch\\\"], hist[\\\"val_mae\\\"], label=\\\"Val Error\\\")\\n    plt.ylim([0, 5])\\n    plt.legend()\\n\\n    plt.figure()\\n    plt.xlabel(\\\"Epoch\\\")\\n    plt.ylabel(\\\"Mean Square Error [$ibova_0^2$]\\\")\\n    plt.plot(hist[\\\"epoch\\\"], hist[\\\"mse\\\"], label=\\\"Train Error\\\")\\n    plt.plot(hist[\\\"epoch\\\"], hist[\\\"val_mse\\\"], label=\\\"Val Error\\\")\\n    plt.ylim([0, 20])\\n    plt.legend()\\n    plt.show()\\n\\n\\nplot_history(history)\";\n                var nbb_cells = Jupyter.notebook.get_cells();\n                for (var i = 0; i < nbb_cells.length; ++i) {\n                    if (nbb_cells[i].input_prompt_number == nbb_cell_id) {\n                        if (nbb_cells[i].get_text() == nbb_unformatted_code) {\n                             nbb_cells[i].set_text(nbb_formatted_code);\n                        }\n                        break;\n                    }\n                }\n            }, 500);\n            ",
      "text/plain": [
       "<IPython.core.display.Javascript object>"
      ]
     },
     "metadata": {},
     "output_type": "display_data"
    }
   ],
   "source": [
    "def plot_history(history):\n",
    "    hist = pd.DataFrame(history.history)\n",
    "    hist[\"epoch\"] = history.epoch\n",
    "\n",
    "    plt.figure()\n",
    "    plt.xlabel(\"Epoch\")\n",
    "    plt.ylabel(\"Mean Abs Error [ibova_0]\")\n",
    "    plt.plot(hist[\"epoch\"], hist[\"mae\"], label=\"Train Error\")\n",
    "    plt.plot(hist[\"epoch\"], hist[\"val_mae\"], label=\"Val Error\")\n",
    "    plt.ylim([0, 5])\n",
    "    plt.legend()\n",
    "\n",
    "    plt.figure()\n",
    "    plt.xlabel(\"Epoch\")\n",
    "    plt.ylabel(\"Mean Square Error [$ibova_0^2$]\")\n",
    "    plt.plot(hist[\"epoch\"], hist[\"mse\"], label=\"Train Error\")\n",
    "    plt.plot(hist[\"epoch\"], hist[\"val_mse\"], label=\"Val Error\")\n",
    "    plt.ylim([0, 20])\n",
    "    plt.legend()\n",
    "    plt.show()\n",
    "\n",
    "\n",
    "plot_history(history)"
   ]
  },
  {
   "cell_type": "markdown",
   "metadata": {},
   "source": [
    "# Realizando as previsões"
   ]
  },
  {
   "cell_type": "code",
   "execution_count": 232,
   "metadata": {},
   "outputs": [
    {
     "name": "stdout",
     "output_type": "stream",
     "text": [
      "15/15 [==============================] - 0s 5ms/step\n"
     ]
    },
    {
     "data": {
      "application/javascript": "\n            setTimeout(function() {\n                var nbb_cell_id = 232;\n                var nbb_unformatted_code = \"test_predictions = model.predict(test_dataset).flatten()\";\n                var nbb_formatted_code = \"test_predictions = model.predict(test_dataset).flatten()\";\n                var nbb_cells = Jupyter.notebook.get_cells();\n                for (var i = 0; i < nbb_cells.length; ++i) {\n                    if (nbb_cells[i].input_prompt_number == nbb_cell_id) {\n                        if (nbb_cells[i].get_text() == nbb_unformatted_code) {\n                             nbb_cells[i].set_text(nbb_formatted_code);\n                        }\n                        break;\n                    }\n                }\n            }, 500);\n            ",
      "text/plain": [
       "<IPython.core.display.Javascript object>"
      ]
     },
     "metadata": {},
     "output_type": "display_data"
    }
   ],
   "source": [
    "test_predictions = model.predict(test_dataset).flatten()"
   ]
  },
  {
   "cell_type": "markdown",
   "metadata": {},
   "source": [
    "# Avaliando as previsões:"
   ]
  },
  {
   "cell_type": "code",
   "execution_count": 233,
   "metadata": {},
   "outputs": [
    {
     "data": {
      "application/javascript": "\n            setTimeout(function() {\n                var nbb_cell_id = 233;\n                var nbb_unformatted_code = \"def show_test_labels():\\n    # Imprimindo valores reais\\n    plt.plot(test_labels, color=\\\"r\\\", label=\\\"ibova_REAL\\\")\\n    plt.xlabel(\\\"Dates\\\")\\n    plt.ylabel(\\\"Variation ROC\\\")\\n    plt.title(\\\"ibova_REAL\\\")\\n    plt.legend()\\n\\n\\ndef show_model_predictions():\\n    # Imprimindo previsoes\\n    plt.plot(test_predictions, color=\\\"g\\\", label=\\\"predictions_MODEL\\\")\\n    plt.xlabel(\\\"Dates\\\")\\n    plt.ylabel(\\\"Variation ROC\\\")\\n    plt.title(\\\"predictions_MODEL\\\")\\n    plt.legend()\\n\\n\\ndef show_compare_graph():\\n    # Predictt X Real values\\n    plt.plot(test_labels, color=\\\"r\\\", label=\\\"ibova_REAL\\\")\\n    plt.plot(test_predictions, color=\\\"g\\\", label=\\\"predictions_MODEL\\\")\\n    plt.xlabel(\\\"Dates\\\")\\n    plt.ylabel(\\\"Variation ROC\\\")\\n    plt.title(\\\"Predict X Real values\\\")\\n    plt.legend()\\n    plt.show()\\n\\n\\ndef show_true_predict_values():\\n    plt.figure(figsize=(24, 4))\\n    plt.scatter(test_labels, test_predictions)\\n    plt.xlabel(\\\"True Values [ibova_0]\\\")\\n    plt.ylabel(\\\"Predictions [ibova_0]\\\")\\n    plt.axis(\\\"equal\\\")\\n    plt.axis(\\\"square\\\")\\n    plt.xlim([0, plt.xlim()[1]])\\n    plt.ylim([0, plt.ylim()[1]])\\n    _ = plt.plot([-100, 100], [-100, 100])\";\n                var nbb_formatted_code = \"def show_test_labels():\\n    # Imprimindo valores reais\\n    plt.plot(test_labels, color=\\\"r\\\", label=\\\"ibova_REAL\\\")\\n    plt.xlabel(\\\"Dates\\\")\\n    plt.ylabel(\\\"Variation ROC\\\")\\n    plt.title(\\\"ibova_REAL\\\")\\n    plt.legend()\\n\\n\\ndef show_model_predictions():\\n    # Imprimindo previsoes\\n    plt.plot(test_predictions, color=\\\"g\\\", label=\\\"predictions_MODEL\\\")\\n    plt.xlabel(\\\"Dates\\\")\\n    plt.ylabel(\\\"Variation ROC\\\")\\n    plt.title(\\\"predictions_MODEL\\\")\\n    plt.legend()\\n\\n\\ndef show_compare_graph():\\n    # Predictt X Real values\\n    plt.plot(test_labels, color=\\\"r\\\", label=\\\"ibova_REAL\\\")\\n    plt.plot(test_predictions, color=\\\"g\\\", label=\\\"predictions_MODEL\\\")\\n    plt.xlabel(\\\"Dates\\\")\\n    plt.ylabel(\\\"Variation ROC\\\")\\n    plt.title(\\\"Predict X Real values\\\")\\n    plt.legend()\\n    plt.show()\\n\\n\\ndef show_true_predict_values():\\n    plt.figure(figsize=(24, 4))\\n    plt.scatter(test_labels, test_predictions)\\n    plt.xlabel(\\\"True Values [ibova_0]\\\")\\n    plt.ylabel(\\\"Predictions [ibova_0]\\\")\\n    plt.axis(\\\"equal\\\")\\n    plt.axis(\\\"square\\\")\\n    plt.xlim([0, plt.xlim()[1]])\\n    plt.ylim([0, plt.ylim()[1]])\\n    _ = plt.plot([-100, 100], [-100, 100])\";\n                var nbb_cells = Jupyter.notebook.get_cells();\n                for (var i = 0; i < nbb_cells.length; ++i) {\n                    if (nbb_cells[i].input_prompt_number == nbb_cell_id) {\n                        if (nbb_cells[i].get_text() == nbb_unformatted_code) {\n                             nbb_cells[i].set_text(nbb_formatted_code);\n                        }\n                        break;\n                    }\n                }\n            }, 500);\n            ",
      "text/plain": [
       "<IPython.core.display.Javascript object>"
      ]
     },
     "metadata": {},
     "output_type": "display_data"
    }
   ],
   "source": [
    "def show_test_labels():\n",
    "    # Imprimindo valores reais\n",
    "    plt.plot(test_labels, color=\"r\", label=\"ibova_REAL\")\n",
    "    plt.xlabel(\"Dates\")\n",
    "    plt.ylabel(\"Variation ROC\")\n",
    "    plt.title(\"ibova_REAL\")\n",
    "    plt.legend()\n",
    "\n",
    "\n",
    "def show_model_predictions():\n",
    "    # Imprimindo previsoes\n",
    "    plt.plot(test_predictions, color=\"g\", label=\"predictions_MODEL\")\n",
    "    plt.xlabel(\"Dates\")\n",
    "    plt.ylabel(\"Variation ROC\")\n",
    "    plt.title(\"predictions_MODEL\")\n",
    "    plt.legend()\n",
    "\n",
    "\n",
    "def show_compare_graph():\n",
    "    # Predictt X Real values\n",
    "    plt.plot(test_labels, color=\"r\", label=\"ibova_REAL\")\n",
    "    plt.plot(test_predictions, color=\"g\", label=\"predictions_MODEL\")\n",
    "    plt.xlabel(\"Dates\")\n",
    "    plt.ylabel(\"Variation ROC\")\n",
    "    plt.title(\"Predict X Real values\")\n",
    "    plt.legend()\n",
    "    plt.show()\n",
    "\n",
    "\n",
    "def show_true_predict_values():\n",
    "    plt.figure(figsize=(24, 4))\n",
    "    plt.scatter(test_labels, test_predictions)\n",
    "    plt.xlabel(\"True Values [ibova_0]\")\n",
    "    plt.ylabel(\"Predictions [ibova_0]\")\n",
    "    plt.axis(\"equal\")\n",
    "    plt.axis(\"square\")\n",
    "    plt.xlim([0, plt.xlim()[1]])\n",
    "    plt.ylim([0, plt.ylim()[1]])\n",
    "    _ = plt.plot([-100, 100], [-100, 100])"
   ]
  },
  {
   "cell_type": "code",
   "execution_count": 234,
   "metadata": {},
   "outputs": [
    {
     "data": {
      "image/png": "[encoded data removed]",
      "text/plain": [
       "<Figure size 432x288 with 1 Axes>"
      ]
     },
     "metadata": {
      "needs_background": "light"
     },
     "output_type": "display_data"
    },
    {
     "data": {
      "application/javascript": "\n            setTimeout(function() {\n                var nbb_cell_id = 234;\n                var nbb_unformatted_code = \"show_compare_graph()\";\n                var nbb_formatted_code = \"show_compare_graph()\";\n                var nbb_cells = Jupyter.notebook.get_cells();\n                for (var i = 0; i < nbb_cells.length; ++i) {\n                    if (nbb_cells[i].input_prompt_number == nbb_cell_id) {\n                        if (nbb_cells[i].get_text() == nbb_unformatted_code) {\n                             nbb_cells[i].set_text(nbb_formatted_code);\n                        }\n                        break;\n                    }\n                }\n            }, 500);\n            ",
      "text/plain": [
       "<IPython.core.display.Javascript object>"
      ]
     },
     "metadata": {},
     "output_type": "display_data"
    }
   ],
   "source": [
    "show_compare_graph()"
   ]
  },
  {
   "cell_type": "code",
   "execution_count": 235,
   "metadata": {},
   "outputs": [
    {
     "data": {
      "image/png": "[encoded data removed]",
      "text/plain": [
       "<Figure size 432x288 with 1 Axes>"
      ]
     },
     "metadata": {
      "needs_background": "light"
     },
     "output_type": "display_data"
    },
    {
     "data": {
      "application/javascript": "\n            setTimeout(function() {\n                var nbb_cell_id = 235;\n                var nbb_unformatted_code = \"show_model_predictions()\";\n                var nbb_formatted_code = \"show_model_predictions()\";\n                var nbb_cells = Jupyter.notebook.get_cells();\n                for (var i = 0; i < nbb_cells.length; ++i) {\n                    if (nbb_cells[i].input_prompt_number == nbb_cell_id) {\n                        if (nbb_cells[i].get_text() == nbb_unformatted_code) {\n                             nbb_cells[i].set_text(nbb_formatted_code);\n                        }\n                        break;\n                    }\n                }\n            }, 500);\n            ",
      "text/plain": [
       "<IPython.core.display.Javascript object>"
      ]
     },
     "metadata": {},
     "output_type": "display_data"
    }
   ],
   "source": [
    "show_model_predictions()"
   ]
  },
  {
   "cell_type": "code",
   "execution_count": 236,
   "metadata": {},
   "outputs": [
    {
     "data": {
      "application/javascript": "\n            setTimeout(function() {\n                var nbb_cell_id = 236;\n                var nbb_unformatted_code = \"model_name = f'mlp_unit_1({best_hps.get(\\\"unit_1\\\")})unit_2({best_hps.get(\\\"unit_2\\\")})unit_3({best_hps.get(\\\"unit_3\\\")})unit_4({best_hps.get(\\\"unit_4\\\")})_learning({best_hps.get(\\\"learning_rate\\\")})_activation({best_hps.get(\\\"activation\\\")})'\\nmodel_name\\nmodel.save(f\\\"models/mlp/{model_name}date_{save_time}.h5\\\")\";\n                var nbb_formatted_code = \"model_name = f'mlp_unit_1({best_hps.get(\\\"unit_1\\\")})unit_2({best_hps.get(\\\"unit_2\\\")})unit_3({best_hps.get(\\\"unit_3\\\")})unit_4({best_hps.get(\\\"unit_4\\\")})_learning({best_hps.get(\\\"learning_rate\\\")})_activation({best_hps.get(\\\"activation\\\")})'\\nmodel_name\\nmodel.save(f\\\"models/mlp/{model_name}date_{save_time}.h5\\\")\";\n                var nbb_cells = Jupyter.notebook.get_cells();\n                for (var i = 0; i < nbb_cells.length; ++i) {\n                    if (nbb_cells[i].input_prompt_number == nbb_cell_id) {\n                        if (nbb_cells[i].get_text() == nbb_unformatted_code) {\n                             nbb_cells[i].set_text(nbb_formatted_code);\n                        }\n                        break;\n                    }\n                }\n            }, 500);\n            ",
      "text/plain": [
       "<IPython.core.display.Javascript object>"
      ]
     },
     "metadata": {},
     "output_type": "display_data"
    }
   ],
   "source": [
    "model_name = f'mlp_unit_1({best_hps.get(\"unit_1\")})unit_2({best_hps.get(\"unit_2\")})unit_3({best_hps.get(\"unit_3\")})unit_4({best_hps.get(\"unit_4\")})_learning({best_hps.get(\"learning_rate\")})_activation({best_hps.get(\"activation\")})'\n",
    "model_name\n",
    "model.save(f\"models/mlp/{model_name}date_{save_time}.h5\")"
   ]
  },
  {
   "cell_type": "code",
   "execution_count": 237,
   "metadata": {},
   "outputs": [
    {
     "name": "stdout",
     "output_type": "stream",
     "text": [
      "Massa de predição: 0.042367227375507355\n"
     ]
    },
    {
     "ename": "NameError",
     "evalue": "name 'ibova_test' is not defined",
     "output_type": "error",
     "traceback": [
      "\u001b[1;31m---------------------------------------------------------------------------\u001b[0m",
      "\u001b[1;31mNameError\u001b[0m                                 Traceback (most recent call last)",
      "\u001b[1;32mc:\\Users\\arthu\\Documents\\GitHub\\TCC_Stock_Predictions\\Model\\Model_MLP.ipynb Cell 39\u001b[0m in \u001b[0;36m<cell line: 4>\u001b[1;34m()\u001b[0m\n\u001b[0;32m      <a href='vscode-notebook-cell:/c%3A/Users/arthu/Documents/GitHub/TCC_Stock_Predictions/Model/Model_MLP.ipynb#X52sZmlsZQ%3D%3D?line=0'>1</a>\u001b[0m \u001b[39m# Analisando Medias:\u001b[39;00m\n\u001b[0;32m      <a href='vscode-notebook-cell:/c%3A/Users/arthu/Documents/GitHub/TCC_Stock_Predictions/Model/Model_MLP.ipynb#X52sZmlsZQ%3D%3D?line=2'>3</a>\u001b[0m \u001b[39mprint\u001b[39m(\u001b[39mf\u001b[39m\u001b[39m\"\u001b[39m\u001b[39mMassa de predição: \u001b[39m\u001b[39m{\u001b[39;00mtest_predictions\u001b[39m.\u001b[39mmean()\u001b[39m}\u001b[39;00m\u001b[39m\"\u001b[39m)\n\u001b[1;32m----> <a href='vscode-notebook-cell:/c%3A/Users/arthu/Documents/GitHub/TCC_Stock_Predictions/Model/Model_MLP.ipynb#X52sZmlsZQ%3D%3D?line=3'>4</a>\u001b[0m \u001b[39mprint\u001b[39m(\u001b[39mf\u001b[39m\u001b[39m\"\u001b[39m\u001b[39mMassa inicial: \u001b[39m\u001b[39m{\u001b[39;00mibova_test\u001b[39m.\u001b[39mmean()\u001b[39m}\u001b[39;00m\u001b[39m\"\u001b[39m)\n\u001b[0;32m      <a href='vscode-notebook-cell:/c%3A/Users/arthu/Documents/GitHub/TCC_Stock_Predictions/Model/Model_MLP.ipynb#X52sZmlsZQ%3D%3D?line=4'>5</a>\u001b[0m \u001b[39mprint\u001b[39m(\u001b[39mf\u001b[39m\u001b[39m\"\u001b[39m\u001b[39mDiferenças das médias: \u001b[39m\u001b[39m{\u001b[39;00mibova_test\u001b[39m.\u001b[39mmean() \u001b[39m-\u001b[39m test_predictions\u001b[39m.\u001b[39mmean()\u001b[39m}\u001b[39;00m\u001b[39m\"\u001b[39m)\n",
      "\u001b[1;31mNameError\u001b[0m: name 'ibova_test' is not defined"
     ]
    },
    {
     "data": {
      "application/javascript": "\n            setTimeout(function() {\n                var nbb_cell_id = 237;\n                var nbb_unformatted_code = \"# Analisando Medias:\\n\\nprint(f\\\"Massa de predi\\u00e7\\u00e3o: {test_predictions.mean()}\\\")\\nprint(f\\\"Massa inicial: {ibova_test.mean()}\\\")\\nprint(f\\\"Diferen\\u00e7as das m\\u00e9dias: {ibova_test.mean() - test_predictions.mean()}\\\")\\n\\n# Add o RM_MSE medio\";\n                var nbb_formatted_code = \"# Analisando Medias:\\n\\nprint(f\\\"Massa de predi\\u00e7\\u00e3o: {test_predictions.mean()}\\\")\\nprint(f\\\"Massa inicial: {ibova_test.mean()}\\\")\\nprint(f\\\"Diferen\\u00e7as das m\\u00e9dias: {ibova_test.mean() - test_predictions.mean()}\\\")\\n\\n# Add o RM_MSE medio\";\n                var nbb_cells = Jupyter.notebook.get_cells();\n                for (var i = 0; i < nbb_cells.length; ++i) {\n                    if (nbb_cells[i].input_prompt_number == nbb_cell_id) {\n                        if (nbb_cells[i].get_text() == nbb_unformatted_code) {\n                             nbb_cells[i].set_text(nbb_formatted_code);\n                        }\n                        break;\n                    }\n                }\n            }, 500);\n            ",
      "text/plain": [
       "<IPython.core.display.Javascript object>"
      ]
     },
     "metadata": {},
     "output_type": "display_data"
    }
   ],
   "source": [
    "# Analisando Medias:\n",
    "\n",
    "print(f\"Massa de predição: {test_predictions.mean()}\")\n",
    "print(f\"Massa inicial: {ibova_test.mean()}\")\n",
    "print(f\"Diferenças das médias: {ibova_test.mean() - test_predictions.mean()}\")\n",
    "\n",
    "# Add o RM_MSE medio"
   ]
  },
  {
   "cell_type": "code",
   "execution_count": null,
   "metadata": {},
   "outputs": [
    {
     "data": {
      "text/plain": [
       "'22_08_30_22h55m31'"
      ]
     },
     "execution_count": 124,
     "metadata": {},
     "output_type": "execute_result"
    },
    {
     "data": {
      "application/javascript": "\n            setTimeout(function() {\n                var nbb_cell_id = 124;\n                var nbb_unformatted_code = \"save_time\";\n                var nbb_formatted_code = \"save_time\";\n                var nbb_cells = Jupyter.notebook.get_cells();\n                for (var i = 0; i < nbb_cells.length; ++i) {\n                    if (nbb_cells[i].input_prompt_number == nbb_cell_id) {\n                        if (nbb_cells[i].get_text() == nbb_unformatted_code) {\n                             nbb_cells[i].set_text(nbb_formatted_code);\n                        }\n                        break;\n                    }\n                }\n            }, 500);\n            ",
      "text/plain": [
       "<IPython.core.display.Javascript object>"
      ]
     },
     "metadata": {},
     "output_type": "display_data"
    }
   ],
   "source": [
    "save_time"
   ]
  }
 ],
 "metadata": {
  "kernelspec": {
   "display_name": "Python 3.8.12 ('pystock')",
   "language": "python",
   "name": "python3"
  },
  "language_info": {
   "codemirror_mode": {
    "name": "ipython",
    "version": 3
   },
   "file_extension": ".py",
   "mimetype": "text/x-python",
   "name": "python",
   "nbconvert_exporter": "python",
   "pygments_lexer": "ipython3",
   "version": "3.8.13"
  },
  "orig_nbformat": 4,
  "vscode": {
   "interpreter": {
    "hash": "bc0c8eb905859abd75b389576d87e2ac71c748b72952270660ecc130aeb3e651"
   }
  }
 },
 "nbformat": 4,
 "nbformat_minor": 2
}
