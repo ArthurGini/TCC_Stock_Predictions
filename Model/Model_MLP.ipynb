{
 "cells": [
  {
   "cell_type": "code",
   "execution_count": null,
   "metadata": {},
   "outputs": [],
   "source": [
    "# Usei como base esse tutorial:\n",
    "# https://colab.research.google.com/github/tensorflow/docs-l10n/blob/master/site/pt-br/tutorials/keras/regression.ipynb#scrollTo=f-OHX4DiXd8x"
   ]
  },
  {
   "cell_type": "code",
   "execution_count": null,
   "metadata": {},
   "outputs": [],
   "source": [
    "# # # # Clear logs\n",
    "# # # %rm -rf ./logs/\n",
    "\n",
    "# # # Ativação do Tensorboard\n",
    "# %conda activate pystock\n",
    "# %load_ext tensorboard\n",
    "\n",
    "# # # Reload Tensorboar\n",
    "# %reload_ext tensorboard\n"
   ]
  },
  {
   "cell_type": "code",
   "execution_count": null,
   "metadata": {},
   "outputs": [],
   "source": [
    "# # # Reload Tensorboar\n",
    "# %reload_ext tensorboa"
   ]
  },
  {
   "cell_type": "markdown",
   "metadata": {},
   "source": [
    "# Sequential model\n",
    "\n",
    "*Dense model 16*\n",
    "*Dense model 16*\n",
    "*Dense model 8*\n",
    "*Dense model 4*\n",
    "*Epoch 350*\n",
    "\n",
    "_MSE: 1.31_\n",
    "epoch: 350\n",
    "\n",
    "Activation: softplus\n",
    "Optimizer: Adam\n",
    "\n",
    "15/15 - 0s - loss: 0.6325 - mae: 0.5830 - mse: 0.6325\n",
    "Testing set Mean Abs Error:  0.58 ibova_0"
   ]
  },
  {
   "cell_type": "code",
   "execution_count": null,
   "metadata": {},
   "outputs": [],
   "source": [
    "import pathlib\n",
    "import datetime\n",
    "\n",
    "import matplotlib.pyplot as plt\n",
    "import pandas as pd\n",
    "import seaborn as sns\n",
    "\n",
    "import tensorflow as tf\n",
    "import datetime\n",
    "\n",
    "from tensorflow import keras\n",
    "from tensorflow.keras import layers\n",
    "\n",
    "from keras.callbacks import ModelCheckpoint\n",
    "import keras_tuner as kt "
   ]
  },
  {
   "cell_type": "markdown",
   "metadata": {},
   "source": [
    "# Lendo Dfs"
   ]
  },
  {
   "cell_type": "code",
   "execution_count": null,
   "metadata": {},
   "outputs": [],
   "source": [
    "# 60%\n",
    "PATH_TREINO = '../Data/3_Gold/Treino_all_stocks.csv'\n",
    "DF_TREINO = pd.read_csv(PATH_TREINO, sep=\",\")\n",
    "train_dataset = DF_TREINO\n",
    "train_dataset = train_dataset.drop(['oil_5','usd_5','abev_5','jbs_5','petr_5','vale_5',], axis=1)\n",
    "train_labels = train_dataset.pop('ibova_5')\n",
    "\n",
    "# 20%\n",
    "PATH_VALIDACAO = '../Data/3_Gold/Validacao_all_stocks.csv'\n",
    "DF_VALIDACAO = pd.read_csv(PATH_VALIDACAO, sep=\",\")\n",
    "valid_dataset = DF_VALIDACAO\n",
    "valid_dataset = valid_dataset.drop(['ibova_5','oil_5','usd_5','abev_5','jbs_5','petr_5','vale_5',],axis=1)\n",
    "# valid_labels = valid_dataset.pop('ibova_5') \n",
    "\n",
    "# 20%\n",
    "PATH_TESTE = '../Data/3_Gold/Teste_all_stocks.csv'\n",
    "DF_TESTE = pd.read_csv(PATH_TESTE, sep=\",\")\n",
    "test_dataset = DF_TESTE\n",
    "test_dataset = test_dataset.drop(['oil_5','usd_5','abev_5','jbs_5','petr_5','vale_5',],axis=1)\n",
    "test_labels = test_dataset.pop('ibova_5')\n"
   ]
  },
  {
   "cell_type": "code",
   "execution_count": null,
   "metadata": {},
   "outputs": [],
   "source": [
    "# Tentando criar um conjunti de validação pra input no modelo \n",
    "\n",
    "# val_dataset = tf.data.Dataset.from_tensor_slices(('ibova_0', '*')) "
   ]
  },
  {
   "cell_type": "code",
   "execution_count": null,
   "metadata": {},
   "outputs": [],
   "source": [
    "valid_dataset.ibova_0\n",
    "\n",
    "# Pesquisar:\n",
    "# \tvarias colunas to series em pandas  "
   ]
  },
  {
   "cell_type": "code",
   "execution_count": null,
   "metadata": {},
   "outputs": [],
   "source": [
    "# index,\n",
    "# ibova_0,ibova_1,ibova_2,ibova_3,ibova_4,ibova_5,\n",
    "# oil_0,oil_1,oil_2,oil_3,oil_4,oil_5,usd_0,\n",
    "# usd_1,usd_2,usd_3,usd_4,usd_5,\n",
    "# abev_0,abev_1,abev_2,abev_3,abev_4,abev_5,\n",
    "# jbs_0,jbs_1,jbs_2,jbs_3,jbs_4,jbs_5,\n",
    "# petr_0,petr_1,petr_2,petr_3,petr_4,petr_5,\n",
    "# vale_0,vale_1,vale_2,vale_3,vale_4,vale_5"
   ]
  },
  {
   "cell_type": "markdown",
   "metadata": {},
   "source": [
    "# Inspecionando os dados"
   ]
  },
  {
   "cell_type": "code",
   "execution_count": null,
   "metadata": {},
   "outputs": [],
   "source": [
    "# sns.pairplot(train_dataset[['index','ibova_0','ibova_1','ibova_2','ibova_3','ibova_4','oil_0','oil_1','oil_2','oil_3','oil_4','usd_0','usd_1','usd_2','usd_3','usd_4']], diag_kind=\"kde\")\n",
    "# sns.pairplot(train_dataset[['index','ibova_0','oil_0','usd_0']], diag_kind=\"kde\")\n",
    "# sns.pairplot(train_dataset[['ibova_1','oil_1','usd_1']], diag_kind=\"kde\")\n",
    "\n",
    "train_stats = train_dataset.describe()\n",
    "# train_stats"
   ]
  },
  {
   "cell_type": "markdown",
   "metadata": {},
   "source": [
    "# Definindo o modelo"
   ]
  },
  {
   "cell_type": "markdown",
   "metadata": {},
   "source": [
    "#TODO:\n",
    "\n",
    "Definir um range para a definição dos hyper parametros do modelo\n",
    "\n",
    "https://scikit-learn.org/stable/modules/classes.html#module-sklearn.model_selection\n",
    "\thyper parameter optimizers\n",
    "\n",
    "https://scikit-learn.org/stable/modules/generated/sklearn.model_selection.GridSearchCV.html\n",
    "\n",
    "A biblioteca vai encontrar os melhores parametros no conjunto de validacao \n",
    "\n",
    "https://www.tensorflow.org/tutorials/keras/keras_tuner"
   ]
  },
  {
   "cell_type": "code",
   "execution_count": null,
   "metadata": {},
   "outputs": [],
   "source": [
    "def model_builder(hp):\n",
    "  hp_unit_1 = hp.Int('unit_1', min_value=16, max_value=64, step=1)\n",
    "  hp_unit_2 = hp.Int('unit_2', min_value=4, max_value=64, step=1)\n",
    "  hp_unit_3 = hp.Int('unit_3', min_value=4, max_value=64, step=1)\n",
    "  hp_unit_4 = hp.Int('unit_4', min_value=4, max_value=64, step=1)\n",
    "  activationL = [\"relu\",\"sigmoid\",\"softplus\",\"softsign\",\"tanh\",\"selu\",\"elu\",\"exponential\",\"relu\",]\n",
    "  activation_choice = hp.Choice('activation', values=activationL)\n",
    "  hp_learning_rate = hp.Choice('learning_rate', values=[1e-2, 1e-3, 1e-4])\n",
    "\n",
    "  model = keras.Sequential([\n",
    "    layers.Dense(units=hp_unit_1, activation='relu', input_shape=[len(train_dataset.keys())]),\n",
    "    layers.Dense(units=hp_unit_2, activation='relu'),\n",
    "    layers.Dense(units=hp_unit_3, activation='relu'),\n",
    "    layers.Dense(units=hp_unit_4, activation='relu'),\n",
    "    layers.Dense(units=1, activation='linear')\n",
    "  ])\n",
    "\n",
    "  model.compile(optimizer=keras.optimizers.Adam(learning_rate=hp_learning_rate),\n",
    "                loss='mse',\n",
    "                metrics=['mae', 'mse'])\n",
    "\n",
    "  \n",
    "  return model\n",
    "\n",
    "\n",
    "# rmse pra avaliação, nao para loss\n"
   ]
  },
  {
   "cell_type": "code",
   "execution_count": null,
   "metadata": {},
   "outputs": [],
   "source": [
    "# model.summary()"
   ]
  },
  {
   "cell_type": "markdown",
   "metadata": {},
   "source": [
    "# Instanciando Tuner\n",
    "\n",
    "https://colab.research.google.com/github/tensorflow/docs/blob/master/site/en/tutorials/keras/keras_tuner.ipynb#scrollTo=McO82AXOuxXh"
   ]
  },
  {
   "cell_type": "code",
   "execution_count": null,
   "metadata": {},
   "outputs": [],
   "source": [
    "tuner = kt.Hyperband(model_builder,\n",
    "                     objective='val_mse',\n",
    "                     max_epochs=10,\n",
    "                     factor=3,\n",
    "                     directory='logs',\n",
    "                     project_name='hyper_parameters')"
   ]
  },
  {
   "cell_type": "code",
   "execution_count": null,
   "metadata": {},
   "outputs": [],
   "source": [
    "# early_stop = keras.callbacks.EarlyStopping(\n",
    "#   monitor='val_mse', patience=50, mode='min' ,restore_best_weights=True)\n",
    "format_data = \"%y_%m_%d__%H_%M_%S\"\n",
    "save_time = datetime.datetime.strftime(datetime.datetime.now(), format_data)\n",
    "\n",
    "EPOCHS = 500\n",
    "\n",
    "bst_model_path = f'logs/MLP_model/MLP_model_{save_time}.h5'\n",
    "model_checkpoint = ModelCheckpoint(bst_model_path, save_best_only=True, save_weights_only=True)\n",
    "\n",
    "history = tuner.search(train_dataset, train_labels, epochs=EPOCHS, validation_split=0.2, verbose=0, callbacks=([model_checkpoint]))\n",
    "\n",
    "# Get the optimal hyperparameters\n",
    "best_hps=tuner.get_best_hyperparameters(num_trials=20)[0]\n",
    "\n",
    "print(f\"\"\"\n",
    "The hyperparameter search is complete. The optimal number of units in the first densely-connected\n",
    "layer is {best_hps.get('unit_1')} and the optimal learning rate for the optimizer\n",
    "is {best_hps.get('learning_rate')}.\n",
    "\"\"\")\n",
    "#TODO: Printar todas as selecoes"
   ]
  },
  {
   "cell_type": "code",
   "execution_count": null,
   "metadata": {},
   "outputs": [],
   "source": [
    "print(best_hps.get('unit_1'))\n",
    "print(best_hps.get('unit_2'))\n",
    "print(best_hps.get('unit_3'))\n",
    "print(best_hps.get('unit_4'))\n",
    "print(best_hps.get('learning_rate'))\n",
    "print(best_hps.get('activation'))"
   ]
  },
  {
   "cell_type": "markdown",
   "metadata": {},
   "source": [
    "# Selecionando a melhor epoca do modelo"
   ]
  },
  {
   "cell_type": "code",
   "execution_count": null,
   "metadata": {},
   "outputs": [],
   "source": [
    "# Build the model with the optimal hyperparameters and train it on the data for 50 epochs\n",
    "\n",
    "\n",
    "model = tuner.hypermodel.build(best_hps)\n",
    "history = model.fit(train_dataset, train_labels, epochs=EPOCHS, validation_split=0.2, verbose=1, callbacks=([model_checkpoint]))\n",
    "\n",
    "# Select the best epoch,\n",
    "val_mse_per_epoch = history.history['val_mse']\n",
    "best_epoch = val_mse_per_epoch.index(min(val_mse_per_epoch)) + 1\n",
    "\n",
    "print('Best epoch: %d' % (best_epoch,))\n"
   ]
  },
  {
   "cell_type": "markdown",
   "metadata": {},
   "source": [
    "# Treinando modelo"
   ]
  },
  {
   "cell_type": "code",
   "execution_count": null,
   "metadata": {},
   "outputs": [],
   "source": [
    "# hypermodel = tuner.hypermodel.build(best_hps)\n",
    "# history = hypermodel.fit(train_dataset, train_labels, epochs=best_epoch, validation_split=0.2, verbose=1)\n",
    "\n",
    "# # ja pega o modelo na melhor epoca "
   ]
  },
  {
   "cell_type": "code",
   "execution_count": null,
   "metadata": {},
   "outputs": [],
   "source": [
    "eval_result = hypermodel.evaluate(test_dataset, test_labels)\n",
    "print(\"[test loss, test accuracy]:\", eval_result)"
   ]
  },
  {
   "cell_type": "markdown",
   "metadata": {},
   "source": [
    "# Avaliando o modelo"
   ]
  },
  {
   "cell_type": "code",
   "execution_count": null,
   "metadata": {},
   "outputs": [],
   "source": [
    "# print(f'train_dataset: {train_dataset.columns()} \\n')\n",
    "# print(f'valid_dataset: {valid_dataset.columns()} \\n')\n",
    "# print(f'test_dataset: {test_dataset.columns()} \\n')"
   ]
  },
  {
   "cell_type": "code",
   "execution_count": null,
   "metadata": {},
   "outputs": [],
   "source": [
    "hist = pd.DataFrame(history.history)\n",
    "hist['epoch'] = history.epoch\n",
    "hist.tail()"
   ]
  },
  {
   "cell_type": "code",
   "execution_count": null,
   "metadata": {},
   "outputs": [],
   "source": [
    "print(f'Min MSE: {hist.mse.min()}')\n",
    "print(f'Min Val_MSE: {hist.val_mse.min()}')"
   ]
  },
  {
   "cell_type": "code",
   "execution_count": null,
   "metadata": {},
   "outputs": [],
   "source": [
    "def plot_history(history):\n",
    "  hist = pd.DataFrame(history.history)\n",
    "  hist['epoch'] = history.epoch\n",
    "\n",
    "  plt.figure()\n",
    "  plt.xlabel('Epoch')\n",
    "  plt.ylabel('Mean Abs Error [ibova_0]')\n",
    "  plt.plot(hist['epoch'], hist['mae'],label='Train Error')\n",
    "  plt.plot(hist['epoch'], hist['val_mae'],label = 'Val Error')\n",
    "  plt.ylim([0,5])\n",
    "  plt.legend()\n",
    "\n",
    "  plt.figure()\n",
    "  plt.xlabel('Epoch')\n",
    "  plt.ylabel('Mean Square Error [$ibova_0^2$]')\n",
    "  plt.plot(hist['epoch'], hist['mse'],label='Train Error')\n",
    "  plt.plot(hist['epoch'], hist['val_mse'],label = 'Val Error')\n",
    "  plt.ylim([0,20])\n",
    "  plt.legend()\n",
    "  plt.show()\n",
    "\n",
    "\n",
    "plot_history(history)"
   ]
  },
  {
   "cell_type": "code",
   "execution_count": null,
   "metadata": {},
   "outputs": [],
   "source": [
    "model = build_model()\n",
    "\n",
    "# O parâmetro patience é o quantidade de epochs para checar as melhoras\n",
    "early_stop = keras.callbacks.EarlyStopping(\n",
    "  monitor='val_mse', patience=25, mode='min' ,restore_best_weights=True)\n",
    "\n",
    "history = model.fit(train_dataset, train_labels, epochs=EPOCHS,\n",
    "                    validation_split = 0.2, verbose=1, callbacks=[early_stop, tensorboard_callback])\n",
    "\n",
    "# Mudar os dados de validação\n",
    "\n",
    "plot_history(history)"
   ]
  },
  {
   "cell_type": "code",
   "execution_count": null,
   "metadata": {},
   "outputs": [],
   "source": [
    "loss, mae, mse = model.evaluate(test_dataset, test_labels, verbose=2)\n",
    "\n",
    "print(f\"Testing set Mean Abs Error: {mse:5.2f} ibova_0\")"
   ]
  },
  {
   "cell_type": "markdown",
   "metadata": {},
   "source": [
    "# Realizando as previsões"
   ]
  },
  {
   "cell_type": "code",
   "execution_count": null,
   "metadata": {},
   "outputs": [],
   "source": [
    "test_predictions = model.predict(test_dataset).flatten()"
   ]
  },
  {
   "cell_type": "markdown",
   "metadata": {},
   "source": [
    "# Avaliando as previsões:"
   ]
  },
  {
   "cell_type": "code",
   "execution_count": null,
   "metadata": {},
   "outputs": [],
   "source": [
    "def show_test_labels():\n",
    "\t# Imprimindo valores reais\n",
    "\tplt.plot(test_labels, color ='r', label='ibova_REAL')\n",
    "\tplt.xlabel(\"Dates\")\n",
    "\tplt.ylabel(\"Variation ROC\")\n",
    "\tplt.title(\"ibova_REAL\")\n",
    "\tplt.legend()\n",
    "\n",
    "def show_model_predictions():\n",
    "\t# Imprimindo previsoes\n",
    "\tplt.plot(test_predictions, color ='g', label='predictions_MODEL')\n",
    "\tplt.xlabel(\"Dates\")\n",
    "\tplt.ylabel(\"Variation ROC\")\n",
    "\tplt.title(\"predictions_MODEL\")\n",
    "\tplt.legend()\n",
    "\n",
    "def show_compare_graph():\n",
    "\t# Predictt X Real values\n",
    "\tplt.plot(test_labels, color ='r', label='ibova_REAL')\n",
    "\tplt.plot(test_predictions, color ='g', label='predictions_MODEL')\n",
    "\tplt.xlabel(\"Dates\")\n",
    "\tplt.ylabel(\"Variation ROC\")\n",
    "\tplt.title(\"Predict X Real values\")\n",
    "\tplt.legend()\n",
    "\tplt.show()\n",
    "\n",
    "def show_true_predict_values():\n",
    "\tplt.figure(figsize=(24,4))\n",
    "\tplt.scatter(test_labels, test_predictions)\n",
    "\tplt.xlabel('True Values [ibova_0]')\n",
    "\tplt.ylabel('Predictions [ibova_0]')\n",
    "\tplt.axis('equal')\n",
    "\tplt.axis('square')\n",
    "\tplt.xlim([0,plt.xlim()[1]])\n",
    "\tplt.ylim([0,plt.ylim()[1]])\n",
    "\t_ = plt.plot([-100, 100], [-100, 100])"
   ]
  },
  {
   "cell_type": "code",
   "execution_count": null,
   "metadata": {},
   "outputs": [],
   "source": [
    "show_compare_graph()"
   ]
  },
  {
   "cell_type": "code",
   "execution_count": null,
   "metadata": {},
   "outputs": [],
   "source": [
    "show_model_predictions()"
   ]
  },
  {
   "cell_type": "code",
   "execution_count": null,
   "metadata": {},
   "outputs": [],
   "source": [
    "# Analisando Medias:\n",
    "\n",
    "print(f'Massa de predição: {test_predictions.mean()}')\n",
    "print(f'Massa inicial: {ibova_test.mean()}')\n",
    "print(f'Diferenças das médias: {ibova_test.mean() - test_predictions.mean()}')\n",
    "\n",
    "# Add o RM_MSE medio"
   ]
  },
  {
   "cell_type": "code",
   "execution_count": null,
   "metadata": {},
   "outputs": [],
   "source": [
    "# test_dataset"
   ]
  }
 ],
 "metadata": {
  "kernelspec": {
   "display_name": "Python 3.8.12 ('pystock')",
   "language": "python",
   "name": "python3"
  },
  "language_info": {
   "codemirror_mode": {
    "name": "ipython",
    "version": 3
   },
   "file_extension": ".py",
   "mimetype": "text/x-python",
   "name": "python",
   "nbconvert_exporter": "python",
   "pygments_lexer": "ipython3",
   "version": "3.8.13"
  },
  "orig_nbformat": 4,
  "vscode": {
   "interpreter": {
    "hash": "bc0c8eb905859abd75b389576d87e2ac71c748b72952270660ecc130aeb3e651"
   }
  }
 },
 "nbformat": 4,
 "nbformat_minor": 2
}
