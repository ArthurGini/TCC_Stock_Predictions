{
 "cells": [
  {
   "cell_type": "code",
   "execution_count": 290,
   "metadata": {},
   "outputs": [
    {
     "data": {
      "application/javascript": "\n            setTimeout(function() {\n                var nbb_cell_id = 290;\n                var nbb_unformatted_code = \"# Usei como base esse tutorial:\\n# https://colab.research.google.com/github/tensorflow/docs-l10n/blob/master/site/pt-br/tutorials/keras/regression.ipynb#scrollTo=f-OHX4DiXd8x\";\n                var nbb_formatted_code = \"# Usei como base esse tutorial:\\n# https://colab.research.google.com/github/tensorflow/docs-l10n/blob/master/site/pt-br/tutorials/keras/regression.ipynb#scrollTo=f-OHX4DiXd8x\";\n                var nbb_cells = Jupyter.notebook.get_cells();\n                for (var i = 0; i < nbb_cells.length; ++i) {\n                    if (nbb_cells[i].input_prompt_number == nbb_cell_id) {\n                        if (nbb_cells[i].get_text() == nbb_unformatted_code) {\n                             nbb_cells[i].set_text(nbb_formatted_code);\n                        }\n                        break;\n                    }\n                }\n            }, 500);\n            ",
      "text/plain": [
       "<IPython.core.display.Javascript object>"
      ]
     },
     "metadata": {},
     "output_type": "display_data"
    }
   ],
   "source": [
    "# Usei como base esse tutorial:\n",
    "# https://colab.research.google.com/github/tensorflow/docs-l10n/blob/master/site/pt-br/tutorials/keras/regression.ipynb#scrollTo=f-OHX4DiXd8x"
   ]
  },
  {
   "cell_type": "code",
   "execution_count": 291,
   "metadata": {},
   "outputs": [
    {
     "data": {
      "application/javascript": "\n            setTimeout(function() {\n                var nbb_cell_id = 291;\n                var nbb_unformatted_code = \"# # # # Clear logs\\n# # # %rm -rf ./logs/\\n\\n# # # Ativa\\u00e7\\u00e3o do Tensorboard\\n# %conda activate pystock\\n# %load_ext tensorboard\\n\\n# # # Reload Tensorboar\\n# %reload_ext tensorboard\";\n                var nbb_formatted_code = \"# # # # Clear logs\\n# # # %rm -rf ./logs/\\n\\n# # # Ativa\\u00e7\\u00e3o do Tensorboard\\n# %conda activate pystock\\n# %load_ext tensorboard\\n\\n# # # Reload Tensorboar\\n# %reload_ext tensorboard\";\n                var nbb_cells = Jupyter.notebook.get_cells();\n                for (var i = 0; i < nbb_cells.length; ++i) {\n                    if (nbb_cells[i].input_prompt_number == nbb_cell_id) {\n                        if (nbb_cells[i].get_text() == nbb_unformatted_code) {\n                             nbb_cells[i].set_text(nbb_formatted_code);\n                        }\n                        break;\n                    }\n                }\n            }, 500);\n            ",
      "text/plain": [
       "<IPython.core.display.Javascript object>"
      ]
     },
     "metadata": {},
     "output_type": "display_data"
    }
   ],
   "source": [
    "# # # # Clear logs\n",
    "# # # %rm -rf ./logs/\n",
    "\n",
    "# # # Ativação do Tensorboard\n",
    "# %conda activate pystock\n",
    "# %load_ext tensorboard\n",
    "\n",
    "# # # Reload Tensorboar\n",
    "# %reload_ext tensorboard"
   ]
  },
  {
   "cell_type": "code",
   "execution_count": 292,
   "metadata": {},
   "outputs": [
    {
     "data": {
      "application/javascript": "\n            setTimeout(function() {\n                var nbb_cell_id = 292;\n                var nbb_unformatted_code = \"# # # Reload Tensorboar\\n# %reload_ext tensorboa\";\n                var nbb_formatted_code = \"# # # Reload Tensorboar\\n# %reload_ext tensorboa\";\n                var nbb_cells = Jupyter.notebook.get_cells();\n                for (var i = 0; i < nbb_cells.length; ++i) {\n                    if (nbb_cells[i].input_prompt_number == nbb_cell_id) {\n                        if (nbb_cells[i].get_text() == nbb_unformatted_code) {\n                             nbb_cells[i].set_text(nbb_formatted_code);\n                        }\n                        break;\n                    }\n                }\n            }, 500);\n            ",
      "text/plain": [
       "<IPython.core.display.Javascript object>"
      ]
     },
     "metadata": {},
     "output_type": "display_data"
    }
   ],
   "source": [
    "# # # Reload Tensorboar\n",
    "# %reload_ext tensorboa"
   ]
  },
  {
   "cell_type": "code",
   "execution_count": 293,
   "metadata": {},
   "outputs": [
    {
     "name": "stdout",
     "output_type": "stream",
     "text": [
      "The nb_black extension is already loaded. To reload it, use:\n",
      "  %reload_ext nb_black\n",
      "The lab_black extension is already loaded. To reload it, use:\n",
      "  %reload_ext lab_black\n"
     ]
    },
    {
     "data": {
      "application/javascript": "\n            setTimeout(function() {\n                var nbb_cell_id = 293;\n                var nbb_unformatted_code = \"%load_ext nb_black\\n%load_ext lab_black\";\n                var nbb_formatted_code = \"%load_ext nb_black\\n%load_ext lab_black\";\n                var nbb_cells = Jupyter.notebook.get_cells();\n                for (var i = 0; i < nbb_cells.length; ++i) {\n                    if (nbb_cells[i].input_prompt_number == nbb_cell_id) {\n                        if (nbb_cells[i].get_text() == nbb_unformatted_code) {\n                             nbb_cells[i].set_text(nbb_formatted_code);\n                        }\n                        break;\n                    }\n                }\n            }, 500);\n            ",
      "text/plain": [
       "<IPython.core.display.Javascript object>"
      ]
     },
     "metadata": {},
     "output_type": "display_data"
    }
   ],
   "source": [
    "%load_ext nb_black\n",
    "%load_ext lab_black"
   ]
  },
  {
   "cell_type": "markdown",
   "metadata": {},
   "source": [
    "# Sequential model\n",
    "\n",
    "*Dense model 16*\n",
    "*Dense model 16*\n",
    "*Dense model 8*\n",
    "*Dense model 4*\n",
    "*Epoch 350*\n",
    "\n",
    "_MSE: 1.31_\n",
    "epoch: 350\n",
    "\n",
    "Activation: softplus\n",
    "Optimizer: Adam\n",
    "\n",
    "15/15 - 0s - loss: 0.6325 - mae: 0.5830 - mse: 0.6325\n",
    "Testing set Mean Abs Error:  0.58 ibova_0"
   ]
  },
  {
   "cell_type": "code",
   "execution_count": 294,
   "metadata": {},
   "outputs": [
    {
     "data": {
      "application/javascript": "\n            setTimeout(function() {\n                var nbb_cell_id = 294;\n                var nbb_unformatted_code = \"import pathlib\\nimport datetime\\n\\nimport matplotlib.pyplot as plt\\nimport pandas as pd\\nimport seaborn as sns\\n\\nimport tensorflow as tf\\nimport datetime\\n\\nfrom tensorflow import keras\\nfrom tensorflow.keras import layers\\n\\nfrom keras.callbacks import ModelCheckpoint\\nimport keras_tuner as kt\";\n                var nbb_formatted_code = \"import pathlib\\nimport datetime\\n\\nimport matplotlib.pyplot as plt\\nimport pandas as pd\\nimport seaborn as sns\\n\\nimport tensorflow as tf\\nimport datetime\\n\\nfrom tensorflow import keras\\nfrom tensorflow.keras import layers\\n\\nfrom keras.callbacks import ModelCheckpoint\\nimport keras_tuner as kt\";\n                var nbb_cells = Jupyter.notebook.get_cells();\n                for (var i = 0; i < nbb_cells.length; ++i) {\n                    if (nbb_cells[i].input_prompt_number == nbb_cell_id) {\n                        if (nbb_cells[i].get_text() == nbb_unformatted_code) {\n                             nbb_cells[i].set_text(nbb_formatted_code);\n                        }\n                        break;\n                    }\n                }\n            }, 500);\n            ",
      "text/plain": [
       "<IPython.core.display.Javascript object>"
      ]
     },
     "metadata": {},
     "output_type": "display_data"
    }
   ],
   "source": [
    "import pathlib\n",
    "import datetime\n",
    "\n",
    "import matplotlib.pyplot as plt\n",
    "import pandas as pd\n",
    "import seaborn as sns\n",
    "\n",
    "import tensorflow as tf\n",
    "import datetime\n",
    "\n",
    "from tensorflow import keras\n",
    "from tensorflow.keras import layers\n",
    "\n",
    "from keras.callbacks import ModelCheckpoint\n",
    "import keras_tuner as kt"
   ]
  },
  {
   "cell_type": "markdown",
   "metadata": {},
   "source": [
    "# Lendo Dfs"
   ]
  },
  {
   "cell_type": "code",
   "execution_count": 295,
   "metadata": {},
   "outputs": [
    {
     "data": {
      "application/javascript": "\n            setTimeout(function() {\n                var nbb_cell_id = 295;\n                var nbb_unformatted_code = \"# 80%\\nPATH_TREINO = \\\"../Data/3_Gold/Treino_all_stocks.csv\\\"\\nDF_TREINO = pd.read_csv(PATH_TREINO, sep=\\\",\\\")\\ntrain_dataset = DF_TREINO\\ntrain_dataset = train_dataset.drop(\\n    [\\n        \\\"oil_5\\\",\\n        \\\"usd_5\\\",\\n        \\\"abev_5\\\",\\n        \\\"jbs_5\\\",\\n        \\\"petr_5\\\",\\n        \\\"vale_5\\\",\\n    ],\\n    axis=1,\\n)\\ntrain_labels = train_dataset.pop(\\\"ibova_5\\\")\\n\\n# 20%\\nPATH_TESTE = \\\"../Data/3_Gold/Teste_all_stocks.csv\\\"\\nDF_TESTE = pd.read_csv(PATH_TESTE, sep=\\\",\\\")\\ntest_dataset = DF_TESTE\\ntest_dataset = test_dataset.drop(\\n    [\\n        \\\"oil_5\\\",\\n        \\\"usd_5\\\",\\n        \\\"abev_5\\\",\\n        \\\"jbs_5\\\",\\n        \\\"petr_5\\\",\\n        \\\"vale_5\\\",\\n    ],\\n    axis=1,\\n)\\ntest_labels = test_dataset.pop(\\\"ibova_5\\\")\\n\\n\\\"\\\"\\\"\\n\\tResultado\\n\\\"\\\"\\\"\\nlist_activation = []\\nlist_best_epoch = []\\nlist_best_model_path = []\\nlist_hp_unit_1 = []\\nlist_hp_unit_2 = []\\nlist_hp_unit_3 = []\\nlist_hp_unit_4 = []\\nlist_kernel_size_1 = []\\nlist_kernel_size_2 = []\\nlist_learning_rate = []\\nlist_n_filter_1 = []\\nlist_n_filter_2 = []\\nlist_val_mae = []\\nlist_val_mse = []\";\n                var nbb_formatted_code = \"# 80%\\nPATH_TREINO = \\\"../Data/3_Gold/Treino_all_stocks.csv\\\"\\nDF_TREINO = pd.read_csv(PATH_TREINO, sep=\\\",\\\")\\ntrain_dataset = DF_TREINO\\ntrain_dataset = train_dataset.drop(\\n    [\\n        \\\"oil_5\\\",\\n        \\\"usd_5\\\",\\n        \\\"abev_5\\\",\\n        \\\"jbs_5\\\",\\n        \\\"petr_5\\\",\\n        \\\"vale_5\\\",\\n    ],\\n    axis=1,\\n)\\ntrain_labels = train_dataset.pop(\\\"ibova_5\\\")\\n\\n# 20%\\nPATH_TESTE = \\\"../Data/3_Gold/Teste_all_stocks.csv\\\"\\nDF_TESTE = pd.read_csv(PATH_TESTE, sep=\\\",\\\")\\ntest_dataset = DF_TESTE\\ntest_dataset = test_dataset.drop(\\n    [\\n        \\\"oil_5\\\",\\n        \\\"usd_5\\\",\\n        \\\"abev_5\\\",\\n        \\\"jbs_5\\\",\\n        \\\"petr_5\\\",\\n        \\\"vale_5\\\",\\n    ],\\n    axis=1,\\n)\\ntest_labels = test_dataset.pop(\\\"ibova_5\\\")\\n\\n\\\"\\\"\\\"\\n\\tResultado\\n\\\"\\\"\\\"\\nlist_activation = []\\nlist_best_epoch = []\\nlist_best_model_path = []\\nlist_hp_unit_1 = []\\nlist_hp_unit_2 = []\\nlist_hp_unit_3 = []\\nlist_hp_unit_4 = []\\nlist_kernel_size_1 = []\\nlist_kernel_size_2 = []\\nlist_learning_rate = []\\nlist_n_filter_1 = []\\nlist_n_filter_2 = []\\nlist_val_mae = []\\nlist_val_mse = []\";\n                var nbb_cells = Jupyter.notebook.get_cells();\n                for (var i = 0; i < nbb_cells.length; ++i) {\n                    if (nbb_cells[i].input_prompt_number == nbb_cell_id) {\n                        if (nbb_cells[i].get_text() == nbb_unformatted_code) {\n                             nbb_cells[i].set_text(nbb_formatted_code);\n                        }\n                        break;\n                    }\n                }\n            }, 500);\n            ",
      "text/plain": [
       "<IPython.core.display.Javascript object>"
      ]
     },
     "metadata": {},
     "output_type": "display_data"
    }
   ],
   "source": [
    "# 80%\n",
    "PATH_TREINO = \"../Data/3_Gold/Treino_all_stocks.csv\"\n",
    "DF_TREINO = pd.read_csv(PATH_TREINO, sep=\",\")\n",
    "train_dataset = DF_TREINO\n",
    "train_dataset = train_dataset.drop(\n",
    "    [\n",
    "        \"oil_5\",\n",
    "        \"usd_5\",\n",
    "        \"abev_5\",\n",
    "        \"jbs_5\",\n",
    "        \"petr_5\",\n",
    "        \"vale_5\",\n",
    "    ],\n",
    "    axis=1,\n",
    ")\n",
    "train_labels = train_dataset.pop(\"ibova_5\")\n",
    "\n",
    "# 20%\n",
    "PATH_TESTE = \"../Data/3_Gold/Teste_all_stocks.csv\"\n",
    "DF_TESTE = pd.read_csv(PATH_TESTE, sep=\",\")\n",
    "test_dataset = DF_TESTE\n",
    "test_dataset = test_dataset.drop(\n",
    "    [\n",
    "        \"oil_5\",\n",
    "        \"usd_5\",\n",
    "        \"abev_5\",\n",
    "        \"jbs_5\",\n",
    "        \"petr_5\",\n",
    "        \"vale_5\",\n",
    "    ],\n",
    "    axis=1,\n",
    ")\n",
    "test_labels = test_dataset.pop(\"ibova_5\")\n",
    "\n",
    "\"\"\"\n",
    "\tResultado\n",
    "\"\"\"\n",
    "list_activation = []\n",
    "list_best_epoch = []\n",
    "list_best_model_path = []\n",
    "list_hp_unit_1 = []\n",
    "list_hp_unit_2 = []\n",
    "list_hp_unit_3 = []\n",
    "list_hp_unit_4 = []\n",
    "list_kernel_size_1 = []\n",
    "list_kernel_size_2 = []\n",
    "list_learning_rate = []\n",
    "list_n_filter_1 = []\n",
    "list_n_filter_2 = []\n",
    "list_val_mae = []\n",
    "list_val_mse = []"
   ]
  },
  {
   "cell_type": "code",
   "execution_count": 296,
   "metadata": {},
   "outputs": [
    {
     "data": {
      "application/javascript": "\n            setTimeout(function() {\n                var nbb_cell_id = 296;\n                var nbb_unformatted_code = \"# train_dataset.columns\\n\\n# 'ibova_0', 'ibova_1', 'ibova_2', 'ibova_3', 'ibova_4',\\n# 'oil_0', 'oil_1', 'oil_2', 'oil_3', 'oil_4', 'usd_0', 'usd_1', 'usd_2',\\n# 'usd_3', 'usd_4', 'abev_0', 'abev_1', 'abev_2', 'abev_3', 'abev_4',\\n# 'jbs_0', 'jbs_1', 'jbs_2', 'jbs_3', 'jbs_4', 'petr_0', 'petr_1',\\n# 'petr_2', 'petr_3', 'petr_4', 'vale_0', 'vale_1', 'vale_2', 'vale_3',\\n# 'vale_4'\";\n                var nbb_formatted_code = \"# train_dataset.columns\\n\\n# 'ibova_0', 'ibova_1', 'ibova_2', 'ibova_3', 'ibova_4',\\n# 'oil_0', 'oil_1', 'oil_2', 'oil_3', 'oil_4', 'usd_0', 'usd_1', 'usd_2',\\n# 'usd_3', 'usd_4', 'abev_0', 'abev_1', 'abev_2', 'abev_3', 'abev_4',\\n# 'jbs_0', 'jbs_1', 'jbs_2', 'jbs_3', 'jbs_4', 'petr_0', 'petr_1',\\n# 'petr_2', 'petr_3', 'petr_4', 'vale_0', 'vale_1', 'vale_2', 'vale_3',\\n# 'vale_4'\";\n                var nbb_cells = Jupyter.notebook.get_cells();\n                for (var i = 0; i < nbb_cells.length; ++i) {\n                    if (nbb_cells[i].input_prompt_number == nbb_cell_id) {\n                        if (nbb_cells[i].get_text() == nbb_unformatted_code) {\n                             nbb_cells[i].set_text(nbb_formatted_code);\n                        }\n                        break;\n                    }\n                }\n            }, 500);\n            ",
      "text/plain": [
       "<IPython.core.display.Javascript object>"
      ]
     },
     "metadata": {},
     "output_type": "display_data"
    }
   ],
   "source": [
    "# train_dataset.columns\n",
    "\n",
    "# 'ibova_0', 'ibova_1', 'ibova_2', 'ibova_3', 'ibova_4',\n",
    "# 'oil_0', 'oil_1', 'oil_2', 'oil_3', 'oil_4', 'usd_0', 'usd_1', 'usd_2',\n",
    "# 'usd_3', 'usd_4', 'abev_0', 'abev_1', 'abev_2', 'abev_3', 'abev_4',\n",
    "# 'jbs_0', 'jbs_1', 'jbs_2', 'jbs_3', 'jbs_4', 'petr_0', 'petr_1',\n",
    "# 'petr_2', 'petr_3', 'petr_4', 'vale_0', 'vale_1', 'vale_2', 'vale_3',\n",
    "# 'vale_4'"
   ]
  },
  {
   "cell_type": "markdown",
   "metadata": {},
   "source": [
    "# Inspecionando os dados"
   ]
  },
  {
   "cell_type": "code",
   "execution_count": 297,
   "metadata": {},
   "outputs": [
    {
     "data": {
      "application/javascript": "\n            setTimeout(function() {\n                var nbb_cell_id = 297;\n                var nbb_unformatted_code = \"# sns.pairplot(\\n#     train_dataset[\\n#         [\\n#             \\\"ibova_0\\\",\\n#             \\\"ibova_1\\\",\\n#             \\\"ibova_2\\\",\\n#             \\\"ibova_3\\\",\\n#             \\\"ibova_4\\\",\\n#             \\\"oil_0\\\",\\n#             \\\"oil_1\\\",\\n#             \\\"oil_2\\\",\\n#             \\\"oil_3\\\",\\n#             \\\"oil_4\\\",\\n#             \\\"usd_0\\\",\\n#             \\\"usd_1\\\",\\n#             \\\"usd_2\\\",\\n#             \\\"usd_3\\\",\\n#             \\\"usd_4\\\",\\n#         ]\\n#     ],\\n#     diag_kind=\\\"kde\\\",\\n# )\\n# # sns.pairplot(train_dataset[[\\\"ibova_0\\\", \\\"oil_0\\\", \\\"usd_0\\\"]], diag_kind=\\\"kde\\\")\\n\\n# train_stats = train_dataset.describe()\\n# # train_stats\";\n                var nbb_formatted_code = \"# sns.pairplot(\\n#     train_dataset[\\n#         [\\n#             \\\"ibova_0\\\",\\n#             \\\"ibova_1\\\",\\n#             \\\"ibova_2\\\",\\n#             \\\"ibova_3\\\",\\n#             \\\"ibova_4\\\",\\n#             \\\"oil_0\\\",\\n#             \\\"oil_1\\\",\\n#             \\\"oil_2\\\",\\n#             \\\"oil_3\\\",\\n#             \\\"oil_4\\\",\\n#             \\\"usd_0\\\",\\n#             \\\"usd_1\\\",\\n#             \\\"usd_2\\\",\\n#             \\\"usd_3\\\",\\n#             \\\"usd_4\\\",\\n#         ]\\n#     ],\\n#     diag_kind=\\\"kde\\\",\\n# )\\n# # sns.pairplot(train_dataset[[\\\"ibova_0\\\", \\\"oil_0\\\", \\\"usd_0\\\"]], diag_kind=\\\"kde\\\")\\n\\n# train_stats = train_dataset.describe()\\n# # train_stats\";\n                var nbb_cells = Jupyter.notebook.get_cells();\n                for (var i = 0; i < nbb_cells.length; ++i) {\n                    if (nbb_cells[i].input_prompt_number == nbb_cell_id) {\n                        if (nbb_cells[i].get_text() == nbb_unformatted_code) {\n                             nbb_cells[i].set_text(nbb_formatted_code);\n                        }\n                        break;\n                    }\n                }\n            }, 500);\n            ",
      "text/plain": [
       "<IPython.core.display.Javascript object>"
      ]
     },
     "metadata": {},
     "output_type": "display_data"
    }
   ],
   "source": [
    "# sns.pairplot(\n",
    "#     train_dataset[\n",
    "#         [\n",
    "#             \"ibova_0\",\n",
    "#             \"ibova_1\",\n",
    "#             \"ibova_2\",\n",
    "#             \"ibova_3\",\n",
    "#             \"ibova_4\",\n",
    "#             \"oil_0\",\n",
    "#             \"oil_1\",\n",
    "#             \"oil_2\",\n",
    "#             \"oil_3\",\n",
    "#             \"oil_4\",\n",
    "#             \"usd_0\",\n",
    "#             \"usd_1\",\n",
    "#             \"usd_2\",\n",
    "#             \"usd_3\",\n",
    "#             \"usd_4\",\n",
    "#         ]\n",
    "#     ],\n",
    "#     diag_kind=\"kde\",\n",
    "# )\n",
    "# # sns.pairplot(train_dataset[[\"ibova_0\", \"oil_0\", \"usd_0\"]], diag_kind=\"kde\")\n",
    "\n",
    "# train_stats = train_dataset.describe()\n",
    "# # train_stats"
   ]
  },
  {
   "cell_type": "code",
   "execution_count": 298,
   "metadata": {},
   "outputs": [
    {
     "data": {
      "application/javascript": "\n            setTimeout(function() {\n                var nbb_cell_id = 298;\n                var nbb_unformatted_code = \"# sns.pairplot(\\n#     train_dataset[[\\\"ibova_0\\\", \\\"oil_0\\\", \\\"usd_0\\\", \\\"abev_0\\\", \\\"jbs_0\\\", \\\"petr_0\\\", \\\"vale_0\\\"]],\\n#     diag_kind=\\\"kde\\\",\\n# )\";\n                var nbb_formatted_code = \"# sns.pairplot(\\n#     train_dataset[[\\\"ibova_0\\\", \\\"oil_0\\\", \\\"usd_0\\\", \\\"abev_0\\\", \\\"jbs_0\\\", \\\"petr_0\\\", \\\"vale_0\\\"]],\\n#     diag_kind=\\\"kde\\\",\\n# )\";\n                var nbb_cells = Jupyter.notebook.get_cells();\n                for (var i = 0; i < nbb_cells.length; ++i) {\n                    if (nbb_cells[i].input_prompt_number == nbb_cell_id) {\n                        if (nbb_cells[i].get_text() == nbb_unformatted_code) {\n                             nbb_cells[i].set_text(nbb_formatted_code);\n                        }\n                        break;\n                    }\n                }\n            }, 500);\n            ",
      "text/plain": [
       "<IPython.core.display.Javascript object>"
      ]
     },
     "metadata": {},
     "output_type": "display_data"
    }
   ],
   "source": [
    "# sns.pairplot(\n",
    "#     train_dataset[[\"ibova_0\", \"oil_0\", \"usd_0\", \"abev_0\", \"jbs_0\", \"petr_0\", \"vale_0\"]],\n",
    "#     diag_kind=\"kde\",\n",
    "# )"
   ]
  },
  {
   "cell_type": "code",
   "execution_count": 299,
   "metadata": {},
   "outputs": [
    {
     "data": {
      "application/javascript": "\n            setTimeout(function() {\n                var nbb_cell_id = 299;\n                var nbb_unformatted_code = \"def save_df_parameters():\\n    result_columns = [\\n        \\\"activation\\\",\\n        \\\"best_epoch\\\",\\n        \\\"best_model_path\\\",\\n        \\\"hp_unit_1\\\",\\n        \\\"hp_unit_2\\\",\\n        \\\"hp_unit_3\\\",\\n        \\\"hp_unit_4\\\",\\n        \\\"kernel_size_1\\\",\\n        \\\"kernel_size_2\\\",\\n        \\\"learning_rate\\\",\\n        \\\"n_filter_1\\\",\\n        \\\"n_filter_2\\\",\\n        \\\"val_mae\\\",\\n        \\\"val_mse\\\",\\n    ]\\n\\n    data = list(\\n        zip(\\n            list_activation,\\n            list_best_epoch,\\n            list_best_model_path,\\n            list_hp_unit_1,\\n            list_hp_unit_2,\\n            list_hp_unit_3,\\n            list_hp_unit_4,\\n            list_kernel_size_1,\\n            list_kernel_size_2,\\n            list_learning_rate,\\n            list_n_filter_1,\\n            list_n_filter_2,\\n            list_val_mae,\\n            list_val_mse,\\n        )\\n    )\\n\\n    df_resultados = pd.DataFrame(\\n        data,\\n        columns=result_columns,\\n    )\\n\\n    df_resultados.to_csv(f\\\"Resultados_{TYPE_MODEL}_{SAVE_TIME}.csv\\\")\";\n                var nbb_formatted_code = \"def save_df_parameters():\\n    result_columns = [\\n        \\\"activation\\\",\\n        \\\"best_epoch\\\",\\n        \\\"best_model_path\\\",\\n        \\\"hp_unit_1\\\",\\n        \\\"hp_unit_2\\\",\\n        \\\"hp_unit_3\\\",\\n        \\\"hp_unit_4\\\",\\n        \\\"kernel_size_1\\\",\\n        \\\"kernel_size_2\\\",\\n        \\\"learning_rate\\\",\\n        \\\"n_filter_1\\\",\\n        \\\"n_filter_2\\\",\\n        \\\"val_mae\\\",\\n        \\\"val_mse\\\",\\n    ]\\n\\n    data = list(\\n        zip(\\n            list_activation,\\n            list_best_epoch,\\n            list_best_model_path,\\n            list_hp_unit_1,\\n            list_hp_unit_2,\\n            list_hp_unit_3,\\n            list_hp_unit_4,\\n            list_kernel_size_1,\\n            list_kernel_size_2,\\n            list_learning_rate,\\n            list_n_filter_1,\\n            list_n_filter_2,\\n            list_val_mae,\\n            list_val_mse,\\n        )\\n    )\\n\\n    df_resultados = pd.DataFrame(\\n        data,\\n        columns=result_columns,\\n    )\\n\\n    df_resultados.to_csv(f\\\"Resultados_{TYPE_MODEL}_{SAVE_TIME}.csv\\\")\";\n                var nbb_cells = Jupyter.notebook.get_cells();\n                for (var i = 0; i < nbb_cells.length; ++i) {\n                    if (nbb_cells[i].input_prompt_number == nbb_cell_id) {\n                        if (nbb_cells[i].get_text() == nbb_unformatted_code) {\n                             nbb_cells[i].set_text(nbb_formatted_code);\n                        }\n                        break;\n                    }\n                }\n            }, 500);\n            ",
      "text/plain": [
       "<IPython.core.display.Javascript object>"
      ]
     },
     "metadata": {},
     "output_type": "display_data"
    }
   ],
   "source": [
    "def save_df_parameters():\n",
    "    result_columns = [\n",
    "        \"activation\",\n",
    "        \"best_epoch\",\n",
    "        \"best_model_path\",\n",
    "        \"hp_unit_1\",\n",
    "        \"hp_unit_2\",\n",
    "        \"hp_unit_3\",\n",
    "        \"hp_unit_4\",\n",
    "        \"kernel_size_1\",\n",
    "        \"kernel_size_2\",\n",
    "        \"learning_rate\",\n",
    "        \"n_filter_1\",\n",
    "        \"n_filter_2\",\n",
    "        \"val_mae\",\n",
    "        \"val_mse\",\n",
    "    ]\n",
    "\n",
    "    data = list(\n",
    "        zip(\n",
    "            list_activation,\n",
    "            list_best_epoch,\n",
    "            list_best_model_path,\n",
    "            list_hp_unit_1,\n",
    "            list_hp_unit_2,\n",
    "            list_hp_unit_3,\n",
    "            list_hp_unit_4,\n",
    "            list_kernel_size_1,\n",
    "            list_kernel_size_2,\n",
    "            list_learning_rate,\n",
    "            list_n_filter_1,\n",
    "            list_n_filter_2,\n",
    "            list_val_mae,\n",
    "            list_val_mse,\n",
    "        )\n",
    "    )\n",
    "\n",
    "    df_resultados = pd.DataFrame(\n",
    "        data,\n",
    "        columns=result_columns,\n",
    "    )\n",
    "\n",
    "    df_resultados.to_csv(f\"Resultados_{TYPE_MODEL}_{SAVE_TIME}.csv\")"
   ]
  },
  {
   "cell_type": "code",
   "execution_count": 300,
   "metadata": {},
   "outputs": [
    {
     "data": {
      "application/javascript": "\n            setTimeout(function() {\n                var nbb_cell_id = 300;\n                var nbb_unformatted_code = \"def save_parameters():\\n    try:\\n        value_activation = best_hps.get(\\\"activation\\\")\\n    except:\\n        value_activation = None\\n    try:\\n        value_learning_rate = best_hps.get(\\\"learning_rate\\\")\\n    except:\\n        value_learning_rate = None\\n    try:\\n        value_unit_1 = best_hps.get(\\\"unit_1\\\")\\n    except:\\n        value_unit_1 = None\\n    try:\\n        value_unit_2 = best_hps.get(\\\"unit_2\\\")\\n    except:\\n        value_unit_2 = None\\n    try:\\n        value_unit_3 = best_hps.get(\\\"unit_3\\\")\\n    except:\\n        value_unit_3 = None\\n    try:\\n        value_unit_4 = best_hps.get(\\\"unit_4\\\")\\n    except:\\n        value_unit_4 = None\\n    try:\\n        value_kernel_size_1 = best_hps.get(\\\"kernel_size_1\\\")\\n    except:\\n        value_kernel_size_1 = None\\n    try:\\n        value_kernel_size_2 = best_hps.get(\\\"kernel_size_2\\\")\\n    except:\\n        value_kernel_size_2 = None\\n    try:\\n        value_n_filter_1 = best_hps.get(\\\"n_filter_1\\\")\\n    except:\\n        value_n_filter_1 = None\\n    try:\\n        value_n_filter_2 = best_hps.get(\\\"n_filter_2\\\")\\n    except:\\n        value_n_filter_2 = None\\n\\n    \\\"\\\"\\\"\\\"Repeticao MODEL.ipynb\\\"\\\"\\\"\\n\\n    def save_in_list(one_list, value=None):\\n        try:\\n            one_list.append(value)\\n            return one_list\\n        except:\\n            one_list.append(None)\\n            return one_list\\n\\n    save_in_list(list_activation, value_activation)\\n    save_in_list(list_best_epoch, best_epoch)\\n    save_in_list(list_best_model_path, bst_model_path)\\n    save_in_list(list_hp_unit_1, value_unit_1)\\n    save_in_list(list_hp_unit_2, value_unit_2)\\n    save_in_list(list_hp_unit_3, value_unit_3)\\n    save_in_list(list_hp_unit_4, value_unit_4)\\n    save_in_list(list_kernel_size_1, value_kernel_size_1)\\n    save_in_list(list_kernel_size_2, value_kernel_size_2)\\n    save_in_list(list_learning_rate, value_learning_rate)\\n    save_in_list(list_n_filter_1, value_n_filter_1)\\n    save_in_list(list_n_filter_2, value_n_filter_2)\\n    save_in_list(list_val_mae, min(history.history[\\\"val_mae\\\"]))\\n    save_in_list(list_val_mse, min(history.history[\\\"val_mse\\\"]))\";\n                var nbb_formatted_code = \"def save_parameters():\\n    try:\\n        value_activation = best_hps.get(\\\"activation\\\")\\n    except:\\n        value_activation = None\\n    try:\\n        value_learning_rate = best_hps.get(\\\"learning_rate\\\")\\n    except:\\n        value_learning_rate = None\\n    try:\\n        value_unit_1 = best_hps.get(\\\"unit_1\\\")\\n    except:\\n        value_unit_1 = None\\n    try:\\n        value_unit_2 = best_hps.get(\\\"unit_2\\\")\\n    except:\\n        value_unit_2 = None\\n    try:\\n        value_unit_3 = best_hps.get(\\\"unit_3\\\")\\n    except:\\n        value_unit_3 = None\\n    try:\\n        value_unit_4 = best_hps.get(\\\"unit_4\\\")\\n    except:\\n        value_unit_4 = None\\n    try:\\n        value_kernel_size_1 = best_hps.get(\\\"kernel_size_1\\\")\\n    except:\\n        value_kernel_size_1 = None\\n    try:\\n        value_kernel_size_2 = best_hps.get(\\\"kernel_size_2\\\")\\n    except:\\n        value_kernel_size_2 = None\\n    try:\\n        value_n_filter_1 = best_hps.get(\\\"n_filter_1\\\")\\n    except:\\n        value_n_filter_1 = None\\n    try:\\n        value_n_filter_2 = best_hps.get(\\\"n_filter_2\\\")\\n    except:\\n        value_n_filter_2 = None\\n\\n    \\\"\\\"\\\"\\\"Repeticao MODEL.ipynb\\\"\\\"\\\"\\n\\n    def save_in_list(one_list, value=None):\\n        try:\\n            one_list.append(value)\\n            return one_list\\n        except:\\n            one_list.append(None)\\n            return one_list\\n\\n    save_in_list(list_activation, value_activation)\\n    save_in_list(list_best_epoch, best_epoch)\\n    save_in_list(list_best_model_path, bst_model_path)\\n    save_in_list(list_hp_unit_1, value_unit_1)\\n    save_in_list(list_hp_unit_2, value_unit_2)\\n    save_in_list(list_hp_unit_3, value_unit_3)\\n    save_in_list(list_hp_unit_4, value_unit_4)\\n    save_in_list(list_kernel_size_1, value_kernel_size_1)\\n    save_in_list(list_kernel_size_2, value_kernel_size_2)\\n    save_in_list(list_learning_rate, value_learning_rate)\\n    save_in_list(list_n_filter_1, value_n_filter_1)\\n    save_in_list(list_n_filter_2, value_n_filter_2)\\n    save_in_list(list_val_mae, min(history.history[\\\"val_mae\\\"]))\\n    save_in_list(list_val_mse, min(history.history[\\\"val_mse\\\"]))\";\n                var nbb_cells = Jupyter.notebook.get_cells();\n                for (var i = 0; i < nbb_cells.length; ++i) {\n                    if (nbb_cells[i].input_prompt_number == nbb_cell_id) {\n                        if (nbb_cells[i].get_text() == nbb_unformatted_code) {\n                             nbb_cells[i].set_text(nbb_formatted_code);\n                        }\n                        break;\n                    }\n                }\n            }, 500);\n            ",
      "text/plain": [
       "<IPython.core.display.Javascript object>"
      ]
     },
     "metadata": {},
     "output_type": "display_data"
    }
   ],
   "source": [
    "def save_parameters():\n",
    "    try:\n",
    "        value_activation = best_hps.get(\"activation\")\n",
    "    except:\n",
    "        value_activation = None\n",
    "    try:\n",
    "        value_learning_rate = best_hps.get(\"learning_rate\")\n",
    "    except:\n",
    "        value_learning_rate = None\n",
    "    try:\n",
    "        value_unit_1 = best_hps.get(\"unit_1\")\n",
    "    except:\n",
    "        value_unit_1 = None\n",
    "    try:\n",
    "        value_unit_2 = best_hps.get(\"unit_2\")\n",
    "    except:\n",
    "        value_unit_2 = None\n",
    "    try:\n",
    "        value_unit_3 = best_hps.get(\"unit_3\")\n",
    "    except:\n",
    "        value_unit_3 = None\n",
    "    try:\n",
    "        value_unit_4 = best_hps.get(\"unit_4\")\n",
    "    except:\n",
    "        value_unit_4 = None\n",
    "    try:\n",
    "        value_kernel_size_1 = best_hps.get(\"kernel_size_1\")\n",
    "    except:\n",
    "        value_kernel_size_1 = None\n",
    "    try:\n",
    "        value_kernel_size_2 = best_hps.get(\"kernel_size_2\")\n",
    "    except:\n",
    "        value_kernel_size_2 = None\n",
    "    try:\n",
    "        value_n_filter_1 = best_hps.get(\"n_filter_1\")\n",
    "    except:\n",
    "        value_n_filter_1 = None\n",
    "    try:\n",
    "        value_n_filter_2 = best_hps.get(\"n_filter_2\")\n",
    "    except:\n",
    "        value_n_filter_2 = None\n",
    "\n",
    "    \"\"\"\"Repeticao MODEL.ipynb\"\"\"\n",
    "\n",
    "    def save_in_list(one_list, value=None):\n",
    "        try:\n",
    "            one_list.append(value)\n",
    "            return one_list\n",
    "        except:\n",
    "            one_list.append(None)\n",
    "            return one_list\n",
    "\n",
    "    save_in_list(list_activation, value_activation)\n",
    "    save_in_list(list_best_epoch, best_epoch)\n",
    "    save_in_list(list_best_model_path, bst_model_path)\n",
    "    save_in_list(list_hp_unit_1, value_unit_1)\n",
    "    save_in_list(list_hp_unit_2, value_unit_2)\n",
    "    save_in_list(list_hp_unit_3, value_unit_3)\n",
    "    save_in_list(list_hp_unit_4, value_unit_4)\n",
    "    save_in_list(list_kernel_size_1, value_kernel_size_1)\n",
    "    save_in_list(list_kernel_size_2, value_kernel_size_2)\n",
    "    save_in_list(list_learning_rate, value_learning_rate)\n",
    "    save_in_list(list_n_filter_1, value_n_filter_1)\n",
    "    save_in_list(list_n_filter_2, value_n_filter_2)\n",
    "    save_in_list(list_val_mae, min(history.history[\"val_mae\"]))\n",
    "    save_in_list(list_val_mse, min(history.history[\"val_mse\"]))"
   ]
  },
  {
   "cell_type": "markdown",
   "metadata": {},
   "source": [
    "# Definindo o modelo"
   ]
  },
  {
   "cell_type": "code",
   "execution_count": 301,
   "metadata": {},
   "outputs": [
    {
     "data": {
      "application/javascript": "\n            setTimeout(function() {\n                var nbb_cell_id = 301;\n                var nbb_unformatted_code = \"def model_builder(hp):\\n    hp_unit_1 = hp.Int(\\\"unit_1\\\", min_value=16, max_value=64, step=1)\\n    activationL = [\\n        \\\"relu\\\",\\n        \\\"sigmoid\\\",\\n        \\\"softplus\\\",\\n        \\\"softsign\\\",\\n        \\\"tanh\\\",\\n        \\\"selu\\\",\\n        \\\"elu\\\",\\n        \\\"exponential\\\",\\n        \\\"relu\\\",\\n    ]\\n    activation_choice = hp.Choice(\\\"activation\\\", values=activationL)\\n    hp_learning_rate = hp.Choice(\\\"learning_rate\\\", values=[1e-2, 1e-3, 1e-4])\\n\\n    model = keras.models.Sequential(\\n        [\\n            layers.LSTM(\\n                units=hp_unit_1,\\n                return_sequences=True,\\n                input_shape=(36, 1),\\n                activation=activation_choice,\\n            ),\\n            tf.keras.layers.Flatten(),\\n            layers.Dense(units=1, activation=\\\"linear\\\"),\\n        ]\\n    )\\n\\n    model.compile(\\n        optimizer=keras.optimizers.Adam(learning_rate=hp_learning_rate),\\n        loss=\\\"mse\\\",\\n        metrics=[\\\"mae\\\", \\\"mse\\\"],\\n    )\\n\\n    return model\\n\\n\\n# rmse pra avalia\\u00e7\\u00e3o, nao para loss\";\n                var nbb_formatted_code = \"def model_builder(hp):\\n    hp_unit_1 = hp.Int(\\\"unit_1\\\", min_value=16, max_value=64, step=1)\\n    activationL = [\\n        \\\"relu\\\",\\n        \\\"sigmoid\\\",\\n        \\\"softplus\\\",\\n        \\\"softsign\\\",\\n        \\\"tanh\\\",\\n        \\\"selu\\\",\\n        \\\"elu\\\",\\n        \\\"exponential\\\",\\n        \\\"relu\\\",\\n    ]\\n    activation_choice = hp.Choice(\\\"activation\\\", values=activationL)\\n    hp_learning_rate = hp.Choice(\\\"learning_rate\\\", values=[1e-2, 1e-3, 1e-4])\\n\\n    model = keras.models.Sequential(\\n        [\\n            layers.LSTM(\\n                units=hp_unit_1,\\n                return_sequences=True,\\n                input_shape=(36, 1),\\n                activation=activation_choice,\\n            ),\\n            tf.keras.layers.Flatten(),\\n            layers.Dense(units=1, activation=\\\"linear\\\"),\\n        ]\\n    )\\n\\n    model.compile(\\n        optimizer=keras.optimizers.Adam(learning_rate=hp_learning_rate),\\n        loss=\\\"mse\\\",\\n        metrics=[\\\"mae\\\", \\\"mse\\\"],\\n    )\\n\\n    return model\\n\\n\\n# rmse pra avalia\\u00e7\\u00e3o, nao para loss\";\n                var nbb_cells = Jupyter.notebook.get_cells();\n                for (var i = 0; i < nbb_cells.length; ++i) {\n                    if (nbb_cells[i].input_prompt_number == nbb_cell_id) {\n                        if (nbb_cells[i].get_text() == nbb_unformatted_code) {\n                             nbb_cells[i].set_text(nbb_formatted_code);\n                        }\n                        break;\n                    }\n                }\n            }, 500);\n            ",
      "text/plain": [
       "<IPython.core.display.Javascript object>"
      ]
     },
     "metadata": {},
     "output_type": "display_data"
    }
   ],
   "source": [
    "def model_builder(hp):\n",
    "    hp_unit_1 = hp.Int(\"unit_1\", min_value=16, max_value=64, step=1)\n",
    "    activationL = [\n",
    "        \"relu\",\n",
    "        \"sigmoid\",\n",
    "        \"softplus\",\n",
    "        \"softsign\",\n",
    "        \"tanh\",\n",
    "        \"selu\",\n",
    "        \"elu\",\n",
    "        \"exponential\",\n",
    "        \"relu\",\n",
    "    ]\n",
    "    activation_choice = hp.Choice(\"activation\", values=activationL)\n",
    "    hp_learning_rate = hp.Choice(\"learning_rate\", values=[1e-2, 1e-3, 1e-4])\n",
    "\n",
    "    model = keras.models.Sequential(\n",
    "        [\n",
    "            layers.LSTM(\n",
    "                units=hp_unit_1,\n",
    "                return_sequences=True,\n",
    "                input_shape=(36, 1),\n",
    "                activation=activation_choice,\n",
    "            ),\n",
    "            tf.keras.layers.Flatten(),\n",
    "            layers.Dense(units=1, activation=\"linear\"),\n",
    "        ]\n",
    "    )\n",
    "\n",
    "    model.compile(\n",
    "        optimizer=keras.optimizers.Adam(learning_rate=hp_learning_rate),\n",
    "        loss=\"mse\",\n",
    "        metrics=[\"mae\", \"mse\"],\n",
    "    )\n",
    "\n",
    "    return model\n",
    "\n",
    "\n",
    "# rmse pra avaliação, nao para loss"
   ]
  },
  {
   "cell_type": "code",
   "execution_count": 302,
   "metadata": {},
   "outputs": [
    {
     "name": "stdout",
     "output_type": "stream",
     "text": [
      "Model: \"sequential_20\"\n",
      "_________________________________________________________________\n",
      " Layer (type)                Output Shape              Param #   \n",
      "=================================================================\n",
      " lstm_20 (LSTM)              (None, 36, 50)            10400     \n",
      "                                                                 \n",
      " flatten_20 (Flatten)        (None, 1800)              0         \n",
      "                                                                 \n",
      " dense_20 (Dense)            (None, 1)                 1801      \n",
      "                                                                 \n",
      "=================================================================\n",
      "Total params: 12,201\n",
      "Trainable params: 12,201\n",
      "Non-trainable params: 0\n",
      "_________________________________________________________________\n"
     ]
    },
    {
     "data": {
      "application/javascript": "\n            setTimeout(function() {\n                var nbb_cell_id = 302;\n                var nbb_unformatted_code = \"model.summary()\";\n                var nbb_formatted_code = \"model.summary()\";\n                var nbb_cells = Jupyter.notebook.get_cells();\n                for (var i = 0; i < nbb_cells.length; ++i) {\n                    if (nbb_cells[i].input_prompt_number == nbb_cell_id) {\n                        if (nbb_cells[i].get_text() == nbb_unformatted_code) {\n                             nbb_cells[i].set_text(nbb_formatted_code);\n                        }\n                        break;\n                    }\n                }\n            }, 500);\n            ",
      "text/plain": [
       "<IPython.core.display.Javascript object>"
      ]
     },
     "metadata": {},
     "output_type": "display_data"
    }
   ],
   "source": [
    "model.summary()"
   ]
  },
  {
   "cell_type": "markdown",
   "metadata": {},
   "source": [
    "# Instanciando Tuner\n",
    "\n",
    "https://colab.research.google.com/github/tensorflow/docs/blob/master/site/en/tutorials/keras/keras_tuner.ipynb#scrollTo=McO82AXOuxXh"
   ]
  },
  {
   "cell_type": "code",
   "execution_count": null,
   "metadata": {},
   "outputs": [],
   "source": []
  },
  {
   "cell_type": "markdown",
   "metadata": {},
   "source": [
    "# Selecionando a melhor epoca do modelo"
   ]
  },
  {
   "cell_type": "code",
   "execution_count": 303,
   "metadata": {},
   "outputs": [
    {
     "data": {
      "application/javascript": "\n            setTimeout(function() {\n                var nbb_cell_id = 303;\n                var nbb_unformatted_code = \"def experimento():\\n\\n    EPOCHS = 100\\n    TYPE_MODEL = \\\"LSTM\\\"\\n    SAVE_TIME = datetime.datetime.strftime(datetime.datetime.now(), \\\"%y_%m_%d_%Hh%Mm%S\\\")\\n\\n    tuner = kt.Hyperband(\\n        model_builder,\\n        objective=\\\"val_mse\\\",\\n        max_epochs=10,\\n        factor=3,\\n        directory=\\\"logs\\\",\\n        project_name=\\\"hyper_parameters\\\",\\n    )\\n\\n    best_hps = tuner.get_best_hyperparameters(num_trials=20)[0]\\n\\n\\n    bst_model_path = f\\\"Models/{TYPE_MODEL}/model_{save_time}.h5\\\"\\n    model_checkpoint = ModelCheckpoint(\\n        bst_model_path, save_best_only=True, monitor=\\\"val_mse\\\", mode=\\\"min\\\"\\n    )\\n\\n    model = tuner.hypermodel.build(best_hps)\\n    history = model.fit(\\n        train_dataset,\\n        train_labels,\\n        epochs=EPOCHS,\\n        validation_split=0.2,\\n        verbose=0,\\n        callbacks=([model_checkpoint]),\\n    )\\n\\n    # Select the best epoch,\\n    val_mse_per_epoch = history.history[\\\"val_mse\\\"]\\n    best_epoch = val_mse_per_epoch.index(min(val_mse_per_epoch)) + 1\\n\\n    save_parameters()\\n    save_df_parameters()\\n    best_hps = None\";\n                var nbb_formatted_code = \"def experimento():\\n\\n    EPOCHS = 100\\n    TYPE_MODEL = \\\"LSTM\\\"\\n    SAVE_TIME = datetime.datetime.strftime(datetime.datetime.now(), \\\"%y_%m_%d_%Hh%Mm%S\\\")\\n\\n    tuner = kt.Hyperband(\\n        model_builder,\\n        objective=\\\"val_mse\\\",\\n        max_epochs=10,\\n        factor=3,\\n        directory=\\\"logs\\\",\\n        project_name=\\\"hyper_parameters\\\",\\n    )\\n\\n    best_hps = tuner.get_best_hyperparameters(num_trials=20)[0]\\n\\n    bst_model_path = f\\\"Models/{TYPE_MODEL}/model_{save_time}.h5\\\"\\n    model_checkpoint = ModelCheckpoint(\\n        bst_model_path, save_best_only=True, monitor=\\\"val_mse\\\", mode=\\\"min\\\"\\n    )\\n\\n    model = tuner.hypermodel.build(best_hps)\\n    history = model.fit(\\n        train_dataset,\\n        train_labels,\\n        epochs=EPOCHS,\\n        validation_split=0.2,\\n        verbose=0,\\n        callbacks=([model_checkpoint]),\\n    )\\n\\n    # Select the best epoch,\\n    val_mse_per_epoch = history.history[\\\"val_mse\\\"]\\n    best_epoch = val_mse_per_epoch.index(min(val_mse_per_epoch)) + 1\\n\\n    save_parameters()\\n    save_df_parameters()\\n    best_hps = None\";\n                var nbb_cells = Jupyter.notebook.get_cells();\n                for (var i = 0; i < nbb_cells.length; ++i) {\n                    if (nbb_cells[i].input_prompt_number == nbb_cell_id) {\n                        if (nbb_cells[i].get_text() == nbb_unformatted_code) {\n                             nbb_cells[i].set_text(nbb_formatted_code);\n                        }\n                        break;\n                    }\n                }\n            }, 500);\n            ",
      "text/plain": [
       "<IPython.core.display.Javascript object>"
      ]
     },
     "metadata": {},
     "output_type": "display_data"
    }
   ],
   "source": [
    "def experimento():\n",
    "\n",
    "    EPOCHS = 100\n",
    "    TYPE_MODEL = \"LSTM\"\n",
    "    SAVE_TIME = datetime.datetime.strftime(datetime.datetime.now(), \"%y_%m_%d_%Hh%Mm%S\")\n",
    "\n",
    "    tuner = kt.Hyperband(\n",
    "        model_builder,\n",
    "        objective=\"val_mse\",\n",
    "        max_epochs=10,\n",
    "        factor=3,\n",
    "        directory=\"logs\",\n",
    "        project_name=\"hyper_parameters\",\n",
    "    )\n",
    "\n",
    "    best_hps = tuner.get_best_hyperparameters(num_trials=20)[0]\n",
    "\n",
    "    bst_model_path = f\"Models/{TYPE_MODEL}/model_{save_time}.h5\"\n",
    "    model_checkpoint = ModelCheckpoint(\n",
    "        bst_model_path, save_best_only=True, monitor=\"val_mse\", mode=\"min\"\n",
    "    )\n",
    "\n",
    "    model = tuner.hypermodel.build(best_hps)\n",
    "    history = model.fit(\n",
    "        train_dataset,\n",
    "        train_labels,\n",
    "        epochs=EPOCHS,\n",
    "        validation_split=0.2,\n",
    "        verbose=0,\n",
    "        callbacks=([model_checkpoint]),\n",
    "    )\n",
    "\n",
    "    # Select the best epoch,\n",
    "    val_mse_per_epoch = history.history[\"val_mse\"]\n",
    "    best_epoch = val_mse_per_epoch.index(min(val_mse_per_epoch)) + 1\n",
    "\n",
    "    save_parameters()\n",
    "    save_df_parameters()\n",
    "    best_hps = None"
   ]
  },
  {
   "cell_type": "code",
   "execution_count": 304,
   "metadata": {},
   "outputs": [
    {
     "name": "stdout",
     "output_type": "stream",
     "text": [
      "INFO:tensorflow:Reloading Oracle from existing project logs\\hyper_parameters\\oracle.json\n",
      "INFO:tensorflow:Reloading Tuner from logs\\hyper_parameters\\tuner0.json\n",
      "INFO:tensorflow:Reloading Oracle from existing project logs\\hyper_parameters\\oracle.json\n",
      "INFO:tensorflow:Reloading Tuner from logs\\hyper_parameters\\tuner0.json\n",
      "INFO:tensorflow:Reloading Oracle from existing project logs\\hyper_parameters\\oracle.json\n",
      "INFO:tensorflow:Reloading Tuner from logs\\hyper_parameters\\tuner0.json\n",
      "INFO:tensorflow:Reloading Oracle from existing project logs\\hyper_parameters\\oracle.json\n",
      "INFO:tensorflow:Reloading Tuner from logs\\hyper_parameters\\tuner0.json\n",
      "INFO:tensorflow:Reloading Oracle from existing project logs\\hyper_parameters\\oracle.json\n",
      "INFO:tensorflow:Reloading Tuner from logs\\hyper_parameters\\tuner0.json\n",
      "INFO:tensorflow:Reloading Oracle from existing project logs\\hyper_parameters\\oracle.json\n",
      "INFO:tensorflow:Reloading Tuner from logs\\hyper_parameters\\tuner0.json\n",
      "INFO:tensorflow:Reloading Oracle from existing project logs\\hyper_parameters\\oracle.json\n",
      "INFO:tensorflow:Reloading Tuner from logs\\hyper_parameters\\tuner0.json\n",
      "INFO:tensorflow:Reloading Oracle from existing project logs\\hyper_parameters\\oracle.json\n",
      "INFO:tensorflow:Reloading Tuner from logs\\hyper_parameters\\tuner0.json\n",
      "INFO:tensorflow:Reloading Oracle from existing project logs\\hyper_parameters\\oracle.json\n",
      "INFO:tensorflow:Reloading Tuner from logs\\hyper_parameters\\tuner0.json\n",
      "INFO:tensorflow:Reloading Oracle from existing project logs\\hyper_parameters\\oracle.json\n",
      "INFO:tensorflow:Reloading Tuner from logs\\hyper_parameters\\tuner0.json\n"
     ]
    },
    {
     "data": {
      "application/javascript": "\n            setTimeout(function() {\n                var nbb_cell_id = 304;\n                var nbb_unformatted_code = \"for i in range(10):\\n\\texperimento()\";\n                var nbb_formatted_code = \"for i in range(10):\\n    experimento()\";\n                var nbb_cells = Jupyter.notebook.get_cells();\n                for (var i = 0; i < nbb_cells.length; ++i) {\n                    if (nbb_cells[i].input_prompt_number == nbb_cell_id) {\n                        if (nbb_cells[i].get_text() == nbb_unformatted_code) {\n                             nbb_cells[i].set_text(nbb_formatted_code);\n                        }\n                        break;\n                    }\n                }\n            }, 500);\n            ",
      "text/plain": [
       "<IPython.core.display.Javascript object>"
      ]
     },
     "metadata": {},
     "output_type": "display_data"
    }
   ],
   "source": [
    "for i in range(10):\n",
    "    experimento()"
   ]
  },
  {
   "cell_type": "code",
   "execution_count": 318,
   "metadata": {},
   "outputs": [
    {
     "name": "stdout",
     "output_type": "stream",
     "text": [
      "Best epoch: 62\n",
      "val_mae: 0.17023776471614838\n",
      "val_mse: 0.04667561128735542\n",
      "unit_1: 50\n",
      "unit_2: 19\n",
      "unit_3: 12\n",
      "unit_4: 21\n",
      "learning_rate: 0.01\n",
      "activation: elu\n"
     ]
    },
    {
     "data": {
      "application/javascript": "\n            setTimeout(function() {\n                var nbb_cell_id = 318;\n                var nbb_unformatted_code = \"print(\\\"Best epoch: %d\\\" % (best_epoch,))\\nprint(f'val_mae: {min(history.history[\\\"val_mae\\\"])}')\\nprint(f'val_mse: {min(history.history[\\\"val_mse\\\"])}')\\n\\nprint(f'unit_1: {best_hps.get(\\\"unit_1\\\")}')\\nprint(f'unit_2: {best_hps.get(\\\"unit_2\\\")}')\\nprint(f'unit_3: {best_hps.get(\\\"unit_3\\\")}')\\nprint(f'unit_4: {best_hps.get(\\\"unit_4\\\")}')\\nprint(f'learning_rate: {best_hps.get(\\\"learning_rate\\\")}')\\nprint(f'activation: {best_hps.get(\\\"activation\\\")}')\";\n                var nbb_formatted_code = \"print(\\\"Best epoch: %d\\\" % (best_epoch,))\\nprint(f'val_mae: {min(history.history[\\\"val_mae\\\"])}')\\nprint(f'val_mse: {min(history.history[\\\"val_mse\\\"])}')\\n\\nprint(f'unit_1: {best_hps.get(\\\"unit_1\\\")}')\\nprint(f'unit_2: {best_hps.get(\\\"unit_2\\\")}')\\nprint(f'unit_3: {best_hps.get(\\\"unit_3\\\")}')\\nprint(f'unit_4: {best_hps.get(\\\"unit_4\\\")}')\\nprint(f'learning_rate: {best_hps.get(\\\"learning_rate\\\")}')\\nprint(f'activation: {best_hps.get(\\\"activation\\\")}')\";\n                var nbb_cells = Jupyter.notebook.get_cells();\n                for (var i = 0; i < nbb_cells.length; ++i) {\n                    if (nbb_cells[i].input_prompt_number == nbb_cell_id) {\n                        if (nbb_cells[i].get_text() == nbb_unformatted_code) {\n                             nbb_cells[i].set_text(nbb_formatted_code);\n                        }\n                        break;\n                    }\n                }\n            }, 500);\n            ",
      "text/plain": [
       "<IPython.core.display.Javascript object>"
      ]
     },
     "metadata": {},
     "output_type": "display_data"
    }
   ],
   "source": [
    "print(\"Best epoch: %d\" % (best_epoch,))\n",
    "print(f'val_mae: {min(history.history[\"val_mae\"])}')\n",
    "print(f'val_mse: {min(history.history[\"val_mse\"])}')\n",
    "\n",
    "print(f'unit_1: {best_hps.get(\"unit_1\")}')\n",
    "print(f'unit_2: {best_hps.get(\"unit_2\")}')\n",
    "print(f'unit_3: {best_hps.get(\"unit_3\")}')\n",
    "print(f'unit_4: {best_hps.get(\"unit_4\")}')\n",
    "print(f'learning_rate: {best_hps.get(\"learning_rate\")}')\n",
    "print(f'activation: {best_hps.get(\"activation\")}')"
   ]
  },
  {
   "cell_type": "markdown",
   "metadata": {},
   "source": [
    "# Treinando modelo"
   ]
  },
  {
   "cell_type": "code",
   "execution_count": 306,
   "metadata": {},
   "outputs": [
    {
     "name": "stdout",
     "output_type": "stream",
     "text": [
      "15/15 [==============================] - 0s 11ms/step - loss: 0.1603 - mae: 0.2307 - mse: 0.1603\n",
      "[test loss, test accuracy]: [0.1603052318096161, 0.23070579767227173, 0.1603052318096161]\n"
     ]
    },
    {
     "data": {
      "application/javascript": "\n            setTimeout(function() {\n                var nbb_cell_id = 306;\n                var nbb_unformatted_code = \"eval_result = model.evaluate(test_dataset, test_labels)\\nprint(\\\"[test loss, test accuracy]:\\\", eval_result)\";\n                var nbb_formatted_code = \"eval_result = model.evaluate(test_dataset, test_labels)\\nprint(\\\"[test loss, test accuracy]:\\\", eval_result)\";\n                var nbb_cells = Jupyter.notebook.get_cells();\n                for (var i = 0; i < nbb_cells.length; ++i) {\n                    if (nbb_cells[i].input_prompt_number == nbb_cell_id) {\n                        if (nbb_cells[i].get_text() == nbb_unformatted_code) {\n                             nbb_cells[i].set_text(nbb_formatted_code);\n                        }\n                        break;\n                    }\n                }\n            }, 500);\n            ",
      "text/plain": [
       "<IPython.core.display.Javascript object>"
      ]
     },
     "metadata": {},
     "output_type": "display_data"
    }
   ],
   "source": [
    "eval_result = model.evaluate(test_dataset, test_labels)\n",
    "print(\"[test loss, test accuracy]:\", eval_result)"
   ]
  },
  {
   "cell_type": "markdown",
   "metadata": {},
   "source": [
    "# Avaliando o modelo"
   ]
  },
  {
   "cell_type": "code",
   "execution_count": 307,
   "metadata": {},
   "outputs": [
    {
     "data": {
      "application/javascript": "\n            setTimeout(function() {\n                var nbb_cell_id = 307;\n                var nbb_unformatted_code = \"# print(f'train_dataset: {train_dataset.columns()} \\\\n')\\n# print(f'valid_dataset: {valid_dataset.columns()} \\\\n')\\n# print(f'test_dataset: {test_dataset.columns()} \\\\n')\";\n                var nbb_formatted_code = \"# print(f'train_dataset: {train_dataset.columns()} \\\\n')\\n# print(f'valid_dataset: {valid_dataset.columns()} \\\\n')\\n# print(f'test_dataset: {test_dataset.columns()} \\\\n')\";\n                var nbb_cells = Jupyter.notebook.get_cells();\n                for (var i = 0; i < nbb_cells.length; ++i) {\n                    if (nbb_cells[i].input_prompt_number == nbb_cell_id) {\n                        if (nbb_cells[i].get_text() == nbb_unformatted_code) {\n                             nbb_cells[i].set_text(nbb_formatted_code);\n                        }\n                        break;\n                    }\n                }\n            }, 500);\n            ",
      "text/plain": [
       "<IPython.core.display.Javascript object>"
      ]
     },
     "metadata": {},
     "output_type": "display_data"
    }
   ],
   "source": [
    "# print(f'train_dataset: {train_dataset.columns()} \\n')\n",
    "# print(f'valid_dataset: {valid_dataset.columns()} \\n')\n",
    "# print(f'test_dataset: {test_dataset.columns()} \\n')"
   ]
  },
  {
   "cell_type": "code",
   "execution_count": 308,
   "metadata": {},
   "outputs": [
    {
     "data": {
      "text/html": [
       "<div>\n",
       "<style scoped>\n",
       "    .dataframe tbody tr th:only-of-type {\n",
       "        vertical-align: middle;\n",
       "    }\n",
       "\n",
       "    .dataframe tbody tr th {\n",
       "        vertical-align: top;\n",
       "    }\n",
       "\n",
       "    .dataframe thead th {\n",
       "        text-align: right;\n",
       "    }\n",
       "</style>\n",
       "<table border=\"1\" class=\"dataframe\">\n",
       "  <thead>\n",
       "    <tr style=\"text-align: right;\">\n",
       "      <th></th>\n",
       "      <th>loss</th>\n",
       "      <th>mae</th>\n",
       "      <th>mse</th>\n",
       "      <th>val_loss</th>\n",
       "      <th>val_mae</th>\n",
       "      <th>val_mse</th>\n",
       "      <th>epoch</th>\n",
       "    </tr>\n",
       "  </thead>\n",
       "  <tbody>\n",
       "    <tr>\n",
       "      <th>95</th>\n",
       "      <td>0.056616</td>\n",
       "      <td>0.182212</td>\n",
       "      <td>0.056616</td>\n",
       "      <td>0.060151</td>\n",
       "      <td>0.191861</td>\n",
       "      <td>0.060151</td>\n",
       "      <td>95</td>\n",
       "    </tr>\n",
       "    <tr>\n",
       "      <th>96</th>\n",
       "      <td>0.057042</td>\n",
       "      <td>0.182599</td>\n",
       "      <td>0.057042</td>\n",
       "      <td>0.046931</td>\n",
       "      <td>0.172054</td>\n",
       "      <td>0.046931</td>\n",
       "      <td>96</td>\n",
       "    </tr>\n",
       "    <tr>\n",
       "      <th>97</th>\n",
       "      <td>0.056900</td>\n",
       "      <td>0.181726</td>\n",
       "      <td>0.056900</td>\n",
       "      <td>0.059410</td>\n",
       "      <td>0.195278</td>\n",
       "      <td>0.059410</td>\n",
       "      <td>97</td>\n",
       "    </tr>\n",
       "    <tr>\n",
       "      <th>98</th>\n",
       "      <td>0.053468</td>\n",
       "      <td>0.175069</td>\n",
       "      <td>0.053468</td>\n",
       "      <td>0.053980</td>\n",
       "      <td>0.176990</td>\n",
       "      <td>0.053980</td>\n",
       "      <td>98</td>\n",
       "    </tr>\n",
       "    <tr>\n",
       "      <th>99</th>\n",
       "      <td>0.052945</td>\n",
       "      <td>0.174942</td>\n",
       "      <td>0.052945</td>\n",
       "      <td>0.059838</td>\n",
       "      <td>0.190011</td>\n",
       "      <td>0.059838</td>\n",
       "      <td>99</td>\n",
       "    </tr>\n",
       "  </tbody>\n",
       "</table>\n",
       "</div>"
      ],
      "text/plain": [
       "        loss       mae       mse  val_loss   val_mae   val_mse  epoch\n",
       "95  0.056616  0.182212  0.056616  0.060151  0.191861  0.060151     95\n",
       "96  0.057042  0.182599  0.057042  0.046931  0.172054  0.046931     96\n",
       "97  0.056900  0.181726  0.056900  0.059410  0.195278  0.059410     97\n",
       "98  0.053468  0.175069  0.053468  0.053980  0.176990  0.053980     98\n",
       "99  0.052945  0.174942  0.052945  0.059838  0.190011  0.059838     99"
      ]
     },
     "execution_count": 308,
     "metadata": {},
     "output_type": "execute_result"
    },
    {
     "data": {
      "application/javascript": "\n            setTimeout(function() {\n                var nbb_cell_id = 308;\n                var nbb_unformatted_code = \"hist = pd.DataFrame(history.history)\\nhist[\\\"epoch\\\"] = history.epoch\\nhist.tail()\";\n                var nbb_formatted_code = \"hist = pd.DataFrame(history.history)\\nhist[\\\"epoch\\\"] = history.epoch\\nhist.tail()\";\n                var nbb_cells = Jupyter.notebook.get_cells();\n                for (var i = 0; i < nbb_cells.length; ++i) {\n                    if (nbb_cells[i].input_prompt_number == nbb_cell_id) {\n                        if (nbb_cells[i].get_text() == nbb_unformatted_code) {\n                             nbb_cells[i].set_text(nbb_formatted_code);\n                        }\n                        break;\n                    }\n                }\n            }, 500);\n            ",
      "text/plain": [
       "<IPython.core.display.Javascript object>"
      ]
     },
     "metadata": {},
     "output_type": "display_data"
    }
   ],
   "source": [
    "hist = pd.DataFrame(history.history)\n",
    "hist[\"epoch\"] = history.epoch\n",
    "hist.tail()"
   ]
  },
  {
   "cell_type": "code",
   "execution_count": 309,
   "metadata": {},
   "outputs": [
    {
     "name": "stdout",
     "output_type": "stream",
     "text": [
      "Min MSE: 0.05294451490044594\n",
      "Min Val_MSE: 0.04667561128735542\n"
     ]
    },
    {
     "data": {
      "application/javascript": "\n            setTimeout(function() {\n                var nbb_cell_id = 309;\n                var nbb_unformatted_code = \"print(f\\\"Min MSE: {hist.mse.min()}\\\")\\nprint(f\\\"Min Val_MSE: {hist.val_mse.min()}\\\")\";\n                var nbb_formatted_code = \"print(f\\\"Min MSE: {hist.mse.min()}\\\")\\nprint(f\\\"Min Val_MSE: {hist.val_mse.min()}\\\")\";\n                var nbb_cells = Jupyter.notebook.get_cells();\n                for (var i = 0; i < nbb_cells.length; ++i) {\n                    if (nbb_cells[i].input_prompt_number == nbb_cell_id) {\n                        if (nbb_cells[i].get_text() == nbb_unformatted_code) {\n                             nbb_cells[i].set_text(nbb_formatted_code);\n                        }\n                        break;\n                    }\n                }\n            }, 500);\n            ",
      "text/plain": [
       "<IPython.core.display.Javascript object>"
      ]
     },
     "metadata": {},
     "output_type": "display_data"
    }
   ],
   "source": [
    "print(f\"Min MSE: {hist.mse.min()}\")\n",
    "print(f\"Min Val_MSE: {hist.val_mse.min()}\")"
   ]
  },
  {
   "cell_type": "code",
   "execution_count": 310,
   "metadata": {},
   "outputs": [
    {
     "data": {
      "image/png": "[encoded data removed]",
      "text/plain": [
       "<Figure size 432x288 with 1 Axes>"
      ]
     },
     "metadata": {
      "needs_background": "light"
     },
     "output_type": "display_data"
    },
    {
     "data": {
      "image/png": "[encoded data removed]",
      "text/plain": [
       "<Figure size 432x288 with 1 Axes>"
      ]
     },
     "metadata": {
      "needs_background": "light"
     },
     "output_type": "display_data"
    },
    {
     "data": {
      "application/javascript": "\n            setTimeout(function() {\n                var nbb_cell_id = 310;\n                var nbb_unformatted_code = \"def plot_history(history):\\n    hist = pd.DataFrame(history.history)\\n    hist[\\\"epoch\\\"] = history.epoch\\n\\n    plt.figure()\\n    plt.xlabel(\\\"Epoch\\\")\\n    plt.ylabel(\\\"Mean Abs Error [ibova_0]\\\")\\n    plt.plot(hist[\\\"epoch\\\"], hist[\\\"mae\\\"], label=\\\"Train Error\\\")\\n    plt.plot(hist[\\\"epoch\\\"], hist[\\\"val_mae\\\"], label=\\\"Val Error\\\")\\n    plt.ylim([0, 1])\\n    plt.legend()\\n\\n    plt.figure()\\n    plt.xlabel(\\\"Epoch\\\")\\n    plt.ylabel(\\\"Mean Square Error [$ibova_0^2$]\\\")\\n    plt.plot(hist[\\\"epoch\\\"], hist[\\\"mse\\\"], label=\\\"Train Error\\\")\\n    plt.plot(hist[\\\"epoch\\\"], hist[\\\"val_mse\\\"], label=\\\"Val Error\\\")\\n    plt.ylim([0, 1])\\n    plt.legend()\\n    plt.show()\\n\\n\\nplot_history(history)\";\n                var nbb_formatted_code = \"def plot_history(history):\\n    hist = pd.DataFrame(history.history)\\n    hist[\\\"epoch\\\"] = history.epoch\\n\\n    plt.figure()\\n    plt.xlabel(\\\"Epoch\\\")\\n    plt.ylabel(\\\"Mean Abs Error [ibova_0]\\\")\\n    plt.plot(hist[\\\"epoch\\\"], hist[\\\"mae\\\"], label=\\\"Train Error\\\")\\n    plt.plot(hist[\\\"epoch\\\"], hist[\\\"val_mae\\\"], label=\\\"Val Error\\\")\\n    plt.ylim([0, 1])\\n    plt.legend()\\n\\n    plt.figure()\\n    plt.xlabel(\\\"Epoch\\\")\\n    plt.ylabel(\\\"Mean Square Error [$ibova_0^2$]\\\")\\n    plt.plot(hist[\\\"epoch\\\"], hist[\\\"mse\\\"], label=\\\"Train Error\\\")\\n    plt.plot(hist[\\\"epoch\\\"], hist[\\\"val_mse\\\"], label=\\\"Val Error\\\")\\n    plt.ylim([0, 1])\\n    plt.legend()\\n    plt.show()\\n\\n\\nplot_history(history)\";\n                var nbb_cells = Jupyter.notebook.get_cells();\n                for (var i = 0; i < nbb_cells.length; ++i) {\n                    if (nbb_cells[i].input_prompt_number == nbb_cell_id) {\n                        if (nbb_cells[i].get_text() == nbb_unformatted_code) {\n                             nbb_cells[i].set_text(nbb_formatted_code);\n                        }\n                        break;\n                    }\n                }\n            }, 500);\n            ",
      "text/plain": [
       "<IPython.core.display.Javascript object>"
      ]
     },
     "metadata": {},
     "output_type": "display_data"
    }
   ],
   "source": [
    "def plot_history(history):\n",
    "    hist = pd.DataFrame(history.history)\n",
    "    hist[\"epoch\"] = history.epoch\n",
    "\n",
    "    plt.figure()\n",
    "    plt.xlabel(\"Epoch\")\n",
    "    plt.ylabel(\"Mean Abs Error [ibova_0]\")\n",
    "    plt.plot(hist[\"epoch\"], hist[\"mae\"], label=\"Train Error\")\n",
    "    plt.plot(hist[\"epoch\"], hist[\"val_mae\"], label=\"Val Error\")\n",
    "    plt.ylim([0, 1])\n",
    "    plt.legend()\n",
    "\n",
    "    plt.figure()\n",
    "    plt.xlabel(\"Epoch\")\n",
    "    plt.ylabel(\"Mean Square Error [$ibova_0^2$]\")\n",
    "    plt.plot(hist[\"epoch\"], hist[\"mse\"], label=\"Train Error\")\n",
    "    plt.plot(hist[\"epoch\"], hist[\"val_mse\"], label=\"Val Error\")\n",
    "    plt.ylim([0, 1])\n",
    "    plt.legend()\n",
    "    plt.show()\n",
    "\n",
    "\n",
    "plot_history(history)"
   ]
  },
  {
   "cell_type": "markdown",
   "metadata": {},
   "source": [
    "# Realizando as previsões"
   ]
  },
  {
   "cell_type": "code",
   "execution_count": 311,
   "metadata": {},
   "outputs": [
    {
     "name": "stdout",
     "output_type": "stream",
     "text": [
      "15/15 [==============================] - 0s 9ms/step\n"
     ]
    },
    {
     "data": {
      "application/javascript": "\n            setTimeout(function() {\n                var nbb_cell_id = 311;\n                var nbb_unformatted_code = \"test_predictions = model.predict(test_dataset).flatten()\";\n                var nbb_formatted_code = \"test_predictions = model.predict(test_dataset).flatten()\";\n                var nbb_cells = Jupyter.notebook.get_cells();\n                for (var i = 0; i < nbb_cells.length; ++i) {\n                    if (nbb_cells[i].input_prompt_number == nbb_cell_id) {\n                        if (nbb_cells[i].get_text() == nbb_unformatted_code) {\n                             nbb_cells[i].set_text(nbb_formatted_code);\n                        }\n                        break;\n                    }\n                }\n            }, 500);\n            ",
      "text/plain": [
       "<IPython.core.display.Javascript object>"
      ]
     },
     "metadata": {},
     "output_type": "display_data"
    }
   ],
   "source": [
    "test_predictions = model.predict(test_dataset).flatten()"
   ]
  },
  {
   "cell_type": "markdown",
   "metadata": {},
   "source": [
    "# Avaliando as previsões:"
   ]
  },
  {
   "cell_type": "code",
   "execution_count": 312,
   "metadata": {},
   "outputs": [
    {
     "data": {
      "application/javascript": "\n            setTimeout(function() {\n                var nbb_cell_id = 312;\n                var nbb_unformatted_code = \"def show_test_labels():\\n    # Imprimindo valores reais\\n    plt.plot(test_labels, color=\\\"r\\\", label=\\\"ibova_REAL\\\")\\n    plt.xlabel(\\\"Dates\\\")\\n    plt.ylabel(\\\"Variation ROC\\\")\\n    plt.title(\\\"ibova_REAL\\\")\\n    plt.legend()\\n\\n\\ndef show_model_predictions():\\n    # Imprimindo previsoes\\n    plt.plot(test_predictions, color=\\\"g\\\", label=\\\"predictions_MODEL\\\")\\n    plt.xlabel(\\\"Dates\\\")\\n    plt.ylabel(\\\"Variation ROC\\\")\\n    plt.title(\\\"predictions_MODEL\\\")\\n    plt.legend()\\n\\n\\ndef show_compare_graph():\\n    # Predictt X Real values\\n    plt.plot(test_labels, color=\\\"r\\\", label=\\\"ibova_REAL\\\")\\n    plt.plot(test_predictions, color=\\\"g\\\", label=\\\"predictions_MODEL\\\")\\n    plt.xlabel(\\\"Dates\\\")\\n    plt.ylabel(\\\"Variation ROC\\\")\\n    plt.title(\\\"Predict X Real values\\\")\\n    plt.legend()\\n    plt.show()\\n\\n\\ndef show_true_predict_values():\\n    plt.figure(figsize=(24, 4))\\n    plt.scatter(test_labels, test_predictions)\\n    plt.xlabel(\\\"True Values [ibova_0]\\\")\\n    plt.ylabel(\\\"Predictions [ibova_0]\\\")\\n    plt.axis(\\\"equal\\\")\\n    plt.axis(\\\"square\\\")\\n    plt.xlim([0, plt.xlim()[1]])\\n    plt.ylim([0, plt.ylim()[1]])\\n    _ = plt.plot([-100, 100], [-100, 100])\";\n                var nbb_formatted_code = \"def show_test_labels():\\n    # Imprimindo valores reais\\n    plt.plot(test_labels, color=\\\"r\\\", label=\\\"ibova_REAL\\\")\\n    plt.xlabel(\\\"Dates\\\")\\n    plt.ylabel(\\\"Variation ROC\\\")\\n    plt.title(\\\"ibova_REAL\\\")\\n    plt.legend()\\n\\n\\ndef show_model_predictions():\\n    # Imprimindo previsoes\\n    plt.plot(test_predictions, color=\\\"g\\\", label=\\\"predictions_MODEL\\\")\\n    plt.xlabel(\\\"Dates\\\")\\n    plt.ylabel(\\\"Variation ROC\\\")\\n    plt.title(\\\"predictions_MODEL\\\")\\n    plt.legend()\\n\\n\\ndef show_compare_graph():\\n    # Predictt X Real values\\n    plt.plot(test_labels, color=\\\"r\\\", label=\\\"ibova_REAL\\\")\\n    plt.plot(test_predictions, color=\\\"g\\\", label=\\\"predictions_MODEL\\\")\\n    plt.xlabel(\\\"Dates\\\")\\n    plt.ylabel(\\\"Variation ROC\\\")\\n    plt.title(\\\"Predict X Real values\\\")\\n    plt.legend()\\n    plt.show()\\n\\n\\ndef show_true_predict_values():\\n    plt.figure(figsize=(24, 4))\\n    plt.scatter(test_labels, test_predictions)\\n    plt.xlabel(\\\"True Values [ibova_0]\\\")\\n    plt.ylabel(\\\"Predictions [ibova_0]\\\")\\n    plt.axis(\\\"equal\\\")\\n    plt.axis(\\\"square\\\")\\n    plt.xlim([0, plt.xlim()[1]])\\n    plt.ylim([0, plt.ylim()[1]])\\n    _ = plt.plot([-100, 100], [-100, 100])\";\n                var nbb_cells = Jupyter.notebook.get_cells();\n                for (var i = 0; i < nbb_cells.length; ++i) {\n                    if (nbb_cells[i].input_prompt_number == nbb_cell_id) {\n                        if (nbb_cells[i].get_text() == nbb_unformatted_code) {\n                             nbb_cells[i].set_text(nbb_formatted_code);\n                        }\n                        break;\n                    }\n                }\n            }, 500);\n            ",
      "text/plain": [
       "<IPython.core.display.Javascript object>"
      ]
     },
     "metadata": {},
     "output_type": "display_data"
    }
   ],
   "source": [
    "def show_test_labels():\n",
    "    # Imprimindo valores reais\n",
    "    plt.plot(test_labels, color=\"r\", label=\"ibova_REAL\")\n",
    "    plt.xlabel(\"Dates\")\n",
    "    plt.ylabel(\"Variation ROC\")\n",
    "    plt.title(\"ibova_REAL\")\n",
    "    plt.legend()\n",
    "\n",
    "\n",
    "def show_model_predictions():\n",
    "    # Imprimindo previsoes\n",
    "    plt.plot(test_predictions, color=\"g\", label=\"predictions_MODEL\")\n",
    "    plt.xlabel(\"Dates\")\n",
    "    plt.ylabel(\"Variation ROC\")\n",
    "    plt.title(\"predictions_MODEL\")\n",
    "    plt.legend()\n",
    "\n",
    "\n",
    "def show_compare_graph():\n",
    "    # Predictt X Real values\n",
    "    plt.plot(test_labels, color=\"r\", label=\"ibova_REAL\")\n",
    "    plt.plot(test_predictions, color=\"g\", label=\"predictions_MODEL\")\n",
    "    plt.xlabel(\"Dates\")\n",
    "    plt.ylabel(\"Variation ROC\")\n",
    "    plt.title(\"Predict X Real values\")\n",
    "    plt.legend()\n",
    "    plt.show()\n",
    "\n",
    "\n",
    "def show_true_predict_values():\n",
    "    plt.figure(figsize=(24, 4))\n",
    "    plt.scatter(test_labels, test_predictions)\n",
    "    plt.xlabel(\"True Values [ibova_0]\")\n",
    "    plt.ylabel(\"Predictions [ibova_0]\")\n",
    "    plt.axis(\"equal\")\n",
    "    plt.axis(\"square\")\n",
    "    plt.xlim([0, plt.xlim()[1]])\n",
    "    plt.ylim([0, plt.ylim()[1]])\n",
    "    _ = plt.plot([-100, 100], [-100, 100])"
   ]
  },
  {
   "cell_type": "code",
   "execution_count": 313,
   "metadata": {},
   "outputs": [
    {
     "data": {
      "image/png": "[encoded data removed]",
      "text/plain": [
       "<Figure size 432x288 with 1 Axes>"
      ]
     },
     "metadata": {
      "needs_background": "light"
     },
     "output_type": "display_data"
    },
    {
     "data": {
      "application/javascript": "\n            setTimeout(function() {\n                var nbb_cell_id = 313;\n                var nbb_unformatted_code = \"show_compare_graph()\";\n                var nbb_formatted_code = \"show_compare_graph()\";\n                var nbb_cells = Jupyter.notebook.get_cells();\n                for (var i = 0; i < nbb_cells.length; ++i) {\n                    if (nbb_cells[i].input_prompt_number == nbb_cell_id) {\n                        if (nbb_cells[i].get_text() == nbb_unformatted_code) {\n                             nbb_cells[i].set_text(nbb_formatted_code);\n                        }\n                        break;\n                    }\n                }\n            }, 500);\n            ",
      "text/plain": [
       "<IPython.core.display.Javascript object>"
      ]
     },
     "metadata": {},
     "output_type": "display_data"
    }
   ],
   "source": [
    "show_compare_graph()"
   ]
  },
  {
   "cell_type": "code",
   "execution_count": 314,
   "metadata": {},
   "outputs": [
    {
     "data": {
      "image/png": "[encoded data removed]",
      "text/plain": [
       "<Figure size 432x288 with 1 Axes>"
      ]
     },
     "metadata": {
      "needs_background": "light"
     },
     "output_type": "display_data"
    },
    {
     "data": {
      "application/javascript": "\n            setTimeout(function() {\n                var nbb_cell_id = 314;\n                var nbb_unformatted_code = \"show_model_predictions()\";\n                var nbb_formatted_code = \"show_model_predictions()\";\n                var nbb_cells = Jupyter.notebook.get_cells();\n                for (var i = 0; i < nbb_cells.length; ++i) {\n                    if (nbb_cells[i].input_prompt_number == nbb_cell_id) {\n                        if (nbb_cells[i].get_text() == nbb_unformatted_code) {\n                             nbb_cells[i].set_text(nbb_formatted_code);\n                        }\n                        break;\n                    }\n                }\n            }, 500);\n            ",
      "text/plain": [
       "<IPython.core.display.Javascript object>"
      ]
     },
     "metadata": {},
     "output_type": "display_data"
    }
   ],
   "source": [
    "show_model_predictions()"
   ]
  },
  {
   "cell_type": "code",
   "execution_count": 315,
   "metadata": {},
   "outputs": [
    {
     "data": {
      "application/javascript": "\n            setTimeout(function() {\n                var nbb_cell_id = 315;\n                var nbb_unformatted_code = \"model_name = f'mlp_unit_1({best_hps.get(\\\"unit_1\\\")})unit_2({best_hps.get(\\\"unit_2\\\")})unit_3({best_hps.get(\\\"unit_3\\\")})unit_4({best_hps.get(\\\"unit_4\\\")})_learning({best_hps.get(\\\"learning_rate\\\")})_activation({best_hps.get(\\\"activation\\\")})'\\nmodel_name\\nmodel.save(f\\\"models/LSTM/{model_name}date_{save_time}.h5\\\")\";\n                var nbb_formatted_code = \"model_name = f'mlp_unit_1({best_hps.get(\\\"unit_1\\\")})unit_2({best_hps.get(\\\"unit_2\\\")})unit_3({best_hps.get(\\\"unit_3\\\")})unit_4({best_hps.get(\\\"unit_4\\\")})_learning({best_hps.get(\\\"learning_rate\\\")})_activation({best_hps.get(\\\"activation\\\")})'\\nmodel_name\\nmodel.save(f\\\"models/LSTM/{model_name}date_{save_time}.h5\\\")\";\n                var nbb_cells = Jupyter.notebook.get_cells();\n                for (var i = 0; i < nbb_cells.length; ++i) {\n                    if (nbb_cells[i].input_prompt_number == nbb_cell_id) {\n                        if (nbb_cells[i].get_text() == nbb_unformatted_code) {\n                             nbb_cells[i].set_text(nbb_formatted_code);\n                        }\n                        break;\n                    }\n                }\n            }, 500);\n            ",
      "text/plain": [
       "<IPython.core.display.Javascript object>"
      ]
     },
     "metadata": {},
     "output_type": "display_data"
    }
   ],
   "source": [
    "model_name = f'mlp_unit_1({best_hps.get(\"unit_1\")})unit_2({best_hps.get(\"unit_2\")})unit_3({best_hps.get(\"unit_3\")})unit_4({best_hps.get(\"unit_4\")})_learning({best_hps.get(\"learning_rate\")})_activation({best_hps.get(\"activation\")})'\n",
    "model_name\n",
    "model.save(f\"models/LSTM/{model_name}date_{save_time}.h5\")"
   ]
  },
  {
   "cell_type": "code",
   "execution_count": 316,
   "metadata": {},
   "outputs": [
    {
     "name": "stdout",
     "output_type": "stream",
     "text": [
      "Massa de predição: 0.04041365161538124\n"
     ]
    },
    {
     "ename": "NameError",
     "evalue": "name 'ibova_test' is not defined",
     "output_type": "error",
     "traceback": [
      "\u001b[1;31m---------------------------------------------------------------------------\u001b[0m",
      "\u001b[1;31mNameError\u001b[0m                                 Traceback (most recent call last)",
      "\u001b[1;32mc:\\Users\\arthu\\Documents\\GitHub\\TCC_Stock_Predictions\\Model\\Model_LSTM.ipynb Cell 38\u001b[0m in \u001b[0;36m<cell line: 4>\u001b[1;34m()\u001b[0m\n\u001b[0;32m      <a href='vscode-notebook-cell:/c%3A/Users/arthu/Documents/GitHub/TCC_Stock_Predictions/Model/Model_LSTM.ipynb#X54sZmlsZQ%3D%3D?line=0'>1</a>\u001b[0m \u001b[39m# Analisando Medias:\u001b[39;00m\n\u001b[0;32m      <a href='vscode-notebook-cell:/c%3A/Users/arthu/Documents/GitHub/TCC_Stock_Predictions/Model/Model_LSTM.ipynb#X54sZmlsZQ%3D%3D?line=2'>3</a>\u001b[0m \u001b[39mprint\u001b[39m(\u001b[39mf\u001b[39m\u001b[39m\"\u001b[39m\u001b[39mMassa de predição: \u001b[39m\u001b[39m{\u001b[39;00mtest_predictions\u001b[39m.\u001b[39mmean()\u001b[39m}\u001b[39;00m\u001b[39m\"\u001b[39m)\n\u001b[1;32m----> <a href='vscode-notebook-cell:/c%3A/Users/arthu/Documents/GitHub/TCC_Stock_Predictions/Model/Model_LSTM.ipynb#X54sZmlsZQ%3D%3D?line=3'>4</a>\u001b[0m \u001b[39mprint\u001b[39m(\u001b[39mf\u001b[39m\u001b[39m\"\u001b[39m\u001b[39mMassa inicial: \u001b[39m\u001b[39m{\u001b[39;00mibova_test\u001b[39m.\u001b[39mmean()\u001b[39m}\u001b[39;00m\u001b[39m\"\u001b[39m)\n\u001b[0;32m      <a href='vscode-notebook-cell:/c%3A/Users/arthu/Documents/GitHub/TCC_Stock_Predictions/Model/Model_LSTM.ipynb#X54sZmlsZQ%3D%3D?line=4'>5</a>\u001b[0m \u001b[39mprint\u001b[39m(\u001b[39mf\u001b[39m\u001b[39m\"\u001b[39m\u001b[39mDiferenças das médias: \u001b[39m\u001b[39m{\u001b[39;00mibova_test\u001b[39m.\u001b[39mmean() \u001b[39m-\u001b[39m test_predictions\u001b[39m.\u001b[39mmean()\u001b[39m}\u001b[39;00m\u001b[39m\"\u001b[39m)\n",
      "\u001b[1;31mNameError\u001b[0m: name 'ibova_test' is not defined"
     ]
    },
    {
     "data": {
      "application/javascript": "\n            setTimeout(function() {\n                var nbb_cell_id = 316;\n                var nbb_unformatted_code = \"# Analisando Medias:\\n\\nprint(f\\\"Massa de predi\\u00e7\\u00e3o: {test_predictions.mean()}\\\")\\nprint(f\\\"Massa inicial: {ibova_test.mean()}\\\")\\nprint(f\\\"Diferen\\u00e7as das m\\u00e9dias: {ibova_test.mean() - test_predictions.mean()}\\\")\\n\\n# Add o RM_MSE medio\";\n                var nbb_formatted_code = \"# Analisando Medias:\\n\\nprint(f\\\"Massa de predi\\u00e7\\u00e3o: {test_predictions.mean()}\\\")\\nprint(f\\\"Massa inicial: {ibova_test.mean()}\\\")\\nprint(f\\\"Diferen\\u00e7as das m\\u00e9dias: {ibova_test.mean() - test_predictions.mean()}\\\")\\n\\n# Add o RM_MSE medio\";\n                var nbb_cells = Jupyter.notebook.get_cells();\n                for (var i = 0; i < nbb_cells.length; ++i) {\n                    if (nbb_cells[i].input_prompt_number == nbb_cell_id) {\n                        if (nbb_cells[i].get_text() == nbb_unformatted_code) {\n                             nbb_cells[i].set_text(nbb_formatted_code);\n                        }\n                        break;\n                    }\n                }\n            }, 500);\n            ",
      "text/plain": [
       "<IPython.core.display.Javascript object>"
      ]
     },
     "metadata": {},
     "output_type": "display_data"
    }
   ],
   "source": [
    "# Analisando Medias:\n",
    "\n",
    "print(f\"Massa de predição: {test_predictions.mean()}\")\n",
    "print(f\"Massa inicial: {ibova_test.mean()}\")\n",
    "print(f\"Diferenças das médias: {ibova_test.mean() - test_predictions.mean()}\")\n",
    "\n",
    "# Add o RM_MSE medio"
   ]
  },
  {
   "cell_type": "code",
   "execution_count": null,
   "metadata": {},
   "outputs": [
    {
     "data": {
      "text/plain": [
       "'22_08_30_22h55m31'"
      ]
     },
     "execution_count": 124,
     "metadata": {},
     "output_type": "execute_result"
    },
    {
     "data": {
      "application/javascript": "\n            setTimeout(function() {\n                var nbb_cell_id = 124;\n                var nbb_unformatted_code = \"save_time\";\n                var nbb_formatted_code = \"save_time\";\n                var nbb_cells = Jupyter.notebook.get_cells();\n                for (var i = 0; i < nbb_cells.length; ++i) {\n                    if (nbb_cells[i].input_prompt_number == nbb_cell_id) {\n                        if (nbb_cells[i].get_text() == nbb_unformatted_code) {\n                             nbb_cells[i].set_text(nbb_formatted_code);\n                        }\n                        break;\n                    }\n                }\n            }, 500);\n            ",
      "text/plain": [
       "<IPython.core.display.Javascript object>"
      ]
     },
     "metadata": {},
     "output_type": "display_data"
    }
   ],
   "source": [
    "save_time"
   ]
  }
 ],
 "metadata": {
  "kernelspec": {
   "display_name": "Python 3.8.12 ('pystock')",
   "language": "python",
   "name": "python3"
  },
  "language_info": {
   "codemirror_mode": {
    "name": "ipython",
    "version": 3
   },
   "file_extension": ".py",
   "mimetype": "text/x-python",
   "name": "python",
   "nbconvert_exporter": "python",
   "pygments_lexer": "ipython3",
   "version": "3.8.13"
  },
  "orig_nbformat": 4,
  "vscode": {
   "interpreter": {
    "hash": "bc0c8eb905859abd75b389576d87e2ac71c748b72952270660ecc130aeb3e651"
   }
  }
 },
 "nbformat": 4,
 "nbformat_minor": 2
}
