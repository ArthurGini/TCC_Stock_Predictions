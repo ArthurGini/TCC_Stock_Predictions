{
 "cells": [
  {
   "cell_type": "code",
   "execution_count": null,
   "metadata": {},
   "outputs": [],
   "source": []
  },
  {
   "cell_type": "code",
   "execution_count": null,
   "metadata": {},
   "outputs": [],
   "source": [
    "# Usei como base esse tutorial:\n",
    "# https://colab.research.google.com/github/tensorflow/docs-l10n/blob/master/site/pt-br/tutorials/keras/regression.ipynb#scrollTo=f-OHX4DiXd8x"
   ]
  },
  {
   "cell_type": "markdown",
   "metadata": {},
   "source": [
    "# Sequential model\n",
    "\n",
    "*Dense model 16*\n",
    "*Dense model 16*\n",
    "*Dense model 8*\n",
    "*Dense model 4*\n",
    "*Epoch 350*\n",
    "\n",
    "_MSE: 1.31_\n",
    "epoch: 350\n",
    "\n",
    "15/15 - 0s - loss: 0.2842 - mae: 0.4662 - mse: 0.2842\n",
    "Testing set Mean Abs Error:  0.47 ibova_0\n",
    "\n",
    "15/15 - 0s - loss: 0.0279 - mae: 0.1047 - mse: 0.0279\n",
    "Testing set Mean Abs Error:  0.10 ibova_0\n",
    "\n",
    "Epoch: 500\n",
    "15/15 - 0s - loss: 0.2140 - mae: 0.3620 - mse: 0.2140\n",
    "Testing set Mean Abs Error:  0.36 ibova_0"
   ]
  },
  {
   "cell_type": "code",
   "execution_count": 37,
   "metadata": {},
   "outputs": [],
   "source": [
    "import pathlib\n",
    "\n",
    "import matplotlib.pyplot as plt\n",
    "import pandas as pd\n",
    "import seaborn as sns\n",
    "\n",
    "import tensorflow as tf\n",
    "\n",
    "from tensorflow import keras\n",
    "from tensorflow.keras import layers"
   ]
  },
  {
   "cell_type": "markdown",
   "metadata": {},
   "source": []
  },
  {
   "cell_type": "code",
   "execution_count": 38,
   "metadata": {},
   "outputs": [],
   "source": [
    "dataset_path = 'final_ibova_oil_usd_ROC.csv'\n",
    "raw_dataset = pd.read_csv(dataset_path, sep=\",\")\n",
    "\n",
    "dataset = raw_dataset.copy()"
   ]
  },
  {
   "cell_type": "code",
   "execution_count": 39,
   "metadata": {},
   "outputs": [
    {
     "data": {
      "text/html": [
       "<div>\n",
       "<style scoped>\n",
       "    .dataframe tbody tr th:only-of-type {\n",
       "        vertical-align: middle;\n",
       "    }\n",
       "\n",
       "    .dataframe tbody tr th {\n",
       "        vertical-align: top;\n",
       "    }\n",
       "\n",
       "    .dataframe thead th {\n",
       "        text-align: right;\n",
       "    }\n",
       "</style>\n",
       "<table border=\"1\" class=\"dataframe\">\n",
       "  <thead>\n",
       "    <tr style=\"text-align: right;\">\n",
       "      <th></th>\n",
       "      <th>index</th>\n",
       "      <th>ibova_0</th>\n",
       "      <th>ibova_1</th>\n",
       "      <th>ibova_2</th>\n",
       "      <th>ibova_3</th>\n",
       "      <th>ibova_4</th>\n",
       "      <th>oil_0</th>\n",
       "      <th>oil_1</th>\n",
       "      <th>oil_2</th>\n",
       "      <th>oil_3</th>\n",
       "      <th>oil_4</th>\n",
       "      <th>usd_0</th>\n",
       "      <th>usd_1</th>\n",
       "      <th>usd_2</th>\n",
       "      <th>usd_3</th>\n",
       "      <th>usd_4</th>\n",
       "    </tr>\n",
       "  </thead>\n",
       "  <tbody>\n",
       "    <tr>\n",
       "      <th>0</th>\n",
       "      <td>0</td>\n",
       "      <td>1.852453</td>\n",
       "      <td>5.731218</td>\n",
       "      <td>5.678287</td>\n",
       "      <td>6.704554</td>\n",
       "      <td>4.870696</td>\n",
       "      <td>1.852453</td>\n",
       "      <td>5.731218</td>\n",
       "      <td>5.678287</td>\n",
       "      <td>6.704554</td>\n",
       "      <td>4.870696</td>\n",
       "      <td>1.852453</td>\n",
       "      <td>5.731218</td>\n",
       "      <td>5.678287</td>\n",
       "      <td>6.704554</td>\n",
       "      <td>4.870696</td>\n",
       "    </tr>\n",
       "    <tr>\n",
       "      <th>1</th>\n",
       "      <td>1</td>\n",
       "      <td>5.731218</td>\n",
       "      <td>5.678287</td>\n",
       "      <td>6.704554</td>\n",
       "      <td>4.870696</td>\n",
       "      <td>5.135128</td>\n",
       "      <td>5.731218</td>\n",
       "      <td>5.678287</td>\n",
       "      <td>6.704554</td>\n",
       "      <td>4.870696</td>\n",
       "      <td>5.135128</td>\n",
       "      <td>5.731218</td>\n",
       "      <td>5.678287</td>\n",
       "      <td>6.704554</td>\n",
       "      <td>4.870696</td>\n",
       "      <td>5.135128</td>\n",
       "    </tr>\n",
       "    <tr>\n",
       "      <th>2</th>\n",
       "      <td>2</td>\n",
       "      <td>5.678287</td>\n",
       "      <td>6.704554</td>\n",
       "      <td>4.870696</td>\n",
       "      <td>5.135128</td>\n",
       "      <td>5.976096</td>\n",
       "      <td>5.678287</td>\n",
       "      <td>6.704554</td>\n",
       "      <td>4.870696</td>\n",
       "      <td>5.135128</td>\n",
       "      <td>5.976096</td>\n",
       "      <td>5.678287</td>\n",
       "      <td>6.704554</td>\n",
       "      <td>4.870696</td>\n",
       "      <td>5.135128</td>\n",
       "      <td>5.976096</td>\n",
       "    </tr>\n",
       "    <tr>\n",
       "      <th>3</th>\n",
       "      <td>3</td>\n",
       "      <td>6.704554</td>\n",
       "      <td>4.870696</td>\n",
       "      <td>5.135128</td>\n",
       "      <td>5.976096</td>\n",
       "      <td>10.159998</td>\n",
       "      <td>6.704554</td>\n",
       "      <td>4.870696</td>\n",
       "      <td>5.135128</td>\n",
       "      <td>5.976096</td>\n",
       "      <td>10.159998</td>\n",
       "      <td>6.704554</td>\n",
       "      <td>4.870696</td>\n",
       "      <td>5.135128</td>\n",
       "      <td>5.976096</td>\n",
       "      <td>10.159998</td>\n",
       "    </tr>\n",
       "    <tr>\n",
       "      <th>4</th>\n",
       "      <td>4</td>\n",
       "      <td>4.870696</td>\n",
       "      <td>5.135128</td>\n",
       "      <td>5.976096</td>\n",
       "      <td>10.159998</td>\n",
       "      <td>8.056570</td>\n",
       "      <td>4.870696</td>\n",
       "      <td>5.135128</td>\n",
       "      <td>5.976096</td>\n",
       "      <td>10.159998</td>\n",
       "      <td>8.056570</td>\n",
       "      <td>4.870696</td>\n",
       "      <td>5.135128</td>\n",
       "      <td>5.976096</td>\n",
       "      <td>10.159998</td>\n",
       "      <td>8.056570</td>\n",
       "    </tr>\n",
       "    <tr>\n",
       "      <th>...</th>\n",
       "      <td>...</td>\n",
       "      <td>...</td>\n",
       "      <td>...</td>\n",
       "      <td>...</td>\n",
       "      <td>...</td>\n",
       "      <td>...</td>\n",
       "      <td>...</td>\n",
       "      <td>...</td>\n",
       "      <td>...</td>\n",
       "      <td>...</td>\n",
       "      <td>...</td>\n",
       "      <td>...</td>\n",
       "      <td>...</td>\n",
       "      <td>...</td>\n",
       "      <td>...</td>\n",
       "      <td>...</td>\n",
       "    </tr>\n",
       "    <tr>\n",
       "      <th>2388</th>\n",
       "      <td>2388</td>\n",
       "      <td>-1.279721</td>\n",
       "      <td>-3.354260</td>\n",
       "      <td>-6.276465</td>\n",
       "      <td>-6.729609</td>\n",
       "      <td>-7.903147</td>\n",
       "      <td>-1.279721</td>\n",
       "      <td>-3.354260</td>\n",
       "      <td>-6.276465</td>\n",
       "      <td>-6.729609</td>\n",
       "      <td>-7.903147</td>\n",
       "      <td>-1.279721</td>\n",
       "      <td>-3.354260</td>\n",
       "      <td>-6.276465</td>\n",
       "      <td>-6.729609</td>\n",
       "      <td>-7.903147</td>\n",
       "    </tr>\n",
       "    <tr>\n",
       "      <th>2389</th>\n",
       "      <td>2389</td>\n",
       "      <td>-3.354260</td>\n",
       "      <td>-6.276465</td>\n",
       "      <td>-6.729609</td>\n",
       "      <td>-7.903147</td>\n",
       "      <td>-6.691182</td>\n",
       "      <td>-3.354260</td>\n",
       "      <td>-6.276465</td>\n",
       "      <td>-6.729609</td>\n",
       "      <td>-7.903147</td>\n",
       "      <td>-6.691182</td>\n",
       "      <td>-3.354260</td>\n",
       "      <td>-6.276465</td>\n",
       "      <td>-6.729609</td>\n",
       "      <td>-7.903147</td>\n",
       "      <td>-6.691182</td>\n",
       "    </tr>\n",
       "    <tr>\n",
       "      <th>2390</th>\n",
       "      <td>2390</td>\n",
       "      <td>-6.276465</td>\n",
       "      <td>-6.729609</td>\n",
       "      <td>-7.903147</td>\n",
       "      <td>-6.691182</td>\n",
       "      <td>-7.227916</td>\n",
       "      <td>-6.276465</td>\n",
       "      <td>-6.729609</td>\n",
       "      <td>-7.903147</td>\n",
       "      <td>-6.691182</td>\n",
       "      <td>-7.227916</td>\n",
       "      <td>-6.276465</td>\n",
       "      <td>-6.729609</td>\n",
       "      <td>-7.903147</td>\n",
       "      <td>-6.691182</td>\n",
       "      <td>-7.227916</td>\n",
       "    </tr>\n",
       "    <tr>\n",
       "      <th>2391</th>\n",
       "      <td>2391</td>\n",
       "      <td>-6.729609</td>\n",
       "      <td>-7.903147</td>\n",
       "      <td>-6.691182</td>\n",
       "      <td>-7.227916</td>\n",
       "      <td>-6.595764</td>\n",
       "      <td>-6.729609</td>\n",
       "      <td>-7.903147</td>\n",
       "      <td>-6.691182</td>\n",
       "      <td>-7.227916</td>\n",
       "      <td>-6.595764</td>\n",
       "      <td>-6.729609</td>\n",
       "      <td>-7.903147</td>\n",
       "      <td>-6.691182</td>\n",
       "      <td>-7.227916</td>\n",
       "      <td>-6.595764</td>\n",
       "    </tr>\n",
       "    <tr>\n",
       "      <th>2392</th>\n",
       "      <td>2392</td>\n",
       "      <td>-7.903147</td>\n",
       "      <td>-6.691182</td>\n",
       "      <td>-7.227916</td>\n",
       "      <td>-6.595764</td>\n",
       "      <td>-3.359168</td>\n",
       "      <td>-7.903147</td>\n",
       "      <td>-6.691182</td>\n",
       "      <td>-7.227916</td>\n",
       "      <td>-6.595764</td>\n",
       "      <td>-3.359168</td>\n",
       "      <td>-7.903147</td>\n",
       "      <td>-6.691182</td>\n",
       "      <td>-7.227916</td>\n",
       "      <td>-6.595764</td>\n",
       "      <td>-3.359168</td>\n",
       "    </tr>\n",
       "  </tbody>\n",
       "</table>\n",
       "<p>2393 rows × 16 columns</p>\n",
       "</div>"
      ],
      "text/plain": [
       "      index   ibova_0   ibova_1   ibova_2    ibova_3    ibova_4     oil_0  \\\n",
       "0         0  1.852453  5.731218  5.678287   6.704554   4.870696  1.852453   \n",
       "1         1  5.731218  5.678287  6.704554   4.870696   5.135128  5.731218   \n",
       "2         2  5.678287  6.704554  4.870696   5.135128   5.976096  5.678287   \n",
       "3         3  6.704554  4.870696  5.135128   5.976096  10.159998  6.704554   \n",
       "4         4  4.870696  5.135128  5.976096  10.159998   8.056570  4.870696   \n",
       "...     ...       ...       ...       ...        ...        ...       ...   \n",
       "2388   2388 -1.279721 -3.354260 -6.276465  -6.729609  -7.903147 -1.279721   \n",
       "2389   2389 -3.354260 -6.276465 -6.729609  -7.903147  -6.691182 -3.354260   \n",
       "2390   2390 -6.276465 -6.729609 -7.903147  -6.691182  -7.227916 -6.276465   \n",
       "2391   2391 -6.729609 -7.903147 -6.691182  -7.227916  -6.595764 -6.729609   \n",
       "2392   2392 -7.903147 -6.691182 -7.227916  -6.595764  -3.359168 -7.903147   \n",
       "\n",
       "         oil_1     oil_2      oil_3      oil_4     usd_0     usd_1     usd_2  \\\n",
       "0     5.731218  5.678287   6.704554   4.870696  1.852453  5.731218  5.678287   \n",
       "1     5.678287  6.704554   4.870696   5.135128  5.731218  5.678287  6.704554   \n",
       "2     6.704554  4.870696   5.135128   5.976096  5.678287  6.704554  4.870696   \n",
       "3     4.870696  5.135128   5.976096  10.159998  6.704554  4.870696  5.135128   \n",
       "4     5.135128  5.976096  10.159998   8.056570  4.870696  5.135128  5.976096   \n",
       "...        ...       ...        ...        ...       ...       ...       ...   \n",
       "2388 -3.354260 -6.276465  -6.729609  -7.903147 -1.279721 -3.354260 -6.276465   \n",
       "2389 -6.276465 -6.729609  -7.903147  -6.691182 -3.354260 -6.276465 -6.729609   \n",
       "2390 -6.729609 -7.903147  -6.691182  -7.227916 -6.276465 -6.729609 -7.903147   \n",
       "2391 -7.903147 -6.691182  -7.227916  -6.595764 -6.729609 -7.903147 -6.691182   \n",
       "2392 -6.691182 -7.227916  -6.595764  -3.359168 -7.903147 -6.691182 -7.227916   \n",
       "\n",
       "          usd_3      usd_4  \n",
       "0      6.704554   4.870696  \n",
       "1      4.870696   5.135128  \n",
       "2      5.135128   5.976096  \n",
       "3      5.976096  10.159998  \n",
       "4     10.159998   8.056570  \n",
       "...         ...        ...  \n",
       "2388  -6.729609  -7.903147  \n",
       "2389  -7.903147  -6.691182  \n",
       "2390  -6.691182  -7.227916  \n",
       "2391  -7.227916  -6.595764  \n",
       "2392  -6.595764  -3.359168  \n",
       "\n",
       "[2393 rows x 16 columns]"
      ]
     },
     "execution_count": 39,
     "metadata": {},
     "output_type": "execute_result"
    }
   ],
   "source": [
    "dataset"
   ]
  },
  {
   "cell_type": "code",
   "execution_count": 40,
   "metadata": {},
   "outputs": [],
   "source": [
    "# 'index','ibova_0','ibova_1','ibova_2','ibova_3','ibova_4','oil_0','oil_1','oil_2','oil_3','oil_4','usd_0','usd_1','usd_2','usd_3','usd_4'"
   ]
  },
  {
   "cell_type": "code",
   "execution_count": 41,
   "metadata": {},
   "outputs": [],
   "source": [
    "train_dataset = dataset.sample(frac=0.8,random_state=0)\n",
    "test_dataset = dataset.drop(train_dataset.index)"
   ]
  },
  {
   "cell_type": "code",
   "execution_count": 42,
   "metadata": {},
   "outputs": [],
   "source": [
    "# Não tirei a variavel predita do treinamento\n",
    "train_labels = train_dataset['ibova_0']\n",
    "test_labels = test_dataset['ibova_0']"
   ]
  },
  {
   "cell_type": "markdown",
   "metadata": {},
   "source": [
    "# Inspecionando os dados"
   ]
  },
  {
   "cell_type": "code",
   "execution_count": 43,
   "metadata": {},
   "outputs": [],
   "source": [
    "# sns.pairplot(train_dataset[['index','ibova_0','ibova_1','ibova_2','ibova_3','ibova_4','oil_0','oil_1','oil_2','oil_3','oil_4','usd_0','usd_1','usd_2','usd_3','usd_4']], diag_kind=\"kde\")"
   ]
  },
  {
   "cell_type": "code",
   "execution_count": 44,
   "metadata": {},
   "outputs": [],
   "source": [
    "# sns.pairplot(train_dataset[['index','ibova_0','oil_0','usd_0']], diag_kind=\"kde\")"
   ]
  },
  {
   "cell_type": "markdown",
   "metadata": {},
   "source": [
    "# Construindo o modelo"
   ]
  },
  {
   "cell_type": "code",
   "execution_count": 45,
   "metadata": {},
   "outputs": [
    {
     "name": "stdout",
     "output_type": "stream",
     "text": [
      "Model: \"sequential_4\"\n",
      "_________________________________________________________________\n",
      "Layer (type)                 Output Shape              Param #   \n",
      "=================================================================\n",
      "dense_22 (Dense)             (None, 16)                272       \n",
      "_________________________________________________________________\n",
      "dense_23 (Dense)             (None, 16)                272       \n",
      "_________________________________________________________________\n",
      "dense_24 (Dense)             (None, 8)                 136       \n",
      "_________________________________________________________________\n",
      "dense_25 (Dense)             (None, 4)                 36        \n",
      "_________________________________________________________________\n",
      "dense_26 (Dense)             (None, 1)                 5         \n",
      "=================================================================\n",
      "Total params: 721\n",
      "Trainable params: 721\n",
      "Non-trainable params: 0\n",
      "_________________________________________________________________\n"
     ]
    }
   ],
   "source": [
    "def build_model():\n",
    "  model = keras.Sequential([\n",
    "    layers.Dense(16, activation='relu', input_shape=[len(train_dataset.keys())]),\n",
    "    layers.Dense(16, activation='relu'),\n",
    "    layers.Dense(8, activation='relu'),\n",
    "    layers.Dense(4, activation='relu'),\n",
    "    layers.Dense(1)\n",
    "  ])\n",
    "\n",
    "  optimizer = tf.keras.optimizers.RMSprop(0.001)\n",
    "\n",
    "  model.compile(loss='mse',\n",
    "                optimizer=optimizer,\n",
    "                metrics=['mae', 'mse'])\n",
    "  return model\n",
    "\n",
    "model = build_model()\n",
    "model.summary()\n"
   ]
  },
  {
   "cell_type": "markdown",
   "metadata": {},
   "source": [
    "## Testando o modelo"
   ]
  },
  {
   "cell_type": "code",
   "execution_count": 46,
   "metadata": {},
   "outputs": [],
   "source": [
    "example_batch = train_dataset[:10]\n",
    "example_result = model.predict(example_batch)\n",
    "# example_result"
   ]
  },
  {
   "cell_type": "markdown",
   "metadata": {},
   "source": [
    "# Treinado o modelo"
   ]
  },
  {
   "cell_type": "code",
   "execution_count": 47,
   "metadata": {},
   "outputs": [
    {
     "name": "stdout",
     "output_type": "stream",
     "text": [
      "\n",
      "....................................................................................................\n",
      "....................................................................................................\n",
      "....................................................................................................\n",
      ".................................................."
     ]
    }
   ],
   "source": [
    "# Mostra o progresso do treinamento imprimindo um único ponto para cada epoch completada\n",
    "class PrintDot(keras.callbacks.Callback):\n",
    "  def on_epoch_end(self, epoch, logs):\n",
    "    if epoch % 100 == 0: print('')\n",
    "    print('.', end='')\n",
    "\n",
    "EPOCHS = 350 \n",
    "\n",
    "history = model.fit(\n",
    "  train_dataset, train_labels,\n",
    "  epochs=EPOCHS, validation_split = 0.2, verbose=0,\n",
    "  callbacks=[PrintDot()])"
   ]
  },
  {
   "cell_type": "code",
   "execution_count": 48,
   "metadata": {},
   "outputs": [
    {
     "data": {
      "text/html": [
       "<div>\n",
       "<style scoped>\n",
       "    .dataframe tbody tr th:only-of-type {\n",
       "        vertical-align: middle;\n",
       "    }\n",
       "\n",
       "    .dataframe tbody tr th {\n",
       "        vertical-align: top;\n",
       "    }\n",
       "\n",
       "    .dataframe thead th {\n",
       "        text-align: right;\n",
       "    }\n",
       "</style>\n",
       "<table border=\"1\" class=\"dataframe\">\n",
       "  <thead>\n",
       "    <tr style=\"text-align: right;\">\n",
       "      <th></th>\n",
       "      <th>loss</th>\n",
       "      <th>mae</th>\n",
       "      <th>mse</th>\n",
       "      <th>val_loss</th>\n",
       "      <th>val_mae</th>\n",
       "      <th>val_mse</th>\n",
       "      <th>epoch</th>\n",
       "    </tr>\n",
       "  </thead>\n",
       "  <tbody>\n",
       "    <tr>\n",
       "      <th>345</th>\n",
       "      <td>0.053465</td>\n",
       "      <td>0.171334</td>\n",
       "      <td>0.053465</td>\n",
       "      <td>0.024856</td>\n",
       "      <td>0.138696</td>\n",
       "      <td>0.024856</td>\n",
       "      <td>345</td>\n",
       "    </tr>\n",
       "    <tr>\n",
       "      <th>346</th>\n",
       "      <td>0.059110</td>\n",
       "      <td>0.160479</td>\n",
       "      <td>0.059110</td>\n",
       "      <td>0.002690</td>\n",
       "      <td>0.039418</td>\n",
       "      <td>0.002690</td>\n",
       "      <td>346</td>\n",
       "    </tr>\n",
       "    <tr>\n",
       "      <th>347</th>\n",
       "      <td>0.061392</td>\n",
       "      <td>0.166053</td>\n",
       "      <td>0.061392</td>\n",
       "      <td>0.031615</td>\n",
       "      <td>0.148953</td>\n",
       "      <td>0.031615</td>\n",
       "      <td>347</td>\n",
       "    </tr>\n",
       "    <tr>\n",
       "      <th>348</th>\n",
       "      <td>0.047915</td>\n",
       "      <td>0.149639</td>\n",
       "      <td>0.047915</td>\n",
       "      <td>0.116144</td>\n",
       "      <td>0.290671</td>\n",
       "      <td>0.116144</td>\n",
       "      <td>348</td>\n",
       "    </tr>\n",
       "    <tr>\n",
       "      <th>349</th>\n",
       "      <td>0.062863</td>\n",
       "      <td>0.168459</td>\n",
       "      <td>0.062863</td>\n",
       "      <td>0.003011</td>\n",
       "      <td>0.039657</td>\n",
       "      <td>0.003011</td>\n",
       "      <td>349</td>\n",
       "    </tr>\n",
       "  </tbody>\n",
       "</table>\n",
       "</div>"
      ],
      "text/plain": [
       "         loss       mae       mse  val_loss   val_mae   val_mse  epoch\n",
       "345  0.053465  0.171334  0.053465  0.024856  0.138696  0.024856    345\n",
       "346  0.059110  0.160479  0.059110  0.002690  0.039418  0.002690    346\n",
       "347  0.061392  0.166053  0.061392  0.031615  0.148953  0.031615    347\n",
       "348  0.047915  0.149639  0.047915  0.116144  0.290671  0.116144    348\n",
       "349  0.062863  0.168459  0.062863  0.003011  0.039657  0.003011    349"
      ]
     },
     "execution_count": 48,
     "metadata": {},
     "output_type": "execute_result"
    }
   ],
   "source": [
    "hist = pd.DataFrame(history.history)\n",
    "hist['epoch'] = history.epoch\n",
    "hist.tail()"
   ]
  },
  {
   "cell_type": "code",
   "execution_count": 49,
   "metadata": {},
   "outputs": [
    {
     "data": {
      "image/png": "[encoded data removed]",
      "text/plain": [
       "<Figure size 432x288 with 1 Axes>"
      ]
     },
     "metadata": {
      "needs_background": "light"
     },
     "output_type": "display_data"
    },
    {
     "data": {
      "image/png": "[encoded data removed]",
      "text/plain": [
       "<Figure size 432x288 with 1 Axes>"
      ]
     },
     "metadata": {
      "needs_background": "light"
     },
     "output_type": "display_data"
    }
   ],
   "source": [
    "def plot_history(history):\n",
    "  hist = pd.DataFrame(history.history)\n",
    "  hist['epoch'] = history.epoch\n",
    "\n",
    "  plt.figure()\n",
    "  plt.xlabel('Epoch')\n",
    "  plt.ylabel('Mean Abs Error [ibova_0]')\n",
    "  plt.plot(hist['epoch'], hist['mae'],\n",
    "           label='Train Error')\n",
    "  plt.plot(hist['epoch'], hist['val_mae'],\n",
    "           label = 'Val Error')\n",
    "  plt.ylim([0,5])\n",
    "  plt.legend()\n",
    "\n",
    "  plt.figure()\n",
    "  plt.xlabel('Epoch')\n",
    "  plt.ylabel('Mean Square Error [$ibova_0^2$]')\n",
    "  plt.plot(hist['epoch'], hist['mse'],\n",
    "           label='Train Error')\n",
    "  plt.plot(hist['epoch'], hist['val_mse'],\n",
    "           label = 'Val Error')\n",
    "  plt.ylim([0,20])\n",
    "  plt.legend()\n",
    "  plt.show()\n",
    "\n",
    "\n",
    "plot_history(history)"
   ]
  },
  {
   "cell_type": "code",
   "execution_count": 50,
   "metadata": {},
   "outputs": [
    {
     "name": "stdout",
     "output_type": "stream",
     "text": [
      "\n",
      "....................................................................................................\n",
      "."
     ]
    },
    {
     "data": {
      "image/png": "[encoded data removed]",
      "text/plain": [
       "<Figure size 432x288 with 1 Axes>"
      ]
     },
     "metadata": {
      "needs_background": "light"
     },
     "output_type": "display_data"
    },
    {
     "data": {
      "image/png": "[encoded data removed]",
      "text/plain": [
       "<Figure size 432x288 with 1 Axes>"
      ]
     },
     "metadata": {
      "needs_background": "light"
     },
     "output_type": "display_data"
    }
   ],
   "source": [
    "model = build_model()\n",
    "\n",
    "# O parâmetro patience é o quantidade de epochs para checar as melhoras\n",
    "early_stop = keras.callbacks.EarlyStopping(monitor='val_loss', patience=10)\n",
    "\n",
    "history = model.fit(train_dataset, train_labels, epochs=EPOCHS,\n",
    "                    validation_split = 0.2, verbose=0, callbacks=[early_stop, PrintDot()])\n",
    "\n",
    "plot_history(history)"
   ]
  },
  {
   "cell_type": "code",
   "execution_count": 51,
   "metadata": {},
   "outputs": [
    {
     "name": "stdout",
     "output_type": "stream",
     "text": [
      "15/15 - 0s - loss: 0.2842 - mae: 0.4662 - mse: 0.2842\n",
      "Testing set Mean Abs Error:  0.47 ibova_0\n"
     ]
    }
   ],
   "source": [
    "loss, mae, mse = model.evaluate(test_dataset, test_labels, verbose=2)\n",
    "\n",
    "print(\"Testing set Mean Abs Error: {:5.2f} ibova_0\".format(mae))"
   ]
  },
  {
   "cell_type": "markdown",
   "metadata": {},
   "source": [
    "# Realizando as previsões"
   ]
  },
  {
   "cell_type": "code",
   "execution_count": 52,
   "metadata": {},
   "outputs": [
    {
     "data": {
      "image/png": "[encoded data removed]",
      "text/plain": [
       "<Figure size 432x288 with 1 Axes>"
      ]
     },
     "metadata": {
      "needs_background": "light"
     },
     "output_type": "display_data"
    }
   ],
   "source": [
    "test_predictions = model.predict(test_dataset).flatten()\n",
    "\n",
    "plt.scatter(test_labels, test_predictions)\n",
    "plt.xlabel('True Values [ibova_0]')\n",
    "plt.ylabel('Predictions [ibova_0]')\n",
    "plt.axis('equal')\n",
    "plt.axis('square')\n",
    "plt.xlim([0,plt.xlim()[1]])\n",
    "plt.ylim([0,plt.ylim()[1]])\n",
    "_ = plt.plot([-100, 100], [-100, 100])"
   ]
  },
  {
   "cell_type": "code",
   "execution_count": 53,
   "metadata": {},
   "outputs": [
    {
     "data": {
      "image/png": "[encoded data removed]",
      "text/plain": [
       "<Figure size 432x288 with 1 Axes>"
      ]
     },
     "metadata": {
      "needs_background": "light"
     },
     "output_type": "display_data"
    }
   ],
   "source": [
    "error = test_predictions - test_labels\n",
    "plt.hist(error, bins = 25)\n",
    "plt.xlabel(\"Prediction Error [ibova_0]\")\n",
    "_ = plt.ylabel(\"Count\")"
   ]
  },
  {
   "cell_type": "code",
   "execution_count": 55,
   "metadata": {},
   "outputs": [
    {
     "data": {
      "text/plain": [
       "[<matplotlib.lines.Line2D at 0x268d4d01a60>]"
      ]
     },
     "execution_count": 55,
     "metadata": {},
     "output_type": "execute_result"
    },
    {
     "data": {
      "image/png": "[encoded data removed]",
      "text/plain": [
       "<Figure size 432x288 with 1 Axes>"
      ]
     },
     "metadata": {
      "needs_background": "light"
     },
     "output_type": "display_data"
    }
   ],
   "source": [
    "# Imprimindo previsoes\n",
    "plt.plot(test_predictions)"
   ]
  },
  {
   "cell_type": "code",
   "execution_count": 56,
   "metadata": {},
   "outputs": [
    {
     "data": {
      "text/plain": [
       "[<matplotlib.lines.Line2D at 0x268d376c7c0>]"
      ]
     },
     "execution_count": 56,
     "metadata": {},
     "output_type": "execute_result"
    },
    {
     "data": {
      "image/png": "[encoded data removed]",
      "text/plain": [
       "<Figure size 432x288 with 1 Axes>"
      ]
     },
     "metadata": {
      "needs_background": "light"
     },
     "output_type": "display_data"
    }
   ],
   "source": [
    "# Imprimindo valores reais\n",
    "plt.plot(raw_dataset.ibova_0)"
   ]
  },
  {
   "cell_type": "code",
   "execution_count": 57,
   "metadata": {},
   "outputs": [
    {
     "name": "stdout",
     "output_type": "stream",
     "text": [
      "Massa de teste: 0.12561675906181335\n",
      "Massa inicial: 0.34971185976716507\n",
      "Diferenças das médias: 0.2240951007053517\n"
     ]
    }
   ],
   "source": [
    "# Analisando Medias:\n",
    "\n",
    "print(f'Massa de teste: {test_predictions.mean()}')\n",
    "print(f'Massa inicial: {raw_dataset.ibova_0.mean()}')\n",
    "print(f'Diferenças das médias: {raw_dataset.ibova_0.mean() - test_predictions.mean()}')"
   ]
  },
  {
   "cell_type": "code",
   "execution_count": 54,
   "metadata": {},
   "outputs": [
    {
     "data": {
      "text/html": [
       "<div>\n",
       "<style scoped>\n",
       "    .dataframe tbody tr th:only-of-type {\n",
       "        vertical-align: middle;\n",
       "    }\n",
       "\n",
       "    .dataframe tbody tr th {\n",
       "        vertical-align: top;\n",
       "    }\n",
       "\n",
       "    .dataframe thead th {\n",
       "        text-align: right;\n",
       "    }\n",
       "</style>\n",
       "<table border=\"1\" class=\"dataframe\">\n",
       "  <thead>\n",
       "    <tr style=\"text-align: right;\">\n",
       "      <th></th>\n",
       "      <th>index</th>\n",
       "      <th>ibova_0</th>\n",
       "      <th>ibova_1</th>\n",
       "      <th>ibova_2</th>\n",
       "      <th>ibova_3</th>\n",
       "      <th>ibova_4</th>\n",
       "      <th>oil_0</th>\n",
       "      <th>oil_1</th>\n",
       "      <th>oil_2</th>\n",
       "      <th>oil_3</th>\n",
       "      <th>oil_4</th>\n",
       "      <th>usd_0</th>\n",
       "      <th>usd_1</th>\n",
       "      <th>usd_2</th>\n",
       "      <th>usd_3</th>\n",
       "      <th>usd_4</th>\n",
       "    </tr>\n",
       "  </thead>\n",
       "  <tbody>\n",
       "    <tr>\n",
       "      <th>0</th>\n",
       "      <td>0</td>\n",
       "      <td>1.852453</td>\n",
       "      <td>5.731218</td>\n",
       "      <td>5.678287</td>\n",
       "      <td>6.704554</td>\n",
       "      <td>4.870696</td>\n",
       "      <td>1.852453</td>\n",
       "      <td>5.731218</td>\n",
       "      <td>5.678287</td>\n",
       "      <td>6.704554</td>\n",
       "      <td>4.870696</td>\n",
       "      <td>1.852453</td>\n",
       "      <td>5.731218</td>\n",
       "      <td>5.678287</td>\n",
       "      <td>6.704554</td>\n",
       "      <td>4.870696</td>\n",
       "    </tr>\n",
       "    <tr>\n",
       "      <th>1</th>\n",
       "      <td>1</td>\n",
       "      <td>5.731218</td>\n",
       "      <td>5.678287</td>\n",
       "      <td>6.704554</td>\n",
       "      <td>4.870696</td>\n",
       "      <td>5.135128</td>\n",
       "      <td>5.731218</td>\n",
       "      <td>5.678287</td>\n",
       "      <td>6.704554</td>\n",
       "      <td>4.870696</td>\n",
       "      <td>5.135128</td>\n",
       "      <td>5.731218</td>\n",
       "      <td>5.678287</td>\n",
       "      <td>6.704554</td>\n",
       "      <td>4.870696</td>\n",
       "      <td>5.135128</td>\n",
       "    </tr>\n",
       "    <tr>\n",
       "      <th>2</th>\n",
       "      <td>2</td>\n",
       "      <td>5.678287</td>\n",
       "      <td>6.704554</td>\n",
       "      <td>4.870696</td>\n",
       "      <td>5.135128</td>\n",
       "      <td>5.976096</td>\n",
       "      <td>5.678287</td>\n",
       "      <td>6.704554</td>\n",
       "      <td>4.870696</td>\n",
       "      <td>5.135128</td>\n",
       "      <td>5.976096</td>\n",
       "      <td>5.678287</td>\n",
       "      <td>6.704554</td>\n",
       "      <td>4.870696</td>\n",
       "      <td>5.135128</td>\n",
       "      <td>5.976096</td>\n",
       "    </tr>\n",
       "    <tr>\n",
       "      <th>3</th>\n",
       "      <td>3</td>\n",
       "      <td>6.704554</td>\n",
       "      <td>4.870696</td>\n",
       "      <td>5.135128</td>\n",
       "      <td>5.976096</td>\n",
       "      <td>10.159998</td>\n",
       "      <td>6.704554</td>\n",
       "      <td>4.870696</td>\n",
       "      <td>5.135128</td>\n",
       "      <td>5.976096</td>\n",
       "      <td>10.159998</td>\n",
       "      <td>6.704554</td>\n",
       "      <td>4.870696</td>\n",
       "      <td>5.135128</td>\n",
       "      <td>5.976096</td>\n",
       "      <td>10.159998</td>\n",
       "    </tr>\n",
       "    <tr>\n",
       "      <th>4</th>\n",
       "      <td>4</td>\n",
       "      <td>4.870696</td>\n",
       "      <td>5.135128</td>\n",
       "      <td>5.976096</td>\n",
       "      <td>10.159998</td>\n",
       "      <td>8.056570</td>\n",
       "      <td>4.870696</td>\n",
       "      <td>5.135128</td>\n",
       "      <td>5.976096</td>\n",
       "      <td>10.159998</td>\n",
       "      <td>8.056570</td>\n",
       "      <td>4.870696</td>\n",
       "      <td>5.135128</td>\n",
       "      <td>5.976096</td>\n",
       "      <td>10.159998</td>\n",
       "      <td>8.056570</td>\n",
       "    </tr>\n",
       "    <tr>\n",
       "      <th>...</th>\n",
       "      <td>...</td>\n",
       "      <td>...</td>\n",
       "      <td>...</td>\n",
       "      <td>...</td>\n",
       "      <td>...</td>\n",
       "      <td>...</td>\n",
       "      <td>...</td>\n",
       "      <td>...</td>\n",
       "      <td>...</td>\n",
       "      <td>...</td>\n",
       "      <td>...</td>\n",
       "      <td>...</td>\n",
       "      <td>...</td>\n",
       "      <td>...</td>\n",
       "      <td>...</td>\n",
       "      <td>...</td>\n",
       "    </tr>\n",
       "    <tr>\n",
       "      <th>2388</th>\n",
       "      <td>2388</td>\n",
       "      <td>-1.279721</td>\n",
       "      <td>-3.354260</td>\n",
       "      <td>-6.276465</td>\n",
       "      <td>-6.729609</td>\n",
       "      <td>-7.903147</td>\n",
       "      <td>-1.279721</td>\n",
       "      <td>-3.354260</td>\n",
       "      <td>-6.276465</td>\n",
       "      <td>-6.729609</td>\n",
       "      <td>-7.903147</td>\n",
       "      <td>-1.279721</td>\n",
       "      <td>-3.354260</td>\n",
       "      <td>-6.276465</td>\n",
       "      <td>-6.729609</td>\n",
       "      <td>-7.903147</td>\n",
       "    </tr>\n",
       "    <tr>\n",
       "      <th>2389</th>\n",
       "      <td>2389</td>\n",
       "      <td>-3.354260</td>\n",
       "      <td>-6.276465</td>\n",
       "      <td>-6.729609</td>\n",
       "      <td>-7.903147</td>\n",
       "      <td>-6.691182</td>\n",
       "      <td>-3.354260</td>\n",
       "      <td>-6.276465</td>\n",
       "      <td>-6.729609</td>\n",
       "      <td>-7.903147</td>\n",
       "      <td>-6.691182</td>\n",
       "      <td>-3.354260</td>\n",
       "      <td>-6.276465</td>\n",
       "      <td>-6.729609</td>\n",
       "      <td>-7.903147</td>\n",
       "      <td>-6.691182</td>\n",
       "    </tr>\n",
       "    <tr>\n",
       "      <th>2390</th>\n",
       "      <td>2390</td>\n",
       "      <td>-6.276465</td>\n",
       "      <td>-6.729609</td>\n",
       "      <td>-7.903147</td>\n",
       "      <td>-6.691182</td>\n",
       "      <td>-7.227916</td>\n",
       "      <td>-6.276465</td>\n",
       "      <td>-6.729609</td>\n",
       "      <td>-7.903147</td>\n",
       "      <td>-6.691182</td>\n",
       "      <td>-7.227916</td>\n",
       "      <td>-6.276465</td>\n",
       "      <td>-6.729609</td>\n",
       "      <td>-7.903147</td>\n",
       "      <td>-6.691182</td>\n",
       "      <td>-7.227916</td>\n",
       "    </tr>\n",
       "    <tr>\n",
       "      <th>2391</th>\n",
       "      <td>2391</td>\n",
       "      <td>-6.729609</td>\n",
       "      <td>-7.903147</td>\n",
       "      <td>-6.691182</td>\n",
       "      <td>-7.227916</td>\n",
       "      <td>-6.595764</td>\n",
       "      <td>-6.729609</td>\n",
       "      <td>-7.903147</td>\n",
       "      <td>-6.691182</td>\n",
       "      <td>-7.227916</td>\n",
       "      <td>-6.595764</td>\n",
       "      <td>-6.729609</td>\n",
       "      <td>-7.903147</td>\n",
       "      <td>-6.691182</td>\n",
       "      <td>-7.227916</td>\n",
       "      <td>-6.595764</td>\n",
       "    </tr>\n",
       "    <tr>\n",
       "      <th>2392</th>\n",
       "      <td>2392</td>\n",
       "      <td>-7.903147</td>\n",
       "      <td>-6.691182</td>\n",
       "      <td>-7.227916</td>\n",
       "      <td>-6.595764</td>\n",
       "      <td>-3.359168</td>\n",
       "      <td>-7.903147</td>\n",
       "      <td>-6.691182</td>\n",
       "      <td>-7.227916</td>\n",
       "      <td>-6.595764</td>\n",
       "      <td>-3.359168</td>\n",
       "      <td>-7.903147</td>\n",
       "      <td>-6.691182</td>\n",
       "      <td>-7.227916</td>\n",
       "      <td>-6.595764</td>\n",
       "      <td>-3.359168</td>\n",
       "    </tr>\n",
       "  </tbody>\n",
       "</table>\n",
       "<p>2393 rows × 16 columns</p>\n",
       "</div>"
      ],
      "text/plain": [
       "      index   ibova_0   ibova_1   ibova_2    ibova_3    ibova_4     oil_0  \\\n",
       "0         0  1.852453  5.731218  5.678287   6.704554   4.870696  1.852453   \n",
       "1         1  5.731218  5.678287  6.704554   4.870696   5.135128  5.731218   \n",
       "2         2  5.678287  6.704554  4.870696   5.135128   5.976096  5.678287   \n",
       "3         3  6.704554  4.870696  5.135128   5.976096  10.159998  6.704554   \n",
       "4         4  4.870696  5.135128  5.976096  10.159998   8.056570  4.870696   \n",
       "...     ...       ...       ...       ...        ...        ...       ...   \n",
       "2388   2388 -1.279721 -3.354260 -6.276465  -6.729609  -7.903147 -1.279721   \n",
       "2389   2389 -3.354260 -6.276465 -6.729609  -7.903147  -6.691182 -3.354260   \n",
       "2390   2390 -6.276465 -6.729609 -7.903147  -6.691182  -7.227916 -6.276465   \n",
       "2391   2391 -6.729609 -7.903147 -6.691182  -7.227916  -6.595764 -6.729609   \n",
       "2392   2392 -7.903147 -6.691182 -7.227916  -6.595764  -3.359168 -7.903147   \n",
       "\n",
       "         oil_1     oil_2      oil_3      oil_4     usd_0     usd_1     usd_2  \\\n",
       "0     5.731218  5.678287   6.704554   4.870696  1.852453  5.731218  5.678287   \n",
       "1     5.678287  6.704554   4.870696   5.135128  5.731218  5.678287  6.704554   \n",
       "2     6.704554  4.870696   5.135128   5.976096  5.678287  6.704554  4.870696   \n",
       "3     4.870696  5.135128   5.976096  10.159998  6.704554  4.870696  5.135128   \n",
       "4     5.135128  5.976096  10.159998   8.056570  4.870696  5.135128  5.976096   \n",
       "...        ...       ...        ...        ...       ...       ...       ...   \n",
       "2388 -3.354260 -6.276465  -6.729609  -7.903147 -1.279721 -3.354260 -6.276465   \n",
       "2389 -6.276465 -6.729609  -7.903147  -6.691182 -3.354260 -6.276465 -6.729609   \n",
       "2390 -6.729609 -7.903147  -6.691182  -7.227916 -6.276465 -6.729609 -7.903147   \n",
       "2391 -7.903147 -6.691182  -7.227916  -6.595764 -6.729609 -7.903147 -6.691182   \n",
       "2392 -6.691182 -7.227916  -6.595764  -3.359168 -7.903147 -6.691182 -7.227916   \n",
       "\n",
       "          usd_3      usd_4  \n",
       "0      6.704554   4.870696  \n",
       "1      4.870696   5.135128  \n",
       "2      5.135128   5.976096  \n",
       "3      5.976096  10.159998  \n",
       "4     10.159998   8.056570  \n",
       "...         ...        ...  \n",
       "2388  -6.729609  -7.903147  \n",
       "2389  -7.903147  -6.691182  \n",
       "2390  -6.691182  -7.227916  \n",
       "2391  -7.227916  -6.595764  \n",
       "2392  -6.595764  -3.359168  \n",
       "\n",
       "[2393 rows x 16 columns]"
      ]
     },
     "execution_count": 54,
     "metadata": {},
     "output_type": "execute_result"
    }
   ],
   "source": [
    "raw_dataset"
   ]
  },
  {
   "cell_type": "code",
   "execution_count": null,
   "metadata": {},
   "outputs": [],
   "source": []
  }
 ],
 "metadata": {
  "interpreter": {
   "hash": "8949756f31a89c949d21dc88cc29a9a975f9c9df810132ca4a98332ae1fc2efb"
  },
  "kernelspec": {
   "display_name": "Python 3.8.12 64-bit ('pystock': conda)",
   "language": "python",
   "name": "python3"
  },
  "language_info": {
   "codemirror_mode": {
    "name": "ipython",
    "version": 3
   },
   "file_extension": ".py",
   "mimetype": "text/x-python",
   "name": "python",
   "nbconvert_exporter": "python",
   "pygments_lexer": "ipython3",
   "version": "3.8.12"
  },
  "orig_nbformat": 4
 },
 "nbformat": 4,
 "nbformat_minor": 2
}
