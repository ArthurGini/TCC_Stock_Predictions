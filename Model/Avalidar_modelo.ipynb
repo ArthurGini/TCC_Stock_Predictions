{
 "cells": [
  {
   "cell_type": "code",
   "execution_count": 48,
   "metadata": {},
   "outputs": [],
   "source": [
    "import numpy as np\n",
    "import math\n",
    "import pathlib\n",
    "import pandas as pd\n",
    "import os\n",
    "\n",
    "from tensorflow import keras\n",
    "\n",
    "import plotly.express as px\n",
    "import plotly.graph_objects as go\n",
    "\n",
    "\n",
    "TYPE_MODEL = 'CNN'\n",
    "MODELS_PATH = f'Models/{TYPE_MODEL}/'\n",
    "\n",
    "models = os.listdir(MODELS_PATH)\n",
    "# models"
   ]
  },
  {
   "cell_type": "code",
   "execution_count": 49,
   "metadata": {},
   "outputs": [],
   "source": [
    "# Continuar desenvolvimento:\n",
    "# https://plotly.com/python/line-charts/#line-plots-with-column-encoding-color\n",
    "\n",
    "def show_copare_prediction():\n",
    "\tfig = px.line(df, x='index', y='predictions', title='Ibova predito')\n",
    "\tfig.add_scatter(x=df['index'], y=df['real_values'], mode='lines')\n",
    "\tfig.show()\n",
    "\n",
    "def show_distribution_error():\n",
    "\tfig = px.histogram(df,x='error', )\n",
    "\tfig.show()\n",
    "\n",
    "# https://www.askpython.com/python/examples/mape-mean-absolute-percentage-error\n",
    "def MAPE(Y_actual,Y_Predicted):\n",
    "\tteste = np.abs((Y_actual - Y_Predicted)/(Y_actual + 1))*100\n",
    "\t# teste = teste[1:]\n",
    "\tMAPE = np.mean(teste)\n",
    "\t# print (f\"The MAPE: {MAPE}\")\n",
    "\treturn MAPE\n",
    "\n",
    "# https://www.askpython.com/python/examples/rmse-root-mean-square-error\n",
    "def RMSE(Y_actual,Y_Predicted):\n",
    "\tMSE = np.square(np.subtract(Y_actual,Y_Predicted)).mean()\n",
    "\t# print (f\"The MSE: {MSE}\")\n",
    "\tRMSE = math.sqrt(MSE)\n",
    "\t# print (f\"The RMSE: +- {RMSE}\")\n",
    "\treturn RMSE\n",
    "\t"
   ]
  },
  {
   "cell_type": "code",
   "execution_count": 50,
   "metadata": {},
   "outputs": [],
   "source": [
    "# Reading DF teste\n",
    "PATH_TESTE = '../Data/3_Gold/Teste_all_stocks.csv'\n",
    "DF_TESTE = pd.read_csv(PATH_TESTE, sep=\",\")\n",
    "test_dataset = DF_TESTE\n",
    "\n",
    "test_dataset = test_dataset.drop(['oil_5','usd_5','abev_5','jbs_5','petr_5','vale_5',],axis=1)\n",
    "test_labels = test_dataset.pop('ibova_5')"
   ]
  },
  {
   "cell_type": "code",
   "execution_count": 51,
   "metadata": {},
   "outputs": [
    {
     "name": "stdout",
     "output_type": "stream",
     "text": [
      "15/15 [==============================] - 0s 3ms/step\n",
      "15/15 [==============================] - 0s 6ms/step\n"
     ]
    },
    {
     "ename": "ValueError",
     "evalue": "operands could not be broadcast together with shapes (17136,) (476,) ",
     "output_type": "error",
     "traceback": [
      "\u001b[1;31m---------------------------------------------------------------------------\u001b[0m",
      "\u001b[1;31mValueError\u001b[0m                                Traceback (most recent call last)",
      "\u001b[1;32mc:\\Users\\arthu\\Documents\\GitHub\\TCC_Stock_Predictions\\Model\\Avalidar_modelo.ipynb Cell 4\u001b[0m in \u001b[0;36m<cell line: 4>\u001b[1;34m()\u001b[0m\n\u001b[0;32m     <a href='vscode-notebook-cell:/c%3A/Users/arthu/Documents/GitHub/TCC_Stock_Predictions/Model/Avalidar_modelo.ipynb#W3sZmlsZQ%3D%3D?line=13'>14</a>\u001b[0m df_label \u001b[39m=\u001b[39m pd\u001b[39m.\u001b[39mDataFrame(test_labels\u001b[39m.\u001b[39mvalues, columns\u001b[39m=\u001b[39m[\u001b[39m'\u001b[39m\u001b[39mreal_values\u001b[39m\u001b[39m'\u001b[39m])\n\u001b[0;32m     <a href='vscode-notebook-cell:/c%3A/Users/arthu/Documents/GitHub/TCC_Stock_Predictions/Model/Avalidar_modelo.ipynb#W3sZmlsZQ%3D%3D?line=14'>15</a>\u001b[0m df_label \u001b[39m=\u001b[39m df_label\u001b[39m.\u001b[39mreset_index()\n\u001b[1;32m---> <a href='vscode-notebook-cell:/c%3A/Users/arthu/Documents/GitHub/TCC_Stock_Predictions/Model/Avalidar_modelo.ipynb#W3sZmlsZQ%3D%3D?line=16'>17</a>\u001b[0m error \u001b[39m=\u001b[39m test_predictions \u001b[39m-\u001b[39;49m test_labels\n\u001b[0;32m     <a href='vscode-notebook-cell:/c%3A/Users/arthu/Documents/GitHub/TCC_Stock_Predictions/Model/Avalidar_modelo.ipynb#W3sZmlsZQ%3D%3D?line=17'>18</a>\u001b[0m df_error \u001b[39m=\u001b[39m pd\u001b[39m.\u001b[39mDataFrame(error\u001b[39m.\u001b[39mvalues, columns\u001b[39m=\u001b[39m[\u001b[39m'\u001b[39m\u001b[39merror\u001b[39m\u001b[39m'\u001b[39m])\n\u001b[0;32m     <a href='vscode-notebook-cell:/c%3A/Users/arthu/Documents/GitHub/TCC_Stock_Predictions/Model/Avalidar_modelo.ipynb#W3sZmlsZQ%3D%3D?line=18'>19</a>\u001b[0m df_error \u001b[39m=\u001b[39m df_error\u001b[39m.\u001b[39mreset_index()\n",
      "File \u001b[1;32mc:\\Users\\arthu\\.conda\\envs\\pystock\\lib\\site-packages\\pandas\\core\\generic.py:2101\u001b[0m, in \u001b[0;36mNDFrame.__array_ufunc__\u001b[1;34m(self, ufunc, method, *inputs, **kwargs)\u001b[0m\n\u001b[0;32m   2097\u001b[0m \u001b[39m@final\u001b[39m\n\u001b[0;32m   2098\u001b[0m \u001b[39mdef\u001b[39;00m \u001b[39m__array_ufunc__\u001b[39m(\n\u001b[0;32m   2099\u001b[0m     \u001b[39mself\u001b[39m, ufunc: np\u001b[39m.\u001b[39mufunc, method: \u001b[39mstr\u001b[39m, \u001b[39m*\u001b[39minputs: Any, \u001b[39m*\u001b[39m\u001b[39m*\u001b[39mkwargs: Any\n\u001b[0;32m   2100\u001b[0m ):\n\u001b[1;32m-> 2101\u001b[0m     \u001b[39mreturn\u001b[39;00m arraylike\u001b[39m.\u001b[39;49marray_ufunc(\u001b[39mself\u001b[39;49m, ufunc, method, \u001b[39m*\u001b[39;49minputs, \u001b[39m*\u001b[39;49m\u001b[39m*\u001b[39;49mkwargs)\n",
      "File \u001b[1;32mc:\\Users\\arthu\\.conda\\envs\\pystock\\lib\\site-packages\\pandas\\core\\arraylike.py:263\u001b[0m, in \u001b[0;36marray_ufunc\u001b[1;34m(self, ufunc, method, *inputs, **kwargs)\u001b[0m\n\u001b[0;32m    260\u001b[0m     \u001b[39mreturn\u001b[39;00m result\n\u001b[0;32m    262\u001b[0m \u001b[39m# for binary ops, use our custom dunder methods\u001b[39;00m\n\u001b[1;32m--> 263\u001b[0m result \u001b[39m=\u001b[39m maybe_dispatch_ufunc_to_dunder_op(\u001b[39mself\u001b[39;49m, ufunc, method, \u001b[39m*\u001b[39;49minputs, \u001b[39m*\u001b[39;49m\u001b[39m*\u001b[39;49mkwargs)\n\u001b[0;32m    264\u001b[0m \u001b[39mif\u001b[39;00m result \u001b[39mis\u001b[39;00m \u001b[39mnot\u001b[39;00m \u001b[39mNotImplemented\u001b[39m:\n\u001b[0;32m    265\u001b[0m     \u001b[39mreturn\u001b[39;00m result\n",
      "File \u001b[1;32mc:\\Users\\arthu\\.conda\\envs\\pystock\\lib\\site-packages\\pandas\\_libs\\ops_dispatch.pyx:113\u001b[0m, in \u001b[0;36mpandas._libs.ops_dispatch.maybe_dispatch_ufunc_to_dunder_op\u001b[1;34m()\u001b[0m\n",
      "File \u001b[1;32mc:\\Users\\arthu\\.conda\\envs\\pystock\\lib\\site-packages\\pandas\\core\\ops\\common.py:70\u001b[0m, in \u001b[0;36m_unpack_zerodim_and_defer.<locals>.new_method\u001b[1;34m(self, other)\u001b[0m\n\u001b[0;32m     66\u001b[0m             \u001b[39mreturn\u001b[39;00m \u001b[39mNotImplemented\u001b[39m\n\u001b[0;32m     68\u001b[0m other \u001b[39m=\u001b[39m item_from_zerodim(other)\n\u001b[1;32m---> 70\u001b[0m \u001b[39mreturn\u001b[39;00m method(\u001b[39mself\u001b[39;49m, other)\n",
      "File \u001b[1;32mc:\\Users\\arthu\\.conda\\envs\\pystock\\lib\\site-packages\\pandas\\core\\arraylike.py:112\u001b[0m, in \u001b[0;36mOpsMixin.__rsub__\u001b[1;34m(self, other)\u001b[0m\n\u001b[0;32m    110\u001b[0m \u001b[39m@unpack_zerodim_and_defer\u001b[39m(\u001b[39m\"\u001b[39m\u001b[39m__rsub__\u001b[39m\u001b[39m\"\u001b[39m)\n\u001b[0;32m    111\u001b[0m \u001b[39mdef\u001b[39;00m \u001b[39m__rsub__\u001b[39m(\u001b[39mself\u001b[39m, other):\n\u001b[1;32m--> 112\u001b[0m     \u001b[39mreturn\u001b[39;00m \u001b[39mself\u001b[39;49m\u001b[39m.\u001b[39;49m_arith_method(other, roperator\u001b[39m.\u001b[39;49mrsub)\n",
      "File \u001b[1;32mc:\\Users\\arthu\\.conda\\envs\\pystock\\lib\\site-packages\\pandas\\core\\series.py:5639\u001b[0m, in \u001b[0;36mSeries._arith_method\u001b[1;34m(self, other, op)\u001b[0m\n\u001b[0;32m   5637\u001b[0m \u001b[39mdef\u001b[39;00m \u001b[39m_arith_method\u001b[39m(\u001b[39mself\u001b[39m, other, op):\n\u001b[0;32m   5638\u001b[0m     \u001b[39mself\u001b[39m, other \u001b[39m=\u001b[39m ops\u001b[39m.\u001b[39malign_method_SERIES(\u001b[39mself\u001b[39m, other)\n\u001b[1;32m-> 5639\u001b[0m     \u001b[39mreturn\u001b[39;00m base\u001b[39m.\u001b[39;49mIndexOpsMixin\u001b[39m.\u001b[39;49m_arith_method(\u001b[39mself\u001b[39;49m, other, op)\n",
      "File \u001b[1;32mc:\\Users\\arthu\\.conda\\envs\\pystock\\lib\\site-packages\\pandas\\core\\base.py:1295\u001b[0m, in \u001b[0;36mIndexOpsMixin._arith_method\u001b[1;34m(self, other, op)\u001b[0m\n\u001b[0;32m   1292\u001b[0m rvalues \u001b[39m=\u001b[39m ensure_wrapped_if_datetimelike(rvalues)\n\u001b[0;32m   1294\u001b[0m \u001b[39mwith\u001b[39;00m np\u001b[39m.\u001b[39merrstate(\u001b[39mall\u001b[39m\u001b[39m=\u001b[39m\u001b[39m\"\u001b[39m\u001b[39mignore\u001b[39m\u001b[39m\"\u001b[39m):\n\u001b[1;32m-> 1295\u001b[0m     result \u001b[39m=\u001b[39m ops\u001b[39m.\u001b[39;49marithmetic_op(lvalues, rvalues, op)\n\u001b[0;32m   1297\u001b[0m \u001b[39mreturn\u001b[39;00m \u001b[39mself\u001b[39m\u001b[39m.\u001b[39m_construct_result(result, name\u001b[39m=\u001b[39mres_name)\n",
      "File \u001b[1;32mc:\\Users\\arthu\\.conda\\envs\\pystock\\lib\\site-packages\\pandas\\core\\ops\\array_ops.py:222\u001b[0m, in \u001b[0;36marithmetic_op\u001b[1;34m(left, right, op)\u001b[0m\n\u001b[0;32m    217\u001b[0m \u001b[39melse\u001b[39;00m:\n\u001b[0;32m    218\u001b[0m     \u001b[39m# TODO we should handle EAs consistently and move this check before the if/else\u001b[39;00m\n\u001b[0;32m    219\u001b[0m     \u001b[39m# (https://github.com/pandas-dev/pandas/issues/41165)\u001b[39;00m\n\u001b[0;32m    220\u001b[0m     _bool_arith_check(op, left, right)\n\u001b[1;32m--> 222\u001b[0m     res_values \u001b[39m=\u001b[39m _na_arithmetic_op(left, right, op)\n\u001b[0;32m    224\u001b[0m \u001b[39mreturn\u001b[39;00m res_values\n",
      "File \u001b[1;32mc:\\Users\\arthu\\.conda\\envs\\pystock\\lib\\site-packages\\pandas\\core\\ops\\array_ops.py:163\u001b[0m, in \u001b[0;36m_na_arithmetic_op\u001b[1;34m(left, right, op, is_cmp)\u001b[0m\n\u001b[0;32m    160\u001b[0m     func \u001b[39m=\u001b[39m partial(expressions\u001b[39m.\u001b[39mevaluate, op)\n\u001b[0;32m    162\u001b[0m \u001b[39mtry\u001b[39;00m:\n\u001b[1;32m--> 163\u001b[0m     result \u001b[39m=\u001b[39m func(left, right)\n\u001b[0;32m    164\u001b[0m \u001b[39mexcept\u001b[39;00m \u001b[39mTypeError\u001b[39;00m:\n\u001b[0;32m    165\u001b[0m     \u001b[39mif\u001b[39;00m \u001b[39mnot\u001b[39;00m is_cmp \u001b[39mand\u001b[39;00m (is_object_dtype(left\u001b[39m.\u001b[39mdtype) \u001b[39mor\u001b[39;00m is_object_dtype(right)):\n\u001b[0;32m    166\u001b[0m         \u001b[39m# For object dtype, fallback to a masked operation (only operating\u001b[39;00m\n\u001b[0;32m    167\u001b[0m         \u001b[39m#  on the non-missing values)\u001b[39;00m\n\u001b[0;32m    168\u001b[0m         \u001b[39m# Don't do this for comparisons, as that will handle complex numbers\u001b[39;00m\n\u001b[0;32m    169\u001b[0m         \u001b[39m#  incorrectly, see GH#32047\u001b[39;00m\n",
      "File \u001b[1;32mc:\\Users\\arthu\\.conda\\envs\\pystock\\lib\\site-packages\\pandas\\core\\computation\\expressions.py:239\u001b[0m, in \u001b[0;36mevaluate\u001b[1;34m(op, a, b, use_numexpr)\u001b[0m\n\u001b[0;32m    236\u001b[0m \u001b[39mif\u001b[39;00m op_str \u001b[39mis\u001b[39;00m \u001b[39mnot\u001b[39;00m \u001b[39mNone\u001b[39;00m:\n\u001b[0;32m    237\u001b[0m     \u001b[39mif\u001b[39;00m use_numexpr:\n\u001b[0;32m    238\u001b[0m         \u001b[39m# error: \"None\" not callable\u001b[39;00m\n\u001b[1;32m--> 239\u001b[0m         \u001b[39mreturn\u001b[39;00m _evaluate(op, op_str, a, b)  \u001b[39m# type: ignore[misc]\u001b[39;00m\n\u001b[0;32m    240\u001b[0m \u001b[39mreturn\u001b[39;00m _evaluate_standard(op, op_str, a, b)\n",
      "File \u001b[1;32mc:\\Users\\arthu\\.conda\\envs\\pystock\\lib\\site-packages\\pandas\\core\\computation\\expressions.py:128\u001b[0m, in \u001b[0;36m_evaluate_numexpr\u001b[1;34m(op, op_str, a, b)\u001b[0m\n\u001b[0;32m    125\u001b[0m     _store_test_result(result \u001b[39mis\u001b[39;00m \u001b[39mnot\u001b[39;00m \u001b[39mNone\u001b[39;00m)\n\u001b[0;32m    127\u001b[0m \u001b[39mif\u001b[39;00m result \u001b[39mis\u001b[39;00m \u001b[39mNone\u001b[39;00m:\n\u001b[1;32m--> 128\u001b[0m     result \u001b[39m=\u001b[39m _evaluate_standard(op, op_str, a, b)\n\u001b[0;32m    130\u001b[0m \u001b[39mreturn\u001b[39;00m result\n",
      "File \u001b[1;32mc:\\Users\\arthu\\.conda\\envs\\pystock\\lib\\site-packages\\pandas\\core\\computation\\expressions.py:69\u001b[0m, in \u001b[0;36m_evaluate_standard\u001b[1;34m(op, op_str, a, b)\u001b[0m\n\u001b[0;32m     67\u001b[0m \u001b[39mif\u001b[39;00m _TEST_MODE:\n\u001b[0;32m     68\u001b[0m     _store_test_result(\u001b[39mFalse\u001b[39;00m)\n\u001b[1;32m---> 69\u001b[0m \u001b[39mreturn\u001b[39;00m op(a, b)\n",
      "File \u001b[1;32mc:\\Users\\arthu\\.conda\\envs\\pystock\\lib\\site-packages\\pandas\\core\\roperator.py:13\u001b[0m, in \u001b[0;36mrsub\u001b[1;34m(left, right)\u001b[0m\n\u001b[0;32m     12\u001b[0m \u001b[39mdef\u001b[39;00m \u001b[39mrsub\u001b[39m(left, right):\n\u001b[1;32m---> 13\u001b[0m     \u001b[39mreturn\u001b[39;00m right \u001b[39m-\u001b[39;49m left\n",
      "\u001b[1;31mValueError\u001b[0m: operands could not be broadcast together with shapes (17136,) (476,) "
     ]
    }
   ],
   "source": [
    "# Carregando os modelos \n",
    "df_results = pd.DataFrame(columns=['path_model','MAPE','RMSE','model_type'])\n",
    "\n",
    "for id, model_path in enumerate(models):\n",
    "\tprint(model_path)\n",
    "\n",
    "\tmodel = keras.models.load_model(f'../Model/Models/{TYPE_MODEL}/{model_path}')\n",
    "\t# Model\\Models\\MLP\n",
    "\ttest_predictions = model.predict(test_dataset).flatten()\n",
    "\n",
    "\t# Definindo o Dfs\n",
    "\tdf_predic = pd.DataFrame(test_predictions, columns=['predictions'])\n",
    "\tdf_predic = df_predic.reset_index()\n",
    "\n",
    "\tdf_label = pd.DataFrame(test_labels.values, columns=['real_values'])\n",
    "\tdf_label = df_label.reset_index()\n",
    "\n",
    "\terror = test_predictions - test_labels\n",
    "\tdf_error = pd.DataFrame(error.values, columns=['error'])\n",
    "\tdf_error = df_error.reset_index()\n",
    "\n",
    "\t# Merging Df\n",
    "\tdf = df_predic.merge(df_label)\n",
    "\tdf = df.merge(df_error)\n",
    "\n",
    "\t# Get metrics\n",
    "\tmape = MAPE(df['real_values'], df['predictions'])\n",
    "\trmse = RMSE(df['real_values'], df['predictions'])\n",
    "\n",
    "\tdf_results.loc[id,'path_model'] = model_path\n",
    "\tdf_results.loc[id,'MAPE'] = mape\n",
    "\tdf_results.loc[id,'RMSE'] = rmse\n",
    "\tdf_results.loc[id,'model_type'] = TYPE_MODEL\n",
    "\t# df_results = df_results.loc[id] = [model_path, mape, rmse]\n",
    "\t\n",
    "\t# df_results = df_results.insert(1,'MAPE',mape)\n",
    "\t# df_results = df_results.insert(2,'RMSE',rmse)\n",
    "# df_results\n",
    "\t# break\n"
   ]
  },
  {
   "cell_type": "code",
   "execution_count": null,
   "metadata": {},
   "outputs": [
    {
     "data": {
      "text/html": [
       "<div>\n",
       "<style scoped>\n",
       "    .dataframe tbody tr th:only-of-type {\n",
       "        vertical-align: middle;\n",
       "    }\n",
       "\n",
       "    .dataframe tbody tr th {\n",
       "        vertical-align: top;\n",
       "    }\n",
       "\n",
       "    .dataframe thead th {\n",
       "        text-align: right;\n",
       "    }\n",
       "</style>\n",
       "<table border=\"1\" class=\"dataframe\">\n",
       "  <thead>\n",
       "    <tr style=\"text-align: right;\">\n",
       "      <th></th>\n",
       "      <th>path_model</th>\n",
       "      <th>MAPE</th>\n",
       "      <th>RMSE</th>\n",
       "      <th>model_type</th>\n",
       "    </tr>\n",
       "  </thead>\n",
       "  <tbody>\n",
       "    <tr>\n",
       "      <th>0</th>\n",
       "      <td>mlp_unit_1(50)unit_2(19)unit_3(12)unit_4(21)_l...</td>\n",
       "      <td>37.263868</td>\n",
       "      <td>0.382325</td>\n",
       "      <td>LSTM</td>\n",
       "    </tr>\n",
       "    <tr>\n",
       "      <th>1</th>\n",
       "      <td>model_22_09_11_18h57m41.h5</td>\n",
       "      <td>29.454301</td>\n",
       "      <td>0.361074</td>\n",
       "      <td>LSTM</td>\n",
       "    </tr>\n",
       "  </tbody>\n",
       "</table>\n",
       "</div>"
      ],
      "text/plain": [
       "                                          path_model       MAPE      RMSE  \\\n",
       "0  mlp_unit_1(50)unit_2(19)unit_3(12)unit_4(21)_l...  37.263868  0.382325   \n",
       "1                         model_22_09_11_18h57m41.h5  29.454301  0.361074   \n",
       "\n",
       "  model_type  \n",
       "0       LSTM  \n",
       "1       LSTM  "
      ]
     },
     "execution_count": 43,
     "metadata": {},
     "output_type": "execute_result"
    }
   ],
   "source": [
    "df_results\n",
    "# df_results = None"
   ]
  },
  {
   "cell_type": "code",
   "execution_count": null,
   "metadata": {},
   "outputs": [],
   "source": [
    "\n",
    "\n",
    "# https://www.askpython.com/python/examples/mape-mean-absolute-percentage-error\n",
    "\n",
    "\n",
    "\n",
    "#"
   ]
  },
  {
   "cell_type": "code",
   "execution_count": null,
   "metadata": {},
   "outputs": [],
   "source": [
    "# Usar só mse e mape na validacao "
   ]
  },
  {
   "cell_type": "code",
   "execution_count": null,
   "metadata": {},
   "outputs": [
    {
     "data": {
      "application/vnd.plotly.v1+json": {
       "config": {
        "plotlyServerURL": "https://plot.ly"
       },
       "data": [
        {
         "hovertemplate": "index=%{x}<br>predictions=%{y}<extra></extra>",
         "legendgroup": "",
         "line": {
          "color": "#636efa",
          "dash": "solid"
         },
         "marker": {
          "symbol": "circle"
         },
         "mode": "lines",
         "name": "",
         "orientation": "v",
         "showlegend": false,
         "type": "scatter",
         "x": [
          0,
          1,
          2,
          3,
          4,
          5,
          6,
          7,
          8,
          9,
          10,
          11,
          12,
          13,
          14,
          15,
          16,
          17,
          18,
          19,
          20,
          21,
          22,
          23,
          24,
          25,
          26,
          27,
          28,
          29,
          30,
          31,
          32,
          33,
          34,
          35,
          36,
          37,
          38,
          39,
          40,
          41,
          42,
          43,
          44,
          45,
          46,
          47,
          48,
          49,
          50,
          51,
          52,
          53,
          54,
          55,
          56,
          57,
          58,
          59,
          60,
          61,
          62,
          63,
          64,
          65,
          66,
          67,
          68,
          69,
          70,
          71,
          72,
          73,
          74,
          75,
          76,
          77,
          78,
          79,
          80,
          81,
          82,
          83,
          84,
          85,
          86,
          87,
          88,
          89,
          90,
          91,
          92,
          93,
          94,
          95,
          96,
          97,
          98,
          99,
          100,
          101,
          102,
          103,
          104,
          105,
          106,
          107,
          108,
          109,
          110,
          111,
          112,
          113,
          114,
          115,
          116,
          117,
          118,
          119,
          120,
          121,
          122,
          123,
          124,
          125,
          126,
          127,
          128,
          129,
          130,
          131,
          132,
          133,
          134,
          135,
          136,
          137,
          138,
          139,
          140,
          141,
          142,
          143,
          144,
          145,
          146,
          147,
          148,
          149,
          150,
          151,
          152,
          153,
          154,
          155,
          156,
          157,
          158,
          159,
          160,
          161,
          162,
          163,
          164,
          165,
          166,
          167,
          168,
          169,
          170,
          171,
          172,
          173,
          174,
          175,
          176,
          177,
          178,
          179,
          180,
          181,
          182,
          183,
          184,
          185,
          186,
          187,
          188,
          189,
          190,
          191,
          192,
          193,
          194,
          195,
          196,
          197,
          198,
          199,
          200,
          201,
          202,
          203,
          204,
          205,
          206,
          207,
          208,
          209,
          210,
          211,
          212,
          213,
          214,
          215,
          216,
          217,
          218,
          219,
          220,
          221,
          222,
          223,
          224,
          225,
          226,
          227,
          228,
          229,
          230,
          231,
          232,
          233,
          234,
          235,
          236,
          237,
          238,
          239,
          240,
          241,
          242,
          243,
          244,
          245,
          246,
          247,
          248,
          249,
          250,
          251,
          252,
          253,
          254,
          255,
          256,
          257,
          258,
          259,
          260,
          261,
          262,
          263,
          264,
          265,
          266,
          267,
          268,
          269,
          270,
          271,
          272,
          273,
          274,
          275,
          276,
          277,
          278,
          279,
          280,
          281,
          282,
          283,
          284,
          285,
          286,
          287,
          288,
          289,
          290,
          291,
          292,
          293,
          294,
          295,
          296,
          297,
          298,
          299,
          300,
          301,
          302,
          303,
          304,
          305,
          306,
          307,
          308,
          309,
          310,
          311,
          312,
          313,
          314,
          315,
          316,
          317,
          318,
          319,
          320,
          321,
          322,
          323,
          324,
          325,
          326,
          327,
          328,
          329,
          330,
          331,
          332,
          333,
          334,
          335,
          336,
          337,
          338,
          339,
          340,
          341,
          342,
          343,
          344,
          345,
          346,
          347,
          348,
          349,
          350,
          351,
          352,
          353,
          354,
          355,
          356,
          357,
          358,
          359,
          360,
          361,
          362,
          363,
          364,
          365,
          366,
          367,
          368,
          369,
          370,
          371,
          372,
          373,
          374,
          375,
          376,
          377,
          378,
          379,
          380,
          381,
          382,
          383,
          384,
          385,
          386,
          387,
          388,
          389,
          390,
          391,
          392,
          393,
          394,
          395,
          396,
          397,
          398,
          399,
          400,
          401,
          402,
          403,
          404,
          405,
          406,
          407,
          408,
          409,
          410,
          411,
          412,
          413,
          414,
          415,
          416,
          417,
          418,
          419,
          420,
          421,
          422,
          423,
          424,
          425,
          426,
          427,
          428,
          429,
          430,
          431,
          432,
          433,
          434,
          435,
          436,
          437,
          438,
          439,
          440,
          441,
          442,
          443,
          444,
          445,
          446,
          447,
          448,
          449,
          450,
          451,
          452,
          453,
          454,
          455,
          456,
          457,
          458,
          459,
          460,
          461,
          462,
          463,
          464,
          465,
          466,
          467,
          468,
          469,
          470,
          471,
          472,
          473,
          474,
          475
         ],
         "xaxis": "x",
         "y": [
          -0.01383478194475174,
          -0.029498741030693054,
          -0.12221567332744598,
          -0.17898283898830414,
          0.033332981169223785,
          0.07063626497983932,
          -0.19017361104488373,
          -0.5510202646255493,
          -0.5432974100112915,
          -0.3907238841056824,
          -0.20470990240573883,
          -0.0003157602623105049,
          0.17124763131141663,
          0.23250511288642883,
          0.22049348056316376,
          0.1737297624349594,
          0.5084494352340698,
          0.6285790205001831,
          0.5547897219657898,
          0.4391392469406128,
          0.3608732223510742,
          0.21747951209545135,
          0.17484571039676666,
          0.11488500237464905,
          0.11720798909664154,
          0.05417446792125702,
          0.018307600170373917,
          -0.10382026433944702,
          -0.15922223031520844,
          -0.107061006128788,
          -0.2579672932624817,
          -0.34310710430145264,
          -0.2794753313064575,
          -0.09467562288045883,
          -0.12972521781921387,
          -0.13538746535778046,
          -0.004956202581524849,
          0.03904835879802704,
          0.29219716787338257,
          0.30828797817230225,
          0.4737318158149719,
          0.5728390216827393,
          0.4148908257484436,
          0.334608256816864,
          0.30399471521377563,
          0.2744719982147217,
          0.26338809728622437,
          0.24173583090305328,
          0.11030512303113937,
          0.02596612647175789,
          -0.04660302773118019,
          -0.16087213158607483,
          -0.07537293434143066,
          -0.23897887766361237,
          -0.25800836086273193,
          -0.1149141937494278,
          -0.27819985151290894,
          -0.31432461738586426,
          -0.10954142361879349,
          -0.04511168599128723,
          0.016611337661743164,
          -0.04865916818380356,
          0.05320018529891968,
          0.15701742470264435,
          0.2243051826953888,
          0.14238861203193665,
          0.25421983003616333,
          0.3986186385154724,
          0.25332069396972656,
          0.16054870188236237,
          0.13220196962356567,
          0.3296288251876831,
          0.3173290491104126,
          0.3528938889503479,
          0.261614590883255,
          0.2768253684043884,
          0.298526406288147,
          0.31512677669525146,
          0.28812527656555176,
          0.38360774517059326,
          0.42865073680877686,
          0.4568021297454834,
          0.2959328293800354,
          0.27223509550094604,
          0.35039305686950684,
          0.2800237536430359,
          0.20366011559963226,
          0.04881948605179787,
          0.0919022187590599,
          -0.030660860240459442,
          0.018641050904989243,
          -0.07540909200906754,
          -0.05712890625,
          0.004143986850976944,
          -0.00023143738508224487,
          -0.02170836180448532,
          -0.02693350613117218,
          0.12976838648319244,
          -0.1476576328277588,
          -0.054325349628925323,
          -0.14875757694244385,
          -0.30438870191574097,
          -0.30897319316864014,
          -0.35998523235321045,
          -0.20839104056358337,
          -0.09485401213169098,
          -0.10260403901338577,
          -0.44688349962234497,
          -0.2837646007537842,
          -0.2654297351837158,
          -0.2134145200252533,
          -0.00834396481513977,
          0.026489995419979095,
          -0.07624758780002594,
          -0.18787609040737152,
          -0.2098769098520279,
          -0.41899359226226807,
          -0.6009408235549927,
          -0.8379923701286316,
          -1.0361720323562622,
          -0.8209586143493652,
          -0.6724138259887695,
          -0.7125144004821777,
          -0.7631406784057617,
          -1.3478045463562012,
          -1.8264895677566528,
          -1.5231128931045532,
          -1.144411563873291,
          -1.776504635810852,
          -1.1736881732940674,
          -2.0579705238342285,
          -2.135601043701172,
          -2.3283464908599854,
          -2.405400037765503,
          -1.7631819248199463,
          -1.5082907676696777,
          -1.4588357210159302,
          -1.4977887868881226,
          -0.037876758724451065,
          -0.8595800995826721,
          0.22093446552753448,
          -0.14732059836387634,
          0.22892014682292938,
          0.7207021117210388,
          0.2001367211341858,
          0.9921114444732666,
          0.6273519992828369,
          0.9131290316581726,
          0.22784468531608582,
          0.5461152791976929,
          0.38750994205474854,
          0.5218585133552551,
          0.5341883301734924,
          0.3119930028915405,
          0.7135523557662964,
          -0.10010932385921478,
          0.3420112729072571,
          0.3419845700263977,
          0.4762442708015442,
          -0.20936675369739532,
          0.11209015548229218,
          -0.12467338144779205,
          0.08000463247299194,
          0.20229807496070862,
          -0.12596338987350464,
          -0.046698182821273804,
          -0.46312183141708374,
          -0.4797077178955078,
          -0.3246275782585144,
          0.09645572304725647,
          0.012919485569000244,
          0.35437315702438354,
          0.5301496386528015,
          0.5980671644210815,
          0.5969020128250122,
          0.8875182867050171,
          1.3983728885650635,
          1.0834083557128906,
          1.2529349327087402,
          1.2993385791778564,
          1.245664119720459,
          0.44419151544570923,
          0.6350780725479126,
          0.6424720883369446,
          0.6168673038482666,
          0.6434471011161804,
          0.23745547235012054,
          0.3218005299568176,
          -0.3333483338356018,
          -0.26550179719924927,
          -0.2958792448043823,
          0.4130122661590576,
          0.1387903392314911,
          0.27692222595214844,
          0.3461705446243286,
          0.19709275662899017,
          0.20247891545295715,
          0.301272451877594,
          0.42880117893218994,
          0.5848541855812073,
          0.5872173309326172,
          0.5268766283988953,
          0.6471771001815796,
          0.578762948513031,
          0.5147746801376343,
          0.27148425579071045,
          0.35792452096939087,
          0.422502338886261,
          0.5112699270248413,
          0.15228663384914398,
          -0.1136506050825119,
          0.1599789410829544,
          -0.18445515632629395,
          -0.35134798288345337,
          -0.09027459472417831,
          -0.09216992557048798,
          -0.1300785392522812,
          -0.449266254901886,
          -0.40955913066864014,
          -0.24531342089176178,
          -0.2088569849729538,
          -0.3967260718345642,
          -0.08568055927753448,
          -0.09909728169441223,
          -0.31792527437210083,
          -0.14031033217906952,
          -0.2715941071510315,
          0.11079797148704529,
          0.013514343649148941,
          -0.22004260122776031,
          0.09019278734922409,
          0.020746950060129166,
          -0.16107678413391113,
          -0.08407538384199142,
          -0.007803425192832947,
          -0.13209208846092224,
          -0.3763389587402344,
          -0.5635203719139099,
          -0.5514885783195496,
          -0.334423303604126,
          -0.3453953266143799,
          -0.5720192193984985,
          -0.6340255737304688,
          -0.5446279048919678,
          -0.6507990956306458,
          -0.29775315523147583,
          -0.14384467899799347,
          -0.11037304997444153,
          -0.00852280668914318,
          0.16994544863700867,
          0.09401664137840271,
          0.30300360918045044,
          0.39135968685150146,
          0.46561235189437866,
          0.47609639167785645,
          0.27329790592193604,
          0.36816996335983276,
          0.17662401497364044,
          -0.18636128306388855,
          -0.276697039604187,
          -0.2975543141365051,
          -0.16694305837154388,
          -0.07840059697628021,
          -0.11528600752353668,
          0.3365132808685303,
          0.3226367235183716,
          0.39258313179016113,
          0.4871746897697449,
          0.5711343884468079,
          0.7596131563186646,
          0.8613264560699463,
          0.8341529369354248,
          0.5955365300178528,
          0.5793622136116028,
          0.2757265567779541,
          0.46573835611343384,
          0.44912397861480713,
          0.505526602268219,
          0.7440378665924072,
          0.5518817901611328,
          0.6115692853927612,
          0.4836389422416687,
          0.6472167372703552,
          0.5877747535705566,
          0.5378117561340332,
          0.34049099683761597,
          0.41399872303009033,
          0.4457285404205322,
          0.3464464545249939,
          0.3595240116119385,
          0.3638043999671936,
          0.4047563672065735,
          0.1304800808429718,
          0.22826935350894928,
          0.16516491770744324,
          0.3550001382827759,
          0.2435930222272873,
          0.2710656523704529,
          0.3751447796821594,
          0.12246052920818329,
          0.10404694825410843,
          0.103268101811409,
          0.4011213183403015,
          0.3285840153694153,
          0.4801788330078125,
          0.35075539350509644,
          0.3231409192085266,
          0.19664371013641357,
          0.01569589227437973,
          0.23535549640655518,
          -0.027637775987386703,
          -0.2522166967391968,
          -0.3656935691833496,
          -0.4597158432006836,
          -0.5418745279312134,
          -0.5332965850830078,
          -0.4939666986465454,
          -0.2737944722175598,
          -0.1316841095685959,
          -0.18105536699295044,
          -0.034082841128110886,
          0.20366516709327698,
          0.1279330551624298,
          0.29124271869659424,
          0.28396666049957275,
          0.1284215748310089,
          0.2410373091697693,
          0.1309671252965927,
          -0.10051068663597107,
          -0.4656199812889099,
          -0.4002206325531006,
          -0.2869691252708435,
          -0.08750554919242859,
          -0.45269542932510376,
          -0.6848430633544922,
          -0.600356936454773,
          -0.665974497795105,
          -0.511771559715271,
          -0.4242696762084961,
          0.02770288661122322,
          -0.32004523277282715,
          -0.39208102226257324,
          -0.26276159286499023,
          0.07165759801864624,
          0.3101797103881836,
          0.3919556736946106,
          0.24499601125717163,
          0.19451108574867249,
          0.25493112206459045,
          0.18839259445667267,
          0.32707279920578003,
          0.1028638631105423,
          -0.22535346448421478,
          -0.01635594293475151,
          -0.030667312443256378,
          0.03757825493812561,
          0.1196463406085968,
          0.05008174479007721,
          0.05029506981372833,
          0.11778824776411057,
          0.29052942991256714,
          0.40823686122894287,
          0.3899593949317932,
          0.24341729283332825,
          0.31246137619018555,
          0.4079650044441223,
          0.3312300443649292,
          0.3690306544303894,
          0.3866358995437622,
          0.3539116382598877,
          0.20792295038700104,
          0.2014460414648056,
          0.3030364513397217,
          0.15850865840911865,
          0.021532714366912842,
          -0.10045277327299118,
          -0.01498638466000557,
          0.22044724225997925,
          -0.03525838255882263,
          0.03306612744927406,
          -0.013667501509189606,
          0.07080964744091034,
          0.13354280591011047,
          0.11035382747650146,
          0.2034284621477127,
          0.15361636877059937,
          0.28860342502593994,
          -0.10365311801433563,
          0.23762892186641693,
          0.375931978225708,
          0.5833302736282349,
          0.6126950979232788,
          0.4617980718612671,
          0.5471477508544922,
          0.5274072885513306,
          0.5475784540176392,
          0.3672860264778137,
          0.48421967029571533,
          0.30965960025787354,
          0.00235942006111145,
          0.027282200753688812,
          -0.038848500698804855,
          -0.03890474513173103,
          -0.05588524043560028,
          -0.23041553795337677,
          -0.2594873309135437,
          -0.2493905872106552,
          -0.40470826625823975,
          -0.29072725772857666,
          -0.4097163677215576,
          -0.20564769208431244,
          -0.22512899339199066,
          -0.05716114491224289,
          -0.08846617490053177,
          -0.2748619318008423,
          -0.3188532590866089,
          -0.08752360939979553,
          0.06600052118301392,
          -0.015989013016223907,
          0.15016692876815796,
          -0.055546656250953674,
          -0.04088927432894707,
          -0.42714983224868774,
          -0.46521157026290894,
          -0.05799412727355957,
          -0.04465339705348015,
          -0.286019504070282,
          -0.24674834311008453,
          -0.2891181707382202,
          -0.26607227325439453,
          -0.4362186789512634,
          -0.5577417612075806,
          -0.5281144976615906,
          -0.5897926092147827,
          -0.41923582553863525,
          -0.25762104988098145,
          -0.23071831464767456,
          -0.2537258267402649,
          -0.0955018475651741,
          -0.15498404204845428,
          -0.13942690193653107,
          -0.060822583734989166,
          0.012473691254854202,
          0.07389449328184128,
          -0.11350969970226288,
          -0.18986694514751434,
          -0.2998291254043579,
          -0.4212949275970459,
          -0.8694928288459778,
          -0.7725211977958679,
          -0.5155973434448242,
          -0.5812016725540161,
          -0.25488269329071045,
          -0.22672149538993835,
          -0.405714213848114,
          -0.444594144821167,
          -0.32684004306793213,
          -0.29397279024124146,
          -0.0025715045630931854,
          0.018421970307826996,
          0.0010694414377212524,
          0.06651308387517929,
          -0.016172640025615692,
          0.018778130412101746,
          0.06249360740184784,
          -0.08593718707561493,
          -0.26035910844802856,
          -0.22915108501911163,
          -0.12018837034702301,
          -0.2244577556848526,
          -0.547679603099823,
          -0.581879734992981,
          -0.8386231660842896,
          -0.6495531797409058,
          -0.5348028540611267,
          -0.504459798336029
         ],
         "yaxis": "y"
        },
        {
         "mode": "lines",
         "type": "scatter",
         "x": [
          0,
          1,
          2,
          3,
          4,
          5,
          6,
          7,
          8,
          9,
          10,
          11,
          12,
          13,
          14,
          15,
          16,
          17,
          18,
          19,
          20,
          21,
          22,
          23,
          24,
          25,
          26,
          27,
          28,
          29,
          30,
          31,
          32,
          33,
          34,
          35,
          36,
          37,
          38,
          39,
          40,
          41,
          42,
          43,
          44,
          45,
          46,
          47,
          48,
          49,
          50,
          51,
          52,
          53,
          54,
          55,
          56,
          57,
          58,
          59,
          60,
          61,
          62,
          63,
          64,
          65,
          66,
          67,
          68,
          69,
          70,
          71,
          72,
          73,
          74,
          75,
          76,
          77,
          78,
          79,
          80,
          81,
          82,
          83,
          84,
          85,
          86,
          87,
          88,
          89,
          90,
          91,
          92,
          93,
          94,
          95,
          96,
          97,
          98,
          99,
          100,
          101,
          102,
          103,
          104,
          105,
          106,
          107,
          108,
          109,
          110,
          111,
          112,
          113,
          114,
          115,
          116,
          117,
          118,
          119,
          120,
          121,
          122,
          123,
          124,
          125,
          126,
          127,
          128,
          129,
          130,
          131,
          132,
          133,
          134,
          135,
          136,
          137,
          138,
          139,
          140,
          141,
          142,
          143,
          144,
          145,
          146,
          147,
          148,
          149,
          150,
          151,
          152,
          153,
          154,
          155,
          156,
          157,
          158,
          159,
          160,
          161,
          162,
          163,
          164,
          165,
          166,
          167,
          168,
          169,
          170,
          171,
          172,
          173,
          174,
          175,
          176,
          177,
          178,
          179,
          180,
          181,
          182,
          183,
          184,
          185,
          186,
          187,
          188,
          189,
          190,
          191,
          192,
          193,
          194,
          195,
          196,
          197,
          198,
          199,
          200,
          201,
          202,
          203,
          204,
          205,
          206,
          207,
          208,
          209,
          210,
          211,
          212,
          213,
          214,
          215,
          216,
          217,
          218,
          219,
          220,
          221,
          222,
          223,
          224,
          225,
          226,
          227,
          228,
          229,
          230,
          231,
          232,
          233,
          234,
          235,
          236,
          237,
          238,
          239,
          240,
          241,
          242,
          243,
          244,
          245,
          246,
          247,
          248,
          249,
          250,
          251,
          252,
          253,
          254,
          255,
          256,
          257,
          258,
          259,
          260,
          261,
          262,
          263,
          264,
          265,
          266,
          267,
          268,
          269,
          270,
          271,
          272,
          273,
          274,
          275,
          276,
          277,
          278,
          279,
          280,
          281,
          282,
          283,
          284,
          285,
          286,
          287,
          288,
          289,
          290,
          291,
          292,
          293,
          294,
          295,
          296,
          297,
          298,
          299,
          300,
          301,
          302,
          303,
          304,
          305,
          306,
          307,
          308,
          309,
          310,
          311,
          312,
          313,
          314,
          315,
          316,
          317,
          318,
          319,
          320,
          321,
          322,
          323,
          324,
          325,
          326,
          327,
          328,
          329,
          330,
          331,
          332,
          333,
          334,
          335,
          336,
          337,
          338,
          339,
          340,
          341,
          342,
          343,
          344,
          345,
          346,
          347,
          348,
          349,
          350,
          351,
          352,
          353,
          354,
          355,
          356,
          357,
          358,
          359,
          360,
          361,
          362,
          363,
          364,
          365,
          366,
          367,
          368,
          369,
          370,
          371,
          372,
          373,
          374,
          375,
          376,
          377,
          378,
          379,
          380,
          381,
          382,
          383,
          384,
          385,
          386,
          387,
          388,
          389,
          390,
          391,
          392,
          393,
          394,
          395,
          396,
          397,
          398,
          399,
          400,
          401,
          402,
          403,
          404,
          405,
          406,
          407,
          408,
          409,
          410,
          411,
          412,
          413,
          414,
          415,
          416,
          417,
          418,
          419,
          420,
          421,
          422,
          423,
          424,
          425,
          426,
          427,
          428,
          429,
          430,
          431,
          432,
          433,
          434,
          435,
          436,
          437,
          438,
          439,
          440,
          441,
          442,
          443,
          444,
          445,
          446,
          447,
          448,
          449,
          450,
          451,
          452,
          453,
          454,
          455,
          456,
          457,
          458,
          459,
          460,
          461,
          462,
          463,
          464,
          465,
          466,
          467,
          468,
          469,
          470,
          471,
          472,
          473,
          474,
          475
         ],
         "y": [
          -0.2245614514917207,
          -0.2739505280080537,
          -0.2808300298776052,
          -0.0747571120474984,
          0.025621054101228,
          -0.2663905542060508,
          -0.6533732483306943,
          -0.6163072249256989,
          -0.3225502748666647,
          -0.1878929213986376,
          0.008366729371122,
          0.1359443876532315,
          0.3832616008891134,
          0.3120968706093043,
          0.2333443924105337,
          0.5949363078696128,
          0.6881011603837749,
          0.6578613781585819,
          0.5601960902336216,
          0.4803756659637794,
          0.3193893713588951,
          0.2893392260615126,
          0.0299487927587039,
          0.1556852685761034,
          0.144482445201233,
          0.0696493575778584,
          -0.0715891525005266,
          -0.1870632979047886,
          -0.1993759507794159,
          -0.4454964918373564,
          -0.3331092187078054,
          -0.3130820523839849,
          -0.0151479968382486,
          -0.0595909422754135,
          -0.0707424904340539,
          0.0323624283341014,
          0.2315182447135251,
          0.4438125003405344,
          0.4709728550202995,
          0.6666672462108761,
          0.6175713688354292,
          0.6019398728816222,
          0.3727349390700912,
          0.3449663762816006,
          0.3213801273196997,
          0.3038478301803953,
          0.3397050241614149,
          0.2845400057749645,
          0.1461950240887543,
          0.0806734670857896,
          -0.0287884138923135,
          0,
          -0.1075088667168858,
          -0.1527895031906763,
          0.0096239364768289,
          -0.1712920807279511,
          -0.2805139910562589,
          -0.133401379623326,
          0.0029037914587902,
          -0.0358141111969868,
          0.0213024662990168,
          0.046467537970305,
          0.2196522956862525,
          0.2771021863380779,
          0.1299845086391853,
          0.3394425419745112,
          0.4264614165271986,
          0.323497919265964,
          0.1759707867724239,
          0.2554220110467163,
          0.3703173782606819,
          0.3746132370802218,
          0.3713352630368489,
          0.3128274704907792,
          0.2847748344496713,
          0.3519329686720449,
          0.400797856931844,
          0.3548429520114778,
          0.4576386231182792,
          0.5664632061229342,
          0.507674329745215,
          0.3718043820010218,
          0.395724478571419,
          0.4058640706928722,
          0.4078086837898161,
          0.2383352369306038,
          0.1006284619802779,
          0.1423397541572571,
          -0.009772012270963,
          -0.0222111660455525,
          0.0195502769175196,
          0.0222117580403058,
          -0.024871536143872,
          0.0772992222640682,
          0.035512444836382,
          0.075436732509568,
          0.2891046742954161,
          -0.0618991028768988,
          -0.0106180207179083,
          -0.0079638548470901,
          -0.2672634352950961,
          -0.3283195291018132,
          -0.2626311647095132,
          -0.157100966833533,
          -0.0482773003276932,
          -0.0805010309372903,
          -0.4556437512168265,
          -0.2158248479666371,
          -0.1423918484807712,
          -0.0550527154159403,
          0.1273226071064523,
          0.2011131857820853,
          0.0405022746247099,
          -0.0998642021196539,
          -0.0720463832551315,
          -0.3424653366377866,
          -0.5172726646760367,
          -0.8381209618818258,
          -0.995544840984841,
          -1.0370374462404912,
          -0.7887350506109405,
          -0.6827810502295374,
          -0.7738837074332285,
          -1.5483550166700348,
          -2.2949067399219194,
          -2.2065480407987472,
          -1.8728195666475016,
          -3.0572263673868614,
          -2.0286384877815555,
          -3.475450981755944,
          -3.614158006323154,
          -4.3632816683248405,
          -4.79666299465495,
          -3.3825139999708607,
          -3.067484650091727,
          -2.8343431503877774,
          -2.5630131056836536,
          0.1700342684107485,
          -1.2796146125833394,
          0.2953919455233821,
          0.0747299676046548,
          0.1420257975569803,
          0.9401409997880078,
          0.321566875212514,
          1.605567912528286,
          1.092780044536951,
          1.179364544792352,
          0.3834444078586054,
          0.8719113503945927,
          0.5735062574853288,
          0.7407610016962426,
          0.8653152632483077,
          0.8954820678806853,
          1.007291852331054,
          -0.2885036625395706,
          0.5284714007471781,
          0.4481539873127211,
          0.5311987545573207,
          -0.2967318832264298,
          0.2349597361192927,
          -0.015627595812571,
          0.380321991312008,
          0.0908273035883071,
          -0.2048252936004965,
          0.1831625552514519,
          -0.4499366218732313,
          -0.319114891258457,
          -0.031360968848761,
          0.4104252517425454,
          0.2069768758133518,
          0.930124293056484,
          0.8185855843729777,
          0.961306060883007,
          0.8623741498160532,
          1.2925303525151317,
          1.8515537957019403,
          1.4375465636619986,
          1.692702690090025,
          1.658636789357659,
          1.7798997170961033,
          0.3722970451025746,
          0.9029037089666436,
          0.7093391762120023,
          0.8528022404242995,
          0.7991058499185755,
          0.4282280746406616,
          0.3258151783652815,
          -0.1830843500025541,
          -0.135381291513136,
          -0.2372386451315163,
          0.5073858361175826,
          0.2616803709192648,
          0.460007146267266,
          0.3972813660383933,
          0.1854548721994396,
          0.3422409554044487,
          0.5191179606592198,
          0.4598851404054765,
          0.6956978674841479,
          0.6086181425369165,
          0.7590536469648836,
          0.7731047244778889,
          0.5988707182171131,
          0.5614338177888072,
          0.4072423710980075,
          0.4035579385721063,
          0.4090228921692747,
          0.569694433502965,
          0.2265870733131327,
          0.0360119447681316,
          -0.0090001266670451,
          -0.2050126054315795,
          -0.1483132767979347,
          -0.0120427452218649,
          -0.0020071106854574,
          -0.1385163908879918,
          -0.3658695296935322,
          -0.3268598071961686,
          -0.1518203242045984,
          -0.270651668194856,
          -0.0559029334185781,
          -0.0366118446463629,
          -0.0966495010400923,
          -0.3248541116638537,
          -0.132817360251811,
          -0.2342735887485612,
          0.1333055184845258,
          0.0389142092593867,
          -0.2426094047626596,
          0.1857349024833994,
          -0.1014017426124077,
          -0.3486001195587058,
          -0.1214079526373262,
          -0.0360544400589059,
          -0.2483515743268322,
          -0.3295491145144867,
          -0.5617742783500491,
          -0.422147959678112,
          -0.4009079852504387,
          -0.2942725248774532,
          -0.6798774133931652,
          -0.5168474562610593,
          -0.5995437029858746,
          -0.6289173869772227,
          -0.2127652666912978,
          -0.1060681791061409,
          -0.1072645169141844,
          0.0282010211220788,
          0.2981934867612546,
          0.011892343459679,
          0.4345566439611087,
          0.5327733199574057,
          0.5567158675281944,
          0.6196432949213965,
          0.3989118915899561,
          0.5269592322303049,
          0.1908076498421589,
          -0.264738376577648,
          -0.2916704715049524,
          -0.238859815634463,
          -0.1634878300744348,
          0.028524889991692,
          -0.0475290004421531,
          0.3920324499872861,
          0.3084016075516376,
          0.3567712047456803,
          0.6953232032091302,
          0.8120119360921183,
          1.0083836348095216,
          1.017692703481614,
          0.9902786773411671,
          0.6377198996992824,
          0.6644685737399852,
          0.3236276698872619,
          0.544852029633245,
          0.5370091383703688,
          0.5205190087476009,
          0.6862378872644888,
          0.5114105784995313,
          0.5700184657353178,
          0.521140741404265,
          0.6868367776282088,
          0.5834929761978366,
          0.5455449315096311,
          0.3567675623776095,
          0.3277255679319048,
          0.4835239933373699,
          0.3416128933131672,
          0.3990226370359692,
          0.4931500237690522,
          0.4526321511603409,
          0.199561064725443,
          0.2370142480752201,
          0.2733150156618656,
          0.4205111091689926,
          0.4607146126883319,
          0.3626152562991351,
          0.4781978587023787,
          0.2027077343941374,
          0.0985096053676354,
          0.094019620226225,
          0.6030914020120235,
          0.6483420859664731,
          0.5409949335563125,
          0.469099179076444,
          0.280659906906077,
          0.1865831587583135,
          0.1520638654156496,
          0.2303083539481905,
          0.0357439577154615,
          -0.2245928735732944,
          -0.4757758396951128,
          -0.6296910720096691,
          -0.6474753761289705,
          -0.55103404420852,
          -0.4903881364874704,
          -0.2630632851725644,
          -0.261998376832744,
          -0.0987275651107787,
          0.0308828539868963,
          0.2813896963023703,
          0.1759247032820897,
          0.3143523564883924,
          0.3019882665612139,
          0.1047234059878392,
          0.163894168271499,
          0.1087940384691709,
          -0.0365149115124962,
          -0.4861760746440145,
          -0.5121482737138217,
          -0.3373336549858211,
          -0.3005732603946608,
          -0.6082625811638736,
          -0.6511238693045527,
          -0.832669555042339,
          -0.679854346132148,
          -0.7599585996150158,
          -0.5175415867168469,
          -0.1132540605020705,
          -0.3023541930598538,
          -0.3670692891004782,
          -0.1772510044940967,
          0.1349269263082685,
          0.2887069576992774,
          0.4373495895455881,
          0.4746130090198741,
          0.2851689943618921,
          0.3201732886254371,
          0.1710726519351147,
          0.2544331556724117,
          0.0210772569615776,
          -0.0124856448500759,
          0.0540708122128979,
          0.049053701362681,
          0.2469770561329697,
          0.007012123920156,
          0.036466147281796,
          0.1133974578378971,
          0.2192626059648174,
          0.378278125563208,
          0.4909693633415491,
          0.3857858098483079,
          0.3304995897752277,
          0.3424186518634061,
          0.3291184849885084,
          0.3730453323557851,
          0.4563899248154618,
          0.2898003648680993,
          0.319513354057355,
          0.2465190297133628,
          0.1889048974112092,
          0.2473620998986627,
          0.098355510892077,
          -0.0103426234023538,
          -0.1818840591290649,
          -0.1286732689432165,
          0.142674452667068,
          -0.0345385683435586,
          0.0112286329441441,
          -0.0354098103222368,
          0.1373706269058392,
          0.1259662370331429,
          0.152520175047835,
          0.2796252151439123,
          0.3612120829363653,
          0.4206097265886787,
          0.1013069799395905,
          0.2942576432846854,
          0.4774016144194715,
          0.6667061787484754,
          0.6480389783177476,
          0.6172122701146551,
          0.6490230643017609,
          0.6012450532180063,
          0.5747595264291265,
          0.4292158468480259,
          0.5212755696923985,
          0.3824876991548717,
          0.0585586109099236,
          0.0200424899809003,
          -0.0785510862567593,
          -0.0609650201790453,
          -0.1878223850303136,
          -0.2259712402035899,
          -0.2756484731701025,
          -0.2465061077117312,
          -0.3143632710128911,
          -0.2202606608085224,
          -0.2598462442566379,
          -0.1894712511722158,
          -0.1325545958137292,
          -0.0360497829180693,
          0.0540951131886262,
          -0.2498486998846003,
          -0.2044859917196236,
          -0.1209678419326787,
          -0.0346039207882875,
          -0.0972546422703366,
          0.058574499567913,
          -0.0445236728472599,
          -0.0643404089197077,
          -0.4473723734833698,
          -0.4510407468940113,
          -0.1074409841078864,
          -0.0950498506957509,
          -0.2712334035692836,
          -0.2159033490333886,
          -0.2373366190490147,
          -0.2900205091969473,
          -0.3979362324329414,
          -0.6026743824252385,
          -0.4956228242731146,
          -0.5965117527484414,
          -0.3925989519479705,
          -0.3189471109780513,
          -0.1985710610644366,
          -0.2467523634037296,
          -0.151553235428829,
          -0.2015054073017932,
          -0.1774381375586876,
          -0.0140104603331488,
          0.0113852611620559,
          -0.1112081108666696,
          -0.1726965354250664,
          -0.2221720441572054,
          -0.2965951184176773,
          -0.5199236424803224,
          -0.9317018189150252,
          -0.8670183967855835,
          -0.5918017913370911,
          -0.5335202099522983,
          -0.3892652535465744,
          -0.0898994930092971,
          -0.4407190232099645,
          -0.4306805333040607,
          -0.3917896164508899,
          -0.3291700352642175,
          -0.0503783891849777,
          0.133476483615301,
          0.0988091863377758,
          -0.0223494992627212,
          0.0484348584305253,
          0.0214131899923237,
          0.1349657531902139,
          -0.0148722839864551,
          -0.2807634739628065,
          -0.2321423681338241,
          -0.1252180886225442,
          -0.3349583924281488,
          -0.6402500240547082,
          -0.6868920385924772,
          -0.8229311471460765,
          -0.6983420479138444,
          -0.7563830613306091,
          -0.6881715942438854,
          -0.344019298796057
         ]
        }
       ],
       "layout": {
        "legend": {
         "tracegroupgap": 0
        },
        "template": {
         "data": {
          "bar": [
           {
            "error_x": {
             "color": "#2a3f5f"
            },
            "error_y": {
             "color": "#2a3f5f"
            },
            "marker": {
             "line": {
              "color": "#E5ECF6",
              "width": 0.5
             },
             "pattern": {
              "fillmode": "overlay",
              "size": 10,
              "solidity": 0.2
             }
            },
            "type": "bar"
           }
          ],
          "barpolar": [
           {
            "marker": {
             "line": {
              "color": "#E5ECF6",
              "width": 0.5
             },
             "pattern": {
              "fillmode": "overlay",
              "size": 10,
              "solidity": 0.2
             }
            },
            "type": "barpolar"
           }
          ],
          "carpet": [
           {
            "aaxis": {
             "endlinecolor": "#2a3f5f",
             "gridcolor": "white",
             "linecolor": "white",
             "minorgridcolor": "white",
             "startlinecolor": "#2a3f5f"
            },
            "baxis": {
             "endlinecolor": "#2a3f5f",
             "gridcolor": "white",
             "linecolor": "white",
             "minorgridcolor": "white",
             "startlinecolor": "#2a3f5f"
            },
            "type": "carpet"
           }
          ],
          "choropleth": [
           {
            "colorbar": {
             "outlinewidth": 0,
             "ticks": ""
            },
            "type": "choropleth"
           }
          ],
          "contour": [
           {
            "colorbar": {
             "outlinewidth": 0,
             "ticks": ""
            },
            "colorscale": [
             [
              0,
              "#0d0887"
             ],
             [
              0.1111111111111111,
              "#46039f"
             ],
             [
              0.2222222222222222,
              "#7201a8"
             ],
             [
              0.3333333333333333,
              "#9c179e"
             ],
             [
              0.4444444444444444,
              "#bd3786"
             ],
             [
              0.5555555555555556,
              "#d8576b"
             ],
             [
              0.6666666666666666,
              "#ed7953"
             ],
             [
              0.7777777777777778,
              "#fb9f3a"
             ],
             [
              0.8888888888888888,
              "#fdca26"
             ],
             [
              1,
              "#f0f921"
             ]
            ],
            "type": "contour"
           }
          ],
          "contourcarpet": [
           {
            "colorbar": {
             "outlinewidth": 0,
             "ticks": ""
            },
            "type": "contourcarpet"
           }
          ],
          "heatmap": [
           {
            "colorbar": {
             "outlinewidth": 0,
             "ticks": ""
            },
            "colorscale": [
             [
              0,
              "#0d0887"
             ],
             [
              0.1111111111111111,
              "#46039f"
             ],
             [
              0.2222222222222222,
              "#7201a8"
             ],
             [
              0.3333333333333333,
              "#9c179e"
             ],
             [
              0.4444444444444444,
              "#bd3786"
             ],
             [
              0.5555555555555556,
              "#d8576b"
             ],
             [
              0.6666666666666666,
              "#ed7953"
             ],
             [
              0.7777777777777778,
              "#fb9f3a"
             ],
             [
              0.8888888888888888,
              "#fdca26"
             ],
             [
              1,
              "#f0f921"
             ]
            ],
            "type": "heatmap"
           }
          ],
          "heatmapgl": [
           {
            "colorbar": {
             "outlinewidth": 0,
             "ticks": ""
            },
            "colorscale": [
             [
              0,
              "#0d0887"
             ],
             [
              0.1111111111111111,
              "#46039f"
             ],
             [
              0.2222222222222222,
              "#7201a8"
             ],
             [
              0.3333333333333333,
              "#9c179e"
             ],
             [
              0.4444444444444444,
              "#bd3786"
             ],
             [
              0.5555555555555556,
              "#d8576b"
             ],
             [
              0.6666666666666666,
              "#ed7953"
             ],
             [
              0.7777777777777778,
              "#fb9f3a"
             ],
             [
              0.8888888888888888,
              "#fdca26"
             ],
             [
              1,
              "#f0f921"
             ]
            ],
            "type": "heatmapgl"
           }
          ],
          "histogram": [
           {
            "marker": {
             "pattern": {
              "fillmode": "overlay",
              "size": 10,
              "solidity": 0.2
             }
            },
            "type": "histogram"
           }
          ],
          "histogram2d": [
           {
            "colorbar": {
             "outlinewidth": 0,
             "ticks": ""
            },
            "colorscale": [
             [
              0,
              "#0d0887"
             ],
             [
              0.1111111111111111,
              "#46039f"
             ],
             [
              0.2222222222222222,
              "#7201a8"
             ],
             [
              0.3333333333333333,
              "#9c179e"
             ],
             [
              0.4444444444444444,
              "#bd3786"
             ],
             [
              0.5555555555555556,
              "#d8576b"
             ],
             [
              0.6666666666666666,
              "#ed7953"
             ],
             [
              0.7777777777777778,
              "#fb9f3a"
             ],
             [
              0.8888888888888888,
              "#fdca26"
             ],
             [
              1,
              "#f0f921"
             ]
            ],
            "type": "histogram2d"
           }
          ],
          "histogram2dcontour": [
           {
            "colorbar": {
             "outlinewidth": 0,
             "ticks": ""
            },
            "colorscale": [
             [
              0,
              "#0d0887"
             ],
             [
              0.1111111111111111,
              "#46039f"
             ],
             [
              0.2222222222222222,
              "#7201a8"
             ],
             [
              0.3333333333333333,
              "#9c179e"
             ],
             [
              0.4444444444444444,
              "#bd3786"
             ],
             [
              0.5555555555555556,
              "#d8576b"
             ],
             [
              0.6666666666666666,
              "#ed7953"
             ],
             [
              0.7777777777777778,
              "#fb9f3a"
             ],
             [
              0.8888888888888888,
              "#fdca26"
             ],
             [
              1,
              "#f0f921"
             ]
            ],
            "type": "histogram2dcontour"
           }
          ],
          "mesh3d": [
           {
            "colorbar": {
             "outlinewidth": 0,
             "ticks": ""
            },
            "type": "mesh3d"
           }
          ],
          "parcoords": [
           {
            "line": {
             "colorbar": {
              "outlinewidth": 0,
              "ticks": ""
             }
            },
            "type": "parcoords"
           }
          ],
          "pie": [
           {
            "automargin": true,
            "type": "pie"
           }
          ],
          "scatter": [
           {
            "fillpattern": {
             "fillmode": "overlay",
             "size": 10,
             "solidity": 0.2
            },
            "type": "scatter"
           }
          ],
          "scatter3d": [
           {
            "line": {
             "colorbar": {
              "outlinewidth": 0,
              "ticks": ""
             }
            },
            "marker": {
             "colorbar": {
              "outlinewidth": 0,
              "ticks": ""
             }
            },
            "type": "scatter3d"
           }
          ],
          "scattercarpet": [
           {
            "marker": {
             "colorbar": {
              "outlinewidth": 0,
              "ticks": ""
             }
            },
            "type": "scattercarpet"
           }
          ],
          "scattergeo": [
           {
            "marker": {
             "colorbar": {
              "outlinewidth": 0,
              "ticks": ""
             }
            },
            "type": "scattergeo"
           }
          ],
          "scattergl": [
           {
            "marker": {
             "colorbar": {
              "outlinewidth": 0,
              "ticks": ""
             }
            },
            "type": "scattergl"
           }
          ],
          "scattermapbox": [
           {
            "marker": {
             "colorbar": {
              "outlinewidth": 0,
              "ticks": ""
             }
            },
            "type": "scattermapbox"
           }
          ],
          "scatterpolar": [
           {
            "marker": {
             "colorbar": {
              "outlinewidth": 0,
              "ticks": ""
             }
            },
            "type": "scatterpolar"
           }
          ],
          "scatterpolargl": [
           {
            "marker": {
             "colorbar": {
              "outlinewidth": 0,
              "ticks": ""
             }
            },
            "type": "scatterpolargl"
           }
          ],
          "scatterternary": [
           {
            "marker": {
             "colorbar": {
              "outlinewidth": 0,
              "ticks": ""
             }
            },
            "type": "scatterternary"
           }
          ],
          "surface": [
           {
            "colorbar": {
             "outlinewidth": 0,
             "ticks": ""
            },
            "colorscale": [
             [
              0,
              "#0d0887"
             ],
             [
              0.1111111111111111,
              "#46039f"
             ],
             [
              0.2222222222222222,
              "#7201a8"
             ],
             [
              0.3333333333333333,
              "#9c179e"
             ],
             [
              0.4444444444444444,
              "#bd3786"
             ],
             [
              0.5555555555555556,
              "#d8576b"
             ],
             [
              0.6666666666666666,
              "#ed7953"
             ],
             [
              0.7777777777777778,
              "#fb9f3a"
             ],
             [
              0.8888888888888888,
              "#fdca26"
             ],
             [
              1,
              "#f0f921"
             ]
            ],
            "type": "surface"
           }
          ],
          "table": [
           {
            "cells": {
             "fill": {
              "color": "#EBF0F8"
             },
             "line": {
              "color": "white"
             }
            },
            "header": {
             "fill": {
              "color": "#C8D4E3"
             },
             "line": {
              "color": "white"
             }
            },
            "type": "table"
           }
          ]
         },
         "layout": {
          "annotationdefaults": {
           "arrowcolor": "#2a3f5f",
           "arrowhead": 0,
           "arrowwidth": 1
          },
          "autotypenumbers": "strict",
          "coloraxis": {
           "colorbar": {
            "outlinewidth": 0,
            "ticks": ""
           }
          },
          "colorscale": {
           "diverging": [
            [
             0,
             "#8e0152"
            ],
            [
             0.1,
             "#c51b7d"
            ],
            [
             0.2,
             "#de77ae"
            ],
            [
             0.3,
             "#f1b6da"
            ],
            [
             0.4,
             "#fde0ef"
            ],
            [
             0.5,
             "#f7f7f7"
            ],
            [
             0.6,
             "#e6f5d0"
            ],
            [
             0.7,
             "#b8e186"
            ],
            [
             0.8,
             "#7fbc41"
            ],
            [
             0.9,
             "#4d9221"
            ],
            [
             1,
             "#276419"
            ]
           ],
           "sequential": [
            [
             0,
             "#0d0887"
            ],
            [
             0.1111111111111111,
             "#46039f"
            ],
            [
             0.2222222222222222,
             "#7201a8"
            ],
            [
             0.3333333333333333,
             "#9c179e"
            ],
            [
             0.4444444444444444,
             "#bd3786"
            ],
            [
             0.5555555555555556,
             "#d8576b"
            ],
            [
             0.6666666666666666,
             "#ed7953"
            ],
            [
             0.7777777777777778,
             "#fb9f3a"
            ],
            [
             0.8888888888888888,
             "#fdca26"
            ],
            [
             1,
             "#f0f921"
            ]
           ],
           "sequentialminus": [
            [
             0,
             "#0d0887"
            ],
            [
             0.1111111111111111,
             "#46039f"
            ],
            [
             0.2222222222222222,
             "#7201a8"
            ],
            [
             0.3333333333333333,
             "#9c179e"
            ],
            [
             0.4444444444444444,
             "#bd3786"
            ],
            [
             0.5555555555555556,
             "#d8576b"
            ],
            [
             0.6666666666666666,
             "#ed7953"
            ],
            [
             0.7777777777777778,
             "#fb9f3a"
            ],
            [
             0.8888888888888888,
             "#fdca26"
            ],
            [
             1,
             "#f0f921"
            ]
           ]
          },
          "colorway": [
           "#636efa",
           "#EF553B",
           "#00cc96",
           "#ab63fa",
           "#FFA15A",
           "#19d3f3",
           "#FF6692",
           "#B6E880",
           "#FF97FF",
           "#FECB52"
          ],
          "font": {
           "color": "#2a3f5f"
          },
          "geo": {
           "bgcolor": "white",
           "lakecolor": "white",
           "landcolor": "#E5ECF6",
           "showlakes": true,
           "showland": true,
           "subunitcolor": "white"
          },
          "hoverlabel": {
           "align": "left"
          },
          "hovermode": "closest",
          "mapbox": {
           "style": "light"
          },
          "paper_bgcolor": "white",
          "plot_bgcolor": "#E5ECF6",
          "polar": {
           "angularaxis": {
            "gridcolor": "white",
            "linecolor": "white",
            "ticks": ""
           },
           "bgcolor": "#E5ECF6",
           "radialaxis": {
            "gridcolor": "white",
            "linecolor": "white",
            "ticks": ""
           }
          },
          "scene": {
           "xaxis": {
            "backgroundcolor": "#E5ECF6",
            "gridcolor": "white",
            "gridwidth": 2,
            "linecolor": "white",
            "showbackground": true,
            "ticks": "",
            "zerolinecolor": "white"
           },
           "yaxis": {
            "backgroundcolor": "#E5ECF6",
            "gridcolor": "white",
            "gridwidth": 2,
            "linecolor": "white",
            "showbackground": true,
            "ticks": "",
            "zerolinecolor": "white"
           },
           "zaxis": {
            "backgroundcolor": "#E5ECF6",
            "gridcolor": "white",
            "gridwidth": 2,
            "linecolor": "white",
            "showbackground": true,
            "ticks": "",
            "zerolinecolor": "white"
           }
          },
          "shapedefaults": {
           "line": {
            "color": "#2a3f5f"
           }
          },
          "ternary": {
           "aaxis": {
            "gridcolor": "white",
            "linecolor": "white",
            "ticks": ""
           },
           "baxis": {
            "gridcolor": "white",
            "linecolor": "white",
            "ticks": ""
           },
           "bgcolor": "#E5ECF6",
           "caxis": {
            "gridcolor": "white",
            "linecolor": "white",
            "ticks": ""
           }
          },
          "title": {
           "x": 0.05
          },
          "xaxis": {
           "automargin": true,
           "gridcolor": "white",
           "linecolor": "white",
           "ticks": "",
           "title": {
            "standoff": 15
           },
           "zerolinecolor": "white",
           "zerolinewidth": 2
          },
          "yaxis": {
           "automargin": true,
           "gridcolor": "white",
           "linecolor": "white",
           "ticks": "",
           "title": {
            "standoff": 15
           },
           "zerolinecolor": "white",
           "zerolinewidth": 2
          }
         }
        },
        "title": {
         "text": "Ibova predito"
        },
        "xaxis": {
         "anchor": "y",
         "domain": [
          0,
          1
         ],
         "title": {
          "text": "index"
         }
        },
        "yaxis": {
         "anchor": "x",
         "domain": [
          0,
          1
         ],
         "title": {
          "text": "predictions"
         }
        }
       }
      }
     },
     "metadata": {},
     "output_type": "display_data"
    }
   ],
   "source": [
    "# TODO: ver de plotar o RMSE pra cima e pra baixo \n",
    "show_copare_prediction()"
   ]
  },
  {
   "cell_type": "markdown",
   "metadata": {},
   "source": [
    "Tirar o titulo do grafico \n",
    "\n",
    "deixar tudo em portugues \n",
    "\n",
    "y = ROC\n",
    "Legenda a linha azul e vermelha - real vs predito\n",
    "\n",
    "Chamar index de days "
   ]
  },
  {
   "cell_type": "code",
   "execution_count": null,
   "metadata": {},
   "outputs": [
    {
     "data": {
      "application/vnd.plotly.v1+json": {
       "config": {
        "plotlyServerURL": "https://plot.ly"
       },
       "data": [
        {
         "alignmentgroup": "True",
         "bingroup": "x",
         "hovertemplate": "error=%{x}<br>count=%{y}<extra></extra>",
         "legendgroup": "",
         "marker": {
          "color": "#636efa",
          "pattern": {
           "shape": ""
          }
         },
         "name": "",
         "offsetgroup": "",
         "orientation": "v",
         "showlegend": false,
         "type": "histogram",
         "x": [
          0.21072666954696895,
          0.24445178697736064,
          0.1586143565501592,
          -0.10422572694080574,
          0.0077119270679957865,
          0.3370268191858901,
          0.4631996372858106,
          0.06528696030014958,
          -0.2207471351446268,
          -0.20283096270704476,
          -0.21307663177686084,
          -0.136260147915542,
          -0.21201396957769675,
          -0.07959175772287547,
          -0.012850911847369945,
          -0.4212065454346534,
          -0.17965172514970507,
          -0.029282357658398817,
          -0.005406368267831807,
          -0.041236419023166604,
          0.041483850992179105,
          -0.07185971396606122,
          0.14489691763806276,
          -0.040800266201454355,
          -0.02727445610459145,
          -0.015474889656601376,
          0.08989675267090051,
          0.08324303356534157,
          0.040153720464207454,
          0.3384354857085684,
          0.07514192544532372,
          -0.030025051917467738,
          -0.26432733446820894,
          -0.03508468060504533,
          -0.05898272738515997,
          -0.16774989369188187,
          -0.23647444729504996,
          -0.40476414154250734,
          -0.17877568714691694,
          -0.3583792680385739,
          -0.14383955302045726,
          -0.02910085119888295,
          0.042155886678352406,
          -0.010358119464736582,
          -0.017385412105924092,
          -0.029375831965673616,
          -0.07631692687519054,
          -0.04280417487191124,
          -0.035889901057614915,
          -0.05470734061403171,
          -0.01781461383886669,
          -0.16087213158607483,
          0.03213593237545513,
          -0.08618937447293606,
          -0.26763229733956084,
          0.056377886978523306,
          0.002314139543349969,
          -0.18092323776253827,
          -0.11244521507758369,
          -0.009297574794300434,
          -0.004691128637273636,
          -0.09512670615410856,
          -0.16645211038733282,
          -0.12008476163543358,
          0.09432067405620351,
          -0.19705392994257453,
          -0.17224158649103527,
          0.07512071924950842,
          0.07734990719730267,
          -0.09487330916435394,
          -0.23811540863711622,
          -0.04498441189253871,
          -0.054006213926436286,
          0.04006641845956871,
          -0.023160243566416272,
          -0.07510760026765645,
          -0.10227145064369703,
          -0.03971617531622634,
          -0.16951334655272743,
          -0.18285546095234095,
          -0.07902359293643813,
          0.08499774774446162,
          -0.09979164919138361,
          -0.13362897519192618,
          -0.05741562692030927,
          0.041688516712432094,
          0.10303165361935436,
          -0.09352026810545924,
          0.1016742310300229,
          -0.008449694194906942,
          -0.0009092260125303578,
          -0.09762085004937333,
          -0.032257370106128,
          -0.07315523541309125,
          -0.03574388222146425,
          -0.09714509431405333,
          -0.31603818042658827,
          0.19166748936009126,
          -0.1370396121098505,
          -0.046361494781835225,
          0.11850585835265226,
          0.023930827186072257,
          -0.04634202845912694,
          -0.20288426551967745,
          -0.16011374023589017,
          -0.014352981194400677,
          0.3530397122034407,
          -0.23105865165570788,
          -0.141372752273013,
          -0.2103770197677755,
          -0.34073712713170556,
          -0.20945715059722508,
          -0.014012279204730804,
          0.023616614319627957,
          -0.11582970715224002,
          0.13258842678575872,
          0.09827907241376865,
          0.23718013832683316,
          0.15755247085620938,
          0.0008654138842290049,
          -0.03222356373842472,
          0.010367224240767858,
          0.061369306951050806,
          0.7852143382642731,
          0.9471021935657182,
          0.3800584730420944,
          0.3497066735429484,
          1.9128148035135704,
          0.2521338519707035,
          2.3017628084618766,
          1.5561874824889257,
          2.2276806246236687,
          2.4683165037949646,
          0.9771139622053577,
          1.3043027252717807,
          1.3260523827180997,
          1.1041773846677234,
          -1.667823055298871,
          1.2417378538588884,
          -1.1549720451060543,
          0.14620449792287968,
          -0.28934639592085665,
          -0.7112208529650784,
          0.39913523650852484,
          -1.4054311913941002,
          -0.1006686000636845,
          -0.5520125455095151,
          0.5296846237995672,
          -0.6440666650785069,
          -0.027390978287635925,
          -0.35325105964149406,
          -0.3434567498930525,
          -0.36129373770719286,
          -0.6952988494395134,
          1.002056018305867,
          -0.6285807246063929,
          -0.10614271440546402,
          -0.18921418453092298,
          0.772976154027974,
          -0.444326489816688,
          0.12771775129486318,
          -0.5049953727598,
          -0.010822671115315152,
          0.4071233685612051,
          -0.3091259451249565,
          0.4032384390519575,
          -0.14400694015862675,
          -0.4483467490467468,
          -0.7350528300010598,
          -0.11052115276609534,
          -0.9172048074874838,
          -0.46421242734859414,
          -0.43115642223020545,
          -0.26430698539497166,
          -0.6956283396901195,
          -0.9640355089969233,
          -0.039173675096935145,
          -0.6092943343771344,
          -0.4057018566489188,
          -0.48056113791824684,
          0.8733670746178843,
          -0.4587121935209344,
          -0.07426110366408967,
          -0.21033015208735495,
          -0.18223854607030887,
          0.21521902647551883,
          -0.08835970601516097,
          0.5048848799593717,
          -0.1979670423224658,
          -0.02826315206773297,
          -0.8032650809219649,
          0.1513318952397928,
          -0.32121680703577493,
          -0.12035914008624488,
          0.16071567242488902,
          -0.14514819877545854,
          -0.3166390452062626,
          -0.15861268852788252,
          -0.2668966885519579,
          -0.02376395695570921,
          -0.17183631603226646,
          -0.24622809607899365,
          0.04830638196446646,
          0.017329130724223818,
          0.1075323090396268,
          -0.13207368278139586,
          -0.05109837119988381,
          -0.14719209461670402,
          0.28468285371170865,
          0.11627468908101238,
          -0.1046504784154668,
          0.3649915465145339,
          -0.03614187952835923,
          -0.3393052376615885,
          -0.08826748403872091,
          0.04634646531750383,
          0.235790990441251,
          -0.1224064477057174,
          -0.25773880646404174,
          0.025338247303094197,
          -0.1529540515543757,
          -0.3601142271882013,
          0.010968941762557818,
          0.22575682996944146,
          -0.18510791412028982,
          0.09396325656949167,
          -0.40489962563555726,
          0.07188376222765859,
          0.2561237484118085,
          -0.4057775037111597,
          0.1915945299616318,
          0.36934706961883496,
          -0.03966883149658493,
          -0.048020943783085523,
          0.24054814913399925,
          0.19745702605356447,
          0.18543531960981474,
          -0.14137241223579794,
          -0.15058059306911087,
          -0.040150778726672776,
          0.3344820867787853,
          -0.05517176313743921,
          -0.03448187074459419,
          0.08428948208525489,
          -0.43803382893934795,
          -0.19168497612533492,
          -0.03658016208380907,
          -0.13857407109652034,
          -0.3067162934503978,
          0.15805310517732968,
          -0.340540002582706,
          -0.2297697107769553,
          -0.1653561806766929,
          -0.1540309430270178,
          0.07718450008790034,
          -0.2536613263083689,
          0.17736231351767387,
          0.4413623915512884,
          0.10530918844106385,
          -0.037837223969724,
          -0.13406648406207033,
          -0.1954679483632359,
          -0.030871596534127112,
          -0.5073184575108227,
          0.028111673316892682,
          -0.03413448122730872,
          -0.3027400714189691,
          -0.32483724632237343,
          -0.4372492463627138,
          -0.25807954716294934,
          -0.12895222127122086,
          0.19643303723614236,
          -0.06893204372213246,
          0.2557345437243409,
          -0.26912547285529087,
          -0.07127078225693495,
          -0.0713950301327938,
          -0.18071128499626976,
          0.23262728809287592,
          -0.01813667557418497,
          0.0904285439884962,
          -0.20319783538654013,
          0.06372376107251865,
          0.042229822060925515,
          0.18104419375642372,
          0.01276542890571114,
          -0.06952527030727956,
          0.10411564710736504,
          -0.05257618251097529,
          -0.13362601215711373,
          -0.08882775119314729,
          0.2051953024811305,
          -0.10653416723224829,
          -0.04504566215291633,
          -0.25534619146154935,
          -0.10571447440555604,
          -0.11902223407184781,
          -0.2071322063319258,
          0.17243704528802203,
          0.023950923840547894,
          0.010027328027883434,
          -0.4998233002006145,
          -0.24722076762617162,
          -0.21241091818689717,
          0.011079653931368505,
          0.07009548659901943,
          0.13655776045021312,
          0.044579844720763984,
          -0.21461246167381076,
          0.19961153869109366,
          0.1969550975859077,
          0.223559142955916,
          0.2639975028263195,
          0.18775953292828695,
          0.0091595162773066,
          -0.042908448595537385,
          -0.23090341347398102,
          -0.011796095384815797,
          -0.03295654445781719,
          -0.21193822097984674,
          -0.3154725374304812,
          0.027740463811187277,
          -0.18641930132596257,
          -0.010745547864619676,
          0.17924325451173356,
          -0.035472593440490086,
          0.13224327070059838,
          0.1674820368090889,
          0.38566538800804345,
          0.046528292424911744,
          -0.06288697756727951,
          0.013604135123817307,
          0.520757031971445,
          0.19842843997944892,
          0.14782649168784678,
          0.07949740967737506,
          0.09398410181991079,
          0.005770027001575917,
          -0.3110156157064256,
          0.330057079671077,
          0.047024056327651054,
          -0.21483001776847654,
          -0.39768851917325876,
          -0.21704935968063116,
          -0.12716987915740452,
          -0.08265733532526348,
          -0.04017298310472045,
          -0.1256622028767646,
          0.08385847012947575,
          -0.06604056121573904,
          0.30599554224420245,
          0.1153495079606182,
          -0.2794242766971127,
          -0.06540964429743251,
          -0.2776443685762261,
          0.03056613101796961,
          0.0831801933268008,
          -0.0633157130478199,
          -0.16896753615108906,
          -0.26048987779909744,
          -0.20043993342898198,
          0.022451051380634968,
          0.059459805156565515,
          -0.09900135903007784,
          -0.01665710879832283,
          0.03491967208833724,
          -0.1251598804505326,
          0.07923028956229011,
          0.06712254548640723,
          0.10739260854652491,
          0.019018052975791844,
          -0.0459160584338571,
          0.20468094044764468,
          0.16885128181147246,
          0.20341677349597775,
          0.028220495670225332,
          -0.15766083732707356,
          0.25498581060353787,
          -0.04648701550296673,
          0.06847593777151087,
          -0.1510381284150288,
          -0.055156589592232574,
          -0.01897736913772452,
          -0.16927138766741084,
          -0.1577836207886526,
          -0.2669933578180793,
          0.18729644508634946,
          -0.39791076129902103,
          -0.23977269255305456,
          -0.29077420052276737,
          -0.06470870468951273,
          -0.004517172191376262,
          -0.18722499244049384,
          -0.054097302363514066,
          -0.047352237877795966,
          0.11836260716961328,
          -0.1539895432145848,
          0.10173197114084365,
          0.25110098934794994,
          -0.01768306991978885,
          0.10583328701044811,
          0.022116519480240446,
          0.14891763989858256,
          0.17008599976798963,
          0.04523293521672572,
          -0.012981223201812497,
          0.06497268380223586,
          -0.18444760544971733,
          -0.03088101347193878,
          -0.2202451165493418,
          -0.07309309627058325,
          -0.18907921047392137,
          -0.11125625810086909,
          0.16138252498406852,
          -0.0703759400812187,
          -0.19788541715393018,
          -0.05291968861150803,
          0.1632551634533505,
          -0.0745635125841369,
          0.19469060161541785,
          0.008793752668754026,
          0.4064830991544227,
          0.023890914645323558,
          -0.35777058615502255,
          0.037055723422191336,
          0.22658000651580346,
          -0.07011615503689339,
          -0.009411724061069826,
          0.0009023384587270589,
          0.13186395917854687,
          0.1664557034739751,
          -0.06211893693446596,
          0.0683972550868508,
          -0.1971936572668122,
          -0.10028871456058397,
          -0.05904998881654486,
          0.016034048756055047,
          -0.10217259131143588,
          0.1060035597366191,
          0.022454095510233307,
          -0.12541644160338228,
          -0.07220784489704507,
          0.1236818021215238,
          0.2465910287069077,
          0.10866234445494252,
          0.10672817327016293,
          0.2200945170759645,
          0.5104068913179793,
          -0.002474432060394327,
          -0.18071940645877682,
          0.0179228665074741,
          -0.19193641900744174,
          -0.16498320028141333,
          0.21399752782002612,
          0.024966319455946684,
          -0.052804528370277104,
          0.00232999219628538,
          -0.24359440105626376,
          -0.1360479881783942,
          -0.0803872160299488,
          0.023418940700442453,
          0.01807822544465399,
          -0.037585830017939394,
          -0.11618762277811215,
          0.07736589138830294,
          0.19482628688719156,
          -0.028216740314204458,
          -0.10393299639656745,
          0.21477002208112578,
          0.4157922683698556,
          0.13921243549265416,
          0.24105141215309556,
          -0.1402811181704452,
          0.1068298815897033,
          0.1533687401827587,
          -0.16044049953997203
         ],
         "xaxis": "x",
         "yaxis": "y"
        }
       ],
       "layout": {
        "barmode": "relative",
        "legend": {
         "tracegroupgap": 0
        },
        "margin": {
         "t": 60
        },
        "template": {
         "data": {
          "bar": [
           {
            "error_x": {
             "color": "#2a3f5f"
            },
            "error_y": {
             "color": "#2a3f5f"
            },
            "marker": {
             "line": {
              "color": "#E5ECF6",
              "width": 0.5
             },
             "pattern": {
              "fillmode": "overlay",
              "size": 10,
              "solidity": 0.2
             }
            },
            "type": "bar"
           }
          ],
          "barpolar": [
           {
            "marker": {
             "line": {
              "color": "#E5ECF6",
              "width": 0.5
             },
             "pattern": {
              "fillmode": "overlay",
              "size": 10,
              "solidity": 0.2
             }
            },
            "type": "barpolar"
           }
          ],
          "carpet": [
           {
            "aaxis": {
             "endlinecolor": "#2a3f5f",
             "gridcolor": "white",
             "linecolor": "white",
             "minorgridcolor": "white",
             "startlinecolor": "#2a3f5f"
            },
            "baxis": {
             "endlinecolor": "#2a3f5f",
             "gridcolor": "white",
             "linecolor": "white",
             "minorgridcolor": "white",
             "startlinecolor": "#2a3f5f"
            },
            "type": "carpet"
           }
          ],
          "choropleth": [
           {
            "colorbar": {
             "outlinewidth": 0,
             "ticks": ""
            },
            "type": "choropleth"
           }
          ],
          "contour": [
           {
            "colorbar": {
             "outlinewidth": 0,
             "ticks": ""
            },
            "colorscale": [
             [
              0,
              "#0d0887"
             ],
             [
              0.1111111111111111,
              "#46039f"
             ],
             [
              0.2222222222222222,
              "#7201a8"
             ],
             [
              0.3333333333333333,
              "#9c179e"
             ],
             [
              0.4444444444444444,
              "#bd3786"
             ],
             [
              0.5555555555555556,
              "#d8576b"
             ],
             [
              0.6666666666666666,
              "#ed7953"
             ],
             [
              0.7777777777777778,
              "#fb9f3a"
             ],
             [
              0.8888888888888888,
              "#fdca26"
             ],
             [
              1,
              "#f0f921"
             ]
            ],
            "type": "contour"
           }
          ],
          "contourcarpet": [
           {
            "colorbar": {
             "outlinewidth": 0,
             "ticks": ""
            },
            "type": "contourcarpet"
           }
          ],
          "heatmap": [
           {
            "colorbar": {
             "outlinewidth": 0,
             "ticks": ""
            },
            "colorscale": [
             [
              0,
              "#0d0887"
             ],
             [
              0.1111111111111111,
              "#46039f"
             ],
             [
              0.2222222222222222,
              "#7201a8"
             ],
             [
              0.3333333333333333,
              "#9c179e"
             ],
             [
              0.4444444444444444,
              "#bd3786"
             ],
             [
              0.5555555555555556,
              "#d8576b"
             ],
             [
              0.6666666666666666,
              "#ed7953"
             ],
             [
              0.7777777777777778,
              "#fb9f3a"
             ],
             [
              0.8888888888888888,
              "#fdca26"
             ],
             [
              1,
              "#f0f921"
             ]
            ],
            "type": "heatmap"
           }
          ],
          "heatmapgl": [
           {
            "colorbar": {
             "outlinewidth": 0,
             "ticks": ""
            },
            "colorscale": [
             [
              0,
              "#0d0887"
             ],
             [
              0.1111111111111111,
              "#46039f"
             ],
             [
              0.2222222222222222,
              "#7201a8"
             ],
             [
              0.3333333333333333,
              "#9c179e"
             ],
             [
              0.4444444444444444,
              "#bd3786"
             ],
             [
              0.5555555555555556,
              "#d8576b"
             ],
             [
              0.6666666666666666,
              "#ed7953"
             ],
             [
              0.7777777777777778,
              "#fb9f3a"
             ],
             [
              0.8888888888888888,
              "#fdca26"
             ],
             [
              1,
              "#f0f921"
             ]
            ],
            "type": "heatmapgl"
           }
          ],
          "histogram": [
           {
            "marker": {
             "pattern": {
              "fillmode": "overlay",
              "size": 10,
              "solidity": 0.2
             }
            },
            "type": "histogram"
           }
          ],
          "histogram2d": [
           {
            "colorbar": {
             "outlinewidth": 0,
             "ticks": ""
            },
            "colorscale": [
             [
              0,
              "#0d0887"
             ],
             [
              0.1111111111111111,
              "#46039f"
             ],
             [
              0.2222222222222222,
              "#7201a8"
             ],
             [
              0.3333333333333333,
              "#9c179e"
             ],
             [
              0.4444444444444444,
              "#bd3786"
             ],
             [
              0.5555555555555556,
              "#d8576b"
             ],
             [
              0.6666666666666666,
              "#ed7953"
             ],
             [
              0.7777777777777778,
              "#fb9f3a"
             ],
             [
              0.8888888888888888,
              "#fdca26"
             ],
             [
              1,
              "#f0f921"
             ]
            ],
            "type": "histogram2d"
           }
          ],
          "histogram2dcontour": [
           {
            "colorbar": {
             "outlinewidth": 0,
             "ticks": ""
            },
            "colorscale": [
             [
              0,
              "#0d0887"
             ],
             [
              0.1111111111111111,
              "#46039f"
             ],
             [
              0.2222222222222222,
              "#7201a8"
             ],
             [
              0.3333333333333333,
              "#9c179e"
             ],
             [
              0.4444444444444444,
              "#bd3786"
             ],
             [
              0.5555555555555556,
              "#d8576b"
             ],
             [
              0.6666666666666666,
              "#ed7953"
             ],
             [
              0.7777777777777778,
              "#fb9f3a"
             ],
             [
              0.8888888888888888,
              "#fdca26"
             ],
             [
              1,
              "#f0f921"
             ]
            ],
            "type": "histogram2dcontour"
           }
          ],
          "mesh3d": [
           {
            "colorbar": {
             "outlinewidth": 0,
             "ticks": ""
            },
            "type": "mesh3d"
           }
          ],
          "parcoords": [
           {
            "line": {
             "colorbar": {
              "outlinewidth": 0,
              "ticks": ""
             }
            },
            "type": "parcoords"
           }
          ],
          "pie": [
           {
            "automargin": true,
            "type": "pie"
           }
          ],
          "scatter": [
           {
            "fillpattern": {
             "fillmode": "overlay",
             "size": 10,
             "solidity": 0.2
            },
            "type": "scatter"
           }
          ],
          "scatter3d": [
           {
            "line": {
             "colorbar": {
              "outlinewidth": 0,
              "ticks": ""
             }
            },
            "marker": {
             "colorbar": {
              "outlinewidth": 0,
              "ticks": ""
             }
            },
            "type": "scatter3d"
           }
          ],
          "scattercarpet": [
           {
            "marker": {
             "colorbar": {
              "outlinewidth": 0,
              "ticks": ""
             }
            },
            "type": "scattercarpet"
           }
          ],
          "scattergeo": [
           {
            "marker": {
             "colorbar": {
              "outlinewidth": 0,
              "ticks": ""
             }
            },
            "type": "scattergeo"
           }
          ],
          "scattergl": [
           {
            "marker": {
             "colorbar": {
              "outlinewidth": 0,
              "ticks": ""
             }
            },
            "type": "scattergl"
           }
          ],
          "scattermapbox": [
           {
            "marker": {
             "colorbar": {
              "outlinewidth": 0,
              "ticks": ""
             }
            },
            "type": "scattermapbox"
           }
          ],
          "scatterpolar": [
           {
            "marker": {
             "colorbar": {
              "outlinewidth": 0,
              "ticks": ""
             }
            },
            "type": "scatterpolar"
           }
          ],
          "scatterpolargl": [
           {
            "marker": {
             "colorbar": {
              "outlinewidth": 0,
              "ticks": ""
             }
            },
            "type": "scatterpolargl"
           }
          ],
          "scatterternary": [
           {
            "marker": {
             "colorbar": {
              "outlinewidth": 0,
              "ticks": ""
             }
            },
            "type": "scatterternary"
           }
          ],
          "surface": [
           {
            "colorbar": {
             "outlinewidth": 0,
             "ticks": ""
            },
            "colorscale": [
             [
              0,
              "#0d0887"
             ],
             [
              0.1111111111111111,
              "#46039f"
             ],
             [
              0.2222222222222222,
              "#7201a8"
             ],
             [
              0.3333333333333333,
              "#9c179e"
             ],
             [
              0.4444444444444444,
              "#bd3786"
             ],
             [
              0.5555555555555556,
              "#d8576b"
             ],
             [
              0.6666666666666666,
              "#ed7953"
             ],
             [
              0.7777777777777778,
              "#fb9f3a"
             ],
             [
              0.8888888888888888,
              "#fdca26"
             ],
             [
              1,
              "#f0f921"
             ]
            ],
            "type": "surface"
           }
          ],
          "table": [
           {
            "cells": {
             "fill": {
              "color": "#EBF0F8"
             },
             "line": {
              "color": "white"
             }
            },
            "header": {
             "fill": {
              "color": "#C8D4E3"
             },
             "line": {
              "color": "white"
             }
            },
            "type": "table"
           }
          ]
         },
         "layout": {
          "annotationdefaults": {
           "arrowcolor": "#2a3f5f",
           "arrowhead": 0,
           "arrowwidth": 1
          },
          "autotypenumbers": "strict",
          "coloraxis": {
           "colorbar": {
            "outlinewidth": 0,
            "ticks": ""
           }
          },
          "colorscale": {
           "diverging": [
            [
             0,
             "#8e0152"
            ],
            [
             0.1,
             "#c51b7d"
            ],
            [
             0.2,
             "#de77ae"
            ],
            [
             0.3,
             "#f1b6da"
            ],
            [
             0.4,
             "#fde0ef"
            ],
            [
             0.5,
             "#f7f7f7"
            ],
            [
             0.6,
             "#e6f5d0"
            ],
            [
             0.7,
             "#b8e186"
            ],
            [
             0.8,
             "#7fbc41"
            ],
            [
             0.9,
             "#4d9221"
            ],
            [
             1,
             "#276419"
            ]
           ],
           "sequential": [
            [
             0,
             "#0d0887"
            ],
            [
             0.1111111111111111,
             "#46039f"
            ],
            [
             0.2222222222222222,
             "#7201a8"
            ],
            [
             0.3333333333333333,
             "#9c179e"
            ],
            [
             0.4444444444444444,
             "#bd3786"
            ],
            [
             0.5555555555555556,
             "#d8576b"
            ],
            [
             0.6666666666666666,
             "#ed7953"
            ],
            [
             0.7777777777777778,
             "#fb9f3a"
            ],
            [
             0.8888888888888888,
             "#fdca26"
            ],
            [
             1,
             "#f0f921"
            ]
           ],
           "sequentialminus": [
            [
             0,
             "#0d0887"
            ],
            [
             0.1111111111111111,
             "#46039f"
            ],
            [
             0.2222222222222222,
             "#7201a8"
            ],
            [
             0.3333333333333333,
             "#9c179e"
            ],
            [
             0.4444444444444444,
             "#bd3786"
            ],
            [
             0.5555555555555556,
             "#d8576b"
            ],
            [
             0.6666666666666666,
             "#ed7953"
            ],
            [
             0.7777777777777778,
             "#fb9f3a"
            ],
            [
             0.8888888888888888,
             "#fdca26"
            ],
            [
             1,
             "#f0f921"
            ]
           ]
          },
          "colorway": [
           "#636efa",
           "#EF553B",
           "#00cc96",
           "#ab63fa",
           "#FFA15A",
           "#19d3f3",
           "#FF6692",
           "#B6E880",
           "#FF97FF",
           "#FECB52"
          ],
          "font": {
           "color": "#2a3f5f"
          },
          "geo": {
           "bgcolor": "white",
           "lakecolor": "white",
           "landcolor": "#E5ECF6",
           "showlakes": true,
           "showland": true,
           "subunitcolor": "white"
          },
          "hoverlabel": {
           "align": "left"
          },
          "hovermode": "closest",
          "mapbox": {
           "style": "light"
          },
          "paper_bgcolor": "white",
          "plot_bgcolor": "#E5ECF6",
          "polar": {
           "angularaxis": {
            "gridcolor": "white",
            "linecolor": "white",
            "ticks": ""
           },
           "bgcolor": "#E5ECF6",
           "radialaxis": {
            "gridcolor": "white",
            "linecolor": "white",
            "ticks": ""
           }
          },
          "scene": {
           "xaxis": {
            "backgroundcolor": "#E5ECF6",
            "gridcolor": "white",
            "gridwidth": 2,
            "linecolor": "white",
            "showbackground": true,
            "ticks": "",
            "zerolinecolor": "white"
           },
           "yaxis": {
            "backgroundcolor": "#E5ECF6",
            "gridcolor": "white",
            "gridwidth": 2,
            "linecolor": "white",
            "showbackground": true,
            "ticks": "",
            "zerolinecolor": "white"
           },
           "zaxis": {
            "backgroundcolor": "#E5ECF6",
            "gridcolor": "white",
            "gridwidth": 2,
            "linecolor": "white",
            "showbackground": true,
            "ticks": "",
            "zerolinecolor": "white"
           }
          },
          "shapedefaults": {
           "line": {
            "color": "#2a3f5f"
           }
          },
          "ternary": {
           "aaxis": {
            "gridcolor": "white",
            "linecolor": "white",
            "ticks": ""
           },
           "baxis": {
            "gridcolor": "white",
            "linecolor": "white",
            "ticks": ""
           },
           "bgcolor": "#E5ECF6",
           "caxis": {
            "gridcolor": "white",
            "linecolor": "white",
            "ticks": ""
           }
          },
          "title": {
           "x": 0.05
          },
          "xaxis": {
           "automargin": true,
           "gridcolor": "white",
           "linecolor": "white",
           "ticks": "",
           "title": {
            "standoff": 15
           },
           "zerolinecolor": "white",
           "zerolinewidth": 2
          },
          "yaxis": {
           "automargin": true,
           "gridcolor": "white",
           "linecolor": "white",
           "ticks": "",
           "title": {
            "standoff": 15
           },
           "zerolinecolor": "white",
           "zerolinewidth": 2
          }
         }
        },
        "xaxis": {
         "anchor": "y",
         "domain": [
          0,
          1
         ],
         "title": {
          "text": "error"
         }
        },
        "yaxis": {
         "anchor": "x",
         "domain": [
          0,
          1
         ],
         "title": {
          "text": "count"
         }
        }
       }
      }
     },
     "metadata": {},
     "output_type": "display_data"
    }
   ],
   "source": [
    "show_distribution_error()"
   ]
  }
 ],
 "metadata": {
  "kernelspec": {
   "display_name": "Python 3.8.12 ('pystock')",
   "language": "python",
   "name": "python3"
  },
  "language_info": {
   "codemirror_mode": {
    "name": "ipython",
    "version": 3
   },
   "file_extension": ".py",
   "mimetype": "text/x-python",
   "name": "python",
   "nbconvert_exporter": "python",
   "pygments_lexer": "ipython3",
   "version": "3.8.13"
  },
  "orig_nbformat": 4,
  "vscode": {
   "interpreter": {
    "hash": "bc0c8eb905859abd75b389576d87e2ac71c748b72952270660ecc130aeb3e651"
   }
  }
 },
 "nbformat": 4,
 "nbformat_minor": 2
}
