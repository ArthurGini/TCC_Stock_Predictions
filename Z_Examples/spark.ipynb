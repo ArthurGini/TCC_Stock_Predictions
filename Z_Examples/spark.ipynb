{
 "cells": [
  {
   "cell_type": "code",
   "execution_count": null,
   "metadata": {},
   "outputs": [],
   "source": [
    "df_ibova\n",
    "df_oil\n",
    "df_sp500\n",
    "df_us10y\n",
    "df_usdbrl"
   ]
  },
  {
   "cell_type": "code",
   "execution_count": null,
   "metadata": {},
   "outputs": [],
   "source": [
    "df_ibova = spark.read.option('header',True).csv('ibova.csv')\n",
    "df_ibova = df_ibova.select(\n",
    "\tcol('Open').alias('open_ibova'),\n",
    "\tcol('Date').alias('date_ibova')\n",
    ")\n",
    "\n",
    "df_djtrans = spark.read.option('header',True).csv('djtrans.csv')\n",
    "df_djtrans = df_djtrans.select(\n",
    "\tcol('Open').alias('open_djt'),\n",
    "\tcol('Date').alias('date_djt')\n",
    ")\n",
    "\n",
    "df_oil = spark.read.option('header',True).csv('oil.csv')\n",
    "df_oil = df_oil.select(\n",
    "\tcol('Open').alias('open_oil'),\n",
    "\tcol('Date').alias('date_oil')\n",
    ")\n",
    "\n",
    "df_sp500 = spark.read.option('header',True).csv('sp500.csv')\n",
    "df_sp500 = df_sp500.select(\n",
    "\t\tcol('Open').alias('open_sp5'),\n",
    "\t\tcol('Date').alias('date_sp5')\n",
    ")\n",
    "\n",
    "df_us10y = spark.read.option('header',True).csv('us10y.csv')\n",
    "df_us10y = df_us10y.select(\n",
    "\tcol('Open').alias('open_us10'),\n",
    "\tcol('Date').alias('date_us10')\n",
    ")\n",
    "\n",
    "df_usdbrl = spark.read.option('header',True).csv('usdbrl.csv')\n",
    "df_usdbrl = df_usdbrl.select(\n",
    "\tcol('Open').alias('open_usd'),\n",
    "\tcol('Date').alias('date_usd')\n",
    ")"
   ]
  },
  {
   "cell_type": "code",
   "execution_count": null,
   "metadata": {},
   "outputs": [],
   "source": [
    "df = df.join(df_oil, df_oil.date_oil == df_ibova.date_ibova)\n",
    "df = df.join(df_sp500, df_sp500.date_sp5 == df_ibova.date_ibova)\n",
    "df = df.join(df_us10y, df_us10y.date_us10 == df_ibova.date_ibova)\n",
    "df = df.join(df_usdbrl, df_usdbrl.date_usd == df_ibova.date_ibova)"
   ]
  },
  {
   "cell_type": "code",
   "execution_count": null,
   "metadata": {},
   "outputs": [],
   "source": [
    "df = df.select(\n",
    "\tcol('date_ibova').alias('date'),\n",
    "\tcol('open_ibova').alias('open_ibova'),\n",
    "\tcol('open_djt').alias('open_djt'),\n",
    "\tcol('open_oil').alias('open_oil'),\n",
    "\tcol('open_sp5').alias('open_sp5'),\n",
    "\t# col('open_us10').alias('open_us10'),\n",
    "\tcol('open_usd').alias('open_usd')\n",
    ")"
   ]
  },
  {
   "cell_type": "code",
   "execution_count": null,
   "metadata": {},
   "outputs": [],
   "source": [
    "ibova = df_ibova.count()\n",
    "oil = df_oil.count()\n",
    "sp500 = df_sp500.count()\n",
    "us10y = df_us10y.count()\n",
    "usdbrl = df_usdbrl.count()\n",
    "oil = df_oil.count()\n",
    "\n",
    "print(f'''\\b Controle: \n",
    "\tibova = {ibova}\n",
    "\toil = {oil}\n",
    "\tsp500 = {sp500}\n",
    "\tus10y = {us10y}\n",
    "\tusdbrl = {usdbrl} \n",
    "''')"
   ]
  }
 ],
 "metadata": {
  "language_info": {
   "name": "python"
  },
  "orig_nbformat": 4
 },
 "nbformat": 4,
 "nbformat_minor": 2
}
